{
 "cells": [
  {
   "cell_type": "code",
   "execution_count": 1,
   "metadata": {},
   "outputs": [],
   "source": [
    "import os \n",
    "import pandas as pd\n",
    "from ast import literal_eval"
   ]
  },
  {
   "cell_type": "code",
   "execution_count": 70,
   "metadata": {},
   "outputs": [],
   "source": [
    "from collections import Counter"
   ]
  },
  {
   "cell_type": "markdown",
   "metadata": {},
   "source": [
    "### File/dir locations"
   ]
  },
  {
   "cell_type": "code",
   "execution_count": 2,
   "metadata": {},
   "outputs": [
    {
     "data": {
      "text/plain": [
       "'/Users/felisialoukou/Documents/govuk-network-data/data/processed_journey/rel_preprocessed_taxon_pageseq_20190114_20190116.csv.gz'"
      ]
     },
     "execution_count": 2,
     "metadata": {},
     "output_type": "execute_result"
    }
   ],
   "source": [
    "DATA_DIR = os.getenv(\"DATA_DIR\")\n",
    "filename = \"preprocessed_taxon_pageseq_20190114_20190116.csv.gz\"\n",
    "# df_file = os.path.join(DATA_DIR, \"processed_journey\", filename)\n",
    "df_rel_file = os.path.join(DATA_DIR, \"processed_journey\", \"rel_\"+filename)\n",
    "df_rel_file"
   ]
  },
  {
   "cell_type": "markdown",
   "metadata": {},
   "source": [
    "### Load up unfiltered data: 14-16/01/19"
   ]
  },
  {
   "cell_type": "code",
   "execution_count": 3,
   "metadata": {},
   "outputs": [],
   "source": [
    "# df = pd.read_csv(df_file, sep=\"\\t\", compression = \"gzip\")\n",
    "# df.shape"
   ]
  },
  {
   "cell_type": "markdown",
   "metadata": {},
   "source": [
    "Original dataset shape (5048130, 17)"
   ]
  },
  {
   "cell_type": "markdown",
   "metadata": {},
   "source": [
    "### Prepare dataset: keep only journeys containing \"relatedLinkClicked\" event\n",
    "Requires further filtering because eventAction need to be \"Related link\" to avoid the inclusion of \"Explore the topic\" links."
   ]
  },
  {
   "cell_type": "code",
   "execution_count": 5,
   "metadata": {},
   "outputs": [],
   "source": [
    "# df_rel = df[df.Sequence.str.contains(\"relatedLinkClicked\")].copy(deep=True)\n",
    "# df_rel.to_csv(df_rel_file, sep=\"\\t\", compression = \"gzip\")"
   ]
  },
  {
   "cell_type": "markdown",
   "metadata": {},
   "source": [
    "### Evaluate journeys with related links"
   ]
  },
  {
   "cell_type": "code",
   "execution_count": 6,
   "metadata": {},
   "outputs": [],
   "source": [
    "df_rel = pd.read_csv(df_rel_file, sep=\"\\t\", compression = \"gzip\")"
   ]
  },
  {
   "cell_type": "code",
   "execution_count": 10,
   "metadata": {},
   "outputs": [],
   "source": [
    "df_rel.drop(\"Unnamed: 0\",axis=1,inplace=True)"
   ]
  },
  {
   "cell_type": "code",
   "execution_count": 14,
   "metadata": {},
   "outputs": [],
   "source": [
    "df_rel['Page_Seq_Occurrences'] = df_rel.groupby('PageSequence')['Occurrences'].transform('sum')"
   ]
  },
  {
   "cell_type": "code",
   "execution_count": 7,
   "metadata": {},
   "outputs": [
    {
     "data": {
      "text/plain": [
       "(592902, 18)"
      ]
     },
     "execution_count": 7,
     "metadata": {},
     "output_type": "execute_result"
    }
   ],
   "source": [
    "df_rel.shape"
   ]
  },
  {
   "cell_type": "code",
   "execution_count": 17,
   "metadata": {},
   "outputs": [
    {
     "data": {
      "text/html": [
       "<div>\n",
       "<style scoped>\n",
       "    .dataframe tbody tr th:only-of-type {\n",
       "        vertical-align: middle;\n",
       "    }\n",
       "\n",
       "    .dataframe tbody tr th {\n",
       "        vertical-align: top;\n",
       "    }\n",
       "\n",
       "    .dataframe thead th {\n",
       "        text-align: right;\n",
       "    }\n",
       "</style>\n",
       "<table border=\"1\" class=\"dataframe\">\n",
       "  <thead>\n",
       "    <tr style=\"text-align: right;\">\n",
       "      <th></th>\n",
       "      <th>Occurrences</th>\n",
       "      <th>DeviceCategories</th>\n",
       "      <th>PageSeq_Length</th>\n",
       "      <th>Actions_Length</th>\n",
       "      <th>Dates</th>\n",
       "      <th>Sequence</th>\n",
       "      <th>PageSequence</th>\n",
       "      <th>Page_Event_List</th>\n",
       "      <th>Page_List</th>\n",
       "      <th>Event_List</th>\n",
       "      <th>num_event_cats</th>\n",
       "      <th>Event_cats_agg</th>\n",
       "      <th>Event_cat_act_agg</th>\n",
       "      <th>Taxon_List</th>\n",
       "      <th>Taxon_Page_List</th>\n",
       "      <th>Page_List_NL</th>\n",
       "      <th>Page_Seq_NL</th>\n",
       "      <th>Page_Seq_Occurrences</th>\n",
       "    </tr>\n",
       "  </thead>\n",
       "  <tbody>\n",
       "    <tr>\n",
       "      <th>0</th>\n",
       "      <td>1</td>\n",
       "      <td>[('desktop', 1)]</td>\n",
       "      <td>19</td>\n",
       "      <td>36</td>\n",
       "      <td>[('20190114', 1)]</td>\n",
       "      <td>/limited-company-formation&lt;&lt;PAGE&lt;:&lt;NULL&lt;:&lt;NULL...</td>\n",
       "      <td>/limited-company-formation&gt;&gt;/government/public...</td>\n",
       "      <td>[('/limited-company-formation', 'PAGE&lt;:&lt;NULL&lt;:...</td>\n",
       "      <td>['/limited-company-formation', '/government/pu...</td>\n",
       "      <td>[('PAGE_NULL', 'PAGE_NULL'), ('user_satisfacti...</td>\n",
       "      <td>7</td>\n",
       "      <td>[('PAGE_NULL', 19), ('user_satisfaction_survey...</td>\n",
       "      <td>[(('PAGE_NULL', 'PAGE_NULL'), 19), (('user_sat...</td>\n",
       "      <td>['386180ca-4219-478e-8b80-a271dd5ce5f2,c3bc9a5...</td>\n",
       "      <td>[('/limited-company-formation', ('386180ca-421...</td>\n",
       "      <td>['/limited-company-formation', '/government/pu...</td>\n",
       "      <td>/limited-company-formation&gt;&gt;/government/public...</td>\n",
       "      <td>1.0</td>\n",
       "    </tr>\n",
       "    <tr>\n",
       "      <th>1</th>\n",
       "      <td>1</td>\n",
       "      <td>[('desktop', 1)]</td>\n",
       "      <td>38</td>\n",
       "      <td>73</td>\n",
       "      <td>[('20190114', 1)]</td>\n",
       "      <td>/browse/working/state-pension&lt;&lt;PAGE&lt;:&lt;NULL&lt;:&lt;N...</td>\n",
       "      <td>/browse/working/state-pension&gt;&gt;/state-pension-...</td>\n",
       "      <td>[('/browse/working/state-pension', 'PAGE&lt;:&lt;NUL...</td>\n",
       "      <td>['/browse/working/state-pension', '/state-pens...</td>\n",
       "      <td>[('PAGE_NULL', 'PAGE_NULL'), ('secondLevelBrow...</td>\n",
       "      <td>12</td>\n",
       "      <td>[('PAGE_NULL', 38), ('secondLevelBrowseLinkCli...</td>\n",
       "      <td>[(('PAGE_NULL', 'PAGE_NULL'), 38), (('secondLe...</td>\n",
       "      <td>['other', 'b90e86de-2b62-493f-b7dd-31b89ccc97f...</td>\n",
       "      <td>[('/browse/working/state-pension', ('other',))...</td>\n",
       "      <td>['/browse/working/state-pension', '/state-pens...</td>\n",
       "      <td>/browse/working/state-pension&gt;&gt;/state-pension-...</td>\n",
       "      <td>1.0</td>\n",
       "    </tr>\n",
       "    <tr>\n",
       "      <th>2</th>\n",
       "      <td>1</td>\n",
       "      <td>[('tablet', 1)]</td>\n",
       "      <td>32</td>\n",
       "      <td>50</td>\n",
       "      <td>[('20190114', 1)]</td>\n",
       "      <td>/browse/business/setting-up&lt;&lt;EVENT&lt;:&lt;user_sati...</td>\n",
       "      <td>/browse/business/setting-up&gt;&gt;/set-up-business&gt;...</td>\n",
       "      <td>[('/browse/business/setting-up', 'EVENT&lt;:&lt;user...</td>\n",
       "      <td>['/browse/business/setting-up', '/set-up-busin...</td>\n",
       "      <td>[('user_satisfaction_survey', 'banner_shown'),...</td>\n",
       "      <td>8</td>\n",
       "      <td>[('user_satisfaction_survey', 2), ('PAGE_NULL'...</td>\n",
       "      <td>[(('user_satisfaction_survey', 'banner_shown')...</td>\n",
       "      <td>['other', '172c9d39-445f-4501-b0b2-1d527cc7cab...</td>\n",
       "      <td>[('/browse/business/setting-up', ('other',)), ...</td>\n",
       "      <td>['/browse/business/setting-up', '/set-up-busin...</td>\n",
       "      <td>/browse/business/setting-up&gt;&gt;/set-up-business&gt;...</td>\n",
       "      <td>1.0</td>\n",
       "    </tr>\n",
       "    <tr>\n",
       "      <th>3</th>\n",
       "      <td>1</td>\n",
       "      <td>[('tablet', 1)]</td>\n",
       "      <td>24</td>\n",
       "      <td>49</td>\n",
       "      <td>[('20190114', 1)]</td>\n",
       "      <td>/self-assessment-tax-returns/sending-return&lt;&lt;P...</td>\n",
       "      <td>/self-assessment-tax-returns/sending-return&gt;&gt;/...</td>\n",
       "      <td>[('/self-assessment-tax-returns/sending-return...</td>\n",
       "      <td>['/self-assessment-tax-returns/sending-return'...</td>\n",
       "      <td>[('PAGE_NULL', 'PAGE_NULL'), ('contentsClicked...</td>\n",
       "      <td>12</td>\n",
       "      <td>[('PAGE_NULL', 24), ('contentsClicked', 3), ('...</td>\n",
       "      <td>[(('PAGE_NULL', 'PAGE_NULL'), 24), (('contents...</td>\n",
       "      <td>['104ee859-8278-406b-80cb-5727373e0198,3564cf4...</td>\n",
       "      <td>[('/self-assessment-tax-returns/sending-return...</td>\n",
       "      <td>['/self-assessment-tax-returns/sending-return'...</td>\n",
       "      <td>/self-assessment-tax-returns/sending-return&gt;&gt;/...</td>\n",
       "      <td>1.0</td>\n",
       "    </tr>\n",
       "    <tr>\n",
       "      <th>4</th>\n",
       "      <td>1</td>\n",
       "      <td>[('desktop', 1)]</td>\n",
       "      <td>13</td>\n",
       "      <td>28</td>\n",
       "      <td>[('20190114', 1)]</td>\n",
       "      <td>/government/organisations/hm-revenue-customs/c...</td>\n",
       "      <td>/government/organisations/hm-revenue-customs/c...</td>\n",
       "      <td>[('/government/organisations/hm-revenue-custom...</td>\n",
       "      <td>['/government/organisations/hm-revenue-customs...</td>\n",
       "      <td>[('PAGE_NULL', 'PAGE_NULL'), ('navFinderLinkCl...</td>\n",
       "      <td>11</td>\n",
       "      <td>[('PAGE_NULL', 13), ('navFinderLinkClicked', 1...</td>\n",
       "      <td>[(('PAGE_NULL', 'PAGE_NULL'), 13), (('navFinde...</td>\n",
       "      <td>['other', 'other', '5984199c-d85c-4ffc-b13a-c5...</td>\n",
       "      <td>[('/government/organisations/hm-revenue-custom...</td>\n",
       "      <td>['/government/organisations/hm-revenue-customs...</td>\n",
       "      <td>/government/organisations/hm-revenue-customs/c...</td>\n",
       "      <td>1.0</td>\n",
       "    </tr>\n",
       "  </tbody>\n",
       "</table>\n",
       "</div>"
      ],
      "text/plain": [
       "   Occurrences  DeviceCategories  PageSeq_Length  Actions_Length  \\\n",
       "0            1  [('desktop', 1)]              19              36   \n",
       "1            1  [('desktop', 1)]              38              73   \n",
       "2            1   [('tablet', 1)]              32              50   \n",
       "3            1   [('tablet', 1)]              24              49   \n",
       "4            1  [('desktop', 1)]              13              28   \n",
       "\n",
       "               Dates                                           Sequence  \\\n",
       "0  [('20190114', 1)]  /limited-company-formation<<PAGE<:<NULL<:<NULL...   \n",
       "1  [('20190114', 1)]  /browse/working/state-pension<<PAGE<:<NULL<:<N...   \n",
       "2  [('20190114', 1)]  /browse/business/setting-up<<EVENT<:<user_sati...   \n",
       "3  [('20190114', 1)]  /self-assessment-tax-returns/sending-return<<P...   \n",
       "4  [('20190114', 1)]  /government/organisations/hm-revenue-customs/c...   \n",
       "\n",
       "                                        PageSequence  \\\n",
       "0  /limited-company-formation>>/government/public...   \n",
       "1  /browse/working/state-pension>>/state-pension-...   \n",
       "2  /browse/business/setting-up>>/set-up-business>...   \n",
       "3  /self-assessment-tax-returns/sending-return>>/...   \n",
       "4  /government/organisations/hm-revenue-customs/c...   \n",
       "\n",
       "                                     Page_Event_List  \\\n",
       "0  [('/limited-company-formation', 'PAGE<:<NULL<:...   \n",
       "1  [('/browse/working/state-pension', 'PAGE<:<NUL...   \n",
       "2  [('/browse/business/setting-up', 'EVENT<:<user...   \n",
       "3  [('/self-assessment-tax-returns/sending-return...   \n",
       "4  [('/government/organisations/hm-revenue-custom...   \n",
       "\n",
       "                                           Page_List  \\\n",
       "0  ['/limited-company-formation', '/government/pu...   \n",
       "1  ['/browse/working/state-pension', '/state-pens...   \n",
       "2  ['/browse/business/setting-up', '/set-up-busin...   \n",
       "3  ['/self-assessment-tax-returns/sending-return'...   \n",
       "4  ['/government/organisations/hm-revenue-customs...   \n",
       "\n",
       "                                          Event_List  num_event_cats  \\\n",
       "0  [('PAGE_NULL', 'PAGE_NULL'), ('user_satisfacti...               7   \n",
       "1  [('PAGE_NULL', 'PAGE_NULL'), ('secondLevelBrow...              12   \n",
       "2  [('user_satisfaction_survey', 'banner_shown'),...               8   \n",
       "3  [('PAGE_NULL', 'PAGE_NULL'), ('contentsClicked...              12   \n",
       "4  [('PAGE_NULL', 'PAGE_NULL'), ('navFinderLinkCl...              11   \n",
       "\n",
       "                                      Event_cats_agg  \\\n",
       "0  [('PAGE_NULL', 19), ('user_satisfaction_survey...   \n",
       "1  [('PAGE_NULL', 38), ('secondLevelBrowseLinkCli...   \n",
       "2  [('user_satisfaction_survey', 2), ('PAGE_NULL'...   \n",
       "3  [('PAGE_NULL', 24), ('contentsClicked', 3), ('...   \n",
       "4  [('PAGE_NULL', 13), ('navFinderLinkClicked', 1...   \n",
       "\n",
       "                                   Event_cat_act_agg  \\\n",
       "0  [(('PAGE_NULL', 'PAGE_NULL'), 19), (('user_sat...   \n",
       "1  [(('PAGE_NULL', 'PAGE_NULL'), 38), (('secondLe...   \n",
       "2  [(('user_satisfaction_survey', 'banner_shown')...   \n",
       "3  [(('PAGE_NULL', 'PAGE_NULL'), 24), (('contents...   \n",
       "4  [(('PAGE_NULL', 'PAGE_NULL'), 13), (('navFinde...   \n",
       "\n",
       "                                          Taxon_List  \\\n",
       "0  ['386180ca-4219-478e-8b80-a271dd5ce5f2,c3bc9a5...   \n",
       "1  ['other', 'b90e86de-2b62-493f-b7dd-31b89ccc97f...   \n",
       "2  ['other', '172c9d39-445f-4501-b0b2-1d527cc7cab...   \n",
       "3  ['104ee859-8278-406b-80cb-5727373e0198,3564cf4...   \n",
       "4  ['other', 'other', '5984199c-d85c-4ffc-b13a-c5...   \n",
       "\n",
       "                                     Taxon_Page_List  \\\n",
       "0  [('/limited-company-formation', ('386180ca-421...   \n",
       "1  [('/browse/working/state-pension', ('other',))...   \n",
       "2  [('/browse/business/setting-up', ('other',)), ...   \n",
       "3  [('/self-assessment-tax-returns/sending-return...   \n",
       "4  [('/government/organisations/hm-revenue-custom...   \n",
       "\n",
       "                                        Page_List_NL  \\\n",
       "0  ['/limited-company-formation', '/government/pu...   \n",
       "1  ['/browse/working/state-pension', '/state-pens...   \n",
       "2  ['/browse/business/setting-up', '/set-up-busin...   \n",
       "3  ['/self-assessment-tax-returns/sending-return'...   \n",
       "4  ['/government/organisations/hm-revenue-customs...   \n",
       "\n",
       "                                         Page_Seq_NL  Page_Seq_Occurrences  \n",
       "0  /limited-company-formation>>/government/public...                   1.0  \n",
       "1  /browse/working/state-pension>>/state-pension-...                   1.0  \n",
       "2  /browse/business/setting-up>>/set-up-business>...                   1.0  \n",
       "3  /self-assessment-tax-returns/sending-return>>/...                   1.0  \n",
       "4  /government/organisations/hm-revenue-customs/c...                   1.0  "
      ]
     },
     "execution_count": 17,
     "metadata": {},
     "output_type": "execute_result"
    }
   ],
   "source": [
    "df_rel.head()"
   ]
  },
  {
   "cell_type": "code",
   "execution_count": 15,
   "metadata": {},
   "outputs": [],
   "source": [
    "occ_shape = df_rel[df_rel.Page_Seq_Occurrences==1].shape[0]"
   ]
  },
  {
   "cell_type": "code",
   "execution_count": 36,
   "metadata": {},
   "outputs": [
    {
     "data": {
      "text/plain": [
       "'85.21% of user journeys with all related links in 14-16/01 time period occur only once.'"
      ]
     },
     "execution_count": 36,
     "metadata": {},
     "output_type": "execute_result"
    }
   ],
   "source": [
    "\"{}% of user journeys with all related links in 14-16/01 time period occur only once.\".format(float('{:.6g}'.\n",
    "                                                                        format((occ_shape*100)/df_rel.shape[0])))"
   ]
  },
  {
   "cell_type": "markdown",
   "metadata": {},
   "source": [
    "### Keep only journeys that are interacting with the \"Related content\" links"
   ]
  },
  {
   "cell_type": "code",
   "execution_count": 40,
   "metadata": {},
   "outputs": [],
   "source": [
    "df_relc = df_rel[df_rel.Sequence.str.contains(\"Related content\")].copy(deep=True)"
   ]
  },
  {
   "cell_type": "code",
   "execution_count": 42,
   "metadata": {},
   "outputs": [],
   "source": [
    "relc_shape = df_relc.shape[0]"
   ]
  },
  {
   "cell_type": "code",
   "execution_count": 45,
   "metadata": {},
   "outputs": [
    {
     "data": {
      "text/plain": [
       "'66.75% of user journeys include only \"Related content\" links'"
      ]
     },
     "execution_count": 45,
     "metadata": {},
     "output_type": "execute_result"
    }
   ],
   "source": [
    "\"{}% of user journeys include only \\\"Related content\\\" links\".format(float('{:.4g}'.\n",
    "                                                                        format((relc_shape*100)/df_rel.shape[0])))"
   ]
  },
  {
   "cell_type": "code",
   "execution_count": 46,
   "metadata": {},
   "outputs": [
    {
     "data": {
      "text/plain": [
       "count    394602.000000\n",
       "mean         16.854377\n",
       "std         150.269932\n",
       "min           1.000000\n",
       "25%           1.000000\n",
       "50%           1.000000\n",
       "75%           1.000000\n",
       "max        5467.000000\n",
       "Name: Page_Seq_Occurrences, dtype: float64"
      ]
     },
     "execution_count": 46,
     "metadata": {},
     "output_type": "execute_result"
    }
   ],
   "source": [
    "df_relc.Page_Seq_Occurrences.describe()"
   ]
  },
  {
   "cell_type": "code",
   "execution_count": 59,
   "metadata": {},
   "outputs": [],
   "source": [
    "columns = ['DeviceCategories', 'Dates', 'Page_Event_List', 'Page_List', \n",
    "           'Event_List',  'Event_cats_agg', 'Event_cat_act_agg',\n",
    "           'Taxon_List', 'Taxon_Page_List', 'Page_List_NL']"
   ]
  },
  {
   "cell_type": "code",
   "execution_count": 69,
   "metadata": {},
   "outputs": [
    {
     "name": "stdout",
     "output_type": "stream",
     "text": [
      "DeviceCategories\n",
      "Dates\n",
      "Page_Event_List\n",
      "Page_List\n",
      "Event_List\n",
      "Event_cats_agg\n",
      "Event_cat_act_agg\n",
      "Taxon_List\n",
      "Taxon_Page_List\n",
      "Page_List_NL\n"
     ]
    }
   ],
   "source": [
    "for column in columns:\n",
    "    print(column)\n",
    "    if not isinstance(df_relc[column].iloc[0],list):\n",
    "        df_relc[column] = df_relc[column].map(literal_eval)"
   ]
  },
  {
   "cell_type": "markdown",
   "metadata": {},
   "source": [
    "### Compute device category frequency counts over all journeys"
   ]
  },
  {
   "cell_type": "code",
   "execution_count": 71,
   "metadata": {},
   "outputs": [],
   "source": [
    "devices = Counter()\n",
    "for item in df_relc.DeviceCategories.values:\n",
    "    for key,value in item:\n",
    "        devices[key]+=value"
   ]
  },
  {
   "cell_type": "code",
   "execution_count": null,
   "metadata": {},
   "outputs": [],
   "source": []
  }
 ],
 "metadata": {
  "kernelspec": {
   "display_name": "Python 3",
   "language": "python",
   "name": "python3"
  },
  "language_info": {
   "codemirror_mode": {
    "name": "ipython",
    "version": 3
   },
   "file_extension": ".py",
   "mimetype": "text/x-python",
   "name": "python",
   "nbconvert_exporter": "python",
   "pygments_lexer": "ipython3",
   "version": "3.6.0"
  }
 },
 "nbformat": 4,
 "nbformat_minor": 2
}
