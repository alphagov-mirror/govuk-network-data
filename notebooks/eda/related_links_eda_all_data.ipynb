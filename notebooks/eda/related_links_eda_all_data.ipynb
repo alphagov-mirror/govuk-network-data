{
 "cells": [
  {
   "cell_type": "code",
   "execution_count": 1,
   "metadata": {},
   "outputs": [],
   "source": [
    "import os \n",
    "import pandas as pd\n",
    "import numpy as np\n",
    "from ast import literal_eval\n",
    "from collections import Counter\n",
    "from operator import itemgetter"
   ]
  },
  {
   "cell_type": "markdown",
   "metadata": {},
   "source": [
    "### File/dir locations"
   ]
  },
  {
   "cell_type": "code",
   "execution_count": 3,
   "metadata": {},
   "outputs": [],
   "source": [
    "DATA_DIR = os.getenv(\"DATA_DIR\")\n",
    "filename = \"preprocessed_taxon_pageseq_20190114_20190116.csv.gz\"\n",
    "df_file = os.path.join(DATA_DIR, \"processed_journey\", filename)\n",
    "df_rel_file = os.path.join(DATA_DIR, \"processed_journey\", \"rel_\"+filename)"
   ]
  },
  {
   "cell_type": "markdown",
   "metadata": {},
   "source": [
    "### Load up unfiltered data: 14-16/01/19"
   ]
  },
  {
   "cell_type": "code",
   "execution_count": 6,
   "metadata": {},
   "outputs": [
    {
     "data": {
      "text/plain": [
       "(5048130, 17)"
      ]
     },
     "execution_count": 6,
     "metadata": {},
     "output_type": "execute_result"
    }
   ],
   "source": [
    "df = pd.read_csv(df_file, sep=\"\\t\", compression = \"gzip\")\n",
    "df.shape"
   ]
  },
  {
   "cell_type": "code",
   "execution_count": 7,
   "metadata": {},
   "outputs": [
    {
     "data": {
      "text/plain": [
       "Index(['Occurrences', 'DeviceCategories', 'PageSeq_Length', 'Actions_Length',\n",
       "       'Dates', 'Sequence', 'PageSequence', 'Page_Event_List', 'Page_List',\n",
       "       'Event_List', 'num_event_cats', 'Event_cats_agg', 'Event_cat_act_agg',\n",
       "       'Taxon_List', 'Taxon_Page_List', 'Page_List_NL', 'Page_Seq_NL'],\n",
       "      dtype='object')"
      ]
     },
     "execution_count": 7,
     "metadata": {},
     "output_type": "execute_result"
    }
   ],
   "source": [
    "df.columns"
   ]
  },
  {
   "cell_type": "markdown",
   "metadata": {},
   "source": [
    "Original dataset shape (5048130, 17)"
   ]
  },
  {
   "cell_type": "code",
   "execution_count": 8,
   "metadata": {},
   "outputs": [],
   "source": [
    "df.drop(['Dates','Page_List', 'Event_List', 'Taxon_List', 'Taxon_Page_List', 'Page_List_NL'],axis=1,inplace=True)"
   ]
  },
  {
   "cell_type": "code",
   "execution_count": 9,
   "metadata": {},
   "outputs": [],
   "source": [
    "df.to_csv(\"reduced_\"+filename, compression=\"gzip\", index=False)"
   ]
  },
  {
   "cell_type": "code",
   "execution_count": 10,
   "metadata": {},
   "outputs": [
    {
     "data": {
      "text/plain": [
       "15053255"
      ]
     },
     "execution_count": 10,
     "metadata": {},
     "output_type": "execute_result"
    }
   ],
   "source": [
    "## Total volume of traffic\n",
    "df.Occurrences.sum()"
   ]
  },
  {
   "cell_type": "code",
   "execution_count": 13,
   "metadata": {},
   "outputs": [],
   "source": [
    "def column_eval(cols):\n",
    "    for column in cols:\n",
    "        if not isinstance(df[column].iloc[0],list):\n",
    "            print(column)\n",
    "            df[column] = df[column].map(literal_eval)"
   ]
  },
  {
   "cell_type": "markdown",
   "metadata": {},
   "source": [
    "### Out of all journeys, what is the % (volume, sum of Occurrences) of journeys including \"related content\" link clicks?\n",
    "From previous analysis, I want to say roughly 10%, but let's verify that"
   ]
  },
  {
   "cell_type": "code",
   "execution_count": 18,
   "metadata": {},
   "outputs": [
    {
     "data": {
      "text/plain": [
       "(395777, 11)"
      ]
     },
     "execution_count": 18,
     "metadata": {},
     "output_type": "execute_result"
    }
   ],
   "source": [
    "df[(df.Sequence.str.contains(\"Related content\")) & (df.Sequence.str.contains(\"relatedLinkClicked\"))].shape"
   ]
  },
  {
   "cell_type": "code",
   "execution_count": null,
   "metadata": {},
   "outputs": [],
   "source": [
    "# df_relc = df_rel[df_rel.Sequence.str.contains(\"Related content\")].copy(deep=True)\n",
    "## Sum of occurrences of journeys including \"related content\" link clicks (excluding \"explore this topic ones\")\n",
    "# relc_shape = df_relc.shape[0] = 395777"
   ]
  },
  {
   "cell_type": "code",
   "execution_count": 19,
   "metadata": {},
   "outputs": [
    {
     "data": {
      "text/plain": [
       "3.15"
      ]
     },
     "execution_count": 19,
     "metadata": {},
     "output_type": "execute_result"
    }
   ],
   "source": [
    "round((473975*100)/df.Occurrences.sum(),2)"
   ]
  },
  {
   "cell_type": "code",
   "execution_count": 21,
   "metadata": {},
   "outputs": [
    {
     "name": "stdout",
     "output_type": "stream",
     "text": [
      "Page_Event_List\n",
      "DeviceCategories\n",
      "Event_cats_agg\n",
      "Event_cat_act_agg\n"
     ]
    }
   ],
   "source": [
    "columns = ['Page_Event_List', 'DeviceCategories', 'Event_cats_agg', 'Event_cat_act_agg']\n",
    "column_eval(columns)"
   ]
  },
  {
   "cell_type": "markdown",
   "metadata": {},
   "source": [
    "Run this at some point to compare against \"related content\" link-specific dataset. \n",
    "There seems to be an indication that there are no major differences"
   ]
  },
  {
   "cell_type": "code",
   "execution_count": null,
   "metadata": {},
   "outputs": [],
   "source": [
    "# og_df_devices = Counter()\n",
    "# for item in df.DeviceCategories.values:\n",
    "#     for key,value in item:\n",
    "#         og_df_devices[key]+=value"
   ]
  },
  {
   "cell_type": "markdown",
   "metadata": {},
   "source": [
    "### Out of all journeys coming from mobiles vs desktops, what is the % (volume, sum of Occurrences) of journeys including \"related content\" link clicks?"
   ]
  },
  {
   "cell_type": "code",
   "execution_count": 14,
   "metadata": {},
   "outputs": [],
   "source": [
    "def more_device(x,device):\n",
    "    return max(x,key=itemgetter(1))[0]==device \n",
    "def device_count(x,device):\n",
    "    return sum([value for item, value in x if item==device])      "
   ]
  },
  {
   "cell_type": "code",
   "execution_count": 22,
   "metadata": {},
   "outputs": [],
   "source": [
    "df[\"DesktopCount\"] = df['DeviceCategories'].map(lambda x: device_count(x,\"desktop\"))\n",
    "df[\"MobileCount\"] = df['DeviceCategories'].map(lambda x: device_count(x,\"mobile\"))        "
   ]
  },
  {
   "cell_type": "code",
   "execution_count": 23,
   "metadata": {},
   "outputs": [
    {
     "data": {
      "text/plain": [
       "count    5.048130e+06\n",
       "mean     1.544602e+00\n",
       "std      1.329323e+02\n",
       "min      0.000000e+00\n",
       "25%      0.000000e+00\n",
       "50%      1.000000e+00\n",
       "75%      1.000000e+00\n",
       "max      1.486640e+05\n",
       "Name: DesktopCount, dtype: float64"
      ]
     },
     "execution_count": 23,
     "metadata": {},
     "output_type": "execute_result"
    }
   ],
   "source": [
    "df[\"DesktopCount\"].describe()"
   ]
  },
  {
   "cell_type": "markdown",
   "metadata": {},
   "source": [
    "### Traffic volume"
   ]
  },
  {
   "cell_type": "code",
   "execution_count": null,
   "metadata": {},
   "outputs": [],
   "source": [
    "### Test implementation"
   ]
  },
  {
   "cell_type": "code",
   "execution_count": 29,
   "metadata": {},
   "outputs": [],
   "source": [
    "related = df[(df.Sequence.str.contains(\"Related content\")) & (df.Sequence.str.contains(\"relatedLinkClicked\"))].iloc[0]"
   ]
  },
  {
   "cell_type": "code",
   "execution_count": 37,
   "metadata": {},
   "outputs": [],
   "source": [
    "explore = df[~(df.Sequence.str.contains(\"Related content\")) & (df.Sequence.str.contains(\"relatedLinkClicked\"))].iloc[0]"
   ]
  },
  {
   "cell_type": "code",
   "execution_count": 30,
   "metadata": {},
   "outputs": [
    {
     "data": {
      "text/plain": [
       "Occurrences                                                          1\n",
       "DeviceCategories                                        [(desktop, 1)]\n",
       "PageSeq_Length                                                      38\n",
       "Actions_Length                                                      73\n",
       "Sequence             /browse/working/state-pension<<PAGE<:<NULL<:<N...\n",
       "PageSequence         /browse/working/state-pension>>/state-pension-...\n",
       "Page_Event_List      [(/browse/working/state-pension, PAGE<:<NULL<:...\n",
       "num_event_cats                                                      12\n",
       "Event_cats_agg       [(PAGE_NULL, 38), (secondLevelBrowseLinkClicke...\n",
       "Event_cat_act_agg    [((PAGE_NULL, PAGE_NULL), 38), ((secondLevelBr...\n",
       "Page_Seq_NL          /browse/working/state-pension>>/state-pension-...\n",
       "DesktopCount                                                         1\n",
       "MobileCount                                                          0\n",
       "Name: 4, dtype: object"
      ]
     },
     "execution_count": 30,
     "metadata": {},
     "output_type": "execute_result"
    }
   ],
   "source": [
    "related"
   ]
  },
  {
   "cell_type": "code",
   "execution_count": 38,
   "metadata": {},
   "outputs": [
    {
     "data": {
      "text/plain": [
       "Occurrences                                                          1\n",
       "DeviceCategories                                        [(desktop, 1)]\n",
       "PageSeq_Length                                                      19\n",
       "Actions_Length                                                      36\n",
       "Sequence             /limited-company-formation<<PAGE<:<NULL<:<NULL...\n",
       "PageSequence         /limited-company-formation>>/government/public...\n",
       "Page_Event_List      [(/limited-company-formation, PAGE<:<NULL<:<NU...\n",
       "num_event_cats                                                       7\n",
       "Event_cats_agg       [(PAGE_NULL, 19), (user_satisfaction_survey, 2...\n",
       "Event_cat_act_agg    [((PAGE_NULL, PAGE_NULL), 19), ((user_satisfac...\n",
       "Page_Seq_NL          /limited-company-formation>>/government/public...\n",
       "DesktopCount                                                         1\n",
       "MobileCount                                                          0\n",
       "Name: 1, dtype: object"
      ]
     },
     "execution_count": 38,
     "metadata": {},
     "output_type": "execute_result"
    }
   ],
   "source": [
    "explore"
   ]
  },
  {
   "cell_type": "code",
   "execution_count": 40,
   "metadata": {},
   "outputs": [
    {
     "data": {
      "text/plain": [
       "[(('PAGE_NULL', 'PAGE_NULL'), 19),\n",
       " (('user_satisfaction_survey', 'banner_shown'), 2),\n",
       " (('External Link Clicked', 'http://resources.companieshouse.gov.uk/sic'), 3),\n",
       " (('Download Link Clicked',\n",
       "   '/government/uploads/system/uploads/attachment_data/file/527619/SIC07_CH_condensed_list_en.csv/preview'),\n",
       "  1),\n",
       " (('contentsClicked', 'content_item 3'), 1),\n",
       " (('contentsClicked', 'previous'), 1),\n",
       " (('contentsClicked', 'next'), 4),\n",
       " (('contentsClicked', 'content_item 4'), 1),\n",
       " (('relatedLinkClicked', '1.1 Collection'), 1),\n",
       " (('navDocumentCollectionLinkClicked', '2.1'), 1),\n",
       " (('Download Link Clicked',\n",
       "   '/government/uploads/system/uploads/attachment_data/file/298358/pro_forma_of_ca_2006_memorandum_for_a_company_without_a_share_capital.pdf'),\n",
       "  1),\n",
       " (('External Link Clicked',\n",
       "   'https://www.tax.service.gov.uk/register-your-company/setting-up-new-limited-company'),\n",
       "  1)]"
      ]
     },
     "execution_count": 40,
     "metadata": {},
     "output_type": "execute_result"
    }
   ],
   "source": [
    "explore.Event_cat_act_agg"
   ]
  },
  {
   "cell_type": "code",
   "execution_count": null,
   "metadata": {},
   "outputs": [],
   "source": [
    "#### Function to compute whether a journey includes a related link click"
   ]
  },
  {
   "cell_type": "code",
   "execution_count": 41,
   "metadata": {},
   "outputs": [],
   "source": [
    "def is_related(x):\n",
    "    return all(cond in x for cond in [\"relatedLinkClicked\",\"Related content\"])"
   ]
  },
  {
   "cell_type": "code",
   "execution_count": 42,
   "metadata": {},
   "outputs": [
    {
     "name": "stdout",
     "output_type": "stream",
     "text": [
      "True\n",
      "False\n",
      "False\n"
     ]
    }
   ],
   "source": [
    "print(is_related(related.Sequence))\n",
    "print(is_related(df.Sequence.iloc[0]))\n",
    "print(is_related(explore))"
   ]
  },
  {
   "cell_type": "code",
   "execution_count": 43,
   "metadata": {},
   "outputs": [],
   "source": [
    "df[\"Has_Related\"] = df[\"Sequence\"].map(is_related)"
   ]
  },
  {
   "cell_type": "code",
   "execution_count": 45,
   "metadata": {},
   "outputs": [
    {
     "data": {
      "text/plain": [
       "473975"
      ]
     },
     "execution_count": 45,
     "metadata": {},
     "output_type": "execute_result"
    }
   ],
   "source": [
    "df[df[\"Has_Related\"]].Occurrences.sum()"
   ]
  },
  {
   "cell_type": "markdown",
   "metadata": {},
   "source": [
    "### Journeys per device\n",
    "Counter({'desktop': 256791, 'tablet': 55546, 'mobile': 161638})"
   ]
  },
  {
   "cell_type": "code",
   "execution_count": 56,
   "metadata": {},
   "outputs": [],
   "source": [
    "## Number of journeys coming from desktops\n",
    "vol_desk = df[\"DesktopCount\"].sum()"
   ]
  },
  {
   "cell_type": "code",
   "execution_count": 55,
   "metadata": {},
   "outputs": [],
   "source": [
    "## Number of journeys coming from mobiles\n",
    "vol_mobile = df[\"MobileCount\"].sum()"
   ]
  },
  {
   "cell_type": "code",
   "execution_count": 46,
   "metadata": {},
   "outputs": [],
   "source": [
    "desktop_journeys = df[df.DesktopCount>0].copy(deep=True)\n",
    "mobile_journeys = df[df.MobileCount>0].copy(deep=True)"
   ]
  },
  {
   "cell_type": "code",
   "execution_count": 53,
   "metadata": {},
   "outputs": [],
   "source": [
    "vol_desk_rel = desktop_journeys[desktop_journeys.Has_Related].DesktopCount.sum()"
   ]
  },
  {
   "cell_type": "code",
   "execution_count": 54,
   "metadata": {},
   "outputs": [],
   "source": [
    "vol_mobile_rel = mobile_journeys[mobile_journeys.Has_Related].MobileCount.sum()"
   ]
  },
  {
   "cell_type": "code",
   "execution_count": 59,
   "metadata": {},
   "outputs": [
    {
     "data": {
      "text/plain": [
       "3.29"
      ]
     },
     "execution_count": 59,
     "metadata": {},
     "output_type": "execute_result"
    }
   ],
   "source": [
    "round((vol_desk_rel*100)/vol_desk,2)"
   ]
  },
  {
   "cell_type": "code",
   "execution_count": 58,
   "metadata": {},
   "outputs": [
    {
     "data": {
      "text/plain": [
       "2.67"
      ]
     },
     "execution_count": 58,
     "metadata": {},
     "output_type": "execute_result"
    }
   ],
   "source": [
    "round((vol_mobile_rel*100)/vol_mobile,2)"
   ]
  },
  {
   "cell_type": "code",
   "execution_count": null,
   "metadata": {},
   "outputs": [],
   "source": []
  }
 ],
 "metadata": {
  "kernelspec": {
   "display_name": "Python 3",
   "language": "python",
   "name": "python3"
  },
  "language_info": {
   "codemirror_mode": {
    "name": "ipython",
    "version": 3
   },
   "file_extension": ".py",
   "mimetype": "text/x-python",
   "name": "python",
   "nbconvert_exporter": "python",
   "pygments_lexer": "ipython3",
   "version": "3.6.0"
  }
 },
 "nbformat": 4,
 "nbformat_minor": 2
}
