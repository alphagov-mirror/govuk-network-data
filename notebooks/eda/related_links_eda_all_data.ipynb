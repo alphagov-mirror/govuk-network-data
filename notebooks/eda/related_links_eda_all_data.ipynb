{
 "cells": [
  {
   "cell_type": "code",
   "execution_count": 1,
   "metadata": {},
   "outputs": [],
   "source": [
    "import os \n",
    "import pandas as pd\n",
    "import numpy as np\n",
    "from ast import literal_eval\n",
    "from collections import Counter\n",
    "from operator import itemgetter"
   ]
  },
  {
   "cell_type": "markdown",
   "metadata": {},
   "source": [
    "### File/dir locations"
   ]
  },
  {
   "cell_type": "code",
   "execution_count": 3,
   "metadata": {},
   "outputs": [],
   "source": [
    "DATA_DIR = os.getenv(\"DATA_DIR\")\n",
    "filename = \"preprocessed_taxon_pageseq_20190114_20190116.csv.gz\"\n",
    "df_file = os.path.join(DATA_DIR, \"processed_journey\", filename)\n",
    "df_rel_file = os.path.join(DATA_DIR, \"processed_journey\", \"rel_\"+filename)"
   ]
  },
  {
   "cell_type": "markdown",
   "metadata": {},
   "source": [
    "### Load up unfiltered data: 14-16/01/19"
   ]
  },
  {
   "cell_type": "code",
   "execution_count": null,
   "metadata": {},
   "outputs": [],
   "source": [
    "df = pd.read_csv(df_file, sep=\"\\t\", compression = \"gzip\")\n",
    "df.shape"
   ]
  },
  {
   "cell_type": "code",
   "execution_count": null,
   "metadata": {},
   "outputs": [],
   "source": [
    "df.columns"
   ]
  },
  {
   "cell_type": "markdown",
   "metadata": {},
   "source": [
    "Original dataset shape (5048130, 17)"
   ]
  },
  {
   "cell_type": "code",
   "execution_count": null,
   "metadata": {},
   "outputs": [],
   "source": [
    "df.drop(['Dates','Page_List', 'Event_List', 'Taxon_List', 'Taxon_Page_List', 'Page_List_NL'],axis=1,inplace=True)"
   ]
  },
  {
   "cell_type": "code",
   "execution_count": null,
   "metadata": {},
   "outputs": [],
   "source": [
    "df.to_csv(\"reduced_\"+filename, compression=\"gzip\", index=False)"
   ]
  },
  {
   "cell_type": "code",
   "execution_count": null,
   "metadata": {},
   "outputs": [],
   "source": [
    "## Volume of traffic\n",
    "df.Occurrences.sum()"
   ]
  },
  {
   "cell_type": "code",
   "execution_count": null,
   "metadata": {},
   "outputs": [],
   "source": [
    "def column_eval(cols):\n",
    "    for column in cols:\n",
    "    print(column)\n",
    "    if not isinstance(df[column].iloc[0],list):\n",
    "        df[column] = df[column].map(literal_eval)"
   ]
  },
  {
   "cell_type": "code",
   "execution_count": null,
   "metadata": {},
   "outputs": [],
   "source": [
    "columns = ['Page_Event_List', 'DeviceCategories', 'Event_cats_agg', 'Event_cat_act_agg',]\n",
    "column_eval(columns)"
   ]
  },
  {
   "cell_type": "markdown",
   "metadata": {},
   "source": [
    "Run this at some point to compare against \"related content\" link-specific dataset. \n",
    "There seems to be an indication that there are no major differences"
   ]
  },
  {
   "cell_type": "code",
   "execution_count": null,
   "metadata": {},
   "outputs": [],
   "source": [
    "# og_df_devices = Counter()\n",
    "# for item in df.DeviceCategories.values:\n",
    "#     for key,value in item:\n",
    "#         og_df_devices[key]+=value"
   ]
  },
  {
   "cell_type": "code",
   "execution_count": null,
   "metadata": {},
   "outputs": [],
   "source": [
    "def more_device(x,device):\n",
    "    return max(x,key=itemgetter(1))[0]==device \n",
    "def device_count(x,device):\n",
    "    return sum([value for item, value in x if item==device])      "
   ]
  },
  {
   "cell_type": "code",
   "execution_count": null,
   "metadata": {},
   "outputs": [],
   "source": [
    "df[\"DesktopCount\"] = df['DeviceCategories'].map(lambda x: device_count(x,\"desktop\"))\n",
    "df[\"MobileCount\"] = df['DeviceCategories'].map(lambda x: device_count(x,\"mobile\"))        "
   ]
  },
  {
   "cell_type": "markdown",
   "metadata": {},
   "source": [
    "### Out of all journeys, what is the % (volume, sum of Occurrences) of journeys including \"related content\" link clicks?\n",
    "From previous analysis, I want to say roughly 10%, but let's verify that"
   ]
  },
  {
   "cell_type": "code",
   "execution_count": null,
   "metadata": {},
   "outputs": [],
   "source": [
    "# df_relc = df_rel[df_rel.Sequence.str.contains(\"Related content\")].copy(deep=True)\n",
    "## Sum of occurrences of journeys including \"related content\" link clicks (excluding \"explore this topic ones\")"
   ]
  },
  {
   "cell_type": "code",
   "execution_count": null,
   "metadata": {},
   "outputs": [],
   "source": [
    "(444000*100)/df.Occurrences.sum()"
   ]
  },
  {
   "cell_type": "markdown",
   "metadata": {},
   "source": [
    "### Out of all journeys coming from mobiles/desktops, what is the % (volume, sum of Occurrences) of journeys including \"related content\" link clicks?"
   ]
  },
  {
   "cell_type": "code",
   "execution_count": null,
   "metadata": {},
   "outputs": [],
   "source": [
    "df[\"MoreDesktops\"] = df['DeviceCategories'].map(lambda x: more_device(x,\"desktop\"))"
   ]
  }
 ],
 "metadata": {
  "kernelspec": {
   "display_name": "Python 3",
   "language": "python",
   "name": "python3"
  },
  "language_info": {
   "codemirror_mode": {
    "name": "ipython",
    "version": 3
   },
   "file_extension": ".py",
   "mimetype": "text/x-python",
   "name": "python",
   "nbconvert_exporter": "python",
   "pygments_lexer": "ipython3",
   "version": "3.6.0"
  }
 },
 "nbformat": 4,
 "nbformat_minor": 2
}
