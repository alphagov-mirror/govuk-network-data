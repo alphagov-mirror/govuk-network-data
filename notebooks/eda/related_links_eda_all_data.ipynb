{
 "cells": [
  {
   "cell_type": "code",
   "execution_count": 10,
   "metadata": {},
   "outputs": [],
   "source": [
    "import os \n",
    "import pandas as pd\n",
    "import numpy as np\n",
    "from ast import literal_eval\n",
    "from collections import Counter\n",
    "from operator import itemgetter"
   ]
  },
  {
   "cell_type": "markdown",
   "metadata": {},
   "source": [
    "## 1. Read in data/drop columns to reduce size"
   ]
  },
  {
   "cell_type": "code",
   "execution_count": 11,
   "metadata": {},
   "outputs": [],
   "source": [
    "DATA_DIR = os.getenv(\"DATA_DIR\")\n",
    "filename = \"preprocessed_taxon_pageseq_20190114_20190116.csv.gz\"\n",
    "df_file = os.path.join(DATA_DIR, \"processed_journey\", filename)\n",
    "df_reduced_file = os.path.join(DATA_DIR, \"processed_journey\", \"reduced_\"+filename)\n",
    "# df_rel_file = os.path.join(DATA_DIR, \"processed_journey\", \"rel_\"+filename)"
   ]
  },
  {
   "cell_type": "markdown",
   "metadata": {},
   "source": [
    "### Load up unfiltered data: 14-16/01/19, one off run"
   ]
  },
  {
   "cell_type": "markdown",
   "metadata": {},
   "source": [
    "Original dataset shape (5048130, 17)"
   ]
  },
  {
   "cell_type": "code",
   "execution_count": 12,
   "metadata": {},
   "outputs": [],
   "source": [
    "# df = pd.read_csv(df_file, sep=\"\\t\", compression = \"gzip\")\n",
    "# print(df.shape)\n",
    "# df.drop(['Dates', 'Page_List', 'Event_List', 'Taxon_List', 'Taxon_Page_List', 'Page_List_NL'],axis=1,inplace=True)\n",
    "# df.to_csv(df_reduced_file, sep=\"\\t\", compression=\"gzip\", index=False)"
   ]
  },
  {
   "cell_type": "markdown",
   "metadata": {},
   "source": [
    "## 2. User journey analysis"
   ]
  },
  {
   "cell_type": "code",
   "execution_count": null,
   "metadata": {},
   "outputs": [],
   "source": [
    "df = pd.read_csv(df_reduced_file, sep=\"\\t\", compression=\"gzip\")"
   ]
  },
  {
   "cell_type": "code",
   "execution_count": null,
   "metadata": {},
   "outputs": [],
   "source": [
    "## Total volume of traffic\n",
    "df.Occurrences.sum()"
   ]
  },
  {
   "cell_type": "code",
   "execution_count": null,
   "metadata": {},
   "outputs": [],
   "source": [
    "def column_eval(cols):\n",
    "    for column in cols:\n",
    "        if not isinstance(df[column].iloc[0],list):\n",
    "            print(column)\n",
    "            df[column] = df[column].map(literal_eval)"
   ]
  },
  {
   "cell_type": "code",
   "execution_count": null,
   "metadata": {},
   "outputs": [],
   "source": [
    "columns = ['Page_Event_List', 'DeviceCategories', 'Event_cats_agg', 'Event_cat_act_agg']\n",
    "column_eval(columns)"
   ]
  },
  {
   "cell_type": "markdown",
   "metadata": {},
   "source": [
    "### 2.1 Out of all journeys, what is the % (volume, sum of Occurrences) of journeys including \"related content\" link clicks?"
   ]
  },
  {
   "cell_type": "code",
   "execution_count": null,
   "metadata": {},
   "outputs": [],
   "source": [
    "df[(df.Sequence.str.contains(\"Related content\")) & (df.Sequence.str.contains(\"relatedLinkClicked\"))].shape"
   ]
  },
  {
   "cell_type": "code",
   "execution_count": null,
   "metadata": {},
   "outputs": [],
   "source": [
    "\"{}% of journeys that contain a \\\"related link\\\" click\".format(round((473975*100)/df.Occurrences.sum(),2))"
   ]
  },
  {
   "cell_type": "markdown",
   "metadata": {},
   "source": [
    "Run this at some point to compare against \"related content\" link-specific dataset. \n",
    "There seems to be an indication that there are no major differences"
   ]
  },
  {
   "cell_type": "markdown",
   "metadata": {},
   "source": [
    "### 2.2 Out of all journeys coming from mobiles vs desktops, what is the % (volume, sum of Occurrences) of journeys including \"related content\" link clicks?"
   ]
  },
  {
   "cell_type": "code",
   "execution_count": null,
   "metadata": {},
   "outputs": [],
   "source": [
    "def more_device(x,device):\n",
    "    return max(x,key=itemgetter(1))[0]==device \n",
    "def device_count(x,device):\n",
    "    return sum([value for item, value in x if item==device])      "
   ]
  },
  {
   "cell_type": "code",
   "execution_count": null,
   "metadata": {},
   "outputs": [],
   "source": [
    "df[\"DesktopCount\"] = df['DeviceCategories'].map(lambda x: device_count(x,\"desktop\"))\n",
    "df[\"MobileCount\"] = df['DeviceCategories'].map(lambda x: device_count(x,\"mobile\"))        "
   ]
  },
  {
   "cell_type": "code",
   "execution_count": null,
   "metadata": {},
   "outputs": [],
   "source": [
    "df[\"TabletCount\"] = df['DeviceCategories'].map(lambda x: device_count(x,\"tablet\"))        "
   ]
  },
  {
   "cell_type": "code",
   "execution_count": null,
   "metadata": {},
   "outputs": [],
   "source": [
    "df[\"DesktopCount\"].describe()"
   ]
  },
  {
   "cell_type": "markdown",
   "metadata": {},
   "source": [
    "### 2.3 Traffic volume\n",
    "#### Test implementation"
   ]
  },
  {
   "cell_type": "code",
   "execution_count": null,
   "metadata": {},
   "outputs": [],
   "source": [
    "related = df[(df.Sequence.str.contains(\"Related content\")) & (df.Sequence.str.contains(\"relatedLinkClicked\"))].iloc[0]"
   ]
  },
  {
   "cell_type": "code",
   "execution_count": null,
   "metadata": {},
   "outputs": [],
   "source": [
    "related"
   ]
  },
  {
   "cell_type": "code",
   "execution_count": null,
   "metadata": {},
   "outputs": [],
   "source": [
    "explore = df[~(df.Sequence.str.contains(\"Related content\")) & (df.Sequence.str.contains(\"relatedLinkClicked\"))].iloc[0]"
   ]
  },
  {
   "cell_type": "code",
   "execution_count": null,
   "metadata": {},
   "outputs": [],
   "source": [
    "explore"
   ]
  },
  {
   "cell_type": "code",
   "execution_count": null,
   "metadata": {},
   "outputs": [],
   "source": [
    "explore.Event_cat_act_agg"
   ]
  },
  {
   "cell_type": "code",
   "execution_count": null,
   "metadata": {},
   "outputs": [],
   "source": [
    "#Compute whether a journey includes a related link click\n",
    "def is_related(x):\n",
    "    return all(cond in x for cond in [\"relatedLinkClicked\",\"Related content\"])"
   ]
  },
  {
   "cell_type": "code",
   "execution_count": null,
   "metadata": {},
   "outputs": [],
   "source": [
    "print(is_related(related.Sequence))\n",
    "print(is_related(df.Sequence.iloc[0]))\n",
    "print(is_related(explore))"
   ]
  },
  {
   "cell_type": "code",
   "execution_count": null,
   "metadata": {},
   "outputs": [],
   "source": [
    "df[\"Has_Related\"] = df[\"Sequence\"].map(is_related)"
   ]
  },
  {
   "cell_type": "code",
   "execution_count": null,
   "metadata": {},
   "outputs": [],
   "source": [
    "df[df[\"Has_Related\"]].Occurrences.sum()"
   ]
  },
  {
   "cell_type": "markdown",
   "metadata": {},
   "source": [
    "### 2.4 Journeys per device\n",
    "Counter({'desktop': 256791, 'tablet': 55546, 'mobile': 161638})"
   ]
  },
  {
   "cell_type": "code",
   "execution_count": null,
   "metadata": {},
   "outputs": [],
   "source": [
    "## Number of journeys coming from desktops\n",
    "vol_desk = df[\"DesktopCount\"].sum()\n",
    "\"{}% of journeys come from a desktop\".format(round((vol_desk*100)/df.Occurrences.sum(),2))"
   ]
  },
  {
   "cell_type": "code",
   "execution_count": null,
   "metadata": {},
   "outputs": [],
   "source": [
    "## Number of journeys coming from mobiles\n",
    "vol_mobile = df[\"MobileCount\"].sum()\n",
    "\"{}% of journeys come from a mobile\".format(round((vol_mobile*100)/df.Occurrences.sum(),2))"
   ]
  },
  {
   "cell_type": "code",
   "execution_count": null,
   "metadata": {},
   "outputs": [],
   "source": [
    "## Number of journeys coming from tablets\n",
    "vol_tablet = df[\"TabletCount\"].sum()\n",
    "\"{}% of journeys come from a tablet\".format(round((vol_tablet*100)/df.Occurrences.sum(),2))"
   ]
  },
  {
   "cell_type": "code",
   "execution_count": null,
   "metadata": {},
   "outputs": [],
   "source": [
    "## Seperate out desktop and mobile journeys\n",
    "desktop_journeys = df[df.DesktopCount>0].copy(deep=True)\n",
    "mobile_journeys = df[df.MobileCount>0].copy(deep=True)"
   ]
  },
  {
   "cell_type": "code",
   "execution_count": null,
   "metadata": {},
   "outputs": [],
   "source": [
    "## Compute number of journeys from specific device that include related links\n",
    "## Don't base counting on occurrences, will include excluded device\n",
    "vol_desk_rel = desktop_journeys[desktop_journeys.Has_Related].DesktopCount.sum()\n",
    "vol_mobile_rel = mobile_journeys[mobile_journeys.Has_Related].MobileCount.sum()"
   ]
  },
  {
   "cell_type": "code",
   "execution_count": null,
   "metadata": {},
   "outputs": [],
   "source": [
    "\"{}% of desktop journeys include a \\\"Related content\\\" click\".format(round((vol_desk_rel*100)/vol_desk,2))"
   ]
  },
  {
   "cell_type": "code",
   "execution_count": null,
   "metadata": {
    "scrolled": true
   },
   "outputs": [],
   "source": [
    "\"{}% of mobile journeys include a \\\"Related content\\\" click\".format(round((vol_mobile_rel*100)/vol_mobile,2))"
   ]
  },
  {
   "cell_type": "markdown",
   "metadata": {},
   "source": [
    "### 2.5 Chi-squared test\n",
    "Compute observations for a contingency table"
   ]
  },
  {
   "cell_type": "code",
   "execution_count": null,
   "metadata": {},
   "outputs": [],
   "source": [
    "from scipy import stats"
   ]
  },
  {
   "cell_type": "code",
   "execution_count": null,
   "metadata": {},
   "outputs": [],
   "source": [
    "obs = [[vol_mobile_rel,(vol_mobile-vol_mobile_rel)], [vol_desk_rel, (vol_desk-vol_desk_rel)]]\n",
    "print(obs)\n",
    "print(vol_mobile==sum(obs[0]), vol_desk==sum(obs[1]))"
   ]
  },
  {
   "cell_type": "code",
   "execution_count": null,
   "metadata": {},
   "outputs": [],
   "source": [
    "chi2, p, dof, ex = stats.chi2_contingency(obs)\n",
    "chi2, p, dof, ex"
   ]
  },
  {
   "cell_type": "code",
   "execution_count": null,
   "metadata": {},
   "outputs": [],
   "source": [
    "g, p, dof, expctd = stats.chi2_contingency(obs, lambda_=\"log-likelihood\")\n",
    "g, p, dof, expctd"
   ]
  },
  {
   "cell_type": "markdown",
   "metadata": {},
   "source": [
    "### 2.6 User journey length"
   ]
  },
  {
   "cell_type": "code",
   "execution_count": null,
   "metadata": {},
   "outputs": [],
   "source": [
    "def weight_seq_length(page_lengths, occurrences, name):\n",
    "    length_occ = Counter()\n",
    "    for length,occ in zip(page_lengths, occurrences):\n",
    "           length_occ[length]+=occ\n",
    "    data = []\n",
    "    for key,value in length_occ.items():\n",
    "        for i in range(value):\n",
    "            data.append(key)\n",
    "    return pd.Series(data,name=name)"
   ]
  },
  {
   "cell_type": "code",
   "execution_count": null,
   "metadata": {},
   "outputs": [],
   "source": [
    "# weight_seq_length(df.PageSeq_Length,df.Occurrences).describe().apply(lambda x: format(x, 'f'))\n",
    "# weight_seq_length(df[df.Has_Related].PageSeq_Length,df[df.Has_Related].Occurrences).describe().apply(lambda x: format(x, 'f'))"
   ]
  },
  {
   "cell_type": "markdown",
   "metadata": {},
   "source": [
    "### Per device"
   ]
  },
  {
   "cell_type": "code",
   "execution_count": null,
   "metadata": {},
   "outputs": [],
   "source": [
    "# weight_seq_length(desktop_journeys.PageSeq_Length, desktop_journeys.DesktopCount).describe().apply(lambda x: format(x, 'f'))\n",
    "# weight_seq_length(mobile_journeys.PageSeq_Length, mobile_journeys.MobileCount).describe().apply(lambda x: format(x, 'f'))"
   ]
  },
  {
   "cell_type": "markdown",
   "metadata": {},
   "source": [
    "### Per device + has_related"
   ]
  },
  {
   "cell_type": "code",
   "execution_count": null,
   "metadata": {},
   "outputs": [],
   "source": [
    "desk_rel_journeys = desktop_journeys[desktop_journeys.Has_Related]\n",
    "mobile_rel_journeys = mobile_journeys[mobile_journeys.Has_Related]"
   ]
  },
  {
   "cell_type": "code",
   "execution_count": null,
   "metadata": {},
   "outputs": [],
   "source": [
    "# weight_seq_length(desk_rel_journeys.PageSeq_Length, desk_rel_journeys.DesktopCount).describe().apply(lambda x: format(x, 'f'))\n",
    "# weight_seq_length(mobile_rel_journeys.PageSeq_Length, mobile_rel_journeys.MobileCount).describe().apply(lambda x: format(x, 'f'))"
   ]
  },
  {
   "cell_type": "markdown",
   "metadata": {},
   "source": [
    "#### Everything together"
   ]
  },
  {
   "cell_type": "code",
   "execution_count": null,
   "metadata": {},
   "outputs": [],
   "source": [
    "def describe_dfs(to_eval):\n",
    "    descriptive = pd.DataFrame()\n",
    "    for length,occ,name in to_eval:\n",
    "        sr = weight_seq_length(length,occ,name).describe().apply(lambda x: format(x, '.3f'))\n",
    "        descriptive[sr.name] = sr\n",
    "    return descriptive"
   ]
  },
  {
   "cell_type": "code",
   "execution_count": null,
   "metadata": {},
   "outputs": [],
   "source": [
    "list_of_cols = [[df.PageSeq_Length,df.Occurrences, \"All_Journeys\"],\n",
    "                [df[df.Has_Related].PageSeq_Length,df[df.Has_Related].Occurrences, \"All_Journeys_Related\"],\n",
    "                [desktop_journeys.PageSeq_Length,desktop_journeys.DesktopCount,\"All_Desktop\"],\n",
    "                [mobile_journeys.PageSeq_Length, mobile_journeys.MobileCount, \"All_Mobile\"],\n",
    "                [desk_rel_journeys.PageSeq_Length, desk_rel_journeys.DesktopCount, \"Desktop_Related\"],\n",
    "                [mobile_rel_journeys.PageSeq_Length, mobile_rel_journeys.MobileCount, \"Mobile_Related\"]]"
   ]
  },
  {
   "cell_type": "code",
   "execution_count": null,
   "metadata": {},
   "outputs": [],
   "source": [
    "describe_dfs(list_of_cols)"
   ]
  },
  {
   "cell_type": "markdown",
   "metadata": {},
   "source": [
    "#### Exclude user journeys of length 1"
   ]
  },
  {
   "cell_type": "code",
   "execution_count": null,
   "metadata": {},
   "outputs": [],
   "source": [
    "df_dlo = df[df.PageSeq_Length > 1]"
   ]
  },
  {
   "cell_type": "code",
   "execution_count": null,
   "metadata": {},
   "outputs": [],
   "source": [
    "## Seperate out desktop and mobile journeys\n",
    "desktop_journeys_dlo = df_dlo[df_dlo.DesktopCount>0].copy(deep=True)\n",
    "mobile_journeys_dlo =  df_dlo[df_dlo.MobileCount>0].copy(deep=True)\n",
    "desk_rel_journeys_dlo = desktop_journeys_dlo[desktop_journeys_dlo.Has_Related]\n",
    "mobile_rel_journeys_dlo = mobile_journeys_dlo[mobile_journeys_dlo.Has_Related]"
   ]
  },
  {
   "cell_type": "code",
   "execution_count": null,
   "metadata": {},
   "outputs": [],
   "source": [
    "list_of_columns = [[df_dlo.PageSeq_Length,df_dlo.Occurrences],\n",
    "                   [df_dlo.PageSeq_Length,df_dlo.Occurrences]\n",
    "                   [desktop_journeys_dlo.PageSeq_Length,desktop_journeys_dlo.DesktopCount,\"All_Desktop\"],\n",
    "                   [mobile_journeys_dlo.PageSeq_Length, mobile_journeys_dlo.MobileCount, \"All_Mobile\"],\n",
    "                   [desk_rel_journeys_dlo.PageSeq_Length, desk_rel_journeys_dlo.DesktopCount, \"Desktop_Related\"],\n",
    "                   [mobile_rel_journeys_dlo.PageSeq_Length, mobile_rel_journeys_dlo.MobileCount, \"Mobile_Related\"]]"
   ]
  },
  {
   "cell_type": "code",
   "execution_count": null,
   "metadata": {},
   "outputs": [],
   "source": [
    "describe_dfs(list_of_cols)"
   ]
  },
  {
   "cell_type": "code",
   "execution_count": null,
   "metadata": {},
   "outputs": [],
   "source": []
  }
 ],
 "metadata": {
  "kernelspec": {
   "display_name": "Python 3",
   "language": "python",
   "name": "python3"
  },
  "language_info": {
   "codemirror_mode": {
    "name": "ipython",
    "version": 3
   },
   "file_extension": ".py",
   "mimetype": "text/x-python",
   "name": "python",
   "nbconvert_exporter": "python",
   "pygments_lexer": "ipython3",
   "version": "3.6.0"
  }
 },
 "nbformat": 4,
 "nbformat_minor": 2
}
