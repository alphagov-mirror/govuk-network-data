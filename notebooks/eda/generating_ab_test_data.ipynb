{
 "cells": [
  {
   "cell_type": "code",
   "execution_count": 4,
   "metadata": {
    "ExecuteTime": {
     "end_time": "2019-01-28T13:56:24.784286Z",
     "start_time": "2019-01-28T13:56:23.330206Z"
    }
   },
   "outputs": [],
   "source": [
    "import os \n",
    "import pandas as pd\n",
    "import numpy as np\n",
    "import ast\n",
    "\n",
    "from collections import Counter"
   ]
  },
  {
   "cell_type": "code",
   "execution_count": 5,
   "metadata": {
    "ExecuteTime": {
     "end_time": "2019-01-28T13:56:25.428143Z",
     "start_time": "2019-01-28T13:56:25.423672Z"
    }
   },
   "outputs": [
    {
     "name": "stdout",
     "output_type": "stream",
     "text": [
      "50\n"
     ]
    }
   ],
   "source": [
    "# Some of the columns we will look at can be quite wide, but it's good to get an idea of what they contain\n",
    "print(pd.get_option('max_colwidth'))\n",
    "pd.set_option('max_colwidth',500)"
   ]
  },
  {
   "cell_type": "markdown",
   "metadata": {},
   "source": [
    "## File/dir locations\n"
   ]
  },
  {
   "cell_type": "code",
   "execution_count": 6,
   "metadata": {
    "ExecuteTime": {
     "end_time": "2019-01-28T13:56:26.162461Z",
     "start_time": "2019-01-28T13:56:26.158904Z"
    }
   },
   "outputs": [],
   "source": [
    "DATA_DIR = os.getenv(\"DATA_DIR\")\n",
    "filename = \"preprocessed_taxon_pageseq_20190114_20190116.csv.gz\"\n",
    "# df_file = os.path.join(DATA_DIR, \"processed_journey\", filename)\n",
    "# df_reduced_file = os.path.join(DATA_DIR, \"processed_journey\", \"reduced_\"+filename)\n",
    "# df_rel_file = os.path.join(DATA_DIR, \"processed_journey\", \"rel_\"+filename)\n",
    "df_doo_file = os.path.join(\n",
    "    DATA_DIR, \"processed_journey\",\n",
    "    \"doo_prelim_meta_standard_with_pageseq_from_29-10_to_04-11-2018.csv.gz\")"
   ]
  },
  {
   "cell_type": "markdown",
   "metadata": {},
   "source": [
    "Load up a data file that isn't too large - we just want to check that the putative metrics for analysis can be derived from the data. This data was produced by an early version of the pipeline and is missing some descriptive variables, such as taxons etc. However, it contains the sequences of pages and behaviours (or events) of users on those pages, including interaction with the sidebar and the related links contained therein."
   ]
  },
  {
   "cell_type": "code",
   "execution_count": 7,
   "metadata": {
    "ExecuteTime": {
     "end_time": "2019-01-28T13:57:17.504227Z",
     "start_time": "2019-01-28T13:56:27.135524Z"
    }
   },
   "outputs": [],
   "source": [
    "df = pd.read_csv(df_doo_file, compression=\"gzip\")"
   ]
  },
  {
   "cell_type": "code",
   "execution_count": 8,
   "metadata": {
    "ExecuteTime": {
     "end_time": "2019-01-28T13:57:17.537902Z",
     "start_time": "2019-01-28T13:57:17.506913Z"
    }
   },
   "outputs": [
    {
     "data": {
      "text/html": [
       "<div>\n",
       "<style scoped>\n",
       "    .dataframe tbody tr th:only-of-type {\n",
       "        vertical-align: middle;\n",
       "    }\n",
       "\n",
       "    .dataframe tbody tr th {\n",
       "        vertical-align: top;\n",
       "    }\n",
       "\n",
       "    .dataframe thead th {\n",
       "        text-align: right;\n",
       "    }\n",
       "</style>\n",
       "<table border=\"1\" class=\"dataframe\">\n",
       "  <thead>\n",
       "    <tr style=\"text-align: right;\">\n",
       "      <th></th>\n",
       "      <th>Sequence</th>\n",
       "      <th>PageSequence</th>\n",
       "      <th>Occurrences</th>\n",
       "      <th>Page_Seq_Occurrences</th>\n",
       "      <th>DeviceCategories</th>\n",
       "      <th>Dates</th>\n",
       "      <th>Page_Event_List</th>\n",
       "      <th>Page_List</th>\n",
       "      <th>PageSequence_internal</th>\n",
       "      <th>Event_List</th>\n",
       "      <th>num_event_cats</th>\n",
       "      <th>Event_cats_agg</th>\n",
       "      <th>Event_cat_act_agg</th>\n",
       "      <th>Page_List_NL</th>\n",
       "      <th>Page_Seq_NL</th>\n",
       "      <th>Occurrences_NL</th>\n",
       "    </tr>\n",
       "  </thead>\n",
       "  <tbody>\n",
       "    <tr>\n",
       "      <th>0</th>\n",
       "      <td>/guidance/rates-and-thresholds-for-employers-2016-to-2017&lt;&lt;PAGE&lt;:&lt;NULL&lt;:&lt;NULL</td>\n",
       "      <td>/guidance/rates-and-thresholds-for-employers-2016-to-2017</td>\n",
       "      <td>87</td>\n",
       "      <td>306.0</td>\n",
       "      <td>[('desktop', 64), ('mobile', 11), ('tablet', 12)]</td>\n",
       "      <td>[('20181031', 33), ('20181029', 27), ('20181102', 17), ('20181104', 10)]</td>\n",
       "      <td>[('/guidance/rates-and-thresholds-for-employers-2016-to-2017', 'PAGE&lt;:&lt;NULL&lt;:&lt;NULL')]</td>\n",
       "      <td>['/guidance/rates-and-thresholds-for-employers-2016-to-2017']</td>\n",
       "      <td>/guidance/rates-and-thresholds-for-employers-2016-to-2017</td>\n",
       "      <td>[('PAGE_NULL', 'PAGE_NULL')]</td>\n",
       "      <td>1</td>\n",
       "      <td>[('PAGE_NULL', 1)]</td>\n",
       "      <td>[(('PAGE_NULL', 'PAGE_NULL'), 1)]</td>\n",
       "      <td>['/guidance/rates-and-thresholds-for-employers-2016-to-2017']</td>\n",
       "      <td>/guidance/rates-and-thresholds-for-employers-2016-to-2017</td>\n",
       "      <td>6198.0</td>\n",
       "    </tr>\n",
       "    <tr>\n",
       "      <th>1</th>\n",
       "      <td>/sure-start-maternity-grant/how-to-claim&lt;&lt;PAGE&lt;:&lt;NULL&lt;:&lt;NULL&gt;&gt;/government/publications/sure-start-maternity-grant-claim-form&lt;&lt;PAGE&lt;:&lt;NULL&lt;:&lt;NULL&gt;&gt;/government/publications/sure-start-maternity-grant-claim-form&lt;&lt;EVENT&lt;:&lt;External Link Clicked&lt;:&lt;https://assets.publishing.service.gov.uk/government/uploads/system/uploads/attachment_data/file/749722/sure-start-maternity-grant-sf100.pdf&gt;&gt;/government/publications/sure-start-maternity-grant-claim-form&lt;&lt;EVENT&lt;:&lt;Download Link Clicked&lt;:&lt;https://assets.pu...</td>\n",
       "      <td>/sure-start-maternity-grant/how-to-claim&gt;&gt;/government/publications/sure-start-maternity-grant-claim-form</td>\n",
       "      <td>104</td>\n",
       "      <td>385.0</td>\n",
       "      <td>[('mobile', 50), ('desktop', 50), ('tablet', 4)]</td>\n",
       "      <td>[('20181031', 34), ('20181029', 31), ('20181102', 24), ('20181104', 15)]</td>\n",
       "      <td>[('/sure-start-maternity-grant/how-to-claim', 'PAGE&lt;:&lt;NULL&lt;:&lt;NULL'), ('/government/publications/sure-start-maternity-grant-claim-form', 'PAGE&lt;:&lt;NULL&lt;:&lt;NULL'), ('/government/publications/sure-start-maternity-grant-claim-form', 'EVENT&lt;:&lt;External Link Clicked&lt;:&lt;https://assets.publishing.service.gov.uk/government/uploads/system/uploads/attachment_data/file/749722/sure-start-maternity-grant-sf100.pdf'), ('/government/publications/sure-start-maternity-grant-claim-form', 'EVENT&lt;:&lt;Download Link Clic...</td>\n",
       "      <td>['/sure-start-maternity-grant/how-to-claim', '/government/publications/sure-start-maternity-grant-claim-form']</td>\n",
       "      <td>/sure-start-maternity-grant/how-to-claim&gt;&gt;/government/publications/sure-start-maternity-grant-claim-form</td>\n",
       "      <td>[('PAGE_NULL', 'PAGE_NULL'), ('PAGE_NULL', 'PAGE_NULL'), ('External Link Clicked', 'https://assets.publishing.service.gov.uk/government/uploads/system/uploads/attachment_data/file/749722/sure-start-maternity-grant-sf100.pdf'), ('Download Link Clicked', 'https://assets.publishing.service.gov.uk/government/uploads/system/uploads/attachment_data/file/749722/sure-start-maternity-grant-sf100.pdf')]</td>\n",
       "      <td>3</td>\n",
       "      <td>[('PAGE_NULL', 2), ('External Link Clicked', 1), ('Download Link Clicked', 1)]</td>\n",
       "      <td>[(('PAGE_NULL', 'PAGE_NULL'), 2), (('External Link Clicked', 'https://assets.publishing.service.gov.uk/government/uploads/system/uploads/attachment_data/file/749722/sure-start-maternity-grant-sf100.pdf'), 1), (('Download Link Clicked', 'https://assets.publishing.service.gov.uk/government/uploads/system/uploads/attachment_data/file/749722/sure-start-maternity-grant-sf100.pdf'), 1)]</td>\n",
       "      <td>['/sure-start-maternity-grant/how-to-claim', '/government/publications/sure-start-maternity-grant-claim-form']</td>\n",
       "      <td>/sure-start-maternity-grant/how-to-claim&gt;&gt;/government/publications/sure-start-maternity-grant-claim-form</td>\n",
       "      <td>7010.0</td>\n",
       "    </tr>\n",
       "  </tbody>\n",
       "</table>\n",
       "</div>"
      ],
      "text/plain": [
       "                                                                                                                                                                                                                                                                                                                                                                                                                                                                                                              Sequence  \\\n",
       "0                                                                                                                                                                                                                                                                                                                                                                                                                                        /guidance/rates-and-thresholds-for-employers-2016-to-2017<<PAGE<:<NULL<:<NULL   \n",
       "1  /sure-start-maternity-grant/how-to-claim<<PAGE<:<NULL<:<NULL>>/government/publications/sure-start-maternity-grant-claim-form<<PAGE<:<NULL<:<NULL>>/government/publications/sure-start-maternity-grant-claim-form<<EVENT<:<External Link Clicked<:<https://assets.publishing.service.gov.uk/government/uploads/system/uploads/attachment_data/file/749722/sure-start-maternity-grant-sf100.pdf>>/government/publications/sure-start-maternity-grant-claim-form<<EVENT<:<Download Link Clicked<:<https://assets.pu...   \n",
       "\n",
       "                                                                                               PageSequence  \\\n",
       "0                                                 /guidance/rates-and-thresholds-for-employers-2016-to-2017   \n",
       "1  /sure-start-maternity-grant/how-to-claim>>/government/publications/sure-start-maternity-grant-claim-form   \n",
       "\n",
       "   Occurrences  Page_Seq_Occurrences  \\\n",
       "0           87                 306.0   \n",
       "1          104                 385.0   \n",
       "\n",
       "                                    DeviceCategories  \\\n",
       "0  [('desktop', 64), ('mobile', 11), ('tablet', 12)]   \n",
       "1   [('mobile', 50), ('desktop', 50), ('tablet', 4)]   \n",
       "\n",
       "                                                                      Dates  \\\n",
       "0  [('20181031', 33), ('20181029', 27), ('20181102', 17), ('20181104', 10)]   \n",
       "1  [('20181031', 34), ('20181029', 31), ('20181102', 24), ('20181104', 15)]   \n",
       "\n",
       "                                                                                                                                                                                                                                                                                                                                                                                                                                                                                                       Page_Event_List  \\\n",
       "0                                                                                                                                                                                                                                                                                                                                                                                                                                [('/guidance/rates-and-thresholds-for-employers-2016-to-2017', 'PAGE<:<NULL<:<NULL')]   \n",
       "1  [('/sure-start-maternity-grant/how-to-claim', 'PAGE<:<NULL<:<NULL'), ('/government/publications/sure-start-maternity-grant-claim-form', 'PAGE<:<NULL<:<NULL'), ('/government/publications/sure-start-maternity-grant-claim-form', 'EVENT<:<External Link Clicked<:<https://assets.publishing.service.gov.uk/government/uploads/system/uploads/attachment_data/file/749722/sure-start-maternity-grant-sf100.pdf'), ('/government/publications/sure-start-maternity-grant-claim-form', 'EVENT<:<Download Link Clic...   \n",
       "\n",
       "                                                                                                        Page_List  \\\n",
       "0                                                   ['/guidance/rates-and-thresholds-for-employers-2016-to-2017']   \n",
       "1  ['/sure-start-maternity-grant/how-to-claim', '/government/publications/sure-start-maternity-grant-claim-form']   \n",
       "\n",
       "                                                                                      PageSequence_internal  \\\n",
       "0                                                 /guidance/rates-and-thresholds-for-employers-2016-to-2017   \n",
       "1  /sure-start-maternity-grant/how-to-claim>>/government/publications/sure-start-maternity-grant-claim-form   \n",
       "\n",
       "                                                                                                                                                                                                                                                                                                                                                                                                     Event_List  \\\n",
       "0                                                                                                                                                                                                                                                                                                                                                                                  [('PAGE_NULL', 'PAGE_NULL')]   \n",
       "1  [('PAGE_NULL', 'PAGE_NULL'), ('PAGE_NULL', 'PAGE_NULL'), ('External Link Clicked', 'https://assets.publishing.service.gov.uk/government/uploads/system/uploads/attachment_data/file/749722/sure-start-maternity-grant-sf100.pdf'), ('Download Link Clicked', 'https://assets.publishing.service.gov.uk/government/uploads/system/uploads/attachment_data/file/749722/sure-start-maternity-grant-sf100.pdf')]   \n",
       "\n",
       "   num_event_cats  \\\n",
       "0               1   \n",
       "1               3   \n",
       "\n",
       "                                                                   Event_cats_agg  \\\n",
       "0                                                              [('PAGE_NULL', 1)]   \n",
       "1  [('PAGE_NULL', 2), ('External Link Clicked', 1), ('Download Link Clicked', 1)]   \n",
       "\n",
       "                                                                                                                                                                                                                                                                                                                                                                                 Event_cat_act_agg  \\\n",
       "0                                                                                                                                                                                                                                                                                                                                                                [(('PAGE_NULL', 'PAGE_NULL'), 1)]   \n",
       "1  [(('PAGE_NULL', 'PAGE_NULL'), 2), (('External Link Clicked', 'https://assets.publishing.service.gov.uk/government/uploads/system/uploads/attachment_data/file/749722/sure-start-maternity-grant-sf100.pdf'), 1), (('Download Link Clicked', 'https://assets.publishing.service.gov.uk/government/uploads/system/uploads/attachment_data/file/749722/sure-start-maternity-grant-sf100.pdf'), 1)]   \n",
       "\n",
       "                                                                                                     Page_List_NL  \\\n",
       "0                                                   ['/guidance/rates-and-thresholds-for-employers-2016-to-2017']   \n",
       "1  ['/sure-start-maternity-grant/how-to-claim', '/government/publications/sure-start-maternity-grant-claim-form']   \n",
       "\n",
       "                                                                                                Page_Seq_NL  \\\n",
       "0                                                 /guidance/rates-and-thresholds-for-employers-2016-to-2017   \n",
       "1  /sure-start-maternity-grant/how-to-claim>>/government/publications/sure-start-maternity-grant-claim-form   \n",
       "\n",
       "   Occurrences_NL  \n",
       "0          6198.0  \n",
       "1          7010.0  "
      ]
     },
     "execution_count": 8,
     "metadata": {},
     "output_type": "execute_result"
    }
   ],
   "source": [
    "df.head(2)"
   ]
  },
  {
   "cell_type": "code",
   "execution_count": 9,
   "metadata": {
    "ExecuteTime": {
     "end_time": "2019-01-28T13:57:17.543921Z",
     "start_time": "2019-01-28T13:57:17.540123Z"
    }
   },
   "outputs": [
    {
     "data": {
      "text/plain": [
       "(2035522, 16)"
      ]
     },
     "execution_count": 9,
     "metadata": {},
     "output_type": "execute_result"
    }
   ],
   "source": [
    "df.shape"
   ]
  },
  {
   "cell_type": "markdown",
   "metadata": {},
   "source": [
    "## Planning\n",
    "\n",
    "Inspecting our putative metrics for detecting a change in user navigation experience gives us three ratios. Thus we need to check that we can get the numerator and denominator from the data for each of these metrics.\n"
   ]
  },
  {
   "cell_type": "code",
   "execution_count": 11,
   "metadata": {
    "ExecuteTime": {
     "end_time": "2019-01-28T13:59:37.429497Z",
     "start_time": "2019-01-28T13:58:15.541364Z"
    }
   },
   "outputs": [],
   "source": [
    "events = []\n",
    "for items in df['Event_cat_act_agg'].apply(ast.literal_eval):\n",
    "    for event in items:\n",
    "        events.append(event[0])"
   ]
  },
  {
   "cell_type": "code",
   "execution_count": 45,
   "metadata": {
    "ExecuteTime": {
     "end_time": "2019-01-28T17:50:50.576720Z",
     "start_time": "2019-01-28T17:50:50.571604Z"
    }
   },
   "outputs": [
    {
     "data": {
      "text/plain": [
       "[('PAGE_NULL', 'PAGE_NULL'),\n",
       " ('PAGE_NULL', 'PAGE_NULL'),\n",
       " ('External Link Clicked',\n",
       "  'https://assets.publishing.service.gov.uk/government/uploads/system/uploads/attachment_data/file/749722/sure-start-maternity-grant-sf100.pdf'),\n",
       " ('Download Link Clicked',\n",
       "  'https://assets.publishing.service.gov.uk/government/uploads/system/uploads/attachment_data/file/749722/sure-start-maternity-grant-sf100.pdf')]"
      ]
     },
     "execution_count": 45,
     "metadata": {},
     "output_type": "execute_result"
    }
   ],
   "source": [
    "events[:4]"
   ]
  },
  {
   "cell_type": "code",
   "execution_count": null,
   "metadata": {},
   "outputs": [],
   "source": [
    "Counter(events)"
   ]
  },
  {
   "cell_type": "markdown",
   "metadata": {},
   "source": [
    "Potential nav events eventCategory:\n",
    "- breadcrumbClicked\n",
    "- homeLinkClicked\n",
    "- searchResults\n",
    "- relatedLinkClicked (eventAction e.g. 1.1 Explore the topic)\n",
    "\n",
    "Related link events eventCategory:\n",
    "- relatedLinkClicked (eventAction e.g. 1.3 Related content)"
   ]
  },
  {
   "cell_type": "markdown",
   "metadata": {},
   "source": [
    "## journey_click_rate\n",
    "There is no difference in the proportion of journeys using at least one related link (journey_click_rate) between page variant A and page variant B.\n",
    "\n"
   ]
  },
  {
   "cell_type": "markdown",
   "metadata": {},
   "source": [
    "\\begin{equation*}\n",
    "\\frac{\\text{total number of journeys including at least one click on a related link}}{\\text{total number of journeys}}\n",
    "\\end{equation*}"
   ]
  },
  {
   "cell_type": "markdown",
   "metadata": {},
   "source": [
    "### total number of journeys including at least one click on a related link\n",
    "The numerator.\n",
    "\n",
    "We need to check within the Sequence column, whether the corresponding user journey has an Event where a related link was clicked. There are more than one level to this Event, we are specifically interestd in \"Related content\" (as this is the sidebar of the page, the related links we are interested in)."
   ]
  },
  {
   "cell_type": "code",
   "execution_count": 18,
   "metadata": {
    "ExecuteTime": {
     "end_time": "2019-01-28T16:31:58.368001Z",
     "start_time": "2019-01-28T16:31:58.364383Z"
    },
    "code_folding": []
   },
   "outputs": [],
   "source": [
    "#Compute whether a journey includes at least one related link click\n",
    "def is_related(x):\n",
    "    return all(cond in x for cond in [\"relatedLinkClicked\",\"Related content\"])"
   ]
  },
  {
   "cell_type": "markdown",
   "metadata": {},
   "source": [
    "Please note, `is_related` does not make sure that `relatedLinkClicked` and `Related content` exist in the same event in `Sequence`"
   ]
  },
  {
   "cell_type": "code",
   "execution_count": 39,
   "metadata": {
    "ExecuteTime": {
     "end_time": "2019-01-28T17:18:42.418629Z",
     "start_time": "2019-01-28T17:18:42.414723Z"
    }
   },
   "outputs": [
    {
     "data": {
      "text/plain": [
       "True"
      ]
     },
     "execution_count": 39,
     "metadata": {},
     "output_type": "execute_result"
    }
   ],
   "source": [
    "is_related(\n",
    "    '/garden-bonfires-rules<<PAGE<:<relatedLinkClicked<:<NULL>>/garden-bonfires-rules<<EVENT<:<NULL<:<1.4 Related content'\n",
    "    )"
   ]
  },
  {
   "cell_type": "code",
   "execution_count": 40,
   "metadata": {
    "ExecuteTime": {
     "end_time": "2019-01-28T17:18:46.092995Z",
     "start_time": "2019-01-28T17:18:42.661476Z"
    }
   },
   "outputs": [],
   "source": [
    "# map across the Sequence variable, which includes pages and Events\n",
    "# we want to pass all the list elements to a function one-by-one and then collect the output.\n",
    "df[\"Has_Related\"] = df[\"Sequence\"].map(is_related)"
   ]
  },
  {
   "cell_type": "code",
   "execution_count": 10,
   "metadata": {},
   "outputs": [
    {
     "data": {
      "text/plain": [
       "0    False\n",
       "1    False\n",
       "2    False\n",
       "3    False\n",
       "4    False\n",
       "Name: Has_Related, dtype: bool"
      ]
     },
     "execution_count": 10,
     "metadata": {},
     "output_type": "execute_result"
    }
   ],
   "source": [
    "# this gives a logical column\n",
    "df[\"Has_Related\"].head()"
   ]
  },
  {
   "cell_type": "code",
   "execution_count": 11,
   "metadata": {},
   "outputs": [
    {
     "data": {
      "text/plain": [
       "150573"
      ]
     },
     "execution_count": 11,
     "metadata": {},
     "output_type": "execute_result"
    }
   ],
   "source": [
    "# We can filter for True and sum\n",
    "df[df[\"Has_Related\"]].Occurrences.sum()"
   ]
  },
  {
   "cell_type": "code",
   "execution_count": 14,
   "metadata": {
    "ExecuteTime": {
     "end_time": "2019-01-28T16:30:45.148583Z",
     "start_time": "2019-01-28T16:30:45.143275Z"
    }
   },
   "outputs": [
    {
     "data": {
      "text/plain": [
       "'/garden-bonfires-rules<<PAGE<:<NULL<:<NULL>>/garden-bonfires-rules<<EVENT<:<relatedLinkClicked<:<1.4 Related content'"
      ]
     },
     "execution_count": 14,
     "metadata": {},
     "output_type": "execute_result"
    }
   ],
   "source": [
    "df['Sequence'][2608]"
   ]
  },
  {
   "cell_type": "code",
   "execution_count": 15,
   "metadata": {
    "ExecuteTime": {
     "end_time": "2019-01-28T16:30:54.428270Z",
     "start_time": "2019-01-28T16:30:54.423498Z"
    }
   },
   "outputs": [
    {
     "data": {
      "text/plain": [
       "True"
      ]
     },
     "execution_count": 15,
     "metadata": {},
     "output_type": "execute_result"
    }
   ],
   "source": [
    "all(cond in\n",
    "    '/garden-bonfires-rules<<PAGE<:<NULL<:<NULL>>/garden-bonfires-rules<<EVENT<:<relatedLinkClicked<:<1.4 Related content'\n",
    "    for cond in [\"relatedLinkClicked\",\"Related content\"])"
   ]
  },
  {
   "cell_type": "code",
   "execution_count": 12,
   "metadata": {},
   "outputs": [
    {
     "data": {
      "text/html": [
       "<div>\n",
       "<style scoped>\n",
       "    .dataframe tbody tr th:only-of-type {\n",
       "        vertical-align: middle;\n",
       "    }\n",
       "\n",
       "    .dataframe tbody tr th {\n",
       "        vertical-align: top;\n",
       "    }\n",
       "\n",
       "    .dataframe thead th {\n",
       "        text-align: right;\n",
       "    }\n",
       "</style>\n",
       "<table border=\"1\" class=\"dataframe\">\n",
       "  <thead>\n",
       "    <tr style=\"text-align: right;\">\n",
       "      <th></th>\n",
       "      <th>Sequence</th>\n",
       "      <th>PageSequence</th>\n",
       "      <th>Occurrences</th>\n",
       "      <th>Page_Seq_Occurrences</th>\n",
       "      <th>DeviceCategories</th>\n",
       "      <th>Dates</th>\n",
       "      <th>Page_Event_List</th>\n",
       "      <th>Page_List</th>\n",
       "      <th>PageSequence_internal</th>\n",
       "      <th>Event_List</th>\n",
       "      <th>num_event_cats</th>\n",
       "      <th>Event_cats_agg</th>\n",
       "      <th>Event_cat_act_agg</th>\n",
       "      <th>Page_List_NL</th>\n",
       "      <th>Page_Seq_NL</th>\n",
       "      <th>Occurrences_NL</th>\n",
       "      <th>Has_Related</th>\n",
       "    </tr>\n",
       "  </thead>\n",
       "  <tbody>\n",
       "    <tr>\n",
       "      <th>2608</th>\n",
       "      <td>/garden-bonfires-rules&lt;&lt;PAGE&lt;:&lt;NULL&lt;:&lt;NULL&gt;&gt;/garden-bonfires-rules&lt;&lt;EVENT&lt;:&lt;relatedLinkClicked&lt;:&lt;1.4 Related content</td>\n",
       "      <td>/garden-bonfires-rules</td>\n",
       "      <td>1</td>\n",
       "      <td>7483.0</td>\n",
       "      <td>[('mobile', 1)]</td>\n",
       "      <td>[('20181031', 1)]</td>\n",
       "      <td>[('/garden-bonfires-rules', 'PAGE&lt;:&lt;NULL&lt;:&lt;NULL'), ('/garden-bonfires-rules', 'EVENT&lt;:&lt;relatedLinkClicked&lt;:&lt;1.4 Related content')]</td>\n",
       "      <td>['/garden-bonfires-rules']</td>\n",
       "      <td>/garden-bonfires-rules</td>\n",
       "      <td>[('PAGE_NULL', 'PAGE_NULL'), ('relatedLinkClicked', '1.4 Related content')]</td>\n",
       "      <td>2</td>\n",
       "      <td>[('PAGE_NULL', 1), ('relatedLinkClicked', 1)]</td>\n",
       "      <td>[(('PAGE_NULL', 'PAGE_NULL'), 1), (('relatedLinkClicked', '1.4 Related content'), 1)]</td>\n",
       "      <td>['/garden-bonfires-rules']</td>\n",
       "      <td>/garden-bonfires-rules</td>\n",
       "      <td>114000.0</td>\n",
       "      <td>True</td>\n",
       "    </tr>\n",
       "    <tr>\n",
       "      <th>3401</th>\n",
       "      <td>/check-state-pension&lt;&lt;PAGE&lt;:&lt;NULL&lt;:&lt;NULL&gt;&gt;/check-state-pension&lt;&lt;EVENT&lt;:&lt;relatedLinkClicked&lt;:&lt;1.1 Related content</td>\n",
       "      <td>/check-state-pension</td>\n",
       "      <td>1</td>\n",
       "      <td>17093.0</td>\n",
       "      <td>[('mobile', 1)]</td>\n",
       "      <td>[('20181031', 1)]</td>\n",
       "      <td>[('/check-state-pension', 'PAGE&lt;:&lt;NULL&lt;:&lt;NULL'), ('/check-state-pension', 'EVENT&lt;:&lt;relatedLinkClicked&lt;:&lt;1.1 Related content')]</td>\n",
       "      <td>['/check-state-pension']</td>\n",
       "      <td>/check-state-pension</td>\n",
       "      <td>[('PAGE_NULL', 'PAGE_NULL'), ('relatedLinkClicked', '1.1 Related content')]</td>\n",
       "      <td>2</td>\n",
       "      <td>[('PAGE_NULL', 1), ('relatedLinkClicked', 1)]</td>\n",
       "      <td>[(('PAGE_NULL', 'PAGE_NULL'), 1), (('relatedLinkClicked', '1.1 Related content'), 1)]</td>\n",
       "      <td>['/check-state-pension']</td>\n",
       "      <td>/check-state-pension</td>\n",
       "      <td>413249.0</td>\n",
       "      <td>True</td>\n",
       "    </tr>\n",
       "    <tr>\n",
       "      <th>4353</th>\n",
       "      <td>/child-benefit-rates&lt;&lt;EVENT&lt;:&lt;relatedLinkClicked&lt;:&lt;1.6 Related content&gt;&gt;/child-tax-credit&lt;&lt;PAGE&lt;:&lt;NULL&lt;:&lt;NULL</td>\n",
       "      <td>/child-tax-credit</td>\n",
       "      <td>2</td>\n",
       "      <td>4239.0</td>\n",
       "      <td>[('mobile', 1), ('desktop', 1)]</td>\n",
       "      <td>[('20181031', 1), ('20181029', 1)]</td>\n",
       "      <td>[('/child-benefit-rates', 'EVENT&lt;:&lt;relatedLinkClicked&lt;:&lt;1.6 Related content'), ('/child-tax-credit', 'PAGE&lt;:&lt;NULL&lt;:&lt;NULL')]</td>\n",
       "      <td>['/child-tax-credit']</td>\n",
       "      <td>/child-tax-credit</td>\n",
       "      <td>[('relatedLinkClicked', '1.6 Related content'), ('PAGE_NULL', 'PAGE_NULL')]</td>\n",
       "      <td>2</td>\n",
       "      <td>[('relatedLinkClicked', 1), ('PAGE_NULL', 1)]</td>\n",
       "      <td>[(('relatedLinkClicked', '1.6 Related content'), 1), (('PAGE_NULL', 'PAGE_NULL'), 1)]</td>\n",
       "      <td>['/child-tax-credit']</td>\n",
       "      <td>/child-tax-credit</td>\n",
       "      <td>51353.0</td>\n",
       "      <td>True</td>\n",
       "    </tr>\n",
       "  </tbody>\n",
       "</table>\n",
       "</div>"
      ],
      "text/plain": [
       "                                                                                                                  Sequence  \\\n",
       "2608  /garden-bonfires-rules<<PAGE<:<NULL<:<NULL>>/garden-bonfires-rules<<EVENT<:<relatedLinkClicked<:<1.4 Related content   \n",
       "3401      /check-state-pension<<PAGE<:<NULL<:<NULL>>/check-state-pension<<EVENT<:<relatedLinkClicked<:<1.1 Related content   \n",
       "4353         /child-benefit-rates<<EVENT<:<relatedLinkClicked<:<1.6 Related content>>/child-tax-credit<<PAGE<:<NULL<:<NULL   \n",
       "\n",
       "                PageSequence  Occurrences  Page_Seq_Occurrences  \\\n",
       "2608  /garden-bonfires-rules            1                7483.0   \n",
       "3401    /check-state-pension            1               17093.0   \n",
       "4353       /child-tax-credit            2                4239.0   \n",
       "\n",
       "                     DeviceCategories                               Dates  \\\n",
       "2608                  [('mobile', 1)]                   [('20181031', 1)]   \n",
       "3401                  [('mobile', 1)]                   [('20181031', 1)]   \n",
       "4353  [('mobile', 1), ('desktop', 1)]  [('20181031', 1), ('20181029', 1)]   \n",
       "\n",
       "                                                                                                                         Page_Event_List  \\\n",
       "2608  [('/garden-bonfires-rules', 'PAGE<:<NULL<:<NULL'), ('/garden-bonfires-rules', 'EVENT<:<relatedLinkClicked<:<1.4 Related content')]   \n",
       "3401      [('/check-state-pension', 'PAGE<:<NULL<:<NULL'), ('/check-state-pension', 'EVENT<:<relatedLinkClicked<:<1.1 Related content')]   \n",
       "4353         [('/child-benefit-rates', 'EVENT<:<relatedLinkClicked<:<1.6 Related content'), ('/child-tax-credit', 'PAGE<:<NULL<:<NULL')]   \n",
       "\n",
       "                       Page_List   PageSequence_internal  \\\n",
       "2608  ['/garden-bonfires-rules']  /garden-bonfires-rules   \n",
       "3401    ['/check-state-pension']    /check-state-pension   \n",
       "4353       ['/child-tax-credit']       /child-tax-credit   \n",
       "\n",
       "                                                                       Event_List  \\\n",
       "2608  [('PAGE_NULL', 'PAGE_NULL'), ('relatedLinkClicked', '1.4 Related content')]   \n",
       "3401  [('PAGE_NULL', 'PAGE_NULL'), ('relatedLinkClicked', '1.1 Related content')]   \n",
       "4353  [('relatedLinkClicked', '1.6 Related content'), ('PAGE_NULL', 'PAGE_NULL')]   \n",
       "\n",
       "      num_event_cats                                 Event_cats_agg  \\\n",
       "2608               2  [('PAGE_NULL', 1), ('relatedLinkClicked', 1)]   \n",
       "3401               2  [('PAGE_NULL', 1), ('relatedLinkClicked', 1)]   \n",
       "4353               2  [('relatedLinkClicked', 1), ('PAGE_NULL', 1)]   \n",
       "\n",
       "                                                                          Event_cat_act_agg  \\\n",
       "2608  [(('PAGE_NULL', 'PAGE_NULL'), 1), (('relatedLinkClicked', '1.4 Related content'), 1)]   \n",
       "3401  [(('PAGE_NULL', 'PAGE_NULL'), 1), (('relatedLinkClicked', '1.1 Related content'), 1)]   \n",
       "4353  [(('relatedLinkClicked', '1.6 Related content'), 1), (('PAGE_NULL', 'PAGE_NULL'), 1)]   \n",
       "\n",
       "                    Page_List_NL             Page_Seq_NL  Occurrences_NL  \\\n",
       "2608  ['/garden-bonfires-rules']  /garden-bonfires-rules        114000.0   \n",
       "3401    ['/check-state-pension']    /check-state-pension        413249.0   \n",
       "4353       ['/child-tax-credit']       /child-tax-credit         51353.0   \n",
       "\n",
       "      Has_Related  \n",
       "2608         True  \n",
       "3401         True  \n",
       "4353         True  "
      ]
     },
     "execution_count": 12,
     "metadata": {},
     "output_type": "execute_result"
    }
   ],
   "source": [
    "# sense check by inspecting filtered df\n",
    "df[df[\"Has_Related\"]].head(3)"
   ]
  },
  {
   "cell_type": "markdown",
   "metadata": {},
   "source": [
    "### total number of journeys\n",
    "The denominator."
   ]
  },
  {
   "cell_type": "code",
   "execution_count": 13,
   "metadata": {},
   "outputs": [
    {
     "data": {
      "text/plain": [
       "11544061"
      ]
     },
     "execution_count": 13,
     "metadata": {},
     "output_type": "execute_result"
    }
   ],
   "source": [
    "df.Occurrences.sum()"
   ]
  },
  {
   "cell_type": "markdown",
   "metadata": {},
   "source": [
    "Given this sample, we see:"
   ]
  },
  {
   "cell_type": "code",
   "execution_count": 14,
   "metadata": {},
   "outputs": [
    {
     "data": {
      "text/plain": [
       "0.01304333024574281"
      ]
     },
     "execution_count": 14,
     "metadata": {},
     "output_type": "execute_result"
    }
   ],
   "source": [
    "df[df[\"Has_Related\"]].Occurrences.sum() / df.Occurrences.sum()"
   ]
  },
  {
   "cell_type": "markdown",
   "metadata": {},
   "source": [
    "The above metric considers at least one related link clicked, but on some journeys more than one related link might get clicked. We can use the following columns to help us."
   ]
  },
  {
   "cell_type": "code",
   "execution_count": 15,
   "metadata": {},
   "outputs": [
    {
     "data": {
      "text/plain": [
       "0                                                                [('PAGE_NULL', 1)]\n",
       "1    [('PAGE_NULL', 2), ('External Link Clicked', 1), ('Download Link Clicked', 1)]\n",
       "2                                                                [('PAGE_NULL', 1)]\n",
       "Name: Event_cats_agg, dtype: object"
      ]
     },
     "execution_count": 15,
     "metadata": {},
     "output_type": "execute_result"
    }
   ],
   "source": [
    "df['Event_cats_agg'].head(3)"
   ]
  },
  {
   "cell_type": "code",
   "execution_count": 16,
   "metadata": {},
   "outputs": [
    {
     "data": {
      "text/plain": [
       "0                                                                                                                                                                                                                                                                                                                                                                  [(('PAGE_NULL', 'PAGE_NULL'), 1)]\n",
       "1    [(('PAGE_NULL', 'PAGE_NULL'), 2), (('External Link Clicked', 'https://assets.publishing.service.gov.uk/government/uploads/system/uploads/attachment_data/file/749722/sure-start-maternity-grant-sf100.pdf'), 1), (('Download Link Clicked', 'https://assets.publishing.service.gov.uk/government/uploads/system/uploads/attachment_data/file/749722/sure-start-maternity-grant-sf100.pdf'), 1)]\n",
       "2                                                                                                                                                                                                                                                                                                                                                                  [(('PAGE_NULL', 'PAGE_NULL'), 1)]\n",
       "Name: Event_cat_act_agg, dtype: object"
      ]
     },
     "execution_count": 16,
     "metadata": {},
     "output_type": "execute_result"
    }
   ],
   "source": [
    "df['Event_cat_act_agg'].head(3)"
   ]
  },
  {
   "cell_type": "markdown",
   "metadata": {},
   "source": [
    "## ratio of clicks on navigation elements vs. clicks on related links\n",
    "\n",
    "There is no statistically significant difference in the ratio of clicks on navigation elements vs. clicks on related links between page variant A and page variant B"
   ]
  },
  {
   "cell_type": "markdown",
   "metadata": {},
   "source": [
    "\\begin{equation*}\n",
    "\\frac{\\text{total number of navigation element click events from content pages}}{\\text{total number of related link click events}}\n",
    "\\end{equation*}"
   ]
  },
  {
   "cell_type": "markdown",
   "metadata": {},
   "source": [
    "### total number of related link click events"
   ]
  },
  {
   "cell_type": "markdown",
   "metadata": {},
   "source": [
    "we need to check `Related content` is in the event, because the `relatedLinkClicked` is also used for \"explore the topic\" links at the bottom of the page, with the event action containing `Explore the topic`, e.g. `(('relatedLinkClicked', '2.1 Explore the topic'), 1)`"
   ]
  },
  {
   "cell_type": "code",
   "execution_count": 44,
   "metadata": {},
   "outputs": [
    {
     "data": {
      "text/plain": [
       "\"[(('PAGE_NULL', 'PAGE_NULL'), 4), (('user_satisfaction_survey', 'banner_shown'), 2), (('relatedLinkClicked', '1.1 Related content'), 3), (('External Link Clicked', 'https://www.viewdrivingrecord.service.gov.uk/driving-record/licence-number'), 1)]\""
      ]
     },
     "execution_count": 44,
     "metadata": {},
     "output_type": "execute_result"
    }
   ],
   "source": [
    "# example of Event_cat_act_agg\n",
    "df['Event_cat_act_agg'][2035492]"
   ]
  },
  {
   "cell_type": "code",
   "execution_count": 35,
   "metadata": {
    "ExecuteTime": {
     "end_time": "2019-01-28T17:16:56.949121Z",
     "start_time": "2019-01-28T17:16:56.945007Z"
    }
   },
   "outputs": [],
   "source": [
    "# If the event category is 'relatedLinkClicked' and the event action contains 'Related content', \n",
    "# return the count of that event\n",
    "def get_number_of_events_rl(event):\n",
    "    if event[0][0] == 'relatedLinkClicked' and 'Related content' in event[0][1]:\n",
    "        return event[1]\n",
    "    return 0"
   ]
  },
  {
   "cell_type": "code",
   "execution_count": 32,
   "metadata": {
    "ExecuteTime": {
     "end_time": "2019-01-28T17:07:37.054301Z",
     "start_time": "2019-01-28T17:07:37.048072Z"
    }
   },
   "outputs": [
    {
     "data": {
      "text/plain": [
       "2"
      ]
     },
     "execution_count": 32,
     "metadata": {},
     "output_type": "execute_result"
    }
   ],
   "source": [
    "sum([get_number_of_events_rl(event) for event in ast.literal_eval(df['Event_cat_act_agg'][2035492])])"
   ]
  },
  {
   "cell_type": "code",
   "execution_count": 36,
   "metadata": {
    "ExecuteTime": {
     "end_time": "2019-01-28T17:16:58.493303Z",
     "start_time": "2019-01-28T17:16:58.489899Z"
    }
   },
   "outputs": [],
   "source": [
    "def sum_related_click_events(event_list):\n",
    "    return sum([get_number_of_events_rl(event) for event in event_list])"
   ]
  },
  {
   "cell_type": "code",
   "execution_count": 37,
   "metadata": {
    "ExecuteTime": {
     "end_time": "2019-01-28T17:18:27.050995Z",
     "start_time": "2019-01-28T17:16:59.105354Z"
    }
   },
   "outputs": [],
   "source": [
    "# get the number of related links clicks per Sequence\n",
    "df['Related Links Clicks per seq'] = df['Event_cat_act_agg'].apply(\n",
    "    ast.literal_eval).map(sum_related_click_events)\n",
    "\n",
    "# get the total number of related links clicks for that row (clicks per sequence multiplied by occurrences)\n",
    "df['Related Links Clicks row total'] = df['Related Links Clicks per seq'] * df['Occurrences']"
   ]
  },
  {
   "cell_type": "code",
   "execution_count": 41,
   "metadata": {
    "ExecuteTime": {
     "end_time": "2019-01-28T17:18:48.538113Z",
     "start_time": "2019-01-28T17:18:47.016502Z"
    }
   },
   "outputs": [
    {
     "data": {
      "text/html": [
       "<div>\n",
       "<style scoped>\n",
       "    .dataframe tbody tr th:only-of-type {\n",
       "        vertical-align: middle;\n",
       "    }\n",
       "\n",
       "    .dataframe tbody tr th {\n",
       "        vertical-align: top;\n",
       "    }\n",
       "\n",
       "    .dataframe thead th {\n",
       "        text-align: right;\n",
       "    }\n",
       "</style>\n",
       "<table border=\"1\" class=\"dataframe\">\n",
       "  <thead>\n",
       "    <tr style=\"text-align: right;\">\n",
       "      <th></th>\n",
       "      <th>Sequence</th>\n",
       "      <th>PageSequence</th>\n",
       "      <th>Occurrences</th>\n",
       "      <th>Page_Seq_Occurrences</th>\n",
       "      <th>DeviceCategories</th>\n",
       "      <th>Dates</th>\n",
       "      <th>Page_Event_List</th>\n",
       "      <th>Page_List</th>\n",
       "      <th>PageSequence_internal</th>\n",
       "      <th>Event_List</th>\n",
       "      <th>...</th>\n",
       "      <th>Event_cats_agg</th>\n",
       "      <th>Event_cat_act_agg</th>\n",
       "      <th>Page_List_NL</th>\n",
       "      <th>Page_Seq_NL</th>\n",
       "      <th>Occurrences_NL</th>\n",
       "      <th>pageviews</th>\n",
       "      <th>absolute pageviews count</th>\n",
       "      <th>Related Links Clicks per seq</th>\n",
       "      <th>Related Links Clicks row total</th>\n",
       "      <th>Has_Related</th>\n",
       "    </tr>\n",
       "  </thead>\n",
       "  <tbody>\n",
       "    <tr>\n",
       "      <th>2608</th>\n",
       "      <td>/garden-bonfires-rules&lt;&lt;PAGE&lt;:&lt;NULL&lt;:&lt;NULL&gt;&gt;/garden-bonfires-rules&lt;&lt;EVENT&lt;:&lt;relatedLinkClicked&lt;:&lt;1.4 Related content</td>\n",
       "      <td>/garden-bonfires-rules</td>\n",
       "      <td>1</td>\n",
       "      <td>7483.0</td>\n",
       "      <td>[('mobile', 1)]</td>\n",
       "      <td>[('20181031', 1)]</td>\n",
       "      <td>[('/garden-bonfires-rules', 'PAGE&lt;:&lt;NULL&lt;:&lt;NULL'), ('/garden-bonfires-rules', 'EVENT&lt;:&lt;relatedLinkClicked&lt;:&lt;1.4 Related content')]</td>\n",
       "      <td>['/garden-bonfires-rules']</td>\n",
       "      <td>/garden-bonfires-rules</td>\n",
       "      <td>[('PAGE_NULL', 'PAGE_NULL'), ('relatedLinkClicked', '1.4 Related content')]</td>\n",
       "      <td>...</td>\n",
       "      <td>[('PAGE_NULL', 1), ('relatedLinkClicked', 1)]</td>\n",
       "      <td>[(('PAGE_NULL', 'PAGE_NULL'), 1), (('relatedLinkClicked', '1.4 Related content'), 1)]</td>\n",
       "      <td>['/garden-bonfires-rules']</td>\n",
       "      <td>/garden-bonfires-rules</td>\n",
       "      <td>114000.0</td>\n",
       "      <td>1</td>\n",
       "      <td>1</td>\n",
       "      <td>1</td>\n",
       "      <td>1</td>\n",
       "      <td>True</td>\n",
       "    </tr>\n",
       "    <tr>\n",
       "      <th>3401</th>\n",
       "      <td>/check-state-pension&lt;&lt;PAGE&lt;:&lt;NULL&lt;:&lt;NULL&gt;&gt;/check-state-pension&lt;&lt;EVENT&lt;:&lt;relatedLinkClicked&lt;:&lt;1.1 Related content</td>\n",
       "      <td>/check-state-pension</td>\n",
       "      <td>1</td>\n",
       "      <td>17093.0</td>\n",
       "      <td>[('mobile', 1)]</td>\n",
       "      <td>[('20181031', 1)]</td>\n",
       "      <td>[('/check-state-pension', 'PAGE&lt;:&lt;NULL&lt;:&lt;NULL'), ('/check-state-pension', 'EVENT&lt;:&lt;relatedLinkClicked&lt;:&lt;1.1 Related content')]</td>\n",
       "      <td>['/check-state-pension']</td>\n",
       "      <td>/check-state-pension</td>\n",
       "      <td>[('PAGE_NULL', 'PAGE_NULL'), ('relatedLinkClicked', '1.1 Related content')]</td>\n",
       "      <td>...</td>\n",
       "      <td>[('PAGE_NULL', 1), ('relatedLinkClicked', 1)]</td>\n",
       "      <td>[(('PAGE_NULL', 'PAGE_NULL'), 1), (('relatedLinkClicked', '1.1 Related content'), 1)]</td>\n",
       "      <td>['/check-state-pension']</td>\n",
       "      <td>/check-state-pension</td>\n",
       "      <td>413249.0</td>\n",
       "      <td>1</td>\n",
       "      <td>1</td>\n",
       "      <td>1</td>\n",
       "      <td>1</td>\n",
       "      <td>True</td>\n",
       "    </tr>\n",
       "    <tr>\n",
       "      <th>4353</th>\n",
       "      <td>/child-benefit-rates&lt;&lt;EVENT&lt;:&lt;relatedLinkClicked&lt;:&lt;1.6 Related content&gt;&gt;/child-tax-credit&lt;&lt;PAGE&lt;:&lt;NULL&lt;:&lt;NULL</td>\n",
       "      <td>/child-tax-credit</td>\n",
       "      <td>2</td>\n",
       "      <td>4239.0</td>\n",
       "      <td>[('mobile', 1), ('desktop', 1)]</td>\n",
       "      <td>[('20181031', 1), ('20181029', 1)]</td>\n",
       "      <td>[('/child-benefit-rates', 'EVENT&lt;:&lt;relatedLinkClicked&lt;:&lt;1.6 Related content'), ('/child-tax-credit', 'PAGE&lt;:&lt;NULL&lt;:&lt;NULL')]</td>\n",
       "      <td>['/child-tax-credit']</td>\n",
       "      <td>/child-tax-credit</td>\n",
       "      <td>[('relatedLinkClicked', '1.6 Related content'), ('PAGE_NULL', 'PAGE_NULL')]</td>\n",
       "      <td>...</td>\n",
       "      <td>[('relatedLinkClicked', 1), ('PAGE_NULL', 1)]</td>\n",
       "      <td>[(('relatedLinkClicked', '1.6 Related content'), 1), (('PAGE_NULL', 'PAGE_NULL'), 1)]</td>\n",
       "      <td>['/child-tax-credit']</td>\n",
       "      <td>/child-tax-credit</td>\n",
       "      <td>51353.0</td>\n",
       "      <td>1</td>\n",
       "      <td>2</td>\n",
       "      <td>1</td>\n",
       "      <td>2</td>\n",
       "      <td>True</td>\n",
       "    </tr>\n",
       "  </tbody>\n",
       "</table>\n",
       "<p>3 rows × 21 columns</p>\n",
       "</div>"
      ],
      "text/plain": [
       "                                                                                                                  Sequence  \\\n",
       "2608  /garden-bonfires-rules<<PAGE<:<NULL<:<NULL>>/garden-bonfires-rules<<EVENT<:<relatedLinkClicked<:<1.4 Related content   \n",
       "3401      /check-state-pension<<PAGE<:<NULL<:<NULL>>/check-state-pension<<EVENT<:<relatedLinkClicked<:<1.1 Related content   \n",
       "4353         /child-benefit-rates<<EVENT<:<relatedLinkClicked<:<1.6 Related content>>/child-tax-credit<<PAGE<:<NULL<:<NULL   \n",
       "\n",
       "                PageSequence  Occurrences  Page_Seq_Occurrences  \\\n",
       "2608  /garden-bonfires-rules            1                7483.0   \n",
       "3401    /check-state-pension            1               17093.0   \n",
       "4353       /child-tax-credit            2                4239.0   \n",
       "\n",
       "                     DeviceCategories                               Dates  \\\n",
       "2608                  [('mobile', 1)]                   [('20181031', 1)]   \n",
       "3401                  [('mobile', 1)]                   [('20181031', 1)]   \n",
       "4353  [('mobile', 1), ('desktop', 1)]  [('20181031', 1), ('20181029', 1)]   \n",
       "\n",
       "                                                                                                                         Page_Event_List  \\\n",
       "2608  [('/garden-bonfires-rules', 'PAGE<:<NULL<:<NULL'), ('/garden-bonfires-rules', 'EVENT<:<relatedLinkClicked<:<1.4 Related content')]   \n",
       "3401      [('/check-state-pension', 'PAGE<:<NULL<:<NULL'), ('/check-state-pension', 'EVENT<:<relatedLinkClicked<:<1.1 Related content')]   \n",
       "4353         [('/child-benefit-rates', 'EVENT<:<relatedLinkClicked<:<1.6 Related content'), ('/child-tax-credit', 'PAGE<:<NULL<:<NULL')]   \n",
       "\n",
       "                       Page_List   PageSequence_internal  \\\n",
       "2608  ['/garden-bonfires-rules']  /garden-bonfires-rules   \n",
       "3401    ['/check-state-pension']    /check-state-pension   \n",
       "4353       ['/child-tax-credit']       /child-tax-credit   \n",
       "\n",
       "                                                                       Event_List  \\\n",
       "2608  [('PAGE_NULL', 'PAGE_NULL'), ('relatedLinkClicked', '1.4 Related content')]   \n",
       "3401  [('PAGE_NULL', 'PAGE_NULL'), ('relatedLinkClicked', '1.1 Related content')]   \n",
       "4353  [('relatedLinkClicked', '1.6 Related content'), ('PAGE_NULL', 'PAGE_NULL')]   \n",
       "\n",
       "         ...                                      Event_cats_agg  \\\n",
       "2608     ...       [('PAGE_NULL', 1), ('relatedLinkClicked', 1)]   \n",
       "3401     ...       [('PAGE_NULL', 1), ('relatedLinkClicked', 1)]   \n",
       "4353     ...       [('relatedLinkClicked', 1), ('PAGE_NULL', 1)]   \n",
       "\n",
       "                                                                          Event_cat_act_agg  \\\n",
       "2608  [(('PAGE_NULL', 'PAGE_NULL'), 1), (('relatedLinkClicked', '1.4 Related content'), 1)]   \n",
       "3401  [(('PAGE_NULL', 'PAGE_NULL'), 1), (('relatedLinkClicked', '1.1 Related content'), 1)]   \n",
       "4353  [(('relatedLinkClicked', '1.6 Related content'), 1), (('PAGE_NULL', 'PAGE_NULL'), 1)]   \n",
       "\n",
       "                    Page_List_NL             Page_Seq_NL Occurrences_NL  \\\n",
       "2608  ['/garden-bonfires-rules']  /garden-bonfires-rules       114000.0   \n",
       "3401    ['/check-state-pension']    /check-state-pension       413249.0   \n",
       "4353       ['/child-tax-credit']       /child-tax-credit        51353.0   \n",
       "\n",
       "      pageviews  absolute pageviews count  Related Links Clicks per seq  \\\n",
       "2608          1                         1                             1   \n",
       "3401          1                         1                             1   \n",
       "4353          1                         2                             1   \n",
       "\n",
       "      Related Links Clicks row total  Has_Related  \n",
       "2608                               1         True  \n",
       "3401                               1         True  \n",
       "4353                               2         True  \n",
       "\n",
       "[3 rows x 21 columns]"
      ]
     },
     "execution_count": 41,
     "metadata": {},
     "output_type": "execute_result"
    }
   ],
   "source": [
    "df[df[\"Has_Related\"]].head(3)"
   ]
  },
  {
   "cell_type": "code",
   "execution_count": 85,
   "metadata": {},
   "outputs": [
    {
     "data": {
      "text/plain": [
       "162205"
      ]
     },
     "execution_count": 85,
     "metadata": {},
     "output_type": "execute_result"
    }
   ],
   "source": [
    "df['absolute related links count'].sum()"
   ]
  },
  {
   "cell_type": "markdown",
   "metadata": {
    "ExecuteTime": {
     "end_time": "2019-01-28T17:21:26.807267Z",
     "start_time": "2019-01-28T17:21:26.804367Z"
    }
   },
   "source": [
    "### total number of navigation element click events from content pages"
   ]
  },
  {
   "cell_type": "markdown",
   "metadata": {
    "ExecuteTime": {
     "end_time": "2019-01-28T17:28:41.336348Z",
     "start_time": "2019-01-28T17:28:41.331609Z"
    }
   },
   "source": [
    "Potential nav events eventCategory:\n",
    "- breadcrumbClicked\n",
    "- homeLinkClicked\n",
    "- searchResults - **deprecated according to [GOV.UK wiki](https://gov-uk.atlassian.net/wiki/spaces/GOVUK/pages/23855552/Analytics+on+GOV.UK#AnalyticsonGOV.UK-Events), but still firing on the site**\n",
    " - could look at search pages if so\n",
    "- relatedLinkClicked (eventAction e.g. 1.1 Explore the topic) - Explore the topic links at the bottom of a content page"
   ]
  },
  {
   "cell_type": "markdown",
   "metadata": {},
   "source": [
    "**What events correspond to the links in grey right at the bottom of the page?**"
   ]
  },
  {
   "cell_type": "markdown",
   "metadata": {},
   "source": [
    "more events to look into:\n",
    "- ~~firstLevelBrowseLinkClicked~~  relates to browse page\n",
    "- ~~secondLevelBrowseLinkClicked~~ relates to browse page\n",
    "\n",
    "- navDocumentCollectionLinkClicked\n",
    "- navFinderLinkClicked\n",
    "- navAccordionLinkClicked\n",
    "- navLeafLinkClicked\t\n",
    "- navPolicyAreaLinkClicked\n",
    "- navServicesInformationLinkClicked\t\n",
    "- navSubtopicContentItemLinkClicked\t\n",
    "- navSubtopicLinkClicked\n",
    "- navTopicLinkClicked\n",
    "- relatedTaxonomyLinkClicked\n",
    "- searchBoxFilter\n",
    "\n",
    "**step by step**\n",
    "- stepNavHeaderClicked - if a content page is part of a step by step, this is clicking the link to the step by step at the top of the page - does this indicate they are lost or they are where they want to be?\n",
    "- stepNavLinkClicked - a link to click through to another part of the step by step is clicked\n",
    "- stepNavPartOfClicked - sidebar part of step by step link clicked"
   ]
  },
  {
   "cell_type": "code",
   "execution_count": null,
   "metadata": {},
   "outputs": [],
   "source": []
  },
  {
   "cell_type": "markdown",
   "metadata": {},
   "source": [
    "## count of related links clicked by journey"
   ]
  },
  {
   "cell_type": "code",
   "execution_count": null,
   "metadata": {},
   "outputs": [],
   "source": []
  },
  {
   "cell_type": "code",
   "execution_count": null,
   "metadata": {},
   "outputs": [],
   "source": []
  },
  {
   "cell_type": "code",
   "execution_count": null,
   "metadata": {},
   "outputs": [],
   "source": []
  },
  {
   "cell_type": "markdown",
   "metadata": {},
   "source": [
    "## proportion of journeys with a page sequence including content and related links only\n",
    "\n",
    "There is no statistically significant difference in the proportion of journeys with a page sequence including content and related links only (including loops) between page variant A and page variant B"
   ]
  },
  {
   "cell_type": "markdown",
   "metadata": {},
   "source": [
    "\\begin{equation*}\n",
    "\\frac{\\text{total number of journeys that only contain content pages and related links (i.e. no nav pages)total number of journeys}}{\\text{total number of journeys}}\n",
    "\\end{equation*}"
   ]
  },
  {
   "cell_type": "markdown",
   "metadata": {},
   "source": [
    "### total number of journeys that only contain content pages and related links (i.e. no nav pages)"
   ]
  },
  {
   "cell_type": "code",
   "execution_count": null,
   "metadata": {},
   "outputs": [],
   "source": []
  },
  {
   "cell_type": "code",
   "execution_count": null,
   "metadata": {},
   "outputs": [],
   "source": []
  },
  {
   "cell_type": "code",
   "execution_count": null,
   "metadata": {},
   "outputs": [],
   "source": []
  },
  {
   "cell_type": "markdown",
   "metadata": {},
   "source": [
    "## Other stuff"
   ]
  },
  {
   "cell_type": "markdown",
   "metadata": {},
   "source": [
    "### total number of pageviews\n",
    "Not sure we're using this in our metrics\n",
    "\n",
    "Should these only include ones that HAD related links on them??\n",
    "\n",
    "If we had col PageSeq_Length we could use that instead"
   ]
  },
  {
   "cell_type": "code",
   "execution_count": 21,
   "metadata": {
    "ExecuteTime": {
     "end_time": "2019-01-28T17:03:23.750889Z",
     "start_time": "2019-01-28T17:03:23.745293Z"
    }
   },
   "outputs": [
    {
     "data": {
      "text/plain": [
       "4"
      ]
     },
     "execution_count": 21,
     "metadata": {},
     "output_type": "execute_result"
    }
   ],
   "source": [
    "len(ast.literal_eval(df['Page_List'][2034757]))"
   ]
  },
  {
   "cell_type": "code",
   "execution_count": 22,
   "metadata": {
    "ExecuteTime": {
     "end_time": "2019-01-28T17:03:24.089677Z",
     "start_time": "2019-01-28T17:03:24.086312Z"
    }
   },
   "outputs": [],
   "source": [
    "def number_of_pageviews(page_list):\n",
    "    return len(ast.literal_eval(page_list))"
   ]
  },
  {
   "cell_type": "code",
   "execution_count": 23,
   "metadata": {
    "ExecuteTime": {
     "end_time": "2019-01-28T17:03:48.686381Z",
     "start_time": "2019-01-28T17:03:24.351491Z"
    }
   },
   "outputs": [],
   "source": [
    "df['pageviews'] = df['Page_List'].map(number_of_pageviews)"
   ]
  },
  {
   "cell_type": "code",
   "execution_count": 24,
   "metadata": {
    "ExecuteTime": {
     "end_time": "2019-01-28T17:03:48.741977Z",
     "start_time": "2019-01-28T17:03:48.688916Z"
    }
   },
   "outputs": [],
   "source": [
    "df['absolute pageviews count'] = df['pageviews'] * df['Occurrences']"
   ]
  },
  {
   "cell_type": "code",
   "execution_count": 26,
   "metadata": {
    "ExecuteTime": {
     "end_time": "2019-01-28T17:04:11.629019Z",
     "start_time": "2019-01-28T17:04:11.608479Z"
    },
    "scrolled": true
   },
   "outputs": [
    {
     "data": {
      "text/html": [
       "<div>\n",
       "<style scoped>\n",
       "    .dataframe tbody tr th:only-of-type {\n",
       "        vertical-align: middle;\n",
       "    }\n",
       "\n",
       "    .dataframe tbody tr th {\n",
       "        vertical-align: top;\n",
       "    }\n",
       "\n",
       "    .dataframe thead th {\n",
       "        text-align: right;\n",
       "    }\n",
       "</style>\n",
       "<table border=\"1\" class=\"dataframe\">\n",
       "  <thead>\n",
       "    <tr style=\"text-align: right;\">\n",
       "      <th></th>\n",
       "      <th>Sequence</th>\n",
       "      <th>PageSequence</th>\n",
       "      <th>Occurrences</th>\n",
       "      <th>Page_Seq_Occurrences</th>\n",
       "      <th>DeviceCategories</th>\n",
       "      <th>Dates</th>\n",
       "      <th>Page_Event_List</th>\n",
       "      <th>Page_List</th>\n",
       "      <th>PageSequence_internal</th>\n",
       "      <th>Event_List</th>\n",
       "      <th>num_event_cats</th>\n",
       "      <th>Event_cats_agg</th>\n",
       "      <th>Event_cat_act_agg</th>\n",
       "      <th>Page_List_NL</th>\n",
       "      <th>Page_Seq_NL</th>\n",
       "      <th>Occurrences_NL</th>\n",
       "      <th>pageviews</th>\n",
       "      <th>absolute pageviews count</th>\n",
       "    </tr>\n",
       "  </thead>\n",
       "  <tbody>\n",
       "    <tr>\n",
       "      <th>0</th>\n",
       "      <td>/guidance/rates-and-thresholds-for-employers-2016-to-2017&lt;&lt;PAGE&lt;:&lt;NULL&lt;:&lt;NULL</td>\n",
       "      <td>/guidance/rates-and-thresholds-for-employers-2016-to-2017</td>\n",
       "      <td>87</td>\n",
       "      <td>306.0</td>\n",
       "      <td>[('desktop', 64), ('mobile', 11), ('tablet', 12)]</td>\n",
       "      <td>[('20181031', 33), ('20181029', 27), ('20181102', 17), ('20181104', 10)]</td>\n",
       "      <td>[('/guidance/rates-and-thresholds-for-employers-2016-to-2017', 'PAGE&lt;:&lt;NULL&lt;:&lt;NULL')]</td>\n",
       "      <td>['/guidance/rates-and-thresholds-for-employers-2016-to-2017']</td>\n",
       "      <td>/guidance/rates-and-thresholds-for-employers-2016-to-2017</td>\n",
       "      <td>[('PAGE_NULL', 'PAGE_NULL')]</td>\n",
       "      <td>1</td>\n",
       "      <td>[('PAGE_NULL', 1)]</td>\n",
       "      <td>[(('PAGE_NULL', 'PAGE_NULL'), 1)]</td>\n",
       "      <td>['/guidance/rates-and-thresholds-for-employers-2016-to-2017']</td>\n",
       "      <td>/guidance/rates-and-thresholds-for-employers-2016-to-2017</td>\n",
       "      <td>6198.0</td>\n",
       "      <td>1</td>\n",
       "      <td>87</td>\n",
       "    </tr>\n",
       "    <tr>\n",
       "      <th>1</th>\n",
       "      <td>/sure-start-maternity-grant/how-to-claim&lt;&lt;PAGE&lt;:&lt;NULL&lt;:&lt;NULL&gt;&gt;/government/publications/sure-start-maternity-grant-claim-form&lt;&lt;PAGE&lt;:&lt;NULL&lt;:&lt;NULL&gt;&gt;/government/publications/sure-start-maternity-grant-claim-form&lt;&lt;EVENT&lt;:&lt;External Link Clicked&lt;:&lt;https://assets.publishing.service.gov.uk/government/uploads/system/uploads/attachment_data/file/749722/sure-start-maternity-grant-sf100.pdf&gt;&gt;/government/publications/sure-start-maternity-grant-claim-form&lt;&lt;EVENT&lt;:&lt;Download Link Clicked&lt;:&lt;https://assets.pu...</td>\n",
       "      <td>/sure-start-maternity-grant/how-to-claim&gt;&gt;/government/publications/sure-start-maternity-grant-claim-form</td>\n",
       "      <td>104</td>\n",
       "      <td>385.0</td>\n",
       "      <td>[('mobile', 50), ('desktop', 50), ('tablet', 4)]</td>\n",
       "      <td>[('20181031', 34), ('20181029', 31), ('20181102', 24), ('20181104', 15)]</td>\n",
       "      <td>[('/sure-start-maternity-grant/how-to-claim', 'PAGE&lt;:&lt;NULL&lt;:&lt;NULL'), ('/government/publications/sure-start-maternity-grant-claim-form', 'PAGE&lt;:&lt;NULL&lt;:&lt;NULL'), ('/government/publications/sure-start-maternity-grant-claim-form', 'EVENT&lt;:&lt;External Link Clicked&lt;:&lt;https://assets.publishing.service.gov.uk/government/uploads/system/uploads/attachment_data/file/749722/sure-start-maternity-grant-sf100.pdf'), ('/government/publications/sure-start-maternity-grant-claim-form', 'EVENT&lt;:&lt;Download Link Clic...</td>\n",
       "      <td>['/sure-start-maternity-grant/how-to-claim', '/government/publications/sure-start-maternity-grant-claim-form']</td>\n",
       "      <td>/sure-start-maternity-grant/how-to-claim&gt;&gt;/government/publications/sure-start-maternity-grant-claim-form</td>\n",
       "      <td>[('PAGE_NULL', 'PAGE_NULL'), ('PAGE_NULL', 'PAGE_NULL'), ('External Link Clicked', 'https://assets.publishing.service.gov.uk/government/uploads/system/uploads/attachment_data/file/749722/sure-start-maternity-grant-sf100.pdf'), ('Download Link Clicked', 'https://assets.publishing.service.gov.uk/government/uploads/system/uploads/attachment_data/file/749722/sure-start-maternity-grant-sf100.pdf')]</td>\n",
       "      <td>3</td>\n",
       "      <td>[('PAGE_NULL', 2), ('External Link Clicked', 1), ('Download Link Clicked', 1)]</td>\n",
       "      <td>[(('PAGE_NULL', 'PAGE_NULL'), 2), (('External Link Clicked', 'https://assets.publishing.service.gov.uk/government/uploads/system/uploads/attachment_data/file/749722/sure-start-maternity-grant-sf100.pdf'), 1), (('Download Link Clicked', 'https://assets.publishing.service.gov.uk/government/uploads/system/uploads/attachment_data/file/749722/sure-start-maternity-grant-sf100.pdf'), 1)]</td>\n",
       "      <td>['/sure-start-maternity-grant/how-to-claim', '/government/publications/sure-start-maternity-grant-claim-form']</td>\n",
       "      <td>/sure-start-maternity-grant/how-to-claim&gt;&gt;/government/publications/sure-start-maternity-grant-claim-form</td>\n",
       "      <td>7010.0</td>\n",
       "      <td>2</td>\n",
       "      <td>208</td>\n",
       "    </tr>\n",
       "  </tbody>\n",
       "</table>\n",
       "</div>"
      ],
      "text/plain": [
       "                                                                                                                                                                                                                                                                                                                                                                                                                                                                                                              Sequence  \\\n",
       "0                                                                                                                                                                                                                                                                                                                                                                                                                                        /guidance/rates-and-thresholds-for-employers-2016-to-2017<<PAGE<:<NULL<:<NULL   \n",
       "1  /sure-start-maternity-grant/how-to-claim<<PAGE<:<NULL<:<NULL>>/government/publications/sure-start-maternity-grant-claim-form<<PAGE<:<NULL<:<NULL>>/government/publications/sure-start-maternity-grant-claim-form<<EVENT<:<External Link Clicked<:<https://assets.publishing.service.gov.uk/government/uploads/system/uploads/attachment_data/file/749722/sure-start-maternity-grant-sf100.pdf>>/government/publications/sure-start-maternity-grant-claim-form<<EVENT<:<Download Link Clicked<:<https://assets.pu...   \n",
       "\n",
       "                                                                                               PageSequence  \\\n",
       "0                                                 /guidance/rates-and-thresholds-for-employers-2016-to-2017   \n",
       "1  /sure-start-maternity-grant/how-to-claim>>/government/publications/sure-start-maternity-grant-claim-form   \n",
       "\n",
       "   Occurrences  Page_Seq_Occurrences  \\\n",
       "0           87                 306.0   \n",
       "1          104                 385.0   \n",
       "\n",
       "                                    DeviceCategories  \\\n",
       "0  [('desktop', 64), ('mobile', 11), ('tablet', 12)]   \n",
       "1   [('mobile', 50), ('desktop', 50), ('tablet', 4)]   \n",
       "\n",
       "                                                                      Dates  \\\n",
       "0  [('20181031', 33), ('20181029', 27), ('20181102', 17), ('20181104', 10)]   \n",
       "1  [('20181031', 34), ('20181029', 31), ('20181102', 24), ('20181104', 15)]   \n",
       "\n",
       "                                                                                                                                                                                                                                                                                                                                                                                                                                                                                                       Page_Event_List  \\\n",
       "0                                                                                                                                                                                                                                                                                                                                                                                                                                [('/guidance/rates-and-thresholds-for-employers-2016-to-2017', 'PAGE<:<NULL<:<NULL')]   \n",
       "1  [('/sure-start-maternity-grant/how-to-claim', 'PAGE<:<NULL<:<NULL'), ('/government/publications/sure-start-maternity-grant-claim-form', 'PAGE<:<NULL<:<NULL'), ('/government/publications/sure-start-maternity-grant-claim-form', 'EVENT<:<External Link Clicked<:<https://assets.publishing.service.gov.uk/government/uploads/system/uploads/attachment_data/file/749722/sure-start-maternity-grant-sf100.pdf'), ('/government/publications/sure-start-maternity-grant-claim-form', 'EVENT<:<Download Link Clic...   \n",
       "\n",
       "                                                                                                        Page_List  \\\n",
       "0                                                   ['/guidance/rates-and-thresholds-for-employers-2016-to-2017']   \n",
       "1  ['/sure-start-maternity-grant/how-to-claim', '/government/publications/sure-start-maternity-grant-claim-form']   \n",
       "\n",
       "                                                                                      PageSequence_internal  \\\n",
       "0                                                 /guidance/rates-and-thresholds-for-employers-2016-to-2017   \n",
       "1  /sure-start-maternity-grant/how-to-claim>>/government/publications/sure-start-maternity-grant-claim-form   \n",
       "\n",
       "                                                                                                                                                                                                                                                                                                                                                                                                     Event_List  \\\n",
       "0                                                                                                                                                                                                                                                                                                                                                                                  [('PAGE_NULL', 'PAGE_NULL')]   \n",
       "1  [('PAGE_NULL', 'PAGE_NULL'), ('PAGE_NULL', 'PAGE_NULL'), ('External Link Clicked', 'https://assets.publishing.service.gov.uk/government/uploads/system/uploads/attachment_data/file/749722/sure-start-maternity-grant-sf100.pdf'), ('Download Link Clicked', 'https://assets.publishing.service.gov.uk/government/uploads/system/uploads/attachment_data/file/749722/sure-start-maternity-grant-sf100.pdf')]   \n",
       "\n",
       "   num_event_cats  \\\n",
       "0               1   \n",
       "1               3   \n",
       "\n",
       "                                                                   Event_cats_agg  \\\n",
       "0                                                              [('PAGE_NULL', 1)]   \n",
       "1  [('PAGE_NULL', 2), ('External Link Clicked', 1), ('Download Link Clicked', 1)]   \n",
       "\n",
       "                                                                                                                                                                                                                                                                                                                                                                                 Event_cat_act_agg  \\\n",
       "0                                                                                                                                                                                                                                                                                                                                                                [(('PAGE_NULL', 'PAGE_NULL'), 1)]   \n",
       "1  [(('PAGE_NULL', 'PAGE_NULL'), 2), (('External Link Clicked', 'https://assets.publishing.service.gov.uk/government/uploads/system/uploads/attachment_data/file/749722/sure-start-maternity-grant-sf100.pdf'), 1), (('Download Link Clicked', 'https://assets.publishing.service.gov.uk/government/uploads/system/uploads/attachment_data/file/749722/sure-start-maternity-grant-sf100.pdf'), 1)]   \n",
       "\n",
       "                                                                                                     Page_List_NL  \\\n",
       "0                                                   ['/guidance/rates-and-thresholds-for-employers-2016-to-2017']   \n",
       "1  ['/sure-start-maternity-grant/how-to-claim', '/government/publications/sure-start-maternity-grant-claim-form']   \n",
       "\n",
       "                                                                                                Page_Seq_NL  \\\n",
       "0                                                 /guidance/rates-and-thresholds-for-employers-2016-to-2017   \n",
       "1  /sure-start-maternity-grant/how-to-claim>>/government/publications/sure-start-maternity-grant-claim-form   \n",
       "\n",
       "   Occurrences_NL  pageviews  absolute pageviews count  \n",
       "0          6198.0          1                        87  \n",
       "1          7010.0          2                       208  "
      ]
     },
     "execution_count": 26,
     "metadata": {},
     "output_type": "execute_result"
    }
   ],
   "source": [
    "df.head(2)"
   ]
  },
  {
   "cell_type": "code",
   "execution_count": null,
   "metadata": {},
   "outputs": [],
   "source": []
  }
 ],
 "metadata": {
  "kernelspec": {
   "display_name": "Python 3",
   "language": "python",
   "name": "python3"
  },
  "language_info": {
   "codemirror_mode": {
    "name": "ipython",
    "version": 3
   },
   "file_extension": ".py",
   "mimetype": "text/x-python",
   "name": "python",
   "nbconvert_exporter": "python",
   "pygments_lexer": "ipython3",
   "version": "3.6.0"
  },
  "toc": {
   "base_numbering": 1,
   "nav_menu": {},
   "number_sections": true,
   "sideBar": true,
   "skip_h1_title": false,
   "title_cell": "Table of Contents",
   "title_sidebar": "Contents",
   "toc_cell": false,
   "toc_position": {
    "height": "calc(100% - 180px)",
    "left": "10px",
    "top": "150px",
    "width": "508px"
   },
   "toc_section_display": true,
   "toc_window_display": true
  }
 },
 "nbformat": 4,
 "nbformat_minor": 2
}
