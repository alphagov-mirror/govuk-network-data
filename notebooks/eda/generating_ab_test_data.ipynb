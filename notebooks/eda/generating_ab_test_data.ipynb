{
 "cells": [
  {
   "cell_type": "code",
   "execution_count": 1,
   "metadata": {
    "ExecuteTime": {
     "end_time": "2019-02-04T14:39:36.074957Z",
     "start_time": "2019-02-04T14:39:23.801066Z"
    }
   },
   "outputs": [],
   "source": [
    "import os \n",
    "import pandas as pd\n",
    "import numpy as np\n",
    "import ast\n",
    "import matplotlib.pyplot as plt\n",
    "\n",
    "from collections import Counter"
   ]
  },
  {
   "cell_type": "code",
   "execution_count": 2,
   "metadata": {
    "ExecuteTime": {
     "end_time": "2019-02-04T14:39:36.088364Z",
     "start_time": "2019-02-04T14:39:36.078708Z"
    }
   },
   "outputs": [],
   "source": [
    "%matplotlib inline"
   ]
  },
  {
   "cell_type": "code",
   "execution_count": 3,
   "metadata": {
    "ExecuteTime": {
     "end_time": "2019-02-04T14:39:36.106158Z",
     "start_time": "2019-02-04T14:39:36.090937Z"
    }
   },
   "outputs": [
    {
     "name": "stdout",
     "output_type": "stream",
     "text": [
      "50\n"
     ]
    }
   ],
   "source": [
    "# Some of the columns we will look at can be quite wide, but it's good to get an idea of what they contain\n",
    "print(pd.get_option('max_colwidth'))\n",
    "pd.set_option('max_colwidth',500)"
   ]
  },
  {
   "cell_type": "markdown",
   "metadata": {},
   "source": [
    "## File/dir locations\n"
   ]
  },
  {
   "cell_type": "code",
   "execution_count": 4,
   "metadata": {
    "ExecuteTime": {
     "end_time": "2019-02-04T14:43:34.447871Z",
     "start_time": "2019-02-04T14:43:34.373331Z"
    }
   },
   "outputs": [],
   "source": [
    "DATA_DIR = os.getenv(\"DATA_DIR\")\n",
    "filename = \"preprocessed_taxon_pageseq_20190114_20190116.csv.gz\"\n",
    "# df_file = os.path.join(DATA_DIR, \"processed_journey\", filename)\n",
    "# df_reduced_file = os.path.join(DATA_DIR, \"processed_journey\", \"reduced_\"+filename)\n",
    "# df_rel_file = os.path.join(DATA_DIR, \"processed_journey\", \"rel_\"+filename)\n",
    "df_doo_file = os.path.join(\n",
    "    DATA_DIR, \"processed_journey\",\n",
    "    \"doo_prelim_meta_standard_with_pageseq_from_29-10_to_04-11-2018.csv.gz\")"
   ]
  },
  {
   "cell_type": "markdown",
   "metadata": {},
   "source": [
    "Load up a data file that isn't too large - we just want to check that the putative metrics for analysis can be derived from the data. This data was produced by an early version of the pipeline and is missing some descriptive variables, such as taxons etc. However, it contains the sequences of pages and behaviours (or events) of users on those pages, including interaction with the sidebar and the related links contained therein."
   ]
  },
  {
   "cell_type": "code",
   "execution_count": 5,
   "metadata": {
    "ExecuteTime": {
     "end_time": "2019-02-04T14:45:04.429825Z",
     "start_time": "2019-02-04T14:43:36.287625Z"
    }
   },
   "outputs": [],
   "source": [
    "df = pd.read_csv(df_doo_file, compression=\"gzip\")"
   ]
  },
  {
   "cell_type": "code",
   "execution_count": 6,
   "metadata": {
    "ExecuteTime": {
     "end_time": "2019-02-04T14:45:04.871869Z",
     "start_time": "2019-02-04T14:45:04.452260Z"
    }
   },
   "outputs": [
    {
     "data": {
      "text/html": [
       "<div>\n",
       "<style scoped>\n",
       "    .dataframe tbody tr th:only-of-type {\n",
       "        vertical-align: middle;\n",
       "    }\n",
       "\n",
       "    .dataframe tbody tr th {\n",
       "        vertical-align: top;\n",
       "    }\n",
       "\n",
       "    .dataframe thead th {\n",
       "        text-align: right;\n",
       "    }\n",
       "</style>\n",
       "<table border=\"1\" class=\"dataframe\">\n",
       "  <thead>\n",
       "    <tr style=\"text-align: right;\">\n",
       "      <th></th>\n",
       "      <th>Sequence</th>\n",
       "      <th>PageSequence</th>\n",
       "      <th>Occurrences</th>\n",
       "      <th>Page_Seq_Occurrences</th>\n",
       "      <th>DeviceCategories</th>\n",
       "      <th>Dates</th>\n",
       "      <th>Page_Event_List</th>\n",
       "      <th>Page_List</th>\n",
       "      <th>PageSequence_internal</th>\n",
       "      <th>Event_List</th>\n",
       "      <th>num_event_cats</th>\n",
       "      <th>Event_cats_agg</th>\n",
       "      <th>Event_cat_act_agg</th>\n",
       "      <th>Page_List_NL</th>\n",
       "      <th>Page_Seq_NL</th>\n",
       "      <th>Occurrences_NL</th>\n",
       "    </tr>\n",
       "  </thead>\n",
       "  <tbody>\n",
       "    <tr>\n",
       "      <th>0</th>\n",
       "      <td>/guidance/rates-and-thresholds-for-employers-2016-to-2017&lt;&lt;PAGE&lt;:&lt;NULL&lt;:&lt;NULL</td>\n",
       "      <td>/guidance/rates-and-thresholds-for-employers-2016-to-2017</td>\n",
       "      <td>87</td>\n",
       "      <td>306.0</td>\n",
       "      <td>[('desktop', 64), ('mobile', 11), ('tablet', 12)]</td>\n",
       "      <td>[('20181031', 33), ('20181029', 27), ('20181102', 17), ('20181104', 10)]</td>\n",
       "      <td>[('/guidance/rates-and-thresholds-for-employers-2016-to-2017', 'PAGE&lt;:&lt;NULL&lt;:&lt;NULL')]</td>\n",
       "      <td>['/guidance/rates-and-thresholds-for-employers-2016-to-2017']</td>\n",
       "      <td>/guidance/rates-and-thresholds-for-employers-2016-to-2017</td>\n",
       "      <td>[('PAGE_NULL', 'PAGE_NULL')]</td>\n",
       "      <td>1</td>\n",
       "      <td>[('PAGE_NULL', 1)]</td>\n",
       "      <td>[(('PAGE_NULL', 'PAGE_NULL'), 1)]</td>\n",
       "      <td>['/guidance/rates-and-thresholds-for-employers-2016-to-2017']</td>\n",
       "      <td>/guidance/rates-and-thresholds-for-employers-2016-to-2017</td>\n",
       "      <td>6198.0</td>\n",
       "    </tr>\n",
       "    <tr>\n",
       "      <th>1</th>\n",
       "      <td>/sure-start-maternity-grant/how-to-claim&lt;&lt;PAGE&lt;:&lt;NULL&lt;:&lt;NULL&gt;&gt;/government/publications/sure-start-maternity-grant-claim-form&lt;&lt;PAGE&lt;:&lt;NULL&lt;:&lt;NULL&gt;&gt;/government/publications/sure-start-maternity-grant-claim-form&lt;&lt;EVENT&lt;:&lt;External Link Clicked&lt;:&lt;https://assets.publishing.service.gov.uk/government/uploads/system/uploads/attachment_data/file/749722/sure-start-maternity-grant-sf100.pdf&gt;&gt;/government/publications/sure-start-maternity-grant-claim-form&lt;&lt;EVENT&lt;:&lt;Download Link Clicked&lt;:&lt;https://assets.pu...</td>\n",
       "      <td>/sure-start-maternity-grant/how-to-claim&gt;&gt;/government/publications/sure-start-maternity-grant-claim-form</td>\n",
       "      <td>104</td>\n",
       "      <td>385.0</td>\n",
       "      <td>[('mobile', 50), ('desktop', 50), ('tablet', 4)]</td>\n",
       "      <td>[('20181031', 34), ('20181029', 31), ('20181102', 24), ('20181104', 15)]</td>\n",
       "      <td>[('/sure-start-maternity-grant/how-to-claim', 'PAGE&lt;:&lt;NULL&lt;:&lt;NULL'), ('/government/publications/sure-start-maternity-grant-claim-form', 'PAGE&lt;:&lt;NULL&lt;:&lt;NULL'), ('/government/publications/sure-start-maternity-grant-claim-form', 'EVENT&lt;:&lt;External Link Clicked&lt;:&lt;https://assets.publishing.service.gov.uk/government/uploads/system/uploads/attachment_data/file/749722/sure-start-maternity-grant-sf100.pdf'), ('/government/publications/sure-start-maternity-grant-claim-form', 'EVENT&lt;:&lt;Download Link Clic...</td>\n",
       "      <td>['/sure-start-maternity-grant/how-to-claim', '/government/publications/sure-start-maternity-grant-claim-form']</td>\n",
       "      <td>/sure-start-maternity-grant/how-to-claim&gt;&gt;/government/publications/sure-start-maternity-grant-claim-form</td>\n",
       "      <td>[('PAGE_NULL', 'PAGE_NULL'), ('PAGE_NULL', 'PAGE_NULL'), ('External Link Clicked', 'https://assets.publishing.service.gov.uk/government/uploads/system/uploads/attachment_data/file/749722/sure-start-maternity-grant-sf100.pdf'), ('Download Link Clicked', 'https://assets.publishing.service.gov.uk/government/uploads/system/uploads/attachment_data/file/749722/sure-start-maternity-grant-sf100.pdf')]</td>\n",
       "      <td>3</td>\n",
       "      <td>[('PAGE_NULL', 2), ('External Link Clicked', 1), ('Download Link Clicked', 1)]</td>\n",
       "      <td>[(('PAGE_NULL', 'PAGE_NULL'), 2), (('External Link Clicked', 'https://assets.publishing.service.gov.uk/government/uploads/system/uploads/attachment_data/file/749722/sure-start-maternity-grant-sf100.pdf'), 1), (('Download Link Clicked', 'https://assets.publishing.service.gov.uk/government/uploads/system/uploads/attachment_data/file/749722/sure-start-maternity-grant-sf100.pdf'), 1)]</td>\n",
       "      <td>['/sure-start-maternity-grant/how-to-claim', '/government/publications/sure-start-maternity-grant-claim-form']</td>\n",
       "      <td>/sure-start-maternity-grant/how-to-claim&gt;&gt;/government/publications/sure-start-maternity-grant-claim-form</td>\n",
       "      <td>7010.0</td>\n",
       "    </tr>\n",
       "  </tbody>\n",
       "</table>\n",
       "</div>"
      ],
      "text/plain": [
       "                                                                                                                                                                                                                                                                                                                                                                                                                                                                                                              Sequence  \\\n",
       "0                                                                                                                                                                                                                                                                                                                                                                                                                                        /guidance/rates-and-thresholds-for-employers-2016-to-2017<<PAGE<:<NULL<:<NULL   \n",
       "1  /sure-start-maternity-grant/how-to-claim<<PAGE<:<NULL<:<NULL>>/government/publications/sure-start-maternity-grant-claim-form<<PAGE<:<NULL<:<NULL>>/government/publications/sure-start-maternity-grant-claim-form<<EVENT<:<External Link Clicked<:<https://assets.publishing.service.gov.uk/government/uploads/system/uploads/attachment_data/file/749722/sure-start-maternity-grant-sf100.pdf>>/government/publications/sure-start-maternity-grant-claim-form<<EVENT<:<Download Link Clicked<:<https://assets.pu...   \n",
       "\n",
       "                                                                                               PageSequence  \\\n",
       "0                                                 /guidance/rates-and-thresholds-for-employers-2016-to-2017   \n",
       "1  /sure-start-maternity-grant/how-to-claim>>/government/publications/sure-start-maternity-grant-claim-form   \n",
       "\n",
       "   Occurrences  Page_Seq_Occurrences  \\\n",
       "0           87                 306.0   \n",
       "1          104                 385.0   \n",
       "\n",
       "                                    DeviceCategories  \\\n",
       "0  [('desktop', 64), ('mobile', 11), ('tablet', 12)]   \n",
       "1   [('mobile', 50), ('desktop', 50), ('tablet', 4)]   \n",
       "\n",
       "                                                                      Dates  \\\n",
       "0  [('20181031', 33), ('20181029', 27), ('20181102', 17), ('20181104', 10)]   \n",
       "1  [('20181031', 34), ('20181029', 31), ('20181102', 24), ('20181104', 15)]   \n",
       "\n",
       "                                                                                                                                                                                                                                                                                                                                                                                                                                                                                                       Page_Event_List  \\\n",
       "0                                                                                                                                                                                                                                                                                                                                                                                                                                [('/guidance/rates-and-thresholds-for-employers-2016-to-2017', 'PAGE<:<NULL<:<NULL')]   \n",
       "1  [('/sure-start-maternity-grant/how-to-claim', 'PAGE<:<NULL<:<NULL'), ('/government/publications/sure-start-maternity-grant-claim-form', 'PAGE<:<NULL<:<NULL'), ('/government/publications/sure-start-maternity-grant-claim-form', 'EVENT<:<External Link Clicked<:<https://assets.publishing.service.gov.uk/government/uploads/system/uploads/attachment_data/file/749722/sure-start-maternity-grant-sf100.pdf'), ('/government/publications/sure-start-maternity-grant-claim-form', 'EVENT<:<Download Link Clic...   \n",
       "\n",
       "                                                                                                        Page_List  \\\n",
       "0                                                   ['/guidance/rates-and-thresholds-for-employers-2016-to-2017']   \n",
       "1  ['/sure-start-maternity-grant/how-to-claim', '/government/publications/sure-start-maternity-grant-claim-form']   \n",
       "\n",
       "                                                                                      PageSequence_internal  \\\n",
       "0                                                 /guidance/rates-and-thresholds-for-employers-2016-to-2017   \n",
       "1  /sure-start-maternity-grant/how-to-claim>>/government/publications/sure-start-maternity-grant-claim-form   \n",
       "\n",
       "                                                                                                                                                                                                                                                                                                                                                                                                     Event_List  \\\n",
       "0                                                                                                                                                                                                                                                                                                                                                                                  [('PAGE_NULL', 'PAGE_NULL')]   \n",
       "1  [('PAGE_NULL', 'PAGE_NULL'), ('PAGE_NULL', 'PAGE_NULL'), ('External Link Clicked', 'https://assets.publishing.service.gov.uk/government/uploads/system/uploads/attachment_data/file/749722/sure-start-maternity-grant-sf100.pdf'), ('Download Link Clicked', 'https://assets.publishing.service.gov.uk/government/uploads/system/uploads/attachment_data/file/749722/sure-start-maternity-grant-sf100.pdf')]   \n",
       "\n",
       "   num_event_cats  \\\n",
       "0               1   \n",
       "1               3   \n",
       "\n",
       "                                                                   Event_cats_agg  \\\n",
       "0                                                              [('PAGE_NULL', 1)]   \n",
       "1  [('PAGE_NULL', 2), ('External Link Clicked', 1), ('Download Link Clicked', 1)]   \n",
       "\n",
       "                                                                                                                                                                                                                                                                                                                                                                                 Event_cat_act_agg  \\\n",
       "0                                                                                                                                                                                                                                                                                                                                                                [(('PAGE_NULL', 'PAGE_NULL'), 1)]   \n",
       "1  [(('PAGE_NULL', 'PAGE_NULL'), 2), (('External Link Clicked', 'https://assets.publishing.service.gov.uk/government/uploads/system/uploads/attachment_data/file/749722/sure-start-maternity-grant-sf100.pdf'), 1), (('Download Link Clicked', 'https://assets.publishing.service.gov.uk/government/uploads/system/uploads/attachment_data/file/749722/sure-start-maternity-grant-sf100.pdf'), 1)]   \n",
       "\n",
       "                                                                                                     Page_List_NL  \\\n",
       "0                                                   ['/guidance/rates-and-thresholds-for-employers-2016-to-2017']   \n",
       "1  ['/sure-start-maternity-grant/how-to-claim', '/government/publications/sure-start-maternity-grant-claim-form']   \n",
       "\n",
       "                                                                                                Page_Seq_NL  \\\n",
       "0                                                 /guidance/rates-and-thresholds-for-employers-2016-to-2017   \n",
       "1  /sure-start-maternity-grant/how-to-claim>>/government/publications/sure-start-maternity-grant-claim-form   \n",
       "\n",
       "   Occurrences_NL  \n",
       "0          6198.0  \n",
       "1          7010.0  "
      ]
     },
     "execution_count": 6,
     "metadata": {},
     "output_type": "execute_result"
    }
   ],
   "source": [
    "df.head(2)"
   ]
  },
  {
   "cell_type": "code",
   "execution_count": 7,
   "metadata": {
    "ExecuteTime": {
     "end_time": "2019-02-04T14:45:04.894284Z",
     "start_time": "2019-02-04T14:45:04.878785Z"
    }
   },
   "outputs": [
    {
     "data": {
      "text/plain": [
       "(2035522, 16)"
      ]
     },
     "execution_count": 7,
     "metadata": {},
     "output_type": "execute_result"
    }
   ],
   "source": [
    "df.shape"
   ]
  },
  {
   "cell_type": "markdown",
   "metadata": {},
   "source": [
    "## Remove tablet occurrences"
   ]
  },
  {
   "cell_type": "markdown",
   "metadata": {},
   "source": [
    "Tablet data won't be in our future datasets so let's remove it here. We won't be using it in future because depending on screen width/orientation it can display the page in a \"mobile\" or \"desktop\" format, where related links are in different places, this will make analysis of the data more complicated."
   ]
  },
  {
   "cell_type": "code",
   "execution_count": 8,
   "metadata": {
    "ExecuteTime": {
     "end_time": "2019-02-04T14:45:58.969039Z",
     "start_time": "2019-02-04T14:45:04.907539Z"
    }
   },
   "outputs": [
    {
     "data": {
      "text/plain": [
       "(1893413, 17)"
      ]
     },
     "execution_count": 8,
     "metadata": {},
     "output_type": "execute_result"
    }
   ],
   "source": [
    "def device_count(x, device):\n",
    "    return sum([value for item, value in x if item == device])\n",
    "\n",
    "df[\"TabletCount\"] = df['DeviceCategories'].apply(\n",
    "    ast.literal_eval).map(lambda x: device_count(x, \"tablet\"))\n",
    "df[\"Occurrences\"] = df[\"Occurrences\"] - df[\"TabletCount\"]\n",
    "df = df[df[\"Occurrences\"] != 0]\n",
    "df.shape"
   ]
  },
  {
   "cell_type": "markdown",
   "metadata": {},
   "source": [
    "## Planning\n",
    "\n",
    "Inspecting our putative metrics for detecting a change in user navigation experience gives us three ratios. Thus we need to check that we can get the numerator and denominator from the data for each of these metrics.\n"
   ]
  },
  {
   "cell_type": "code",
   "execution_count": 11,
   "metadata": {
    "ExecuteTime": {
     "end_time": "2019-02-04T14:50:25.351613Z",
     "start_time": "2019-02-04T14:48:57.748578Z"
    }
   },
   "outputs": [],
   "source": [
    "df['Event_cat_act_agg']= df['Event_cat_act_agg'].apply(ast.literal_eval)"
   ]
  },
  {
   "cell_type": "code",
   "execution_count": 12,
   "metadata": {
    "ExecuteTime": {
     "end_time": "2019-02-04T14:51:01.439277Z",
     "start_time": "2019-02-04T14:50:59.986081Z"
    }
   },
   "outputs": [],
   "source": [
    "events = []\n",
    "for items in df['Event_cat_act_agg']:\n",
    "    for event in items:\n",
    "        events.append(event[0])"
   ]
  },
  {
   "cell_type": "code",
   "execution_count": 13,
   "metadata": {
    "ExecuteTime": {
     "end_time": "2019-02-04T14:51:01.511235Z",
     "start_time": "2019-02-04T14:51:01.504517Z"
    }
   },
   "outputs": [
    {
     "data": {
      "text/plain": [
       "[('PAGE_NULL', 'PAGE_NULL'),\n",
       " ('PAGE_NULL', 'PAGE_NULL'),\n",
       " ('External Link Clicked',\n",
       "  'https://assets.publishing.service.gov.uk/government/uploads/system/uploads/attachment_data/file/749722/sure-start-maternity-grant-sf100.pdf'),\n",
       " ('Download Link Clicked',\n",
       "  'https://assets.publishing.service.gov.uk/government/uploads/system/uploads/attachment_data/file/749722/sure-start-maternity-grant-sf100.pdf')]"
      ]
     },
     "execution_count": 13,
     "metadata": {},
     "output_type": "execute_result"
    }
   ],
   "source": [
    "events[:4]"
   ]
  },
  {
   "cell_type": "code",
   "execution_count": 51,
   "metadata": {
    "ExecuteTime": {
     "end_time": "2019-02-04T15:13:23.798664Z",
     "start_time": "2019-02-04T15:13:23.771715Z"
    }
   },
   "outputs": [],
   "source": [
    "# look at counter of events\n",
    "# Counter(events)"
   ]
  },
  {
   "cell_type": "markdown",
   "metadata": {},
   "source": [
    "Related link events eventCategory:\n",
    "- relatedLinkClicked (eventAction e.g. 1.3 Related content)\n",
    "\n",
    "There is more than one level to this Event, we are specifically interested in \"Related content\" (as this is the sidebar of the page, the related links we are interested in)."
   ]
  },
  {
   "cell_type": "markdown",
   "metadata": {
    "ExecuteTime": {
     "end_time": "2019-01-28T17:28:41.336348Z",
     "start_time": "2019-01-28T17:28:41.331609Z"
    }
   },
   "source": [
    "### Navigation events\n",
    "Potential nav events eventCategory:\n",
    "- breadcrumbClicked\n",
    "- homeLinkClicked -  First full day of data 08 Nov 2018\n",
    "- searchResults - deprecated according to [GOV.UK wiki](https://gov-uk.atlassian.net/wiki/spaces/GOVUK/pages/23855552/Analytics+on+GOV.UK#AnalyticsonGOV.UK-Events), but still firing on the site - **doesn't fire if there are no search results, so let's use page = search instead**  i.e. '/search?q=' in page\n",
    "- relatedLinkClicked (eventAction e.g. 1.1 Explore the topic) - Explore the topic links at the bottom of a content page\n",
    "\n",
    "**What events correspond to the links in grey right at the bottom of the page?**\n",
    "\n",
    "more events to look into:\n",
    "- ~~firstLevelBrowseLinkClicked~~  relates to browse page\n",
    "- ~~secondLevelBrowseLinkClicked~~ relates to browse page\n",
    "\n",
    "- ~~navDocumentCollectionLinkClicked~~ click on a link that leads you to a collection of documents, e.g from https://www.gov.uk/government/collections/data-protection-act-2018 \n",
    "- ~~navFinderLinkClicked~~ click a link from a finder's results, eg. from https://www.gov.uk/raib-reports\n",
    "- ~~navAccordionLinkClicked~~ expand a section on a page e.g. https://www.gov.uk/world/germany#/world/emergency-help-for-british-nationals-germany\n",
    "- ~~navLeafLinkClicked~~ click on a section from a taxon page like https://www.gov.uk/world/brexit-ireland\n",
    "- ~~navServicesInformationLinkClicked~~ click a link from a services_and_information page like https://www.gov.uk/government/organisations/hm-revenue-customs/services-information\n",
    "- ~~navSubtopicContentItemLinkClicked~~\t- click on a content item from a topic page, e.g. 'Self-employed National Insurance rates' from https://www.gov.uk/topic/personal-tax/national-insurance\n",
    "- ~~navSubtopicLinkClicked~~ a link to a subtopic from a topic page is clicked, e.g from https://www.gov.uk/topic/working-sea\n",
    "- navTopicLinkClicked not in this sample\n",
    "- ~~searchBoxFilter~~ use the search box on a page like https://www.gov.uk/world\n",
    "- ~~navGridContentClicked~~ exploring a subtopic from a topic page, e.g. the grid at the bottom of https://www.gov.uk/environment/climate-change-energy\n",
    "\n",
    "\n",
    "**step by step - do not include?**\n",
    "- ~~stepNavHeaderClicked~~ - if a content page is part of a step by step, this is clicking the link to the step by step at the top of the page - does this indicate they are lost or they are where they want to be?\n",
    "- ~~stepNavLinkClicked~~ - a link to click through to another part of the step by step is clicked\n",
    "- ~~stepNavPartOfClicked~~ - sidebar part of step by step link clicked"
   ]
  },
  {
   "cell_type": "code",
   "execution_count": 17,
   "metadata": {
    "ExecuteTime": {
     "end_time": "2019-02-04T14:52:50.252761Z",
     "start_time": "2019-02-04T14:52:50.245714Z"
    }
   },
   "outputs": [],
   "source": [
    "# look at search pages\n",
    "def contains_search(x):\n",
    "    return '/search?q=' in x "
   ]
  },
  {
   "cell_type": "code",
   "execution_count": 306,
   "metadata": {
    "ExecuteTime": {
     "end_time": "2019-02-06T15:29:12.738839Z",
     "start_time": "2019-02-06T15:29:12.736543Z"
    }
   },
   "outputs": [],
   "source": [
    "# df[df['Sequence'].map(contains_search)]"
   ]
  },
  {
   "cell_type": "code",
   "execution_count": 19,
   "metadata": {
    "ExecuteTime": {
     "end_time": "2019-02-04T14:53:42.852290Z",
     "start_time": "2019-02-04T14:53:42.824737Z"
    }
   },
   "outputs": [],
   "source": [
    "# use this fn to look at rows in the DF that contain a specific event category, or \n",
    "# anything else you want to find in 'Sequence', then you can look at the pages to \n",
    "# work out how the event can occur\n",
    "def look_at_event(event_cat):\n",
    "    return df[df['Sequence'].map(lambda x: event_cat in x)].head(5)"
   ]
  },
  {
   "cell_type": "code",
   "execution_count": 307,
   "metadata": {
    "ExecuteTime": {
     "end_time": "2019-02-06T15:29:16.195596Z",
     "start_time": "2019-02-06T15:29:16.193359Z"
    }
   },
   "outputs": [],
   "source": [
    "# df[df['Sequence'].map(lambda x: '>>/<<' in x)]"
   ]
  },
  {
   "cell_type": "markdown",
   "metadata": {},
   "source": [
    "### Page types\n",
    "\n",
    "We want to know what page types different pages are because we care about navigation elements clicked **from a content page** and the total number of journeys that contain **only content pages and related links**.\n",
    "\n",
    "Initially we wanted to use [User journey supertype](https://docs.publishing.service.gov.uk/document-types/user_journey_document_supertype.html) from [custom dimensions](https://gov-uk.atlassian.net/wiki/spaces/GOVUK/pages/23855552/Analytics+on+GOV.UK#AnalyticsonGOV.UK-customDimensionsCustomdimensions), where each page is either classified as 'finding' or 'thing'. Unfortunately this dimension is poorly populated in BigQuery due to someone disabling it, and occasionally the same page path and page title can be reported as both a 'finding' and a 'thing' at different times (e.g. the GOV.UK homepage).\n",
    "\n",
    "The next option is using 'Format' (document type) from [custom dimensions](https://gov-uk.atlassian.net/wiki/spaces/GOVUK/pages/23855552/Analytics+on+GOV.UK#AnalyticsonGOV.UK-customDimensionsCustomdimensions), which is a lot better populated but a lot more granular, you can find a sample of a day's data with pageviews from GA [here](https://docs.google.com/spreadsheets/d/1-jen8DbRgvmvF9aYapmwsFAe0ncHeq5y-ks75iyCvVU/edit#gid=177174931).\n",
    "\n",
    "*NB - a data dump from the content API is probably the most reliable source for a mapping of page paths to document types and then to finding/thing, however there's a bit of outlay in understanding how that data can be accessed and how it is structured so a BigQuery query is most appropriate for a first stab at this.*"
   ]
  },
  {
   "cell_type": "markdown",
   "metadata": {},
   "source": [
    "**TODO** one query to get pagePath, format (or map this to finding/thing), content ID, where content_id != '00000000-0000-0000-0000-000000000000'"
   ]
  },
  {
   "cell_type": "code",
   "execution_count": 52,
   "metadata": {
    "ExecuteTime": {
     "end_time": "2019-02-04T15:18:34.197235Z",
     "start_time": "2019-02-04T15:18:34.074463Z"
    }
   },
   "outputs": [],
   "source": [
    "ProjectID = 'govuk-bigquery-analytics'\n",
    "KEY_DIR = os.getenv(\"BQ_KEY_DIR\")\n",
    "key_file_path = os.path.join(KEY_DIR, os.listdir(KEY_DIR)[0])"
   ]
  },
  {
   "cell_type": "code",
   "execution_count": 132,
   "metadata": {
    "ExecuteTime": {
     "end_time": "2019-02-05T16:27:32.586753Z",
     "start_time": "2019-02-05T16:27:32.582407Z"
    },
    "code_folding": [
     0
    ]
   },
   "outputs": [],
   "source": [
    "# OLD_QUERY = \"\"\"\n",
    "#     SELECT DISTINCT\n",
    "#     content_id,\n",
    "#     pagePath,\n",
    "#     IF(document_type IN ('document_collection',\n",
    "#       'finder',\n",
    "#       'homepage',\n",
    "#       'license_finder',\n",
    "#       'mainstream_browse_page',\n",
    "#       'organisation',\n",
    "#       'search',\n",
    "#       'service_manual_homepage',\n",
    "#       'service_manual_topic',\n",
    "#       'services_and_information',\n",
    "#       'taxon',\n",
    "#       'topic',\n",
    "#       'topical_event'),'finding','thing') as finding_or_thing\n",
    "#     FROM\n",
    "#       (SELECT \n",
    "#           (\n",
    "#         SELECT\n",
    "#           value\n",
    "#         FROM\n",
    "#           hits.customDimensions\n",
    "#         WHERE\n",
    "#           index=4) AS content_id,\n",
    "#           hits.page.pagePath, \n",
    "#         (\n",
    "#         SELECT\n",
    "#           value\n",
    "#         FROM\n",
    "#           hits.customDimensions\n",
    "#         WHERE\n",
    "#           index=2) AS document_type\n",
    "#       FROM\n",
    "#         `govuk-bigquery-analytics.87773428.ga_sessions_*` AS sessions\n",
    "#       CROSS JOIN\n",
    "#         UNNEST(sessions.hits) AS hits\n",
    "#          WHERE _TABLE_SUFFIX BETWEEN '20190121'\n",
    "#      AND '20190127'\n",
    "#       )\n",
    "#     WHERE\n",
    "#       content_id != '00000000-0000-0000-0000-000000000000'\n",
    "#       AND content_id != '[object Object]'\n",
    "#       AND content_id IS NOT NULL\n",
    "# \"\"\""
   ]
  },
  {
   "cell_type": "code",
   "execution_count": 156,
   "metadata": {
    "ExecuteTime": {
     "end_time": "2019-02-05T17:00:27.391338Z",
     "start_time": "2019-02-05T17:00:27.376330Z"
    }
   },
   "outputs": [],
   "source": [
    "QUERY = \"\"\"\n",
    "    SELECT \n",
    "    pagePath,\n",
    "    MAX(IF(document_type IN ('document_collection',\n",
    "      'finder',\n",
    "      'homepage',\n",
    "      'license_finder',\n",
    "      'mainstream_browse_page',\n",
    "      'organisation',\n",
    "      'search',\n",
    "      'service_manual_homepage',\n",
    "      'service_manual_topic',\n",
    "      'services_and_information',\n",
    "      'taxon',\n",
    "      'topic',\n",
    "      'topical_event'),1,0)) AS is_finding\n",
    "    FROM\n",
    "      (SELECT \n",
    "          (\n",
    "        SELECT\n",
    "          value\n",
    "        FROM\n",
    "          hits.customDimensions\n",
    "        WHERE\n",
    "          index=4) AS content_id,\n",
    "          hits.page.pagePath, \n",
    "        (\n",
    "        SELECT\n",
    "          value\n",
    "        FROM\n",
    "          hits.customDimensions\n",
    "        WHERE\n",
    "          index=2) AS document_type\n",
    "      FROM\n",
    "        `govuk-bigquery-analytics.87773428.ga_sessions_*` AS sessions\n",
    "      CROSS JOIN\n",
    "        UNNEST(sessions.hits) AS hits\n",
    "         WHERE _TABLE_SUFFIX BETWEEN '20190121'\n",
    "     AND '20190127'\n",
    "      )\n",
    "    WHERE\n",
    "      content_id != '00000000-0000-0000-0000-000000000000'\n",
    "      AND content_id != '[object Object]'\n",
    "      AND content_id IS NOT NULL\n",
    "    GROUP BY 1\n",
    "\"\"\""
   ]
  },
  {
   "cell_type": "code",
   "execution_count": 157,
   "metadata": {
    "ExecuteTime": {
     "end_time": "2019-02-05T17:02:50.354813Z",
     "start_time": "2019-02-05T17:00:34.490640Z"
    }
   },
   "outputs": [],
   "source": [
    "df_finding_thing = pd.io.gbq.read_gbq(QUERY,\n",
    "                           project_id=ProjectID,\n",
    "                           reauth=False,\n",
    "                           # verbose=True,\n",
    "                           private_key=key_file_path,\n",
    "                           dialect='standard')"
   ]
  },
  {
   "cell_type": "code",
   "execution_count": 158,
   "metadata": {
    "ExecuteTime": {
     "end_time": "2019-02-05T17:03:07.528534Z",
     "start_time": "2019-02-05T17:02:50.357382Z"
    }
   },
   "outputs": [],
   "source": [
    "df_finding_thing.to_csv('../../data/raw_bq_extract/document_types.csv.gz',\n",
    "             sep=\"\\t\", index=False, compression='gzip')"
   ]
  },
  {
   "cell_type": "code",
   "execution_count": 159,
   "metadata": {
    "ExecuteTime": {
     "end_time": "2019-02-05T17:03:17.440797Z",
     "start_time": "2019-02-05T17:03:17.436545Z"
    }
   },
   "outputs": [
    {
     "data": {
      "text/plain": [
       "(2040813, 2)"
      ]
     },
     "execution_count": 159,
     "metadata": {},
     "output_type": "execute_result"
    }
   ],
   "source": [
    "df_finding_thing.shape"
   ]
  },
  {
   "cell_type": "code",
   "execution_count": 161,
   "metadata": {
    "ExecuteTime": {
     "end_time": "2019-02-05T17:03:30.798714Z",
     "start_time": "2019-02-05T17:03:30.673610Z"
    }
   },
   "outputs": [
    {
     "data": {
      "text/plain": [
       "(1071454, 2)"
      ]
     },
     "execution_count": 161,
     "metadata": {},
     "output_type": "execute_result"
    }
   ],
   "source": [
    "df_finding_thing[df_finding_thing['is_finding']==0].shape"
   ]
  },
  {
   "cell_type": "code",
   "execution_count": 162,
   "metadata": {
    "ExecuteTime": {
     "end_time": "2019-02-05T17:03:39.482112Z",
     "start_time": "2019-02-05T17:03:36.108160Z"
    }
   },
   "outputs": [],
   "source": [
    "df_finding_thing_read = pd.read_csv(\n",
    "    '../../data/raw_bq_extract/document_types.csv.gz',\n",
    "             sep=\"\\t\", compression='gzip')"
   ]
  },
  {
   "cell_type": "code",
   "execution_count": 163,
   "metadata": {
    "ExecuteTime": {
     "end_time": "2019-02-05T17:03:39.492854Z",
     "start_time": "2019-02-05T17:03:39.484722Z"
    }
   },
   "outputs": [
    {
     "data": {
      "text/html": [
       "<div>\n",
       "<style scoped>\n",
       "    .dataframe tbody tr th:only-of-type {\n",
       "        vertical-align: middle;\n",
       "    }\n",
       "\n",
       "    .dataframe tbody tr th {\n",
       "        vertical-align: top;\n",
       "    }\n",
       "\n",
       "    .dataframe thead th {\n",
       "        text-align: right;\n",
       "    }\n",
       "</style>\n",
       "<table border=\"1\" class=\"dataframe\">\n",
       "  <thead>\n",
       "    <tr style=\"text-align: right;\">\n",
       "      <th></th>\n",
       "      <th>pagePath</th>\n",
       "      <th>is_finding</th>\n",
       "    </tr>\n",
       "  </thead>\n",
       "  <tbody>\n",
       "    <tr>\n",
       "      <th>0</th>\n",
       "      <td>/jobsearch</td>\n",
       "      <td>0</td>\n",
       "    </tr>\n",
       "    <tr>\n",
       "      <th>1</th>\n",
       "      <td>/pay-leave-for-parents/y</td>\n",
       "      <td>0</td>\n",
       "    </tr>\n",
       "    <tr>\n",
       "      <th>2</th>\n",
       "      <td>/student-finance-calculator/y/2018-2019/uk-full-time</td>\n",
       "      <td>0</td>\n",
       "    </tr>\n",
       "    <tr>\n",
       "      <th>3</th>\n",
       "      <td>/government/publications/application-for-confirmation-of-british-nationality-status-form-ns</td>\n",
       "      <td>0</td>\n",
       "    </tr>\n",
       "    <tr>\n",
       "      <th>4</th>\n",
       "      <td>/pip/eligibility</td>\n",
       "      <td>0</td>\n",
       "    </tr>\n",
       "  </tbody>\n",
       "</table>\n",
       "</div>"
      ],
      "text/plain": [
       "                                                                                      pagePath  \\\n",
       "0                                                                                   /jobsearch   \n",
       "1                                                                     /pay-leave-for-parents/y   \n",
       "2                                         /student-finance-calculator/y/2018-2019/uk-full-time   \n",
       "3  /government/publications/application-for-confirmation-of-british-nationality-status-form-ns   \n",
       "4                                                                             /pip/eligibility   \n",
       "\n",
       "   is_finding  \n",
       "0           0  \n",
       "1           0  \n",
       "2           0  \n",
       "3           0  \n",
       "4           0  "
      ]
     },
     "execution_count": 163,
     "metadata": {},
     "output_type": "execute_result"
    }
   ],
   "source": [
    "df_finding_thing_read.head()"
   ]
  },
  {
   "cell_type": "code",
   "execution_count": null,
   "metadata": {},
   "outputs": [],
   "source": []
  },
  {
   "cell_type": "markdown",
   "metadata": {},
   "source": [
    "## journey_click_rate\n",
    "There is no difference in the proportion of journeys using at least one related link (journey_click_rate) between page variant A and page variant B.\n",
    "\n"
   ]
  },
  {
   "cell_type": "markdown",
   "metadata": {},
   "source": [
    "\\begin{equation*}\n",
    "\\frac{\\text{total number of journeys including at least one click on a related link}}{\\text{total number of journeys}}\n",
    "\\end{equation*}"
   ]
  },
  {
   "cell_type": "markdown",
   "metadata": {},
   "source": [
    "### total number of journeys including at least one click on a related link\n",
    "The numerator.\n",
    "\n",
    "We need to check within the Sequence column, whether the corresponding user journey has an Event where a related link was clicked. There is more than one level to this Event, we are specifically interested in \"Related content\" (as this is the sidebar of the page, the related links we are interested in)."
   ]
  },
  {
   "cell_type": "code",
   "execution_count": 21,
   "metadata": {
    "ExecuteTime": {
     "end_time": "2019-02-04T14:54:58.013556Z",
     "start_time": "2019-02-04T14:54:57.970414Z"
    },
    "code_folding": []
   },
   "outputs": [],
   "source": [
    "#Compute whether a journey includes at least one related link click\n",
    "def is_related(x):\n",
    "    return all(cond in x for cond in [\"relatedLinkClicked\",\"Related content\"])"
   ]
  },
  {
   "cell_type": "markdown",
   "metadata": {},
   "source": [
    "Please note, `is_related` does not make sure that `relatedLinkClicked` and `Related content` exist in the same event in `Sequence`, example below"
   ]
  },
  {
   "cell_type": "code",
   "execution_count": 22,
   "metadata": {
    "ExecuteTime": {
     "end_time": "2019-02-04T14:54:58.879421Z",
     "start_time": "2019-02-04T14:54:58.849237Z"
    }
   },
   "outputs": [
    {
     "data": {
      "text/plain": [
       "True"
      ]
     },
     "execution_count": 22,
     "metadata": {},
     "output_type": "execute_result"
    }
   ],
   "source": [
    "is_related(\n",
    "    '/garden-bonfires-rules<<PAGE<:<relatedLinkClicked<:<NULL>>/garden-bonfires-rules<<EVENT<:<NULL<:<1.4 Related content'\n",
    "    )"
   ]
  },
  {
   "cell_type": "code",
   "execution_count": 23,
   "metadata": {
    "ExecuteTime": {
     "end_time": "2019-02-04T14:55:04.700590Z",
     "start_time": "2019-02-04T14:54:59.632084Z"
    }
   },
   "outputs": [],
   "source": [
    "# map across the Sequence variable, which includes pages and Events\n",
    "# we want to pass all the list elements to a function one-by-one and then collect the output.\n",
    "df[\"Has_Related\"] = df[\"Sequence\"].map(is_related)"
   ]
  },
  {
   "cell_type": "code",
   "execution_count": 24,
   "metadata": {
    "ExecuteTime": {
     "end_time": "2019-02-04T14:55:04.769396Z",
     "start_time": "2019-02-04T14:55:04.712178Z"
    }
   },
   "outputs": [
    {
     "data": {
      "text/plain": [
       "0    False\n",
       "1    False\n",
       "2    False\n",
       "3    False\n",
       "4    False\n",
       "Name: Has_Related, dtype: bool"
      ]
     },
     "execution_count": 24,
     "metadata": {},
     "output_type": "execute_result"
    }
   ],
   "source": [
    "# this gives a logical column\n",
    "df[\"Has_Related\"].head()"
   ]
  },
  {
   "cell_type": "code",
   "execution_count": 25,
   "metadata": {
    "ExecuteTime": {
     "end_time": "2019-02-04T14:55:33.415223Z",
     "start_time": "2019-02-04T14:55:04.776087Z"
    }
   },
   "outputs": [
    {
     "data": {
      "text/plain": [
       "131678"
      ]
     },
     "execution_count": 25,
     "metadata": {},
     "output_type": "execute_result"
    }
   ],
   "source": [
    "# We can filter for True and sum\n",
    "df[df[\"Has_Related\"]].Occurrences.sum()"
   ]
  },
  {
   "cell_type": "code",
   "execution_count": 26,
   "metadata": {
    "ExecuteTime": {
     "end_time": "2019-02-04T14:55:58.596280Z",
     "start_time": "2019-02-04T14:55:54.290223Z"
    }
   },
   "outputs": [
    {
     "data": {
      "text/html": [
       "<div>\n",
       "<style scoped>\n",
       "    .dataframe tbody tr th:only-of-type {\n",
       "        vertical-align: middle;\n",
       "    }\n",
       "\n",
       "    .dataframe tbody tr th {\n",
       "        vertical-align: top;\n",
       "    }\n",
       "\n",
       "    .dataframe thead th {\n",
       "        text-align: right;\n",
       "    }\n",
       "</style>\n",
       "<table border=\"1\" class=\"dataframe\">\n",
       "  <thead>\n",
       "    <tr style=\"text-align: right;\">\n",
       "      <th></th>\n",
       "      <th>Sequence</th>\n",
       "      <th>PageSequence</th>\n",
       "      <th>Occurrences</th>\n",
       "      <th>Page_Seq_Occurrences</th>\n",
       "      <th>DeviceCategories</th>\n",
       "      <th>Dates</th>\n",
       "      <th>Page_Event_List</th>\n",
       "      <th>Page_List</th>\n",
       "      <th>PageSequence_internal</th>\n",
       "      <th>Event_List</th>\n",
       "      <th>num_event_cats</th>\n",
       "      <th>Event_cats_agg</th>\n",
       "      <th>Event_cat_act_agg</th>\n",
       "      <th>Page_List_NL</th>\n",
       "      <th>Page_Seq_NL</th>\n",
       "      <th>Occurrences_NL</th>\n",
       "      <th>TabletCount</th>\n",
       "      <th>Has_Related</th>\n",
       "    </tr>\n",
       "  </thead>\n",
       "  <tbody>\n",
       "    <tr>\n",
       "      <th>2608</th>\n",
       "      <td>/garden-bonfires-rules&lt;&lt;PAGE&lt;:&lt;NULL&lt;:&lt;NULL&gt;&gt;/garden-bonfires-rules&lt;&lt;EVENT&lt;:&lt;relatedLinkClicked&lt;:&lt;1.4 Related content</td>\n",
       "      <td>/garden-bonfires-rules</td>\n",
       "      <td>1</td>\n",
       "      <td>7483.0</td>\n",
       "      <td>[('mobile', 1)]</td>\n",
       "      <td>[('20181031', 1)]</td>\n",
       "      <td>[('/garden-bonfires-rules', 'PAGE&lt;:&lt;NULL&lt;:&lt;NULL'), ('/garden-bonfires-rules', 'EVENT&lt;:&lt;relatedLinkClicked&lt;:&lt;1.4 Related content')]</td>\n",
       "      <td>['/garden-bonfires-rules']</td>\n",
       "      <td>/garden-bonfires-rules</td>\n",
       "      <td>[('PAGE_NULL', 'PAGE_NULL'), ('relatedLinkClicked', '1.4 Related content')]</td>\n",
       "      <td>2</td>\n",
       "      <td>[('PAGE_NULL', 1), ('relatedLinkClicked', 1)]</td>\n",
       "      <td>[((PAGE_NULL, PAGE_NULL), 1), ((relatedLinkClicked, 1.4 Related content), 1)]</td>\n",
       "      <td>['/garden-bonfires-rules']</td>\n",
       "      <td>/garden-bonfires-rules</td>\n",
       "      <td>114000.0</td>\n",
       "      <td>0</td>\n",
       "      <td>True</td>\n",
       "    </tr>\n",
       "    <tr>\n",
       "      <th>3401</th>\n",
       "      <td>/check-state-pension&lt;&lt;PAGE&lt;:&lt;NULL&lt;:&lt;NULL&gt;&gt;/check-state-pension&lt;&lt;EVENT&lt;:&lt;relatedLinkClicked&lt;:&lt;1.1 Related content</td>\n",
       "      <td>/check-state-pension</td>\n",
       "      <td>1</td>\n",
       "      <td>17093.0</td>\n",
       "      <td>[('mobile', 1)]</td>\n",
       "      <td>[('20181031', 1)]</td>\n",
       "      <td>[('/check-state-pension', 'PAGE&lt;:&lt;NULL&lt;:&lt;NULL'), ('/check-state-pension', 'EVENT&lt;:&lt;relatedLinkClicked&lt;:&lt;1.1 Related content')]</td>\n",
       "      <td>['/check-state-pension']</td>\n",
       "      <td>/check-state-pension</td>\n",
       "      <td>[('PAGE_NULL', 'PAGE_NULL'), ('relatedLinkClicked', '1.1 Related content')]</td>\n",
       "      <td>2</td>\n",
       "      <td>[('PAGE_NULL', 1), ('relatedLinkClicked', 1)]</td>\n",
       "      <td>[((PAGE_NULL, PAGE_NULL), 1), ((relatedLinkClicked, 1.1 Related content), 1)]</td>\n",
       "      <td>['/check-state-pension']</td>\n",
       "      <td>/check-state-pension</td>\n",
       "      <td>413249.0</td>\n",
       "      <td>0</td>\n",
       "      <td>True</td>\n",
       "    </tr>\n",
       "    <tr>\n",
       "      <th>4353</th>\n",
       "      <td>/child-benefit-rates&lt;&lt;EVENT&lt;:&lt;relatedLinkClicked&lt;:&lt;1.6 Related content&gt;&gt;/child-tax-credit&lt;&lt;PAGE&lt;:&lt;NULL&lt;:&lt;NULL</td>\n",
       "      <td>/child-tax-credit</td>\n",
       "      <td>2</td>\n",
       "      <td>4239.0</td>\n",
       "      <td>[('mobile', 1), ('desktop', 1)]</td>\n",
       "      <td>[('20181031', 1), ('20181029', 1)]</td>\n",
       "      <td>[('/child-benefit-rates', 'EVENT&lt;:&lt;relatedLinkClicked&lt;:&lt;1.6 Related content'), ('/child-tax-credit', 'PAGE&lt;:&lt;NULL&lt;:&lt;NULL')]</td>\n",
       "      <td>['/child-tax-credit']</td>\n",
       "      <td>/child-tax-credit</td>\n",
       "      <td>[('relatedLinkClicked', '1.6 Related content'), ('PAGE_NULL', 'PAGE_NULL')]</td>\n",
       "      <td>2</td>\n",
       "      <td>[('relatedLinkClicked', 1), ('PAGE_NULL', 1)]</td>\n",
       "      <td>[((relatedLinkClicked, 1.6 Related content), 1), ((PAGE_NULL, PAGE_NULL), 1)]</td>\n",
       "      <td>['/child-tax-credit']</td>\n",
       "      <td>/child-tax-credit</td>\n",
       "      <td>51353.0</td>\n",
       "      <td>0</td>\n",
       "      <td>True</td>\n",
       "    </tr>\n",
       "  </tbody>\n",
       "</table>\n",
       "</div>"
      ],
      "text/plain": [
       "                                                                                                                  Sequence  \\\n",
       "2608  /garden-bonfires-rules<<PAGE<:<NULL<:<NULL>>/garden-bonfires-rules<<EVENT<:<relatedLinkClicked<:<1.4 Related content   \n",
       "3401      /check-state-pension<<PAGE<:<NULL<:<NULL>>/check-state-pension<<EVENT<:<relatedLinkClicked<:<1.1 Related content   \n",
       "4353         /child-benefit-rates<<EVENT<:<relatedLinkClicked<:<1.6 Related content>>/child-tax-credit<<PAGE<:<NULL<:<NULL   \n",
       "\n",
       "                PageSequence  Occurrences  Page_Seq_Occurrences  \\\n",
       "2608  /garden-bonfires-rules            1                7483.0   \n",
       "3401    /check-state-pension            1               17093.0   \n",
       "4353       /child-tax-credit            2                4239.0   \n",
       "\n",
       "                     DeviceCategories                               Dates  \\\n",
       "2608                  [('mobile', 1)]                   [('20181031', 1)]   \n",
       "3401                  [('mobile', 1)]                   [('20181031', 1)]   \n",
       "4353  [('mobile', 1), ('desktop', 1)]  [('20181031', 1), ('20181029', 1)]   \n",
       "\n",
       "                                                                                                                         Page_Event_List  \\\n",
       "2608  [('/garden-bonfires-rules', 'PAGE<:<NULL<:<NULL'), ('/garden-bonfires-rules', 'EVENT<:<relatedLinkClicked<:<1.4 Related content')]   \n",
       "3401      [('/check-state-pension', 'PAGE<:<NULL<:<NULL'), ('/check-state-pension', 'EVENT<:<relatedLinkClicked<:<1.1 Related content')]   \n",
       "4353         [('/child-benefit-rates', 'EVENT<:<relatedLinkClicked<:<1.6 Related content'), ('/child-tax-credit', 'PAGE<:<NULL<:<NULL')]   \n",
       "\n",
       "                       Page_List   PageSequence_internal  \\\n",
       "2608  ['/garden-bonfires-rules']  /garden-bonfires-rules   \n",
       "3401    ['/check-state-pension']    /check-state-pension   \n",
       "4353       ['/child-tax-credit']       /child-tax-credit   \n",
       "\n",
       "                                                                       Event_List  \\\n",
       "2608  [('PAGE_NULL', 'PAGE_NULL'), ('relatedLinkClicked', '1.4 Related content')]   \n",
       "3401  [('PAGE_NULL', 'PAGE_NULL'), ('relatedLinkClicked', '1.1 Related content')]   \n",
       "4353  [('relatedLinkClicked', '1.6 Related content'), ('PAGE_NULL', 'PAGE_NULL')]   \n",
       "\n",
       "      num_event_cats                                 Event_cats_agg  \\\n",
       "2608               2  [('PAGE_NULL', 1), ('relatedLinkClicked', 1)]   \n",
       "3401               2  [('PAGE_NULL', 1), ('relatedLinkClicked', 1)]   \n",
       "4353               2  [('relatedLinkClicked', 1), ('PAGE_NULL', 1)]   \n",
       "\n",
       "                                                                  Event_cat_act_agg  \\\n",
       "2608  [((PAGE_NULL, PAGE_NULL), 1), ((relatedLinkClicked, 1.4 Related content), 1)]   \n",
       "3401  [((PAGE_NULL, PAGE_NULL), 1), ((relatedLinkClicked, 1.1 Related content), 1)]   \n",
       "4353  [((relatedLinkClicked, 1.6 Related content), 1), ((PAGE_NULL, PAGE_NULL), 1)]   \n",
       "\n",
       "                    Page_List_NL             Page_Seq_NL  Occurrences_NL  \\\n",
       "2608  ['/garden-bonfires-rules']  /garden-bonfires-rules        114000.0   \n",
       "3401    ['/check-state-pension']    /check-state-pension        413249.0   \n",
       "4353       ['/child-tax-credit']       /child-tax-credit         51353.0   \n",
       "\n",
       "      TabletCount  Has_Related  \n",
       "2608            0         True  \n",
       "3401            0         True  \n",
       "4353            0         True  "
      ]
     },
     "execution_count": 26,
     "metadata": {},
     "output_type": "execute_result"
    }
   ],
   "source": [
    "# sense check by inspecting filtered df\n",
    "df[df[\"Has_Related\"]].head(3)"
   ]
  },
  {
   "cell_type": "markdown",
   "metadata": {},
   "source": [
    "### total number of journeys\n",
    "The denominator."
   ]
  },
  {
   "cell_type": "code",
   "execution_count": 27,
   "metadata": {
    "ExecuteTime": {
     "end_time": "2019-02-04T14:55:58.712521Z",
     "start_time": "2019-02-04T14:55:58.605753Z"
    }
   },
   "outputs": [
    {
     "data": {
      "text/plain": [
       "10569850"
      ]
     },
     "execution_count": 27,
     "metadata": {},
     "output_type": "execute_result"
    }
   ],
   "source": [
    "df.Occurrences.sum()"
   ]
  },
  {
   "cell_type": "markdown",
   "metadata": {},
   "source": [
    "### final metric"
   ]
  },
  {
   "cell_type": "markdown",
   "metadata": {},
   "source": [
    "Given this sample, we see:"
   ]
  },
  {
   "cell_type": "code",
   "execution_count": 28,
   "metadata": {
    "ExecuteTime": {
     "end_time": "2019-02-04T14:56:00.881507Z",
     "start_time": "2019-02-04T14:55:58.716225Z"
    }
   },
   "outputs": [
    {
     "data": {
      "text/plain": [
       "0.012457887292629508"
      ]
     },
     "execution_count": 28,
     "metadata": {},
     "output_type": "execute_result"
    }
   ],
   "source": [
    "df[df[\"Has_Related\"]].Occurrences.sum() / df.Occurrences.sum()"
   ]
  },
  {
   "cell_type": "markdown",
   "metadata": {},
   "source": [
    "The above metric considers at least one related link clicked, but on some journeys more than one related link might get clicked. We can use the following columns to help us."
   ]
  },
  {
   "cell_type": "code",
   "execution_count": 29,
   "metadata": {
    "ExecuteTime": {
     "end_time": "2019-02-04T14:56:00.902110Z",
     "start_time": "2019-02-04T14:56:00.887180Z"
    }
   },
   "outputs": [
    {
     "data": {
      "text/plain": [
       "0                                                                [('PAGE_NULL', 1)]\n",
       "1    [('PAGE_NULL', 2), ('External Link Clicked', 1), ('Download Link Clicked', 1)]\n",
       "2                                                                [('PAGE_NULL', 1)]\n",
       "Name: Event_cats_agg, dtype: object"
      ]
     },
     "execution_count": 29,
     "metadata": {},
     "output_type": "execute_result"
    }
   ],
   "source": [
    "df['Event_cats_agg'].head(3)"
   ]
  },
  {
   "cell_type": "code",
   "execution_count": 30,
   "metadata": {
    "ExecuteTime": {
     "end_time": "2019-02-04T14:56:02.853824Z",
     "start_time": "2019-02-04T14:56:02.830099Z"
    }
   },
   "outputs": [
    {
     "data": {
      "text/plain": [
       "0                                                                                                                                                                                                                                                                                                                                                          [((PAGE_NULL, PAGE_NULL), 1)]\n",
       "1    [((PAGE_NULL, PAGE_NULL), 2), ((External Link Clicked, https://assets.publishing.service.gov.uk/government/uploads/system/uploads/attachment_data/file/749722/sure-start-maternity-grant-sf100.pdf), 1), ((Download Link Clicked, https://assets.publishing.service.gov.uk/government/uploads/system/uploads/attachment_data/file/749722/sure-start-maternity-grant-sf100.pdf), 1)]\n",
       "2                                                                                                                                                                                                                                                                                                                                                          [((PAGE_NULL, PAGE_NULL), 1)]\n",
       "Name: Event_cat_act_agg, dtype: object"
      ]
     },
     "execution_count": 30,
     "metadata": {},
     "output_type": "execute_result"
    }
   ],
   "source": [
    "df['Event_cat_act_agg'].head(3)"
   ]
  },
  {
   "cell_type": "markdown",
   "metadata": {},
   "source": [
    "## ratio of clicks on navigation elements vs. clicks on related links\n",
    "\n",
    "There is no statistically significant difference in the ratio of clicks on navigation elements vs. clicks on related links between page variant A and page variant B"
   ]
  },
  {
   "cell_type": "markdown",
   "metadata": {},
   "source": [
    "\\begin{equation*}\n",
    "\\frac{\\text{total number of navigation element click events from content pages}}{\\text{total number of related link click events}}\n",
    "\\end{equation*}"
   ]
  },
  {
   "cell_type": "markdown",
   "metadata": {},
   "source": [
    "### total number of related link click events"
   ]
  },
  {
   "cell_type": "markdown",
   "metadata": {},
   "source": [
    "we need to check `Related content` is in the event, because the `relatedLinkClicked` is also used for \"explore the topic\" links at the bottom of the page, with the event action containing `Explore the topic`, e.g. `(('relatedLinkClicked', '2.1 Explore the topic'), 1)`"
   ]
  },
  {
   "cell_type": "code",
   "execution_count": 31,
   "metadata": {
    "ExecuteTime": {
     "end_time": "2019-02-04T14:56:19.350652Z",
     "start_time": "2019-02-04T14:56:19.154405Z"
    }
   },
   "outputs": [
    {
     "data": {
      "text/plain": [
       "[(('PAGE_NULL', 'PAGE_NULL'), 1),\n",
       " (('relatedLinkClicked', '1.4 Related content'), 1)]"
      ]
     },
     "execution_count": 31,
     "metadata": {},
     "output_type": "execute_result"
    }
   ],
   "source": [
    "# example of Event_cat_act_agg\n",
    "df['Event_cat_act_agg'][2608]"
   ]
  },
  {
   "cell_type": "code",
   "execution_count": 32,
   "metadata": {
    "ExecuteTime": {
     "end_time": "2019-02-04T14:56:25.626701Z",
     "start_time": "2019-02-04T14:56:25.605364Z"
    }
   },
   "outputs": [],
   "source": [
    "# If the event category is 'relatedLinkClicked' and the event action contains 'Related content', \n",
    "# return the count of that event\n",
    "def get_number_of_events_rl(event):\n",
    "    if event[0][0] == 'relatedLinkClicked' and 'Related content' in event[0][1]:\n",
    "        return event[1]\n",
    "    return 0"
   ]
  },
  {
   "cell_type": "code",
   "execution_count": 33,
   "metadata": {
    "ExecuteTime": {
     "end_time": "2019-02-04T14:56:26.981860Z",
     "start_time": "2019-02-04T14:56:26.959211Z"
    }
   },
   "outputs": [],
   "source": [
    "def sum_related_click_events(event_list):\n",
    "    return sum([get_number_of_events_rl(event) for event in event_list])"
   ]
  },
  {
   "cell_type": "code",
   "execution_count": 35,
   "metadata": {
    "ExecuteTime": {
     "end_time": "2019-02-04T14:57:24.715587Z",
     "start_time": "2019-02-04T14:57:05.540425Z"
    }
   },
   "outputs": [],
   "source": [
    "# get the number of related links clicks per Sequence\n",
    "df['Related Links Clicks per seq'] = df['Event_cat_act_agg'].map(sum_related_click_events)\n",
    "\n",
    "# get the total number of related links clicks for that row (clicks per sequence multiplied by occurrences)\n",
    "df['Related Links Clicks row total'] = df['Related Links Clicks per seq'] * df['Occurrences']"
   ]
  },
  {
   "cell_type": "code",
   "execution_count": 36,
   "metadata": {
    "ExecuteTime": {
     "end_time": "2019-02-04T14:57:36.024942Z",
     "start_time": "2019-02-04T14:57:27.429593Z"
    }
   },
   "outputs": [
    {
     "data": {
      "text/html": [
       "<div>\n",
       "<style scoped>\n",
       "    .dataframe tbody tr th:only-of-type {\n",
       "        vertical-align: middle;\n",
       "    }\n",
       "\n",
       "    .dataframe tbody tr th {\n",
       "        vertical-align: top;\n",
       "    }\n",
       "\n",
       "    .dataframe thead th {\n",
       "        text-align: right;\n",
       "    }\n",
       "</style>\n",
       "<table border=\"1\" class=\"dataframe\">\n",
       "  <thead>\n",
       "    <tr style=\"text-align: right;\">\n",
       "      <th></th>\n",
       "      <th>Sequence</th>\n",
       "      <th>PageSequence</th>\n",
       "      <th>Occurrences</th>\n",
       "      <th>Page_Seq_Occurrences</th>\n",
       "      <th>DeviceCategories</th>\n",
       "      <th>Dates</th>\n",
       "      <th>Page_Event_List</th>\n",
       "      <th>Page_List</th>\n",
       "      <th>PageSequence_internal</th>\n",
       "      <th>Event_List</th>\n",
       "      <th>num_event_cats</th>\n",
       "      <th>Event_cats_agg</th>\n",
       "      <th>Event_cat_act_agg</th>\n",
       "      <th>Page_List_NL</th>\n",
       "      <th>Page_Seq_NL</th>\n",
       "      <th>Occurrences_NL</th>\n",
       "      <th>TabletCount</th>\n",
       "      <th>Has_Related</th>\n",
       "      <th>Related Links Clicks per seq</th>\n",
       "      <th>Related Links Clicks row total</th>\n",
       "    </tr>\n",
       "  </thead>\n",
       "  <tbody>\n",
       "    <tr>\n",
       "      <th>2608</th>\n",
       "      <td>/garden-bonfires-rules&lt;&lt;PAGE&lt;:&lt;NULL&lt;:&lt;NULL&gt;&gt;/garden-bonfires-rules&lt;&lt;EVENT&lt;:&lt;relatedLinkClicked&lt;:&lt;1.4 Related content</td>\n",
       "      <td>/garden-bonfires-rules</td>\n",
       "      <td>1</td>\n",
       "      <td>7483.0</td>\n",
       "      <td>[('mobile', 1)]</td>\n",
       "      <td>[('20181031', 1)]</td>\n",
       "      <td>[('/garden-bonfires-rules', 'PAGE&lt;:&lt;NULL&lt;:&lt;NULL'), ('/garden-bonfires-rules', 'EVENT&lt;:&lt;relatedLinkClicked&lt;:&lt;1.4 Related content')]</td>\n",
       "      <td>['/garden-bonfires-rules']</td>\n",
       "      <td>/garden-bonfires-rules</td>\n",
       "      <td>[('PAGE_NULL', 'PAGE_NULL'), ('relatedLinkClicked', '1.4 Related content')]</td>\n",
       "      <td>2</td>\n",
       "      <td>[('PAGE_NULL', 1), ('relatedLinkClicked', 1)]</td>\n",
       "      <td>[((PAGE_NULL, PAGE_NULL), 1), ((relatedLinkClicked, 1.4 Related content), 1)]</td>\n",
       "      <td>['/garden-bonfires-rules']</td>\n",
       "      <td>/garden-bonfires-rules</td>\n",
       "      <td>114000.0</td>\n",
       "      <td>0</td>\n",
       "      <td>True</td>\n",
       "      <td>1</td>\n",
       "      <td>1</td>\n",
       "    </tr>\n",
       "    <tr>\n",
       "      <th>3401</th>\n",
       "      <td>/check-state-pension&lt;&lt;PAGE&lt;:&lt;NULL&lt;:&lt;NULL&gt;&gt;/check-state-pension&lt;&lt;EVENT&lt;:&lt;relatedLinkClicked&lt;:&lt;1.1 Related content</td>\n",
       "      <td>/check-state-pension</td>\n",
       "      <td>1</td>\n",
       "      <td>17093.0</td>\n",
       "      <td>[('mobile', 1)]</td>\n",
       "      <td>[('20181031', 1)]</td>\n",
       "      <td>[('/check-state-pension', 'PAGE&lt;:&lt;NULL&lt;:&lt;NULL'), ('/check-state-pension', 'EVENT&lt;:&lt;relatedLinkClicked&lt;:&lt;1.1 Related content')]</td>\n",
       "      <td>['/check-state-pension']</td>\n",
       "      <td>/check-state-pension</td>\n",
       "      <td>[('PAGE_NULL', 'PAGE_NULL'), ('relatedLinkClicked', '1.1 Related content')]</td>\n",
       "      <td>2</td>\n",
       "      <td>[('PAGE_NULL', 1), ('relatedLinkClicked', 1)]</td>\n",
       "      <td>[((PAGE_NULL, PAGE_NULL), 1), ((relatedLinkClicked, 1.1 Related content), 1)]</td>\n",
       "      <td>['/check-state-pension']</td>\n",
       "      <td>/check-state-pension</td>\n",
       "      <td>413249.0</td>\n",
       "      <td>0</td>\n",
       "      <td>True</td>\n",
       "      <td>1</td>\n",
       "      <td>1</td>\n",
       "    </tr>\n",
       "    <tr>\n",
       "      <th>4353</th>\n",
       "      <td>/child-benefit-rates&lt;&lt;EVENT&lt;:&lt;relatedLinkClicked&lt;:&lt;1.6 Related content&gt;&gt;/child-tax-credit&lt;&lt;PAGE&lt;:&lt;NULL&lt;:&lt;NULL</td>\n",
       "      <td>/child-tax-credit</td>\n",
       "      <td>2</td>\n",
       "      <td>4239.0</td>\n",
       "      <td>[('mobile', 1), ('desktop', 1)]</td>\n",
       "      <td>[('20181031', 1), ('20181029', 1)]</td>\n",
       "      <td>[('/child-benefit-rates', 'EVENT&lt;:&lt;relatedLinkClicked&lt;:&lt;1.6 Related content'), ('/child-tax-credit', 'PAGE&lt;:&lt;NULL&lt;:&lt;NULL')]</td>\n",
       "      <td>['/child-tax-credit']</td>\n",
       "      <td>/child-tax-credit</td>\n",
       "      <td>[('relatedLinkClicked', '1.6 Related content'), ('PAGE_NULL', 'PAGE_NULL')]</td>\n",
       "      <td>2</td>\n",
       "      <td>[('relatedLinkClicked', 1), ('PAGE_NULL', 1)]</td>\n",
       "      <td>[((relatedLinkClicked, 1.6 Related content), 1), ((PAGE_NULL, PAGE_NULL), 1)]</td>\n",
       "      <td>['/child-tax-credit']</td>\n",
       "      <td>/child-tax-credit</td>\n",
       "      <td>51353.0</td>\n",
       "      <td>0</td>\n",
       "      <td>True</td>\n",
       "      <td>1</td>\n",
       "      <td>2</td>\n",
       "    </tr>\n",
       "  </tbody>\n",
       "</table>\n",
       "</div>"
      ],
      "text/plain": [
       "                                                                                                                  Sequence  \\\n",
       "2608  /garden-bonfires-rules<<PAGE<:<NULL<:<NULL>>/garden-bonfires-rules<<EVENT<:<relatedLinkClicked<:<1.4 Related content   \n",
       "3401      /check-state-pension<<PAGE<:<NULL<:<NULL>>/check-state-pension<<EVENT<:<relatedLinkClicked<:<1.1 Related content   \n",
       "4353         /child-benefit-rates<<EVENT<:<relatedLinkClicked<:<1.6 Related content>>/child-tax-credit<<PAGE<:<NULL<:<NULL   \n",
       "\n",
       "                PageSequence  Occurrences  Page_Seq_Occurrences  \\\n",
       "2608  /garden-bonfires-rules            1                7483.0   \n",
       "3401    /check-state-pension            1               17093.0   \n",
       "4353       /child-tax-credit            2                4239.0   \n",
       "\n",
       "                     DeviceCategories                               Dates  \\\n",
       "2608                  [('mobile', 1)]                   [('20181031', 1)]   \n",
       "3401                  [('mobile', 1)]                   [('20181031', 1)]   \n",
       "4353  [('mobile', 1), ('desktop', 1)]  [('20181031', 1), ('20181029', 1)]   \n",
       "\n",
       "                                                                                                                         Page_Event_List  \\\n",
       "2608  [('/garden-bonfires-rules', 'PAGE<:<NULL<:<NULL'), ('/garden-bonfires-rules', 'EVENT<:<relatedLinkClicked<:<1.4 Related content')]   \n",
       "3401      [('/check-state-pension', 'PAGE<:<NULL<:<NULL'), ('/check-state-pension', 'EVENT<:<relatedLinkClicked<:<1.1 Related content')]   \n",
       "4353         [('/child-benefit-rates', 'EVENT<:<relatedLinkClicked<:<1.6 Related content'), ('/child-tax-credit', 'PAGE<:<NULL<:<NULL')]   \n",
       "\n",
       "                       Page_List   PageSequence_internal  \\\n",
       "2608  ['/garden-bonfires-rules']  /garden-bonfires-rules   \n",
       "3401    ['/check-state-pension']    /check-state-pension   \n",
       "4353       ['/child-tax-credit']       /child-tax-credit   \n",
       "\n",
       "                                                                       Event_List  \\\n",
       "2608  [('PAGE_NULL', 'PAGE_NULL'), ('relatedLinkClicked', '1.4 Related content')]   \n",
       "3401  [('PAGE_NULL', 'PAGE_NULL'), ('relatedLinkClicked', '1.1 Related content')]   \n",
       "4353  [('relatedLinkClicked', '1.6 Related content'), ('PAGE_NULL', 'PAGE_NULL')]   \n",
       "\n",
       "      num_event_cats                                 Event_cats_agg  \\\n",
       "2608               2  [('PAGE_NULL', 1), ('relatedLinkClicked', 1)]   \n",
       "3401               2  [('PAGE_NULL', 1), ('relatedLinkClicked', 1)]   \n",
       "4353               2  [('relatedLinkClicked', 1), ('PAGE_NULL', 1)]   \n",
       "\n",
       "                                                                  Event_cat_act_agg  \\\n",
       "2608  [((PAGE_NULL, PAGE_NULL), 1), ((relatedLinkClicked, 1.4 Related content), 1)]   \n",
       "3401  [((PAGE_NULL, PAGE_NULL), 1), ((relatedLinkClicked, 1.1 Related content), 1)]   \n",
       "4353  [((relatedLinkClicked, 1.6 Related content), 1), ((PAGE_NULL, PAGE_NULL), 1)]   \n",
       "\n",
       "                    Page_List_NL             Page_Seq_NL  Occurrences_NL  \\\n",
       "2608  ['/garden-bonfires-rules']  /garden-bonfires-rules        114000.0   \n",
       "3401    ['/check-state-pension']    /check-state-pension        413249.0   \n",
       "4353       ['/child-tax-credit']       /child-tax-credit         51353.0   \n",
       "\n",
       "      TabletCount  Has_Related  Related Links Clicks per seq  \\\n",
       "2608            0         True                             1   \n",
       "3401            0         True                             1   \n",
       "4353            0         True                             1   \n",
       "\n",
       "      Related Links Clicks row total  \n",
       "2608                               1  \n",
       "3401                               1  \n",
       "4353                               2  "
      ]
     },
     "execution_count": 36,
     "metadata": {},
     "output_type": "execute_result"
    }
   ],
   "source": [
    "df[df[\"Has_Related\"]].head(3)"
   ]
  },
  {
   "cell_type": "code",
   "execution_count": 37,
   "metadata": {
    "ExecuteTime": {
     "end_time": "2019-02-04T14:57:36.090818Z",
     "start_time": "2019-02-04T14:57:36.039162Z"
    }
   },
   "outputs": [
    {
     "data": {
      "text/plain": [
       "141820"
      ]
     },
     "execution_count": 37,
     "metadata": {},
     "output_type": "execute_result"
    }
   ],
   "source": [
    "df['Related Links Clicks row total'].sum()"
   ]
  },
  {
   "cell_type": "markdown",
   "metadata": {
    "ExecuteTime": {
     "end_time": "2019-01-28T17:21:26.807267Z",
     "start_time": "2019-01-28T17:21:26.804367Z"
    }
   },
   "source": [
    "### total number of navigation element click events from content pages\n",
    "\n",
    "Page_Event_List:\tfrom Sequence -> list of tuples of (page url, event). Where it's a page hit, event==PAGE_NULL\n",
    "\n",
    "\n",
    "eventCategory == 'breadcrumbClicked'\n",
    "\n",
    "eventCategory == 'homeLinkClicked'\n",
    "\n",
    "eventCategory == 'relatedLinkClicked',  'Explore the topic' in Event Action\n",
    "\n",
    "'/search?q=' in page"
   ]
  },
  {
   "cell_type": "code",
   "execution_count": 172,
   "metadata": {
    "ExecuteTime": {
     "end_time": "2019-02-05T17:16:58.309585Z",
     "start_time": "2019-02-05T17:16:58.187645Z"
    }
   },
   "outputs": [],
   "source": [
    "thing_page_paths = df_finding_thing[\n",
    "    df_finding_thing['is_finding']==0]['pagePath'].tolist()"
   ]
  },
  {
   "cell_type": "markdown",
   "metadata": {
    "ExecuteTime": {
     "end_time": "2019-01-30T10:31:53.365950Z",
     "start_time": "2019-01-30T10:31:53.363170Z"
    }
   },
   "source": [
    "#### Nav events"
   ]
  },
  {
   "cell_type": "code",
   "execution_count": 67,
   "metadata": {
    "ExecuteTime": {
     "end_time": "2019-02-04T17:48:16.671384Z",
     "start_time": "2019-02-04T17:46:48.974869Z"
    }
   },
   "outputs": [],
   "source": [
    "df['Page_Event_List'] = df['Page_Event_List'].apply(ast.literal_eval)"
   ]
  },
  {
   "cell_type": "code",
   "execution_count": 77,
   "metadata": {
    "ExecuteTime": {
     "end_time": "2019-02-05T12:27:27.572982Z",
     "start_time": "2019-02-05T12:27:27.565144Z"
    }
   },
   "outputs": [],
   "source": [
    "example_Page_Event_List = df['Page_Event_List'][9315]"
   ]
  },
  {
   "cell_type": "code",
   "execution_count": 105,
   "metadata": {
    "ExecuteTime": {
     "end_time": "2019-02-05T14:22:45.129068Z",
     "start_time": "2019-02-05T14:22:45.124639Z"
    }
   },
   "outputs": [],
   "source": [
    "def is_nav_event(event):\n",
    "    return any(\n",
    "        ['breadcrumbClicked' in event, 'homeLinkClicked' in event,\n",
    "         all(cond in event for cond in [\n",
    "             'relatedLinkClicked','Explore the topic'])])"
   ]
  },
  {
   "cell_type": "code",
   "execution_count": 106,
   "metadata": {
    "ExecuteTime": {
     "end_time": "2019-02-05T14:23:36.910599Z",
     "start_time": "2019-02-05T14:23:36.904380Z"
    }
   },
   "outputs": [
    {
     "name": "stdout",
     "output_type": "stream",
     "text": [
      "True\n",
      "False\n",
      "True\n",
      "False\n",
      "True\n"
     ]
    }
   ],
   "source": [
    "print(is_nav_event('EVENT<:<breadcrumbClicked<:<2'))\n",
    "print(is_nav_event('PAGE<:<NULL<:<NULL'))\n",
    "print(is_nav_event('EVENT<:<relatedLinkClicked<:<2.3 Explore the topic'))\n",
    "print(is_nav_event('EVENT<:<relatedLinkClicked<:<2.3 Related content'))\n",
    "print(is_nav_event('EVENT<:<homeLinkClicked<:<homeHeader'))"
   ]
  },
  {
   "cell_type": "code",
   "execution_count": 107,
   "metadata": {
    "ExecuteTime": {
     "end_time": "2019-02-05T14:23:45.494083Z",
     "start_time": "2019-02-05T14:23:45.374050Z"
    }
   },
   "outputs": [],
   "source": [
    "content_page_nav_events = 0\n",
    "for pair in example_Page_Event_List:\n",
    "    if is_nav_event(pair[1]):\n",
    "        if pair[0] in thing_page_paths:\n",
    "            content_page_nav_events += 1"
   ]
  },
  {
   "cell_type": "code",
   "execution_count": 108,
   "metadata": {
    "ExecuteTime": {
     "end_time": "2019-02-05T14:23:57.633847Z",
     "start_time": "2019-02-05T14:23:57.628906Z"
    }
   },
   "outputs": [
    {
     "name": "stdout",
     "output_type": "stream",
     "text": [
      "[('/settle-in-the-uk', 'PAGE<:<NULL<:<NULL'), ('/settle-in-the-uk', 'EVENT<:<breadcrumbClicked<:<2'), ('/browse/visas-immigration', 'PAGE<:<NULL<:<NULL')]\n",
      "1\n"
     ]
    }
   ],
   "source": [
    "print(example_Page_Event_List)\n",
    "print(content_page_nav_events)"
   ]
  },
  {
   "cell_type": "code",
   "execution_count": 129,
   "metadata": {
    "ExecuteTime": {
     "end_time": "2019-02-05T16:17:08.068884Z",
     "start_time": "2019-02-05T16:17:08.063284Z"
    }
   },
   "outputs": [],
   "source": [
    "def count_nav_events(page_event_list):\n",
    "    content_page_nav_events = 0\n",
    "    for pair in page_event_list:\n",
    "        if is_nav_event(pair[1]):\n",
    "            if pair[0] in thing_page_paths:\n",
    "                content_page_nav_events += 1\n",
    "    return content_page_nav_events"
   ]
  },
  {
   "cell_type": "code",
   "execution_count": 111,
   "metadata": {
    "ExecuteTime": {
     "end_time": "2019-02-05T14:29:51.051937Z",
     "start_time": "2019-02-05T14:25:59.729241Z"
    }
   },
   "outputs": [],
   "source": [
    "df['Content_page_nav_events'] = df['Page_Event_List'].map(count_nav_events)"
   ]
  },
  {
   "cell_type": "code",
   "execution_count": 305,
   "metadata": {
    "ExecuteTime": {
     "end_time": "2019-02-06T15:29:02.324326Z",
     "start_time": "2019-02-06T15:29:02.321461Z"
    }
   },
   "outputs": [],
   "source": [
    "# df[df['Content_page_nav_events'] >2]"
   ]
  },
  {
   "cell_type": "markdown",
   "metadata": {},
   "source": [
    "**There are some weird looped sequences in the data**"
   ]
  },
  {
   "cell_type": "code",
   "execution_count": 117,
   "metadata": {
    "ExecuteTime": {
     "end_time": "2019-02-05T14:37:57.272729Z",
     "start_time": "2019-02-05T14:37:57.265626Z"
    }
   },
   "outputs": [
    {
     "data": {
      "text/plain": [
       "[('/done/vehicle-tax', 'PAGE<:<NULL<:<NULL'),\n",
       " ('/done/vehicle-tax', 'EVENT<:<breadcrumbClicked<:<1'),\n",
       " ('/', 'PAGE<:<NULL<:<NULL'),\n",
       " ('/browse/driving', 'PAGE<:<NULL<:<NULL'),\n",
       " ('/browse/driving', 'EVENT<:<secondLevelBrowseLinkClicked<:<2'),\n",
       " ('/browse/driving/vehicle-tax-mot-insurance', 'PAGE<:<NULL<:<NULL'),\n",
       " ('/browse/driving', 'EVENT<:<thirdLevelBrowseLinkClicked<:<1.1'),\n",
       " ('/vehicle-tax', 'PAGE<:<NULL<:<NULL'),\n",
       " ('/vehicle-tax',\n",
       "  'EVENT<:<External Link Clicked<:<https://www.vehicletax.service.gov.uk'),\n",
       " ('/done/vehicle-tax', 'PAGE<:<NULL<:<NULL'),\n",
       " ('/done/vehicle-tax', 'EVENT<:<breadcrumbClicked<:<1'),\n",
       " ('/', 'PAGE<:<NULL<:<NULL'),\n",
       " ('/browse/driving', 'PAGE<:<NULL<:<NULL'),\n",
       " ('/browse/driving', 'EVENT<:<secondLevelBrowseLinkClicked<:<2'),\n",
       " ('/browse/driving/vehicle-tax-mot-insurance', 'PAGE<:<NULL<:<NULL'),\n",
       " ('/browse/driving', 'EVENT<:<thirdLevelBrowseLinkClicked<:<1.1'),\n",
       " ('/vehicle-tax', 'PAGE<:<NULL<:<NULL'),\n",
       " ('/vehicle-tax',\n",
       "  'EVENT<:<External Link Clicked<:<https://www.vehicletax.service.gov.uk'),\n",
       " ('/done/vehicle-tax', 'PAGE<:<NULL<:<NULL'),\n",
       " ('/done/vehicle-tax', 'EVENT<:<breadcrumbClicked<:<1'),\n",
       " ('/', 'PAGE<:<NULL<:<NULL'),\n",
       " ('/browse/driving', 'PAGE<:<NULL<:<NULL'),\n",
       " ('/browse/driving', 'EVENT<:<secondLevelBrowseLinkClicked<:<2'),\n",
       " ('/browse/driving/vehicle-tax-mot-insurance', 'PAGE<:<NULL<:<NULL'),\n",
       " ('/browse/driving', 'EVENT<:<thirdLevelBrowseLinkClicked<:<1.1'),\n",
       " ('/vehicle-tax', 'PAGE<:<NULL<:<NULL'),\n",
       " ('/vehicle-tax',\n",
       "  'EVENT<:<External Link Clicked<:<https://www.vehicletax.service.gov.uk'),\n",
       " ('/done/vehicle-tax', 'PAGE<:<NULL<:<NULL')]"
      ]
     },
     "execution_count": 117,
     "metadata": {},
     "output_type": "execute_result"
    }
   ],
   "source": [
    "df['Page_Event_List'][139307]"
   ]
  },
  {
   "cell_type": "markdown",
   "metadata": {},
   "source": [
    "#### Search pages"
   ]
  },
  {
   "cell_type": "markdown",
   "metadata": {},
   "source": [
    "thing_page_paths is a list of page paths of document type \"thing\"\n",
    "\n",
    "'Page_List' is a column with a list of page paths (in order) that were visited in each journey\n",
    "\n",
    "all search pages paths contain '/search?q=' at the beginning"
   ]
  },
  {
   "cell_type": "code",
   "execution_count": 288,
   "metadata": {
    "ExecuteTime": {
     "end_time": "2019-02-06T14:37:13.918281Z",
     "start_time": "2019-02-06T14:37:13.888169Z"
    }
   },
   "outputs": [],
   "source": [
    "def count_search_from_content(page_list):\n",
    "    search_from_content = 0\n",
    "    for i, page in enumerate(page_list):\n",
    "        if i > 0:\n",
    "            if '/search?q=' in page:\n",
    "                if page_list[i-1] in thing_page_paths:\n",
    "                    search_from_content += 1\n",
    "    return search_from_content\n",
    "\n",
    "def count_search_from_content_2(page_list):\n",
    "    search_from_content = 0\n",
    "    for i, page in enumerate(page_list[1:]):\n",
    "        if '/search?q=' in page:\n",
    "            if page_list[i] in thing_page_paths:\n",
    "                search_from_content += 1\n",
    "    return search_from_content\n",
    "\n",
    "def count_search_from_content_3(page_list):\n",
    "    search_from_content = 0\n",
    "    if '/search?q=' in ''.join(page_list):\n",
    "        for i, page in enumerate(page_list[1:]):\n",
    "            if '/search?q=' in page:\n",
    "                if page_list[i] in thing_page_paths:\n",
    "                    search_from_content += 1\n",
    "    return search_from_content\n",
    "\n",
    "def count_search_from_content_4(page_list):\n",
    "    search_from_content = 0\n",
    "    if len(page_list) > 1:\n",
    "        for i, page in enumerate(page_list[1:]):\n",
    "            if '/search?q=' in page:\n",
    "                if page_list[i] in thing_page_paths:\n",
    "                    search_from_content += 1\n",
    "    return search_from_content\n",
    "\n",
    "def count_search_from_content_5(page_list):\n",
    "    search_from_content = 0\n",
    "    if '/search?q=' in ''.join(page_list):\n",
    "        for i, page in enumerate(page_list[1:]):\n",
    "            if all(['/search?q=' in page, page_list[i] in thing_page_paths]):\n",
    "                    search_from_content += 1\n",
    "    return search_from_content"
   ]
  },
  {
   "cell_type": "code",
   "execution_count": 240,
   "metadata": {
    "ExecuteTime": {
     "end_time": "2019-02-06T13:38:17.864564Z",
     "start_time": "2019-02-06T13:38:17.262142Z"
    }
   },
   "outputs": [],
   "source": [
    "_10000_sample_df = df.sample(n=10000, weights=df.Occurrences)"
   ]
  },
  {
   "cell_type": "code",
   "execution_count": 243,
   "metadata": {
    "ExecuteTime": {
     "end_time": "2019-02-06T13:38:40.800994Z",
     "start_time": "2019-02-06T13:38:36.084841Z"
    }
   },
   "outputs": [],
   "source": [
    "_10000_sample_df['Search_from_content_events_2'] = _10000_sample_df['Page_List'].map(count_search_from_content_2)"
   ]
  },
  {
   "cell_type": "code",
   "execution_count": 304,
   "metadata": {
    "ExecuteTime": {
     "end_time": "2019-02-06T15:28:57.800348Z",
     "start_time": "2019-02-06T15:28:57.797750Z"
    }
   },
   "outputs": [],
   "source": [
    "# _10000_sample_df[_10000_sample_df['Search_from_content_events_2']>0]"
   ]
  },
  {
   "cell_type": "code",
   "execution_count": 274,
   "metadata": {
    "ExecuteTime": {
     "end_time": "2019-02-06T14:04:08.023980Z",
     "start_time": "2019-02-06T14:03:30.314831Z"
    }
   },
   "outputs": [
    {
     "name": "stdout",
     "output_type": "stream",
     "text": [
      "4.75 s ± 173 ms per loop (mean ± std. dev. of 7 runs, 1 loop each)\n"
     ]
    }
   ],
   "source": [
    "%timeit _10000_sample_df['Page_List'].map(count_search_from_content)"
   ]
  },
  {
   "cell_type": "code",
   "execution_count": 275,
   "metadata": {
    "ExecuteTime": {
     "end_time": "2019-02-06T14:04:44.232998Z",
     "start_time": "2019-02-06T14:04:08.026533Z"
    }
   },
   "outputs": [
    {
     "name": "stdout",
     "output_type": "stream",
     "text": [
      "4.52 s ± 86.7 ms per loop (mean ± std. dev. of 7 runs, 1 loop each)\n"
     ]
    }
   ],
   "source": [
    "%timeit _10000_sample_df['Page_List'].map(count_search_from_content_2)"
   ]
  },
  {
   "cell_type": "code",
   "execution_count": 276,
   "metadata": {
    "ExecuteTime": {
     "end_time": "2019-02-06T14:05:20.469580Z",
     "start_time": "2019-02-06T14:04:44.235199Z"
    }
   },
   "outputs": [
    {
     "name": "stdout",
     "output_type": "stream",
     "text": [
      "4.52 s ± 31.5 ms per loop (mean ± std. dev. of 7 runs, 1 loop each)\n"
     ]
    }
   ],
   "source": [
    "%timeit _10000_sample_df['Page_List'].map(count_search_from_content_3)"
   ]
  },
  {
   "cell_type": "code",
   "execution_count": 277,
   "metadata": {
    "ExecuteTime": {
     "end_time": "2019-02-06T14:05:58.724106Z",
     "start_time": "2019-02-06T14:05:20.472413Z"
    }
   },
   "outputs": [
    {
     "name": "stdout",
     "output_type": "stream",
     "text": [
      "4.8 s ± 145 ms per loop (mean ± std. dev. of 7 runs, 1 loop each)\n"
     ]
    }
   ],
   "source": [
    "%timeit _10000_sample_df['Page_List'].map(count_search_from_content_4)"
   ]
  },
  {
   "cell_type": "code",
   "execution_count": 289,
   "metadata": {
    "ExecuteTime": {
     "end_time": "2019-02-06T14:38:53.979993Z",
     "start_time": "2019-02-06T14:37:22.986185Z"
    }
   },
   "outputs": [
    {
     "name": "stdout",
     "output_type": "stream",
     "text": [
      "11.3 s ± 285 ms per loop (mean ± std. dev. of 7 runs, 1 loop each)\n"
     ]
    }
   ],
   "source": [
    "%timeit _10000_sample_df['Page_List'].map(count_search_from_content_5)"
   ]
  },
  {
   "cell_type": "code",
   "execution_count": 279,
   "metadata": {
    "ExecuteTime": {
     "end_time": "2019-02-06T14:07:46.408265Z",
     "start_time": "2019-02-06T14:07:08.745236Z"
    }
   },
   "outputs": [
    {
     "name": "stdout",
     "output_type": "stream",
     "text": [
      "4.72 s ± 88.3 ms per loop (mean ± std. dev. of 7 runs, 1 loop each)\n"
     ]
    }
   ],
   "source": [
    "%timeit _10000_sample_df[_10000_sample_df['pageviews'] > 1]['Page_List'].map(count_search_from_content)"
   ]
  },
  {
   "cell_type": "code",
   "execution_count": 280,
   "metadata": {
    "ExecuteTime": {
     "end_time": "2019-02-06T14:08:25.261635Z",
     "start_time": "2019-02-06T14:07:46.411486Z"
    }
   },
   "outputs": [
    {
     "name": "stdout",
     "output_type": "stream",
     "text": [
      "4.89 s ± 170 ms per loop (mean ± std. dev. of 7 runs, 1 loop each)\n"
     ]
    }
   ],
   "source": [
    "%timeit _10000_sample_df[_10000_sample_df['pageviews'] > 1]['Page_List'].map(count_search_from_content_2)"
   ]
  },
  {
   "cell_type": "code",
   "execution_count": 283,
   "metadata": {
    "ExecuteTime": {
     "end_time": "2019-02-06T14:31:37.312133Z",
     "start_time": "2019-02-06T14:31:00.046998Z"
    }
   },
   "outputs": [
    {
     "name": "stdout",
     "output_type": "stream",
     "text": [
      "4.64 s ± 56.3 ms per loop (mean ± std. dev. of 7 runs, 1 loop each)\n"
     ]
    }
   ],
   "source": [
    "%%timeit \n",
    "_10000_sample_df[_10000_sample_df['pageviews'] > 1]['Page_List'].map(count_search_from_content_3)"
   ]
  },
  {
   "cell_type": "code",
   "execution_count": null,
   "metadata": {},
   "outputs": [],
   "source": []
  },
  {
   "cell_type": "code",
   "execution_count": null,
   "metadata": {},
   "outputs": [],
   "source": []
  },
  {
   "cell_type": "code",
   "execution_count": 286,
   "metadata": {
    "ExecuteTime": {
     "end_time": "2019-02-06T14:31:55.783800Z",
     "start_time": "2019-02-06T14:31:55.765324Z"
    }
   },
   "outputs": [
    {
     "data": {
      "text/plain": [
       "294698                                                                                                                                                                                                                                                                                                              [/government/publications/esfa-update-31-october-2018, /government/publications/esfa-update-31-october-2018/esfa-update-local-authorities-31-october-2018]\n",
       "192339                                                                                                                                                                                                                                                                                                                                                                                                                [/tier-4-general-visa, /visa-fees, /tier-4-general-visa]\n",
       "266602                                                                                                                                                                                                                                                                                                                                                                                     [/request-copy-criminal-record, /find-out-dbs-check, /request-copy-criminal-record]\n",
       "729599                                                                                                                                                                                                                                                                                                                                                                [/order-copy-birth-death-marriage-certificate, /government/publications/hmpo-privacy-information-notice]\n",
       "220960                                                                                                                                                                                                                                                                                                                                                                                                                                      [/check-vehicle-tax, /vehicle-tax]\n",
       "367591                                                                                                                                                                                                                                                                                                                                                                                                                 [/done/vehicle-tax, /, /vehicle-tax, /done/vehicle-tax]\n",
       "293060                                                                                                                                                                                                                                                                                                                                                                                                          [/pay-dartford-crossing-charge, /pay-dartford-crossing-charge]\n",
       "785088                                                                                                                          [/strike-off-your-company-from-companies-register, /strike-off-your-company-from-companies-register/close-down-your-company, /strike-off-your-company-from-companies-register/apply-to-strike-off, /government/publications/strike-off-a-company-from-the-register-ds01, /government/publications/strike-off-a-company-from-the-register-ds01]\n",
       "439895                                                                                                                                                                                                                                                                                                                                                                                                   [/emergency-travel-document, /emergency-travel-document/how-to-apply]\n",
       "588452                                                                                                                                                                                                                                                                                                                                                                                                                                  [/done/vehicle-tax, /done/vehicle-tax]\n",
       "803326                                                                                                                                                                                                                                                                                                                                                                                                                                [/check-mot-history, /check-mot-history]\n",
       "1512143                                                                                                                                                                                                                                                                                                                                                      [/vehicle-tax-rate-tables/other-vehicle-tax-rates, /browse/driving/vehicle-tax-mot-insurance, /check-vehicle-tax]\n",
       "71391                                                                                                                                                                                                                                                                                                                                                                                                     [/government/organisations/uk-visas-and-immigration, /apply-uk-visa]\n",
       "147033                                                                                                                                                                                                                                                                                                                                 [/self-assessment-tax-returns, /log-in-file-self-assessment-tax-return, /log-in-file-self-assessment-tax-return/sign-in/prove-identity]\n",
       "107649                                                                                                                                                                                                                                                                                                    [/government/publications/school-procurement-buying-a-multi-functional-device-mfd, /government/publications/school-procurement-buying-a-multi-functional-device-mfd]\n",
       "145815                                                                                                                                                                                                                                                                                                                                                                                                         [/done/vehicle-tax, /contact/govuk/anonymous-feedback/thankyou]\n",
       "144158                                                                                                                                                                                                                                                                                                                                                                                           [/government/organisations/companies-house, /get-information-about-a-company]\n",
       "1852447                                                                                                                                                                                                                                                                                                                                                                                 [/change-driving-test, /change-driving-test, /done/change-date-practical-driving-test]\n",
       "964083                                                                                                                                                                                    [/renew-adult-passport/renew, /apply-renew-passport, /get-a-passport-urgently, /get-a-passport-urgently/online-premium-service, /get-a-passport-urgently/paper-premium-service, /get-a-passport-urgently/1-week-fast-track-service, /get-a-passport-urgently/online-premium-service]\n",
       "1681623                                                                                                                                                                                                                                                                                                                                                                                                                             [/book-driving-test, /change-driving-test]\n",
       "440649                                                                                                                                                                                                                                                                                                                                                                         [/apply-for-a-uk-residence-card/permanent-residence-card, /settled-status-eu-citizens-families]\n",
       "660396                                                                                                                                                                                                                                                                                                                                  [/sold-bought-vehicle, /sold-bought-vehicle/y, /sold-bought-vehicle/y/yes, /sold-bought-vehicle/y/yes/sold-a-vehicle-out-of-the-trade]\n",
       "587620                                                                                                                                                                                                                                                                                                                                                                                                     [/student-finance-register-login, /contact-student-finance-england]\n",
       "2023293                                                                                                                                                                                                                                                                                                                                                                             [/find-a-visa-application-centre, /visa-processing-times, /find-a-visa-application-centre]\n",
       "514637                                                                                                                                                                                                                                                                                                                                                                                                         [/sold-bought-vehicle/y/yes/bought-a-vehicle-into-the-trade, /]\n",
       "1060725                                                                                                                                                                                                                                                                                                                                                                 [/get-information-about-property-and-land/copies-of-deeds, /search-property-information-land-registry]\n",
       "1199229                                                                                                                                                                                                                                                                                                                              [/, /browse/benefits, /browse/benefits/universal-credit, /universal-credit, /browse/benefits/universal-credit, /sign-in-universal-credit]\n",
       "219736                                                                                                                                                                                                                                                                                               [/sold-bought-vehicle, /sold-bought-vehicle/y, /sold-bought-vehicle/y/no, /sold-bought-vehicle/y/no/sold-it, /sold-bought-vehicle/y/no/sold-it/sold-it-to-a-motor-trader]\n",
       "1823050                                                                                                                                                                                                                                                                                                                                                                                                             [/corporation-tax, /pay-corporation-tax, /corporation-tax]\n",
       "73549                                                                                                                                                                                                                                                                                                                                                                                                 [/done/lost-stolen-passport, /contact/govuk/anonymous-feedback/thankyou]\n",
       "                                                                                                                                                                                                                                          ...                                                                                                                                                                                                                                 \n",
       "734117                                                                                                                                                                                                                                                                                                                                                                                                                        [/foreign-travel-advice, /foreign-travel-advice]\n",
       "347596                                                                                                                                                                                                                                                                                                                                                                  [/get-information-about-a-company, /get-information-about-a-company, /get-information-about-a-company]\n",
       "65801                                                                                                                                                                                                                                                                                                                                                                 [/apply-for-your-full-driving-licence, /pass-plus?step-by-step-nav=e01e924b-9c7c-4c71-8241-66a575c2f61f]\n",
       "1127092                                                                                                                                                                                                                                                                                                                                                  [/guidance/universal-credit-full-service-and-live-service, /guidance/jobcentres-where-you-can-claim-universal-credit]\n",
       "214472                                                                                                                                                                                                                                                                            [/browse/visas-immigration/settle-in-the-uk, /settle-in-the-uk, /settle-in-the-uk/y, /settle-in-the-uk/y/you-have-a-work-visa, /settle-in-the-uk/y/you-have-a-work-visa/tier-2-general-visa]\n",
       "631576                                                                                                                                                                                                                                                                                                                                    [/government/publications/form-n434-notice-of-change-of-solicitor, /government/publications/form-n434-notice-of-change-of-solicitor]\n",
       "71961                                                                                                                                                                                                                                                                                                                                                                                                 [/penalties-drug-possession-dealing, /penalties-drug-possession-dealing]\n",
       "9929                                                                                                                                                                                                                                                                                                            [/government/publications/medical-exemptions-from-compulsory-seat-belt-wearing, /government/publications/medical-exemptions-from-compulsory-seat-belt-wearing]\n",
       "1507333                                                                                                                                                                                                                                                                                                                                                                                                           [/get-help-savings-low-income, /get-help-savings-low-income]\n",
       "48463                                                                                                                                                                                                                                                                                     [/government/publications/counting-rules-for-recorded-crime, /government/publications/counting-rules-for-recorded-crime, /government/publications/counting-rules-for-recorded-crime]\n",
       "639132                                                                                                                                                                                                                                                                                                                                                                                                            [/, /browse/tax, /search?q=gift+aid, /claim-gift-aid-online]\n",
       "1873890                                                                                                                                                                                                                                [/get-a-passport-urgently, /get-a-passport-urgently/1-week-fast-track-service, /get-a-passport-urgently/online-premium-service, /get-a-passport-urgently/1-week-fast-track-service, /get-a-passport-urgently/1-week-fast-track-service]\n",
       "1480459                                                                                                                                                                                                                                                                                                                                                                                 [/vehicle-registration/new-registrations, /vehicle-registration/new-and-used-vehicles]\n",
       "588462                                                                                                                                                                                                                                                                                                                                                                                                                      [/send-vat-return, /vat-returns, /send-vat-return]\n",
       "1407101                                                                                                                                                                [/apply-national-insurance-number, /browse/tax/national-insurance, /lost-national-insurance-number, /government/publications/national-insurance-get-your-national-insurance-number-in-writing-ca5403, /government/publications/national-insurance-get-your-national-insurance-number-in-writing-ca5403]\n",
       "574202                                                                                                                                                                                                                                                                                                                                                                                                            [/renew-driving-licence-at-70, /renew-driving-licence-at-70]\n",
       "525589                                                                                                                                                                                                                                                                                                                                                                                                   [/get-a-child-passport/renew-a-child-passport, /apply-renew-passport]\n",
       "217774                                                                                                                                                                                                                                                                                                                                                                                                               [/guidance/hmrc-tools-and-calculators, /check-income-tax]\n",
       "417517                                                                                                                                                                                                                                                                                                                                                                                          [/standard-visitor-visa, /visa-processing-times, /standard-visitor-visa/apply]\n",
       "1187115    [/government/publications/teacher-misconduct-forthcoming-professional-conduct-hearings/teacher-misconduct-forthcoming-professional-conduct-panel-hearings, /government/publications/teacher-misconduct-forthcoming-professional-conduct-hearings, /government/publications?keywords=teacher+misconduct+panel+outcome&publication_filter_option=decisions&topics[]=schools&departments[]=all&official_document_status=all&world_locations[]=all&from_date=&to_date=]\n",
       "551426                                                                                                                                                                                                                                                                                                                                                                                      [/guidance/community-infrastructure-levy, /guidance/community-infrastructure-levy]\n",
       "1977270                                                                                                                                                                                                                                                                                                                                                                        [/get-vehicle-information-from-dvla, /personalised-vehicle-registration-numbers/keep-or-assign]\n",
       "586419                                                                                                                                                                                                                                                                                                                                                                                                                           [/holiday-entitlement-rights, /bank-holidays]\n",
       "839581                                                                                                                                                                                                                                                                        [/hmrc-internal-manuals/employment-related-securities/ersm20192, /hmrc-internal-manuals/employment-related-securities/ersm20193, /hmrc-internal-manuals/employment-related-securities/ersm20194]\n",
       "846315                                                                                                                                                                                                                                                                                                                                                                                                  [/vehicle-tax, /vehicle-tax, /vehicle-tax, /vehicle-tax, /vehicle-tax]\n",
       "1104227                                                                                                                                                                                                                                                                                                                                                             [/vehicle-tax, /contact, /contact-the-dvla, /contact-the-dvla/y, /contact-the-dvla/y/vehicle-tax-and-sorn]\n",
       "1950970                                                                                                                                                                                                                                                                       [/government/publications/good-practice-in-primary-mathematics-evidence-from-successful-schools, /government/publications/good-practice-in-primary-mathematics-evidence-from-successful-schools]\n",
       "367743                                                                                                                                                                                                                                                                                                                                                                                                               [/income-tax-rates, /income-tax-rates/previous-tax-years]\n",
       "867630                                                                                                                                                                                                                                                                                                                                                                                                            [/check-mot-history, /check-mot-history, /check-mot-history]\n",
       "184745                                                                                                                                                                                                                                                                                                                                                                                                               [/pay-council-tax, /pay-council-tax/kingston-upon-thames]\n",
       "Name: Page_List, Length: 4933, dtype: object"
      ]
     },
     "execution_count": 286,
     "metadata": {},
     "output_type": "execute_result"
    }
   ],
   "source": [
    "_10000_sample_df[_10000_sample_df['pageviews'] > 1]['Page_List']"
   ]
  },
  {
   "cell_type": "code",
   "execution_count": null,
   "metadata": {},
   "outputs": [],
   "source": []
  },
  {
   "cell_type": "code",
   "execution_count": 282,
   "metadata": {
    "ExecuteTime": {
     "end_time": "2019-02-06T14:30:54.300356Z",
     "start_time": "2019-02-06T14:10:04.514921Z"
    }
   },
   "outputs": [
    {
     "ename": "KeyboardInterrupt",
     "evalue": "",
     "output_type": "error",
     "traceback": [
      "\u001b[0;31m---------------------------------------------------------------------------\u001b[0m",
      "\u001b[0;31mKeyboardInterrupt\u001b[0m                         Traceback (most recent call last)",
      "\u001b[0;32m<ipython-input-282-45473f9bc6ab>\u001b[0m in \u001b[0;36m<module>\u001b[0;34m\u001b[0m\n\u001b[0;32m----> 1\u001b[0;31m \u001b[0mdf\u001b[0m\u001b[0;34m[\u001b[0m\u001b[0;34m'Search_from_content_events'\u001b[0m\u001b[0;34m]\u001b[0m \u001b[0;34m=\u001b[0m \u001b[0mdf\u001b[0m\u001b[0;34m[\u001b[0m\u001b[0;34m'Page_List'\u001b[0m\u001b[0;34m]\u001b[0m\u001b[0;34m.\u001b[0m\u001b[0mmap\u001b[0m\u001b[0;34m(\u001b[0m\u001b[0mcount_search_from_content_3\u001b[0m\u001b[0;34m)\u001b[0m\u001b[0;34m\u001b[0m\u001b[0m\n\u001b[0m",
      "\u001b[0;32m~/.virtualenvs/related-links-test/lib/python3.6/site-packages/pandas/core/series.py\u001b[0m in \u001b[0;36mmap\u001b[0;34m(self, arg, na_action)\u001b[0m\n\u001b[1;32m   2996\u001b[0m         \"\"\"\n\u001b[1;32m   2997\u001b[0m         new_values = super(Series, self)._map_values(\n\u001b[0;32m-> 2998\u001b[0;31m             arg, na_action=na_action)\n\u001b[0m\u001b[1;32m   2999\u001b[0m         return self._constructor(new_values,\n\u001b[1;32m   3000\u001b[0m                                  index=self.index).__finalize__(self)\n",
      "\u001b[0;32m~/.virtualenvs/related-links-test/lib/python3.6/site-packages/pandas/core/base.py\u001b[0m in \u001b[0;36m_map_values\u001b[0;34m(self, mapper, na_action)\u001b[0m\n\u001b[1;32m   1002\u001b[0m \u001b[0;34m\u001b[0m\u001b[0m\n\u001b[1;32m   1003\u001b[0m         \u001b[0;31m# mapper is a function\u001b[0m\u001b[0;34m\u001b[0m\u001b[0;34m\u001b[0m\u001b[0m\n\u001b[0;32m-> 1004\u001b[0;31m         \u001b[0mnew_values\u001b[0m \u001b[0;34m=\u001b[0m \u001b[0mmap_f\u001b[0m\u001b[0;34m(\u001b[0m\u001b[0mvalues\u001b[0m\u001b[0;34m,\u001b[0m \u001b[0mmapper\u001b[0m\u001b[0;34m)\u001b[0m\u001b[0;34m\u001b[0m\u001b[0m\n\u001b[0m\u001b[1;32m   1005\u001b[0m \u001b[0;34m\u001b[0m\u001b[0m\n\u001b[1;32m   1006\u001b[0m         \u001b[0;32mreturn\u001b[0m \u001b[0mnew_values\u001b[0m\u001b[0;34m\u001b[0m\u001b[0m\n",
      "\u001b[0;32mpandas/_libs/src/inference.pyx\u001b[0m in \u001b[0;36mpandas._libs.lib.map_infer\u001b[0;34m()\u001b[0m\n",
      "\u001b[0;32m<ipython-input-249-14c959d91ef7>\u001b[0m in \u001b[0;36mcount_search_from_content_3\u001b[0;34m(page_list)\u001b[0m\n\u001b[1;32m     21\u001b[0m         \u001b[0;32mfor\u001b[0m \u001b[0mi\u001b[0m\u001b[0;34m,\u001b[0m \u001b[0mpage\u001b[0m \u001b[0;32min\u001b[0m \u001b[0menumerate\u001b[0m\u001b[0;34m(\u001b[0m\u001b[0mpage_list\u001b[0m\u001b[0;34m[\u001b[0m\u001b[0;36m1\u001b[0m\u001b[0;34m:\u001b[0m\u001b[0;34m]\u001b[0m\u001b[0;34m)\u001b[0m\u001b[0;34m:\u001b[0m\u001b[0;34m\u001b[0m\u001b[0m\n\u001b[1;32m     22\u001b[0m             \u001b[0;32mif\u001b[0m \u001b[0;34m'/search?q='\u001b[0m \u001b[0;32min\u001b[0m \u001b[0mpage\u001b[0m\u001b[0;34m:\u001b[0m\u001b[0;34m\u001b[0m\u001b[0m\n\u001b[0;32m---> 23\u001b[0;31m                 \u001b[0;32mif\u001b[0m \u001b[0mpage_list\u001b[0m\u001b[0;34m[\u001b[0m\u001b[0mi\u001b[0m\u001b[0;34m]\u001b[0m \u001b[0;32min\u001b[0m \u001b[0mthing_page_paths\u001b[0m\u001b[0;34m:\u001b[0m\u001b[0;34m\u001b[0m\u001b[0m\n\u001b[0m\u001b[1;32m     24\u001b[0m                     \u001b[0msearch_from_content\u001b[0m \u001b[0;34m+=\u001b[0m \u001b[0;36m1\u001b[0m\u001b[0;34m\u001b[0m\u001b[0m\n\u001b[1;32m     25\u001b[0m     \u001b[0;32mreturn\u001b[0m \u001b[0msearch_from_content\u001b[0m\u001b[0;34m\u001b[0m\u001b[0m\n",
      "\u001b[0;31mKeyboardInterrupt\u001b[0m: "
     ]
    }
   ],
   "source": [
    "df['Search_from_content_events'] = df['Page_List'].map(count_search_from_content_3)"
   ]
  },
  {
   "cell_type": "code",
   "execution_count": null,
   "metadata": {},
   "outputs": [],
   "source": []
  },
  {
   "cell_type": "code",
   "execution_count": 189,
   "metadata": {
    "ExecuteTime": {
     "end_time": "2019-02-06T10:58:28.524453Z",
     "start_time": "2019-02-06T10:58:28.282692Z"
    }
   },
   "outputs": [
    {
     "data": {
      "text/html": [
       "<div>\n",
       "<style scoped>\n",
       "    .dataframe tbody tr th:only-of-type {\n",
       "        vertical-align: middle;\n",
       "    }\n",
       "\n",
       "    .dataframe tbody tr th {\n",
       "        vertical-align: top;\n",
       "    }\n",
       "\n",
       "    .dataframe thead th {\n",
       "        text-align: right;\n",
       "    }\n",
       "</style>\n",
       "<table border=\"1\" class=\"dataframe\">\n",
       "  <thead>\n",
       "    <tr style=\"text-align: right;\">\n",
       "      <th></th>\n",
       "      <th>Sequence</th>\n",
       "      <th>PageSequence</th>\n",
       "      <th>Occurrences</th>\n",
       "      <th>Page_Seq_Occurrences</th>\n",
       "      <th>DeviceCategories</th>\n",
       "      <th>Dates</th>\n",
       "      <th>Page_Event_List</th>\n",
       "      <th>Page_List</th>\n",
       "      <th>PageSequence_internal</th>\n",
       "      <th>Event_List</th>\n",
       "      <th>...</th>\n",
       "      <th>Page_Seq_NL</th>\n",
       "      <th>Occurrences_NL</th>\n",
       "      <th>TabletCount</th>\n",
       "      <th>Has_Related</th>\n",
       "      <th>Related Links Clicks per seq</th>\n",
       "      <th>Related Links Clicks row total</th>\n",
       "      <th>pageviews</th>\n",
       "      <th>absolute pageviews count</th>\n",
       "      <th>Content_page_nav_events</th>\n",
       "      <th>Search_from_content_events</th>\n",
       "    </tr>\n",
       "  </thead>\n",
       "  <tbody>\n",
       "    <tr>\n",
       "      <th>9086</th>\n",
       "      <td>/universal-credit&lt;&lt;PAGE&lt;:&lt;NULL&lt;:&lt;NULL&gt;&gt;/search?q=universal+credit&lt;&lt;EVENT&lt;:&lt;searchResults&lt;:&lt;resultsShown&gt;&gt;/search?q=universal+credit&lt;&lt;PAGE&lt;:&lt;NULL&lt;:&lt;NULL</td>\n",
       "      <td>/universal-credit&gt;&gt;/search?q=universal+credit</td>\n",
       "      <td>1</td>\n",
       "      <td>2.0</td>\n",
       "      <td>[('mobile', 1)]</td>\n",
       "      <td>[('20181031', 1)]</td>\n",
       "      <td>[(/universal-credit, PAGE&lt;:&lt;NULL&lt;:&lt;NULL), (/search?q=universal+credit, EVENT&lt;:&lt;searchResults&lt;:&lt;resultsShown), (/search?q=universal+credit, PAGE&lt;:&lt;NULL&lt;:&lt;NULL)]</td>\n",
       "      <td>[/universal-credit, /search?q=universal+credit]</td>\n",
       "      <td>/universal-credit&gt;&gt;/search?q=universal+credit</td>\n",
       "      <td>[('PAGE_NULL', 'PAGE_NULL'), ('searchResults', 'resultsShown'), ('PAGE_NULL', 'PAGE_NULL')]</td>\n",
       "      <td>...</td>\n",
       "      <td>/universal-credit&gt;&gt;/search?q=universal+credit</td>\n",
       "      <td>4.0</td>\n",
       "      <td>0</td>\n",
       "      <td>False</td>\n",
       "      <td>0</td>\n",
       "      <td>0</td>\n",
       "      <td>2</td>\n",
       "      <td>2</td>\n",
       "      <td>0</td>\n",
       "      <td>1.0</td>\n",
       "    </tr>\n",
       "    <tr>\n",
       "      <th>12793</th>\n",
       "      <td>/jobsearch&lt;&lt;PAGE&lt;:&lt;NULL&lt;:&lt;NULL&gt;&gt;/search?q=&lt;&lt;PAGE&lt;:&lt;NULL&lt;:&lt;NULL&gt;&gt;/jobsearch&lt;&lt;EVENT&lt;:&lt;External Link Clicked&lt;:&lt;https://findajob.dwp.gov.uk&gt;&gt;/jobsearch&lt;&lt;PAGE&lt;:&lt;NULL&lt;:&lt;NULL</td>\n",
       "      <td>/jobsearch&gt;&gt;/search?q=&gt;&gt;/jobsearch</td>\n",
       "      <td>1</td>\n",
       "      <td>11.0</td>\n",
       "      <td>[('mobile', 1)]</td>\n",
       "      <td>[('20181031', 1)]</td>\n",
       "      <td>[(/jobsearch, PAGE&lt;:&lt;NULL&lt;:&lt;NULL), (/search?q=, PAGE&lt;:&lt;NULL&lt;:&lt;NULL), (/jobsearch, EVENT&lt;:&lt;External Link Clicked&lt;:&lt;https://findajob.dwp.gov.uk), (/jobsearch, PAGE&lt;:&lt;NULL&lt;:&lt;NULL)]</td>\n",
       "      <td>[/jobsearch, /search?q=, /jobsearch]</td>\n",
       "      <td>/jobsearch&gt;&gt;/search?q=&gt;&gt;/jobsearch</td>\n",
       "      <td>[('PAGE_NULL', 'PAGE_NULL'), ('PAGE_NULL', 'PAGE_NULL'), ('External Link Clicked', 'https://findajob.dwp.gov.uk'), ('PAGE_NULL', 'PAGE_NULL')]</td>\n",
       "      <td>...</td>\n",
       "      <td>/jobsearch&gt;&gt;/search?q=&gt;&gt;/jobsearch</td>\n",
       "      <td>53.0</td>\n",
       "      <td>0</td>\n",
       "      <td>False</td>\n",
       "      <td>0</td>\n",
       "      <td>0</td>\n",
       "      <td>3</td>\n",
       "      <td>3</td>\n",
       "      <td>0</td>\n",
       "      <td>1.0</td>\n",
       "    </tr>\n",
       "    <tr>\n",
       "      <th>14342</th>\n",
       "      <td>/foreign-travel-advice/usa/entry-requirements&lt;&lt;PAGE&lt;:&lt;NULL&lt;:&lt;NULL&gt;&gt;/search?q=esta&lt;&lt;PAGE&lt;:&lt;NULL&lt;:&lt;NULL&gt;&gt;/search?q=esta&lt;&lt;EVENT&lt;:&lt;searchResults&lt;:&lt;resultsShown&gt;&gt;/search?q=esta&lt;&lt;EVENT&lt;:&lt;UX&lt;:&lt;click&gt;&gt;/search?q=esta&lt;&lt;EVENT&lt;:&lt;External Link Clicked&lt;:&lt;https://esta.cbp.dhs.gov/</td>\n",
       "      <td>/foreign-travel-advice/usa/entry-requirements&gt;&gt;/search?q=esta</td>\n",
       "      <td>2</td>\n",
       "      <td>8.0</td>\n",
       "      <td>[('mobile', 1), ('tablet', 1), ('desktop', 1)]</td>\n",
       "      <td>[('20181031', 1), ('20181102', 2)]</td>\n",
       "      <td>[(/foreign-travel-advice/usa/entry-requirements, PAGE&lt;:&lt;NULL&lt;:&lt;NULL), (/search?q=esta, PAGE&lt;:&lt;NULL&lt;:&lt;NULL), (/search?q=esta, EVENT&lt;:&lt;searchResults&lt;:&lt;resultsShown), (/search?q=esta, EVENT&lt;:&lt;UX&lt;:&lt;click), (/search?q=esta, EVENT&lt;:&lt;External Link Clicked&lt;:&lt;https://esta.cbp.dhs.gov/)]</td>\n",
       "      <td>[/foreign-travel-advice/usa/entry-requirements, /search?q=esta]</td>\n",
       "      <td>/foreign-travel-advice/usa/entry-requirements&gt;&gt;/search?q=esta</td>\n",
       "      <td>[('PAGE_NULL', 'PAGE_NULL'), ('PAGE_NULL', 'PAGE_NULL'), ('searchResults', 'resultsShown'), ('UX', 'click'), ('External Link Clicked', 'https://esta.cbp.dhs.gov/')]</td>\n",
       "      <td>...</td>\n",
       "      <td>/foreign-travel-advice/usa/entry-requirements&gt;&gt;/search?q=esta</td>\n",
       "      <td>24.0</td>\n",
       "      <td>1</td>\n",
       "      <td>False</td>\n",
       "      <td>0</td>\n",
       "      <td>0</td>\n",
       "      <td>2</td>\n",
       "      <td>4</td>\n",
       "      <td>0</td>\n",
       "      <td>1.0</td>\n",
       "    </tr>\n",
       "    <tr>\n",
       "      <th>15128</th>\n",
       "      <td>/vehicle-tax&lt;&lt;PAGE&lt;:&lt;NULL&lt;:&lt;NULL&gt;&gt;/search?q=apprenticeship+&lt;&lt;PAGE&lt;:&lt;NULL&lt;:&lt;NULL&gt;&gt;/search?q=apprenticeship+&lt;&lt;EVENT&lt;:&lt;searchResults&lt;:&lt;resultsShown&gt;&gt;/apply-apprenticeship&lt;&lt;PAGE&lt;:&lt;NULL&lt;:&lt;NULL&gt;&gt;/apply-apprenticeship&lt;&lt;EVENT&lt;:&lt;External Link Clicked&lt;:&lt;https://www.findapprenticeship.service.gov.uk/apprenticeshipsearch</td>\n",
       "      <td>/vehicle-tax&gt;&gt;/search?q=apprenticeship+&gt;&gt;/apply-apprenticeship</td>\n",
       "      <td>1</td>\n",
       "      <td>12.0</td>\n",
       "      <td>[('mobile', 1)]</td>\n",
       "      <td>[('20181031', 1)]</td>\n",
       "      <td>[(/vehicle-tax, PAGE&lt;:&lt;NULL&lt;:&lt;NULL), (/search?q=apprenticeship+, PAGE&lt;:&lt;NULL&lt;:&lt;NULL), (/search?q=apprenticeship+, EVENT&lt;:&lt;searchResults&lt;:&lt;resultsShown), (/apply-apprenticeship, PAGE&lt;:&lt;NULL&lt;:&lt;NULL), (/apply-apprenticeship, EVENT&lt;:&lt;External Link Clicked&lt;:&lt;https://www.findapprenticeship.service.gov.uk/apprenticeshipsearch)]</td>\n",
       "      <td>[/vehicle-tax, /search?q=apprenticeship+, /apply-apprenticeship]</td>\n",
       "      <td>/vehicle-tax&gt;&gt;/search?q=apprenticeship+&gt;&gt;/apply-apprenticeship</td>\n",
       "      <td>[('PAGE_NULL', 'PAGE_NULL'), ('PAGE_NULL', 'PAGE_NULL'), ('searchResults', 'resultsShown'), ('PAGE_NULL', 'PAGE_NULL'), ('External Link Clicked', 'https://www.findapprenticeship.service.gov.uk/apprenticeshipsearch')]</td>\n",
       "      <td>...</td>\n",
       "      <td>/vehicle-tax&gt;&gt;/search?q=apprenticeship+&gt;&gt;/apply-apprenticeship</td>\n",
       "      <td>36.0</td>\n",
       "      <td>0</td>\n",
       "      <td>False</td>\n",
       "      <td>0</td>\n",
       "      <td>0</td>\n",
       "      <td>3</td>\n",
       "      <td>3</td>\n",
       "      <td>0</td>\n",
       "      <td>1.0</td>\n",
       "    </tr>\n",
       "    <tr>\n",
       "      <th>15329</th>\n",
       "      <td>/get-vehicle-information-from-dvla&lt;&lt;PAGE&lt;:&lt;NULL&lt;:&lt;NULL&gt;&gt;/search?q=[postcode]h&lt;&lt;PAGE&lt;:&lt;NULL&lt;:&lt;NULL&gt;&gt;/search?q=kw55syh&lt;&lt;EVENT&lt;:&lt;External Link Clicked&lt;:&lt;http://webarchive.nationalarchives.gov.uk/adv_search/?query=[postcode]H&gt;&gt;/search?q=[postcode]h&lt;&lt;PAGE&lt;:&lt;NULL&lt;:&lt;NULL&gt;&gt;/get-vehicle-information-from-dvla&lt;&lt;PAGE&lt;:&lt;NULL&lt;:&lt;NULL</td>\n",
       "      <td>/get-vehicle-information-from-dvla&gt;&gt;/search?q=[postcode]h&gt;&gt;/search?q=[postcode]h&gt;&gt;/get-vehicle-information-from-dvla</td>\n",
       "      <td>1</td>\n",
       "      <td>2.0</td>\n",
       "      <td>[('mobile', 1)]</td>\n",
       "      <td>[('20181031', 1)]</td>\n",
       "      <td>[(/get-vehicle-information-from-dvla, PAGE&lt;:&lt;NULL&lt;:&lt;NULL), (/search?q=[postcode]h, PAGE&lt;:&lt;NULL&lt;:&lt;NULL), (/search?q=kw55syh, EVENT&lt;:&lt;External Link Clicked&lt;:&lt;http://webarchive.nationalarchives.gov.uk/adv_search/?query=[postcode]H), (/search?q=[postcode]h, PAGE&lt;:&lt;NULL&lt;:&lt;NULL), (/get-vehicle-information-from-dvla, PAGE&lt;:&lt;NULL&lt;:&lt;NULL)]</td>\n",
       "      <td>[/get-vehicle-information-from-dvla, /search?q=[postcode]h, /search?q=[postcode]h, /get-vehicle-information-from-dvla]</td>\n",
       "      <td>/get-vehicle-information-from-dvla&gt;&gt;/search?q=[postcode]h&gt;&gt;/search?q=[postcode]h&gt;&gt;/get-vehicle-information-from-dvla</td>\n",
       "      <td>[('PAGE_NULL', 'PAGE_NULL'), ('PAGE_NULL', 'PAGE_NULL'), ('External Link Clicked', 'http://webarchive.nationalarchives.gov.uk/adv_search/?query=[postcode]H'), ('PAGE_NULL', 'PAGE_NULL'), ('PAGE_NULL', 'PAGE_NULL')]</td>\n",
       "      <td>...</td>\n",
       "      <td>/get-vehicle-information-from-dvla&gt;&gt;/search?q=[postcode]h&gt;&gt;/get-vehicle-information-from-dvla</td>\n",
       "      <td>4.0</td>\n",
       "      <td>0</td>\n",
       "      <td>False</td>\n",
       "      <td>0</td>\n",
       "      <td>0</td>\n",
       "      <td>4</td>\n",
       "      <td>4</td>\n",
       "      <td>0</td>\n",
       "      <td>1.0</td>\n",
       "    </tr>\n",
       "    <tr>\n",
       "      <th>15463</th>\n",
       "      <td>/done/make-a-sorn&lt;&lt;PAGE&lt;:&lt;NULL&lt;:&lt;NULL&gt;&gt;/search?q=tax+vehicle&lt;&lt;PAGE&lt;:&lt;NULL&lt;:&lt;NULL&gt;&gt;/search?q=tax+vehicle&lt;&lt;EVENT&lt;:&lt;searchResults&lt;:&lt;resultsShown&gt;&gt;/search?q=tax+vehicle&lt;&lt;EVENT&lt;:&lt;UX&lt;:&lt;click&gt;&gt;/vehicle-tax&lt;&lt;PAGE&lt;:&lt;NULL&lt;:&lt;NULL</td>\n",
       "      <td>/done/make-a-sorn&gt;&gt;/search?q=tax+vehicle&gt;&gt;/vehicle-tax</td>\n",
       "      <td>1</td>\n",
       "      <td>10.0</td>\n",
       "      <td>[('mobile', 1)]</td>\n",
       "      <td>[('20181031', 1)]</td>\n",
       "      <td>[(/done/make-a-sorn, PAGE&lt;:&lt;NULL&lt;:&lt;NULL), (/search?q=tax+vehicle, PAGE&lt;:&lt;NULL&lt;:&lt;NULL), (/search?q=tax+vehicle, EVENT&lt;:&lt;searchResults&lt;:&lt;resultsShown), (/search?q=tax+vehicle, EVENT&lt;:&lt;UX&lt;:&lt;click), (/vehicle-tax, PAGE&lt;:&lt;NULL&lt;:&lt;NULL)]</td>\n",
       "      <td>[/done/make-a-sorn, /search?q=tax+vehicle, /vehicle-tax]</td>\n",
       "      <td>/done/make-a-sorn&gt;&gt;/search?q=tax+vehicle&gt;&gt;/vehicle-tax</td>\n",
       "      <td>[('PAGE_NULL', 'PAGE_NULL'), ('PAGE_NULL', 'PAGE_NULL'), ('searchResults', 'resultsShown'), ('UX', 'click'), ('PAGE_NULL', 'PAGE_NULL')]</td>\n",
       "      <td>...</td>\n",
       "      <td>/done/make-a-sorn&gt;&gt;/search?q=tax+vehicle&gt;&gt;/vehicle-tax</td>\n",
       "      <td>50.0</td>\n",
       "      <td>0</td>\n",
       "      <td>False</td>\n",
       "      <td>0</td>\n",
       "      <td>0</td>\n",
       "      <td>3</td>\n",
       "      <td>3</td>\n",
       "      <td>0</td>\n",
       "      <td>1.0</td>\n",
       "    </tr>\n",
       "    <tr>\n",
       "      <th>16261</th>\n",
       "      <td>/vehicle-tax&lt;&lt;PAGE&lt;:&lt;NULL&lt;:&lt;NULL&gt;&gt;/search?q=check+vehicle+tax&lt;&lt;PAGE&lt;:&lt;NULL&lt;:&lt;NULL&gt;&gt;/search?q=check+vehicle+tax&lt;&lt;EVENT&lt;:&lt;searchResults&lt;:&lt;resultsShown&gt;&gt;/search?q=check+vehicle+tax&lt;&lt;EVENT&lt;:&lt;UX&lt;:&lt;click&gt;&gt;/check-vehicle-tax&lt;&lt;PAGE&lt;:&lt;NULL&lt;:&lt;NULL&gt;&gt;/check-vehicle-tax&lt;&lt;EVENT&lt;:&lt;External Link Clicked&lt;:&lt;https://www.vehicleenquiry.service.gov.uk</td>\n",
       "      <td>/vehicle-tax&gt;&gt;/search?q=check+vehicle+tax&gt;&gt;/check-vehicle-tax</td>\n",
       "      <td>1</td>\n",
       "      <td>2.0</td>\n",
       "      <td>[('mobile', 1)]</td>\n",
       "      <td>[('20181031', 1)]</td>\n",
       "      <td>[(/vehicle-tax, PAGE&lt;:&lt;NULL&lt;:&lt;NULL), (/search?q=check+vehicle+tax, PAGE&lt;:&lt;NULL&lt;:&lt;NULL), (/search?q=check+vehicle+tax, EVENT&lt;:&lt;searchResults&lt;:&lt;resultsShown), (/search?q=check+vehicle+tax, EVENT&lt;:&lt;UX&lt;:&lt;click), (/check-vehicle-tax, PAGE&lt;:&lt;NULL&lt;:&lt;NULL), (/check-vehicle-tax, EVENT&lt;:&lt;External Link Clicked&lt;:&lt;https://www.vehicleenquiry.service.gov.uk)]</td>\n",
       "      <td>[/vehicle-tax, /search?q=check+vehicle+tax, /check-vehicle-tax]</td>\n",
       "      <td>/vehicle-tax&gt;&gt;/search?q=check+vehicle+tax&gt;&gt;/check-vehicle-tax</td>\n",
       "      <td>[('PAGE_NULL', 'PAGE_NULL'), ('PAGE_NULL', 'PAGE_NULL'), ('searchResults', 'resultsShown'), ('UX', 'click'), ('PAGE_NULL', 'PAGE_NULL'), ('External Link Clicked', 'https://www.vehicleenquiry.service.gov.uk')]</td>\n",
       "      <td>...</td>\n",
       "      <td>/vehicle-tax&gt;&gt;/search?q=check+vehicle+tax&gt;&gt;/check-vehicle-tax</td>\n",
       "      <td>4.0</td>\n",
       "      <td>0</td>\n",
       "      <td>False</td>\n",
       "      <td>0</td>\n",
       "      <td>0</td>\n",
       "      <td>3</td>\n",
       "      <td>3</td>\n",
       "      <td>0</td>\n",
       "      <td>1.0</td>\n",
       "    </tr>\n",
       "    <tr>\n",
       "      <th>16397</th>\n",
       "      <td>/get-vehicle-information-from-dvla&lt;&lt;PAGE&lt;:&lt;NULL&lt;:&lt;NULL&gt;&gt;/search?q=road+tax&lt;&lt;PAGE&lt;:&lt;NULL&lt;:&lt;NULL&gt;&gt;/search?q=road+tax&lt;&lt;EVENT&lt;:&lt;searchResults&lt;:&lt;resultsShown&gt;&gt;/search?q=road+tax&lt;&lt;EVENT&lt;:&lt;UX&lt;:&lt;click&gt;&gt;/vehicle-tax&lt;&lt;PAGE&lt;:&lt;NULL&lt;:&lt;NULL&gt;&gt;/vehicle-tax&lt;&lt;EVENT&lt;:&lt;External Link Clicked&lt;:&lt;https://www.vehicletax.service.gov.uk</td>\n",
       "      <td>/get-vehicle-information-from-dvla&gt;&gt;/search?q=road+tax&gt;&gt;/vehicle-tax</td>\n",
       "      <td>1</td>\n",
       "      <td>5.0</td>\n",
       "      <td>[('mobile', 1), ('tablet', 1)]</td>\n",
       "      <td>[('20181031', 1), ('20181104', 1)]</td>\n",
       "      <td>[(/get-vehicle-information-from-dvla, PAGE&lt;:&lt;NULL&lt;:&lt;NULL), (/search?q=road+tax, PAGE&lt;:&lt;NULL&lt;:&lt;NULL), (/search?q=road+tax, EVENT&lt;:&lt;searchResults&lt;:&lt;resultsShown), (/search?q=road+tax, EVENT&lt;:&lt;UX&lt;:&lt;click), (/vehicle-tax, PAGE&lt;:&lt;NULL&lt;:&lt;NULL), (/vehicle-tax, EVENT&lt;:&lt;External Link Clicked&lt;:&lt;https://www.vehicletax.service.gov.uk)]</td>\n",
       "      <td>[/get-vehicle-information-from-dvla, /search?q=road+tax, /vehicle-tax]</td>\n",
       "      <td>/get-vehicle-information-from-dvla&gt;&gt;/search?q=road+tax&gt;&gt;/vehicle-tax</td>\n",
       "      <td>[('PAGE_NULL', 'PAGE_NULL'), ('PAGE_NULL', 'PAGE_NULL'), ('searchResults', 'resultsShown'), ('UX', 'click'), ('PAGE_NULL', 'PAGE_NULL'), ('External Link Clicked', 'https://www.vehicletax.service.gov.uk')]</td>\n",
       "      <td>...</td>\n",
       "      <td>/get-vehicle-information-from-dvla&gt;&gt;/search?q=road+tax&gt;&gt;/vehicle-tax</td>\n",
       "      <td>10.0</td>\n",
       "      <td>1</td>\n",
       "      <td>False</td>\n",
       "      <td>0</td>\n",
       "      <td>0</td>\n",
       "      <td>3</td>\n",
       "      <td>3</td>\n",
       "      <td>0</td>\n",
       "      <td>1.0</td>\n",
       "    </tr>\n",
       "    <tr>\n",
       "      <th>16401</th>\n",
       "      <td>/qualify-tax-credits&lt;&lt;PAGE&lt;:&lt;NULL&lt;:&lt;NULL&gt;&gt;/search?q=childcare+account&lt;&lt;PAGE&lt;:&lt;NULL&lt;:&lt;NULL&gt;&gt;/search?q=childcare+account&lt;&lt;EVENT&lt;:&lt;searchResults&lt;:&lt;resultsShown&gt;&gt;/search?q=childcare+account&lt;&lt;EVENT&lt;:&lt;UX&lt;:&lt;click&gt;&gt;/sign-in-childcare-account&lt;&lt;PAGE&lt;:&lt;NULL&lt;:&lt;NULL&gt;&gt;/sign-in-childcare-account&lt;&lt;EVENT&lt;:&lt;External Link Clicked&lt;:&lt;https://childcare-support.tax.service.gov.uk/par/app/trialmessage?_ga=2.255911115.1345202768.1540980008-1635372066.1420521869</td>\n",
       "      <td>/qualify-tax-credits&gt;&gt;/search?q=childcare+account&gt;&gt;/sign-in-childcare-account</td>\n",
       "      <td>1</td>\n",
       "      <td>2.0</td>\n",
       "      <td>[('mobile', 1)]</td>\n",
       "      <td>[('20181031', 1)]</td>\n",
       "      <td>[(/qualify-tax-credits, PAGE&lt;:&lt;NULL&lt;:&lt;NULL), (/search?q=childcare+account, PAGE&lt;:&lt;NULL&lt;:&lt;NULL), (/search?q=childcare+account, EVENT&lt;:&lt;searchResults&lt;:&lt;resultsShown), (/search?q=childcare+account, EVENT&lt;:&lt;UX&lt;:&lt;click), (/sign-in-childcare-account, PAGE&lt;:&lt;NULL&lt;:&lt;NULL), (/sign-in-childcare-account, EVENT&lt;:&lt;External Link Clicked&lt;:&lt;https://childcare-support.tax.service.gov.uk/par/app/trialmessage?_ga=2.255911115.1345202768.1540980008-1635372066.1420521869)]</td>\n",
       "      <td>[/qualify-tax-credits, /search?q=childcare+account, /sign-in-childcare-account]</td>\n",
       "      <td>/qualify-tax-credits&gt;&gt;/search?q=childcare+account&gt;&gt;/sign-in-childcare-account</td>\n",
       "      <td>[('PAGE_NULL', 'PAGE_NULL'), ('PAGE_NULL', 'PAGE_NULL'), ('searchResults', 'resultsShown'), ('UX', 'click'), ('PAGE_NULL', 'PAGE_NULL'), ('External Link Clicked', 'https://childcare-support.tax.service.gov.uk/par/app/trialmessage?_ga=2.255911115.1345202768.1540980008-1635372066.1420521869')]</td>\n",
       "      <td>...</td>\n",
       "      <td>/qualify-tax-credits&gt;&gt;/search?q=childcare+account&gt;&gt;/sign-in-childcare-account</td>\n",
       "      <td>4.0</td>\n",
       "      <td>0</td>\n",
       "      <td>False</td>\n",
       "      <td>0</td>\n",
       "      <td>0</td>\n",
       "      <td>3</td>\n",
       "      <td>3</td>\n",
       "      <td>0</td>\n",
       "      <td>1.0</td>\n",
       "    </tr>\n",
       "    <tr>\n",
       "      <th>16452</th>\n",
       "      <td>/done/check-vehicle-tax&lt;&lt;PAGE&lt;:&lt;NULL&lt;:&lt;NULL&gt;&gt;/search?q=tax&lt;&lt;PAGE&lt;:&lt;NULL&lt;:&lt;NULL&gt;&gt;/search?q=tax&lt;&lt;EVENT&lt;:&lt;searchResults&lt;:&lt;resultsShown&gt;&gt;/search?q=tax&lt;&lt;EVENT&lt;:&lt;UX&lt;:&lt;click&gt;&gt;/vehicle-tax&lt;&lt;PAGE&lt;:&lt;NULL&lt;:&lt;NULL&gt;&gt;/vehicle-tax&lt;&lt;EVENT&lt;:&lt;External Link Clicked&lt;:&lt;https://www.vehicletax.service.gov.uk</td>\n",
       "      <td>/done/check-vehicle-tax&gt;&gt;/search?q=tax&gt;&gt;/vehicle-tax</td>\n",
       "      <td>2</td>\n",
       "      <td>4.0</td>\n",
       "      <td>[('mobile', 1), ('desktop', 1)]</td>\n",
       "      <td>[('20181031', 1), ('20181029', 1)]</td>\n",
       "      <td>[(/done/check-vehicle-tax, PAGE&lt;:&lt;NULL&lt;:&lt;NULL), (/search?q=tax, PAGE&lt;:&lt;NULL&lt;:&lt;NULL), (/search?q=tax, EVENT&lt;:&lt;searchResults&lt;:&lt;resultsShown), (/search?q=tax, EVENT&lt;:&lt;UX&lt;:&lt;click), (/vehicle-tax, PAGE&lt;:&lt;NULL&lt;:&lt;NULL), (/vehicle-tax, EVENT&lt;:&lt;External Link Clicked&lt;:&lt;https://www.vehicletax.service.gov.uk)]</td>\n",
       "      <td>[/done/check-vehicle-tax, /search?q=tax, /vehicle-tax]</td>\n",
       "      <td>/done/check-vehicle-tax&gt;&gt;/search?q=tax&gt;&gt;/vehicle-tax</td>\n",
       "      <td>[('PAGE_NULL', 'PAGE_NULL'), ('PAGE_NULL', 'PAGE_NULL'), ('searchResults', 'resultsShown'), ('UX', 'click'), ('PAGE_NULL', 'PAGE_NULL'), ('External Link Clicked', 'https://www.vehicletax.service.gov.uk')]</td>\n",
       "      <td>...</td>\n",
       "      <td>/done/check-vehicle-tax&gt;&gt;/search?q=tax&gt;&gt;/vehicle-tax</td>\n",
       "      <td>12.0</td>\n",
       "      <td>0</td>\n",
       "      <td>False</td>\n",
       "      <td>0</td>\n",
       "      <td>0</td>\n",
       "      <td>3</td>\n",
       "      <td>6</td>\n",
       "      <td>0</td>\n",
       "      <td>1.0</td>\n",
       "    </tr>\n",
       "    <tr>\n",
       "      <th>16522</th>\n",
       "      <td>/get-tax-free-childcare&lt;&lt;PAGE&lt;:&lt;NULL&lt;:&lt;NULL&gt;&gt;/search?q=childcare+account+&lt;&lt;PAGE&lt;:&lt;NULL&lt;:&lt;NULL&gt;&gt;/search?q=childcare+account+&lt;&lt;EVENT&lt;:&lt;searchResults&lt;:&lt;resultsShown&gt;&gt;/search?q=childcare+account+&lt;&lt;EVENT&lt;:&lt;UX&lt;:&lt;click&gt;&gt;/sign-in-childcare-account&lt;&lt;PAGE&lt;:&lt;NULL&lt;:&lt;NULL&gt;&gt;/sign-in-childcare-account&lt;&lt;EVENT&lt;:&lt;External Link Clicked&lt;:&lt;https://childcare-support.tax.service.gov.uk/par/app/trialmessage?_ga=2.237803458.371924673.1540980247-1034314404.1540980247</td>\n",
       "      <td>/get-tax-free-childcare&gt;&gt;/search?q=childcare+account+&gt;&gt;/sign-in-childcare-account</td>\n",
       "      <td>1</td>\n",
       "      <td>14.0</td>\n",
       "      <td>[('mobile', 1)]</td>\n",
       "      <td>[('20181031', 1)]</td>\n",
       "      <td>[(/get-tax-free-childcare, PAGE&lt;:&lt;NULL&lt;:&lt;NULL), (/search?q=childcare+account+, PAGE&lt;:&lt;NULL&lt;:&lt;NULL), (/search?q=childcare+account+, EVENT&lt;:&lt;searchResults&lt;:&lt;resultsShown), (/search?q=childcare+account+, EVENT&lt;:&lt;UX&lt;:&lt;click), (/sign-in-childcare-account, PAGE&lt;:&lt;NULL&lt;:&lt;NULL), (/sign-in-childcare-account, EVENT&lt;:&lt;External Link Clicked&lt;:&lt;https://childcare-support.tax.service.gov.uk/par/app/trialmessage?_ga=2.237803458.371924673.1540980247-1034314404.1540980247)]</td>\n",
       "      <td>[/get-tax-free-childcare, /search?q=childcare+account+, /sign-in-childcare-account]</td>\n",
       "      <td>/get-tax-free-childcare&gt;&gt;/search?q=childcare+account+&gt;&gt;/sign-in-childcare-account</td>\n",
       "      <td>[('PAGE_NULL', 'PAGE_NULL'), ('PAGE_NULL', 'PAGE_NULL'), ('searchResults', 'resultsShown'), ('UX', 'click'), ('PAGE_NULL', 'PAGE_NULL'), ('External Link Clicked', 'https://childcare-support.tax.service.gov.uk/par/app/trialmessage?_ga=2.237803458.371924673.1540980247-1034314404.1540980247')]</td>\n",
       "      <td>...</td>\n",
       "      <td>/get-tax-free-childcare&gt;&gt;/search?q=childcare+account+&gt;&gt;/sign-in-childcare-account</td>\n",
       "      <td>196.0</td>\n",
       "      <td>0</td>\n",
       "      <td>False</td>\n",
       "      <td>0</td>\n",
       "      <td>0</td>\n",
       "      <td>3</td>\n",
       "      <td>3</td>\n",
       "      <td>0</td>\n",
       "      <td>1.0</td>\n",
       "    </tr>\n",
       "    <tr>\n",
       "      <th>16671</th>\n",
       "      <td>/get-tax-free-childcare&lt;&lt;PAGE&lt;:&lt;NULL&lt;:&lt;NULL&gt;&gt;/search?q=sign+in+&lt;&lt;PAGE&lt;:&lt;NULL&lt;:&lt;NULL&gt;&gt;/search?q=sign+in+&lt;&lt;EVENT&lt;:&lt;searchResults&lt;:&lt;resultsShown&gt;&gt;/search?q=sign+in+&lt;&lt;EVENT&lt;:&lt;UX&lt;:&lt;click&gt;&gt;/sign-in-childcare-account&lt;&lt;PAGE&lt;:&lt;NULL&lt;:&lt;NULL&gt;&gt;/sign-in-childcare-account&lt;&lt;EVENT&lt;:&lt;External Link Clicked&lt;:&lt;https://childcare-support.tax.service.gov.uk/par/app/trialmessage?_ga=2.69637072.1318425933.1541026472-1765819500.1527085811</td>\n",
       "      <td>/get-tax-free-childcare&gt;&gt;/search?q=sign+in+&gt;&gt;/sign-in-childcare-account</td>\n",
       "      <td>1</td>\n",
       "      <td>3.0</td>\n",
       "      <td>[('mobile', 1)]</td>\n",
       "      <td>[('20181031', 1)]</td>\n",
       "      <td>[(/get-tax-free-childcare, PAGE&lt;:&lt;NULL&lt;:&lt;NULL), (/search?q=sign+in+, PAGE&lt;:&lt;NULL&lt;:&lt;NULL), (/search?q=sign+in+, EVENT&lt;:&lt;searchResults&lt;:&lt;resultsShown), (/search?q=sign+in+, EVENT&lt;:&lt;UX&lt;:&lt;click), (/sign-in-childcare-account, PAGE&lt;:&lt;NULL&lt;:&lt;NULL), (/sign-in-childcare-account, EVENT&lt;:&lt;External Link Clicked&lt;:&lt;https://childcare-support.tax.service.gov.uk/par/app/trialmessage?_ga=2.69637072.1318425933.1541026472-1765819500.1527085811)]</td>\n",
       "      <td>[/get-tax-free-childcare, /search?q=sign+in+, /sign-in-childcare-account]</td>\n",
       "      <td>/get-tax-free-childcare&gt;&gt;/search?q=sign+in+&gt;&gt;/sign-in-childcare-account</td>\n",
       "      <td>[('PAGE_NULL', 'PAGE_NULL'), ('PAGE_NULL', 'PAGE_NULL'), ('searchResults', 'resultsShown'), ('UX', 'click'), ('PAGE_NULL', 'PAGE_NULL'), ('External Link Clicked', 'https://childcare-support.tax.service.gov.uk/par/app/trialmessage?_ga=2.69637072.1318425933.1541026472-1765819500.1527085811')]</td>\n",
       "      <td>...</td>\n",
       "      <td>/get-tax-free-childcare&gt;&gt;/search?q=sign+in+&gt;&gt;/sign-in-childcare-account</td>\n",
       "      <td>9.0</td>\n",
       "      <td>0</td>\n",
       "      <td>False</td>\n",
       "      <td>0</td>\n",
       "      <td>0</td>\n",
       "      <td>3</td>\n",
       "      <td>3</td>\n",
       "      <td>0</td>\n",
       "      <td>1.0</td>\n",
       "    </tr>\n",
       "    <tr>\n",
       "      <th>16715</th>\n",
       "      <td>/vehicle-insurance/uninsured-vehicles&lt;&lt;PAGE&lt;:&lt;NULL&lt;:&lt;NULL&gt;&gt;/search?q=tax&lt;&lt;PAGE&lt;:&lt;NULL&lt;:&lt;NULL&gt;&gt;/search?q=tax&lt;&lt;EVENT&lt;:&lt;searchResults&lt;:&lt;resultsShown&gt;&gt;/search?q=tax&lt;&lt;EVENT&lt;:&lt;UX&lt;:&lt;click&gt;&gt;/check-vehicle-tax&lt;&lt;PAGE&lt;:&lt;NULL&lt;:&lt;NULL&gt;&gt;/check-vehicle-tax&lt;&lt;EVENT&lt;:&lt;External Link Clicked&lt;:&lt;https://www.vehicleenquiry.service.gov.uk</td>\n",
       "      <td>/vehicle-insurance/uninsured-vehicles&gt;&gt;/search?q=tax&gt;&gt;/check-vehicle-tax</td>\n",
       "      <td>1</td>\n",
       "      <td>2.0</td>\n",
       "      <td>[('mobile', 1)]</td>\n",
       "      <td>[('20181031', 1)]</td>\n",
       "      <td>[(/vehicle-insurance/uninsured-vehicles, PAGE&lt;:&lt;NULL&lt;:&lt;NULL), (/search?q=tax, PAGE&lt;:&lt;NULL&lt;:&lt;NULL), (/search?q=tax, EVENT&lt;:&lt;searchResults&lt;:&lt;resultsShown), (/search?q=tax, EVENT&lt;:&lt;UX&lt;:&lt;click), (/check-vehicle-tax, PAGE&lt;:&lt;NULL&lt;:&lt;NULL), (/check-vehicle-tax, EVENT&lt;:&lt;External Link Clicked&lt;:&lt;https://www.vehicleenquiry.service.gov.uk)]</td>\n",
       "      <td>[/vehicle-insurance/uninsured-vehicles, /search?q=tax, /check-vehicle-tax]</td>\n",
       "      <td>/vehicle-insurance/uninsured-vehicles&gt;&gt;/search?q=tax&gt;&gt;/check-vehicle-tax</td>\n",
       "      <td>[('PAGE_NULL', 'PAGE_NULL'), ('PAGE_NULL', 'PAGE_NULL'), ('searchResults', 'resultsShown'), ('UX', 'click'), ('PAGE_NULL', 'PAGE_NULL'), ('External Link Clicked', 'https://www.vehicleenquiry.service.gov.uk')]</td>\n",
       "      <td>...</td>\n",
       "      <td>/vehicle-insurance/uninsured-vehicles&gt;&gt;/search?q=tax&gt;&gt;/check-vehicle-tax</td>\n",
       "      <td>4.0</td>\n",
       "      <td>0</td>\n",
       "      <td>False</td>\n",
       "      <td>0</td>\n",
       "      <td>0</td>\n",
       "      <td>3</td>\n",
       "      <td>3</td>\n",
       "      <td>0</td>\n",
       "      <td>1.0</td>\n",
       "    </tr>\n",
       "    <tr>\n",
       "      <th>16760</th>\n",
       "      <td>/get-tax-free-childcare&lt;&lt;PAGE&lt;:&lt;NULL&lt;:&lt;NULL&gt;&gt;/search?q=childcare+account&lt;&lt;PAGE&lt;:&lt;NULL&lt;:&lt;NULL&gt;&gt;/search?q=childcare+account&lt;&lt;EVENT&lt;:&lt;searchResults&lt;:&lt;resultsShown&gt;&gt;/search?q=childcare+account&lt;&lt;EVENT&lt;:&lt;UX&lt;:&lt;click&gt;&gt;/sign-in-childcare-account&lt;&lt;PAGE&lt;:&lt;NULL&lt;:&lt;NULL&gt;&gt;/sign-in-childcare-account&lt;&lt;EVENT&lt;:&lt;External Link Clicked&lt;:&lt;https://childcare-support.tax.service.gov.uk/par/app/trialmessage?_ga=2.195913711.292861643.1540886222-1784675713.1530012053</td>\n",
       "      <td>/get-tax-free-childcare&gt;&gt;/search?q=childcare+account&gt;&gt;/sign-in-childcare-account</td>\n",
       "      <td>1</td>\n",
       "      <td>64.0</td>\n",
       "      <td>[('mobile', 1)]</td>\n",
       "      <td>[('20181031', 1)]</td>\n",
       "      <td>[(/get-tax-free-childcare, PAGE&lt;:&lt;NULL&lt;:&lt;NULL), (/search?q=childcare+account, PAGE&lt;:&lt;NULL&lt;:&lt;NULL), (/search?q=childcare+account, EVENT&lt;:&lt;searchResults&lt;:&lt;resultsShown), (/search?q=childcare+account, EVENT&lt;:&lt;UX&lt;:&lt;click), (/sign-in-childcare-account, PAGE&lt;:&lt;NULL&lt;:&lt;NULL), (/sign-in-childcare-account, EVENT&lt;:&lt;External Link Clicked&lt;:&lt;https://childcare-support.tax.service.gov.uk/par/app/trialmessage?_ga=2.195913711.292861643.1540886222-1784675713.1530012053)]</td>\n",
       "      <td>[/get-tax-free-childcare, /search?q=childcare+account, /sign-in-childcare-account]</td>\n",
       "      <td>/get-tax-free-childcare&gt;&gt;/search?q=childcare+account&gt;&gt;/sign-in-childcare-account</td>\n",
       "      <td>[('PAGE_NULL', 'PAGE_NULL'), ('PAGE_NULL', 'PAGE_NULL'), ('searchResults', 'resultsShown'), ('UX', 'click'), ('PAGE_NULL', 'PAGE_NULL'), ('External Link Clicked', 'https://childcare-support.tax.service.gov.uk/par/app/trialmessage?_ga=2.195913711.292861643.1540886222-1784675713.1530012053')]</td>\n",
       "      <td>...</td>\n",
       "      <td>/get-tax-free-childcare&gt;&gt;/search?q=childcare+account&gt;&gt;/sign-in-childcare-account</td>\n",
       "      <td>4105.0</td>\n",
       "      <td>0</td>\n",
       "      <td>False</td>\n",
       "      <td>0</td>\n",
       "      <td>0</td>\n",
       "      <td>3</td>\n",
       "      <td>3</td>\n",
       "      <td>0</td>\n",
       "      <td>1.0</td>\n",
       "    </tr>\n",
       "    <tr>\n",
       "      <th>16872</th>\n",
       "      <td>/help-with-childcare-costs&lt;&lt;PAGE&lt;:&lt;NULL&lt;:&lt;NULL&gt;&gt;/search?q=sign+in&lt;&lt;PAGE&lt;:&lt;NULL&lt;:&lt;NULL&gt;&gt;/search?q=sign+in&lt;&lt;EVENT&lt;:&lt;searchResults&lt;:&lt;resultsShown&gt;&gt;/search?q=sign+in&lt;&lt;EVENT&lt;:&lt;UX&lt;:&lt;click&gt;&gt;/sign-in-childcare-account&lt;&lt;PAGE&lt;:&lt;NULL&lt;:&lt;NULL&gt;&gt;/sign-in-childcare-account&lt;&lt;EVENT&lt;:&lt;External Link Clicked&lt;:&lt;https://childcare-support.tax.service.gov.uk/par/app/trialmessage?_ga=2.50487593.1243733197.1540926407-1532434325.1540926407</td>\n",
       "      <td>/help-with-childcare-costs&gt;&gt;/search?q=sign+in&gt;&gt;/sign-in-childcare-account</td>\n",
       "      <td>1</td>\n",
       "      <td>22.0</td>\n",
       "      <td>[('mobile', 1)]</td>\n",
       "      <td>[('20181031', 1)]</td>\n",
       "      <td>[(/help-with-childcare-costs, PAGE&lt;:&lt;NULL&lt;:&lt;NULL), (/search?q=sign+in, PAGE&lt;:&lt;NULL&lt;:&lt;NULL), (/search?q=sign+in, EVENT&lt;:&lt;searchResults&lt;:&lt;resultsShown), (/search?q=sign+in, EVENT&lt;:&lt;UX&lt;:&lt;click), (/sign-in-childcare-account, PAGE&lt;:&lt;NULL&lt;:&lt;NULL), (/sign-in-childcare-account, EVENT&lt;:&lt;External Link Clicked&lt;:&lt;https://childcare-support.tax.service.gov.uk/par/app/trialmessage?_ga=2.50487593.1243733197.1540926407-1532434325.1540926407)]</td>\n",
       "      <td>[/help-with-childcare-costs, /search?q=sign+in, /sign-in-childcare-account]</td>\n",
       "      <td>/help-with-childcare-costs&gt;&gt;/search?q=sign+in&gt;&gt;/sign-in-childcare-account</td>\n",
       "      <td>[('PAGE_NULL', 'PAGE_NULL'), ('PAGE_NULL', 'PAGE_NULL'), ('searchResults', 'resultsShown'), ('UX', 'click'), ('PAGE_NULL', 'PAGE_NULL'), ('External Link Clicked', 'https://childcare-support.tax.service.gov.uk/par/app/trialmessage?_ga=2.50487593.1243733197.1540926407-1532434325.1540926407')]</td>\n",
       "      <td>...</td>\n",
       "      <td>/help-with-childcare-costs&gt;&gt;/search?q=sign+in&gt;&gt;/sign-in-childcare-account</td>\n",
       "      <td>484.0</td>\n",
       "      <td>0</td>\n",
       "      <td>False</td>\n",
       "      <td>0</td>\n",
       "      <td>0</td>\n",
       "      <td>3</td>\n",
       "      <td>3</td>\n",
       "      <td>0</td>\n",
       "      <td>1.0</td>\n",
       "    </tr>\n",
       "    <tr>\n",
       "      <th>17099</th>\n",
       "      <td>/personal-tax-account&lt;&lt;PAGE&lt;:&lt;NULL&lt;:&lt;NULL&gt;&gt;/search?q=sign+in&lt;&lt;PAGE&lt;:&lt;NULL&lt;:&lt;NULL&gt;&gt;/search?q=sign+in&lt;&lt;EVENT&lt;:&lt;searchResults&lt;:&lt;resultsShown&gt;&gt;/search?q=sign+in&lt;&lt;EVENT&lt;:&lt;UX&lt;:&lt;click&gt;&gt;/log-in-register-hmrc-online-services&lt;&lt;PAGE&lt;:&lt;NULL&lt;:&lt;NULL&gt;&gt;/log-in-register-hmrc-online-services&lt;&lt;EVENT&lt;:&lt;External Link Clicked&lt;:&lt;https://www.tax.service.gov.uk/account</td>\n",
       "      <td>/personal-tax-account&gt;&gt;/search?q=sign+in&gt;&gt;/log-in-register-hmrc-online-services</td>\n",
       "      <td>1</td>\n",
       "      <td>2.0</td>\n",
       "      <td>[('mobile', 1)]</td>\n",
       "      <td>[('20181031', 1)]</td>\n",
       "      <td>[(/personal-tax-account, PAGE&lt;:&lt;NULL&lt;:&lt;NULL), (/search?q=sign+in, PAGE&lt;:&lt;NULL&lt;:&lt;NULL), (/search?q=sign+in, EVENT&lt;:&lt;searchResults&lt;:&lt;resultsShown), (/search?q=sign+in, EVENT&lt;:&lt;UX&lt;:&lt;click), (/log-in-register-hmrc-online-services, PAGE&lt;:&lt;NULL&lt;:&lt;NULL), (/log-in-register-hmrc-online-services, EVENT&lt;:&lt;External Link Clicked&lt;:&lt;https://www.tax.service.gov.uk/account)]</td>\n",
       "      <td>[/personal-tax-account, /search?q=sign+in, /log-in-register-hmrc-online-services]</td>\n",
       "      <td>/personal-tax-account&gt;&gt;/search?q=sign+in&gt;&gt;/log-in-register-hmrc-online-services</td>\n",
       "      <td>[('PAGE_NULL', 'PAGE_NULL'), ('PAGE_NULL', 'PAGE_NULL'), ('searchResults', 'resultsShown'), ('UX', 'click'), ('PAGE_NULL', 'PAGE_NULL'), ('External Link Clicked', 'https://www.tax.service.gov.uk/account')]</td>\n",
       "      <td>...</td>\n",
       "      <td>/personal-tax-account&gt;&gt;/search?q=sign+in&gt;&gt;/log-in-register-hmrc-online-services</td>\n",
       "      <td>4.0</td>\n",
       "      <td>0</td>\n",
       "      <td>False</td>\n",
       "      <td>0</td>\n",
       "      <td>0</td>\n",
       "      <td>3</td>\n",
       "      <td>3</td>\n",
       "      <td>0</td>\n",
       "      <td>1.0</td>\n",
       "    </tr>\n",
       "    <tr>\n",
       "      <th>17172</th>\n",
       "      <td>/contact-the-dvla&lt;&lt;PAGE&lt;:&lt;NULL&lt;:&lt;NULL&gt;&gt;/search?q=theory+test&lt;&lt;PAGE&lt;:&lt;NULL&lt;:&lt;NULL&gt;&gt;/search?q=theory+test&lt;&lt;EVENT&lt;:&lt;searchResults&lt;:&lt;resultsShown&gt;&gt;/search?q=theory+test&lt;&lt;EVENT&lt;:&lt;UX&lt;:&lt;click&gt;&gt;/book-theory-test&lt;&lt;PAGE&lt;:&lt;NULL&lt;:&lt;NULL&gt;&gt;/book-theory-test&lt;&lt;EVENT&lt;:&lt;External Link Clicked&lt;:&lt;https://wsr.theorytest.direct.gov.uk/dsa/book</td>\n",
       "      <td>/contact-the-dvla&gt;&gt;/search?q=theory+test&gt;&gt;/book-theory-test</td>\n",
       "      <td>4</td>\n",
       "      <td>8.0</td>\n",
       "      <td>[('mobile', 3), ('desktop', 1)]</td>\n",
       "      <td>[('20181031', 1), ('20181029', 1), ('20181104', 2)]</td>\n",
       "      <td>[(/contact-the-dvla, PAGE&lt;:&lt;NULL&lt;:&lt;NULL), (/search?q=theory+test, PAGE&lt;:&lt;NULL&lt;:&lt;NULL), (/search?q=theory+test, EVENT&lt;:&lt;searchResults&lt;:&lt;resultsShown), (/search?q=theory+test, EVENT&lt;:&lt;UX&lt;:&lt;click), (/book-theory-test, PAGE&lt;:&lt;NULL&lt;:&lt;NULL), (/book-theory-test, EVENT&lt;:&lt;External Link Clicked&lt;:&lt;https://wsr.theorytest.direct.gov.uk/dsa/book)]</td>\n",
       "      <td>[/contact-the-dvla, /search?q=theory+test, /book-theory-test]</td>\n",
       "      <td>/contact-the-dvla&gt;&gt;/search?q=theory+test&gt;&gt;/book-theory-test</td>\n",
       "      <td>[('PAGE_NULL', 'PAGE_NULL'), ('PAGE_NULL', 'PAGE_NULL'), ('searchResults', 'resultsShown'), ('UX', 'click'), ('PAGE_NULL', 'PAGE_NULL'), ('External Link Clicked', 'https://wsr.theorytest.direct.gov.uk/dsa/book')]</td>\n",
       "      <td>...</td>\n",
       "      <td>/contact-the-dvla&gt;&gt;/search?q=theory+test&gt;&gt;/book-theory-test</td>\n",
       "      <td>8.0</td>\n",
       "      <td>0</td>\n",
       "      <td>False</td>\n",
       "      <td>0</td>\n",
       "      <td>0</td>\n",
       "      <td>3</td>\n",
       "      <td>12</td>\n",
       "      <td>0</td>\n",
       "      <td>1.0</td>\n",
       "    </tr>\n",
       "    <tr>\n",
       "      <th>17299</th>\n",
       "      <td>/help-with-childcare-costs&lt;&lt;PAGE&lt;:&lt;NULL&lt;:&lt;NULL&gt;&gt;/search?q=childcare+account+&lt;&lt;PAGE&lt;:&lt;NULL&lt;:&lt;NULL&gt;&gt;/search?q=childcare+account+&lt;&lt;EVENT&lt;:&lt;searchResults&lt;:&lt;resultsShown&gt;&gt;/search?q=childcare+account+&lt;&lt;EVENT&lt;:&lt;UX&lt;:&lt;click&gt;&gt;/sign-in-childcare-account&lt;&lt;PAGE&lt;:&lt;NULL&lt;:&lt;NULL&gt;&gt;/sign-in-childcare-account&lt;&lt;EVENT&lt;:&lt;External Link Clicked&lt;:&lt;https://childcare-support.tax.service.gov.uk/par/app/trialmessage?_ga=2.55874796.693570659.1540920435-1527479287.1538847456</td>\n",
       "      <td>/help-with-childcare-costs&gt;&gt;/search?q=childcare+account+&gt;&gt;/sign-in-childcare-account</td>\n",
       "      <td>1</td>\n",
       "      <td>11.0</td>\n",
       "      <td>[('mobile', 1)]</td>\n",
       "      <td>[('20181031', 1)]</td>\n",
       "      <td>[(/help-with-childcare-costs, PAGE&lt;:&lt;NULL&lt;:&lt;NULL), (/search?q=childcare+account+, PAGE&lt;:&lt;NULL&lt;:&lt;NULL), (/search?q=childcare+account+, EVENT&lt;:&lt;searchResults&lt;:&lt;resultsShown), (/search?q=childcare+account+, EVENT&lt;:&lt;UX&lt;:&lt;click), (/sign-in-childcare-account, PAGE&lt;:&lt;NULL&lt;:&lt;NULL), (/sign-in-childcare-account, EVENT&lt;:&lt;External Link Clicked&lt;:&lt;https://childcare-support.tax.service.gov.uk/par/app/trialmessage?_ga=2.55874796.693570659.1540920435-1527479287.1538847456)]</td>\n",
       "      <td>[/help-with-childcare-costs, /search?q=childcare+account+, /sign-in-childcare-account]</td>\n",
       "      <td>/help-with-childcare-costs&gt;&gt;/search?q=childcare+account+&gt;&gt;/sign-in-childcare-account</td>\n",
       "      <td>[('PAGE_NULL', 'PAGE_NULL'), ('PAGE_NULL', 'PAGE_NULL'), ('searchResults', 'resultsShown'), ('UX', 'click'), ('PAGE_NULL', 'PAGE_NULL'), ('External Link Clicked', 'https://childcare-support.tax.service.gov.uk/par/app/trialmessage?_ga=2.55874796.693570659.1540920435-1527479287.1538847456')]</td>\n",
       "      <td>...</td>\n",
       "      <td>/help-with-childcare-costs&gt;&gt;/search?q=childcare+account+&gt;&gt;/sign-in-childcare-account</td>\n",
       "      <td>130.0</td>\n",
       "      <td>0</td>\n",
       "      <td>False</td>\n",
       "      <td>0</td>\n",
       "      <td>0</td>\n",
       "      <td>3</td>\n",
       "      <td>3</td>\n",
       "      <td>0</td>\n",
       "      <td>1.0</td>\n",
       "    </tr>\n",
       "    <tr>\n",
       "      <th>17380</th>\n",
       "      <td>/book-driving-test&lt;&lt;PAGE&lt;:&lt;NULL&lt;:&lt;NULL&gt;&gt;/search?q=cancellation+&lt;&lt;PAGE&lt;:&lt;NULL&lt;:&lt;NULL&gt;&gt;/search?q=cancellation+&lt;&lt;EVENT&lt;:&lt;searchResults&lt;:&lt;resultsShown&gt;&gt;/search?q=cancellation+&lt;&lt;EVENT&lt;:&lt;UX&lt;:&lt;click&gt;&gt;/change-driving-test&lt;&lt;PAGE&lt;:&lt;NULL&lt;:&lt;NULL&gt;&gt;/change-driving-test&lt;&lt;EVENT&lt;:&lt;External Link Clicked&lt;:&lt;https://driverpracticaltest.direct.gov.uk/manage?_ga=2.173247077.772780029.1540944352-1636197093.1540944352</td>\n",
       "      <td>/book-driving-test&gt;&gt;/search?q=cancellation+&gt;&gt;/change-driving-test</td>\n",
       "      <td>1</td>\n",
       "      <td>2.0</td>\n",
       "      <td>[('mobile', 1)]</td>\n",
       "      <td>[('20181031', 1)]</td>\n",
       "      <td>[(/book-driving-test, PAGE&lt;:&lt;NULL&lt;:&lt;NULL), (/search?q=cancellation+, PAGE&lt;:&lt;NULL&lt;:&lt;NULL), (/search?q=cancellation+, EVENT&lt;:&lt;searchResults&lt;:&lt;resultsShown), (/search?q=cancellation+, EVENT&lt;:&lt;UX&lt;:&lt;click), (/change-driving-test, PAGE&lt;:&lt;NULL&lt;:&lt;NULL), (/change-driving-test, EVENT&lt;:&lt;External Link Clicked&lt;:&lt;https://driverpracticaltest.direct.gov.uk/manage?_ga=2.173247077.772780029.1540944352-1636197093.1540944352)]</td>\n",
       "      <td>[/book-driving-test, /search?q=cancellation+, /change-driving-test]</td>\n",
       "      <td>/book-driving-test&gt;&gt;/search?q=cancellation+&gt;&gt;/change-driving-test</td>\n",
       "      <td>[('PAGE_NULL', 'PAGE_NULL'), ('PAGE_NULL', 'PAGE_NULL'), ('searchResults', 'resultsShown'), ('UX', 'click'), ('PAGE_NULL', 'PAGE_NULL'), ('External Link Clicked', 'https://driverpracticaltest.direct.gov.uk/manage?_ga=2.173247077.772780029.1540944352-1636197093.1540944352')]</td>\n",
       "      <td>...</td>\n",
       "      <td>/book-driving-test&gt;&gt;/search?q=cancellation+&gt;&gt;/change-driving-test</td>\n",
       "      <td>4.0</td>\n",
       "      <td>0</td>\n",
       "      <td>False</td>\n",
       "      <td>0</td>\n",
       "      <td>0</td>\n",
       "      <td>3</td>\n",
       "      <td>3</td>\n",
       "      <td>0</td>\n",
       "      <td>1.0</td>\n",
       "    </tr>\n",
       "    <tr>\n",
       "      <th>18077</th>\n",
       "      <td>/change-theory-test&lt;&lt;PAGE&lt;:&lt;NULL&lt;:&lt;NULL&gt;&gt;/change-theory-test&lt;&lt;EVENT&lt;:&lt;External Link Clicked&lt;:&lt;https://wsr.theorytest.direct.gov.uk/dsa/change&gt;&gt;/search?q=theory&lt;&lt;PAGE&lt;:&lt;NULL&lt;:&lt;NULL&gt;&gt;/search?q=theory&lt;&lt;EVENT&lt;:&lt;searchResults&lt;:&lt;resultsShown&gt;&gt;/search?q=theory&lt;&lt;EVENT&lt;:&lt;UX&lt;:&lt;click&gt;&gt;/book-theory-test&lt;&lt;PAGE&lt;:&lt;NULL&lt;:&lt;NULL&gt;&gt;/book-theory-test&lt;&lt;EVENT&lt;:&lt;External Link Clicked&lt;:&lt;https://wsr.theorytest.direct.gov.uk/dsa/book</td>\n",
       "      <td>/change-theory-test&gt;&gt;/search?q=theory&gt;&gt;/book-theory-test</td>\n",
       "      <td>1</td>\n",
       "      <td>3.0</td>\n",
       "      <td>[('mobile', 1)]</td>\n",
       "      <td>[('20181031', 1)]</td>\n",
       "      <td>[(/change-theory-test, PAGE&lt;:&lt;NULL&lt;:&lt;NULL), (/change-theory-test, EVENT&lt;:&lt;External Link Clicked&lt;:&lt;https://wsr.theorytest.direct.gov.uk/dsa/change), (/search?q=theory, PAGE&lt;:&lt;NULL&lt;:&lt;NULL), (/search?q=theory, EVENT&lt;:&lt;searchResults&lt;:&lt;resultsShown), (/search?q=theory, EVENT&lt;:&lt;UX&lt;:&lt;click), (/book-theory-test, PAGE&lt;:&lt;NULL&lt;:&lt;NULL), (/book-theory-test, EVENT&lt;:&lt;External Link Clicked&lt;:&lt;https://wsr.theorytest.direct.gov.uk/dsa/book)]</td>\n",
       "      <td>[/change-theory-test, /search?q=theory, /book-theory-test]</td>\n",
       "      <td>/change-theory-test&gt;&gt;/search?q=theory&gt;&gt;/book-theory-test</td>\n",
       "      <td>[('PAGE_NULL', 'PAGE_NULL'), ('External Link Clicked', 'https://wsr.theorytest.direct.gov.uk/dsa/change'), ('PAGE_NULL', 'PAGE_NULL'), ('searchResults', 'resultsShown'), ('UX', 'click'), ('PAGE_NULL', 'PAGE_NULL'), ('External Link Clicked', 'https://wsr.theorytest.direct.gov.uk/dsa/book')]</td>\n",
       "      <td>...</td>\n",
       "      <td>/change-theory-test&gt;&gt;/search?q=theory&gt;&gt;/book-theory-test</td>\n",
       "      <td>9.0</td>\n",
       "      <td>0</td>\n",
       "      <td>False</td>\n",
       "      <td>0</td>\n",
       "      <td>0</td>\n",
       "      <td>3</td>\n",
       "      <td>3</td>\n",
       "      <td>0</td>\n",
       "      <td>1.0</td>\n",
       "    </tr>\n",
       "    <tr>\n",
       "      <th>18109</th>\n",
       "      <td>/done/vehicle-tax&lt;&lt;PAGE&lt;:&lt;NULL&lt;:&lt;NULL&gt;&gt;/search?q=tax+vehicle+&lt;&lt;PAGE&lt;:&lt;NULL&lt;:&lt;NULL&gt;&gt;/search?q=tax+vehicle+&lt;&lt;EVENT&lt;:&lt;searchResults&lt;:&lt;resultsShown&gt;&gt;/search?q=tax+vehicle+&lt;&lt;EVENT&lt;:&lt;UX&lt;:&lt;click&gt;&gt;/vehicle-tax&lt;&lt;PAGE&lt;:&lt;NULL&lt;:&lt;NULL&gt;&gt;/vehicle-tax&lt;&lt;EVENT&lt;:&lt;External Link Clicked&lt;:&lt;https://www.vehicletax.service.gov.uk&gt;&gt;/done/vehicle-tax&lt;&lt;PAGE&lt;:&lt;NULL&lt;:&lt;NULL</td>\n",
       "      <td>/done/vehicle-tax&gt;&gt;/search?q=tax+vehicle+&gt;&gt;/vehicle-tax&gt;&gt;/done/vehicle-tax</td>\n",
       "      <td>2</td>\n",
       "      <td>4.0</td>\n",
       "      <td>[('mobile', 2)]</td>\n",
       "      <td>[('20181031', 1), ('20181104', 1)]</td>\n",
       "      <td>[(/done/vehicle-tax, PAGE&lt;:&lt;NULL&lt;:&lt;NULL), (/search?q=tax+vehicle+, PAGE&lt;:&lt;NULL&lt;:&lt;NULL), (/search?q=tax+vehicle+, EVENT&lt;:&lt;searchResults&lt;:&lt;resultsShown), (/search?q=tax+vehicle+, EVENT&lt;:&lt;UX&lt;:&lt;click), (/vehicle-tax, PAGE&lt;:&lt;NULL&lt;:&lt;NULL), (/vehicle-tax, EVENT&lt;:&lt;External Link Clicked&lt;:&lt;https://www.vehicletax.service.gov.uk), (/done/vehicle-tax, PAGE&lt;:&lt;NULL&lt;:&lt;NULL)]</td>\n",
       "      <td>[/done/vehicle-tax, /search?q=tax+vehicle+, /vehicle-tax, /done/vehicle-tax]</td>\n",
       "      <td>/done/vehicle-tax&gt;&gt;/search?q=tax+vehicle+&gt;&gt;/vehicle-tax&gt;&gt;/done/vehicle-tax</td>\n",
       "      <td>[('PAGE_NULL', 'PAGE_NULL'), ('PAGE_NULL', 'PAGE_NULL'), ('searchResults', 'resultsShown'), ('UX', 'click'), ('PAGE_NULL', 'PAGE_NULL'), ('External Link Clicked', 'https://www.vehicletax.service.gov.uk'), ('PAGE_NULL', 'PAGE_NULL')]</td>\n",
       "      <td>...</td>\n",
       "      <td>/done/vehicle-tax&gt;&gt;/search?q=tax+vehicle+&gt;&gt;/vehicle-tax&gt;&gt;/done/vehicle-tax</td>\n",
       "      <td>4.0</td>\n",
       "      <td>0</td>\n",
       "      <td>False</td>\n",
       "      <td>0</td>\n",
       "      <td>0</td>\n",
       "      <td>4</td>\n",
       "      <td>8</td>\n",
       "      <td>0</td>\n",
       "      <td>1.0</td>\n",
       "    </tr>\n",
       "    <tr>\n",
       "      <th>18120</th>\n",
       "      <td>/help-with-childcare-costs&lt;&lt;PAGE&lt;:&lt;NULL&lt;:&lt;NULL&gt;&gt;/search?q=childcare+account&lt;&lt;PAGE&lt;:&lt;NULL&lt;:&lt;NULL&gt;&gt;/search?q=childcare+account&lt;&lt;EVENT&lt;:&lt;searchResults&lt;:&lt;resultsShown&gt;&gt;/search?q=childcare+account&lt;&lt;EVENT&lt;:&lt;UX&lt;:&lt;click&gt;&gt;/sign-in-childcare-account&lt;&lt;PAGE&lt;:&lt;NULL&lt;:&lt;NULL&gt;&gt;/sign-in-childcare-account&lt;&lt;EVENT&lt;:&lt;External Link Clicked&lt;:&lt;https://childcare-support.tax.service.gov.uk/par/app/trialmessage?_ga=2.116305350.1366356854.1540979140-1948015658.1506019607&gt;&gt;/get-tax-free-childcare&lt;&lt;PAGE&lt;:&lt;NULL&lt;:&lt;NULL</td>\n",
       "      <td>/help-with-childcare-costs&gt;&gt;/search?q=childcare+account&gt;&gt;/sign-in-childcare-account&gt;&gt;/get-tax-free-childcare</td>\n",
       "      <td>1</td>\n",
       "      <td>4.0</td>\n",
       "      <td>[('mobile', 1)]</td>\n",
       "      <td>[('20181031', 1)]</td>\n",
       "      <td>[(/help-with-childcare-costs, PAGE&lt;:&lt;NULL&lt;:&lt;NULL), (/search?q=childcare+account, PAGE&lt;:&lt;NULL&lt;:&lt;NULL), (/search?q=childcare+account, EVENT&lt;:&lt;searchResults&lt;:&lt;resultsShown), (/search?q=childcare+account, EVENT&lt;:&lt;UX&lt;:&lt;click), (/sign-in-childcare-account, PAGE&lt;:&lt;NULL&lt;:&lt;NULL), (/sign-in-childcare-account, EVENT&lt;:&lt;External Link Clicked&lt;:&lt;https://childcare-support.tax.service.gov.uk/par/app/trialmessage?_ga=2.116305350.1366356854.1540979140-1948015658.1506019607), (/get-tax-free-childcare, PAGE&lt;:&lt;NU...</td>\n",
       "      <td>[/help-with-childcare-costs, /search?q=childcare+account, /sign-in-childcare-account, /get-tax-free-childcare]</td>\n",
       "      <td>/help-with-childcare-costs&gt;&gt;/search?q=childcare+account&gt;&gt;/sign-in-childcare-account&gt;&gt;/get-tax-free-childcare</td>\n",
       "      <td>[('PAGE_NULL', 'PAGE_NULL'), ('PAGE_NULL', 'PAGE_NULL'), ('searchResults', 'resultsShown'), ('UX', 'click'), ('PAGE_NULL', 'PAGE_NULL'), ('External Link Clicked', 'https://childcare-support.tax.service.gov.uk/par/app/trialmessage?_ga=2.116305350.1366356854.1540979140-1948015658.1506019607'), ('PAGE_NULL', 'PAGE_NULL')]</td>\n",
       "      <td>...</td>\n",
       "      <td>/help-with-childcare-costs&gt;&gt;/search?q=childcare+account&gt;&gt;/sign-in-childcare-account&gt;&gt;/get-tax-free-childcare</td>\n",
       "      <td>16.0</td>\n",
       "      <td>0</td>\n",
       "      <td>False</td>\n",
       "      <td>0</td>\n",
       "      <td>0</td>\n",
       "      <td>4</td>\n",
       "      <td>4</td>\n",
       "      <td>0</td>\n",
       "      <td>1.0</td>\n",
       "    </tr>\n",
       "    <tr>\n",
       "      <th>18963</th>\n",
       "      <td>/vehicle-tax&lt;&lt;PAGE&lt;:&lt;NULL&lt;:&lt;NULL&gt;&gt;/search?q=dorm&lt;&lt;PAGE&lt;:&lt;NULL&lt;:&lt;NULL&gt;&gt;/search?q=dorm&lt;&lt;EVENT&lt;:&lt;searchResults&lt;:&lt;resultsShown&gt;&gt;/search?q=dorm&lt;&lt;PAGE&lt;:&lt;NULL&lt;:&lt;NULL&gt;&gt;/search?q=dorm&lt;&lt;EVENT&lt;:&lt;searchResults&lt;:&lt;resultsShown&gt;&gt;/search?q=dorm&lt;&lt;EVENT&lt;:&lt;UX&lt;:&lt;click&gt;&gt;/make-a-sorn&lt;&lt;PAGE&lt;:&lt;NULL&lt;:&lt;NULL&gt;&gt;/make-a-sorn&lt;&lt;EVENT&lt;:&lt;External Link Clicked&lt;:&lt;https://www.sorn.service.gov.uk</td>\n",
       "      <td>/vehicle-tax&gt;&gt;/search?q=dorm&gt;&gt;/search?q=dorm&gt;&gt;/make-a-sorn</td>\n",
       "      <td>2</td>\n",
       "      <td>3.0</td>\n",
       "      <td>[('mobile', 2)]</td>\n",
       "      <td>[('20181031', 1), ('20181029', 1)]</td>\n",
       "      <td>[(/vehicle-tax, PAGE&lt;:&lt;NULL&lt;:&lt;NULL), (/search?q=dorm, PAGE&lt;:&lt;NULL&lt;:&lt;NULL), (/search?q=dorm, EVENT&lt;:&lt;searchResults&lt;:&lt;resultsShown), (/search?q=dorm, PAGE&lt;:&lt;NULL&lt;:&lt;NULL), (/search?q=dorm, EVENT&lt;:&lt;searchResults&lt;:&lt;resultsShown), (/search?q=dorm, EVENT&lt;:&lt;UX&lt;:&lt;click), (/make-a-sorn, PAGE&lt;:&lt;NULL&lt;:&lt;NULL), (/make-a-sorn, EVENT&lt;:&lt;External Link Clicked&lt;:&lt;https://www.sorn.service.gov.uk)]</td>\n",
       "      <td>[/vehicle-tax, /search?q=dorm, /search?q=dorm, /make-a-sorn]</td>\n",
       "      <td>/vehicle-tax&gt;&gt;/search?q=dorm&gt;&gt;/search?q=dorm&gt;&gt;/make-a-sorn</td>\n",
       "      <td>[('PAGE_NULL', 'PAGE_NULL'), ('PAGE_NULL', 'PAGE_NULL'), ('searchResults', 'resultsShown'), ('PAGE_NULL', 'PAGE_NULL'), ('searchResults', 'resultsShown'), ('UX', 'click'), ('PAGE_NULL', 'PAGE_NULL'), ('External Link Clicked', 'https://www.sorn.service.gov.uk')]</td>\n",
       "      <td>...</td>\n",
       "      <td>/vehicle-tax&gt;&gt;/search?q=dorm&gt;&gt;/make-a-sorn</td>\n",
       "      <td>24.0</td>\n",
       "      <td>0</td>\n",
       "      <td>False</td>\n",
       "      <td>0</td>\n",
       "      <td>0</td>\n",
       "      <td>4</td>\n",
       "      <td>8</td>\n",
       "      <td>0</td>\n",
       "      <td>1.0</td>\n",
       "    </tr>\n",
       "    <tr>\n",
       "      <th>19633</th>\n",
       "      <td>/government-gateway&lt;&lt;PAGE&lt;:&lt;NULL&lt;:&lt;NULL&gt;&gt;/government-gateway&lt;&lt;EVENT&lt;:&lt;NULL&lt;:&lt;NULL&gt;&gt;/search?q=sign+in&lt;&lt;PAGE&lt;:&lt;NULL&lt;:&lt;NULL&gt;&gt;/search?q=sign+in&lt;&lt;EVENT&lt;:&lt;searchResults&lt;:&lt;resultsShown&gt;&gt;/search?q=sign+in&lt;&lt;EVENT&lt;:&lt;NULL&lt;:&lt;NULL&gt;&gt;/search?q=sign+in&lt;&lt;EVENT&lt;:&lt;UX&lt;:&lt;click&gt;&gt;/log-in-register-hmrc-online-services&lt;&lt;PAGE&lt;:&lt;NULL&lt;:&lt;NULL&gt;&gt;/log-in-register-hmrc-online-services&lt;&lt;EVENT&lt;:&lt;NULL&lt;:&lt;NULL&gt;&gt;/log-in-register-hmrc-online-services&lt;&lt;EVENT&lt;:&lt;External Link Clicked&lt;:&lt;https://www.tax.service.gov.uk/account</td>\n",
       "      <td>/government-gateway&gt;&gt;/search?q=sign+in&gt;&gt;/log-in-register-hmrc-online-services</td>\n",
       "      <td>1</td>\n",
       "      <td>9.0</td>\n",
       "      <td>[('mobile', 1)]</td>\n",
       "      <td>[('20181031', 1)]</td>\n",
       "      <td>[(/government-gateway, PAGE&lt;:&lt;NULL&lt;:&lt;NULL), (/government-gateway, EVENT&lt;:&lt;NULL&lt;:&lt;NULL), (/search?q=sign+in, PAGE&lt;:&lt;NULL&lt;:&lt;NULL), (/search?q=sign+in, EVENT&lt;:&lt;searchResults&lt;:&lt;resultsShown), (/search?q=sign+in, EVENT&lt;:&lt;NULL&lt;:&lt;NULL), (/search?q=sign+in, EVENT&lt;:&lt;UX&lt;:&lt;click), (/log-in-register-hmrc-online-services, PAGE&lt;:&lt;NULL&lt;:&lt;NULL), (/log-in-register-hmrc-online-services, EVENT&lt;:&lt;NULL&lt;:&lt;NULL), (/log-in-register-hmrc-online-services, EVENT&lt;:&lt;External Link Clicked&lt;:&lt;https://www.tax.service.gov.uk...</td>\n",
       "      <td>[/government-gateway, /search?q=sign+in, /log-in-register-hmrc-online-services]</td>\n",
       "      <td>/government-gateway&gt;&gt;/search?q=sign+in&gt;&gt;/log-in-register-hmrc-online-services</td>\n",
       "      <td>[('PAGE_NULL', 'PAGE_NULL'), ('EVENT_NULL', 'EVENT_NULL'), ('PAGE_NULL', 'PAGE_NULL'), ('searchResults', 'resultsShown'), ('EVENT_NULL', 'EVENT_NULL'), ('UX', 'click'), ('PAGE_NULL', 'PAGE_NULL'), ('EVENT_NULL', 'EVENT_NULL'), ('External Link Clicked', 'https://www.tax.service.gov.uk/account')]</td>\n",
       "      <td>...</td>\n",
       "      <td>/government-gateway&gt;&gt;/search?q=sign+in&gt;&gt;/log-in-register-hmrc-online-services</td>\n",
       "      <td>36.0</td>\n",
       "      <td>0</td>\n",
       "      <td>False</td>\n",
       "      <td>0</td>\n",
       "      <td>0</td>\n",
       "      <td>3</td>\n",
       "      <td>3</td>\n",
       "      <td>0</td>\n",
       "      <td>1.0</td>\n",
       "    </tr>\n",
       "    <tr>\n",
       "      <th>19978</th>\n",
       "      <td>/student-finance&lt;&lt;PAGE&lt;:&lt;NULL&lt;:&lt;NULL&gt;&gt;/search?q=login&lt;&lt;PAGE&lt;:&lt;NULL&lt;:&lt;NULL&gt;&gt;/search?q=login&lt;&lt;EVENT&lt;:&lt;searchResults&lt;:&lt;resultsShown&gt;&gt;/search?q=login&lt;&lt;EVENT&lt;:&lt;UX&lt;:&lt;click&gt;&gt;/student-finance-register-login&lt;&lt;PAGE&lt;:&lt;NULL&lt;:&lt;NULL&gt;&gt;/student-finance-register-login&lt;&lt;EVENT&lt;:&lt;External Link Clicked&lt;:&lt;https://www.student-finance.service.gov.uk/customer/home&gt;&gt;/student-finance-register-login&lt;&lt;PAGE&lt;:&lt;NULL&lt;:&lt;NULL&gt;&gt;/search?q=login&lt;&lt;PAGE&lt;:&lt;NULL&lt;:&lt;NULL&gt;&gt;/search?q=login&lt;&lt;EVENT&lt;:&lt;searchResults&lt;:&lt;resultsShown&gt;&gt;/student...</td>\n",
       "      <td>/student-finance&gt;&gt;/search?q=login&gt;&gt;/student-finance-register-login&gt;&gt;/student-finance-register-login&gt;&gt;/search?q=login&gt;&gt;/student-finance</td>\n",
       "      <td>2</td>\n",
       "      <td>2.0</td>\n",
       "      <td>[('mobile', 2)]</td>\n",
       "      <td>[('20181031', 1), ('20181029', 1)]</td>\n",
       "      <td>[(/student-finance, PAGE&lt;:&lt;NULL&lt;:&lt;NULL), (/search?q=login, PAGE&lt;:&lt;NULL&lt;:&lt;NULL), (/search?q=login, EVENT&lt;:&lt;searchResults&lt;:&lt;resultsShown), (/search?q=login, EVENT&lt;:&lt;UX&lt;:&lt;click), (/student-finance-register-login, PAGE&lt;:&lt;NULL&lt;:&lt;NULL), (/student-finance-register-login, EVENT&lt;:&lt;External Link Clicked&lt;:&lt;https://www.student-finance.service.gov.uk/customer/home), (/student-finance-register-login, PAGE&lt;:&lt;NULL&lt;:&lt;NULL), (/search?q=login, PAGE&lt;:&lt;NULL&lt;:&lt;NULL), (/search?q=login, EVENT&lt;:&lt;searchResults&lt;:&lt;resu...</td>\n",
       "      <td>[/student-finance, /search?q=login, /student-finance-register-login, /student-finance-register-login, /search?q=login, /student-finance]</td>\n",
       "      <td>/student-finance&gt;&gt;/search?q=login&gt;&gt;/student-finance-register-login&gt;&gt;/student-finance-register-login&gt;&gt;/search?q=login&gt;&gt;/student-finance</td>\n",
       "      <td>[('PAGE_NULL', 'PAGE_NULL'), ('PAGE_NULL', 'PAGE_NULL'), ('searchResults', 'resultsShown'), ('UX', 'click'), ('PAGE_NULL', 'PAGE_NULL'), ('External Link Clicked', 'https://www.student-finance.service.gov.uk/customer/home'), ('PAGE_NULL', 'PAGE_NULL'), ('PAGE_NULL', 'PAGE_NULL'), ('searchResults', 'resultsShown'), ('PAGE_NULL', 'PAGE_NULL')]</td>\n",
       "      <td>...</td>\n",
       "      <td>/student-finance&gt;&gt;/search?q=login&gt;&gt;/student-finance-register-login&gt;&gt;/search?q=login&gt;&gt;/student-finance</td>\n",
       "      <td>2.0</td>\n",
       "      <td>0</td>\n",
       "      <td>False</td>\n",
       "      <td>0</td>\n",
       "      <td>0</td>\n",
       "      <td>6</td>\n",
       "      <td>12</td>\n",
       "      <td>0</td>\n",
       "      <td>1.0</td>\n",
       "    </tr>\n",
       "    <tr>\n",
       "      <th>20071</th>\n",
       "      <td>/vehicle-tax&lt;&lt;PAGE&lt;:&lt;NULL&lt;:&lt;NULL&gt;&gt;/vehicle-tax&lt;&lt;EVENT&lt;:&lt;External Link Clicked&lt;:&lt;https://www.vehicletax.service.gov.uk&gt;&gt;/search?q=some&lt;&lt;PAGE&lt;:&lt;NULL&lt;:&lt;NULL&gt;&gt;/search?q=some&lt;&lt;EVENT&lt;:&lt;searchResults&lt;:&lt;resultsShown&gt;&gt;/search?q=sorn+&lt;&lt;PAGE&lt;:&lt;NULL&lt;:&lt;NULL&gt;&gt;/search?q=sorn+&lt;&lt;EVENT&lt;:&lt;searchResults&lt;:&lt;resultsShown&gt;&gt;/search?q=sorn+&lt;&lt;EVENT&lt;:&lt;UX&lt;:&lt;click&gt;&gt;/make-a-sorn&lt;&lt;PAGE&lt;:&lt;NULL&lt;:&lt;NULL&gt;&gt;/make-a-sorn&lt;&lt;EVENT&lt;:&lt;External Link Clicked&lt;:&lt;https://www.sorn.service.gov.uk&gt;&gt;/make-a-sorn&lt;&lt;EVENT&lt;:&lt;External Link Clicked&lt;:...</td>\n",
       "      <td>/vehicle-tax&gt;&gt;/search?q=some&gt;&gt;/search?q=sorn+&gt;&gt;/make-a-sorn</td>\n",
       "      <td>1</td>\n",
       "      <td>2.0</td>\n",
       "      <td>[('mobile', 1)]</td>\n",
       "      <td>[('20181031', 1)]</td>\n",
       "      <td>[(/vehicle-tax, PAGE&lt;:&lt;NULL&lt;:&lt;NULL), (/vehicle-tax, EVENT&lt;:&lt;External Link Clicked&lt;:&lt;https://www.vehicletax.service.gov.uk), (/search?q=some, PAGE&lt;:&lt;NULL&lt;:&lt;NULL), (/search?q=some, EVENT&lt;:&lt;searchResults&lt;:&lt;resultsShown), (/search?q=sorn+, PAGE&lt;:&lt;NULL&lt;:&lt;NULL), (/search?q=sorn+, EVENT&lt;:&lt;searchResults&lt;:&lt;resultsShown), (/search?q=sorn+, EVENT&lt;:&lt;UX&lt;:&lt;click), (/make-a-sorn, PAGE&lt;:&lt;NULL&lt;:&lt;NULL), (/make-a-sorn, EVENT&lt;:&lt;External Link Clicked&lt;:&lt;https://www.sorn.service.gov.uk), (/make-a-sorn, EVENT&lt;:&lt;Ext...</td>\n",
       "      <td>[/vehicle-tax, /search?q=some, /search?q=sorn+, /make-a-sorn]</td>\n",
       "      <td>/vehicle-tax&gt;&gt;/search?q=some&gt;&gt;/search?q=sorn+&gt;&gt;/make-a-sorn</td>\n",
       "      <td>[('PAGE_NULL', 'PAGE_NULL'), ('External Link Clicked', 'https://www.vehicletax.service.gov.uk'), ('PAGE_NULL', 'PAGE_NULL'), ('searchResults', 'resultsShown'), ('PAGE_NULL', 'PAGE_NULL'), ('searchResults', 'resultsShown'), ('UX', 'click'), ('PAGE_NULL', 'PAGE_NULL'), ('External Link Clicked', 'https://www.sorn.service.gov.uk'), ('External Link Clicked', 'https://www.sorn.service.gov.uk')]</td>\n",
       "      <td>...</td>\n",
       "      <td>/vehicle-tax&gt;&gt;/search?q=some&gt;&gt;/search?q=sorn+&gt;&gt;/make-a-sorn</td>\n",
       "      <td>4.0</td>\n",
       "      <td>0</td>\n",
       "      <td>False</td>\n",
       "      <td>0</td>\n",
       "      <td>0</td>\n",
       "      <td>4</td>\n",
       "      <td>4</td>\n",
       "      <td>0</td>\n",
       "      <td>1.0</td>\n",
       "    </tr>\n",
       "    <tr>\n",
       "      <th>37543</th>\n",
       "      <td>/income-tax-rates&lt;&lt;PAGE&lt;:&lt;NULL&lt;:&lt;NULL&gt;&gt;/search?q=income+tax+2019&lt;&lt;EVENT&lt;:&lt;searchResults&lt;:&lt;resultsShown&gt;&gt;/search?q=income+tax+2019&lt;&lt;PAGE&lt;:&lt;NULL&lt;:&lt;NULL</td>\n",
       "      <td>/income-tax-rates&gt;&gt;/search?q=income+tax+2019</td>\n",
       "      <td>1</td>\n",
       "      <td>2.0</td>\n",
       "      <td>[('desktop', 1)]</td>\n",
       "      <td>[('20181031', 1)]</td>\n",
       "      <td>[(/income-tax-rates, PAGE&lt;:&lt;NULL&lt;:&lt;NULL), (/search?q=income+tax+2019, EVENT&lt;:&lt;searchResults&lt;:&lt;resultsShown), (/search?q=income+tax+2019, PAGE&lt;:&lt;NULL&lt;:&lt;NULL)]</td>\n",
       "      <td>[/income-tax-rates, /search?q=income+tax+2019]</td>\n",
       "      <td>/income-tax-rates&gt;&gt;/search?q=income+tax+2019</td>\n",
       "      <td>[('PAGE_NULL', 'PAGE_NULL'), ('searchResults', 'resultsShown'), ('PAGE_NULL', 'PAGE_NULL')]</td>\n",
       "      <td>...</td>\n",
       "      <td>/income-tax-rates&gt;&gt;/search?q=income+tax+2019</td>\n",
       "      <td>4.0</td>\n",
       "      <td>0</td>\n",
       "      <td>False</td>\n",
       "      <td>0</td>\n",
       "      <td>0</td>\n",
       "      <td>2</td>\n",
       "      <td>2</td>\n",
       "      <td>0</td>\n",
       "      <td>1.0</td>\n",
       "    </tr>\n",
       "    <tr>\n",
       "      <th>38584</th>\n",
       "      <td>/government/organisations/department-for-education/about&lt;&lt;PAGE&lt;:&lt;NULL&lt;:&lt;NULL&gt;&gt;/search?q=asp&lt;&lt;PAGE&lt;:&lt;NULL&lt;:&lt;NULL&gt;&gt;/search?q=asp&lt;&lt;EVENT&lt;:&lt;searchResults&lt;:&lt;resultsShown</td>\n",
       "      <td>/government/organisations/department-for-education/about&gt;&gt;/search?q=asp</td>\n",
       "      <td>2</td>\n",
       "      <td>2.0</td>\n",
       "      <td>[('desktop', 2)]</td>\n",
       "      <td>[('20181031', 1), ('20181029', 1)]</td>\n",
       "      <td>[(/government/organisations/department-for-education/about, PAGE&lt;:&lt;NULL&lt;:&lt;NULL), (/search?q=asp, PAGE&lt;:&lt;NULL&lt;:&lt;NULL), (/search?q=asp, EVENT&lt;:&lt;searchResults&lt;:&lt;resultsShown)]</td>\n",
       "      <td>[/government/organisations/department-for-education/about, /search?q=asp]</td>\n",
       "      <td>/government/organisations/department-for-education/about&gt;&gt;/search?q=asp</td>\n",
       "      <td>[('PAGE_NULL', 'PAGE_NULL'), ('PAGE_NULL', 'PAGE_NULL'), ('searchResults', 'resultsShown')]</td>\n",
       "      <td>...</td>\n",
       "      <td>/government/organisations/department-for-education/about&gt;&gt;/search?q=asp</td>\n",
       "      <td>2.0</td>\n",
       "      <td>0</td>\n",
       "      <td>False</td>\n",
       "      <td>0</td>\n",
       "      <td>0</td>\n",
       "      <td>2</td>\n",
       "      <td>4</td>\n",
       "      <td>0</td>\n",
       "      <td>1.0</td>\n",
       "    </tr>\n",
       "    <tr>\n",
       "      <th>38720</th>\n",
       "      <td>/winter-fuel-payment&lt;&lt;PAGE&lt;:&lt;NULL&lt;:&lt;NULL&gt;&gt;/search?q=winter+fuel&lt;&lt;EVENT&lt;:&lt;searchResults&lt;:&lt;resultsShown&gt;&gt;/search?q=winter+fuel&lt;&lt;PAGE&lt;:&lt;NULL&lt;:&lt;NULL</td>\n",
       "      <td>/winter-fuel-payment&gt;&gt;/search?q=winter+fuel</td>\n",
       "      <td>1</td>\n",
       "      <td>2.0</td>\n",
       "      <td>[('desktop', 1)]</td>\n",
       "      <td>[('20181031', 1)]</td>\n",
       "      <td>[(/winter-fuel-payment, PAGE&lt;:&lt;NULL&lt;:&lt;NULL), (/search?q=winter+fuel, EVENT&lt;:&lt;searchResults&lt;:&lt;resultsShown), (/search?q=winter+fuel, PAGE&lt;:&lt;NULL&lt;:&lt;NULL)]</td>\n",
       "      <td>[/winter-fuel-payment, /search?q=winter+fuel]</td>\n",
       "      <td>/winter-fuel-payment&gt;&gt;/search?q=winter+fuel</td>\n",
       "      <td>[('PAGE_NULL', 'PAGE_NULL'), ('searchResults', 'resultsShown'), ('PAGE_NULL', 'PAGE_NULL')]</td>\n",
       "      <td>...</td>\n",
       "      <td>/winter-fuel-payment&gt;&gt;/search?q=winter+fuel</td>\n",
       "      <td>4.0</td>\n",
       "      <td>0</td>\n",
       "      <td>False</td>\n",
       "      <td>0</td>\n",
       "      <td>0</td>\n",
       "      <td>2</td>\n",
       "      <td>2</td>\n",
       "      <td>0</td>\n",
       "      <td>1.0</td>\n",
       "    </tr>\n",
       "    <tr>\n",
       "      <th>44365</th>\n",
       "      <td>/contact-pension-service&lt;&lt;EVENT&lt;:&lt;user_satisfaction_survey&lt;:&lt;banner_shown&gt;&gt;/contact-pension-service&lt;&lt;PAGE&lt;:&lt;NULL&lt;:&lt;NULL&gt;&gt;/search?q=change+address&lt;&lt;PAGE&lt;:&lt;NULL&lt;:&lt;NULL&gt;&gt;/search?q=change+address&lt;&lt;EVENT&lt;:&lt;searchResults&lt;:&lt;resultsShown</td>\n",
       "      <td>/contact-pension-service&gt;&gt;/search?q=change+address</td>\n",
       "      <td>1</td>\n",
       "      <td>2.0</td>\n",
       "      <td>[('desktop', 1)]</td>\n",
       "      <td>[('20181031', 1)]</td>\n",
       "      <td>[(/contact-pension-service, EVENT&lt;:&lt;user_satisfaction_survey&lt;:&lt;banner_shown), (/contact-pension-service, PAGE&lt;:&lt;NULL&lt;:&lt;NULL), (/search?q=change+address, PAGE&lt;:&lt;NULL&lt;:&lt;NULL), (/search?q=change+address, EVENT&lt;:&lt;searchResults&lt;:&lt;resultsShown)]</td>\n",
       "      <td>[/contact-pension-service, /search?q=change+address]</td>\n",
       "      <td>/contact-pension-service&gt;&gt;/search?q=change+address</td>\n",
       "      <td>[('user_satisfaction_survey', 'banner_shown'), ('PAGE_NULL', 'PAGE_NULL'), ('PAGE_NULL', 'PAGE_NULL'), ('searchResults', 'resultsShown')]</td>\n",
       "      <td>...</td>\n",
       "      <td>/contact-pension-service&gt;&gt;/search?q=change+address</td>\n",
       "      <td>4.0</td>\n",
       "      <td>0</td>\n",
       "      <td>False</td>\n",
       "      <td>0</td>\n",
       "      <td>0</td>\n",
       "      <td>2</td>\n",
       "      <td>2</td>\n",
       "      <td>0</td>\n",
       "      <td>1.0</td>\n",
       "    </tr>\n",
       "    <tr>\n",
       "      <th>...</th>\n",
       "      <td>...</td>\n",
       "      <td>...</td>\n",
       "      <td>...</td>\n",
       "      <td>...</td>\n",
       "      <td>...</td>\n",
       "      <td>...</td>\n",
       "      <td>...</td>\n",
       "      <td>...</td>\n",
       "      <td>...</td>\n",
       "      <td>...</td>\n",
       "      <td>...</td>\n",
       "      <td>...</td>\n",
       "      <td>...</td>\n",
       "      <td>...</td>\n",
       "      <td>...</td>\n",
       "      <td>...</td>\n",
       "      <td>...</td>\n",
       "      <td>...</td>\n",
       "      <td>...</td>\n",
       "      <td>...</td>\n",
       "      <td>...</td>\n",
       "    </tr>\n",
       "    <tr>\n",
       "      <th>2000084</th>\n",
       "      <td>/dbs-check-applicant-criminal-record&lt;&lt;PAGE&lt;:&lt;NULL&lt;:&lt;NULL&gt;&gt;/search?q=dbs&lt;&lt;PAGE&lt;:&lt;NULL&lt;:&lt;NULL&gt;&gt;/search?q=dbs&lt;&lt;EVENT&lt;:&lt;searchResults&lt;:&lt;resultsShown&gt;&gt;/search?q=dbs&lt;&lt;EVENT&lt;:&lt;UX&lt;:&lt;click&gt;&gt;/request-copy-criminal-record&lt;&lt;PAGE&lt;:&lt;NULL&lt;:&lt;NULL</td>\n",
       "      <td>/dbs-check-applicant-criminal-record&gt;&gt;/search?q=dbs&gt;&gt;/request-copy-criminal-record</td>\n",
       "      <td>1</td>\n",
       "      <td>6.0</td>\n",
       "      <td>[('mobile', 1)]</td>\n",
       "      <td>[('20181104', 1)]</td>\n",
       "      <td>[(/dbs-check-applicant-criminal-record, PAGE&lt;:&lt;NULL&lt;:&lt;NULL), (/search?q=dbs, PAGE&lt;:&lt;NULL&lt;:&lt;NULL), (/search?q=dbs, EVENT&lt;:&lt;searchResults&lt;:&lt;resultsShown), (/search?q=dbs, EVENT&lt;:&lt;UX&lt;:&lt;click), (/request-copy-criminal-record, PAGE&lt;:&lt;NULL&lt;:&lt;NULL)]</td>\n",
       "      <td>[/dbs-check-applicant-criminal-record, /search?q=dbs, /request-copy-criminal-record]</td>\n",
       "      <td>/dbs-check-applicant-criminal-record&gt;&gt;/search?q=dbs&gt;&gt;/request-copy-criminal-record</td>\n",
       "      <td>[('PAGE_NULL', 'PAGE_NULL'), ('PAGE_NULL', 'PAGE_NULL'), ('searchResults', 'resultsShown'), ('UX', 'click'), ('PAGE_NULL', 'PAGE_NULL')]</td>\n",
       "      <td>...</td>\n",
       "      <td>/dbs-check-applicant-criminal-record&gt;&gt;/search?q=dbs&gt;&gt;/request-copy-criminal-record</td>\n",
       "      <td>18.0</td>\n",
       "      <td>0</td>\n",
       "      <td>False</td>\n",
       "      <td>0</td>\n",
       "      <td>0</td>\n",
       "      <td>3</td>\n",
       "      <td>3</td>\n",
       "      <td>0</td>\n",
       "      <td>1.0</td>\n",
       "    </tr>\n",
       "    <tr>\n",
       "      <th>2000158</th>\n",
       "      <td>/guidance/government-gateway-replacement-services-that-have-moved&lt;&lt;PAGE&lt;:&lt;NULL&lt;:&lt;NULL&gt;&gt;/guidance/government-gateway-replacement-services-that-have-moved&lt;&lt;EVENT&lt;:&lt;yesNoFeedbackForm&lt;:&lt;ffNoClick&gt;&gt;/search?q=cis&lt;&lt;PAGE&lt;:&lt;NULL&lt;:&lt;NULL&gt;&gt;/search?q=cis&lt;&lt;EVENT&lt;:&lt;searchResults&lt;:&lt;resultsShown&gt;&gt;/what-is-the-construction-industry-scheme&lt;&lt;PAGE&lt;:&lt;NULL&lt;:&lt;NULL&gt;&gt;/what-is-the-construction-industry-scheme&lt;&lt;EVENT&lt;:&lt;relatedLinkClicked&lt;:&lt;1.2 Related content&gt;&gt;/use-construction-industry-scheme-online&lt;&lt;EVENT&lt;:&lt;user_sati...</td>\n",
       "      <td>/guidance/government-gateway-replacement-services-that-have-moved&gt;&gt;/search?q=cis&gt;&gt;/what-is-the-construction-industry-scheme&gt;&gt;/use-construction-industry-scheme-online</td>\n",
       "      <td>1</td>\n",
       "      <td>7.0</td>\n",
       "      <td>[('desktop', 1)]</td>\n",
       "      <td>[('20181104', 1)]</td>\n",
       "      <td>[(/guidance/government-gateway-replacement-services-that-have-moved, PAGE&lt;:&lt;NULL&lt;:&lt;NULL), (/guidance/government-gateway-replacement-services-that-have-moved, EVENT&lt;:&lt;yesNoFeedbackForm&lt;:&lt;ffNoClick), (/search?q=cis, PAGE&lt;:&lt;NULL&lt;:&lt;NULL), (/search?q=cis, EVENT&lt;:&lt;searchResults&lt;:&lt;resultsShown), (/what-is-the-construction-industry-scheme, PAGE&lt;:&lt;NULL&lt;:&lt;NULL), (/what-is-the-construction-industry-scheme, EVENT&lt;:&lt;relatedLinkClicked&lt;:&lt;1.2 Related content), (/use-construction-industry-scheme-online, EVE...</td>\n",
       "      <td>[/guidance/government-gateway-replacement-services-that-have-moved, /search?q=cis, /what-is-the-construction-industry-scheme, /use-construction-industry-scheme-online]</td>\n",
       "      <td>/guidance/government-gateway-replacement-services-that-have-moved&gt;&gt;/search?q=cis&gt;&gt;/what-is-the-construction-industry-scheme&gt;&gt;/use-construction-industry-scheme-online</td>\n",
       "      <td>[('PAGE_NULL', 'PAGE_NULL'), ('yesNoFeedbackForm', 'ffNoClick'), ('PAGE_NULL', 'PAGE_NULL'), ('searchResults', 'resultsShown'), ('PAGE_NULL', 'PAGE_NULL'), ('relatedLinkClicked', '1.2 Related content'), ('user_satisfaction_survey', 'banner_shown'), ('PAGE_NULL', 'PAGE_NULL'), ('External Link Clicked', 'https://www.tax.service.gov.uk/gg/sign-in?continue=/construction-ind-scheme/&amp;origin=CIS-frontend')]</td>\n",
       "      <td>...</td>\n",
       "      <td>/guidance/government-gateway-replacement-services-that-have-moved&gt;&gt;/search?q=cis&gt;&gt;/what-is-the-construction-industry-scheme&gt;&gt;/use-construction-industry-scheme-online</td>\n",
       "      <td>28.0</td>\n",
       "      <td>0</td>\n",
       "      <td>True</td>\n",
       "      <td>1</td>\n",
       "      <td>1</td>\n",
       "      <td>4</td>\n",
       "      <td>4</td>\n",
       "      <td>0</td>\n",
       "      <td>1.0</td>\n",
       "    </tr>\n",
       "    <tr>\n",
       "      <th>2000335</th>\n",
       "      <td>/vehicle-tax&lt;&lt;PAGE&lt;:&lt;NULL&lt;:&lt;NULL&gt;&gt;/search?q=&lt;&lt;PAGE&lt;:&lt;NULL&lt;:&lt;NULL</td>\n",
       "      <td>/vehicle-tax&gt;&gt;/search?q=</td>\n",
       "      <td>1</td>\n",
       "      <td>2.0</td>\n",
       "      <td>[('desktop', 1)]</td>\n",
       "      <td>[('20181104', 1)]</td>\n",
       "      <td>[(/vehicle-tax, PAGE&lt;:&lt;NULL&lt;:&lt;NULL), (/search?q=, PAGE&lt;:&lt;NULL&lt;:&lt;NULL)]</td>\n",
       "      <td>[/vehicle-tax, /search?q=]</td>\n",
       "      <td>/vehicle-tax&gt;&gt;/search?q=</td>\n",
       "      <td>[('PAGE_NULL', 'PAGE_NULL'), ('PAGE_NULL', 'PAGE_NULL')]</td>\n",
       "      <td>...</td>\n",
       "      <td>/vehicle-tax&gt;&gt;/search?q=</td>\n",
       "      <td>4.0</td>\n",
       "      <td>0</td>\n",
       "      <td>False</td>\n",
       "      <td>0</td>\n",
       "      <td>0</td>\n",
       "      <td>2</td>\n",
       "      <td>2</td>\n",
       "      <td>0</td>\n",
       "      <td>1.0</td>\n",
       "    </tr>\n",
       "    <tr>\n",
       "      <th>2001506</th>\n",
       "      <td>/stamp-duty-land-tax&lt;&lt;PAGE&lt;:&lt;NULL&lt;:&lt;NULL&gt;&gt;/search?q=stamp+duty+calculator&lt;&lt;PAGE&lt;:&lt;NULL&lt;:&lt;NULL&gt;&gt;/search?q=stamp+duty+calculator&lt;&lt;EVENT&lt;:&lt;searchResults&lt;:&lt;resultsShown&gt;&gt;/stamp-duty-land-tax&lt;&lt;PAGE&lt;:&lt;NULL&lt;:&lt;NULL</td>\n",
       "      <td>/stamp-duty-land-tax&gt;&gt;/search?q=stamp+duty+calculator&gt;&gt;/stamp-duty-land-tax</td>\n",
       "      <td>1</td>\n",
       "      <td>2.0</td>\n",
       "      <td>[('desktop', 1)]</td>\n",
       "      <td>[('20181104', 1)]</td>\n",
       "      <td>[(/stamp-duty-land-tax, PAGE&lt;:&lt;NULL&lt;:&lt;NULL), (/search?q=stamp+duty+calculator, PAGE&lt;:&lt;NULL&lt;:&lt;NULL), (/search?q=stamp+duty+calculator, EVENT&lt;:&lt;searchResults&lt;:&lt;resultsShown), (/stamp-duty-land-tax, PAGE&lt;:&lt;NULL&lt;:&lt;NULL)]</td>\n",
       "      <td>[/stamp-duty-land-tax, /search?q=stamp+duty+calculator, /stamp-duty-land-tax]</td>\n",
       "      <td>/stamp-duty-land-tax&gt;&gt;/search?q=stamp+duty+calculator&gt;&gt;/stamp-duty-land-tax</td>\n",
       "      <td>[('PAGE_NULL', 'PAGE_NULL'), ('PAGE_NULL', 'PAGE_NULL'), ('searchResults', 'resultsShown'), ('PAGE_NULL', 'PAGE_NULL')]</td>\n",
       "      <td>...</td>\n",
       "      <td>/stamp-duty-land-tax&gt;&gt;/search?q=stamp+duty+calculator&gt;&gt;/stamp-duty-land-tax</td>\n",
       "      <td>4.0</td>\n",
       "      <td>0</td>\n",
       "      <td>False</td>\n",
       "      <td>0</td>\n",
       "      <td>0</td>\n",
       "      <td>3</td>\n",
       "      <td>3</td>\n",
       "      <td>0</td>\n",
       "      <td>1.0</td>\n",
       "    </tr>\n",
       "    <tr>\n",
       "      <th>2001675</th>\n",
       "      <td>/vehicle-log-book&lt;&lt;EVENT&lt;:&lt;relatedLinkClicked&lt;:&lt;1.1 Related content&gt;&gt;/change-name-address-v5c&lt;&lt;PAGE&lt;:&lt;NULL&lt;:&lt;NULL&gt;&gt;/search?q=change+of+owner&lt;&lt;PAGE&lt;:&lt;NULL&lt;:&lt;NULL&gt;&gt;/search?q=change+of+owner&lt;&lt;EVENT&lt;:&lt;searchResults&lt;:&lt;resultsShown&gt;&gt;/search?q=change+of+owner&lt;&lt;EVENT&lt;:&lt;UX&lt;:&lt;click&gt;&gt;/sold-bought-vehicle&lt;&lt;PAGE&lt;:&lt;NULL&lt;:&lt;NULL&gt;&gt;/sold-bought-vehicle/y&lt;&lt;PAGE&lt;:&lt;NULL&lt;:&lt;NULL&gt;&gt;/sold-bought-vehicle/y/no&lt;&lt;PAGE&lt;:&lt;NULL&lt;:&lt;NULL&gt;&gt;/sold-bought-vehicle/y/no/put-it-into-someone-else-s-name&lt;&lt;PAGE&lt;:&lt;NULL&lt;:&lt;NULL&gt;&gt;/sold-boug...</td>\n",
       "      <td>/change-name-address-v5c&gt;&gt;/search?q=change+of+owner&gt;&gt;/sold-bought-vehicle&gt;&gt;/sold-bought-vehicle/y&gt;&gt;/sold-bought-vehicle/y/no&gt;&gt;/sold-bought-vehicle/y/no/put-it-into-someone-else-s-name</td>\n",
       "      <td>1</td>\n",
       "      <td>2.0</td>\n",
       "      <td>[('desktop', 1)]</td>\n",
       "      <td>[('20181104', 1)]</td>\n",
       "      <td>[(/vehicle-log-book, EVENT&lt;:&lt;relatedLinkClicked&lt;:&lt;1.1 Related content), (/change-name-address-v5c, PAGE&lt;:&lt;NULL&lt;:&lt;NULL), (/search?q=change+of+owner, PAGE&lt;:&lt;NULL&lt;:&lt;NULL), (/search?q=change+of+owner, EVENT&lt;:&lt;searchResults&lt;:&lt;resultsShown), (/search?q=change+of+owner, EVENT&lt;:&lt;UX&lt;:&lt;click), (/sold-bought-vehicle, PAGE&lt;:&lt;NULL&lt;:&lt;NULL), (/sold-bought-vehicle/y, PAGE&lt;:&lt;NULL&lt;:&lt;NULL), (/sold-bought-vehicle/y/no, PAGE&lt;:&lt;NULL&lt;:&lt;NULL), (/sold-bought-vehicle/y/no/put-it-into-someone-else-s-name, PAGE&lt;:&lt;NULL&lt;...</td>\n",
       "      <td>[/change-name-address-v5c, /search?q=change+of+owner, /sold-bought-vehicle, /sold-bought-vehicle/y, /sold-bought-vehicle/y/no, /sold-bought-vehicle/y/no/put-it-into-someone-else-s-name]</td>\n",
       "      <td>/change-name-address-v5c&gt;&gt;/search?q=change+of+owner&gt;&gt;/sold-bought-vehicle&gt;&gt;/sold-bought-vehicle/y&gt;&gt;/sold-bought-vehicle/y/no&gt;&gt;/sold-bought-vehicle/y/no/put-it-into-someone-else-s-name</td>\n",
       "      <td>[('relatedLinkClicked', '1.1 Related content'), ('PAGE_NULL', 'PAGE_NULL'), ('PAGE_NULL', 'PAGE_NULL'), ('searchResults', 'resultsShown'), ('UX', 'click'), ('PAGE_NULL', 'PAGE_NULL'), ('PAGE_NULL', 'PAGE_NULL'), ('PAGE_NULL', 'PAGE_NULL'), ('PAGE_NULL', 'PAGE_NULL'), ('Simple Smart Answer', 'Completed'), ('External Link Clicked', 'https://www.buysellvehicle.service.gov.uk/sell-private/vehicle-lookup')]</td>\n",
       "      <td>...</td>\n",
       "      <td>/change-name-address-v5c&gt;&gt;/search?q=change+of+owner&gt;&gt;/sold-bought-vehicle&gt;&gt;/sold-bought-vehicle/y&gt;&gt;/sold-bought-vehicle/y/no&gt;&gt;/sold-bought-vehicle/y/no/put-it-into-someone-else-s-name</td>\n",
       "      <td>4.0</td>\n",
       "      <td>0</td>\n",
       "      <td>True</td>\n",
       "      <td>1</td>\n",
       "      <td>1</td>\n",
       "      <td>6</td>\n",
       "      <td>6</td>\n",
       "      <td>0</td>\n",
       "      <td>1.0</td>\n",
       "    </tr>\n",
       "    <tr>\n",
       "      <th>2004370</th>\n",
       "      <td>/done/vehicle-tax&lt;&lt;PAGE&lt;:&lt;NULL&lt;:&lt;NULL&gt;&gt;/search?q=mot&lt;&lt;PAGE&lt;:&lt;NULL&lt;:&lt;NULL&gt;&gt;/search?q=mot&lt;&lt;EVENT&lt;:&lt;searchResults&lt;:&lt;resultsShown</td>\n",
       "      <td>/done/vehicle-tax&gt;&gt;/search?q=mot</td>\n",
       "      <td>1</td>\n",
       "      <td>2.0</td>\n",
       "      <td>[('desktop', 1)]</td>\n",
       "      <td>[('20181104', 1)]</td>\n",
       "      <td>[(/done/vehicle-tax, PAGE&lt;:&lt;NULL&lt;:&lt;NULL), (/search?q=mot, PAGE&lt;:&lt;NULL&lt;:&lt;NULL), (/search?q=mot, EVENT&lt;:&lt;searchResults&lt;:&lt;resultsShown)]</td>\n",
       "      <td>[/done/vehicle-tax, /search?q=mot]</td>\n",
       "      <td>/done/vehicle-tax&gt;&gt;/search?q=mot</td>\n",
       "      <td>[('PAGE_NULL', 'PAGE_NULL'), ('PAGE_NULL', 'PAGE_NULL'), ('searchResults', 'resultsShown')]</td>\n",
       "      <td>...</td>\n",
       "      <td>/done/vehicle-tax&gt;&gt;/search?q=mot</td>\n",
       "      <td>4.0</td>\n",
       "      <td>0</td>\n",
       "      <td>False</td>\n",
       "      <td>0</td>\n",
       "      <td>0</td>\n",
       "      <td>2</td>\n",
       "      <td>2</td>\n",
       "      <td>0</td>\n",
       "      <td>1.0</td>\n",
       "    </tr>\n",
       "    <tr>\n",
       "      <th>2007839</th>\n",
       "      <td>/vehicle-tax&lt;&lt;PAGE&lt;:&lt;NULL&lt;:&lt;NULL&gt;&gt;/search?q=tax+free+childcare&lt;&lt;PAGE&lt;:&lt;NULL&lt;:&lt;NULL&gt;&gt;/search?q=tax+free+childcare&lt;&lt;EVENT&lt;:&lt;searchResults&lt;:&lt;resultsShown&gt;&gt;/search?q=tax+free+childcare&lt;&lt;EVENT&lt;:&lt;UX&lt;:&lt;click&gt;&gt;/sign-in-childcare-account&lt;&lt;PAGE&lt;:&lt;NULL&lt;:&lt;NULL&gt;&gt;/sign-in-childcare-account&lt;&lt;EVENT&lt;:&lt;External Link Clicked&lt;:&lt;https://childcare-support.tax.service.gov.uk/par/app/trialmessage?_ga=2.24217402.1009282267.1541363109-130367817.1507064005</td>\n",
       "      <td>/vehicle-tax&gt;&gt;/search?q=tax+free+childcare&gt;&gt;/sign-in-childcare-account</td>\n",
       "      <td>1</td>\n",
       "      <td>2.0</td>\n",
       "      <td>[('mobile', 1)]</td>\n",
       "      <td>[('20181104', 1)]</td>\n",
       "      <td>[(/vehicle-tax, PAGE&lt;:&lt;NULL&lt;:&lt;NULL), (/search?q=tax+free+childcare, PAGE&lt;:&lt;NULL&lt;:&lt;NULL), (/search?q=tax+free+childcare, EVENT&lt;:&lt;searchResults&lt;:&lt;resultsShown), (/search?q=tax+free+childcare, EVENT&lt;:&lt;UX&lt;:&lt;click), (/sign-in-childcare-account, PAGE&lt;:&lt;NULL&lt;:&lt;NULL), (/sign-in-childcare-account, EVENT&lt;:&lt;External Link Clicked&lt;:&lt;https://childcare-support.tax.service.gov.uk/par/app/trialmessage?_ga=2.24217402.1009282267.1541363109-130367817.1507064005)]</td>\n",
       "      <td>[/vehicle-tax, /search?q=tax+free+childcare, /sign-in-childcare-account]</td>\n",
       "      <td>/vehicle-tax&gt;&gt;/search?q=tax+free+childcare&gt;&gt;/sign-in-childcare-account</td>\n",
       "      <td>[('PAGE_NULL', 'PAGE_NULL'), ('PAGE_NULL', 'PAGE_NULL'), ('searchResults', 'resultsShown'), ('UX', 'click'), ('PAGE_NULL', 'PAGE_NULL'), ('External Link Clicked', 'https://childcare-support.tax.service.gov.uk/par/app/trialmessage?_ga=2.24217402.1009282267.1541363109-130367817.1507064005')]</td>\n",
       "      <td>...</td>\n",
       "      <td>/vehicle-tax&gt;&gt;/search?q=tax+free+childcare&gt;&gt;/sign-in-childcare-account</td>\n",
       "      <td>4.0</td>\n",
       "      <td>0</td>\n",
       "      <td>False</td>\n",
       "      <td>0</td>\n",
       "      <td>0</td>\n",
       "      <td>3</td>\n",
       "      <td>3</td>\n",
       "      <td>0</td>\n",
       "      <td>1.0</td>\n",
       "    </tr>\n",
       "    <tr>\n",
       "      <th>2007983</th>\n",
       "      <td>/government/publications/income-tax-leaving-the-uk-getting-your-tax-right-p85&lt;&lt;PAGE&lt;:&lt;NULL&lt;:&lt;NULL&gt;&gt;/government/publications/income-tax-leaving-the-uk-getting-your-tax-right-p85&lt;&lt;EVENT&lt;:&lt;NULL&lt;:&lt;NULL&gt;&gt;/search?q=p85+form&lt;&lt;PAGE&lt;:&lt;NULL&lt;:&lt;NULL&gt;&gt;/search?q=p85+form&lt;&lt;EVENT&lt;:&lt;searchResults&lt;:&lt;resultsShown&gt;&gt;/search?q=p85+form&lt;&lt;EVENT&lt;:&lt;NULL&lt;:&lt;NULL&gt;&gt;/government/publications/income-tax-leaving-the-uk-getting-your-tax-right-p85&lt;&lt;PAGE&lt;:&lt;NULL&lt;:&lt;NULL&gt;&gt;/government/publications/income-tax-leaving-the-uk-getting-...</td>\n",
       "      <td>/government/publications/income-tax-leaving-the-uk-getting-your-tax-right-p85&gt;&gt;/search?q=p85+form&gt;&gt;/government/publications/income-tax-leaving-the-uk-getting-your-tax-right-p85</td>\n",
       "      <td>1</td>\n",
       "      <td>2.0</td>\n",
       "      <td>[('mobile', 1)]</td>\n",
       "      <td>[('20181104', 1)]</td>\n",
       "      <td>[(/government/publications/income-tax-leaving-the-uk-getting-your-tax-right-p85, PAGE&lt;:&lt;NULL&lt;:&lt;NULL), (/government/publications/income-tax-leaving-the-uk-getting-your-tax-right-p85, EVENT&lt;:&lt;NULL&lt;:&lt;NULL), (/search?q=p85+form, PAGE&lt;:&lt;NULL&lt;:&lt;NULL), (/search?q=p85+form, EVENT&lt;:&lt;searchResults&lt;:&lt;resultsShown), (/search?q=p85+form, EVENT&lt;:&lt;NULL&lt;:&lt;NULL), (/government/publications/income-tax-leaving-the-uk-getting-your-tax-right-p85, PAGE&lt;:&lt;NULL&lt;:&lt;NULL), (/government/publications/income-tax-leaving-t...</td>\n",
       "      <td>[/government/publications/income-tax-leaving-the-uk-getting-your-tax-right-p85, /search?q=p85+form, /government/publications/income-tax-leaving-the-uk-getting-your-tax-right-p85]</td>\n",
       "      <td>/government/publications/income-tax-leaving-the-uk-getting-your-tax-right-p85&gt;&gt;/search?q=p85+form&gt;&gt;/government/publications/income-tax-leaving-the-uk-getting-your-tax-right-p85</td>\n",
       "      <td>[('PAGE_NULL', 'PAGE_NULL'), ('EVENT_NULL', 'EVENT_NULL'), ('PAGE_NULL', 'PAGE_NULL'), ('searchResults', 'resultsShown'), ('EVENT_NULL', 'EVENT_NULL'), ('PAGE_NULL', 'PAGE_NULL'), ('EVENT_NULL', 'EVENT_NULL'), ('External Link Clicked', 'https://www.tax.service.gov.uk/forms/form/Leaving-the-UK-getting-your-tax-right/new')]</td>\n",
       "      <td>...</td>\n",
       "      <td>/government/publications/income-tax-leaving-the-uk-getting-your-tax-right-p85&gt;&gt;/search?q=p85+form&gt;&gt;/government/publications/income-tax-leaving-the-uk-getting-your-tax-right-p85</td>\n",
       "      <td>4.0</td>\n",
       "      <td>0</td>\n",
       "      <td>False</td>\n",
       "      <td>0</td>\n",
       "      <td>0</td>\n",
       "      <td>3</td>\n",
       "      <td>3</td>\n",
       "      <td>0</td>\n",
       "      <td>1.0</td>\n",
       "    </tr>\n",
       "    <tr>\n",
       "      <th>2008265</th>\n",
       "      <td>/done/vehicle-tax&lt;&lt;PAGE&lt;:&lt;NULL&lt;:&lt;NULL&gt;&gt;/search?q=mot&lt;&lt;EVENT&lt;:&lt;searchResults&lt;:&lt;resultsShown&gt;&gt;/search?q=mot&lt;&lt;PAGE&lt;:&lt;NULL&lt;:&lt;NULL&gt;&gt;/check-mot-status&lt;&lt;PAGE&lt;:&lt;NULL&lt;:&lt;NULL&gt;&gt;/check-mot-status&lt;&lt;EVENT&lt;:&lt;External Link Clicked&lt;:&lt;https://www.vehicleenquiry.service.gov.uk/</td>\n",
       "      <td>/done/vehicle-tax&gt;&gt;/search?q=mot&gt;&gt;/check-mot-status</td>\n",
       "      <td>1</td>\n",
       "      <td>52.0</td>\n",
       "      <td>[('mobile', 1)]</td>\n",
       "      <td>[('20181104', 1)]</td>\n",
       "      <td>[(/done/vehicle-tax, PAGE&lt;:&lt;NULL&lt;:&lt;NULL), (/search?q=mot, EVENT&lt;:&lt;searchResults&lt;:&lt;resultsShown), (/search?q=mot, PAGE&lt;:&lt;NULL&lt;:&lt;NULL), (/check-mot-status, PAGE&lt;:&lt;NULL&lt;:&lt;NULL), (/check-mot-status, EVENT&lt;:&lt;External Link Clicked&lt;:&lt;https://www.vehicleenquiry.service.gov.uk/)]</td>\n",
       "      <td>[/done/vehicle-tax, /search?q=mot, /check-mot-status]</td>\n",
       "      <td>/done/vehicle-tax&gt;&gt;/search?q=mot&gt;&gt;/check-mot-status</td>\n",
       "      <td>[('PAGE_NULL', 'PAGE_NULL'), ('searchResults', 'resultsShown'), ('PAGE_NULL', 'PAGE_NULL'), ('PAGE_NULL', 'PAGE_NULL'), ('External Link Clicked', 'https://www.vehicleenquiry.service.gov.uk/')]</td>\n",
       "      <td>...</td>\n",
       "      <td>/done/vehicle-tax&gt;&gt;/search?q=mot&gt;&gt;/check-mot-status</td>\n",
       "      <td>520.0</td>\n",
       "      <td>0</td>\n",
       "      <td>False</td>\n",
       "      <td>0</td>\n",
       "      <td>0</td>\n",
       "      <td>3</td>\n",
       "      <td>3</td>\n",
       "      <td>0</td>\n",
       "      <td>1.0</td>\n",
       "    </tr>\n",
       "    <tr>\n",
       "      <th>2011601</th>\n",
       "      <td>/book-driving-test&lt;&lt;PAGE&lt;:&lt;NULL&lt;:&lt;NULL&gt;&gt;/search?q=show+me+tell+me&lt;&lt;PAGE&lt;:&lt;NULL&lt;:&lt;NULL&gt;&gt;/search?q=show+me+tell+me&lt;&lt;EVENT&lt;:&lt;searchResults&lt;:&lt;resultsShown&gt;&gt;/search?q=show+me+tell+me&lt;&lt;EVENT&lt;:&lt;UX&lt;:&lt;click&gt;&gt;/government/publications/car-show-me-tell-me-vehicle-safety-questions&lt;&lt;PAGE&lt;:&lt;NULL&lt;:&lt;NULL&gt;&gt;/government/publications/car-show-me-tell-me-vehicle-safety-questions/car-show-me-tell-me-vehicle-safety-questions&lt;&lt;PAGE&lt;:&lt;NULL&lt;:&lt;NULL&gt;&gt;/government/publications/car-show-me-tell-me-vehicle-safety-questions/...</td>\n",
       "      <td>/book-driving-test&gt;&gt;/search?q=show+me+tell+me&gt;&gt;/government/publications/car-show-me-tell-me-vehicle-safety-questions&gt;&gt;/government/publications/car-show-me-tell-me-vehicle-safety-questions/car-show-me-tell-me-vehicle-safety-questions</td>\n",
       "      <td>1</td>\n",
       "      <td>6.0</td>\n",
       "      <td>[('desktop', 1)]</td>\n",
       "      <td>[('20181104', 1)]</td>\n",
       "      <td>[(/book-driving-test, PAGE&lt;:&lt;NULL&lt;:&lt;NULL), (/search?q=show+me+tell+me, PAGE&lt;:&lt;NULL&lt;:&lt;NULL), (/search?q=show+me+tell+me, EVENT&lt;:&lt;searchResults&lt;:&lt;resultsShown), (/search?q=show+me+tell+me, EVENT&lt;:&lt;UX&lt;:&lt;click), (/government/publications/car-show-me-tell-me-vehicle-safety-questions, PAGE&lt;:&lt;NULL&lt;:&lt;NULL), (/government/publications/car-show-me-tell-me-vehicle-safety-questions/car-show-me-tell-me-vehicle-safety-questions, PAGE&lt;:&lt;NULL&lt;:&lt;NULL), (/government/publications/car-show-me-tell-me-vehicle-saf...</td>\n",
       "      <td>[/book-driving-test, /search?q=show+me+tell+me, /government/publications/car-show-me-tell-me-vehicle-safety-questions, /government/publications/car-show-me-tell-me-vehicle-safety-questions/car-show-me-tell-me-vehicle-safety-questions]</td>\n",
       "      <td>/book-driving-test&gt;&gt;/search?q=show+me+tell+me&gt;&gt;/government/publications/car-show-me-tell-me-vehicle-safety-questions&gt;&gt;/government/publications/car-show-me-tell-me-vehicle-safety-questions/car-show-me-tell-me-vehicle-safety-questions</td>\n",
       "      <td>[('PAGE_NULL', 'PAGE_NULL'), ('PAGE_NULL', 'PAGE_NULL'), ('searchResults', 'resultsShown'), ('UX', 'click'), ('PAGE_NULL', 'PAGE_NULL'), ('PAGE_NULL', 'PAGE_NULL'), ('user_satisfaction_survey', 'banner_shown')]</td>\n",
       "      <td>...</td>\n",
       "      <td>/book-driving-test&gt;&gt;/search?q=show+me+tell+me&gt;&gt;/government/publications/car-show-me-tell-me-vehicle-safety-questions&gt;&gt;/government/publications/car-show-me-tell-me-vehicle-safety-questions/car-show-me-tell-me-vehicle-safety-questions</td>\n",
       "      <td>18.0</td>\n",
       "      <td>0</td>\n",
       "      <td>False</td>\n",
       "      <td>0</td>\n",
       "      <td>0</td>\n",
       "      <td>4</td>\n",
       "      <td>4</td>\n",
       "      <td>0</td>\n",
       "      <td>1.0</td>\n",
       "    </tr>\n",
       "    <tr>\n",
       "      <th>2013116</th>\n",
       "      <td>/getting-an-mot/mot-test-fees&lt;&lt;PAGE&lt;:&lt;NULL&lt;:&lt;NULL&gt;&gt;/search?q=living+van&lt;&lt;EVENT&lt;:&lt;searchResults&lt;:&lt;resultsShown&gt;&gt;/search?q=living+van&lt;&lt;PAGE&lt;:&lt;NULL&lt;:&lt;NULL</td>\n",
       "      <td>/getting-an-mot/mot-test-fees&gt;&gt;/search?q=living+van</td>\n",
       "      <td>1</td>\n",
       "      <td>2.0</td>\n",
       "      <td>[('mobile', 1)]</td>\n",
       "      <td>[('20181104', 1)]</td>\n",
       "      <td>[(/getting-an-mot/mot-test-fees, PAGE&lt;:&lt;NULL&lt;:&lt;NULL), (/search?q=living+van, EVENT&lt;:&lt;searchResults&lt;:&lt;resultsShown), (/search?q=living+van, PAGE&lt;:&lt;NULL&lt;:&lt;NULL)]</td>\n",
       "      <td>[/getting-an-mot/mot-test-fees, /search?q=living+van]</td>\n",
       "      <td>/getting-an-mot/mot-test-fees&gt;&gt;/search?q=living+van</td>\n",
       "      <td>[('PAGE_NULL', 'PAGE_NULL'), ('searchResults', 'resultsShown'), ('PAGE_NULL', 'PAGE_NULL')]</td>\n",
       "      <td>...</td>\n",
       "      <td>/getting-an-mot/mot-test-fees&gt;&gt;/search?q=living+van</td>\n",
       "      <td>4.0</td>\n",
       "      <td>0</td>\n",
       "      <td>False</td>\n",
       "      <td>0</td>\n",
       "      <td>0</td>\n",
       "      <td>2</td>\n",
       "      <td>2</td>\n",
       "      <td>0</td>\n",
       "      <td>1.0</td>\n",
       "    </tr>\n",
       "    <tr>\n",
       "      <th>2013347</th>\n",
       "      <td>/help-with-childcare-costs&lt;&lt;PAGE&lt;:&lt;NULL&lt;:&lt;NULL&gt;&gt;/search?q=childcare+account&lt;&lt;PAGE&lt;:&lt;NULL&lt;:&lt;NULL&gt;&gt;/search?q=childcare+account&lt;&lt;EVENT&lt;:&lt;searchResults&lt;:&lt;resultsShown&gt;&gt;/search?q=childcare+account&lt;&lt;EVENT&lt;:&lt;UX&lt;:&lt;click&gt;&gt;/sign-in-childcare-account&lt;&lt;PAGE&lt;:&lt;NULL&lt;:&lt;NULL&gt;&gt;/sign-in-childcare-account&lt;&lt;EVENT&lt;:&lt;External Link Clicked&lt;:&lt;https://childcare-support.tax.service.gov.uk/par/app/trialmessage?_ga=2.183673830.1309309953.1541343240-1750456444.1529499803</td>\n",
       "      <td>/help-with-childcare-costs&gt;&gt;/search?q=childcare+account&gt;&gt;/sign-in-childcare-account</td>\n",
       "      <td>1</td>\n",
       "      <td>126.0</td>\n",
       "      <td>[('desktop', 1)]</td>\n",
       "      <td>[('20181104', 1)]</td>\n",
       "      <td>[(/help-with-childcare-costs, PAGE&lt;:&lt;NULL&lt;:&lt;NULL), (/search?q=childcare+account, PAGE&lt;:&lt;NULL&lt;:&lt;NULL), (/search?q=childcare+account, EVENT&lt;:&lt;searchResults&lt;:&lt;resultsShown), (/search?q=childcare+account, EVENT&lt;:&lt;UX&lt;:&lt;click), (/sign-in-childcare-account, PAGE&lt;:&lt;NULL&lt;:&lt;NULL), (/sign-in-childcare-account, EVENT&lt;:&lt;External Link Clicked&lt;:&lt;https://childcare-support.tax.service.gov.uk/par/app/trialmessage?_ga=2.183673830.1309309953.1541343240-1750456444.1529499803)]</td>\n",
       "      <td>[/help-with-childcare-costs, /search?q=childcare+account, /sign-in-childcare-account]</td>\n",
       "      <td>/help-with-childcare-costs&gt;&gt;/search?q=childcare+account&gt;&gt;/sign-in-childcare-account</td>\n",
       "      <td>[('PAGE_NULL', 'PAGE_NULL'), ('PAGE_NULL', 'PAGE_NULL'), ('searchResults', 'resultsShown'), ('UX', 'click'), ('PAGE_NULL', 'PAGE_NULL'), ('External Link Clicked', 'https://childcare-support.tax.service.gov.uk/par/app/trialmessage?_ga=2.183673830.1309309953.1541343240-1750456444.1529499803')]</td>\n",
       "      <td>...</td>\n",
       "      <td>/help-with-childcare-costs&gt;&gt;/search?q=childcare+account&gt;&gt;/sign-in-childcare-account</td>\n",
       "      <td>16114.0</td>\n",
       "      <td>0</td>\n",
       "      <td>False</td>\n",
       "      <td>0</td>\n",
       "      <td>0</td>\n",
       "      <td>3</td>\n",
       "      <td>3</td>\n",
       "      <td>0</td>\n",
       "      <td>1.0</td>\n",
       "    </tr>\n",
       "    <tr>\n",
       "      <th>2015420</th>\n",
       "      <td>/check-mot-history&lt;&lt;PAGE&lt;:&lt;NULL&lt;:&lt;NULL&gt;&gt;/search?q=[postcode]j&lt;&lt;PAGE&lt;:&lt;NULL&lt;:&lt;NULL&gt;&gt;/check-mot-history&lt;&lt;EVENT&lt;:&lt;External Link Clicked&lt;:&lt;https://www.check-mot.service.gov.uk/?_ga=2.41178603.811155194.1541329040-94716840.1541329040</td>\n",
       "      <td>/check-mot-history&gt;&gt;/search?q=[postcode]j</td>\n",
       "      <td>1</td>\n",
       "      <td>4.0</td>\n",
       "      <td>[('mobile', 1)]</td>\n",
       "      <td>[('20181104', 1)]</td>\n",
       "      <td>[(/check-mot-history, PAGE&lt;:&lt;NULL&lt;:&lt;NULL), (/search?q=[postcode]j, PAGE&lt;:&lt;NULL&lt;:&lt;NULL), (/check-mot-history, EVENT&lt;:&lt;External Link Clicked&lt;:&lt;https://www.check-mot.service.gov.uk/?_ga=2.41178603.811155194.1541329040-94716840.1541329040)]</td>\n",
       "      <td>[/check-mot-history, /search?q=[postcode]j]</td>\n",
       "      <td>/check-mot-history&gt;&gt;/search?q=[postcode]j</td>\n",
       "      <td>[('PAGE_NULL', 'PAGE_NULL'), ('PAGE_NULL', 'PAGE_NULL'), ('External Link Clicked', 'https://www.check-mot.service.gov.uk/?_ga=2.41178603.811155194.1541329040-94716840.1541329040')]</td>\n",
       "      <td>...</td>\n",
       "      <td>/check-mot-history&gt;&gt;/search?q=[postcode]j</td>\n",
       "      <td>16.0</td>\n",
       "      <td>0</td>\n",
       "      <td>False</td>\n",
       "      <td>0</td>\n",
       "      <td>0</td>\n",
       "      <td>2</td>\n",
       "      <td>2</td>\n",
       "      <td>0</td>\n",
       "      <td>1.0</td>\n",
       "    </tr>\n",
       "    <tr>\n",
       "      <th>2019777</th>\n",
       "      <td>/universal-credit&lt;&lt;PAGE&lt;:&lt;NULL&lt;:&lt;NULL&gt;&gt;/search?q=sign&lt;&lt;PAGE&lt;:&lt;NULL&lt;:&lt;NULL&gt;&gt;/search?q=sign&lt;&lt;EVENT&lt;:&lt;searchResults&lt;:&lt;resultsShown&gt;&gt;/search?q=sign&lt;&lt;EVENT&lt;:&lt;UX&lt;:&lt;click&gt;&gt;/sign-in-universal-credit&lt;&lt;PAGE&lt;:&lt;NULL&lt;:&lt;NULL&gt;&gt;/sign-in-universal-credit&lt;&lt;EVENT&lt;:&lt;External Link Clicked&lt;:&lt;https://www.universal-credit.service.gov.uk/sign-in</td>\n",
       "      <td>/universal-credit&gt;&gt;/search?q=sign&gt;&gt;/sign-in-universal-credit</td>\n",
       "      <td>1</td>\n",
       "      <td>2.0</td>\n",
       "      <td>[('mobile', 1)]</td>\n",
       "      <td>[('20181104', 1)]</td>\n",
       "      <td>[(/universal-credit, PAGE&lt;:&lt;NULL&lt;:&lt;NULL), (/search?q=sign, PAGE&lt;:&lt;NULL&lt;:&lt;NULL), (/search?q=sign, EVENT&lt;:&lt;searchResults&lt;:&lt;resultsShown), (/search?q=sign, EVENT&lt;:&lt;UX&lt;:&lt;click), (/sign-in-universal-credit, PAGE&lt;:&lt;NULL&lt;:&lt;NULL), (/sign-in-universal-credit, EVENT&lt;:&lt;External Link Clicked&lt;:&lt;https://www.universal-credit.service.gov.uk/sign-in)]</td>\n",
       "      <td>[/universal-credit, /search?q=sign, /sign-in-universal-credit]</td>\n",
       "      <td>/universal-credit&gt;&gt;/search?q=sign&gt;&gt;/sign-in-universal-credit</td>\n",
       "      <td>[('PAGE_NULL', 'PAGE_NULL'), ('PAGE_NULL', 'PAGE_NULL'), ('searchResults', 'resultsShown'), ('UX', 'click'), ('PAGE_NULL', 'PAGE_NULL'), ('External Link Clicked', 'https://www.universal-credit.service.gov.uk/sign-in')]</td>\n",
       "      <td>...</td>\n",
       "      <td>/universal-credit&gt;&gt;/search?q=sign&gt;&gt;/sign-in-universal-credit</td>\n",
       "      <td>4.0</td>\n",
       "      <td>0</td>\n",
       "      <td>False</td>\n",
       "      <td>0</td>\n",
       "      <td>0</td>\n",
       "      <td>3</td>\n",
       "      <td>3</td>\n",
       "      <td>0</td>\n",
       "      <td>1.0</td>\n",
       "    </tr>\n",
       "    <tr>\n",
       "      <th>2020272</th>\n",
       "      <td>/government/organisations/hm-revenue-customs/contact/self-assessment&lt;&lt;PAGE&lt;:&lt;NULL&lt;:&lt;NULL&gt;&gt;/government/organisations/hm-revenue-customs/contact/self-assessment&lt;&lt;EVENT&lt;:&lt;webchat&lt;:&lt;available&gt;&gt;/government/organisations/hm-revenue-customs/contact/self-assessment&lt;&lt;EVENT&lt;:&lt;webchat&lt;:&lt;error&gt;&gt;/government/organisations/hm-revenue-customs/contact/self-assessment&lt;&lt;EVENT&lt;:&lt;webchat&lt;:&lt;available&gt;&gt;/search?q=working+for+yourself&lt;&lt;PAGE&lt;:&lt;NULL&lt;:&lt;NULL&gt;&gt;/search?q=working+for+yourself&lt;&lt;EVENT&lt;:&lt;searchResults&lt;:&lt;resul...</td>\n",
       "      <td>/government/organisations/hm-revenue-customs/contact/self-assessment&gt;&gt;/search?q=working+for+yourself&gt;&gt;/working-for-yourself&gt;&gt;/log-in-file-self-assessment-tax-return/register-if-youre-self-employed</td>\n",
       "      <td>1</td>\n",
       "      <td>2.0</td>\n",
       "      <td>[('mobile', 1)]</td>\n",
       "      <td>[('20181104', 1)]</td>\n",
       "      <td>[(/government/organisations/hm-revenue-customs/contact/self-assessment, PAGE&lt;:&lt;NULL&lt;:&lt;NULL), (/government/organisations/hm-revenue-customs/contact/self-assessment, EVENT&lt;:&lt;webchat&lt;:&lt;available), (/government/organisations/hm-revenue-customs/contact/self-assessment, EVENT&lt;:&lt;webchat&lt;:&lt;error), (/government/organisations/hm-revenue-customs/contact/self-assessment, EVENT&lt;:&lt;webchat&lt;:&lt;available), (/search?q=working+for+yourself, PAGE&lt;:&lt;NULL&lt;:&lt;NULL), (/search?q=working+for+yourself, EVENT&lt;:&lt;searchRes...</td>\n",
       "      <td>[/government/organisations/hm-revenue-customs/contact/self-assessment, /search?q=working+for+yourself, /working-for-yourself, /log-in-file-self-assessment-tax-return/register-if-youre-self-employed]</td>\n",
       "      <td>/government/organisations/hm-revenue-customs/contact/self-assessment&gt;&gt;/search?q=working+for+yourself&gt;&gt;/working-for-yourself&gt;&gt;/log-in-file-self-assessment-tax-return/register-if-youre-self-employed</td>\n",
       "      <td>[('PAGE_NULL', 'PAGE_NULL'), ('webchat', 'available'), ('webchat', 'error'), ('webchat', 'available'), ('PAGE_NULL', 'PAGE_NULL'), ('searchResults', 'resultsShown'), ('UX', 'click'), ('PAGE_NULL', 'PAGE_NULL'), ('PAGE_NULL', 'PAGE_NULL'), ('External Link Clicked', 'https://www.tax.service.gov.uk/government-gateway-registration-frontend?accountType=organisation&amp;continue=/business-registration/introduction&amp;origin=SA-frontend')]</td>\n",
       "      <td>...</td>\n",
       "      <td>/government/organisations/hm-revenue-customs/contact/self-assessment&gt;&gt;/search?q=working+for+yourself&gt;&gt;/working-for-yourself&gt;&gt;/log-in-file-self-assessment-tax-return/register-if-youre-self-employed</td>\n",
       "      <td>4.0</td>\n",
       "      <td>0</td>\n",
       "      <td>False</td>\n",
       "      <td>0</td>\n",
       "      <td>0</td>\n",
       "      <td>4</td>\n",
       "      <td>4</td>\n",
       "      <td>0</td>\n",
       "      <td>1.0</td>\n",
       "    </tr>\n",
       "    <tr>\n",
       "      <th>2020548</th>\n",
       "      <td>/wills-probate-inheritance/applying-for-a-grant-of-representation&lt;&lt;PAGE&lt;:&lt;NULL&lt;:&lt;NULL&gt;&gt;/search?q=pa3&lt;&lt;PAGE&lt;:&lt;NULL&lt;:&lt;NULL&gt;&gt;/search?q=pa3&lt;&lt;EVENT&lt;:&lt;searchResults&lt;:&lt;resultsShown&gt;&gt;/search?q=pa3&lt;&lt;EVENT&lt;:&lt;UX&lt;:&lt;click&gt;&gt;/government/publications/probate-fees-from-april-2014-pa3&lt;&lt;PAGE&lt;:&lt;NULL&lt;:&lt;NULL&gt;&gt;/government/publications/probate-fees-from-april-2014-pa3&lt;&lt;EVENT&lt;:&lt;Download Link Clicked&lt;:&lt;/government/uploads/system/uploads/attachment_data/file/718880/pa3-eng.pdf</td>\n",
       "      <td>/wills-probate-inheritance/applying-for-a-grant-of-representation&gt;&gt;/search?q=pa3&gt;&gt;/government/publications/probate-fees-from-april-2014-pa3</td>\n",
       "      <td>1</td>\n",
       "      <td>3.0</td>\n",
       "      <td>[('desktop', 1), ('tablet', 1)]</td>\n",
       "      <td>[('20181104', 2)]</td>\n",
       "      <td>[(/wills-probate-inheritance/applying-for-a-grant-of-representation, PAGE&lt;:&lt;NULL&lt;:&lt;NULL), (/search?q=pa3, PAGE&lt;:&lt;NULL&lt;:&lt;NULL), (/search?q=pa3, EVENT&lt;:&lt;searchResults&lt;:&lt;resultsShown), (/search?q=pa3, EVENT&lt;:&lt;UX&lt;:&lt;click), (/government/publications/probate-fees-from-april-2014-pa3, PAGE&lt;:&lt;NULL&lt;:&lt;NULL), (/government/publications/probate-fees-from-april-2014-pa3, EVENT&lt;:&lt;Download Link Clicked&lt;:&lt;/government/uploads/system/uploads/attachment_data/file/718880/pa3-eng.pdf)]</td>\n",
       "      <td>[/wills-probate-inheritance/applying-for-a-grant-of-representation, /search?q=pa3, /government/publications/probate-fees-from-april-2014-pa3]</td>\n",
       "      <td>/wills-probate-inheritance/applying-for-a-grant-of-representation&gt;&gt;/search?q=pa3&gt;&gt;/government/publications/probate-fees-from-april-2014-pa3</td>\n",
       "      <td>[('PAGE_NULL', 'PAGE_NULL'), ('PAGE_NULL', 'PAGE_NULL'), ('searchResults', 'resultsShown'), ('UX', 'click'), ('PAGE_NULL', 'PAGE_NULL'), ('Download Link Clicked', '/government/uploads/system/uploads/attachment_data/file/718880/pa3-eng.pdf')]</td>\n",
       "      <td>...</td>\n",
       "      <td>/wills-probate-inheritance/applying-for-a-grant-of-representation&gt;&gt;/search?q=pa3&gt;&gt;/government/publications/probate-fees-from-april-2014-pa3</td>\n",
       "      <td>6.0</td>\n",
       "      <td>1</td>\n",
       "      <td>False</td>\n",
       "      <td>0</td>\n",
       "      <td>0</td>\n",
       "      <td>3</td>\n",
       "      <td>3</td>\n",
       "      <td>0</td>\n",
       "      <td>1.0</td>\n",
       "    </tr>\n",
       "    <tr>\n",
       "      <th>2022305</th>\n",
       "      <td>/universal-credit&lt;&lt;PAGE&lt;:&lt;NULL&lt;:&lt;NULL&gt;&gt;/search?q=login&lt;&lt;PAGE&lt;:&lt;NULL&lt;:&lt;NULL&gt;&gt;/search?q=login&lt;&lt;EVENT&lt;:&lt;searchResults&lt;:&lt;resultsShown&gt;&gt;/universal-credit&lt;&lt;PAGE&lt;:&lt;NULL&lt;:&lt;NULL&gt;&gt;/universal-credit&lt;&lt;EVENT&lt;:&lt;user_satisfaction_survey&lt;:&lt;banner_shown&gt;&gt;/sign-in-universal-credit&lt;&lt;PAGE&lt;:&lt;NULL&lt;:&lt;NULL&gt;&gt;/sign-in-universal-credit&lt;&lt;EVENT&lt;:&lt;External Link Clicked&lt;:&lt;https://www.universal-credit.service.gov.uk/sign-in</td>\n",
       "      <td>/universal-credit&gt;&gt;/search?q=login&gt;&gt;/universal-credit&gt;&gt;/sign-in-universal-credit</td>\n",
       "      <td>1</td>\n",
       "      <td>20.0</td>\n",
       "      <td>[('desktop', 1)]</td>\n",
       "      <td>[('20181104', 1)]</td>\n",
       "      <td>[(/universal-credit, PAGE&lt;:&lt;NULL&lt;:&lt;NULL), (/search?q=login, PAGE&lt;:&lt;NULL&lt;:&lt;NULL), (/search?q=login, EVENT&lt;:&lt;searchResults&lt;:&lt;resultsShown), (/universal-credit, PAGE&lt;:&lt;NULL&lt;:&lt;NULL), (/universal-credit, EVENT&lt;:&lt;user_satisfaction_survey&lt;:&lt;banner_shown), (/sign-in-universal-credit, PAGE&lt;:&lt;NULL&lt;:&lt;NULL), (/sign-in-universal-credit, EVENT&lt;:&lt;External Link Clicked&lt;:&lt;https://www.universal-credit.service.gov.uk/sign-in)]</td>\n",
       "      <td>[/universal-credit, /search?q=login, /universal-credit, /sign-in-universal-credit]</td>\n",
       "      <td>/universal-credit&gt;&gt;/search?q=login&gt;&gt;/universal-credit&gt;&gt;/sign-in-universal-credit</td>\n",
       "      <td>[('PAGE_NULL', 'PAGE_NULL'), ('PAGE_NULL', 'PAGE_NULL'), ('searchResults', 'resultsShown'), ('PAGE_NULL', 'PAGE_NULL'), ('user_satisfaction_survey', 'banner_shown'), ('PAGE_NULL', 'PAGE_NULL'), ('External Link Clicked', 'https://www.universal-credit.service.gov.uk/sign-in')]</td>\n",
       "      <td>...</td>\n",
       "      <td>/universal-credit&gt;&gt;/search?q=login&gt;&gt;/universal-credit&gt;&gt;/sign-in-universal-credit</td>\n",
       "      <td>100.0</td>\n",
       "      <td>0</td>\n",
       "      <td>False</td>\n",
       "      <td>0</td>\n",
       "      <td>0</td>\n",
       "      <td>4</td>\n",
       "      <td>4</td>\n",
       "      <td>0</td>\n",
       "      <td>1.0</td>\n",
       "    </tr>\n",
       "    <tr>\n",
       "      <th>2025143</th>\n",
       "      <td>/car-tax-disc-without-v11-reminder&lt;&lt;PAGE&lt;:&lt;NULL&lt;:&lt;NULL&gt;&gt;/search?q=sorn&lt;&lt;EVENT&lt;:&lt;searchResults&lt;:&lt;resultsShown&gt;&gt;/search?q=sorn&lt;&lt;PAGE&lt;:&lt;NULL&lt;:&lt;NULL&gt;&gt;/search?q=sorn&lt;&lt;EVENT&lt;:&lt;UX&lt;:&lt;click&gt;&gt;/make-a-sorn&lt;&lt;PAGE&lt;:&lt;NULL&lt;:&lt;NULL</td>\n",
       "      <td>/car-tax-disc-without-v11-reminder&gt;&gt;/search?q=sorn&gt;&gt;/make-a-sorn</td>\n",
       "      <td>1</td>\n",
       "      <td>12.0</td>\n",
       "      <td>[('desktop', 1)]</td>\n",
       "      <td>[('20181104', 1)]</td>\n",
       "      <td>[(/car-tax-disc-without-v11-reminder, PAGE&lt;:&lt;NULL&lt;:&lt;NULL), (/search?q=sorn, EVENT&lt;:&lt;searchResults&lt;:&lt;resultsShown), (/search?q=sorn, PAGE&lt;:&lt;NULL&lt;:&lt;NULL), (/search?q=sorn, EVENT&lt;:&lt;UX&lt;:&lt;click), (/make-a-sorn, PAGE&lt;:&lt;NULL&lt;:&lt;NULL)]</td>\n",
       "      <td>[/car-tax-disc-without-v11-reminder, /search?q=sorn, /make-a-sorn]</td>\n",
       "      <td>/car-tax-disc-without-v11-reminder&gt;&gt;/search?q=sorn&gt;&gt;/make-a-sorn</td>\n",
       "      <td>[('PAGE_NULL', 'PAGE_NULL'), ('searchResults', 'resultsShown'), ('PAGE_NULL', 'PAGE_NULL'), ('UX', 'click'), ('PAGE_NULL', 'PAGE_NULL')]</td>\n",
       "      <td>...</td>\n",
       "      <td>/car-tax-disc-without-v11-reminder&gt;&gt;/search?q=sorn&gt;&gt;/make-a-sorn</td>\n",
       "      <td>72.0</td>\n",
       "      <td>0</td>\n",
       "      <td>False</td>\n",
       "      <td>0</td>\n",
       "      <td>0</td>\n",
       "      <td>3</td>\n",
       "      <td>3</td>\n",
       "      <td>0</td>\n",
       "      <td>1.0</td>\n",
       "    </tr>\n",
       "    <tr>\n",
       "      <th>2025208</th>\n",
       "      <td>/universal-credit/how-to-claim&lt;&lt;PAGE&lt;:&lt;NULL&lt;:&lt;NULL&gt;&gt;/search?q=sign+in&lt;&lt;PAGE&lt;:&lt;NULL&lt;:&lt;NULL&gt;&gt;/search?q=sign+in&lt;&lt;EVENT&lt;:&lt;searchResults&lt;:&lt;resultsShown&gt;&gt;/sign-in-universal-credit&lt;&lt;PAGE&lt;:&lt;NULL&lt;:&lt;NULL&gt;&gt;/sign-in-universal-credit&lt;&lt;EVENT&lt;:&lt;External Link Clicked&lt;:&lt;https://www.universal-credit.service.gov.uk/sign-in</td>\n",
       "      <td>/universal-credit/how-to-claim&gt;&gt;/search?q=sign+in&gt;&gt;/sign-in-universal-credit</td>\n",
       "      <td>1</td>\n",
       "      <td>17.0</td>\n",
       "      <td>[('mobile', 1)]</td>\n",
       "      <td>[('20181104', 1)]</td>\n",
       "      <td>[(/universal-credit/how-to-claim, PAGE&lt;:&lt;NULL&lt;:&lt;NULL), (/search?q=sign+in, PAGE&lt;:&lt;NULL&lt;:&lt;NULL), (/search?q=sign+in, EVENT&lt;:&lt;searchResults&lt;:&lt;resultsShown), (/sign-in-universal-credit, PAGE&lt;:&lt;NULL&lt;:&lt;NULL), (/sign-in-universal-credit, EVENT&lt;:&lt;External Link Clicked&lt;:&lt;https://www.universal-credit.service.gov.uk/sign-in)]</td>\n",
       "      <td>[/universal-credit/how-to-claim, /search?q=sign+in, /sign-in-universal-credit]</td>\n",
       "      <td>/universal-credit/how-to-claim&gt;&gt;/search?q=sign+in&gt;&gt;/sign-in-universal-credit</td>\n",
       "      <td>[('PAGE_NULL', 'PAGE_NULL'), ('PAGE_NULL', 'PAGE_NULL'), ('searchResults', 'resultsShown'), ('PAGE_NULL', 'PAGE_NULL'), ('External Link Clicked', 'https://www.universal-credit.service.gov.uk/sign-in')]</td>\n",
       "      <td>...</td>\n",
       "      <td>/universal-credit/how-to-claim&gt;&gt;/search?q=sign+in&gt;&gt;/sign-in-universal-credit</td>\n",
       "      <td>51.0</td>\n",
       "      <td>0</td>\n",
       "      <td>False</td>\n",
       "      <td>0</td>\n",
       "      <td>0</td>\n",
       "      <td>3</td>\n",
       "      <td>3</td>\n",
       "      <td>0</td>\n",
       "      <td>1.0</td>\n",
       "    </tr>\n",
       "    <tr>\n",
       "      <th>2025763</th>\n",
       "      <td>/government/publications/cannabis-based-medicines-expert-review-panel/cannabis-and-cannabis-based-medicinal-products&lt;&lt;PAGE&lt;:&lt;NULL&lt;:&lt;NULL&gt;&gt;/government/publications/cannabis-based-medicines-expert-review-panel/cannabis-and-cannabis-based-medicinal-products&lt;&lt;EVENT&lt;:&lt;contentsClicked&lt;:&lt;content_item 6&gt;&gt;/search?q=cannabis&lt;&lt;PAGE&lt;:&lt;NULL&lt;:&lt;NULL&gt;&gt;/search?q=cannabis&lt;&lt;EVENT&lt;:&lt;searchResults&lt;:&lt;resultsShown&gt;&gt;/government/publications/industrial-hemp-licensing-guidance&lt;&lt;PAGE&lt;:&lt;NULL&lt;:&lt;NULL</td>\n",
       "      <td>/government/publications/cannabis-based-medicines-expert-review-panel/cannabis-and-cannabis-based-medicinal-products&gt;&gt;/search?q=cannabis&gt;&gt;/government/publications/industrial-hemp-licensing-guidance</td>\n",
       "      <td>1</td>\n",
       "      <td>2.0</td>\n",
       "      <td>[('desktop', 1)]</td>\n",
       "      <td>[('20181104', 1)]</td>\n",
       "      <td>[(/government/publications/cannabis-based-medicines-expert-review-panel/cannabis-and-cannabis-based-medicinal-products, PAGE&lt;:&lt;NULL&lt;:&lt;NULL), (/government/publications/cannabis-based-medicines-expert-review-panel/cannabis-and-cannabis-based-medicinal-products, EVENT&lt;:&lt;contentsClicked&lt;:&lt;content_item 6), (/search?q=cannabis, PAGE&lt;:&lt;NULL&lt;:&lt;NULL), (/search?q=cannabis, EVENT&lt;:&lt;searchResults&lt;:&lt;resultsShown), (/government/publications/industrial-hemp-licensing-guidance, PAGE&lt;:&lt;NULL&lt;:&lt;NULL)]</td>\n",
       "      <td>[/government/publications/cannabis-based-medicines-expert-review-panel/cannabis-and-cannabis-based-medicinal-products, /search?q=cannabis, /government/publications/industrial-hemp-licensing-guidance]</td>\n",
       "      <td>/government/publications/cannabis-based-medicines-expert-review-panel/cannabis-and-cannabis-based-medicinal-products&gt;&gt;/search?q=cannabis&gt;&gt;/government/publications/industrial-hemp-licensing-guidance</td>\n",
       "      <td>[('PAGE_NULL', 'PAGE_NULL'), ('contentsClicked', 'content_item 6'), ('PAGE_NULL', 'PAGE_NULL'), ('searchResults', 'resultsShown'), ('PAGE_NULL', 'PAGE_NULL')]</td>\n",
       "      <td>...</td>\n",
       "      <td>/government/publications/cannabis-based-medicines-expert-review-panel/cannabis-and-cannabis-based-medicinal-products&gt;&gt;/search?q=cannabis&gt;&gt;/government/publications/industrial-hemp-licensing-guidance</td>\n",
       "      <td>4.0</td>\n",
       "      <td>0</td>\n",
       "      <td>False</td>\n",
       "      <td>0</td>\n",
       "      <td>0</td>\n",
       "      <td>3</td>\n",
       "      <td>3</td>\n",
       "      <td>0</td>\n",
       "      <td>1.0</td>\n",
       "    </tr>\n",
       "    <tr>\n",
       "      <th>2028146</th>\n",
       "      <td>/get-tax-free-childcare&lt;&lt;PAGE&lt;:&lt;NULL&lt;:&lt;NULL&gt;&gt;/get-tax-free-childcare&lt;&lt;EVENT&lt;:&lt;pageElementInteraction&lt;:&lt;stepNavShown&gt;&gt;/search?q=childcare+account&lt;&lt;PAGE&lt;:&lt;NULL&lt;:&lt;NULL&gt;&gt;/search?q=childcare+account&lt;&lt;EVENT&lt;:&lt;searchResults&lt;:&lt;resultsShown&gt;&gt;/search?q=childcare+account&lt;&lt;EVENT&lt;:&lt;UX&lt;:&lt;click&gt;&gt;/sign-in-childcare-account&lt;&lt;PAGE&lt;:&lt;NULL&lt;:&lt;NULL&gt;&gt;/sign-in-childcare-account&lt;&lt;EVENT&lt;:&lt;External Link Clicked&lt;:&lt;https://childcare-support.tax.service.gov.uk/par/app/trialmessage?_ga=2.252221577.1095526651.1541330925-19...</td>\n",
       "      <td>/get-tax-free-childcare&gt;&gt;/search?q=childcare+account&gt;&gt;/sign-in-childcare-account&gt;&gt;/get-tax-free-childcare&gt;&gt;/search?q=childcare+account&gt;&gt;/sign-in-childcare-account</td>\n",
       "      <td>1</td>\n",
       "      <td>2.0</td>\n",
       "      <td>[('desktop', 1)]</td>\n",
       "      <td>[('20181104', 1)]</td>\n",
       "      <td>[(/get-tax-free-childcare, PAGE&lt;:&lt;NULL&lt;:&lt;NULL), (/get-tax-free-childcare, EVENT&lt;:&lt;pageElementInteraction&lt;:&lt;stepNavShown), (/search?q=childcare+account, PAGE&lt;:&lt;NULL&lt;:&lt;NULL), (/search?q=childcare+account, EVENT&lt;:&lt;searchResults&lt;:&lt;resultsShown), (/search?q=childcare+account, EVENT&lt;:&lt;UX&lt;:&lt;click), (/sign-in-childcare-account, PAGE&lt;:&lt;NULL&lt;:&lt;NULL), (/sign-in-childcare-account, EVENT&lt;:&lt;External Link Clicked&lt;:&lt;https://childcare-support.tax.service.gov.uk/par/app/trialmessage?_ga=2.252221577.1095526651...</td>\n",
       "      <td>[/get-tax-free-childcare, /search?q=childcare+account, /sign-in-childcare-account, /get-tax-free-childcare, /search?q=childcare+account, /sign-in-childcare-account]</td>\n",
       "      <td>/get-tax-free-childcare&gt;&gt;/search?q=childcare+account&gt;&gt;/sign-in-childcare-account&gt;&gt;/get-tax-free-childcare&gt;&gt;/search?q=childcare+account&gt;&gt;/sign-in-childcare-account</td>\n",
       "      <td>[('PAGE_NULL', 'PAGE_NULL'), ('pageElementInteraction', 'stepNavShown'), ('PAGE_NULL', 'PAGE_NULL'), ('searchResults', 'resultsShown'), ('UX', 'click'), ('PAGE_NULL', 'PAGE_NULL'), ('External Link Clicked', 'https://childcare-support.tax.service.gov.uk/par/app/trialmessage?_ga=2.252221577.1095526651.1541330925-1966846392.1530449164'), ('PAGE_NULL', 'PAGE_NULL'), ('PAGE_NULL', 'PAGE_NULL'), ('searchResults', 'resultsShown'), ('UX', 'click'), ('PAGE_NULL', 'PAGE_NULL'), ('External Link Clicked...</td>\n",
       "      <td>...</td>\n",
       "      <td>/get-tax-free-childcare&gt;&gt;/search?q=childcare+account&gt;&gt;/sign-in-childcare-account&gt;&gt;/get-tax-free-childcare&gt;&gt;/search?q=childcare+account&gt;&gt;/sign-in-childcare-account</td>\n",
       "      <td>4.0</td>\n",
       "      <td>0</td>\n",
       "      <td>False</td>\n",
       "      <td>0</td>\n",
       "      <td>0</td>\n",
       "      <td>6</td>\n",
       "      <td>6</td>\n",
       "      <td>0</td>\n",
       "      <td>1.0</td>\n",
       "    </tr>\n",
       "    <tr>\n",
       "      <th>2029554</th>\n",
       "      <td>/government/consultations/general-data-protection-regulation-call-for-views&lt;&lt;PAGE&lt;:&lt;NULL&lt;:&lt;NULL&gt;&gt;/search?q=gdpr&lt;&lt;EVENT&lt;:&lt;user_satisfaction_survey&lt;:&lt;banner_shown&gt;&gt;/search?q=gdpr&lt;&lt;PAGE&lt;:&lt;NULL&lt;:&lt;NULL&gt;&gt;/search?q=gdpr&lt;&lt;EVENT&lt;:&lt;searchResults&lt;:&lt;resultsShown&gt;&gt;/search?q=gdpr&lt;&lt;EVENT&lt;:&lt;UX&lt;:&lt;click&gt;&gt;/government/publications/guide-to-the-general-data-protection-regulation&lt;&lt;PAGE&lt;:&lt;NULL&lt;:&lt;NULL&gt;&gt;/government/publications/guide-to-the-general-data-protection-regulation&lt;&lt;EVENT&lt;:&lt;Download Link Clicked&lt;:&lt;/governm...</td>\n",
       "      <td>/government/consultations/general-data-protection-regulation-call-for-views&gt;&gt;/search?q=gdpr&gt;&gt;/government/publications/guide-to-the-general-data-protection-regulation</td>\n",
       "      <td>1</td>\n",
       "      <td>4.0</td>\n",
       "      <td>[('desktop', 1)]</td>\n",
       "      <td>[('20181104', 1)]</td>\n",
       "      <td>[(/government/consultations/general-data-protection-regulation-call-for-views, PAGE&lt;:&lt;NULL&lt;:&lt;NULL), (/search?q=gdpr, EVENT&lt;:&lt;user_satisfaction_survey&lt;:&lt;banner_shown), (/search?q=gdpr, PAGE&lt;:&lt;NULL&lt;:&lt;NULL), (/search?q=gdpr, EVENT&lt;:&lt;searchResults&lt;:&lt;resultsShown), (/search?q=gdpr, EVENT&lt;:&lt;UX&lt;:&lt;click), (/government/publications/guide-to-the-general-data-protection-regulation, PAGE&lt;:&lt;NULL&lt;:&lt;NULL), (/government/publications/guide-to-the-general-data-protection-regulation, EVENT&lt;:&lt;Download Link Clic...</td>\n",
       "      <td>[/government/consultations/general-data-protection-regulation-call-for-views, /search?q=gdpr, /government/publications/guide-to-the-general-data-protection-regulation]</td>\n",
       "      <td>/government/consultations/general-data-protection-regulation-call-for-views&gt;&gt;/search?q=gdpr&gt;&gt;/government/publications/guide-to-the-general-data-protection-regulation</td>\n",
       "      <td>[('PAGE_NULL', 'PAGE_NULL'), ('user_satisfaction_survey', 'banner_shown'), ('PAGE_NULL', 'PAGE_NULL'), ('searchResults', 'resultsShown'), ('UX', 'click'), ('PAGE_NULL', 'PAGE_NULL'), ('Download Link Clicked', '/government/uploads/system/uploads/attachment_data/file/711097/guide-to-the-general-data-protection-regulation-gdpr-1-0.pdf')]</td>\n",
       "      <td>...</td>\n",
       "      <td>/government/consultations/general-data-protection-regulation-call-for-views&gt;&gt;/search?q=gdpr&gt;&gt;/government/publications/guide-to-the-general-data-protection-regulation</td>\n",
       "      <td>16.0</td>\n",
       "      <td>0</td>\n",
       "      <td>False</td>\n",
       "      <td>0</td>\n",
       "      <td>0</td>\n",
       "      <td>3</td>\n",
       "      <td>3</td>\n",
       "      <td>0</td>\n",
       "      <td>1.0</td>\n",
       "    </tr>\n",
       "    <tr>\n",
       "      <th>2030272</th>\n",
       "      <td>/done/vehicle-tax&lt;&lt;PAGE&lt;:&lt;NULL&lt;:&lt;NULL&gt;&gt;/search?q=sorn&lt;&lt;EVENT&lt;:&lt;searchResults&lt;:&lt;resultsShown&gt;&gt;/search?q=sorn&lt;&lt;EVENT&lt;:&lt;user_satisfaction_survey&lt;:&lt;banner_shown&gt;&gt;/search?q=sorn&lt;&lt;PAGE&lt;:&lt;NULL&lt;:&lt;NULL&gt;&gt;/search?q=sorn&lt;&lt;EVENT&lt;:&lt;UX&lt;:&lt;click&gt;&gt;/make-a-sorn&lt;&lt;PAGE&lt;:&lt;NULL&lt;:&lt;NULL&gt;&gt;/make-a-sorn&lt;&lt;EVENT&lt;:&lt;External Link Clicked&lt;:&lt;https://www.sorn.service.gov.uk</td>\n",
       "      <td>/done/vehicle-tax&gt;&gt;/search?q=sorn&gt;&gt;/make-a-sorn</td>\n",
       "      <td>1</td>\n",
       "      <td>109.0</td>\n",
       "      <td>[('desktop', 1)]</td>\n",
       "      <td>[('20181104', 1)]</td>\n",
       "      <td>[(/done/vehicle-tax, PAGE&lt;:&lt;NULL&lt;:&lt;NULL), (/search?q=sorn, EVENT&lt;:&lt;searchResults&lt;:&lt;resultsShown), (/search?q=sorn, EVENT&lt;:&lt;user_satisfaction_survey&lt;:&lt;banner_shown), (/search?q=sorn, PAGE&lt;:&lt;NULL&lt;:&lt;NULL), (/search?q=sorn, EVENT&lt;:&lt;UX&lt;:&lt;click), (/make-a-sorn, PAGE&lt;:&lt;NULL&lt;:&lt;NULL), (/make-a-sorn, EVENT&lt;:&lt;External Link Clicked&lt;:&lt;https://www.sorn.service.gov.uk)]</td>\n",
       "      <td>[/done/vehicle-tax, /search?q=sorn, /make-a-sorn]</td>\n",
       "      <td>/done/vehicle-tax&gt;&gt;/search?q=sorn&gt;&gt;/make-a-sorn</td>\n",
       "      <td>[('PAGE_NULL', 'PAGE_NULL'), ('searchResults', 'resultsShown'), ('user_satisfaction_survey', 'banner_shown'), ('PAGE_NULL', 'PAGE_NULL'), ('UX', 'click'), ('PAGE_NULL', 'PAGE_NULL'), ('External Link Clicked', 'https://www.sorn.service.gov.uk')]</td>\n",
       "      <td>...</td>\n",
       "      <td>/done/vehicle-tax&gt;&gt;/search?q=sorn&gt;&gt;/make-a-sorn</td>\n",
       "      <td>1104.0</td>\n",
       "      <td>0</td>\n",
       "      <td>False</td>\n",
       "      <td>0</td>\n",
       "      <td>0</td>\n",
       "      <td>3</td>\n",
       "      <td>3</td>\n",
       "      <td>0</td>\n",
       "      <td>1.0</td>\n",
       "    </tr>\n",
       "    <tr>\n",
       "      <th>2031478</th>\n",
       "      <td>/government/publications/self-assessment-register-a-partnership-for-self-assessment-sa400&lt;&lt;PAGE&lt;:&lt;NULL&lt;:&lt;NULL&gt;&gt;/search?q=sa401&lt;&lt;PAGE&lt;:&lt;NULL&lt;:&lt;NULL&gt;&gt;/search?q=sa401&lt;&lt;EVENT&lt;:&lt;searchResults&lt;:&lt;resultsShown&gt;&gt;/government/publications/self-assessment-register-a-partner-for-self-assessment-and-class-2-nics-sa401&lt;&lt;PAGE&lt;:&lt;NULL&lt;:&lt;NULL&gt;&gt;/government/publications/self-assessment-register-a-partner-for-self-assessment-and-class-2-nics-sa401&lt;&lt;EVENT&lt;:&lt;External Link Clicked&lt;:&lt;https://public-online.hmrc.gov.uk...</td>\n",
       "      <td>/government/publications/self-assessment-register-a-partnership-for-self-assessment-sa400&gt;&gt;/search?q=sa401&gt;&gt;/government/publications/self-assessment-register-a-partner-for-self-assessment-and-class-2-nics-sa401</td>\n",
       "      <td>1</td>\n",
       "      <td>2.0</td>\n",
       "      <td>[('desktop', 1)]</td>\n",
       "      <td>[('20181104', 1)]</td>\n",
       "      <td>[(/government/publications/self-assessment-register-a-partnership-for-self-assessment-sa400, PAGE&lt;:&lt;NULL&lt;:&lt;NULL), (/search?q=sa401, PAGE&lt;:&lt;NULL&lt;:&lt;NULL), (/search?q=sa401, EVENT&lt;:&lt;searchResults&lt;:&lt;resultsShown), (/government/publications/self-assessment-register-a-partner-for-self-assessment-and-class-2-nics-sa401, PAGE&lt;:&lt;NULL&lt;:&lt;NULL), (/government/publications/self-assessment-register-a-partner-for-self-assessment-and-class-2-nics-sa401, EVENT&lt;:&lt;External Link Clicked&lt;:&lt;https://public-online.h...</td>\n",
       "      <td>[/government/publications/self-assessment-register-a-partnership-for-self-assessment-sa400, /search?q=sa401, /government/publications/self-assessment-register-a-partner-for-self-assessment-and-class-2-nics-sa401]</td>\n",
       "      <td>/government/publications/self-assessment-register-a-partnership-for-self-assessment-sa400&gt;&gt;/search?q=sa401&gt;&gt;/government/publications/self-assessment-register-a-partner-for-self-assessment-and-class-2-nics-sa401</td>\n",
       "      <td>[('PAGE_NULL', 'PAGE_NULL'), ('PAGE_NULL', 'PAGE_NULL'), ('searchResults', 'resultsShown'), ('PAGE_NULL', 'PAGE_NULL'), ('External Link Clicked', 'https://public-online.hmrc.gov.uk/lc/content/xfaforms/profiles/forms.html?contentRoot=repository:///Applications/SA_iForms/1.0/SA401_20167&amp;template=SA401_en_1.0.xdp')]</td>\n",
       "      <td>...</td>\n",
       "      <td>/government/publications/self-assessment-register-a-partnership-for-self-assessment-sa400&gt;&gt;/search?q=sa401&gt;&gt;/government/publications/self-assessment-register-a-partner-for-self-assessment-and-class-2-nics-sa401</td>\n",
       "      <td>8.0</td>\n",
       "      <td>0</td>\n",
       "      <td>False</td>\n",
       "      <td>0</td>\n",
       "      <td>0</td>\n",
       "      <td>3</td>\n",
       "      <td>3</td>\n",
       "      <td>0</td>\n",
       "      <td>1.0</td>\n",
       "    </tr>\n",
       "    <tr>\n",
       "      <th>2031954</th>\n",
       "      <td>/tax-overpayments-and-underpayments&lt;&lt;PAGE&lt;:&lt;NULL&lt;:&lt;NULL&gt;&gt;/search?q=personal+tax+account&lt;&lt;EVENT&lt;:&lt;user_satisfaction_survey&lt;:&lt;banner_shown&gt;&gt;/search?q=personal+tax+account&lt;&lt;PAGE&lt;:&lt;NULL&lt;:&lt;NULL&gt;&gt;/search?q=personal+tax+account&lt;&lt;EVENT&lt;:&lt;searchResults&lt;:&lt;resultsShown&gt;&gt;/search?q=personal+tax+account&lt;&lt;EVENT&lt;:&lt;UX&lt;:&lt;click&gt;&gt;/personal-tax-account&lt;&lt;PAGE&lt;:&lt;NULL&lt;:&lt;NULL&gt;&gt;/personal-tax-account/sign-in/prove-identity&lt;&lt;PAGE&lt;:&lt;NULL&lt;:&lt;NULL&gt;&gt;/personal-tax-account/sign-in/prove-identity&lt;&lt;EVENT&lt;:&lt;Radio button chosen&lt;:...</td>\n",
       "      <td>/tax-overpayments-and-underpayments&gt;&gt;/search?q=personal+tax+account&gt;&gt;/personal-tax-account&gt;&gt;/personal-tax-account/sign-in/prove-identity</td>\n",
       "      <td>1</td>\n",
       "      <td>5.0</td>\n",
       "      <td>[('desktop', 1)]</td>\n",
       "      <td>[('20181104', 1)]</td>\n",
       "      <td>[(/tax-overpayments-and-underpayments, PAGE&lt;:&lt;NULL&lt;:&lt;NULL), (/search?q=personal+tax+account, EVENT&lt;:&lt;user_satisfaction_survey&lt;:&lt;banner_shown), (/search?q=personal+tax+account, PAGE&lt;:&lt;NULL&lt;:&lt;NULL), (/search?q=personal+tax+account, EVENT&lt;:&lt;searchResults&lt;:&lt;resultsShown), (/search?q=personal+tax+account, EVENT&lt;:&lt;UX&lt;:&lt;click), (/personal-tax-account, PAGE&lt;:&lt;NULL&lt;:&lt;NULL), (/personal-tax-account/sign-in/prove-identity, PAGE&lt;:&lt;NULL&lt;:&lt;NULL), (/personal-tax-account/sign-in/prove-identity, EVENT&lt;:&lt;Radio...</td>\n",
       "      <td>[/tax-overpayments-and-underpayments, /search?q=personal+tax+account, /personal-tax-account, /personal-tax-account/sign-in/prove-identity]</td>\n",
       "      <td>/tax-overpayments-and-underpayments&gt;&gt;/search?q=personal+tax+account&gt;&gt;/personal-tax-account&gt;&gt;/personal-tax-account/sign-in/prove-identity</td>\n",
       "      <td>[('PAGE_NULL', 'PAGE_NULL'), ('user_satisfaction_survey', 'banner_shown'), ('PAGE_NULL', 'PAGE_NULL'), ('searchResults', 'resultsShown'), ('UX', 'click'), ('PAGE_NULL', 'PAGE_NULL'), ('PAGE_NULL', 'PAGE_NULL'), ('Radio button chosen', 'sign-in-with-government-gateway')]</td>\n",
       "      <td>...</td>\n",
       "      <td>/tax-overpayments-and-underpayments&gt;&gt;/search?q=personal+tax+account&gt;&gt;/personal-tax-account&gt;&gt;/personal-tax-account/sign-in/prove-identity</td>\n",
       "      <td>10.0</td>\n",
       "      <td>0</td>\n",
       "      <td>False</td>\n",
       "      <td>0</td>\n",
       "      <td>0</td>\n",
       "      <td>4</td>\n",
       "      <td>4</td>\n",
       "      <td>0</td>\n",
       "      <td>1.0</td>\n",
       "    </tr>\n",
       "    <tr>\n",
       "      <th>2032341</th>\n",
       "      <td>/stamp-duty-land-tax&lt;&lt;PAGE&lt;:&lt;NULL&lt;:&lt;NULL&gt;&gt;/search?q=stamp+duty+calculator&lt;&lt;PAGE&lt;:&lt;NULL&lt;:&lt;NULL&gt;&gt;/search?q=stamp+duty+calculator&lt;&lt;EVENT&lt;:&lt;searchResults&lt;:&lt;resultsShown&gt;&gt;/search?q=stamp+duty+calculator&lt;&lt;EVENT&lt;:&lt;UX&lt;:&lt;click&gt;&gt;/stamp-duty-land-tax&lt;&lt;PAGE&lt;:&lt;NULL&lt;:&lt;NULL&gt;&gt;/stamp-duty-land-tax&lt;&lt;EVENT&lt;:&lt;External Link Clicked&lt;:&lt;https://www.tax.service.gov.uk/calculate-stamp-duty-land-tax/</td>\n",
       "      <td>/stamp-duty-land-tax&gt;&gt;/search?q=stamp+duty+calculator&gt;&gt;/stamp-duty-land-tax</td>\n",
       "      <td>1</td>\n",
       "      <td>2.0</td>\n",
       "      <td>[('desktop', 1)]</td>\n",
       "      <td>[('20181104', 1)]</td>\n",
       "      <td>[(/stamp-duty-land-tax, PAGE&lt;:&lt;NULL&lt;:&lt;NULL), (/search?q=stamp+duty+calculator, PAGE&lt;:&lt;NULL&lt;:&lt;NULL), (/search?q=stamp+duty+calculator, EVENT&lt;:&lt;searchResults&lt;:&lt;resultsShown), (/search?q=stamp+duty+calculator, EVENT&lt;:&lt;UX&lt;:&lt;click), (/stamp-duty-land-tax, PAGE&lt;:&lt;NULL&lt;:&lt;NULL), (/stamp-duty-land-tax, EVENT&lt;:&lt;External Link Clicked&lt;:&lt;https://www.tax.service.gov.uk/calculate-stamp-duty-land-tax/)]</td>\n",
       "      <td>[/stamp-duty-land-tax, /search?q=stamp+duty+calculator, /stamp-duty-land-tax]</td>\n",
       "      <td>/stamp-duty-land-tax&gt;&gt;/search?q=stamp+duty+calculator&gt;&gt;/stamp-duty-land-tax</td>\n",
       "      <td>[('PAGE_NULL', 'PAGE_NULL'), ('PAGE_NULL', 'PAGE_NULL'), ('searchResults', 'resultsShown'), ('UX', 'click'), ('PAGE_NULL', 'PAGE_NULL'), ('External Link Clicked', 'https://www.tax.service.gov.uk/calculate-stamp-duty-land-tax/')]</td>\n",
       "      <td>...</td>\n",
       "      <td>/stamp-duty-land-tax&gt;&gt;/search?q=stamp+duty+calculator&gt;&gt;/stamp-duty-land-tax</td>\n",
       "      <td>4.0</td>\n",
       "      <td>0</td>\n",
       "      <td>False</td>\n",
       "      <td>0</td>\n",
       "      <td>0</td>\n",
       "      <td>3</td>\n",
       "      <td>3</td>\n",
       "      <td>0</td>\n",
       "      <td>1.0</td>\n",
       "    </tr>\n",
       "    <tr>\n",
       "      <th>2032893</th>\n",
       "      <td>/electoral-register/view-electoral-register&lt;&lt;PAGE&lt;:&lt;NULL&lt;:&lt;NULL&gt;&gt;/search?q=[postcode]&lt;&lt;PAGE&lt;:&lt;NULL&lt;:&lt;NULL&gt;&gt;/search?q=[postcode]&lt;&lt;EVENT&lt;:&lt;searchResults&lt;:&lt;resultsShown</td>\n",
       "      <td>/electoral-register/view-electoral-register&gt;&gt;/search?q=[postcode]</td>\n",
       "      <td>1</td>\n",
       "      <td>2.0</td>\n",
       "      <td>[('desktop', 1)]</td>\n",
       "      <td>[('20181104', 1)]</td>\n",
       "      <td>[(/electoral-register/view-electoral-register, PAGE&lt;:&lt;NULL&lt;:&lt;NULL), (/search?q=[postcode], PAGE&lt;:&lt;NULL&lt;:&lt;NULL), (/search?q=[postcode], EVENT&lt;:&lt;searchResults&lt;:&lt;resultsShown)]</td>\n",
       "      <td>[/electoral-register/view-electoral-register, /search?q=[postcode]]</td>\n",
       "      <td>/electoral-register/view-electoral-register&gt;&gt;/search?q=[postcode]</td>\n",
       "      <td>[('PAGE_NULL', 'PAGE_NULL'), ('PAGE_NULL', 'PAGE_NULL'), ('searchResults', 'resultsShown')]</td>\n",
       "      <td>...</td>\n",
       "      <td>/electoral-register/view-electoral-register&gt;&gt;/search?q=[postcode]</td>\n",
       "      <td>4.0</td>\n",
       "      <td>0</td>\n",
       "      <td>False</td>\n",
       "      <td>0</td>\n",
       "      <td>0</td>\n",
       "      <td>2</td>\n",
       "      <td>2</td>\n",
       "      <td>0</td>\n",
       "      <td>1.0</td>\n",
       "    </tr>\n",
       "    <tr>\n",
       "      <th>2033111</th>\n",
       "      <td>/check-mot-history&lt;&lt;PAGE&lt;:&lt;NULL&lt;:&lt;NULL&gt;&gt;/search?q=[postcode]v&lt;&lt;PAGE&lt;:&lt;NULL&lt;:&lt;NULL&gt;&gt;/check-mot-history&lt;&lt;PAGE&lt;:&lt;NULL&lt;:&lt;NULL&gt;&gt;/check-mot-history&lt;&lt;EVENT&lt;:&lt;External Link Clicked&lt;:&lt;https://www.check-mot.service.gov.uk/?_ga=2.177900647.3309350.1541346372-1978965151.1532933332</td>\n",
       "      <td>/check-mot-history&gt;&gt;/search?q=[postcode]v&gt;&gt;/check-mot-history</td>\n",
       "      <td>1</td>\n",
       "      <td>3.0</td>\n",
       "      <td>[('mobile', 1)]</td>\n",
       "      <td>[('20181104', 1)]</td>\n",
       "      <td>[(/check-mot-history, PAGE&lt;:&lt;NULL&lt;:&lt;NULL), (/search?q=[postcode]v, PAGE&lt;:&lt;NULL&lt;:&lt;NULL), (/check-mot-history, PAGE&lt;:&lt;NULL&lt;:&lt;NULL), (/check-mot-history, EVENT&lt;:&lt;External Link Clicked&lt;:&lt;https://www.check-mot.service.gov.uk/?_ga=2.177900647.3309350.1541346372-1978965151.1532933332)]</td>\n",
       "      <td>[/check-mot-history, /search?q=[postcode]v, /check-mot-history]</td>\n",
       "      <td>/check-mot-history&gt;&gt;/search?q=[postcode]v&gt;&gt;/check-mot-history</td>\n",
       "      <td>[('PAGE_NULL', 'PAGE_NULL'), ('PAGE_NULL', 'PAGE_NULL'), ('PAGE_NULL', 'PAGE_NULL'), ('External Link Clicked', 'https://www.check-mot.service.gov.uk/?_ga=2.177900647.3309350.1541346372-1978965151.1532933332')]</td>\n",
       "      <td>...</td>\n",
       "      <td>/check-mot-history&gt;&gt;/search?q=[postcode]v&gt;&gt;/check-mot-history</td>\n",
       "      <td>9.0</td>\n",
       "      <td>0</td>\n",
       "      <td>False</td>\n",
       "      <td>0</td>\n",
       "      <td>0</td>\n",
       "      <td>3</td>\n",
       "      <td>3</td>\n",
       "      <td>0</td>\n",
       "      <td>1.0</td>\n",
       "    </tr>\n",
       "    <tr>\n",
       "      <th>2033638</th>\n",
       "      <td>/check-mot-history&lt;&lt;PAGE&lt;:&lt;NULL&lt;:&lt;NULL&gt;&gt;/search?q=&lt;&lt;PAGE&lt;:&lt;NULL&lt;:&lt;NULL&gt;&gt;/check-mot-history&lt;&lt;EVENT&lt;:&lt;External Link Clicked&lt;:&lt;https://www.check-mot.service.gov.uk/?_ga=2.209433874.1077758653.1541368701-1985921529.1456347816</td>\n",
       "      <td>/check-mot-history&gt;&gt;/search?q=</td>\n",
       "      <td>1</td>\n",
       "      <td>3.0</td>\n",
       "      <td>[('desktop', 1)]</td>\n",
       "      <td>[('20181104', 1)]</td>\n",
       "      <td>[(/check-mot-history, PAGE&lt;:&lt;NULL&lt;:&lt;NULL), (/search?q=, PAGE&lt;:&lt;NULL&lt;:&lt;NULL), (/check-mot-history, EVENT&lt;:&lt;External Link Clicked&lt;:&lt;https://www.check-mot.service.gov.uk/?_ga=2.209433874.1077758653.1541368701-1985921529.1456347816)]</td>\n",
       "      <td>[/check-mot-history, /search?q=]</td>\n",
       "      <td>/check-mot-history&gt;&gt;/search?q=</td>\n",
       "      <td>[('PAGE_NULL', 'PAGE_NULL'), ('PAGE_NULL', 'PAGE_NULL'), ('External Link Clicked', 'https://www.check-mot.service.gov.uk/?_ga=2.209433874.1077758653.1541368701-1985921529.1456347816')]</td>\n",
       "      <td>...</td>\n",
       "      <td>/check-mot-history&gt;&gt;/search?q=</td>\n",
       "      <td>9.0</td>\n",
       "      <td>0</td>\n",
       "      <td>False</td>\n",
       "      <td>0</td>\n",
       "      <td>0</td>\n",
       "      <td>2</td>\n",
       "      <td>2</td>\n",
       "      <td>0</td>\n",
       "      <td>1.0</td>\n",
       "    </tr>\n",
       "    <tr>\n",
       "      <th>2034272</th>\n",
       "      <td>/done/vehicle-tax&lt;&lt;PAGE&lt;:&lt;NULL&lt;:&lt;NULL&gt;&gt;/search?q=cancel+tax&lt;&lt;EVENT&lt;:&lt;searchResults&lt;:&lt;resultsShown&gt;&gt;/search?q=cancel+tax&lt;&lt;EVENT&lt;:&lt;user_satisfaction_survey&lt;:&lt;banner_shown&gt;&gt;/search?q=cancel+tax&lt;&lt;PAGE&lt;:&lt;NULL&lt;:&lt;NULL&gt;&gt;/search?q=cancel+tax&lt;&lt;EVENT&lt;:&lt;UX&lt;:&lt;click&gt;&gt;/vehicle-tax-refund&lt;&lt;PAGE&lt;:&lt;NULL&lt;:&lt;NULL&gt;&gt;/vehicle-tax-refund&lt;&lt;EVENT&lt;:&lt;user_satisfaction_survey&lt;:&lt;banner_shown&gt;&gt;/sold-bought-vehicle&lt;&lt;PAGE&lt;:&lt;NULL&lt;:&lt;NULL&gt;&gt;/sold-bought-vehicle/y&lt;&lt;PAGE&lt;:&lt;NULL&lt;:&lt;NULL&gt;&gt;/sold-bought-vehicle/y/yes&lt;&lt;PAGE&lt;:&lt;NULL&lt;:&lt;NUL...</td>\n",
       "      <td>/done/vehicle-tax&gt;&gt;/search?q=cancel+tax&gt;&gt;/vehicle-tax-refund&gt;&gt;/sold-bought-vehicle&gt;&gt;/sold-bought-vehicle/y&gt;&gt;/sold-bought-vehicle/y/yes&gt;&gt;/sold-bought-vehicle/y/yes/bought-a-vehicle-into-the-trade</td>\n",
       "      <td>1</td>\n",
       "      <td>6.0</td>\n",
       "      <td>[('desktop', 1)]</td>\n",
       "      <td>[('20181104', 1)]</td>\n",
       "      <td>[(/done/vehicle-tax, PAGE&lt;:&lt;NULL&lt;:&lt;NULL), (/search?q=cancel+tax, EVENT&lt;:&lt;searchResults&lt;:&lt;resultsShown), (/search?q=cancel+tax, EVENT&lt;:&lt;user_satisfaction_survey&lt;:&lt;banner_shown), (/search?q=cancel+tax, PAGE&lt;:&lt;NULL&lt;:&lt;NULL), (/search?q=cancel+tax, EVENT&lt;:&lt;UX&lt;:&lt;click), (/vehicle-tax-refund, PAGE&lt;:&lt;NULL&lt;:&lt;NULL), (/vehicle-tax-refund, EVENT&lt;:&lt;user_satisfaction_survey&lt;:&lt;banner_shown), (/sold-bought-vehicle, PAGE&lt;:&lt;NULL&lt;:&lt;NULL), (/sold-bought-vehicle/y, PAGE&lt;:&lt;NULL&lt;:&lt;NULL), (/sold-bought-vehicle/y/ye...</td>\n",
       "      <td>[/done/vehicle-tax, /search?q=cancel+tax, /vehicle-tax-refund, /sold-bought-vehicle, /sold-bought-vehicle/y, /sold-bought-vehicle/y/yes, /sold-bought-vehicle/y/yes/bought-a-vehicle-into-the-trade]</td>\n",
       "      <td>/done/vehicle-tax&gt;&gt;/search?q=cancel+tax&gt;&gt;/vehicle-tax-refund&gt;&gt;/sold-bought-vehicle&gt;&gt;/sold-bought-vehicle/y&gt;&gt;/sold-bought-vehicle/y/yes&gt;&gt;/sold-bought-vehicle/y/yes/bought-a-vehicle-into-the-trade</td>\n",
       "      <td>[('PAGE_NULL', 'PAGE_NULL'), ('searchResults', 'resultsShown'), ('user_satisfaction_survey', 'banner_shown'), ('PAGE_NULL', 'PAGE_NULL'), ('UX', 'click'), ('PAGE_NULL', 'PAGE_NULL'), ('user_satisfaction_survey', 'banner_shown'), ('PAGE_NULL', 'PAGE_NULL'), ('PAGE_NULL', 'PAGE_NULL'), ('PAGE_NULL', 'PAGE_NULL'), ('PAGE_NULL', 'PAGE_NULL'), ('Simple Smart Answer', 'Completed'), ('External Link Clicked', 'https://www.buysellvehicle.service.gov.uk/sell-motor-trade/setup-trade-details')]</td>\n",
       "      <td>...</td>\n",
       "      <td>/done/vehicle-tax&gt;&gt;/search?q=cancel+tax&gt;&gt;/vehicle-tax-refund&gt;&gt;/sold-bought-vehicle&gt;&gt;/sold-bought-vehicle/y&gt;&gt;/sold-bought-vehicle/y/yes&gt;&gt;/sold-bought-vehicle/y/yes/bought-a-vehicle-into-the-trade</td>\n",
       "      <td>30.0</td>\n",
       "      <td>0</td>\n",
       "      <td>False</td>\n",
       "      <td>0</td>\n",
       "      <td>0</td>\n",
       "      <td>7</td>\n",
       "      <td>7</td>\n",
       "      <td>0</td>\n",
       "      <td>1.0</td>\n",
       "    </tr>\n",
       "  </tbody>\n",
       "</table>\n",
       "<p>2811 rows × 24 columns</p>\n",
       "</div>"
      ],
      "text/plain": [
       "                                                                                                                                                                                                                                                                                                                                                                                                                                                                                                                    Sequence  \\\n",
       "9086                                                                                                                                                                                                                                                                                                                                                                 /universal-credit<<PAGE<:<NULL<:<NULL>>/search?q=universal+credit<<EVENT<:<searchResults<:<resultsShown>>/search?q=universal+credit<<PAGE<:<NULL<:<NULL   \n",
       "12793                                                                                                                                                                                                                                                                                                                                                /jobsearch<<PAGE<:<NULL<:<NULL>>/search?q=<<PAGE<:<NULL<:<NULL>>/jobsearch<<EVENT<:<External Link Clicked<:<https://findajob.dwp.gov.uk>>/jobsearch<<PAGE<:<NULL<:<NULL   \n",
       "14342                                                                                                                                                                                                                                             /foreign-travel-advice/usa/entry-requirements<<PAGE<:<NULL<:<NULL>>/search?q=esta<<PAGE<:<NULL<:<NULL>>/search?q=esta<<EVENT<:<searchResults<:<resultsShown>>/search?q=esta<<EVENT<:<UX<:<click>>/search?q=esta<<EVENT<:<External Link Clicked<:<https://esta.cbp.dhs.gov/   \n",
       "15128                                                                                                                                                                                                 /vehicle-tax<<PAGE<:<NULL<:<NULL>>/search?q=apprenticeship+<<PAGE<:<NULL<:<NULL>>/search?q=apprenticeship+<<EVENT<:<searchResults<:<resultsShown>>/apply-apprenticeship<<PAGE<:<NULL<:<NULL>>/apply-apprenticeship<<EVENT<:<External Link Clicked<:<https://www.findapprenticeship.service.gov.uk/apprenticeshipsearch   \n",
       "15329                                                                                                                                                                                       /get-vehicle-information-from-dvla<<PAGE<:<NULL<:<NULL>>/search?q=[postcode]h<<PAGE<:<NULL<:<NULL>>/search?q=kw55syh<<EVENT<:<External Link Clicked<:<http://webarchive.nationalarchives.gov.uk/adv_search/?query=[postcode]H>>/search?q=[postcode]h<<PAGE<:<NULL<:<NULL>>/get-vehicle-information-from-dvla<<PAGE<:<NULL<:<NULL   \n",
       "15463                                                                                                                                                                                                                                                                                             /done/make-a-sorn<<PAGE<:<NULL<:<NULL>>/search?q=tax+vehicle<<PAGE<:<NULL<:<NULL>>/search?q=tax+vehicle<<EVENT<:<searchResults<:<resultsShown>>/search?q=tax+vehicle<<EVENT<:<UX<:<click>>/vehicle-tax<<PAGE<:<NULL<:<NULL   \n",
       "16261                                                                                                                                                                           /vehicle-tax<<PAGE<:<NULL<:<NULL>>/search?q=check+vehicle+tax<<PAGE<:<NULL<:<NULL>>/search?q=check+vehicle+tax<<EVENT<:<searchResults<:<resultsShown>>/search?q=check+vehicle+tax<<EVENT<:<UX<:<click>>/check-vehicle-tax<<PAGE<:<NULL<:<NULL>>/check-vehicle-tax<<EVENT<:<External Link Clicked<:<https://www.vehicleenquiry.service.gov.uk   \n",
       "16397                                                                                                                                                                                                /get-vehicle-information-from-dvla<<PAGE<:<NULL<:<NULL>>/search?q=road+tax<<PAGE<:<NULL<:<NULL>>/search?q=road+tax<<EVENT<:<searchResults<:<resultsShown>>/search?q=road+tax<<EVENT<:<UX<:<click>>/vehicle-tax<<PAGE<:<NULL<:<NULL>>/vehicle-tax<<EVENT<:<External Link Clicked<:<https://www.vehicletax.service.gov.uk   \n",
       "16401                                                               /qualify-tax-credits<<PAGE<:<NULL<:<NULL>>/search?q=childcare+account<<PAGE<:<NULL<:<NULL>>/search?q=childcare+account<<EVENT<:<searchResults<:<resultsShown>>/search?q=childcare+account<<EVENT<:<UX<:<click>>/sign-in-childcare-account<<PAGE<:<NULL<:<NULL>>/sign-in-childcare-account<<EVENT<:<External Link Clicked<:<https://childcare-support.tax.service.gov.uk/par/app/trialmessage?_ga=2.255911115.1345202768.1540980008-1635372066.1420521869   \n",
       "16452                                                                                                                                                                                                                          /done/check-vehicle-tax<<PAGE<:<NULL<:<NULL>>/search?q=tax<<PAGE<:<NULL<:<NULL>>/search?q=tax<<EVENT<:<searchResults<:<resultsShown>>/search?q=tax<<EVENT<:<UX<:<click>>/vehicle-tax<<PAGE<:<NULL<:<NULL>>/vehicle-tax<<EVENT<:<External Link Clicked<:<https://www.vehicletax.service.gov.uk   \n",
       "16522                                                          /get-tax-free-childcare<<PAGE<:<NULL<:<NULL>>/search?q=childcare+account+<<PAGE<:<NULL<:<NULL>>/search?q=childcare+account+<<EVENT<:<searchResults<:<resultsShown>>/search?q=childcare+account+<<EVENT<:<UX<:<click>>/sign-in-childcare-account<<PAGE<:<NULL<:<NULL>>/sign-in-childcare-account<<EVENT<:<External Link Clicked<:<https://childcare-support.tax.service.gov.uk/par/app/trialmessage?_ga=2.237803458.371924673.1540980247-1034314404.1540980247   \n",
       "16671                                                                                        /get-tax-free-childcare<<PAGE<:<NULL<:<NULL>>/search?q=sign+in+<<PAGE<:<NULL<:<NULL>>/search?q=sign+in+<<EVENT<:<searchResults<:<resultsShown>>/search?q=sign+in+<<EVENT<:<UX<:<click>>/sign-in-childcare-account<<PAGE<:<NULL<:<NULL>>/sign-in-childcare-account<<EVENT<:<External Link Clicked<:<https://childcare-support.tax.service.gov.uk/par/app/trialmessage?_ga=2.69637072.1318425933.1541026472-1765819500.1527085811   \n",
       "16715                                                                                                                                                                                            /vehicle-insurance/uninsured-vehicles<<PAGE<:<NULL<:<NULL>>/search?q=tax<<PAGE<:<NULL<:<NULL>>/search?q=tax<<EVENT<:<searchResults<:<resultsShown>>/search?q=tax<<EVENT<:<UX<:<click>>/check-vehicle-tax<<PAGE<:<NULL<:<NULL>>/check-vehicle-tax<<EVENT<:<External Link Clicked<:<https://www.vehicleenquiry.service.gov.uk   \n",
       "16760                                                             /get-tax-free-childcare<<PAGE<:<NULL<:<NULL>>/search?q=childcare+account<<PAGE<:<NULL<:<NULL>>/search?q=childcare+account<<EVENT<:<searchResults<:<resultsShown>>/search?q=childcare+account<<EVENT<:<UX<:<click>>/sign-in-childcare-account<<PAGE<:<NULL<:<NULL>>/sign-in-childcare-account<<EVENT<:<External Link Clicked<:<https://childcare-support.tax.service.gov.uk/par/app/trialmessage?_ga=2.195913711.292861643.1540886222-1784675713.1530012053   \n",
       "16872                                                                                        /help-with-childcare-costs<<PAGE<:<NULL<:<NULL>>/search?q=sign+in<<PAGE<:<NULL<:<NULL>>/search?q=sign+in<<EVENT<:<searchResults<:<resultsShown>>/search?q=sign+in<<EVENT<:<UX<:<click>>/sign-in-childcare-account<<PAGE<:<NULL<:<NULL>>/sign-in-childcare-account<<EVENT<:<External Link Clicked<:<https://childcare-support.tax.service.gov.uk/par/app/trialmessage?_ga=2.50487593.1243733197.1540926407-1532434325.1540926407   \n",
       "17099                                                                                                                                                             /personal-tax-account<<PAGE<:<NULL<:<NULL>>/search?q=sign+in<<PAGE<:<NULL<:<NULL>>/search?q=sign+in<<EVENT<:<searchResults<:<resultsShown>>/search?q=sign+in<<EVENT<:<UX<:<click>>/log-in-register-hmrc-online-services<<PAGE<:<NULL<:<NULL>>/log-in-register-hmrc-online-services<<EVENT<:<External Link Clicked<:<https://www.tax.service.gov.uk/account   \n",
       "17172                                                                                                                                                                                      /contact-the-dvla<<PAGE<:<NULL<:<NULL>>/search?q=theory+test<<PAGE<:<NULL<:<NULL>>/search?q=theory+test<<EVENT<:<searchResults<:<resultsShown>>/search?q=theory+test<<EVENT<:<UX<:<click>>/book-theory-test<<PAGE<:<NULL<:<NULL>>/book-theory-test<<EVENT<:<External Link Clicked<:<https://wsr.theorytest.direct.gov.uk/dsa/book   \n",
       "17299                                                        /help-with-childcare-costs<<PAGE<:<NULL<:<NULL>>/search?q=childcare+account+<<PAGE<:<NULL<:<NULL>>/search?q=childcare+account+<<EVENT<:<searchResults<:<resultsShown>>/search?q=childcare+account+<<EVENT<:<UX<:<click>>/sign-in-childcare-account<<PAGE<:<NULL<:<NULL>>/sign-in-childcare-account<<EVENT<:<External Link Clicked<:<https://childcare-support.tax.service.gov.uk/par/app/trialmessage?_ga=2.55874796.693570659.1540920435-1527479287.1538847456   \n",
       "17380                                                                                                           /book-driving-test<<PAGE<:<NULL<:<NULL>>/search?q=cancellation+<<PAGE<:<NULL<:<NULL>>/search?q=cancellation+<<EVENT<:<searchResults<:<resultsShown>>/search?q=cancellation+<<EVENT<:<UX<:<click>>/change-driving-test<<PAGE<:<NULL<:<NULL>>/change-driving-test<<EVENT<:<External Link Clicked<:<https://driverpracticaltest.direct.gov.uk/manage?_ga=2.173247077.772780029.1540944352-1636197093.1540944352   \n",
       "18077                                                                                             /change-theory-test<<PAGE<:<NULL<:<NULL>>/change-theory-test<<EVENT<:<External Link Clicked<:<https://wsr.theorytest.direct.gov.uk/dsa/change>>/search?q=theory<<PAGE<:<NULL<:<NULL>>/search?q=theory<<EVENT<:<searchResults<:<resultsShown>>/search?q=theory<<EVENT<:<UX<:<click>>/book-theory-test<<PAGE<:<NULL<:<NULL>>/book-theory-test<<EVENT<:<External Link Clicked<:<https://wsr.theorytest.direct.gov.uk/dsa/book   \n",
       "18109                                                                                                                                                              /done/vehicle-tax<<PAGE<:<NULL<:<NULL>>/search?q=tax+vehicle+<<PAGE<:<NULL<:<NULL>>/search?q=tax+vehicle+<<EVENT<:<searchResults<:<resultsShown>>/search?q=tax+vehicle+<<EVENT<:<UX<:<click>>/vehicle-tax<<PAGE<:<NULL<:<NULL>>/vehicle-tax<<EVENT<:<External Link Clicked<:<https://www.vehicletax.service.gov.uk>>/done/vehicle-tax<<PAGE<:<NULL<:<NULL   \n",
       "18120            /help-with-childcare-costs<<PAGE<:<NULL<:<NULL>>/search?q=childcare+account<<PAGE<:<NULL<:<NULL>>/search?q=childcare+account<<EVENT<:<searchResults<:<resultsShown>>/search?q=childcare+account<<EVENT<:<UX<:<click>>/sign-in-childcare-account<<PAGE<:<NULL<:<NULL>>/sign-in-childcare-account<<EVENT<:<External Link Clicked<:<https://childcare-support.tax.service.gov.uk/par/app/trialmessage?_ga=2.116305350.1366356854.1540979140-1948015658.1506019607>>/get-tax-free-childcare<<PAGE<:<NULL<:<NULL   \n",
       "18963                                                                                                                                              /vehicle-tax<<PAGE<:<NULL<:<NULL>>/search?q=dorm<<PAGE<:<NULL<:<NULL>>/search?q=dorm<<EVENT<:<searchResults<:<resultsShown>>/search?q=dorm<<PAGE<:<NULL<:<NULL>>/search?q=dorm<<EVENT<:<searchResults<:<resultsShown>>/search?q=dorm<<EVENT<:<UX<:<click>>/make-a-sorn<<PAGE<:<NULL<:<NULL>>/make-a-sorn<<EVENT<:<External Link Clicked<:<https://www.sorn.service.gov.uk   \n",
       "19633                 /government-gateway<<PAGE<:<NULL<:<NULL>>/government-gateway<<EVENT<:<NULL<:<NULL>>/search?q=sign+in<<PAGE<:<NULL<:<NULL>>/search?q=sign+in<<EVENT<:<searchResults<:<resultsShown>>/search?q=sign+in<<EVENT<:<NULL<:<NULL>>/search?q=sign+in<<EVENT<:<UX<:<click>>/log-in-register-hmrc-online-services<<PAGE<:<NULL<:<NULL>>/log-in-register-hmrc-online-services<<EVENT<:<NULL<:<NULL>>/log-in-register-hmrc-online-services<<EVENT<:<External Link Clicked<:<https://www.tax.service.gov.uk/account   \n",
       "19978    /student-finance<<PAGE<:<NULL<:<NULL>>/search?q=login<<PAGE<:<NULL<:<NULL>>/search?q=login<<EVENT<:<searchResults<:<resultsShown>>/search?q=login<<EVENT<:<UX<:<click>>/student-finance-register-login<<PAGE<:<NULL<:<NULL>>/student-finance-register-login<<EVENT<:<External Link Clicked<:<https://www.student-finance.service.gov.uk/customer/home>>/student-finance-register-login<<PAGE<:<NULL<:<NULL>>/search?q=login<<PAGE<:<NULL<:<NULL>>/search?q=login<<EVENT<:<searchResults<:<resultsShown>>/student...   \n",
       "20071    /vehicle-tax<<PAGE<:<NULL<:<NULL>>/vehicle-tax<<EVENT<:<External Link Clicked<:<https://www.vehicletax.service.gov.uk>>/search?q=some<<PAGE<:<NULL<:<NULL>>/search?q=some<<EVENT<:<searchResults<:<resultsShown>>/search?q=sorn+<<PAGE<:<NULL<:<NULL>>/search?q=sorn+<<EVENT<:<searchResults<:<resultsShown>>/search?q=sorn+<<EVENT<:<UX<:<click>>/make-a-sorn<<PAGE<:<NULL<:<NULL>>/make-a-sorn<<EVENT<:<External Link Clicked<:<https://www.sorn.service.gov.uk>>/make-a-sorn<<EVENT<:<External Link Clicked<:...   \n",
       "37543                                                                                                                                                                                                                                                                                                                                                                  /income-tax-rates<<PAGE<:<NULL<:<NULL>>/search?q=income+tax+2019<<EVENT<:<searchResults<:<resultsShown>>/search?q=income+tax+2019<<PAGE<:<NULL<:<NULL   \n",
       "38584                                                                                                                                                                                                                                                                                                                                                   /government/organisations/department-for-education/about<<PAGE<:<NULL<:<NULL>>/search?q=asp<<PAGE<:<NULL<:<NULL>>/search?q=asp<<EVENT<:<searchResults<:<resultsShown   \n",
       "38720                                                                                                                                                                                                                                                                                                                                                                       /winter-fuel-payment<<PAGE<:<NULL<:<NULL>>/search?q=winter+fuel<<EVENT<:<searchResults<:<resultsShown>>/search?q=winter+fuel<<PAGE<:<NULL<:<NULL   \n",
       "44365                                                                                                                                                                                                                                                                                  /contact-pension-service<<EVENT<:<user_satisfaction_survey<:<banner_shown>>/contact-pension-service<<PAGE<:<NULL<:<NULL>>/search?q=change+address<<PAGE<:<NULL<:<NULL>>/search?q=change+address<<EVENT<:<searchResults<:<resultsShown   \n",
       "...                                                                                                                                                                                                                                                                                                                                                                                                                                                                                                                      ...   \n",
       "2000084                                                                                                                                                                                                                                                                               /dbs-check-applicant-criminal-record<<PAGE<:<NULL<:<NULL>>/search?q=dbs<<PAGE<:<NULL<:<NULL>>/search?q=dbs<<EVENT<:<searchResults<:<resultsShown>>/search?q=dbs<<EVENT<:<UX<:<click>>/request-copy-criminal-record<<PAGE<:<NULL<:<NULL   \n",
       "2000158  /guidance/government-gateway-replacement-services-that-have-moved<<PAGE<:<NULL<:<NULL>>/guidance/government-gateway-replacement-services-that-have-moved<<EVENT<:<yesNoFeedbackForm<:<ffNoClick>>/search?q=cis<<PAGE<:<NULL<:<NULL>>/search?q=cis<<EVENT<:<searchResults<:<resultsShown>>/what-is-the-construction-industry-scheme<<PAGE<:<NULL<:<NULL>>/what-is-the-construction-industry-scheme<<EVENT<:<relatedLinkClicked<:<1.2 Related content>>/use-construction-industry-scheme-online<<EVENT<:<user_sati...   \n",
       "2000335                                                                                                                                                                                                                                                                                                                                                                                                                                                     /vehicle-tax<<PAGE<:<NULL<:<NULL>>/search?q=<<PAGE<:<NULL<:<NULL   \n",
       "2001506                                                                                                                                                                                                                                                                                                       /stamp-duty-land-tax<<PAGE<:<NULL<:<NULL>>/search?q=stamp+duty+calculator<<PAGE<:<NULL<:<NULL>>/search?q=stamp+duty+calculator<<EVENT<:<searchResults<:<resultsShown>>/stamp-duty-land-tax<<PAGE<:<NULL<:<NULL   \n",
       "2001675  /vehicle-log-book<<EVENT<:<relatedLinkClicked<:<1.1 Related content>>/change-name-address-v5c<<PAGE<:<NULL<:<NULL>>/search?q=change+of+owner<<PAGE<:<NULL<:<NULL>>/search?q=change+of+owner<<EVENT<:<searchResults<:<resultsShown>>/search?q=change+of+owner<<EVENT<:<UX<:<click>>/sold-bought-vehicle<<PAGE<:<NULL<:<NULL>>/sold-bought-vehicle/y<<PAGE<:<NULL<:<NULL>>/sold-bought-vehicle/y/no<<PAGE<:<NULL<:<NULL>>/sold-bought-vehicle/y/no/put-it-into-someone-else-s-name<<PAGE<:<NULL<:<NULL>>/sold-boug...   \n",
       "2004370                                                                                                                                                                                                                                                                                                                                                                                        /done/vehicle-tax<<PAGE<:<NULL<:<NULL>>/search?q=mot<<PAGE<:<NULL<:<NULL>>/search?q=mot<<EVENT<:<searchResults<:<resultsShown   \n",
       "2007839                                                                    /vehicle-tax<<PAGE<:<NULL<:<NULL>>/search?q=tax+free+childcare<<PAGE<:<NULL<:<NULL>>/search?q=tax+free+childcare<<EVENT<:<searchResults<:<resultsShown>>/search?q=tax+free+childcare<<EVENT<:<UX<:<click>>/sign-in-childcare-account<<PAGE<:<NULL<:<NULL>>/sign-in-childcare-account<<EVENT<:<External Link Clicked<:<https://childcare-support.tax.service.gov.uk/par/app/trialmessage?_ga=2.24217402.1009282267.1541363109-130367817.1507064005   \n",
       "2007983  /government/publications/income-tax-leaving-the-uk-getting-your-tax-right-p85<<PAGE<:<NULL<:<NULL>>/government/publications/income-tax-leaving-the-uk-getting-your-tax-right-p85<<EVENT<:<NULL<:<NULL>>/search?q=p85+form<<PAGE<:<NULL<:<NULL>>/search?q=p85+form<<EVENT<:<searchResults<:<resultsShown>>/search?q=p85+form<<EVENT<:<NULL<:<NULL>>/government/publications/income-tax-leaving-the-uk-getting-your-tax-right-p85<<PAGE<:<NULL<:<NULL>>/government/publications/income-tax-leaving-the-uk-getting-...   \n",
       "2008265                                                                                                                                                                                                                                                  /done/vehicle-tax<<PAGE<:<NULL<:<NULL>>/search?q=mot<<EVENT<:<searchResults<:<resultsShown>>/search?q=mot<<PAGE<:<NULL<:<NULL>>/check-mot-status<<PAGE<:<NULL<:<NULL>>/check-mot-status<<EVENT<:<External Link Clicked<:<https://www.vehicleenquiry.service.gov.uk/   \n",
       "2011601  /book-driving-test<<PAGE<:<NULL<:<NULL>>/search?q=show+me+tell+me<<PAGE<:<NULL<:<NULL>>/search?q=show+me+tell+me<<EVENT<:<searchResults<:<resultsShown>>/search?q=show+me+tell+me<<EVENT<:<UX<:<click>>/government/publications/car-show-me-tell-me-vehicle-safety-questions<<PAGE<:<NULL<:<NULL>>/government/publications/car-show-me-tell-me-vehicle-safety-questions/car-show-me-tell-me-vehicle-safety-questions<<PAGE<:<NULL<:<NULL>>/government/publications/car-show-me-tell-me-vehicle-safety-questions/...   \n",
       "2013116                                                                                                                                                                                                                                                                                                                                                              /getting-an-mot/mot-test-fees<<PAGE<:<NULL<:<NULL>>/search?q=living+van<<EVENT<:<searchResults<:<resultsShown>>/search?q=living+van<<PAGE<:<NULL<:<NULL   \n",
       "2013347                                                       /help-with-childcare-costs<<PAGE<:<NULL<:<NULL>>/search?q=childcare+account<<PAGE<:<NULL<:<NULL>>/search?q=childcare+account<<EVENT<:<searchResults<:<resultsShown>>/search?q=childcare+account<<EVENT<:<UX<:<click>>/sign-in-childcare-account<<PAGE<:<NULL<:<NULL>>/sign-in-childcare-account<<EVENT<:<External Link Clicked<:<https://childcare-support.tax.service.gov.uk/par/app/trialmessage?_ga=2.183673830.1309309953.1541343240-1750456444.1529499803   \n",
       "2015420                                                                                                                                                                                                                                                                                 /check-mot-history<<PAGE<:<NULL<:<NULL>>/search?q=[postcode]j<<PAGE<:<NULL<:<NULL>>/check-mot-history<<EVENT<:<External Link Clicked<:<https://www.check-mot.service.gov.uk/?_ga=2.41178603.811155194.1541329040-94716840.1541329040   \n",
       "2019777                                                                                                                                                                                   /universal-credit<<PAGE<:<NULL<:<NULL>>/search?q=sign<<PAGE<:<NULL<:<NULL>>/search?q=sign<<EVENT<:<searchResults<:<resultsShown>>/search?q=sign<<EVENT<:<UX<:<click>>/sign-in-universal-credit<<PAGE<:<NULL<:<NULL>>/sign-in-universal-credit<<EVENT<:<External Link Clicked<:<https://www.universal-credit.service.gov.uk/sign-in   \n",
       "2020272  /government/organisations/hm-revenue-customs/contact/self-assessment<<PAGE<:<NULL<:<NULL>>/government/organisations/hm-revenue-customs/contact/self-assessment<<EVENT<:<webchat<:<available>>/government/organisations/hm-revenue-customs/contact/self-assessment<<EVENT<:<webchat<:<error>>/government/organisations/hm-revenue-customs/contact/self-assessment<<EVENT<:<webchat<:<available>>/search?q=working+for+yourself<<PAGE<:<NULL<:<NULL>>/search?q=working+for+yourself<<EVENT<:<searchResults<:<resul...   \n",
       "2020548                                               /wills-probate-inheritance/applying-for-a-grant-of-representation<<PAGE<:<NULL<:<NULL>>/search?q=pa3<<PAGE<:<NULL<:<NULL>>/search?q=pa3<<EVENT<:<searchResults<:<resultsShown>>/search?q=pa3<<EVENT<:<UX<:<click>>/government/publications/probate-fees-from-april-2014-pa3<<PAGE<:<NULL<:<NULL>>/government/publications/probate-fees-from-april-2014-pa3<<EVENT<:<Download Link Clicked<:</government/uploads/system/uploads/attachment_data/file/718880/pa3-eng.pdf   \n",
       "2022305                                                                                                          /universal-credit<<PAGE<:<NULL<:<NULL>>/search?q=login<<PAGE<:<NULL<:<NULL>>/search?q=login<<EVENT<:<searchResults<:<resultsShown>>/universal-credit<<PAGE<:<NULL<:<NULL>>/universal-credit<<EVENT<:<user_satisfaction_survey<:<banner_shown>>/sign-in-universal-credit<<PAGE<:<NULL<:<NULL>>/sign-in-universal-credit<<EVENT<:<External Link Clicked<:<https://www.universal-credit.service.gov.uk/sign-in   \n",
       "2025143                                                                                                                                                                                                                                                                                               /car-tax-disc-without-v11-reminder<<PAGE<:<NULL<:<NULL>>/search?q=sorn<<EVENT<:<searchResults<:<resultsShown>>/search?q=sorn<<PAGE<:<NULL<:<NULL>>/search?q=sorn<<EVENT<:<UX<:<click>>/make-a-sorn<<PAGE<:<NULL<:<NULL   \n",
       "2025208                                                                                                                                                                                                    /universal-credit/how-to-claim<<PAGE<:<NULL<:<NULL>>/search?q=sign+in<<PAGE<:<NULL<:<NULL>>/search?q=sign+in<<EVENT<:<searchResults<:<resultsShown>>/sign-in-universal-credit<<PAGE<:<NULL<:<NULL>>/sign-in-universal-credit<<EVENT<:<External Link Clicked<:<https://www.universal-credit.service.gov.uk/sign-in   \n",
       "2025763                          /government/publications/cannabis-based-medicines-expert-review-panel/cannabis-and-cannabis-based-medicinal-products<<PAGE<:<NULL<:<NULL>>/government/publications/cannabis-based-medicines-expert-review-panel/cannabis-and-cannabis-based-medicinal-products<<EVENT<:<contentsClicked<:<content_item 6>>/search?q=cannabis<<PAGE<:<NULL<:<NULL>>/search?q=cannabis<<EVENT<:<searchResults<:<resultsShown>>/government/publications/industrial-hemp-licensing-guidance<<PAGE<:<NULL<:<NULL   \n",
       "2028146  /get-tax-free-childcare<<PAGE<:<NULL<:<NULL>>/get-tax-free-childcare<<EVENT<:<pageElementInteraction<:<stepNavShown>>/search?q=childcare+account<<PAGE<:<NULL<:<NULL>>/search?q=childcare+account<<EVENT<:<searchResults<:<resultsShown>>/search?q=childcare+account<<EVENT<:<UX<:<click>>/sign-in-childcare-account<<PAGE<:<NULL<:<NULL>>/sign-in-childcare-account<<EVENT<:<External Link Clicked<:<https://childcare-support.tax.service.gov.uk/par/app/trialmessage?_ga=2.252221577.1095526651.1541330925-19...   \n",
       "2029554  /government/consultations/general-data-protection-regulation-call-for-views<<PAGE<:<NULL<:<NULL>>/search?q=gdpr<<EVENT<:<user_satisfaction_survey<:<banner_shown>>/search?q=gdpr<<PAGE<:<NULL<:<NULL>>/search?q=gdpr<<EVENT<:<searchResults<:<resultsShown>>/search?q=gdpr<<EVENT<:<UX<:<click>>/government/publications/guide-to-the-general-data-protection-regulation<<PAGE<:<NULL<:<NULL>>/government/publications/guide-to-the-general-data-protection-regulation<<EVENT<:<Download Link Clicked<:</governm...   \n",
       "2030272                                                                                                                                                                /done/vehicle-tax<<PAGE<:<NULL<:<NULL>>/search?q=sorn<<EVENT<:<searchResults<:<resultsShown>>/search?q=sorn<<EVENT<:<user_satisfaction_survey<:<banner_shown>>/search?q=sorn<<PAGE<:<NULL<:<NULL>>/search?q=sorn<<EVENT<:<UX<:<click>>/make-a-sorn<<PAGE<:<NULL<:<NULL>>/make-a-sorn<<EVENT<:<External Link Clicked<:<https://www.sorn.service.gov.uk   \n",
       "2031478  /government/publications/self-assessment-register-a-partnership-for-self-assessment-sa400<<PAGE<:<NULL<:<NULL>>/search?q=sa401<<PAGE<:<NULL<:<NULL>>/search?q=sa401<<EVENT<:<searchResults<:<resultsShown>>/government/publications/self-assessment-register-a-partner-for-self-assessment-and-class-2-nics-sa401<<PAGE<:<NULL<:<NULL>>/government/publications/self-assessment-register-a-partner-for-self-assessment-and-class-2-nics-sa401<<EVENT<:<External Link Clicked<:<https://public-online.hmrc.gov.uk...   \n",
       "2031954  /tax-overpayments-and-underpayments<<PAGE<:<NULL<:<NULL>>/search?q=personal+tax+account<<EVENT<:<user_satisfaction_survey<:<banner_shown>>/search?q=personal+tax+account<<PAGE<:<NULL<:<NULL>>/search?q=personal+tax+account<<EVENT<:<searchResults<:<resultsShown>>/search?q=personal+tax+account<<EVENT<:<UX<:<click>>/personal-tax-account<<PAGE<:<NULL<:<NULL>>/personal-tax-account/sign-in/prove-identity<<PAGE<:<NULL<:<NULL>>/personal-tax-account/sign-in/prove-identity<<EVENT<:<Radio button chosen<:...   \n",
       "2032341                                                                                                                             /stamp-duty-land-tax<<PAGE<:<NULL<:<NULL>>/search?q=stamp+duty+calculator<<PAGE<:<NULL<:<NULL>>/search?q=stamp+duty+calculator<<EVENT<:<searchResults<:<resultsShown>>/search?q=stamp+duty+calculator<<EVENT<:<UX<:<click>>/stamp-duty-land-tax<<PAGE<:<NULL<:<NULL>>/stamp-duty-land-tax<<EVENT<:<External Link Clicked<:<https://www.tax.service.gov.uk/calculate-stamp-duty-land-tax/   \n",
       "2032893                                                                                                                                                                                                                                                                                                                                                /electoral-register/view-electoral-register<<PAGE<:<NULL<:<NULL>>/search?q=[postcode]<<PAGE<:<NULL<:<NULL>>/search?q=[postcode]<<EVENT<:<searchResults<:<resultsShown   \n",
       "2033111                                                                                                                                                                                                                                        /check-mot-history<<PAGE<:<NULL<:<NULL>>/search?q=[postcode]v<<PAGE<:<NULL<:<NULL>>/check-mot-history<<PAGE<:<NULL<:<NULL>>/check-mot-history<<EVENT<:<External Link Clicked<:<https://www.check-mot.service.gov.uk/?_ga=2.177900647.3309350.1541346372-1978965151.1532933332   \n",
       "2033638                                                                                                                                                                                                                                                                                        /check-mot-history<<PAGE<:<NULL<:<NULL>>/search?q=<<PAGE<:<NULL<:<NULL>>/check-mot-history<<EVENT<:<External Link Clicked<:<https://www.check-mot.service.gov.uk/?_ga=2.209433874.1077758653.1541368701-1985921529.1456347816   \n",
       "2034272  /done/vehicle-tax<<PAGE<:<NULL<:<NULL>>/search?q=cancel+tax<<EVENT<:<searchResults<:<resultsShown>>/search?q=cancel+tax<<EVENT<:<user_satisfaction_survey<:<banner_shown>>/search?q=cancel+tax<<PAGE<:<NULL<:<NULL>>/search?q=cancel+tax<<EVENT<:<UX<:<click>>/vehicle-tax-refund<<PAGE<:<NULL<:<NULL>>/vehicle-tax-refund<<EVENT<:<user_satisfaction_survey<:<banner_shown>>/sold-bought-vehicle<<PAGE<:<NULL<:<NULL>>/sold-bought-vehicle/y<<PAGE<:<NULL<:<NULL>>/sold-bought-vehicle/y/yes<<PAGE<:<NULL<:<NUL...   \n",
       "\n",
       "                                                                                                                                                                                                                                     PageSequence  \\\n",
       "9086                                                                                                                                                                                                /universal-credit>>/search?q=universal+credit   \n",
       "12793                                                                                                                                                                                                          /jobsearch>>/search?q=>>/jobsearch   \n",
       "14342                                                                                                                                                                               /foreign-travel-advice/usa/entry-requirements>>/search?q=esta   \n",
       "15128                                                                                                                                                                              /vehicle-tax>>/search?q=apprenticeship+>>/apply-apprenticeship   \n",
       "15329                                                                                                                        /get-vehicle-information-from-dvla>>/search?q=[postcode]h>>/search?q=[postcode]h>>/get-vehicle-information-from-dvla   \n",
       "15463                                                                                                                                                                                      /done/make-a-sorn>>/search?q=tax+vehicle>>/vehicle-tax   \n",
       "16261                                                                                                                                                                               /vehicle-tax>>/search?q=check+vehicle+tax>>/check-vehicle-tax   \n",
       "16397                                                                                                                                                                        /get-vehicle-information-from-dvla>>/search?q=road+tax>>/vehicle-tax   \n",
       "16401                                                                                                                                                               /qualify-tax-credits>>/search?q=childcare+account>>/sign-in-childcare-account   \n",
       "16452                                                                                                                                                                                        /done/check-vehicle-tax>>/search?q=tax>>/vehicle-tax   \n",
       "16522                                                                                                                                                           /get-tax-free-childcare>>/search?q=childcare+account+>>/sign-in-childcare-account   \n",
       "16671                                                                                                                                                                     /get-tax-free-childcare>>/search?q=sign+in+>>/sign-in-childcare-account   \n",
       "16715                                                                                                                                                                    /vehicle-insurance/uninsured-vehicles>>/search?q=tax>>/check-vehicle-tax   \n",
       "16760                                                                                                                                                            /get-tax-free-childcare>>/search?q=childcare+account>>/sign-in-childcare-account   \n",
       "16872                                                                                                                                                                   /help-with-childcare-costs>>/search?q=sign+in>>/sign-in-childcare-account   \n",
       "17099                                                                                                                                                             /personal-tax-account>>/search?q=sign+in>>/log-in-register-hmrc-online-services   \n",
       "17172                                                                                                                                                                                 /contact-the-dvla>>/search?q=theory+test>>/book-theory-test   \n",
       "17299                                                                                                                                                        /help-with-childcare-costs>>/search?q=childcare+account+>>/sign-in-childcare-account   \n",
       "17380                                                                                                                                                                           /book-driving-test>>/search?q=cancellation+>>/change-driving-test   \n",
       "18077                                                                                                                                                                                    /change-theory-test>>/search?q=theory>>/book-theory-test   \n",
       "18109                                                                                                                                                                  /done/vehicle-tax>>/search?q=tax+vehicle+>>/vehicle-tax>>/done/vehicle-tax   \n",
       "18120                                                                                                                                /help-with-childcare-costs>>/search?q=childcare+account>>/sign-in-childcare-account>>/get-tax-free-childcare   \n",
       "18963                                                                                                                                                                                  /vehicle-tax>>/search?q=dorm>>/search?q=dorm>>/make-a-sorn   \n",
       "19633                                                                                                                                                               /government-gateway>>/search?q=sign+in>>/log-in-register-hmrc-online-services   \n",
       "19978                                                                                                      /student-finance>>/search?q=login>>/student-finance-register-login>>/student-finance-register-login>>/search?q=login>>/student-finance   \n",
       "20071                                                                                                                                                                                 /vehicle-tax>>/search?q=some>>/search?q=sorn+>>/make-a-sorn   \n",
       "37543                                                                                                                                                                                                /income-tax-rates>>/search?q=income+tax+2019   \n",
       "38584                                                                                                                                                                     /government/organisations/department-for-education/about>>/search?q=asp   \n",
       "38720                                                                                                                                                                                                 /winter-fuel-payment>>/search?q=winter+fuel   \n",
       "44365                                                                                                                                                                                          /contact-pension-service>>/search?q=change+address   \n",
       "...                                                                                                                                                                                                                                           ...   \n",
       "2000084                                                                                                                                                        /dbs-check-applicant-criminal-record>>/search?q=dbs>>/request-copy-criminal-record   \n",
       "2000158                                                                     /guidance/government-gateway-replacement-services-that-have-moved>>/search?q=cis>>/what-is-the-construction-industry-scheme>>/use-construction-industry-scheme-online   \n",
       "2000335                                                                                                                                                                                                                  /vehicle-tax>>/search?q=   \n",
       "2001506                                                                                                                                                               /stamp-duty-land-tax>>/search?q=stamp+duty+calculator>>/stamp-duty-land-tax   \n",
       "2001675                                                   /change-name-address-v5c>>/search?q=change+of+owner>>/sold-bought-vehicle>>/sold-bought-vehicle/y>>/sold-bought-vehicle/y/no>>/sold-bought-vehicle/y/no/put-it-into-someone-else-s-name   \n",
       "2004370                                                                                                                                                                                                          /done/vehicle-tax>>/search?q=mot   \n",
       "2007839                                                                                                                                                                    /vehicle-tax>>/search?q=tax+free+childcare>>/sign-in-childcare-account   \n",
       "2007983                                                          /government/publications/income-tax-leaving-the-uk-getting-your-tax-right-p85>>/search?q=p85+form>>/government/publications/income-tax-leaving-the-uk-getting-your-tax-right-p85   \n",
       "2008265                                                                                                                                                                                       /done/vehicle-tax>>/search?q=mot>>/check-mot-status   \n",
       "2011601  /book-driving-test>>/search?q=show+me+tell+me>>/government/publications/car-show-me-tell-me-vehicle-safety-questions>>/government/publications/car-show-me-tell-me-vehicle-safety-questions/car-show-me-tell-me-vehicle-safety-questions   \n",
       "2013116                                                                                                                                                                                       /getting-an-mot/mot-test-fees>>/search?q=living+van   \n",
       "2013347                                                                                                                                                       /help-with-childcare-costs>>/search?q=childcare+account>>/sign-in-childcare-account   \n",
       "2015420                                                                                                                                                                                                 /check-mot-history>>/search?q=[postcode]j   \n",
       "2019777                                                                                                                                                                              /universal-credit>>/search?q=sign>>/sign-in-universal-credit   \n",
       "2020272                                      /government/organisations/hm-revenue-customs/contact/self-assessment>>/search?q=working+for+yourself>>/working-for-yourself>>/log-in-file-self-assessment-tax-return/register-if-youre-self-employed   \n",
       "2020548                                                                                               /wills-probate-inheritance/applying-for-a-grant-of-representation>>/search?q=pa3>>/government/publications/probate-fees-from-april-2014-pa3   \n",
       "2022305                                                                                                                                                          /universal-credit>>/search?q=login>>/universal-credit>>/sign-in-universal-credit   \n",
       "2025143                                                                                                                                                                          /car-tax-disc-without-v11-reminder>>/search?q=sorn>>/make-a-sorn   \n",
       "2025208                                                                                                                                                              /universal-credit/how-to-claim>>/search?q=sign+in>>/sign-in-universal-credit   \n",
       "2025763                                     /government/publications/cannabis-based-medicines-expert-review-panel/cannabis-and-cannabis-based-medicinal-products>>/search?q=cannabis>>/government/publications/industrial-hemp-licensing-guidance   \n",
       "2028146                                                                        /get-tax-free-childcare>>/search?q=childcare+account>>/sign-in-childcare-account>>/get-tax-free-childcare>>/search?q=childcare+account>>/sign-in-childcare-account   \n",
       "2029554                                                                     /government/consultations/general-data-protection-regulation-call-for-views>>/search?q=gdpr>>/government/publications/guide-to-the-general-data-protection-regulation   \n",
       "2030272                                                                                                                                                                                           /done/vehicle-tax>>/search?q=sorn>>/make-a-sorn   \n",
       "2031478                        /government/publications/self-assessment-register-a-partnership-for-self-assessment-sa400>>/search?q=sa401>>/government/publications/self-assessment-register-a-partner-for-self-assessment-and-class-2-nics-sa401   \n",
       "2031954                                                                                                  /tax-overpayments-and-underpayments>>/search?q=personal+tax+account>>/personal-tax-account>>/personal-tax-account/sign-in/prove-identity   \n",
       "2032341                                                                                                                                                               /stamp-duty-land-tax>>/search?q=stamp+duty+calculator>>/stamp-duty-land-tax   \n",
       "2032893                                                                                                                                                                         /electoral-register/view-electoral-register>>/search?q=[postcode]   \n",
       "2033111                                                                                                                                                                             /check-mot-history>>/search?q=[postcode]v>>/check-mot-history   \n",
       "2033638                                                                                                                                                                                                            /check-mot-history>>/search?q=   \n",
       "2034272                                        /done/vehicle-tax>>/search?q=cancel+tax>>/vehicle-tax-refund>>/sold-bought-vehicle>>/sold-bought-vehicle/y>>/sold-bought-vehicle/y/yes>>/sold-bought-vehicle/y/yes/bought-a-vehicle-into-the-trade   \n",
       "\n",
       "         Occurrences  Page_Seq_Occurrences  \\\n",
       "9086               1                   2.0   \n",
       "12793              1                  11.0   \n",
       "14342              2                   8.0   \n",
       "15128              1                  12.0   \n",
       "15329              1                   2.0   \n",
       "15463              1                  10.0   \n",
       "16261              1                   2.0   \n",
       "16397              1                   5.0   \n",
       "16401              1                   2.0   \n",
       "16452              2                   4.0   \n",
       "16522              1                  14.0   \n",
       "16671              1                   3.0   \n",
       "16715              1                   2.0   \n",
       "16760              1                  64.0   \n",
       "16872              1                  22.0   \n",
       "17099              1                   2.0   \n",
       "17172              4                   8.0   \n",
       "17299              1                  11.0   \n",
       "17380              1                   2.0   \n",
       "18077              1                   3.0   \n",
       "18109              2                   4.0   \n",
       "18120              1                   4.0   \n",
       "18963              2                   3.0   \n",
       "19633              1                   9.0   \n",
       "19978              2                   2.0   \n",
       "20071              1                   2.0   \n",
       "37543              1                   2.0   \n",
       "38584              2                   2.0   \n",
       "38720              1                   2.0   \n",
       "44365              1                   2.0   \n",
       "...              ...                   ...   \n",
       "2000084            1                   6.0   \n",
       "2000158            1                   7.0   \n",
       "2000335            1                   2.0   \n",
       "2001506            1                   2.0   \n",
       "2001675            1                   2.0   \n",
       "2004370            1                   2.0   \n",
       "2007839            1                   2.0   \n",
       "2007983            1                   2.0   \n",
       "2008265            1                  52.0   \n",
       "2011601            1                   6.0   \n",
       "2013116            1                   2.0   \n",
       "2013347            1                 126.0   \n",
       "2015420            1                   4.0   \n",
       "2019777            1                   2.0   \n",
       "2020272            1                   2.0   \n",
       "2020548            1                   3.0   \n",
       "2022305            1                  20.0   \n",
       "2025143            1                  12.0   \n",
       "2025208            1                  17.0   \n",
       "2025763            1                   2.0   \n",
       "2028146            1                   2.0   \n",
       "2029554            1                   4.0   \n",
       "2030272            1                 109.0   \n",
       "2031478            1                   2.0   \n",
       "2031954            1                   5.0   \n",
       "2032341            1                   2.0   \n",
       "2032893            1                   2.0   \n",
       "2033111            1                   3.0   \n",
       "2033638            1                   3.0   \n",
       "2034272            1                   6.0   \n",
       "\n",
       "                                       DeviceCategories  \\\n",
       "9086                                    [('mobile', 1)]   \n",
       "12793                                   [('mobile', 1)]   \n",
       "14342    [('mobile', 1), ('tablet', 1), ('desktop', 1)]   \n",
       "15128                                   [('mobile', 1)]   \n",
       "15329                                   [('mobile', 1)]   \n",
       "15463                                   [('mobile', 1)]   \n",
       "16261                                   [('mobile', 1)]   \n",
       "16397                    [('mobile', 1), ('tablet', 1)]   \n",
       "16401                                   [('mobile', 1)]   \n",
       "16452                   [('mobile', 1), ('desktop', 1)]   \n",
       "16522                                   [('mobile', 1)]   \n",
       "16671                                   [('mobile', 1)]   \n",
       "16715                                   [('mobile', 1)]   \n",
       "16760                                   [('mobile', 1)]   \n",
       "16872                                   [('mobile', 1)]   \n",
       "17099                                   [('mobile', 1)]   \n",
       "17172                   [('mobile', 3), ('desktop', 1)]   \n",
       "17299                                   [('mobile', 1)]   \n",
       "17380                                   [('mobile', 1)]   \n",
       "18077                                   [('mobile', 1)]   \n",
       "18109                                   [('mobile', 2)]   \n",
       "18120                                   [('mobile', 1)]   \n",
       "18963                                   [('mobile', 2)]   \n",
       "19633                                   [('mobile', 1)]   \n",
       "19978                                   [('mobile', 2)]   \n",
       "20071                                   [('mobile', 1)]   \n",
       "37543                                  [('desktop', 1)]   \n",
       "38584                                  [('desktop', 2)]   \n",
       "38720                                  [('desktop', 1)]   \n",
       "44365                                  [('desktop', 1)]   \n",
       "...                                                 ...   \n",
       "2000084                                 [('mobile', 1)]   \n",
       "2000158                                [('desktop', 1)]   \n",
       "2000335                                [('desktop', 1)]   \n",
       "2001506                                [('desktop', 1)]   \n",
       "2001675                                [('desktop', 1)]   \n",
       "2004370                                [('desktop', 1)]   \n",
       "2007839                                 [('mobile', 1)]   \n",
       "2007983                                 [('mobile', 1)]   \n",
       "2008265                                 [('mobile', 1)]   \n",
       "2011601                                [('desktop', 1)]   \n",
       "2013116                                 [('mobile', 1)]   \n",
       "2013347                                [('desktop', 1)]   \n",
       "2015420                                 [('mobile', 1)]   \n",
       "2019777                                 [('mobile', 1)]   \n",
       "2020272                                 [('mobile', 1)]   \n",
       "2020548                 [('desktop', 1), ('tablet', 1)]   \n",
       "2022305                                [('desktop', 1)]   \n",
       "2025143                                [('desktop', 1)]   \n",
       "2025208                                 [('mobile', 1)]   \n",
       "2025763                                [('desktop', 1)]   \n",
       "2028146                                [('desktop', 1)]   \n",
       "2029554                                [('desktop', 1)]   \n",
       "2030272                                [('desktop', 1)]   \n",
       "2031478                                [('desktop', 1)]   \n",
       "2031954                                [('desktop', 1)]   \n",
       "2032341                                [('desktop', 1)]   \n",
       "2032893                                [('desktop', 1)]   \n",
       "2033111                                 [('mobile', 1)]   \n",
       "2033638                                [('desktop', 1)]   \n",
       "2034272                                [('desktop', 1)]   \n",
       "\n",
       "                                                       Dates  \\\n",
       "9086                                       [('20181031', 1)]   \n",
       "12793                                      [('20181031', 1)]   \n",
       "14342                     [('20181031', 1), ('20181102', 2)]   \n",
       "15128                                      [('20181031', 1)]   \n",
       "15329                                      [('20181031', 1)]   \n",
       "15463                                      [('20181031', 1)]   \n",
       "16261                                      [('20181031', 1)]   \n",
       "16397                     [('20181031', 1), ('20181104', 1)]   \n",
       "16401                                      [('20181031', 1)]   \n",
       "16452                     [('20181031', 1), ('20181029', 1)]   \n",
       "16522                                      [('20181031', 1)]   \n",
       "16671                                      [('20181031', 1)]   \n",
       "16715                                      [('20181031', 1)]   \n",
       "16760                                      [('20181031', 1)]   \n",
       "16872                                      [('20181031', 1)]   \n",
       "17099                                      [('20181031', 1)]   \n",
       "17172    [('20181031', 1), ('20181029', 1), ('20181104', 2)]   \n",
       "17299                                      [('20181031', 1)]   \n",
       "17380                                      [('20181031', 1)]   \n",
       "18077                                      [('20181031', 1)]   \n",
       "18109                     [('20181031', 1), ('20181104', 1)]   \n",
       "18120                                      [('20181031', 1)]   \n",
       "18963                     [('20181031', 1), ('20181029', 1)]   \n",
       "19633                                      [('20181031', 1)]   \n",
       "19978                     [('20181031', 1), ('20181029', 1)]   \n",
       "20071                                      [('20181031', 1)]   \n",
       "37543                                      [('20181031', 1)]   \n",
       "38584                     [('20181031', 1), ('20181029', 1)]   \n",
       "38720                                      [('20181031', 1)]   \n",
       "44365                                      [('20181031', 1)]   \n",
       "...                                                      ...   \n",
       "2000084                                    [('20181104', 1)]   \n",
       "2000158                                    [('20181104', 1)]   \n",
       "2000335                                    [('20181104', 1)]   \n",
       "2001506                                    [('20181104', 1)]   \n",
       "2001675                                    [('20181104', 1)]   \n",
       "2004370                                    [('20181104', 1)]   \n",
       "2007839                                    [('20181104', 1)]   \n",
       "2007983                                    [('20181104', 1)]   \n",
       "2008265                                    [('20181104', 1)]   \n",
       "2011601                                    [('20181104', 1)]   \n",
       "2013116                                    [('20181104', 1)]   \n",
       "2013347                                    [('20181104', 1)]   \n",
       "2015420                                    [('20181104', 1)]   \n",
       "2019777                                    [('20181104', 1)]   \n",
       "2020272                                    [('20181104', 1)]   \n",
       "2020548                                    [('20181104', 2)]   \n",
       "2022305                                    [('20181104', 1)]   \n",
       "2025143                                    [('20181104', 1)]   \n",
       "2025208                                    [('20181104', 1)]   \n",
       "2025763                                    [('20181104', 1)]   \n",
       "2028146                                    [('20181104', 1)]   \n",
       "2029554                                    [('20181104', 1)]   \n",
       "2030272                                    [('20181104', 1)]   \n",
       "2031478                                    [('20181104', 1)]   \n",
       "2031954                                    [('20181104', 1)]   \n",
       "2032341                                    [('20181104', 1)]   \n",
       "2032893                                    [('20181104', 1)]   \n",
       "2033111                                    [('20181104', 1)]   \n",
       "2033638                                    [('20181104', 1)]   \n",
       "2034272                                    [('20181104', 1)]   \n",
       "\n",
       "                                                                                                                                                                                                                                                                                                                                                                                                                                                                                                             Page_Event_List  \\\n",
       "9086                                                                                                                                                                                                                                                                                                                                                         [(/universal-credit, PAGE<:<NULL<:<NULL), (/search?q=universal+credit, EVENT<:<searchResults<:<resultsShown), (/search?q=universal+credit, PAGE<:<NULL<:<NULL)]   \n",
       "12793                                                                                                                                                                                                                                                                                                                                      [(/jobsearch, PAGE<:<NULL<:<NULL), (/search?q=, PAGE<:<NULL<:<NULL), (/jobsearch, EVENT<:<External Link Clicked<:<https://findajob.dwp.gov.uk), (/jobsearch, PAGE<:<NULL<:<NULL)]   \n",
       "14342                                                                                                                                                                                                                                 [(/foreign-travel-advice/usa/entry-requirements, PAGE<:<NULL<:<NULL), (/search?q=esta, PAGE<:<NULL<:<NULL), (/search?q=esta, EVENT<:<searchResults<:<resultsShown), (/search?q=esta, EVENT<:<UX<:<click), (/search?q=esta, EVENT<:<External Link Clicked<:<https://esta.cbp.dhs.gov/)]   \n",
       "15128                                                                                                                                                                                     [(/vehicle-tax, PAGE<:<NULL<:<NULL), (/search?q=apprenticeship+, PAGE<:<NULL<:<NULL), (/search?q=apprenticeship+, EVENT<:<searchResults<:<resultsShown), (/apply-apprenticeship, PAGE<:<NULL<:<NULL), (/apply-apprenticeship, EVENT<:<External Link Clicked<:<https://www.findapprenticeship.service.gov.uk/apprenticeshipsearch)]   \n",
       "15329                                                                                                                                                                           [(/get-vehicle-information-from-dvla, PAGE<:<NULL<:<NULL), (/search?q=[postcode]h, PAGE<:<NULL<:<NULL), (/search?q=kw55syh, EVENT<:<External Link Clicked<:<http://webarchive.nationalarchives.gov.uk/adv_search/?query=[postcode]H), (/search?q=[postcode]h, PAGE<:<NULL<:<NULL), (/get-vehicle-information-from-dvla, PAGE<:<NULL<:<NULL)]   \n",
       "15463                                                                                                                                                                                                                                                                                 [(/done/make-a-sorn, PAGE<:<NULL<:<NULL), (/search?q=tax+vehicle, PAGE<:<NULL<:<NULL), (/search?q=tax+vehicle, EVENT<:<searchResults<:<resultsShown), (/search?q=tax+vehicle, EVENT<:<UX<:<click), (/vehicle-tax, PAGE<:<NULL<:<NULL)]   \n",
       "16261                                                                                                                                                             [(/vehicle-tax, PAGE<:<NULL<:<NULL), (/search?q=check+vehicle+tax, PAGE<:<NULL<:<NULL), (/search?q=check+vehicle+tax, EVENT<:<searchResults<:<resultsShown), (/search?q=check+vehicle+tax, EVENT<:<UX<:<click), (/check-vehicle-tax, PAGE<:<NULL<:<NULL), (/check-vehicle-tax, EVENT<:<External Link Clicked<:<https://www.vehicleenquiry.service.gov.uk)]   \n",
       "16397                                                                                                                                                                                  [(/get-vehicle-information-from-dvla, PAGE<:<NULL<:<NULL), (/search?q=road+tax, PAGE<:<NULL<:<NULL), (/search?q=road+tax, EVENT<:<searchResults<:<resultsShown), (/search?q=road+tax, EVENT<:<UX<:<click), (/vehicle-tax, PAGE<:<NULL<:<NULL), (/vehicle-tax, EVENT<:<External Link Clicked<:<https://www.vehicletax.service.gov.uk)]   \n",
       "16401                                                 [(/qualify-tax-credits, PAGE<:<NULL<:<NULL), (/search?q=childcare+account, PAGE<:<NULL<:<NULL), (/search?q=childcare+account, EVENT<:<searchResults<:<resultsShown), (/search?q=childcare+account, EVENT<:<UX<:<click), (/sign-in-childcare-account, PAGE<:<NULL<:<NULL), (/sign-in-childcare-account, EVENT<:<External Link Clicked<:<https://childcare-support.tax.service.gov.uk/par/app/trialmessage?_ga=2.255911115.1345202768.1540980008-1635372066.1420521869)]   \n",
       "16452                                                                                                                                                                                                            [(/done/check-vehicle-tax, PAGE<:<NULL<:<NULL), (/search?q=tax, PAGE<:<NULL<:<NULL), (/search?q=tax, EVENT<:<searchResults<:<resultsShown), (/search?q=tax, EVENT<:<UX<:<click), (/vehicle-tax, PAGE<:<NULL<:<NULL), (/vehicle-tax, EVENT<:<External Link Clicked<:<https://www.vehicletax.service.gov.uk)]   \n",
       "16522                                            [(/get-tax-free-childcare, PAGE<:<NULL<:<NULL), (/search?q=childcare+account+, PAGE<:<NULL<:<NULL), (/search?q=childcare+account+, EVENT<:<searchResults<:<resultsShown), (/search?q=childcare+account+, EVENT<:<UX<:<click), (/sign-in-childcare-account, PAGE<:<NULL<:<NULL), (/sign-in-childcare-account, EVENT<:<External Link Clicked<:<https://childcare-support.tax.service.gov.uk/par/app/trialmessage?_ga=2.237803458.371924673.1540980247-1034314404.1540980247)]   \n",
       "16671                                                                          [(/get-tax-free-childcare, PAGE<:<NULL<:<NULL), (/search?q=sign+in+, PAGE<:<NULL<:<NULL), (/search?q=sign+in+, EVENT<:<searchResults<:<resultsShown), (/search?q=sign+in+, EVENT<:<UX<:<click), (/sign-in-childcare-account, PAGE<:<NULL<:<NULL), (/sign-in-childcare-account, EVENT<:<External Link Clicked<:<https://childcare-support.tax.service.gov.uk/par/app/trialmessage?_ga=2.69637072.1318425933.1541026472-1765819500.1527085811)]   \n",
       "16715                                                                                                                                                                              [(/vehicle-insurance/uninsured-vehicles, PAGE<:<NULL<:<NULL), (/search?q=tax, PAGE<:<NULL<:<NULL), (/search?q=tax, EVENT<:<searchResults<:<resultsShown), (/search?q=tax, EVENT<:<UX<:<click), (/check-vehicle-tax, PAGE<:<NULL<:<NULL), (/check-vehicle-tax, EVENT<:<External Link Clicked<:<https://www.vehicleenquiry.service.gov.uk)]   \n",
       "16760                                               [(/get-tax-free-childcare, PAGE<:<NULL<:<NULL), (/search?q=childcare+account, PAGE<:<NULL<:<NULL), (/search?q=childcare+account, EVENT<:<searchResults<:<resultsShown), (/search?q=childcare+account, EVENT<:<UX<:<click), (/sign-in-childcare-account, PAGE<:<NULL<:<NULL), (/sign-in-childcare-account, EVENT<:<External Link Clicked<:<https://childcare-support.tax.service.gov.uk/par/app/trialmessage?_ga=2.195913711.292861643.1540886222-1784675713.1530012053)]   \n",
       "16872                                                                          [(/help-with-childcare-costs, PAGE<:<NULL<:<NULL), (/search?q=sign+in, PAGE<:<NULL<:<NULL), (/search?q=sign+in, EVENT<:<searchResults<:<resultsShown), (/search?q=sign+in, EVENT<:<UX<:<click), (/sign-in-childcare-account, PAGE<:<NULL<:<NULL), (/sign-in-childcare-account, EVENT<:<External Link Clicked<:<https://childcare-support.tax.service.gov.uk/par/app/trialmessage?_ga=2.50487593.1243733197.1540926407-1532434325.1540926407)]   \n",
       "17099                                                                                                                                               [(/personal-tax-account, PAGE<:<NULL<:<NULL), (/search?q=sign+in, PAGE<:<NULL<:<NULL), (/search?q=sign+in, EVENT<:<searchResults<:<resultsShown), (/search?q=sign+in, EVENT<:<UX<:<click), (/log-in-register-hmrc-online-services, PAGE<:<NULL<:<NULL), (/log-in-register-hmrc-online-services, EVENT<:<External Link Clicked<:<https://www.tax.service.gov.uk/account)]   \n",
       "17172                                                                                                                                                                        [(/contact-the-dvla, PAGE<:<NULL<:<NULL), (/search?q=theory+test, PAGE<:<NULL<:<NULL), (/search?q=theory+test, EVENT<:<searchResults<:<resultsShown), (/search?q=theory+test, EVENT<:<UX<:<click), (/book-theory-test, PAGE<:<NULL<:<NULL), (/book-theory-test, EVENT<:<External Link Clicked<:<https://wsr.theorytest.direct.gov.uk/dsa/book)]   \n",
       "17299                                          [(/help-with-childcare-costs, PAGE<:<NULL<:<NULL), (/search?q=childcare+account+, PAGE<:<NULL<:<NULL), (/search?q=childcare+account+, EVENT<:<searchResults<:<resultsShown), (/search?q=childcare+account+, EVENT<:<UX<:<click), (/sign-in-childcare-account, PAGE<:<NULL<:<NULL), (/sign-in-childcare-account, EVENT<:<External Link Clicked<:<https://childcare-support.tax.service.gov.uk/par/app/trialmessage?_ga=2.55874796.693570659.1540920435-1527479287.1538847456)]   \n",
       "17380                                                                                             [(/book-driving-test, PAGE<:<NULL<:<NULL), (/search?q=cancellation+, PAGE<:<NULL<:<NULL), (/search?q=cancellation+, EVENT<:<searchResults<:<resultsShown), (/search?q=cancellation+, EVENT<:<UX<:<click), (/change-driving-test, PAGE<:<NULL<:<NULL), (/change-driving-test, EVENT<:<External Link Clicked<:<https://driverpracticaltest.direct.gov.uk/manage?_ga=2.173247077.772780029.1540944352-1636197093.1540944352)]   \n",
       "18077                                                                             [(/change-theory-test, PAGE<:<NULL<:<NULL), (/change-theory-test, EVENT<:<External Link Clicked<:<https://wsr.theorytest.direct.gov.uk/dsa/change), (/search?q=theory, PAGE<:<NULL<:<NULL), (/search?q=theory, EVENT<:<searchResults<:<resultsShown), (/search?q=theory, EVENT<:<UX<:<click), (/book-theory-test, PAGE<:<NULL<:<NULL), (/book-theory-test, EVENT<:<External Link Clicked<:<https://wsr.theorytest.direct.gov.uk/dsa/book)]   \n",
       "18109                                                                                                                                              [(/done/vehicle-tax, PAGE<:<NULL<:<NULL), (/search?q=tax+vehicle+, PAGE<:<NULL<:<NULL), (/search?q=tax+vehicle+, EVENT<:<searchResults<:<resultsShown), (/search?q=tax+vehicle+, EVENT<:<UX<:<click), (/vehicle-tax, PAGE<:<NULL<:<NULL), (/vehicle-tax, EVENT<:<External Link Clicked<:<https://www.vehicletax.service.gov.uk), (/done/vehicle-tax, PAGE<:<NULL<:<NULL)]   \n",
       "18120    [(/help-with-childcare-costs, PAGE<:<NULL<:<NULL), (/search?q=childcare+account, PAGE<:<NULL<:<NULL), (/search?q=childcare+account, EVENT<:<searchResults<:<resultsShown), (/search?q=childcare+account, EVENT<:<UX<:<click), (/sign-in-childcare-account, PAGE<:<NULL<:<NULL), (/sign-in-childcare-account, EVENT<:<External Link Clicked<:<https://childcare-support.tax.service.gov.uk/par/app/trialmessage?_ga=2.116305350.1366356854.1540979140-1948015658.1506019607), (/get-tax-free-childcare, PAGE<:<NU...   \n",
       "18963                                                                                                                            [(/vehicle-tax, PAGE<:<NULL<:<NULL), (/search?q=dorm, PAGE<:<NULL<:<NULL), (/search?q=dorm, EVENT<:<searchResults<:<resultsShown), (/search?q=dorm, PAGE<:<NULL<:<NULL), (/search?q=dorm, EVENT<:<searchResults<:<resultsShown), (/search?q=dorm, EVENT<:<UX<:<click), (/make-a-sorn, PAGE<:<NULL<:<NULL), (/make-a-sorn, EVENT<:<External Link Clicked<:<https://www.sorn.service.gov.uk)]   \n",
       "19633    [(/government-gateway, PAGE<:<NULL<:<NULL), (/government-gateway, EVENT<:<NULL<:<NULL), (/search?q=sign+in, PAGE<:<NULL<:<NULL), (/search?q=sign+in, EVENT<:<searchResults<:<resultsShown), (/search?q=sign+in, EVENT<:<NULL<:<NULL), (/search?q=sign+in, EVENT<:<UX<:<click), (/log-in-register-hmrc-online-services, PAGE<:<NULL<:<NULL), (/log-in-register-hmrc-online-services, EVENT<:<NULL<:<NULL), (/log-in-register-hmrc-online-services, EVENT<:<External Link Clicked<:<https://www.tax.service.gov.uk...   \n",
       "19978    [(/student-finance, PAGE<:<NULL<:<NULL), (/search?q=login, PAGE<:<NULL<:<NULL), (/search?q=login, EVENT<:<searchResults<:<resultsShown), (/search?q=login, EVENT<:<UX<:<click), (/student-finance-register-login, PAGE<:<NULL<:<NULL), (/student-finance-register-login, EVENT<:<External Link Clicked<:<https://www.student-finance.service.gov.uk/customer/home), (/student-finance-register-login, PAGE<:<NULL<:<NULL), (/search?q=login, PAGE<:<NULL<:<NULL), (/search?q=login, EVENT<:<searchResults<:<resu...   \n",
       "20071    [(/vehicle-tax, PAGE<:<NULL<:<NULL), (/vehicle-tax, EVENT<:<External Link Clicked<:<https://www.vehicletax.service.gov.uk), (/search?q=some, PAGE<:<NULL<:<NULL), (/search?q=some, EVENT<:<searchResults<:<resultsShown), (/search?q=sorn+, PAGE<:<NULL<:<NULL), (/search?q=sorn+, EVENT<:<searchResults<:<resultsShown), (/search?q=sorn+, EVENT<:<UX<:<click), (/make-a-sorn, PAGE<:<NULL<:<NULL), (/make-a-sorn, EVENT<:<External Link Clicked<:<https://www.sorn.service.gov.uk), (/make-a-sorn, EVENT<:<Ext...   \n",
       "37543                                                                                                                                                                                                                                                                                                                                                          [(/income-tax-rates, PAGE<:<NULL<:<NULL), (/search?q=income+tax+2019, EVENT<:<searchResults<:<resultsShown), (/search?q=income+tax+2019, PAGE<:<NULL<:<NULL)]   \n",
       "38584                                                                                                                                                                                                                                                                                                                                           [(/government/organisations/department-for-education/about, PAGE<:<NULL<:<NULL), (/search?q=asp, PAGE<:<NULL<:<NULL), (/search?q=asp, EVENT<:<searchResults<:<resultsShown)]   \n",
       "38720                                                                                                                                                                                                                                                                                                                                                               [(/winter-fuel-payment, PAGE<:<NULL<:<NULL), (/search?q=winter+fuel, EVENT<:<searchResults<:<resultsShown), (/search?q=winter+fuel, PAGE<:<NULL<:<NULL)]   \n",
       "44365                                                                                                                                                                                                                                                                        [(/contact-pension-service, EVENT<:<user_satisfaction_survey<:<banner_shown), (/contact-pension-service, PAGE<:<NULL<:<NULL), (/search?q=change+address, PAGE<:<NULL<:<NULL), (/search?q=change+address, EVENT<:<searchResults<:<resultsShown)]   \n",
       "...                                                                                                                                                                                                                                                                                                                                                                                                                                                                                                                      ...   \n",
       "2000084                                                                                                                                                                                                                                                                   [(/dbs-check-applicant-criminal-record, PAGE<:<NULL<:<NULL), (/search?q=dbs, PAGE<:<NULL<:<NULL), (/search?q=dbs, EVENT<:<searchResults<:<resultsShown), (/search?q=dbs, EVENT<:<UX<:<click), (/request-copy-criminal-record, PAGE<:<NULL<:<NULL)]   \n",
       "2000158  [(/guidance/government-gateway-replacement-services-that-have-moved, PAGE<:<NULL<:<NULL), (/guidance/government-gateway-replacement-services-that-have-moved, EVENT<:<yesNoFeedbackForm<:<ffNoClick), (/search?q=cis, PAGE<:<NULL<:<NULL), (/search?q=cis, EVENT<:<searchResults<:<resultsShown), (/what-is-the-construction-industry-scheme, PAGE<:<NULL<:<NULL), (/what-is-the-construction-industry-scheme, EVENT<:<relatedLinkClicked<:<1.2 Related content), (/use-construction-industry-scheme-online, EVE...   \n",
       "2000335                                                                                                                                                                                                                                                                                                                                                                                                                                               [(/vehicle-tax, PAGE<:<NULL<:<NULL), (/search?q=, PAGE<:<NULL<:<NULL)]   \n",
       "2001506                                                                                                                                                                                                                                                                                             [(/stamp-duty-land-tax, PAGE<:<NULL<:<NULL), (/search?q=stamp+duty+calculator, PAGE<:<NULL<:<NULL), (/search?q=stamp+duty+calculator, EVENT<:<searchResults<:<resultsShown), (/stamp-duty-land-tax, PAGE<:<NULL<:<NULL)]   \n",
       "2001675  [(/vehicle-log-book, EVENT<:<relatedLinkClicked<:<1.1 Related content), (/change-name-address-v5c, PAGE<:<NULL<:<NULL), (/search?q=change+of+owner, PAGE<:<NULL<:<NULL), (/search?q=change+of+owner, EVENT<:<searchResults<:<resultsShown), (/search?q=change+of+owner, EVENT<:<UX<:<click), (/sold-bought-vehicle, PAGE<:<NULL<:<NULL), (/sold-bought-vehicle/y, PAGE<:<NULL<:<NULL), (/sold-bought-vehicle/y/no, PAGE<:<NULL<:<NULL), (/sold-bought-vehicle/y/no/put-it-into-someone-else-s-name, PAGE<:<NULL<...   \n",
       "2004370                                                                                                                                                                                                                                                                                                                                                                                [(/done/vehicle-tax, PAGE<:<NULL<:<NULL), (/search?q=mot, PAGE<:<NULL<:<NULL), (/search?q=mot, EVENT<:<searchResults<:<resultsShown)]   \n",
       "2007839                                                      [(/vehicle-tax, PAGE<:<NULL<:<NULL), (/search?q=tax+free+childcare, PAGE<:<NULL<:<NULL), (/search?q=tax+free+childcare, EVENT<:<searchResults<:<resultsShown), (/search?q=tax+free+childcare, EVENT<:<UX<:<click), (/sign-in-childcare-account, PAGE<:<NULL<:<NULL), (/sign-in-childcare-account, EVENT<:<External Link Clicked<:<https://childcare-support.tax.service.gov.uk/par/app/trialmessage?_ga=2.24217402.1009282267.1541363109-130367817.1507064005)]   \n",
       "2007983  [(/government/publications/income-tax-leaving-the-uk-getting-your-tax-right-p85, PAGE<:<NULL<:<NULL), (/government/publications/income-tax-leaving-the-uk-getting-your-tax-right-p85, EVENT<:<NULL<:<NULL), (/search?q=p85+form, PAGE<:<NULL<:<NULL), (/search?q=p85+form, EVENT<:<searchResults<:<resultsShown), (/search?q=p85+form, EVENT<:<NULL<:<NULL), (/government/publications/income-tax-leaving-the-uk-getting-your-tax-right-p85, PAGE<:<NULL<:<NULL), (/government/publications/income-tax-leaving-t...   \n",
       "2008265                                                                                                                                                                                                                                      [(/done/vehicle-tax, PAGE<:<NULL<:<NULL), (/search?q=mot, EVENT<:<searchResults<:<resultsShown), (/search?q=mot, PAGE<:<NULL<:<NULL), (/check-mot-status, PAGE<:<NULL<:<NULL), (/check-mot-status, EVENT<:<External Link Clicked<:<https://www.vehicleenquiry.service.gov.uk/)]   \n",
       "2011601  [(/book-driving-test, PAGE<:<NULL<:<NULL), (/search?q=show+me+tell+me, PAGE<:<NULL<:<NULL), (/search?q=show+me+tell+me, EVENT<:<searchResults<:<resultsShown), (/search?q=show+me+tell+me, EVENT<:<UX<:<click), (/government/publications/car-show-me-tell-me-vehicle-safety-questions, PAGE<:<NULL<:<NULL), (/government/publications/car-show-me-tell-me-vehicle-safety-questions/car-show-me-tell-me-vehicle-safety-questions, PAGE<:<NULL<:<NULL), (/government/publications/car-show-me-tell-me-vehicle-saf...   \n",
       "2013116                                                                                                                                                                                                                                                                                                                                                      [(/getting-an-mot/mot-test-fees, PAGE<:<NULL<:<NULL), (/search?q=living+van, EVENT<:<searchResults<:<resultsShown), (/search?q=living+van, PAGE<:<NULL<:<NULL)]   \n",
       "2013347                                         [(/help-with-childcare-costs, PAGE<:<NULL<:<NULL), (/search?q=childcare+account, PAGE<:<NULL<:<NULL), (/search?q=childcare+account, EVENT<:<searchResults<:<resultsShown), (/search?q=childcare+account, EVENT<:<UX<:<click), (/sign-in-childcare-account, PAGE<:<NULL<:<NULL), (/sign-in-childcare-account, EVENT<:<External Link Clicked<:<https://childcare-support.tax.service.gov.uk/par/app/trialmessage?_ga=2.183673830.1309309953.1541343240-1750456444.1529499803)]   \n",
       "2015420                                                                                                                                                                                                                                                                         [(/check-mot-history, PAGE<:<NULL<:<NULL), (/search?q=[postcode]j, PAGE<:<NULL<:<NULL), (/check-mot-history, EVENT<:<External Link Clicked<:<https://www.check-mot.service.gov.uk/?_ga=2.41178603.811155194.1541329040-94716840.1541329040)]   \n",
       "2019777                                                                                                                                                                     [(/universal-credit, PAGE<:<NULL<:<NULL), (/search?q=sign, PAGE<:<NULL<:<NULL), (/search?q=sign, EVENT<:<searchResults<:<resultsShown), (/search?q=sign, EVENT<:<UX<:<click), (/sign-in-universal-credit, PAGE<:<NULL<:<NULL), (/sign-in-universal-credit, EVENT<:<External Link Clicked<:<https://www.universal-credit.service.gov.uk/sign-in)]   \n",
       "2020272  [(/government/organisations/hm-revenue-customs/contact/self-assessment, PAGE<:<NULL<:<NULL), (/government/organisations/hm-revenue-customs/contact/self-assessment, EVENT<:<webchat<:<available), (/government/organisations/hm-revenue-customs/contact/self-assessment, EVENT<:<webchat<:<error), (/government/organisations/hm-revenue-customs/contact/self-assessment, EVENT<:<webchat<:<available), (/search?q=working+for+yourself, PAGE<:<NULL<:<NULL), (/search?q=working+for+yourself, EVENT<:<searchRes...   \n",
       "2020548                                 [(/wills-probate-inheritance/applying-for-a-grant-of-representation, PAGE<:<NULL<:<NULL), (/search?q=pa3, PAGE<:<NULL<:<NULL), (/search?q=pa3, EVENT<:<searchResults<:<resultsShown), (/search?q=pa3, EVENT<:<UX<:<click), (/government/publications/probate-fees-from-april-2014-pa3, PAGE<:<NULL<:<NULL), (/government/publications/probate-fees-from-april-2014-pa3, EVENT<:<Download Link Clicked<:</government/uploads/system/uploads/attachment_data/file/718880/pa3-eng.pdf)]   \n",
       "2022305                                                                                          [(/universal-credit, PAGE<:<NULL<:<NULL), (/search?q=login, PAGE<:<NULL<:<NULL), (/search?q=login, EVENT<:<searchResults<:<resultsShown), (/universal-credit, PAGE<:<NULL<:<NULL), (/universal-credit, EVENT<:<user_satisfaction_survey<:<banner_shown), (/sign-in-universal-credit, PAGE<:<NULL<:<NULL), (/sign-in-universal-credit, EVENT<:<External Link Clicked<:<https://www.universal-credit.service.gov.uk/sign-in)]   \n",
       "2025143                                                                                                                                                                                                                                                                                   [(/car-tax-disc-without-v11-reminder, PAGE<:<NULL<:<NULL), (/search?q=sorn, EVENT<:<searchResults<:<resultsShown), (/search?q=sorn, PAGE<:<NULL<:<NULL), (/search?q=sorn, EVENT<:<UX<:<click), (/make-a-sorn, PAGE<:<NULL<:<NULL)]   \n",
       "2025208                                                                                                                                                                                        [(/universal-credit/how-to-claim, PAGE<:<NULL<:<NULL), (/search?q=sign+in, PAGE<:<NULL<:<NULL), (/search?q=sign+in, EVENT<:<searchResults<:<resultsShown), (/sign-in-universal-credit, PAGE<:<NULL<:<NULL), (/sign-in-universal-credit, EVENT<:<External Link Clicked<:<https://www.universal-credit.service.gov.uk/sign-in)]   \n",
       "2025763              [(/government/publications/cannabis-based-medicines-expert-review-panel/cannabis-and-cannabis-based-medicinal-products, PAGE<:<NULL<:<NULL), (/government/publications/cannabis-based-medicines-expert-review-panel/cannabis-and-cannabis-based-medicinal-products, EVENT<:<contentsClicked<:<content_item 6), (/search?q=cannabis, PAGE<:<NULL<:<NULL), (/search?q=cannabis, EVENT<:<searchResults<:<resultsShown), (/government/publications/industrial-hemp-licensing-guidance, PAGE<:<NULL<:<NULL)]   \n",
       "2028146  [(/get-tax-free-childcare, PAGE<:<NULL<:<NULL), (/get-tax-free-childcare, EVENT<:<pageElementInteraction<:<stepNavShown), (/search?q=childcare+account, PAGE<:<NULL<:<NULL), (/search?q=childcare+account, EVENT<:<searchResults<:<resultsShown), (/search?q=childcare+account, EVENT<:<UX<:<click), (/sign-in-childcare-account, PAGE<:<NULL<:<NULL), (/sign-in-childcare-account, EVENT<:<External Link Clicked<:<https://childcare-support.tax.service.gov.uk/par/app/trialmessage?_ga=2.252221577.1095526651...   \n",
       "2029554  [(/government/consultations/general-data-protection-regulation-call-for-views, PAGE<:<NULL<:<NULL), (/search?q=gdpr, EVENT<:<user_satisfaction_survey<:<banner_shown), (/search?q=gdpr, PAGE<:<NULL<:<NULL), (/search?q=gdpr, EVENT<:<searchResults<:<resultsShown), (/search?q=gdpr, EVENT<:<UX<:<click), (/government/publications/guide-to-the-general-data-protection-regulation, PAGE<:<NULL<:<NULL), (/government/publications/guide-to-the-general-data-protection-regulation, EVENT<:<Download Link Clic...   \n",
       "2030272                                                                                                                                                [(/done/vehicle-tax, PAGE<:<NULL<:<NULL), (/search?q=sorn, EVENT<:<searchResults<:<resultsShown), (/search?q=sorn, EVENT<:<user_satisfaction_survey<:<banner_shown), (/search?q=sorn, PAGE<:<NULL<:<NULL), (/search?q=sorn, EVENT<:<UX<:<click), (/make-a-sorn, PAGE<:<NULL<:<NULL), (/make-a-sorn, EVENT<:<External Link Clicked<:<https://www.sorn.service.gov.uk)]   \n",
       "2031478  [(/government/publications/self-assessment-register-a-partnership-for-self-assessment-sa400, PAGE<:<NULL<:<NULL), (/search?q=sa401, PAGE<:<NULL<:<NULL), (/search?q=sa401, EVENT<:<searchResults<:<resultsShown), (/government/publications/self-assessment-register-a-partner-for-self-assessment-and-class-2-nics-sa401, PAGE<:<NULL<:<NULL), (/government/publications/self-assessment-register-a-partner-for-self-assessment-and-class-2-nics-sa401, EVENT<:<External Link Clicked<:<https://public-online.h...   \n",
       "2031954  [(/tax-overpayments-and-underpayments, PAGE<:<NULL<:<NULL), (/search?q=personal+tax+account, EVENT<:<user_satisfaction_survey<:<banner_shown), (/search?q=personal+tax+account, PAGE<:<NULL<:<NULL), (/search?q=personal+tax+account, EVENT<:<searchResults<:<resultsShown), (/search?q=personal+tax+account, EVENT<:<UX<:<click), (/personal-tax-account, PAGE<:<NULL<:<NULL), (/personal-tax-account/sign-in/prove-identity, PAGE<:<NULL<:<NULL), (/personal-tax-account/sign-in/prove-identity, EVENT<:<Radio...   \n",
       "2032341                                                                                                               [(/stamp-duty-land-tax, PAGE<:<NULL<:<NULL), (/search?q=stamp+duty+calculator, PAGE<:<NULL<:<NULL), (/search?q=stamp+duty+calculator, EVENT<:<searchResults<:<resultsShown), (/search?q=stamp+duty+calculator, EVENT<:<UX<:<click), (/stamp-duty-land-tax, PAGE<:<NULL<:<NULL), (/stamp-duty-land-tax, EVENT<:<External Link Clicked<:<https://www.tax.service.gov.uk/calculate-stamp-duty-land-tax/)]   \n",
       "2032893                                                                                                                                                                                                                                                                                                                                        [(/electoral-register/view-electoral-register, PAGE<:<NULL<:<NULL), (/search?q=[postcode], PAGE<:<NULL<:<NULL), (/search?q=[postcode], EVENT<:<searchResults<:<resultsShown)]   \n",
       "2033111                                                                                                                                                                                                                              [(/check-mot-history, PAGE<:<NULL<:<NULL), (/search?q=[postcode]v, PAGE<:<NULL<:<NULL), (/check-mot-history, PAGE<:<NULL<:<NULL), (/check-mot-history, EVENT<:<External Link Clicked<:<https://www.check-mot.service.gov.uk/?_ga=2.177900647.3309350.1541346372-1978965151.1532933332)]   \n",
       "2033638                                                                                                                                                                                                                                                                                [(/check-mot-history, PAGE<:<NULL<:<NULL), (/search?q=, PAGE<:<NULL<:<NULL), (/check-mot-history, EVENT<:<External Link Clicked<:<https://www.check-mot.service.gov.uk/?_ga=2.209433874.1077758653.1541368701-1985921529.1456347816)]   \n",
       "2034272  [(/done/vehicle-tax, PAGE<:<NULL<:<NULL), (/search?q=cancel+tax, EVENT<:<searchResults<:<resultsShown), (/search?q=cancel+tax, EVENT<:<user_satisfaction_survey<:<banner_shown), (/search?q=cancel+tax, PAGE<:<NULL<:<NULL), (/search?q=cancel+tax, EVENT<:<UX<:<click), (/vehicle-tax-refund, PAGE<:<NULL<:<NULL), (/vehicle-tax-refund, EVENT<:<user_satisfaction_survey<:<banner_shown), (/sold-bought-vehicle, PAGE<:<NULL<:<NULL), (/sold-bought-vehicle/y, PAGE<:<NULL<:<NULL), (/sold-bought-vehicle/y/ye...   \n",
       "\n",
       "                                                                                                                                                                                                                                          Page_List  \\\n",
       "9086                                                                                                                                                                                                [/universal-credit, /search?q=universal+credit]   \n",
       "12793                                                                                                                                                                                                          [/jobsearch, /search?q=, /jobsearch]   \n",
       "14342                                                                                                                                                                               [/foreign-travel-advice/usa/entry-requirements, /search?q=esta]   \n",
       "15128                                                                                                                                                                              [/vehicle-tax, /search?q=apprenticeship+, /apply-apprenticeship]   \n",
       "15329                                                                                                                        [/get-vehicle-information-from-dvla, /search?q=[postcode]h, /search?q=[postcode]h, /get-vehicle-information-from-dvla]   \n",
       "15463                                                                                                                                                                                      [/done/make-a-sorn, /search?q=tax+vehicle, /vehicle-tax]   \n",
       "16261                                                                                                                                                                               [/vehicle-tax, /search?q=check+vehicle+tax, /check-vehicle-tax]   \n",
       "16397                                                                                                                                                                        [/get-vehicle-information-from-dvla, /search?q=road+tax, /vehicle-tax]   \n",
       "16401                                                                                                                                                               [/qualify-tax-credits, /search?q=childcare+account, /sign-in-childcare-account]   \n",
       "16452                                                                                                                                                                                        [/done/check-vehicle-tax, /search?q=tax, /vehicle-tax]   \n",
       "16522                                                                                                                                                           [/get-tax-free-childcare, /search?q=childcare+account+, /sign-in-childcare-account]   \n",
       "16671                                                                                                                                                                     [/get-tax-free-childcare, /search?q=sign+in+, /sign-in-childcare-account]   \n",
       "16715                                                                                                                                                                    [/vehicle-insurance/uninsured-vehicles, /search?q=tax, /check-vehicle-tax]   \n",
       "16760                                                                                                                                                            [/get-tax-free-childcare, /search?q=childcare+account, /sign-in-childcare-account]   \n",
       "16872                                                                                                                                                                   [/help-with-childcare-costs, /search?q=sign+in, /sign-in-childcare-account]   \n",
       "17099                                                                                                                                                             [/personal-tax-account, /search?q=sign+in, /log-in-register-hmrc-online-services]   \n",
       "17172                                                                                                                                                                                 [/contact-the-dvla, /search?q=theory+test, /book-theory-test]   \n",
       "17299                                                                                                                                                        [/help-with-childcare-costs, /search?q=childcare+account+, /sign-in-childcare-account]   \n",
       "17380                                                                                                                                                                           [/book-driving-test, /search?q=cancellation+, /change-driving-test]   \n",
       "18077                                                                                                                                                                                    [/change-theory-test, /search?q=theory, /book-theory-test]   \n",
       "18109                                                                                                                                                                  [/done/vehicle-tax, /search?q=tax+vehicle+, /vehicle-tax, /done/vehicle-tax]   \n",
       "18120                                                                                                                                [/help-with-childcare-costs, /search?q=childcare+account, /sign-in-childcare-account, /get-tax-free-childcare]   \n",
       "18963                                                                                                                                                                                  [/vehicle-tax, /search?q=dorm, /search?q=dorm, /make-a-sorn]   \n",
       "19633                                                                                                                                                               [/government-gateway, /search?q=sign+in, /log-in-register-hmrc-online-services]   \n",
       "19978                                                                                                      [/student-finance, /search?q=login, /student-finance-register-login, /student-finance-register-login, /search?q=login, /student-finance]   \n",
       "20071                                                                                                                                                                                 [/vehicle-tax, /search?q=some, /search?q=sorn+, /make-a-sorn]   \n",
       "37543                                                                                                                                                                                                [/income-tax-rates, /search?q=income+tax+2019]   \n",
       "38584                                                                                                                                                                     [/government/organisations/department-for-education/about, /search?q=asp]   \n",
       "38720                                                                                                                                                                                                 [/winter-fuel-payment, /search?q=winter+fuel]   \n",
       "44365                                                                                                                                                                                          [/contact-pension-service, /search?q=change+address]   \n",
       "...                                                                                                                                                                                                                                             ...   \n",
       "2000084                                                                                                                                                        [/dbs-check-applicant-criminal-record, /search?q=dbs, /request-copy-criminal-record]   \n",
       "2000158                                                                     [/guidance/government-gateway-replacement-services-that-have-moved, /search?q=cis, /what-is-the-construction-industry-scheme, /use-construction-industry-scheme-online]   \n",
       "2000335                                                                                                                                                                                                                  [/vehicle-tax, /search?q=]   \n",
       "2001506                                                                                                                                                               [/stamp-duty-land-tax, /search?q=stamp+duty+calculator, /stamp-duty-land-tax]   \n",
       "2001675                                                   [/change-name-address-v5c, /search?q=change+of+owner, /sold-bought-vehicle, /sold-bought-vehicle/y, /sold-bought-vehicle/y/no, /sold-bought-vehicle/y/no/put-it-into-someone-else-s-name]   \n",
       "2004370                                                                                                                                                                                                          [/done/vehicle-tax, /search?q=mot]   \n",
       "2007839                                                                                                                                                                    [/vehicle-tax, /search?q=tax+free+childcare, /sign-in-childcare-account]   \n",
       "2007983                                                          [/government/publications/income-tax-leaving-the-uk-getting-your-tax-right-p85, /search?q=p85+form, /government/publications/income-tax-leaving-the-uk-getting-your-tax-right-p85]   \n",
       "2008265                                                                                                                                                                                       [/done/vehicle-tax, /search?q=mot, /check-mot-status]   \n",
       "2011601  [/book-driving-test, /search?q=show+me+tell+me, /government/publications/car-show-me-tell-me-vehicle-safety-questions, /government/publications/car-show-me-tell-me-vehicle-safety-questions/car-show-me-tell-me-vehicle-safety-questions]   \n",
       "2013116                                                                                                                                                                                       [/getting-an-mot/mot-test-fees, /search?q=living+van]   \n",
       "2013347                                                                                                                                                       [/help-with-childcare-costs, /search?q=childcare+account, /sign-in-childcare-account]   \n",
       "2015420                                                                                                                                                                                                 [/check-mot-history, /search?q=[postcode]j]   \n",
       "2019777                                                                                                                                                                              [/universal-credit, /search?q=sign, /sign-in-universal-credit]   \n",
       "2020272                                      [/government/organisations/hm-revenue-customs/contact/self-assessment, /search?q=working+for+yourself, /working-for-yourself, /log-in-file-self-assessment-tax-return/register-if-youre-self-employed]   \n",
       "2020548                                                                                               [/wills-probate-inheritance/applying-for-a-grant-of-representation, /search?q=pa3, /government/publications/probate-fees-from-april-2014-pa3]   \n",
       "2022305                                                                                                                                                          [/universal-credit, /search?q=login, /universal-credit, /sign-in-universal-credit]   \n",
       "2025143                                                                                                                                                                          [/car-tax-disc-without-v11-reminder, /search?q=sorn, /make-a-sorn]   \n",
       "2025208                                                                                                                                                              [/universal-credit/how-to-claim, /search?q=sign+in, /sign-in-universal-credit]   \n",
       "2025763                                     [/government/publications/cannabis-based-medicines-expert-review-panel/cannabis-and-cannabis-based-medicinal-products, /search?q=cannabis, /government/publications/industrial-hemp-licensing-guidance]   \n",
       "2028146                                                                        [/get-tax-free-childcare, /search?q=childcare+account, /sign-in-childcare-account, /get-tax-free-childcare, /search?q=childcare+account, /sign-in-childcare-account]   \n",
       "2029554                                                                     [/government/consultations/general-data-protection-regulation-call-for-views, /search?q=gdpr, /government/publications/guide-to-the-general-data-protection-regulation]   \n",
       "2030272                                                                                                                                                                                           [/done/vehicle-tax, /search?q=sorn, /make-a-sorn]   \n",
       "2031478                        [/government/publications/self-assessment-register-a-partnership-for-self-assessment-sa400, /search?q=sa401, /government/publications/self-assessment-register-a-partner-for-self-assessment-and-class-2-nics-sa401]   \n",
       "2031954                                                                                                  [/tax-overpayments-and-underpayments, /search?q=personal+tax+account, /personal-tax-account, /personal-tax-account/sign-in/prove-identity]   \n",
       "2032341                                                                                                                                                               [/stamp-duty-land-tax, /search?q=stamp+duty+calculator, /stamp-duty-land-tax]   \n",
       "2032893                                                                                                                                                                         [/electoral-register/view-electoral-register, /search?q=[postcode]]   \n",
       "2033111                                                                                                                                                                             [/check-mot-history, /search?q=[postcode]v, /check-mot-history]   \n",
       "2033638                                                                                                                                                                                                            [/check-mot-history, /search?q=]   \n",
       "2034272                                        [/done/vehicle-tax, /search?q=cancel+tax, /vehicle-tax-refund, /sold-bought-vehicle, /sold-bought-vehicle/y, /sold-bought-vehicle/y/yes, /sold-bought-vehicle/y/yes/bought-a-vehicle-into-the-trade]   \n",
       "\n",
       "                                                                                                                                                                                                                            PageSequence_internal  \\\n",
       "9086                                                                                                                                                                                                /universal-credit>>/search?q=universal+credit   \n",
       "12793                                                                                                                                                                                                          /jobsearch>>/search?q=>>/jobsearch   \n",
       "14342                                                                                                                                                                               /foreign-travel-advice/usa/entry-requirements>>/search?q=esta   \n",
       "15128                                                                                                                                                                              /vehicle-tax>>/search?q=apprenticeship+>>/apply-apprenticeship   \n",
       "15329                                                                                                                        /get-vehicle-information-from-dvla>>/search?q=[postcode]h>>/search?q=[postcode]h>>/get-vehicle-information-from-dvla   \n",
       "15463                                                                                                                                                                                      /done/make-a-sorn>>/search?q=tax+vehicle>>/vehicle-tax   \n",
       "16261                                                                                                                                                                               /vehicle-tax>>/search?q=check+vehicle+tax>>/check-vehicle-tax   \n",
       "16397                                                                                                                                                                        /get-vehicle-information-from-dvla>>/search?q=road+tax>>/vehicle-tax   \n",
       "16401                                                                                                                                                               /qualify-tax-credits>>/search?q=childcare+account>>/sign-in-childcare-account   \n",
       "16452                                                                                                                                                                                        /done/check-vehicle-tax>>/search?q=tax>>/vehicle-tax   \n",
       "16522                                                                                                                                                           /get-tax-free-childcare>>/search?q=childcare+account+>>/sign-in-childcare-account   \n",
       "16671                                                                                                                                                                     /get-tax-free-childcare>>/search?q=sign+in+>>/sign-in-childcare-account   \n",
       "16715                                                                                                                                                                    /vehicle-insurance/uninsured-vehicles>>/search?q=tax>>/check-vehicle-tax   \n",
       "16760                                                                                                                                                            /get-tax-free-childcare>>/search?q=childcare+account>>/sign-in-childcare-account   \n",
       "16872                                                                                                                                                                   /help-with-childcare-costs>>/search?q=sign+in>>/sign-in-childcare-account   \n",
       "17099                                                                                                                                                             /personal-tax-account>>/search?q=sign+in>>/log-in-register-hmrc-online-services   \n",
       "17172                                                                                                                                                                                 /contact-the-dvla>>/search?q=theory+test>>/book-theory-test   \n",
       "17299                                                                                                                                                        /help-with-childcare-costs>>/search?q=childcare+account+>>/sign-in-childcare-account   \n",
       "17380                                                                                                                                                                           /book-driving-test>>/search?q=cancellation+>>/change-driving-test   \n",
       "18077                                                                                                                                                                                    /change-theory-test>>/search?q=theory>>/book-theory-test   \n",
       "18109                                                                                                                                                                  /done/vehicle-tax>>/search?q=tax+vehicle+>>/vehicle-tax>>/done/vehicle-tax   \n",
       "18120                                                                                                                                /help-with-childcare-costs>>/search?q=childcare+account>>/sign-in-childcare-account>>/get-tax-free-childcare   \n",
       "18963                                                                                                                                                                                  /vehicle-tax>>/search?q=dorm>>/search?q=dorm>>/make-a-sorn   \n",
       "19633                                                                                                                                                               /government-gateway>>/search?q=sign+in>>/log-in-register-hmrc-online-services   \n",
       "19978                                                                                                      /student-finance>>/search?q=login>>/student-finance-register-login>>/student-finance-register-login>>/search?q=login>>/student-finance   \n",
       "20071                                                                                                                                                                                 /vehicle-tax>>/search?q=some>>/search?q=sorn+>>/make-a-sorn   \n",
       "37543                                                                                                                                                                                                /income-tax-rates>>/search?q=income+tax+2019   \n",
       "38584                                                                                                                                                                     /government/organisations/department-for-education/about>>/search?q=asp   \n",
       "38720                                                                                                                                                                                                 /winter-fuel-payment>>/search?q=winter+fuel   \n",
       "44365                                                                                                                                                                                          /contact-pension-service>>/search?q=change+address   \n",
       "...                                                                                                                                                                                                                                           ...   \n",
       "2000084                                                                                                                                                        /dbs-check-applicant-criminal-record>>/search?q=dbs>>/request-copy-criminal-record   \n",
       "2000158                                                                     /guidance/government-gateway-replacement-services-that-have-moved>>/search?q=cis>>/what-is-the-construction-industry-scheme>>/use-construction-industry-scheme-online   \n",
       "2000335                                                                                                                                                                                                                  /vehicle-tax>>/search?q=   \n",
       "2001506                                                                                                                                                               /stamp-duty-land-tax>>/search?q=stamp+duty+calculator>>/stamp-duty-land-tax   \n",
       "2001675                                                   /change-name-address-v5c>>/search?q=change+of+owner>>/sold-bought-vehicle>>/sold-bought-vehicle/y>>/sold-bought-vehicle/y/no>>/sold-bought-vehicle/y/no/put-it-into-someone-else-s-name   \n",
       "2004370                                                                                                                                                                                                          /done/vehicle-tax>>/search?q=mot   \n",
       "2007839                                                                                                                                                                    /vehicle-tax>>/search?q=tax+free+childcare>>/sign-in-childcare-account   \n",
       "2007983                                                          /government/publications/income-tax-leaving-the-uk-getting-your-tax-right-p85>>/search?q=p85+form>>/government/publications/income-tax-leaving-the-uk-getting-your-tax-right-p85   \n",
       "2008265                                                                                                                                                                                       /done/vehicle-tax>>/search?q=mot>>/check-mot-status   \n",
       "2011601  /book-driving-test>>/search?q=show+me+tell+me>>/government/publications/car-show-me-tell-me-vehicle-safety-questions>>/government/publications/car-show-me-tell-me-vehicle-safety-questions/car-show-me-tell-me-vehicle-safety-questions   \n",
       "2013116                                                                                                                                                                                       /getting-an-mot/mot-test-fees>>/search?q=living+van   \n",
       "2013347                                                                                                                                                       /help-with-childcare-costs>>/search?q=childcare+account>>/sign-in-childcare-account   \n",
       "2015420                                                                                                                                                                                                 /check-mot-history>>/search?q=[postcode]j   \n",
       "2019777                                                                                                                                                                              /universal-credit>>/search?q=sign>>/sign-in-universal-credit   \n",
       "2020272                                      /government/organisations/hm-revenue-customs/contact/self-assessment>>/search?q=working+for+yourself>>/working-for-yourself>>/log-in-file-self-assessment-tax-return/register-if-youre-self-employed   \n",
       "2020548                                                                                               /wills-probate-inheritance/applying-for-a-grant-of-representation>>/search?q=pa3>>/government/publications/probate-fees-from-april-2014-pa3   \n",
       "2022305                                                                                                                                                          /universal-credit>>/search?q=login>>/universal-credit>>/sign-in-universal-credit   \n",
       "2025143                                                                                                                                                                          /car-tax-disc-without-v11-reminder>>/search?q=sorn>>/make-a-sorn   \n",
       "2025208                                                                                                                                                              /universal-credit/how-to-claim>>/search?q=sign+in>>/sign-in-universal-credit   \n",
       "2025763                                     /government/publications/cannabis-based-medicines-expert-review-panel/cannabis-and-cannabis-based-medicinal-products>>/search?q=cannabis>>/government/publications/industrial-hemp-licensing-guidance   \n",
       "2028146                                                                        /get-tax-free-childcare>>/search?q=childcare+account>>/sign-in-childcare-account>>/get-tax-free-childcare>>/search?q=childcare+account>>/sign-in-childcare-account   \n",
       "2029554                                                                     /government/consultations/general-data-protection-regulation-call-for-views>>/search?q=gdpr>>/government/publications/guide-to-the-general-data-protection-regulation   \n",
       "2030272                                                                                                                                                                                           /done/vehicle-tax>>/search?q=sorn>>/make-a-sorn   \n",
       "2031478                        /government/publications/self-assessment-register-a-partnership-for-self-assessment-sa400>>/search?q=sa401>>/government/publications/self-assessment-register-a-partner-for-self-assessment-and-class-2-nics-sa401   \n",
       "2031954                                                                                                  /tax-overpayments-and-underpayments>>/search?q=personal+tax+account>>/personal-tax-account>>/personal-tax-account/sign-in/prove-identity   \n",
       "2032341                                                                                                                                                               /stamp-duty-land-tax>>/search?q=stamp+duty+calculator>>/stamp-duty-land-tax   \n",
       "2032893                                                                                                                                                                         /electoral-register/view-electoral-register>>/search?q=[postcode]   \n",
       "2033111                                                                                                                                                                             /check-mot-history>>/search?q=[postcode]v>>/check-mot-history   \n",
       "2033638                                                                                                                                                                                                            /check-mot-history>>/search?q=   \n",
       "2034272                                        /done/vehicle-tax>>/search?q=cancel+tax>>/vehicle-tax-refund>>/sold-bought-vehicle>>/sold-bought-vehicle/y>>/sold-bought-vehicle/y/yes>>/sold-bought-vehicle/y/yes/bought-a-vehicle-into-the-trade   \n",
       "\n",
       "                                                                                                                                                                                                                                                                                                                                                                                                                                                                                                                  Event_List  \\\n",
       "9086                                                                                                                                                                                                                                                                                                                                                                                                                             [('PAGE_NULL', 'PAGE_NULL'), ('searchResults', 'resultsShown'), ('PAGE_NULL', 'PAGE_NULL')]   \n",
       "12793                                                                                                                                                                                                                                                                                                                                                                         [('PAGE_NULL', 'PAGE_NULL'), ('PAGE_NULL', 'PAGE_NULL'), ('External Link Clicked', 'https://findajob.dwp.gov.uk'), ('PAGE_NULL', 'PAGE_NULL')]   \n",
       "14342                                                                                                                                                                                                                                                                                                                                                   [('PAGE_NULL', 'PAGE_NULL'), ('PAGE_NULL', 'PAGE_NULL'), ('searchResults', 'resultsShown'), ('UX', 'click'), ('External Link Clicked', 'https://esta.cbp.dhs.gov/')]   \n",
       "15128                                                                                                                                                                                                                                                                                               [('PAGE_NULL', 'PAGE_NULL'), ('PAGE_NULL', 'PAGE_NULL'), ('searchResults', 'resultsShown'), ('PAGE_NULL', 'PAGE_NULL'), ('External Link Clicked', 'https://www.findapprenticeship.service.gov.uk/apprenticeshipsearch')]   \n",
       "15329                                                                                                                                                                                                                                                                                                 [('PAGE_NULL', 'PAGE_NULL'), ('PAGE_NULL', 'PAGE_NULL'), ('External Link Clicked', 'http://webarchive.nationalarchives.gov.uk/adv_search/?query=[postcode]H'), ('PAGE_NULL', 'PAGE_NULL'), ('PAGE_NULL', 'PAGE_NULL')]   \n",
       "15463                                                                                                                                                                                                                                                                                                                                                                               [('PAGE_NULL', 'PAGE_NULL'), ('PAGE_NULL', 'PAGE_NULL'), ('searchResults', 'resultsShown'), ('UX', 'click'), ('PAGE_NULL', 'PAGE_NULL')]   \n",
       "16261                                                                                                                                                                                                                                                                                                       [('PAGE_NULL', 'PAGE_NULL'), ('PAGE_NULL', 'PAGE_NULL'), ('searchResults', 'resultsShown'), ('UX', 'click'), ('PAGE_NULL', 'PAGE_NULL'), ('External Link Clicked', 'https://www.vehicleenquiry.service.gov.uk')]   \n",
       "16397                                                                                                                                                                                                                                                                                                           [('PAGE_NULL', 'PAGE_NULL'), ('PAGE_NULL', 'PAGE_NULL'), ('searchResults', 'resultsShown'), ('UX', 'click'), ('PAGE_NULL', 'PAGE_NULL'), ('External Link Clicked', 'https://www.vehicletax.service.gov.uk')]   \n",
       "16401                                                                                                                                                                                                                   [('PAGE_NULL', 'PAGE_NULL'), ('PAGE_NULL', 'PAGE_NULL'), ('searchResults', 'resultsShown'), ('UX', 'click'), ('PAGE_NULL', 'PAGE_NULL'), ('External Link Clicked', 'https://childcare-support.tax.service.gov.uk/par/app/trialmessage?_ga=2.255911115.1345202768.1540980008-1635372066.1420521869')]   \n",
       "16452                                                                                                                                                                                                                                                                                                           [('PAGE_NULL', 'PAGE_NULL'), ('PAGE_NULL', 'PAGE_NULL'), ('searchResults', 'resultsShown'), ('UX', 'click'), ('PAGE_NULL', 'PAGE_NULL'), ('External Link Clicked', 'https://www.vehicletax.service.gov.uk')]   \n",
       "16522                                                                                                                                                                                                                    [('PAGE_NULL', 'PAGE_NULL'), ('PAGE_NULL', 'PAGE_NULL'), ('searchResults', 'resultsShown'), ('UX', 'click'), ('PAGE_NULL', 'PAGE_NULL'), ('External Link Clicked', 'https://childcare-support.tax.service.gov.uk/par/app/trialmessage?_ga=2.237803458.371924673.1540980247-1034314404.1540980247')]   \n",
       "16671                                                                                                                                                                                                                    [('PAGE_NULL', 'PAGE_NULL'), ('PAGE_NULL', 'PAGE_NULL'), ('searchResults', 'resultsShown'), ('UX', 'click'), ('PAGE_NULL', 'PAGE_NULL'), ('External Link Clicked', 'https://childcare-support.tax.service.gov.uk/par/app/trialmessage?_ga=2.69637072.1318425933.1541026472-1765819500.1527085811')]   \n",
       "16715                                                                                                                                                                                                                                                                                                       [('PAGE_NULL', 'PAGE_NULL'), ('PAGE_NULL', 'PAGE_NULL'), ('searchResults', 'resultsShown'), ('UX', 'click'), ('PAGE_NULL', 'PAGE_NULL'), ('External Link Clicked', 'https://www.vehicleenquiry.service.gov.uk')]   \n",
       "16760                                                                                                                                                                                                                    [('PAGE_NULL', 'PAGE_NULL'), ('PAGE_NULL', 'PAGE_NULL'), ('searchResults', 'resultsShown'), ('UX', 'click'), ('PAGE_NULL', 'PAGE_NULL'), ('External Link Clicked', 'https://childcare-support.tax.service.gov.uk/par/app/trialmessage?_ga=2.195913711.292861643.1540886222-1784675713.1530012053')]   \n",
       "16872                                                                                                                                                                                                                    [('PAGE_NULL', 'PAGE_NULL'), ('PAGE_NULL', 'PAGE_NULL'), ('searchResults', 'resultsShown'), ('UX', 'click'), ('PAGE_NULL', 'PAGE_NULL'), ('External Link Clicked', 'https://childcare-support.tax.service.gov.uk/par/app/trialmessage?_ga=2.50487593.1243733197.1540926407-1532434325.1540926407')]   \n",
       "17099                                                                                                                                                                                                                                                                                                          [('PAGE_NULL', 'PAGE_NULL'), ('PAGE_NULL', 'PAGE_NULL'), ('searchResults', 'resultsShown'), ('UX', 'click'), ('PAGE_NULL', 'PAGE_NULL'), ('External Link Clicked', 'https://www.tax.service.gov.uk/account')]   \n",
       "17172                                                                                                                                                                                                                                                                                                   [('PAGE_NULL', 'PAGE_NULL'), ('PAGE_NULL', 'PAGE_NULL'), ('searchResults', 'resultsShown'), ('UX', 'click'), ('PAGE_NULL', 'PAGE_NULL'), ('External Link Clicked', 'https://wsr.theorytest.direct.gov.uk/dsa/book')]   \n",
       "17299                                                                                                                                                                                                                     [('PAGE_NULL', 'PAGE_NULL'), ('PAGE_NULL', 'PAGE_NULL'), ('searchResults', 'resultsShown'), ('UX', 'click'), ('PAGE_NULL', 'PAGE_NULL'), ('External Link Clicked', 'https://childcare-support.tax.service.gov.uk/par/app/trialmessage?_ga=2.55874796.693570659.1540920435-1527479287.1538847456')]   \n",
       "17380                                                                                                                                                                                                                                     [('PAGE_NULL', 'PAGE_NULL'), ('PAGE_NULL', 'PAGE_NULL'), ('searchResults', 'resultsShown'), ('UX', 'click'), ('PAGE_NULL', 'PAGE_NULL'), ('External Link Clicked', 'https://driverpracticaltest.direct.gov.uk/manage?_ga=2.173247077.772780029.1540944352-1636197093.1540944352')]   \n",
       "18077                                                                                                                                                                                                                     [('PAGE_NULL', 'PAGE_NULL'), ('External Link Clicked', 'https://wsr.theorytest.direct.gov.uk/dsa/change'), ('PAGE_NULL', 'PAGE_NULL'), ('searchResults', 'resultsShown'), ('UX', 'click'), ('PAGE_NULL', 'PAGE_NULL'), ('External Link Clicked', 'https://wsr.theorytest.direct.gov.uk/dsa/book')]   \n",
       "18109                                                                                                                                                                                                                                                                               [('PAGE_NULL', 'PAGE_NULL'), ('PAGE_NULL', 'PAGE_NULL'), ('searchResults', 'resultsShown'), ('UX', 'click'), ('PAGE_NULL', 'PAGE_NULL'), ('External Link Clicked', 'https://www.vehicletax.service.gov.uk'), ('PAGE_NULL', 'PAGE_NULL')]   \n",
       "18120                                                                                                                                                                                       [('PAGE_NULL', 'PAGE_NULL'), ('PAGE_NULL', 'PAGE_NULL'), ('searchResults', 'resultsShown'), ('UX', 'click'), ('PAGE_NULL', 'PAGE_NULL'), ('External Link Clicked', 'https://childcare-support.tax.service.gov.uk/par/app/trialmessage?_ga=2.116305350.1366356854.1540979140-1948015658.1506019607'), ('PAGE_NULL', 'PAGE_NULL')]   \n",
       "18963                                                                                                                                                                                                                                                  [('PAGE_NULL', 'PAGE_NULL'), ('PAGE_NULL', 'PAGE_NULL'), ('searchResults', 'resultsShown'), ('PAGE_NULL', 'PAGE_NULL'), ('searchResults', 'resultsShown'), ('UX', 'click'), ('PAGE_NULL', 'PAGE_NULL'), ('External Link Clicked', 'https://www.sorn.service.gov.uk')]   \n",
       "19633                                                                                                                                                                                                                [('PAGE_NULL', 'PAGE_NULL'), ('EVENT_NULL', 'EVENT_NULL'), ('PAGE_NULL', 'PAGE_NULL'), ('searchResults', 'resultsShown'), ('EVENT_NULL', 'EVENT_NULL'), ('UX', 'click'), ('PAGE_NULL', 'PAGE_NULL'), ('EVENT_NULL', 'EVENT_NULL'), ('External Link Clicked', 'https://www.tax.service.gov.uk/account')]   \n",
       "19978                                                                                                                                                                 [('PAGE_NULL', 'PAGE_NULL'), ('PAGE_NULL', 'PAGE_NULL'), ('searchResults', 'resultsShown'), ('UX', 'click'), ('PAGE_NULL', 'PAGE_NULL'), ('External Link Clicked', 'https://www.student-finance.service.gov.uk/customer/home'), ('PAGE_NULL', 'PAGE_NULL'), ('PAGE_NULL', 'PAGE_NULL'), ('searchResults', 'resultsShown'), ('PAGE_NULL', 'PAGE_NULL')]   \n",
       "20071                                                                                                                [('PAGE_NULL', 'PAGE_NULL'), ('External Link Clicked', 'https://www.vehicletax.service.gov.uk'), ('PAGE_NULL', 'PAGE_NULL'), ('searchResults', 'resultsShown'), ('PAGE_NULL', 'PAGE_NULL'), ('searchResults', 'resultsShown'), ('UX', 'click'), ('PAGE_NULL', 'PAGE_NULL'), ('External Link Clicked', 'https://www.sorn.service.gov.uk'), ('External Link Clicked', 'https://www.sorn.service.gov.uk')]   \n",
       "37543                                                                                                                                                                                                                                                                                                                                                                                                                            [('PAGE_NULL', 'PAGE_NULL'), ('searchResults', 'resultsShown'), ('PAGE_NULL', 'PAGE_NULL')]   \n",
       "38584                                                                                                                                                                                                                                                                                                                                                                                                                            [('PAGE_NULL', 'PAGE_NULL'), ('PAGE_NULL', 'PAGE_NULL'), ('searchResults', 'resultsShown')]   \n",
       "38720                                                                                                                                                                                                                                                                                                                                                                                                                            [('PAGE_NULL', 'PAGE_NULL'), ('searchResults', 'resultsShown'), ('PAGE_NULL', 'PAGE_NULL')]   \n",
       "44365                                                                                                                                                                                                                                                                                                                                                                              [('user_satisfaction_survey', 'banner_shown'), ('PAGE_NULL', 'PAGE_NULL'), ('PAGE_NULL', 'PAGE_NULL'), ('searchResults', 'resultsShown')]   \n",
       "...                                                                                                                                                                                                                                                                                                                                                                                                                                                                                                                      ...   \n",
       "2000084                                                                                                                                                                                                                                                                                                                                                                             [('PAGE_NULL', 'PAGE_NULL'), ('PAGE_NULL', 'PAGE_NULL'), ('searchResults', 'resultsShown'), ('UX', 'click'), ('PAGE_NULL', 'PAGE_NULL')]   \n",
       "2000158                                                                                                  [('PAGE_NULL', 'PAGE_NULL'), ('yesNoFeedbackForm', 'ffNoClick'), ('PAGE_NULL', 'PAGE_NULL'), ('searchResults', 'resultsShown'), ('PAGE_NULL', 'PAGE_NULL'), ('relatedLinkClicked', '1.2 Related content'), ('user_satisfaction_survey', 'banner_shown'), ('PAGE_NULL', 'PAGE_NULL'), ('External Link Clicked', 'https://www.tax.service.gov.uk/gg/sign-in?continue=/construction-ind-scheme/&origin=CIS-frontend')]   \n",
       "2000335                                                                                                                                                                                                                                                                                                                                                                                                                                                             [('PAGE_NULL', 'PAGE_NULL'), ('PAGE_NULL', 'PAGE_NULL')]   \n",
       "2001506                                                                                                                                                                                                                                                                                                                                                                                              [('PAGE_NULL', 'PAGE_NULL'), ('PAGE_NULL', 'PAGE_NULL'), ('searchResults', 'resultsShown'), ('PAGE_NULL', 'PAGE_NULL')]   \n",
       "2001675                                                                                                [('relatedLinkClicked', '1.1 Related content'), ('PAGE_NULL', 'PAGE_NULL'), ('PAGE_NULL', 'PAGE_NULL'), ('searchResults', 'resultsShown'), ('UX', 'click'), ('PAGE_NULL', 'PAGE_NULL'), ('PAGE_NULL', 'PAGE_NULL'), ('PAGE_NULL', 'PAGE_NULL'), ('PAGE_NULL', 'PAGE_NULL'), ('Simple Smart Answer', 'Completed'), ('External Link Clicked', 'https://www.buysellvehicle.service.gov.uk/sell-private/vehicle-lookup')]   \n",
       "2004370                                                                                                                                                                                                                                                                                                                                                                                                                          [('PAGE_NULL', 'PAGE_NULL'), ('PAGE_NULL', 'PAGE_NULL'), ('searchResults', 'resultsShown')]   \n",
       "2007839                                                                                                                                                                                                                   [('PAGE_NULL', 'PAGE_NULL'), ('PAGE_NULL', 'PAGE_NULL'), ('searchResults', 'resultsShown'), ('UX', 'click'), ('PAGE_NULL', 'PAGE_NULL'), ('External Link Clicked', 'https://childcare-support.tax.service.gov.uk/par/app/trialmessage?_ga=2.24217402.1009282267.1541363109-130367817.1507064005')]   \n",
       "2007983                                                                                                                                                                                  [('PAGE_NULL', 'PAGE_NULL'), ('EVENT_NULL', 'EVENT_NULL'), ('PAGE_NULL', 'PAGE_NULL'), ('searchResults', 'resultsShown'), ('EVENT_NULL', 'EVENT_NULL'), ('PAGE_NULL', 'PAGE_NULL'), ('EVENT_NULL', 'EVENT_NULL'), ('External Link Clicked', 'https://www.tax.service.gov.uk/forms/form/Leaving-the-UK-getting-your-tax-right/new')]   \n",
       "2008265                                                                                                                                                                                                                                                                                                                     [('PAGE_NULL', 'PAGE_NULL'), ('searchResults', 'resultsShown'), ('PAGE_NULL', 'PAGE_NULL'), ('PAGE_NULL', 'PAGE_NULL'), ('External Link Clicked', 'https://www.vehicleenquiry.service.gov.uk/')]   \n",
       "2011601                                                                                                                                                                                                                                                                                                   [('PAGE_NULL', 'PAGE_NULL'), ('PAGE_NULL', 'PAGE_NULL'), ('searchResults', 'resultsShown'), ('UX', 'click'), ('PAGE_NULL', 'PAGE_NULL'), ('PAGE_NULL', 'PAGE_NULL'), ('user_satisfaction_survey', 'banner_shown')]   \n",
       "2013116                                                                                                                                                                                                                                                                                                                                                                                                                          [('PAGE_NULL', 'PAGE_NULL'), ('searchResults', 'resultsShown'), ('PAGE_NULL', 'PAGE_NULL')]   \n",
       "2013347                                                                                                                                                                                                                 [('PAGE_NULL', 'PAGE_NULL'), ('PAGE_NULL', 'PAGE_NULL'), ('searchResults', 'resultsShown'), ('UX', 'click'), ('PAGE_NULL', 'PAGE_NULL'), ('External Link Clicked', 'https://childcare-support.tax.service.gov.uk/par/app/trialmessage?_ga=2.183673830.1309309953.1541343240-1750456444.1529499803')]   \n",
       "2015420                                                                                                                                                                                                                                                                                                                                 [('PAGE_NULL', 'PAGE_NULL'), ('PAGE_NULL', 'PAGE_NULL'), ('External Link Clicked', 'https://www.check-mot.service.gov.uk/?_ga=2.41178603.811155194.1541329040-94716840.1541329040')]   \n",
       "2019777                                                                                                                                                                                                                                                                                           [('PAGE_NULL', 'PAGE_NULL'), ('PAGE_NULL', 'PAGE_NULL'), ('searchResults', 'resultsShown'), ('UX', 'click'), ('PAGE_NULL', 'PAGE_NULL'), ('External Link Clicked', 'https://www.universal-credit.service.gov.uk/sign-in')]   \n",
       "2020272                                                                        [('PAGE_NULL', 'PAGE_NULL'), ('webchat', 'available'), ('webchat', 'error'), ('webchat', 'available'), ('PAGE_NULL', 'PAGE_NULL'), ('searchResults', 'resultsShown'), ('UX', 'click'), ('PAGE_NULL', 'PAGE_NULL'), ('PAGE_NULL', 'PAGE_NULL'), ('External Link Clicked', 'https://www.tax.service.gov.uk/government-gateway-registration-frontend?accountType=organisation&continue=/business-registration/introduction&origin=SA-frontend')]   \n",
       "2020548                                                                                                                                                                                                                                                                    [('PAGE_NULL', 'PAGE_NULL'), ('PAGE_NULL', 'PAGE_NULL'), ('searchResults', 'resultsShown'), ('UX', 'click'), ('PAGE_NULL', 'PAGE_NULL'), ('Download Link Clicked', '/government/uploads/system/uploads/attachment_data/file/718880/pa3-eng.pdf')]   \n",
       "2022305                                                                                                                                                                                                                                  [('PAGE_NULL', 'PAGE_NULL'), ('PAGE_NULL', 'PAGE_NULL'), ('searchResults', 'resultsShown'), ('PAGE_NULL', 'PAGE_NULL'), ('user_satisfaction_survey', 'banner_shown'), ('PAGE_NULL', 'PAGE_NULL'), ('External Link Clicked', 'https://www.universal-credit.service.gov.uk/sign-in')]   \n",
       "2025143                                                                                                                                                                                                                                                                                                                                                                             [('PAGE_NULL', 'PAGE_NULL'), ('searchResults', 'resultsShown'), ('PAGE_NULL', 'PAGE_NULL'), ('UX', 'click'), ('PAGE_NULL', 'PAGE_NULL')]   \n",
       "2025208                                                                                                                                                                                                                                                                                                            [('PAGE_NULL', 'PAGE_NULL'), ('PAGE_NULL', 'PAGE_NULL'), ('searchResults', 'resultsShown'), ('PAGE_NULL', 'PAGE_NULL'), ('External Link Clicked', 'https://www.universal-credit.service.gov.uk/sign-in')]   \n",
       "2025763                                                                                                                                                                                                                                                                                                                                                       [('PAGE_NULL', 'PAGE_NULL'), ('contentsClicked', 'content_item 6'), ('PAGE_NULL', 'PAGE_NULL'), ('searchResults', 'resultsShown'), ('PAGE_NULL', 'PAGE_NULL')]   \n",
       "2028146  [('PAGE_NULL', 'PAGE_NULL'), ('pageElementInteraction', 'stepNavShown'), ('PAGE_NULL', 'PAGE_NULL'), ('searchResults', 'resultsShown'), ('UX', 'click'), ('PAGE_NULL', 'PAGE_NULL'), ('External Link Clicked', 'https://childcare-support.tax.service.gov.uk/par/app/trialmessage?_ga=2.252221577.1095526651.1541330925-1966846392.1530449164'), ('PAGE_NULL', 'PAGE_NULL'), ('PAGE_NULL', 'PAGE_NULL'), ('searchResults', 'resultsShown'), ('UX', 'click'), ('PAGE_NULL', 'PAGE_NULL'), ('External Link Clicked...   \n",
       "2029554                                                                                                                                                                     [('PAGE_NULL', 'PAGE_NULL'), ('user_satisfaction_survey', 'banner_shown'), ('PAGE_NULL', 'PAGE_NULL'), ('searchResults', 'resultsShown'), ('UX', 'click'), ('PAGE_NULL', 'PAGE_NULL'), ('Download Link Clicked', '/government/uploads/system/uploads/attachment_data/file/711097/guide-to-the-general-data-protection-regulation-gdpr-1-0.pdf')]   \n",
       "2030272                                                                                                                                                                                                                                                                 [('PAGE_NULL', 'PAGE_NULL'), ('searchResults', 'resultsShown'), ('user_satisfaction_survey', 'banner_shown'), ('PAGE_NULL', 'PAGE_NULL'), ('UX', 'click'), ('PAGE_NULL', 'PAGE_NULL'), ('External Link Clicked', 'https://www.sorn.service.gov.uk')]   \n",
       "2031478                                                                                                                                                                                           [('PAGE_NULL', 'PAGE_NULL'), ('PAGE_NULL', 'PAGE_NULL'), ('searchResults', 'resultsShown'), ('PAGE_NULL', 'PAGE_NULL'), ('External Link Clicked', 'https://public-online.hmrc.gov.uk/lc/content/xfaforms/profiles/forms.html?contentRoot=repository:///Applications/SA_iForms/1.0/SA401_20167&template=SA401_en_1.0.xdp')]   \n",
       "2031954                                                                                                                                                                                                                                       [('PAGE_NULL', 'PAGE_NULL'), ('user_satisfaction_survey', 'banner_shown'), ('PAGE_NULL', 'PAGE_NULL'), ('searchResults', 'resultsShown'), ('UX', 'click'), ('PAGE_NULL', 'PAGE_NULL'), ('PAGE_NULL', 'PAGE_NULL'), ('Radio button chosen', 'sign-in-with-government-gateway')]   \n",
       "2032341                                                                                                                                                                                                                                                                                 [('PAGE_NULL', 'PAGE_NULL'), ('PAGE_NULL', 'PAGE_NULL'), ('searchResults', 'resultsShown'), ('UX', 'click'), ('PAGE_NULL', 'PAGE_NULL'), ('External Link Clicked', 'https://www.tax.service.gov.uk/calculate-stamp-duty-land-tax/')]   \n",
       "2032893                                                                                                                                                                                                                                                                                                                                                                                                                          [('PAGE_NULL', 'PAGE_NULL'), ('PAGE_NULL', 'PAGE_NULL'), ('searchResults', 'resultsShown')]   \n",
       "2033111                                                                                                                                                                                                                                                                                                    [('PAGE_NULL', 'PAGE_NULL'), ('PAGE_NULL', 'PAGE_NULL'), ('PAGE_NULL', 'PAGE_NULL'), ('External Link Clicked', 'https://www.check-mot.service.gov.uk/?_ga=2.177900647.3309350.1541346372-1978965151.1532933332')]   \n",
       "2033638                                                                                                                                                                                                                                                                                                                             [('PAGE_NULL', 'PAGE_NULL'), ('PAGE_NULL', 'PAGE_NULL'), ('External Link Clicked', 'https://www.check-mot.service.gov.uk/?_ga=2.209433874.1077758653.1541368701-1985921529.1456347816')]   \n",
       "2034272              [('PAGE_NULL', 'PAGE_NULL'), ('searchResults', 'resultsShown'), ('user_satisfaction_survey', 'banner_shown'), ('PAGE_NULL', 'PAGE_NULL'), ('UX', 'click'), ('PAGE_NULL', 'PAGE_NULL'), ('user_satisfaction_survey', 'banner_shown'), ('PAGE_NULL', 'PAGE_NULL'), ('PAGE_NULL', 'PAGE_NULL'), ('PAGE_NULL', 'PAGE_NULL'), ('PAGE_NULL', 'PAGE_NULL'), ('Simple Smart Answer', 'Completed'), ('External Link Clicked', 'https://www.buysellvehicle.service.gov.uk/sell-motor-trade/setup-trade-details')]   \n",
       "\n",
       "                    ...              \\\n",
       "9086                ...               \n",
       "12793               ...               \n",
       "14342               ...               \n",
       "15128               ...               \n",
       "15329               ...               \n",
       "15463               ...               \n",
       "16261               ...               \n",
       "16397               ...               \n",
       "16401               ...               \n",
       "16452               ...               \n",
       "16522               ...               \n",
       "16671               ...               \n",
       "16715               ...               \n",
       "16760               ...               \n",
       "16872               ...               \n",
       "17099               ...               \n",
       "17172               ...               \n",
       "17299               ...               \n",
       "17380               ...               \n",
       "18077               ...               \n",
       "18109               ...               \n",
       "18120               ...               \n",
       "18963               ...               \n",
       "19633               ...               \n",
       "19978               ...               \n",
       "20071               ...               \n",
       "37543               ...               \n",
       "38584               ...               \n",
       "38720               ...               \n",
       "44365               ...               \n",
       "...                 ...               \n",
       "2000084             ...               \n",
       "2000158             ...               \n",
       "2000335             ...               \n",
       "2001506             ...               \n",
       "2001675             ...               \n",
       "2004370             ...               \n",
       "2007839             ...               \n",
       "2007983             ...               \n",
       "2008265             ...               \n",
       "2011601             ...               \n",
       "2013116             ...               \n",
       "2013347             ...               \n",
       "2015420             ...               \n",
       "2019777             ...               \n",
       "2020272             ...               \n",
       "2020548             ...               \n",
       "2022305             ...               \n",
       "2025143             ...               \n",
       "2025208             ...               \n",
       "2025763             ...               \n",
       "2028146             ...               \n",
       "2029554             ...               \n",
       "2030272             ...               \n",
       "2031478             ...               \n",
       "2031954             ...               \n",
       "2032341             ...               \n",
       "2032893             ...               \n",
       "2033111             ...               \n",
       "2033638             ...               \n",
       "2034272             ...               \n",
       "\n",
       "                                                                                                                                                                                                                                      Page_Seq_NL  \\\n",
       "9086                                                                                                                                                                                                /universal-credit>>/search?q=universal+credit   \n",
       "12793                                                                                                                                                                                                          /jobsearch>>/search?q=>>/jobsearch   \n",
       "14342                                                                                                                                                                               /foreign-travel-advice/usa/entry-requirements>>/search?q=esta   \n",
       "15128                                                                                                                                                                              /vehicle-tax>>/search?q=apprenticeship+>>/apply-apprenticeship   \n",
       "15329                                                                                                                                               /get-vehicle-information-from-dvla>>/search?q=[postcode]h>>/get-vehicle-information-from-dvla   \n",
       "15463                                                                                                                                                                                      /done/make-a-sorn>>/search?q=tax+vehicle>>/vehicle-tax   \n",
       "16261                                                                                                                                                                               /vehicle-tax>>/search?q=check+vehicle+tax>>/check-vehicle-tax   \n",
       "16397                                                                                                                                                                        /get-vehicle-information-from-dvla>>/search?q=road+tax>>/vehicle-tax   \n",
       "16401                                                                                                                                                               /qualify-tax-credits>>/search?q=childcare+account>>/sign-in-childcare-account   \n",
       "16452                                                                                                                                                                                        /done/check-vehicle-tax>>/search?q=tax>>/vehicle-tax   \n",
       "16522                                                                                                                                                           /get-tax-free-childcare>>/search?q=childcare+account+>>/sign-in-childcare-account   \n",
       "16671                                                                                                                                                                     /get-tax-free-childcare>>/search?q=sign+in+>>/sign-in-childcare-account   \n",
       "16715                                                                                                                                                                    /vehicle-insurance/uninsured-vehicles>>/search?q=tax>>/check-vehicle-tax   \n",
       "16760                                                                                                                                                            /get-tax-free-childcare>>/search?q=childcare+account>>/sign-in-childcare-account   \n",
       "16872                                                                                                                                                                   /help-with-childcare-costs>>/search?q=sign+in>>/sign-in-childcare-account   \n",
       "17099                                                                                                                                                             /personal-tax-account>>/search?q=sign+in>>/log-in-register-hmrc-online-services   \n",
       "17172                                                                                                                                                                                 /contact-the-dvla>>/search?q=theory+test>>/book-theory-test   \n",
       "17299                                                                                                                                                        /help-with-childcare-costs>>/search?q=childcare+account+>>/sign-in-childcare-account   \n",
       "17380                                                                                                                                                                           /book-driving-test>>/search?q=cancellation+>>/change-driving-test   \n",
       "18077                                                                                                                                                                                    /change-theory-test>>/search?q=theory>>/book-theory-test   \n",
       "18109                                                                                                                                                                  /done/vehicle-tax>>/search?q=tax+vehicle+>>/vehicle-tax>>/done/vehicle-tax   \n",
       "18120                                                                                                                                /help-with-childcare-costs>>/search?q=childcare+account>>/sign-in-childcare-account>>/get-tax-free-childcare   \n",
       "18963                                                                                                                                                                                                  /vehicle-tax>>/search?q=dorm>>/make-a-sorn   \n",
       "19633                                                                                                                                                               /government-gateway>>/search?q=sign+in>>/log-in-register-hmrc-online-services   \n",
       "19978                                                                                                                                       /student-finance>>/search?q=login>>/student-finance-register-login>>/search?q=login>>/student-finance   \n",
       "20071                                                                                                                                                                                 /vehicle-tax>>/search?q=some>>/search?q=sorn+>>/make-a-sorn   \n",
       "37543                                                                                                                                                                                                /income-tax-rates>>/search?q=income+tax+2019   \n",
       "38584                                                                                                                                                                     /government/organisations/department-for-education/about>>/search?q=asp   \n",
       "38720                                                                                                                                                                                                 /winter-fuel-payment>>/search?q=winter+fuel   \n",
       "44365                                                                                                                                                                                          /contact-pension-service>>/search?q=change+address   \n",
       "...                                                                                                                                                                                                                                           ...   \n",
       "2000084                                                                                                                                                        /dbs-check-applicant-criminal-record>>/search?q=dbs>>/request-copy-criminal-record   \n",
       "2000158                                                                     /guidance/government-gateway-replacement-services-that-have-moved>>/search?q=cis>>/what-is-the-construction-industry-scheme>>/use-construction-industry-scheme-online   \n",
       "2000335                                                                                                                                                                                                                  /vehicle-tax>>/search?q=   \n",
       "2001506                                                                                                                                                               /stamp-duty-land-tax>>/search?q=stamp+duty+calculator>>/stamp-duty-land-tax   \n",
       "2001675                                                   /change-name-address-v5c>>/search?q=change+of+owner>>/sold-bought-vehicle>>/sold-bought-vehicle/y>>/sold-bought-vehicle/y/no>>/sold-bought-vehicle/y/no/put-it-into-someone-else-s-name   \n",
       "2004370                                                                                                                                                                                                          /done/vehicle-tax>>/search?q=mot   \n",
       "2007839                                                                                                                                                                    /vehicle-tax>>/search?q=tax+free+childcare>>/sign-in-childcare-account   \n",
       "2007983                                                          /government/publications/income-tax-leaving-the-uk-getting-your-tax-right-p85>>/search?q=p85+form>>/government/publications/income-tax-leaving-the-uk-getting-your-tax-right-p85   \n",
       "2008265                                                                                                                                                                                       /done/vehicle-tax>>/search?q=mot>>/check-mot-status   \n",
       "2011601  /book-driving-test>>/search?q=show+me+tell+me>>/government/publications/car-show-me-tell-me-vehicle-safety-questions>>/government/publications/car-show-me-tell-me-vehicle-safety-questions/car-show-me-tell-me-vehicle-safety-questions   \n",
       "2013116                                                                                                                                                                                       /getting-an-mot/mot-test-fees>>/search?q=living+van   \n",
       "2013347                                                                                                                                                       /help-with-childcare-costs>>/search?q=childcare+account>>/sign-in-childcare-account   \n",
       "2015420                                                                                                                                                                                                 /check-mot-history>>/search?q=[postcode]j   \n",
       "2019777                                                                                                                                                                              /universal-credit>>/search?q=sign>>/sign-in-universal-credit   \n",
       "2020272                                      /government/organisations/hm-revenue-customs/contact/self-assessment>>/search?q=working+for+yourself>>/working-for-yourself>>/log-in-file-self-assessment-tax-return/register-if-youre-self-employed   \n",
       "2020548                                                                                               /wills-probate-inheritance/applying-for-a-grant-of-representation>>/search?q=pa3>>/government/publications/probate-fees-from-april-2014-pa3   \n",
       "2022305                                                                                                                                                          /universal-credit>>/search?q=login>>/universal-credit>>/sign-in-universal-credit   \n",
       "2025143                                                                                                                                                                          /car-tax-disc-without-v11-reminder>>/search?q=sorn>>/make-a-sorn   \n",
       "2025208                                                                                                                                                              /universal-credit/how-to-claim>>/search?q=sign+in>>/sign-in-universal-credit   \n",
       "2025763                                     /government/publications/cannabis-based-medicines-expert-review-panel/cannabis-and-cannabis-based-medicinal-products>>/search?q=cannabis>>/government/publications/industrial-hemp-licensing-guidance   \n",
       "2028146                                                                        /get-tax-free-childcare>>/search?q=childcare+account>>/sign-in-childcare-account>>/get-tax-free-childcare>>/search?q=childcare+account>>/sign-in-childcare-account   \n",
       "2029554                                                                     /government/consultations/general-data-protection-regulation-call-for-views>>/search?q=gdpr>>/government/publications/guide-to-the-general-data-protection-regulation   \n",
       "2030272                                                                                                                                                                                           /done/vehicle-tax>>/search?q=sorn>>/make-a-sorn   \n",
       "2031478                        /government/publications/self-assessment-register-a-partnership-for-self-assessment-sa400>>/search?q=sa401>>/government/publications/self-assessment-register-a-partner-for-self-assessment-and-class-2-nics-sa401   \n",
       "2031954                                                                                                  /tax-overpayments-and-underpayments>>/search?q=personal+tax+account>>/personal-tax-account>>/personal-tax-account/sign-in/prove-identity   \n",
       "2032341                                                                                                                                                               /stamp-duty-land-tax>>/search?q=stamp+duty+calculator>>/stamp-duty-land-tax   \n",
       "2032893                                                                                                                                                                         /electoral-register/view-electoral-register>>/search?q=[postcode]   \n",
       "2033111                                                                                                                                                                             /check-mot-history>>/search?q=[postcode]v>>/check-mot-history   \n",
       "2033638                                                                                                                                                                                                            /check-mot-history>>/search?q=   \n",
       "2034272                                        /done/vehicle-tax>>/search?q=cancel+tax>>/vehicle-tax-refund>>/sold-bought-vehicle>>/sold-bought-vehicle/y>>/sold-bought-vehicle/y/yes>>/sold-bought-vehicle/y/yes/bought-a-vehicle-into-the-trade   \n",
       "\n",
       "        Occurrences_NL TabletCount Has_Related Related Links Clicks per seq  \\\n",
       "9086               4.0           0       False                            0   \n",
       "12793             53.0           0       False                            0   \n",
       "14342             24.0           1       False                            0   \n",
       "15128             36.0           0       False                            0   \n",
       "15329              4.0           0       False                            0   \n",
       "15463             50.0           0       False                            0   \n",
       "16261              4.0           0       False                            0   \n",
       "16397             10.0           1       False                            0   \n",
       "16401              4.0           0       False                            0   \n",
       "16452             12.0           0       False                            0   \n",
       "16522            196.0           0       False                            0   \n",
       "16671              9.0           0       False                            0   \n",
       "16715              4.0           0       False                            0   \n",
       "16760           4105.0           0       False                            0   \n",
       "16872            484.0           0       False                            0   \n",
       "17099              4.0           0       False                            0   \n",
       "17172              8.0           0       False                            0   \n",
       "17299            130.0           0       False                            0   \n",
       "17380              4.0           0       False                            0   \n",
       "18077              9.0           0       False                            0   \n",
       "18109              4.0           0       False                            0   \n",
       "18120             16.0           0       False                            0   \n",
       "18963             24.0           0       False                            0   \n",
       "19633             36.0           0       False                            0   \n",
       "19978              2.0           0       False                            0   \n",
       "20071              4.0           0       False                            0   \n",
       "37543              4.0           0       False                            0   \n",
       "38584              2.0           0       False                            0   \n",
       "38720              4.0           0       False                            0   \n",
       "44365              4.0           0       False                            0   \n",
       "...                ...         ...         ...                          ...   \n",
       "2000084           18.0           0       False                            0   \n",
       "2000158           28.0           0        True                            1   \n",
       "2000335            4.0           0       False                            0   \n",
       "2001506            4.0           0       False                            0   \n",
       "2001675            4.0           0        True                            1   \n",
       "2004370            4.0           0       False                            0   \n",
       "2007839            4.0           0       False                            0   \n",
       "2007983            4.0           0       False                            0   \n",
       "2008265          520.0           0       False                            0   \n",
       "2011601           18.0           0       False                            0   \n",
       "2013116            4.0           0       False                            0   \n",
       "2013347        16114.0           0       False                            0   \n",
       "2015420           16.0           0       False                            0   \n",
       "2019777            4.0           0       False                            0   \n",
       "2020272            4.0           0       False                            0   \n",
       "2020548            6.0           1       False                            0   \n",
       "2022305          100.0           0       False                            0   \n",
       "2025143           72.0           0       False                            0   \n",
       "2025208           51.0           0       False                            0   \n",
       "2025763            4.0           0       False                            0   \n",
       "2028146            4.0           0       False                            0   \n",
       "2029554           16.0           0       False                            0   \n",
       "2030272         1104.0           0       False                            0   \n",
       "2031478            8.0           0       False                            0   \n",
       "2031954           10.0           0       False                            0   \n",
       "2032341            4.0           0       False                            0   \n",
       "2032893            4.0           0       False                            0   \n",
       "2033111            9.0           0       False                            0   \n",
       "2033638            9.0           0       False                            0   \n",
       "2034272           30.0           0       False                            0   \n",
       "\n",
       "         Related Links Clicks row total  pageviews  absolute pageviews count  \\\n",
       "9086                                  0          2                         2   \n",
       "12793                                 0          3                         3   \n",
       "14342                                 0          2                         4   \n",
       "15128                                 0          3                         3   \n",
       "15329                                 0          4                         4   \n",
       "15463                                 0          3                         3   \n",
       "16261                                 0          3                         3   \n",
       "16397                                 0          3                         3   \n",
       "16401                                 0          3                         3   \n",
       "16452                                 0          3                         6   \n",
       "16522                                 0          3                         3   \n",
       "16671                                 0          3                         3   \n",
       "16715                                 0          3                         3   \n",
       "16760                                 0          3                         3   \n",
       "16872                                 0          3                         3   \n",
       "17099                                 0          3                         3   \n",
       "17172                                 0          3                        12   \n",
       "17299                                 0          3                         3   \n",
       "17380                                 0          3                         3   \n",
       "18077                                 0          3                         3   \n",
       "18109                                 0          4                         8   \n",
       "18120                                 0          4                         4   \n",
       "18963                                 0          4                         8   \n",
       "19633                                 0          3                         3   \n",
       "19978                                 0          6                        12   \n",
       "20071                                 0          4                         4   \n",
       "37543                                 0          2                         2   \n",
       "38584                                 0          2                         4   \n",
       "38720                                 0          2                         2   \n",
       "44365                                 0          2                         2   \n",
       "...                                 ...        ...                       ...   \n",
       "2000084                               0          3                         3   \n",
       "2000158                               1          4                         4   \n",
       "2000335                               0          2                         2   \n",
       "2001506                               0          3                         3   \n",
       "2001675                               1          6                         6   \n",
       "2004370                               0          2                         2   \n",
       "2007839                               0          3                         3   \n",
       "2007983                               0          3                         3   \n",
       "2008265                               0          3                         3   \n",
       "2011601                               0          4                         4   \n",
       "2013116                               0          2                         2   \n",
       "2013347                               0          3                         3   \n",
       "2015420                               0          2                         2   \n",
       "2019777                               0          3                         3   \n",
       "2020272                               0          4                         4   \n",
       "2020548                               0          3                         3   \n",
       "2022305                               0          4                         4   \n",
       "2025143                               0          3                         3   \n",
       "2025208                               0          3                         3   \n",
       "2025763                               0          3                         3   \n",
       "2028146                               0          6                         6   \n",
       "2029554                               0          3                         3   \n",
       "2030272                               0          3                         3   \n",
       "2031478                               0          3                         3   \n",
       "2031954                               0          4                         4   \n",
       "2032341                               0          3                         3   \n",
       "2032893                               0          2                         2   \n",
       "2033111                               0          3                         3   \n",
       "2033638                               0          2                         2   \n",
       "2034272                               0          7                         7   \n",
       "\n",
       "         Content_page_nav_events  Search_from_content_events  \n",
       "9086                           0                         1.0  \n",
       "12793                          0                         1.0  \n",
       "14342                          0                         1.0  \n",
       "15128                          0                         1.0  \n",
       "15329                          0                         1.0  \n",
       "15463                          0                         1.0  \n",
       "16261                          0                         1.0  \n",
       "16397                          0                         1.0  \n",
       "16401                          0                         1.0  \n",
       "16452                          0                         1.0  \n",
       "16522                          0                         1.0  \n",
       "16671                          0                         1.0  \n",
       "16715                          0                         1.0  \n",
       "16760                          0                         1.0  \n",
       "16872                          0                         1.0  \n",
       "17099                          0                         1.0  \n",
       "17172                          0                         1.0  \n",
       "17299                          0                         1.0  \n",
       "17380                          0                         1.0  \n",
       "18077                          0                         1.0  \n",
       "18109                          0                         1.0  \n",
       "18120                          0                         1.0  \n",
       "18963                          0                         1.0  \n",
       "19633                          0                         1.0  \n",
       "19978                          0                         1.0  \n",
       "20071                          0                         1.0  \n",
       "37543                          0                         1.0  \n",
       "38584                          0                         1.0  \n",
       "38720                          0                         1.0  \n",
       "44365                          0                         1.0  \n",
       "...                          ...                         ...  \n",
       "2000084                        0                         1.0  \n",
       "2000158                        0                         1.0  \n",
       "2000335                        0                         1.0  \n",
       "2001506                        0                         1.0  \n",
       "2001675                        0                         1.0  \n",
       "2004370                        0                         1.0  \n",
       "2007839                        0                         1.0  \n",
       "2007983                        0                         1.0  \n",
       "2008265                        0                         1.0  \n",
       "2011601                        0                         1.0  \n",
       "2013116                        0                         1.0  \n",
       "2013347                        0                         1.0  \n",
       "2015420                        0                         1.0  \n",
       "2019777                        0                         1.0  \n",
       "2020272                        0                         1.0  \n",
       "2020548                        0                         1.0  \n",
       "2022305                        0                         1.0  \n",
       "2025143                        0                         1.0  \n",
       "2025208                        0                         1.0  \n",
       "2025763                        0                         1.0  \n",
       "2028146                        0                         1.0  \n",
       "2029554                        0                         1.0  \n",
       "2030272                        0                         1.0  \n",
       "2031478                        0                         1.0  \n",
       "2031954                        0                         1.0  \n",
       "2032341                        0                         1.0  \n",
       "2032893                        0                         1.0  \n",
       "2033111                        0                         1.0  \n",
       "2033638                        0                         1.0  \n",
       "2034272                        0                         1.0  \n",
       "\n",
       "[2811 rows x 24 columns]"
      ]
     },
     "execution_count": 189,
     "metadata": {},
     "output_type": "execute_result"
    }
   ],
   "source": [
    "df[df['Search_from_content_events'] >0]"
   ]
  },
  {
   "cell_type": "code",
   "execution_count": 193,
   "metadata": {
    "ExecuteTime": {
     "end_time": "2019-02-06T11:00:28.724529Z",
     "start_time": "2019-02-06T11:00:28.718463Z"
    }
   },
   "outputs": [
    {
     "data": {
      "text/plain": [
       "['/student-finance',\n",
       " '/search?q=login',\n",
       " '/student-finance-register-login',\n",
       " '/student-finance-register-login',\n",
       " '/search?q=login',\n",
       " '/student-finance']"
      ]
     },
     "execution_count": 193,
     "metadata": {},
     "output_type": "execute_result"
    }
   ],
   "source": [
    "df['Page_List'][19978]"
   ]
  },
  {
   "cell_type": "code",
   "execution_count": null,
   "metadata": {},
   "outputs": [],
   "source": []
  },
  {
   "cell_type": "markdown",
   "metadata": {
    "ExecuteTime": {
     "end_time": "2019-02-05T17:44:37.677446Z",
     "start_time": "2019-02-05T17:44:37.633025Z"
    }
   },
   "source": [
    "could speed this up by\n",
    "- only selecting page lists of length > 1\n",
    "- enumerate(page_list[1:]) and replace page_list[i-1] with page_list[i], so we don't need to do the i>0 check"
   ]
  },
  {
   "cell_type": "code",
   "execution_count": 147,
   "metadata": {
    "ExecuteTime": {
     "end_time": "2019-02-05T16:35:34.893248Z",
     "start_time": "2019-02-05T16:35:34.888611Z"
    }
   },
   "outputs": [
    {
     "data": {
      "text/plain": [
       "['/search?q=tax+free+childcare', '/sign-in-childcare-account']"
      ]
     },
     "execution_count": 147,
     "metadata": {},
     "output_type": "execute_result"
    }
   ],
   "source": [
    "df['Page_List'][11506]"
   ]
  },
  {
   "cell_type": "code",
   "execution_count": 180,
   "metadata": {
    "ExecuteTime": {
     "end_time": "2019-02-06T10:37:37.931685Z",
     "start_time": "2019-02-06T10:37:37.512300Z"
    }
   },
   "outputs": [
    {
     "name": "stdout",
     "output_type": "stream",
     "text": [
      "0\n",
      "/search?q=tax+free+childcare\n",
      "/sign-in-childcare-account\n",
      "/sign-in-childcare-account\n",
      "True\n"
     ]
    }
   ],
   "source": [
    "page_list = ['/sign-in-childcare-account', '/search?q=tax+free+childcare']\n",
    "for i, page in enumerate(page_list[1:]):\n",
    "    print(i)\n",
    "    print(page)\n",
    "#     if i > 0:\n",
    "    print(page_list[i])\n",
    "    if '/search?q=' in page:\n",
    "        print(page_list[i])\n",
    "        print(page_list[i] in thing_page_paths)\n"
   ]
  },
  {
   "cell_type": "code",
   "execution_count": 184,
   "metadata": {
    "ExecuteTime": {
     "end_time": "2019-02-06T10:38:27.335641Z",
     "start_time": "2019-02-06T10:38:27.329794Z"
    }
   },
   "outputs": [],
   "source": [
    "page_list = ['/sign-in-childcare-account']\n",
    "for i, page in enumerate(page_list[1:]):\n",
    "    print(i)\n",
    "    print(page)\n",
    "#     if i > 0:\n",
    "    print(page_list[i])\n",
    "    if '/search?q=' in page:\n",
    "        print(page_list[i])\n",
    "        print(page_list[i] in thing_page_paths)\n"
   ]
  },
  {
   "cell_type": "markdown",
   "metadata": {},
   "source": [
    "## count of related links clicked by journey\n",
    "\n",
    "Using work from \"total number of related link click events\" section above, below is some information about the distribution of total related link clicks in a journey. This is to help decide how we might model this metric."
   ]
  },
  {
   "cell_type": "code",
   "execution_count": 38,
   "metadata": {
    "ExecuteTime": {
     "end_time": "2019-02-04T14:58:58.477830Z",
     "start_time": "2019-02-04T14:57:52.289086Z"
    }
   },
   "outputs": [],
   "source": [
    "group_by_rl_clicks_df = df.groupby(by='Related Links Clicks per seq').sum().reset_index()"
   ]
  },
  {
   "cell_type": "code",
   "execution_count": 39,
   "metadata": {
    "ExecuteTime": {
     "end_time": "2019-02-04T14:59:06.267987Z",
     "start_time": "2019-02-04T14:59:06.142297Z"
    }
   },
   "outputs": [
    {
     "data": {
      "text/html": [
       "<div>\n",
       "<style scoped>\n",
       "    .dataframe tbody tr th:only-of-type {\n",
       "        vertical-align: middle;\n",
       "    }\n",
       "\n",
       "    .dataframe tbody tr th {\n",
       "        vertical-align: top;\n",
       "    }\n",
       "\n",
       "    .dataframe thead th {\n",
       "        text-align: right;\n",
       "    }\n",
       "</style>\n",
       "<table border=\"1\" class=\"dataframe\">\n",
       "  <thead>\n",
       "    <tr style=\"text-align: right;\">\n",
       "      <th></th>\n",
       "      <th>Related Links Clicks per seq</th>\n",
       "      <th>Occurrences</th>\n",
       "      <th>Page_Seq_Occurrences</th>\n",
       "      <th>num_event_cats</th>\n",
       "      <th>Occurrences_NL</th>\n",
       "      <th>TabletCount</th>\n",
       "      <th>Has_Related</th>\n",
       "      <th>Related Links Clicks row total</th>\n",
       "    </tr>\n",
       "  </thead>\n",
       "  <tbody>\n",
       "    <tr>\n",
       "      <th>0</th>\n",
       "      <td>0</td>\n",
       "      <td>10438172</td>\n",
       "      <td>9.718956e+10</td>\n",
       "      <td>4483227</td>\n",
       "      <td>2.499503e+16</td>\n",
       "      <td>816740</td>\n",
       "      <td>0.0</td>\n",
       "      <td>0</td>\n",
       "    </tr>\n",
       "    <tr>\n",
       "      <th>1</th>\n",
       "      <td>1</td>\n",
       "      <td>122677</td>\n",
       "      <td>1.206233e+08</td>\n",
       "      <td>187683</td>\n",
       "      <td>2.177633e+12</td>\n",
       "      <td>11198</td>\n",
       "      <td>54530.0</td>\n",
       "      <td>122677</td>\n",
       "    </tr>\n",
       "    <tr>\n",
       "      <th>2</th>\n",
       "      <td>2</td>\n",
       "      <td>8130</td>\n",
       "      <td>4.931746e+06</td>\n",
       "      <td>19885</td>\n",
       "      <td>8.706705e+10</td>\n",
       "      <td>370</td>\n",
       "      <td>5741.0</td>\n",
       "      <td>16260</td>\n",
       "    </tr>\n",
       "    <tr>\n",
       "      <th>3</th>\n",
       "      <td>3</td>\n",
       "      <td>729</td>\n",
       "      <td>1.576261e+06</td>\n",
       "      <td>2286</td>\n",
       "      <td>1.299231e+09</td>\n",
       "      <td>17</td>\n",
       "      <td>613.0</td>\n",
       "      <td>2187</td>\n",
       "    </tr>\n",
       "    <tr>\n",
       "      <th>4</th>\n",
       "      <td>4</td>\n",
       "      <td>107</td>\n",
       "      <td>6.092600e+04</td>\n",
       "      <td>361</td>\n",
       "      <td>7.880616e+06</td>\n",
       "      <td>2</td>\n",
       "      <td>97.0</td>\n",
       "      <td>428</td>\n",
       "    </tr>\n",
       "    <tr>\n",
       "      <th>5</th>\n",
       "      <td>5</td>\n",
       "      <td>18</td>\n",
       "      <td>1.682000e+03</td>\n",
       "      <td>66</td>\n",
       "      <td>1.243880e+05</td>\n",
       "      <td>0</td>\n",
       "      <td>18.0</td>\n",
       "      <td>90</td>\n",
       "    </tr>\n",
       "    <tr>\n",
       "      <th>6</th>\n",
       "      <td>6</td>\n",
       "      <td>9</td>\n",
       "      <td>3.880000e+02</td>\n",
       "      <td>26</td>\n",
       "      <td>9.340000e+04</td>\n",
       "      <td>0</td>\n",
       "      <td>8.0</td>\n",
       "      <td>54</td>\n",
       "    </tr>\n",
       "    <tr>\n",
       "      <th>7</th>\n",
       "      <td>8</td>\n",
       "      <td>4</td>\n",
       "      <td>1.422200e+04</td>\n",
       "      <td>15</td>\n",
       "      <td>1.890614e+08</td>\n",
       "      <td>0</td>\n",
       "      <td>4.0</td>\n",
       "      <td>32</td>\n",
       "    </tr>\n",
       "    <tr>\n",
       "      <th>8</th>\n",
       "      <td>10</td>\n",
       "      <td>1</td>\n",
       "      <td>5.000000e+00</td>\n",
       "      <td>3</td>\n",
       "      <td>1.000000e+01</td>\n",
       "      <td>0</td>\n",
       "      <td>1.0</td>\n",
       "      <td>10</td>\n",
       "    </tr>\n",
       "    <tr>\n",
       "      <th>9</th>\n",
       "      <td>13</td>\n",
       "      <td>1</td>\n",
       "      <td>3.000000e+00</td>\n",
       "      <td>5</td>\n",
       "      <td>9.000000e+00</td>\n",
       "      <td>0</td>\n",
       "      <td>1.0</td>\n",
       "      <td>13</td>\n",
       "    </tr>\n",
       "    <tr>\n",
       "      <th>10</th>\n",
       "      <td>16</td>\n",
       "      <td>1</td>\n",
       "      <td>2.000000e+00</td>\n",
       "      <td>4</td>\n",
       "      <td>4.476100e+04</td>\n",
       "      <td>0</td>\n",
       "      <td>1.0</td>\n",
       "      <td>16</td>\n",
       "    </tr>\n",
       "    <tr>\n",
       "      <th>11</th>\n",
       "      <td>53</td>\n",
       "      <td>1</td>\n",
       "      <td>4.797400e+04</td>\n",
       "      <td>2</td>\n",
       "      <td>2.827247e+06</td>\n",
       "      <td>0</td>\n",
       "      <td>1.0</td>\n",
       "      <td>53</td>\n",
       "    </tr>\n",
       "  </tbody>\n",
       "</table>\n",
       "</div>"
      ],
      "text/plain": [
       "    Related Links Clicks per seq  Occurrences  Page_Seq_Occurrences  \\\n",
       "0                              0     10438172          9.718956e+10   \n",
       "1                              1       122677          1.206233e+08   \n",
       "2                              2         8130          4.931746e+06   \n",
       "3                              3          729          1.576261e+06   \n",
       "4                              4          107          6.092600e+04   \n",
       "5                              5           18          1.682000e+03   \n",
       "6                              6            9          3.880000e+02   \n",
       "7                              8            4          1.422200e+04   \n",
       "8                             10            1          5.000000e+00   \n",
       "9                             13            1          3.000000e+00   \n",
       "10                            16            1          2.000000e+00   \n",
       "11                            53            1          4.797400e+04   \n",
       "\n",
       "    num_event_cats  Occurrences_NL  TabletCount  Has_Related  \\\n",
       "0          4483227    2.499503e+16       816740          0.0   \n",
       "1           187683    2.177633e+12        11198      54530.0   \n",
       "2            19885    8.706705e+10          370       5741.0   \n",
       "3             2286    1.299231e+09           17        613.0   \n",
       "4              361    7.880616e+06            2         97.0   \n",
       "5               66    1.243880e+05            0         18.0   \n",
       "6               26    9.340000e+04            0          8.0   \n",
       "7               15    1.890614e+08            0          4.0   \n",
       "8                3    1.000000e+01            0          1.0   \n",
       "9                5    9.000000e+00            0          1.0   \n",
       "10               4    4.476100e+04            0          1.0   \n",
       "11               2    2.827247e+06            0          1.0   \n",
       "\n",
       "    Related Links Clicks row total  \n",
       "0                                0  \n",
       "1                           122677  \n",
       "2                            16260  \n",
       "3                             2187  \n",
       "4                              428  \n",
       "5                               90  \n",
       "6                               54  \n",
       "7                               32  \n",
       "8                               10  \n",
       "9                               13  \n",
       "10                              16  \n",
       "11                              53  "
      ]
     },
     "execution_count": 39,
     "metadata": {},
     "output_type": "execute_result"
    }
   ],
   "source": [
    "group_by_rl_clicks_df"
   ]
  },
  {
   "cell_type": "code",
   "execution_count": 48,
   "metadata": {
    "ExecuteTime": {
     "end_time": "2019-01-30T10:33:55.203383Z",
     "start_time": "2019-01-30T10:33:55.198044Z"
    }
   },
   "outputs": [],
   "source": [
    "group_by_rl_clicks_df_bar_zero = group_by_rl_clicks_df[\n",
    "    group_by_rl_clicks_df['Related Links Clicks per seq'] != 0]"
   ]
  },
  {
   "cell_type": "code",
   "execution_count": 49,
   "metadata": {
    "ExecuteTime": {
     "end_time": "2019-01-30T10:33:56.417694Z",
     "start_time": "2019-01-30T10:33:56.132889Z"
    }
   },
   "outputs": [
    {
     "data": {
      "text/plain": [
       "Text(0.5, 0, 'number of related link clicks in a journey')"
      ]
     },
     "execution_count": 49,
     "metadata": {},
     "output_type": "execute_result"
    },
    {
     "data": {
      "image/png": "[encoded data removed]",
      "text/plain": [
       "<Figure size 432x288 with 1 Axes>"
      ]
     },
     "metadata": {
      "needs_background": "light"
     },
     "output_type": "display_data"
    }
   ],
   "source": [
    "plt.bar(\n",
    "    group_by_rl_clicks_df['Related Links Clicks per seq'],\n",
    "    group_by_rl_clicks_df['Occurrences'],\n",
    "    align='edge')\n",
    "plt.title('Related link clicks per journey')\n",
    "plt.ylabel('number of journeys')\n",
    "plt.xlabel('number of related link clicks in a journey')"
   ]
  },
  {
   "cell_type": "code",
   "execution_count": 50,
   "metadata": {
    "ExecuteTime": {
     "end_time": "2019-01-30T10:34:00.911893Z",
     "start_time": "2019-01-30T10:34:00.020106Z"
    }
   },
   "outputs": [
    {
     "data": {
      "text/plain": [
       "Text(0.5, 0, 'number of related link clicks in a journey')"
      ]
     },
     "execution_count": 50,
     "metadata": {},
     "output_type": "execute_result"
    },
    {
     "data": {
      "image/png": "[encoded data removed]",
      "text/plain": [
       "<Figure size 432x288 with 1 Axes>"
      ]
     },
     "metadata": {
      "needs_background": "light"
     },
     "output_type": "display_data"
    }
   ],
   "source": [
    "plt.bar(\n",
    "    group_by_rl_clicks_df['Related Links Clicks per seq'],\n",
    "    group_by_rl_clicks_df['Occurrences'],\n",
    "    log=True\n",
    "    ,align='edge'\n",
    ")\n",
    "plt.title('Related link clicks per journey - logscale')\n",
    "plt.ylabel('log(number of journeys)')\n",
    "plt.xlabel('number of related link clicks in a journey')"
   ]
  },
  {
   "cell_type": "code",
   "execution_count": 51,
   "metadata": {
    "ExecuteTime": {
     "end_time": "2019-01-30T10:34:02.500539Z",
     "start_time": "2019-01-30T10:34:02.236199Z"
    }
   },
   "outputs": [
    {
     "data": {
      "text/plain": [
       "Text(0.5, 0, 'number of related link clicks in a journey')"
      ]
     },
     "execution_count": 51,
     "metadata": {},
     "output_type": "execute_result"
    },
    {
     "data": {
      "image/png": "[encoded data removed]",
      "text/plain": [
       "<Figure size 432x288 with 1 Axes>"
      ]
     },
     "metadata": {
      "needs_background": "light"
     },
     "output_type": "display_data"
    }
   ],
   "source": [
    "plt.bar(\n",
    "    group_by_rl_clicks_df_bar_zero['Related Links Clicks per seq'],\n",
    "    group_by_rl_clicks_df_bar_zero['Occurrences'],\n",
    "    align='edge')\n",
    "plt.title('Related link clicks per journey - excluding zero clicks')\n",
    "plt.ylabel('number of journeys')\n",
    "plt.xlabel('number of related link clicks in a journey')"
   ]
  },
  {
   "cell_type": "code",
   "execution_count": 52,
   "metadata": {
    "ExecuteTime": {
     "end_time": "2019-01-30T10:34:03.540911Z",
     "start_time": "2019-01-30T10:34:02.940627Z"
    }
   },
   "outputs": [
    {
     "data": {
      "text/plain": [
       "Text(0.5, 0, 'number of related link clicks in a journey')"
      ]
     },
     "execution_count": 52,
     "metadata": {},
     "output_type": "execute_result"
    },
    {
     "data": {
      "image/png": "[encoded data removed]",
      "text/plain": [
       "<Figure size 432x288 with 1 Axes>"
      ]
     },
     "metadata": {
      "needs_background": "light"
     },
     "output_type": "display_data"
    }
   ],
   "source": [
    "plt.bar(\n",
    "    group_by_rl_clicks_df_bar_zero['Related Links Clicks per seq'],\n",
    "    group_by_rl_clicks_df_bar_zero['Occurrences'],\n",
    "    log=True\n",
    "    ,align='edge'\n",
    ")\n",
    "plt.title('Related link clicks per journey - excluding zero clicks, logscale')\n",
    "plt.ylabel('log(number of journeys)')\n",
    "plt.xlabel('number of related link clicks in a journey')"
   ]
  },
  {
   "cell_type": "markdown",
   "metadata": {},
   "source": [
    "## proportion of journeys with a page sequence including content and related links only\n",
    "\n",
    "There is no statistically significant difference in the proportion of journeys with a page sequence including content and related links only (including loops) between page variant A and page variant B"
   ]
  },
  {
   "cell_type": "markdown",
   "metadata": {},
   "source": [
    "\\begin{equation*}\n",
    "\\frac{\\text{total number of journeys that only contain content pages and related links (i.e. no nav pages)}}{\\text{total number of journeys}}\n",
    "\\end{equation*}"
   ]
  },
  {
   "cell_type": "markdown",
   "metadata": {},
   "source": [
    "### total number of journeys that only contain content pages and related links (i.e. no nav pages)\n",
    "This will be easier to calculate as total number of journeys that do not contain clicks on navigation elements (home, breadcrumbs, search, explore this topic)"
   ]
  },
  {
   "cell_type": "code",
   "execution_count": null,
   "metadata": {},
   "outputs": [],
   "source": []
  },
  {
   "cell_type": "code",
   "execution_count": null,
   "metadata": {},
   "outputs": [],
   "source": []
  },
  {
   "cell_type": "code",
   "execution_count": null,
   "metadata": {},
   "outputs": [],
   "source": []
  },
  {
   "cell_type": "markdown",
   "metadata": {},
   "source": [
    "## Other stuff"
   ]
  },
  {
   "cell_type": "markdown",
   "metadata": {},
   "source": [
    "### total number of pageviews\n",
    "Not sure we're using this in our metrics\n",
    "\n",
    "Should these only include ones that HAD related links on them??\n",
    "\n",
    "If we had col PageSeq_Length we could use that instead"
   ]
  },
  {
   "cell_type": "code",
   "execution_count": 40,
   "metadata": {
    "ExecuteTime": {
     "end_time": "2019-02-04T15:01:00.384894Z",
     "start_time": "2019-02-04T14:59:51.807321Z"
    }
   },
   "outputs": [],
   "source": [
    "df['Page_List'] = df['Page_List'].apply(ast.literal_eval)"
   ]
  },
  {
   "cell_type": "code",
   "execution_count": 41,
   "metadata": {
    "ExecuteTime": {
     "end_time": "2019-02-04T15:01:02.519147Z",
     "start_time": "2019-02-04T15:01:02.459347Z"
    }
   },
   "outputs": [
    {
     "data": {
      "text/plain": [
       "1"
      ]
     },
     "execution_count": 41,
     "metadata": {},
     "output_type": "execute_result"
    }
   ],
   "source": [
    "len(df['Page_List'][26010])"
   ]
  },
  {
   "cell_type": "code",
   "execution_count": 46,
   "metadata": {
    "ExecuteTime": {
     "end_time": "2019-02-04T15:01:47.580573Z",
     "start_time": "2019-02-04T15:01:46.301377Z"
    }
   },
   "outputs": [],
   "source": [
    "df['pageviews'] = df['Page_List'].map(len)"
   ]
  },
  {
   "cell_type": "code",
   "execution_count": 47,
   "metadata": {
    "ExecuteTime": {
     "end_time": "2019-02-04T15:01:49.479536Z",
     "start_time": "2019-02-04T15:01:49.421857Z"
    }
   },
   "outputs": [],
   "source": [
    "df['absolute pageviews count'] = df['pageviews'] * df['Occurrences']"
   ]
  },
  {
   "cell_type": "code",
   "execution_count": 48,
   "metadata": {
    "ExecuteTime": {
     "end_time": "2019-02-04T15:01:50.595526Z",
     "start_time": "2019-02-04T15:01:50.441332Z"
    },
    "scrolled": true
   },
   "outputs": [
    {
     "data": {
      "text/html": [
       "<div>\n",
       "<style scoped>\n",
       "    .dataframe tbody tr th:only-of-type {\n",
       "        vertical-align: middle;\n",
       "    }\n",
       "\n",
       "    .dataframe tbody tr th {\n",
       "        vertical-align: top;\n",
       "    }\n",
       "\n",
       "    .dataframe thead th {\n",
       "        text-align: right;\n",
       "    }\n",
       "</style>\n",
       "<table border=\"1\" class=\"dataframe\">\n",
       "  <thead>\n",
       "    <tr style=\"text-align: right;\">\n",
       "      <th></th>\n",
       "      <th>Sequence</th>\n",
       "      <th>PageSequence</th>\n",
       "      <th>Occurrences</th>\n",
       "      <th>Page_Seq_Occurrences</th>\n",
       "      <th>DeviceCategories</th>\n",
       "      <th>Dates</th>\n",
       "      <th>Page_Event_List</th>\n",
       "      <th>Page_List</th>\n",
       "      <th>PageSequence_internal</th>\n",
       "      <th>Event_List</th>\n",
       "      <th>...</th>\n",
       "      <th>Event_cat_act_agg</th>\n",
       "      <th>Page_List_NL</th>\n",
       "      <th>Page_Seq_NL</th>\n",
       "      <th>Occurrences_NL</th>\n",
       "      <th>TabletCount</th>\n",
       "      <th>Has_Related</th>\n",
       "      <th>Related Links Clicks per seq</th>\n",
       "      <th>Related Links Clicks row total</th>\n",
       "      <th>pageviews</th>\n",
       "      <th>absolute pageviews count</th>\n",
       "    </tr>\n",
       "  </thead>\n",
       "  <tbody>\n",
       "    <tr>\n",
       "      <th>0</th>\n",
       "      <td>/guidance/rates-and-thresholds-for-employers-2016-to-2017&lt;&lt;PAGE&lt;:&lt;NULL&lt;:&lt;NULL</td>\n",
       "      <td>/guidance/rates-and-thresholds-for-employers-2016-to-2017</td>\n",
       "      <td>75</td>\n",
       "      <td>306.0</td>\n",
       "      <td>[('desktop', 64), ('mobile', 11), ('tablet', 12)]</td>\n",
       "      <td>[('20181031', 33), ('20181029', 27), ('20181102', 17), ('20181104', 10)]</td>\n",
       "      <td>[('/guidance/rates-and-thresholds-for-employers-2016-to-2017', 'PAGE&lt;:&lt;NULL&lt;:&lt;NULL')]</td>\n",
       "      <td>[/guidance/rates-and-thresholds-for-employers-2016-to-2017]</td>\n",
       "      <td>/guidance/rates-and-thresholds-for-employers-2016-to-2017</td>\n",
       "      <td>[('PAGE_NULL', 'PAGE_NULL')]</td>\n",
       "      <td>...</td>\n",
       "      <td>[((PAGE_NULL, PAGE_NULL), 1)]</td>\n",
       "      <td>['/guidance/rates-and-thresholds-for-employers-2016-to-2017']</td>\n",
       "      <td>/guidance/rates-and-thresholds-for-employers-2016-to-2017</td>\n",
       "      <td>6198.0</td>\n",
       "      <td>12</td>\n",
       "      <td>False</td>\n",
       "      <td>0</td>\n",
       "      <td>0</td>\n",
       "      <td>1</td>\n",
       "      <td>75</td>\n",
       "    </tr>\n",
       "    <tr>\n",
       "      <th>1</th>\n",
       "      <td>/sure-start-maternity-grant/how-to-claim&lt;&lt;PAGE&lt;:&lt;NULL&lt;:&lt;NULL&gt;&gt;/government/publications/sure-start-maternity-grant-claim-form&lt;&lt;PAGE&lt;:&lt;NULL&lt;:&lt;NULL&gt;&gt;/government/publications/sure-start-maternity-grant-claim-form&lt;&lt;EVENT&lt;:&lt;External Link Clicked&lt;:&lt;https://assets.publishing.service.gov.uk/government/uploads/system/uploads/attachment_data/file/749722/sure-start-maternity-grant-sf100.pdf&gt;&gt;/government/publications/sure-start-maternity-grant-claim-form&lt;&lt;EVENT&lt;:&lt;Download Link Clicked&lt;:&lt;https://assets.pu...</td>\n",
       "      <td>/sure-start-maternity-grant/how-to-claim&gt;&gt;/government/publications/sure-start-maternity-grant-claim-form</td>\n",
       "      <td>100</td>\n",
       "      <td>385.0</td>\n",
       "      <td>[('mobile', 50), ('desktop', 50), ('tablet', 4)]</td>\n",
       "      <td>[('20181031', 34), ('20181029', 31), ('20181102', 24), ('20181104', 15)]</td>\n",
       "      <td>[('/sure-start-maternity-grant/how-to-claim', 'PAGE&lt;:&lt;NULL&lt;:&lt;NULL'), ('/government/publications/sure-start-maternity-grant-claim-form', 'PAGE&lt;:&lt;NULL&lt;:&lt;NULL'), ('/government/publications/sure-start-maternity-grant-claim-form', 'EVENT&lt;:&lt;External Link Clicked&lt;:&lt;https://assets.publishing.service.gov.uk/government/uploads/system/uploads/attachment_data/file/749722/sure-start-maternity-grant-sf100.pdf'), ('/government/publications/sure-start-maternity-grant-claim-form', 'EVENT&lt;:&lt;Download Link Clic...</td>\n",
       "      <td>[/sure-start-maternity-grant/how-to-claim, /government/publications/sure-start-maternity-grant-claim-form]</td>\n",
       "      <td>/sure-start-maternity-grant/how-to-claim&gt;&gt;/government/publications/sure-start-maternity-grant-claim-form</td>\n",
       "      <td>[('PAGE_NULL', 'PAGE_NULL'), ('PAGE_NULL', 'PAGE_NULL'), ('External Link Clicked', 'https://assets.publishing.service.gov.uk/government/uploads/system/uploads/attachment_data/file/749722/sure-start-maternity-grant-sf100.pdf'), ('Download Link Clicked', 'https://assets.publishing.service.gov.uk/government/uploads/system/uploads/attachment_data/file/749722/sure-start-maternity-grant-sf100.pdf')]</td>\n",
       "      <td>...</td>\n",
       "      <td>[((PAGE_NULL, PAGE_NULL), 2), ((External Link Clicked, https://assets.publishing.service.gov.uk/government/uploads/system/uploads/attachment_data/file/749722/sure-start-maternity-grant-sf100.pdf), 1), ((Download Link Clicked, https://assets.publishing.service.gov.uk/government/uploads/system/uploads/attachment_data/file/749722/sure-start-maternity-grant-sf100.pdf), 1)]</td>\n",
       "      <td>['/sure-start-maternity-grant/how-to-claim', '/government/publications/sure-start-maternity-grant-claim-form']</td>\n",
       "      <td>/sure-start-maternity-grant/how-to-claim&gt;&gt;/government/publications/sure-start-maternity-grant-claim-form</td>\n",
       "      <td>7010.0</td>\n",
       "      <td>4</td>\n",
       "      <td>False</td>\n",
       "      <td>0</td>\n",
       "      <td>0</td>\n",
       "      <td>2</td>\n",
       "      <td>200</td>\n",
       "    </tr>\n",
       "  </tbody>\n",
       "</table>\n",
       "<p>2 rows × 22 columns</p>\n",
       "</div>"
      ],
      "text/plain": [
       "                                                                                                                                                                                                                                                                                                                                                                                                                                                                                                              Sequence  \\\n",
       "0                                                                                                                                                                                                                                                                                                                                                                                                                                        /guidance/rates-and-thresholds-for-employers-2016-to-2017<<PAGE<:<NULL<:<NULL   \n",
       "1  /sure-start-maternity-grant/how-to-claim<<PAGE<:<NULL<:<NULL>>/government/publications/sure-start-maternity-grant-claim-form<<PAGE<:<NULL<:<NULL>>/government/publications/sure-start-maternity-grant-claim-form<<EVENT<:<External Link Clicked<:<https://assets.publishing.service.gov.uk/government/uploads/system/uploads/attachment_data/file/749722/sure-start-maternity-grant-sf100.pdf>>/government/publications/sure-start-maternity-grant-claim-form<<EVENT<:<Download Link Clicked<:<https://assets.pu...   \n",
       "\n",
       "                                                                                               PageSequence  \\\n",
       "0                                                 /guidance/rates-and-thresholds-for-employers-2016-to-2017   \n",
       "1  /sure-start-maternity-grant/how-to-claim>>/government/publications/sure-start-maternity-grant-claim-form   \n",
       "\n",
       "   Occurrences  Page_Seq_Occurrences  \\\n",
       "0           75                 306.0   \n",
       "1          100                 385.0   \n",
       "\n",
       "                                    DeviceCategories  \\\n",
       "0  [('desktop', 64), ('mobile', 11), ('tablet', 12)]   \n",
       "1   [('mobile', 50), ('desktop', 50), ('tablet', 4)]   \n",
       "\n",
       "                                                                      Dates  \\\n",
       "0  [('20181031', 33), ('20181029', 27), ('20181102', 17), ('20181104', 10)]   \n",
       "1  [('20181031', 34), ('20181029', 31), ('20181102', 24), ('20181104', 15)]   \n",
       "\n",
       "                                                                                                                                                                                                                                                                                                                                                                                                                                                                                                       Page_Event_List  \\\n",
       "0                                                                                                                                                                                                                                                                                                                                                                                                                                [('/guidance/rates-and-thresholds-for-employers-2016-to-2017', 'PAGE<:<NULL<:<NULL')]   \n",
       "1  [('/sure-start-maternity-grant/how-to-claim', 'PAGE<:<NULL<:<NULL'), ('/government/publications/sure-start-maternity-grant-claim-form', 'PAGE<:<NULL<:<NULL'), ('/government/publications/sure-start-maternity-grant-claim-form', 'EVENT<:<External Link Clicked<:<https://assets.publishing.service.gov.uk/government/uploads/system/uploads/attachment_data/file/749722/sure-start-maternity-grant-sf100.pdf'), ('/government/publications/sure-start-maternity-grant-claim-form', 'EVENT<:<Download Link Clic...   \n",
       "\n",
       "                                                                                                    Page_List  \\\n",
       "0                                                 [/guidance/rates-and-thresholds-for-employers-2016-to-2017]   \n",
       "1  [/sure-start-maternity-grant/how-to-claim, /government/publications/sure-start-maternity-grant-claim-form]   \n",
       "\n",
       "                                                                                      PageSequence_internal  \\\n",
       "0                                                 /guidance/rates-and-thresholds-for-employers-2016-to-2017   \n",
       "1  /sure-start-maternity-grant/how-to-claim>>/government/publications/sure-start-maternity-grant-claim-form   \n",
       "\n",
       "                                                                                                                                                                                                                                                                                                                                                                                                     Event_List  \\\n",
       "0                                                                                                                                                                                                                                                                                                                                                                                  [('PAGE_NULL', 'PAGE_NULL')]   \n",
       "1  [('PAGE_NULL', 'PAGE_NULL'), ('PAGE_NULL', 'PAGE_NULL'), ('External Link Clicked', 'https://assets.publishing.service.gov.uk/government/uploads/system/uploads/attachment_data/file/749722/sure-start-maternity-grant-sf100.pdf'), ('Download Link Clicked', 'https://assets.publishing.service.gov.uk/government/uploads/system/uploads/attachment_data/file/749722/sure-start-maternity-grant-sf100.pdf')]   \n",
       "\n",
       "             ...             \\\n",
       "0            ...              \n",
       "1            ...              \n",
       "\n",
       "                                                                                                                                                                                                                                                                                                                                                                     Event_cat_act_agg  \\\n",
       "0                                                                                                                                                                                                                                                                                                                                                        [((PAGE_NULL, PAGE_NULL), 1)]   \n",
       "1  [((PAGE_NULL, PAGE_NULL), 2), ((External Link Clicked, https://assets.publishing.service.gov.uk/government/uploads/system/uploads/attachment_data/file/749722/sure-start-maternity-grant-sf100.pdf), 1), ((Download Link Clicked, https://assets.publishing.service.gov.uk/government/uploads/system/uploads/attachment_data/file/749722/sure-start-maternity-grant-sf100.pdf), 1)]   \n",
       "\n",
       "                                                                                                     Page_List_NL  \\\n",
       "0                                                   ['/guidance/rates-and-thresholds-for-employers-2016-to-2017']   \n",
       "1  ['/sure-start-maternity-grant/how-to-claim', '/government/publications/sure-start-maternity-grant-claim-form']   \n",
       "\n",
       "                                                                                                Page_Seq_NL  \\\n",
       "0                                                 /guidance/rates-and-thresholds-for-employers-2016-to-2017   \n",
       "1  /sure-start-maternity-grant/how-to-claim>>/government/publications/sure-start-maternity-grant-claim-form   \n",
       "\n",
       "  Occurrences_NL TabletCount  Has_Related  Related Links Clicks per seq  \\\n",
       "0         6198.0          12        False                             0   \n",
       "1         7010.0           4        False                             0   \n",
       "\n",
       "   Related Links Clicks row total  pageviews  absolute pageviews count  \n",
       "0                               0          1                        75  \n",
       "1                               0          2                       200  \n",
       "\n",
       "[2 rows x 22 columns]"
      ]
     },
     "execution_count": 48,
     "metadata": {},
     "output_type": "execute_result"
    }
   ],
   "source": [
    "df.head(2)"
   ]
  },
  {
   "cell_type": "code",
   "execution_count": 50,
   "metadata": {
    "ExecuteTime": {
     "end_time": "2019-02-04T15:02:34.182178Z",
     "start_time": "2019-02-04T15:02:34.065378Z"
    }
   },
   "outputs": [
    {
     "data": {
      "text/plain": [
       "17207379"
      ]
     },
     "execution_count": 50,
     "metadata": {},
     "output_type": "execute_result"
    }
   ],
   "source": [
    "# total pageviews\n",
    "df['absolute pageviews count'].sum()"
   ]
  },
  {
   "cell_type": "code",
   "execution_count": null,
   "metadata": {},
   "outputs": [],
   "source": []
  }
 ],
 "metadata": {
  "kernelspec": {
   "display_name": "Python 3",
   "language": "python",
   "name": "python3"
  },
  "language_info": {
   "codemirror_mode": {
    "name": "ipython",
    "version": 3
   },
   "file_extension": ".py",
   "mimetype": "text/x-python",
   "name": "python",
   "nbconvert_exporter": "python",
   "pygments_lexer": "ipython3",
   "version": "3.6.0"
  },
  "toc": {
   "base_numbering": 1,
   "nav_menu": {},
   "number_sections": true,
   "sideBar": true,
   "skip_h1_title": false,
   "title_cell": "Table of Contents",
   "title_sidebar": "Contents",
   "toc_cell": false,
   "toc_position": {
    "height": "507px",
    "left": "159px",
    "top": "110px",
    "width": "235px"
   },
   "toc_section_display": true,
   "toc_window_display": true
  }
 },
 "nbformat": 4,
 "nbformat_minor": 2
}
