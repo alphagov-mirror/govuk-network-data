{
 "cells": [
  {
   "cell_type": "code",
   "execution_count": 182,
   "metadata": {},
   "outputs": [],
   "source": [
    "import os \n",
    "import pandas as pd\n",
    "import numpy as np\n",
    "from ast import literal_eval\n",
    "from collections import Counter\n",
    "from operator import itemgetter"
   ]
  },
  {
   "cell_type": "markdown",
   "metadata": {},
   "source": [
    "### File/dir locations"
   ]
  },
  {
   "cell_type": "code",
   "execution_count": 75,
   "metadata": {},
   "outputs": [],
   "source": [
    "DATA_DIR = os.getenv(\"DATA_DIR\")\n",
    "filename = \"preprocessed_taxon_pageseq_20190114_20190116.csv.gz\"\n",
    "df_file = os.path.join(DATA_DIR, \"processed_journey\", filename)\n",
    "df_rel_file = os.path.join(DATA_DIR, \"processed_journey\", \"rel_\"+filename)"
   ]
  },
  {
   "cell_type": "markdown",
   "metadata": {},
   "source": [
    "### Load up unfiltered data: 14-16/01/19"
   ]
  },
  {
   "cell_type": "code",
   "execution_count": 3,
   "metadata": {},
   "outputs": [],
   "source": [
    "# df = pd.read_csv(df_file, sep=\"\\t\", compression = \"gzip\")\n",
    "# df.shape"
   ]
  },
  {
   "cell_type": "markdown",
   "metadata": {},
   "source": [
    "**TODO: need to run this at some point to compare against \"related content\" link-specific dataset**\n",
    "\n",
    "There seems to be an indication that there are no major differences"
   ]
  },
  {
   "cell_type": "code",
   "execution_count": null,
   "metadata": {},
   "outputs": [],
   "source": [
    "# og_df_devices = Counter()\n",
    "# for item in df.DeviceCategories.values:\n",
    "#     for key,value in item:\n",
    "#         og_df_devices[key]+=value"
   ]
  },
  {
   "cell_type": "markdown",
   "metadata": {},
   "source": [
    "Original dataset shape (5048130, 17)"
   ]
  },
  {
   "cell_type": "markdown",
   "metadata": {},
   "source": [
    "### Prepare dataset: keep only journeys containing \"relatedLinkClicked\" event\n",
    "Requires further filtering because eventAction need to be \"Related link\" to avoid the inclusion of \"Explore the topic\" links."
   ]
  },
  {
   "cell_type": "code",
   "execution_count": 5,
   "metadata": {},
   "outputs": [],
   "source": [
    "# df_rel = df[df.Sequence.str.contains(\"relatedLinkClicked\")].copy(deep=True)\n",
    "# df_rel.to_csv(df_rel_file, sep=\"\\t\", compression = \"gzip\")"
   ]
  },
  {
   "cell_type": "markdown",
   "metadata": {},
   "source": [
    "### Evaluate journeys with related links"
   ]
  },
  {
   "cell_type": "code",
   "execution_count": 6,
   "metadata": {},
   "outputs": [],
   "source": [
    "df_rel = pd.read_csv(df_rel_file, sep=\"\\t\", compression = \"gzip\")"
   ]
  },
  {
   "cell_type": "code",
   "execution_count": 10,
   "metadata": {},
   "outputs": [],
   "source": [
    "df_rel.drop(\"Unnamed: 0\",axis=1,inplace=True)"
   ]
  },
  {
   "cell_type": "code",
   "execution_count": 14,
   "metadata": {},
   "outputs": [],
   "source": [
    "df_rel['Page_Seq_Occurrences'] = df_rel.groupby('PageSequence')['Occurrences'].transform('sum')"
   ]
  },
  {
   "cell_type": "code",
   "execution_count": 7,
   "metadata": {},
   "outputs": [
    {
     "data": {
      "text/plain": [
       "(592902, 18)"
      ]
     },
     "execution_count": 7,
     "metadata": {},
     "output_type": "execute_result"
    }
   ],
   "source": [
    "df_rel.shape"
   ]
  },
  {
   "cell_type": "code",
   "execution_count": null,
   "metadata": {},
   "outputs": [],
   "source": [
    "df_rel.head()"
   ]
  },
  {
   "cell_type": "code",
   "execution_count": 15,
   "metadata": {},
   "outputs": [],
   "source": [
    "occ_shape = df_rel[df_rel.Page_Seq_Occurrences==1].shape[0]"
   ]
  },
  {
   "cell_type": "code",
   "execution_count": 36,
   "metadata": {},
   "outputs": [
    {
     "data": {
      "text/plain": [
       "'85.21% of user journeys with all related links in 14-16/01 time period occur only once.'"
      ]
     },
     "execution_count": 36,
     "metadata": {},
     "output_type": "execute_result"
    }
   ],
   "source": [
    "\"{}% of user journeys with all related links in 14-16/01 time period occur only once.\".format(float('{:.6g}'.\n",
    "                                                                        format((occ_shape*100)/df_rel.shape[0])))"
   ]
  },
  {
   "cell_type": "markdown",
   "metadata": {},
   "source": [
    "### Keep only journeys that are interacting with the \"Related content\" links"
   ]
  },
  {
   "cell_type": "code",
   "execution_count": 40,
   "metadata": {},
   "outputs": [],
   "source": [
    "df_relc = df_rel[df_rel.Sequence.str.contains(\"Related content\")].copy(deep=True)"
   ]
  },
  {
   "cell_type": "code",
   "execution_count": 194,
   "metadata": {},
   "outputs": [
    {
     "data": {
      "text/plain": [
       "395777"
      ]
     },
     "execution_count": 194,
     "metadata": {},
     "output_type": "execute_result"
    }
   ],
   "source": [
    "relc_shape = df_relc.shape[0]\n",
    "relc_shape"
   ]
  },
  {
   "cell_type": "code",
   "execution_count": 195,
   "metadata": {},
   "outputs": [
    {
     "data": {
      "text/plain": [
       "473975"
      ]
     },
     "execution_count": 195,
     "metadata": {},
     "output_type": "execute_result"
    }
   ],
   "source": [
    "df_relc.Occurrences.sum()"
   ]
  },
  {
   "cell_type": "code",
   "execution_count": 45,
   "metadata": {},
   "outputs": [
    {
     "data": {
      "text/plain": [
       "'66.75% of user journeys include only \"Related content\" links'"
      ]
     },
     "execution_count": 45,
     "metadata": {},
     "output_type": "execute_result"
    }
   ],
   "source": [
    "\"{}% of user journeys include only \\\"Related content\\\" links\".format(float('{:.4g}'.\n",
    "                                                                        format((relc_shape*100)/df_rel.shape[0])))"
   ]
  },
  {
   "cell_type": "code",
   "execution_count": 46,
   "metadata": {},
   "outputs": [
    {
     "data": {
      "text/plain": [
       "count    394602.000000\n",
       "mean         16.854377\n",
       "std         150.269932\n",
       "min           1.000000\n",
       "25%           1.000000\n",
       "50%           1.000000\n",
       "75%           1.000000\n",
       "max        5467.000000\n",
       "Name: Page_Seq_Occurrences, dtype: float64"
      ]
     },
     "execution_count": 46,
     "metadata": {},
     "output_type": "execute_result"
    }
   ],
   "source": [
    "df_relc.Page_Seq_Occurrences.describe()"
   ]
  },
  {
   "cell_type": "code",
   "execution_count": 59,
   "metadata": {},
   "outputs": [],
   "source": [
    "columns = ['DeviceCategories', 'Dates', 'Page_Event_List', 'Page_List', \n",
    "           'Event_List',  'Event_cats_agg', 'Event_cat_act_agg',\n",
    "           'Taxon_List', 'Taxon_Page_List', 'Page_List_NL']"
   ]
  },
  {
   "cell_type": "code",
   "execution_count": 69,
   "metadata": {},
   "outputs": [
    {
     "name": "stdout",
     "output_type": "stream",
     "text": [
      "DeviceCategories\n",
      "Dates\n",
      "Page_Event_List\n",
      "Page_List\n",
      "Event_List\n",
      "Event_cats_agg\n",
      "Event_cat_act_agg\n",
      "Taxon_List\n",
      "Taxon_Page_List\n",
      "Page_List_NL\n"
     ]
    }
   ],
   "source": [
    "for column in columns:\n",
    "    print(column)\n",
    "    if not isinstance(df_relc[column].iloc[0],list):\n",
    "        df_relc[column] = df_relc[column].map(literal_eval)"
   ]
  },
  {
   "cell_type": "markdown",
   "metadata": {},
   "source": [
    "### Count how many related links there are per journey"
   ]
  },
  {
   "cell_type": "code",
   "execution_count": 126,
   "metadata": {},
   "outputs": [
    {
     "data": {
      "text/plain": [
       "[(('PAGE_NULL', 'PAGE_NULL'), 24),\n",
       " (('contentsClicked', 'content_item 2'), 1),\n",
       " (('relatedLinkClicked', '1.4 Related content'), 1),\n",
       " (('contentsClicked', 'next'), 1),\n",
       " (('Simple Smart Answer', 'Completed'), 1),\n",
       " (('verify-hint', 'shown'), 2),\n",
       " (('Radio button chosen', 'sign-in-with-government-gateway'), 1),\n",
       " (('Radio button chosen', 'sign-in-with-government-gateway-with-hint'), 1),\n",
       " (('Radio button chosen', 'sign-in-with-gov-uk-verify'), 2),\n",
       " (('Radio button chosen', 'sign-in-with-gov-uk-verify-with-hint'), 2),\n",
       " (('webchat', 'busy'), 3),\n",
       " (('breadcrumbClicked', '3'), 1),\n",
       " (('filterClicked', 'Search'), 1),\n",
       " (('yesNoFeedbackForm', 'ffNoClick'), 1),\n",
       " (('homeLinkClicked', 'homeBreadcrumb'), 1),\n",
       " (('Radio button chosen', 'register-for-self-assessment'), 1),\n",
       " (('Radio button chosen', 'register-for-self-assessment-with-hint'), 1),\n",
       " (('webchat', 'available'), 1),\n",
       " (('contentsClicked', 'content_item 3'), 1),\n",
       " (('External Link Clicked', 'https://online.hmrc.gov.uk/shortforms/form/SA1'),\n",
       "  2)]"
      ]
     },
     "execution_count": 126,
     "metadata": {},
     "output_type": "execute_result"
    }
   ],
   "source": [
    "df_relc.Event_cat_act_agg.iloc[2]"
   ]
  },
  {
   "cell_type": "code",
   "execution_count": 130,
   "metadata": {},
   "outputs": [],
   "source": [
    "def count_related_links(x):\n",
    "    return sum([value for key,value in x if \"Related content\" in key[1]])"
   ]
  },
  {
   "cell_type": "code",
   "execution_count": 129,
   "metadata": {},
   "outputs": [
    {
     "data": {
      "text/plain": [
       "1"
      ]
     },
     "execution_count": 129,
     "metadata": {},
     "output_type": "execute_result"
    }
   ],
   "source": [
    "extract_related_links(df_relc.Event_cat_act_agg.iloc[2])"
   ]
  },
  {
   "cell_type": "code",
   "execution_count": 132,
   "metadata": {},
   "outputs": [],
   "source": [
    "df_relc['num_rel_cont'] = df_relc['Event_cat_act_agg'].map(count_related_links)"
   ]
  },
  {
   "cell_type": "markdown",
   "metadata": {},
   "source": [
    "#### Distribution of occurrences and number of related links clicked"
   ]
  },
  {
   "cell_type": "code",
   "execution_count": 136,
   "metadata": {},
   "outputs": [],
   "source": [
    "occ_and_rel_count = Counter()\n",
    "for occ, num_rel in zip(df_relc['Occurrences'], df_relc['num_rel_cont']):\n",
    "    occ_and_rel_count[num_rel] += occ"
   ]
  },
  {
   "cell_type": "code",
   "execution_count": 196,
   "metadata": {},
   "outputs": [
    {
     "data": {
      "text/plain": [
       "[(1, 381270),\n",
       " (2, 67877),\n",
       " (3, 16475),\n",
       " (4, 5066),\n",
       " (5, 1805),\n",
       " (6, 758),\n",
       " (7, 322),\n",
       " (8, 167),\n",
       " (9, 81),\n",
       " (10, 52),\n",
       " (11, 32),\n",
       " (12, 20),\n",
       " (13, 13),\n",
       " (14, 11),\n",
       " (15, 7),\n",
       " (17, 5),\n",
       " (26, 2),\n",
       " (27, 2),\n",
       " (23, 2),\n",
       " (16, 2),\n",
       " (20, 1),\n",
       " (45, 1),\n",
       " (47, 1),\n",
       " (18, 1),\n",
       " (19, 1),\n",
       " (24, 1)]"
      ]
     },
     "execution_count": 196,
     "metadata": {},
     "output_type": "execute_result"
    }
   ],
   "source": [
    "occ_and_rel_count.most_common()"
   ]
  },
  {
   "cell_type": "code",
   "execution_count": 134,
   "metadata": {},
   "outputs": [
    {
     "data": {
      "text/plain": [
       "(90012, 21)"
      ]
     },
     "execution_count": 134,
     "metadata": {},
     "output_type": "execute_result"
    }
   ],
   "source": [
    "df_relc[df_relc['num_rel_cont']>1].shape"
   ]
  },
  {
   "cell_type": "markdown",
   "metadata": {},
   "source": [
    "### Compute device category frequency counts over all journeys"
   ]
  },
  {
   "cell_type": "code",
   "execution_count": 71,
   "metadata": {},
   "outputs": [],
   "source": [
    "devices = Counter()\n",
    "for item in df_relc.DeviceCategories.values:\n",
    "    for key,value in item:\n",
    "        devices[key]+=value"
   ]
  },
  {
   "cell_type": "code",
   "execution_count": 73,
   "metadata": {},
   "outputs": [
    {
     "data": {
      "text/plain": [
       "Counter({'desktop': 256791, 'tablet': 55546, 'mobile': 161638})"
      ]
     },
     "execution_count": 73,
     "metadata": {},
     "output_type": "execute_result"
    }
   ],
   "source": [
    "devices"
   ]
  },
  {
   "cell_type": "code",
   "execution_count": 76,
   "metadata": {},
   "outputs": [
    {
     "data": {
      "text/plain": [
       "[(('PAGE_NULL', 'PAGE_NULL'), 38),\n",
       " (('secondLevelBrowseLinkClicked', '5'), 11),\n",
       " (('thirdLevelBrowseLinkClicked', '1.4'), 1),\n",
       " (('Smart Answer', 'Completed'), 2),\n",
       " (('relatedLinkClicked', '1.5 Related content'), 1),\n",
       " (('contentsClicked', 'content_item 3'), 2),\n",
       " (('breadcrumbClicked', '3'), 1),\n",
       " (('thirdLevelBrowseLinkClicked', '1.1'), 1),\n",
       " (('contentsClicked', 'content_item 2'), 3),\n",
       " (('relatedLinkClicked', '1.3 Related content'), 1),\n",
       " (('user_satisfaction_survey', 'banner_shown'), 2),\n",
       " (('relatedLinkClicked', '1.1 Related content'), 1),\n",
       " (('searchResults', 'resultsShown'), 2),\n",
       " (('UX', 'click'), 2),\n",
       " (('External Link Clicked',\n",
       "   'https://pensioncreditcalculator.dwp.gov.uk/pension-credit-calculator.php?new'),\n",
       "  1),\n",
       " (('contentsClicked', 'content_item 1'), 2),\n",
       " (('pageElementInteraction', 'stepNavShown'), 1),\n",
       " (('contentsClicked', 'next'), 1)]"
      ]
     },
     "execution_count": 76,
     "metadata": {},
     "output_type": "execute_result"
    }
   ],
   "source": [
    "df_relc.Event_cat_act_agg.iloc[0]"
   ]
  },
  {
   "cell_type": "code",
   "execution_count": 94,
   "metadata": {},
   "outputs": [],
   "source": [
    "def device_ratio(x):\n",
    "    mobile = 0\n",
    "    desktop = 0\n",
    "    for item,value in x:\n",
    "        if item == \"mobile\":\n",
    "            mobile = value\n",
    "        elif item == \"desktop\":\n",
    "            desktop=value\n",
    "    return desktop/mobile if mobile != 0 else -1"
   ]
  },
  {
   "cell_type": "code",
   "execution_count": 107,
   "metadata": {},
   "outputs": [],
   "source": [
    "def percent_desktop(x):\n",
    "    mobile = 0\n",
    "    desktop = 0\n",
    "    for item,value in x:\n",
    "        if item == \"mobile\" or item == \"tablet\":\n",
    "            mobile += value\n",
    "        elif item == \"desktop\":\n",
    "            desktop = value\n",
    "    return (desktop*100)/(mobile+desktop)"
   ]
  },
  {
   "cell_type": "code",
   "execution_count": 168,
   "metadata": {},
   "outputs": [],
   "source": [
    "def device_count(x,device):\n",
    "    return sum([value for item, value in x if item==device])         "
   ]
  },
  {
   "cell_type": "code",
   "execution_count": 180,
   "metadata": {},
   "outputs": [],
   "source": [
    "def more_device(x,device):\n",
    "    return max(x,key=itemgetter(1))[0]==device "
   ]
  },
  {
   "cell_type": "code",
   "execution_count": 108,
   "metadata": {},
   "outputs": [],
   "source": [
    "df_relc['DeviceRatio'] =  df_relc['DeviceCategories'].map(device_ratio)"
   ]
  },
  {
   "cell_type": "code",
   "execution_count": 141,
   "metadata": {},
   "outputs": [
    {
     "data": {
      "text/plain": [
       "1     NaN\n",
       "2     NaN\n",
       "3     NaN\n",
       "4     NaN\n",
       "5     0.0\n",
       "6     NaN\n",
       "7     NaN\n",
       "10    NaN\n",
       "12    0.0\n",
       "13    NaN\n",
       "Name: DeviceRatio, dtype: float64"
      ]
     },
     "execution_count": 141,
     "metadata": {},
     "output_type": "execute_result"
    }
   ],
   "source": [
    "df_relc['DeviceRatio'][0:10]"
   ]
  },
  {
   "cell_type": "code",
   "execution_count": 110,
   "metadata": {},
   "outputs": [
    {
     "data": {
      "text/plain": [
       "count    138316.000000\n",
       "mean          0.059877\n",
       "std           0.958298\n",
       "min           0.000000\n",
       "25%           0.000000\n",
       "50%           0.000000\n",
       "75%           0.000000\n",
       "max         154.333333\n",
       "Name: DeviceRatio, dtype: float64"
      ]
     },
     "execution_count": 110,
     "metadata": {},
     "output_type": "execute_result"
    }
   ],
   "source": [
    "df_relc['DeviceRatio'].describe()"
   ]
  },
  {
   "cell_type": "code",
   "execution_count": 111,
   "metadata": {},
   "outputs": [],
   "source": [
    "df_relc['PercentDesktop'] = df_relc['DeviceCategories'].map(percent_desktop)"
   ]
  },
  {
   "cell_type": "code",
   "execution_count": 117,
   "metadata": {},
   "outputs": [
    {
     "data": {
      "text/plain": [
       "count    395777.000000\n",
       "mean         53.967820\n",
       "std          49.484192\n",
       "min           0.000000\n",
       "25%           0.000000\n",
       "50%         100.000000\n",
       "75%         100.000000\n",
       "max         100.000000\n",
       "Name: PercentDesktop, dtype: float64"
      ]
     },
     "execution_count": 117,
     "metadata": {},
     "output_type": "execute_result"
    }
   ],
   "source": [
    "df_relc.PercentDesktop.describe()"
   ]
  },
  {
   "cell_type": "code",
   "execution_count": 170,
   "metadata": {},
   "outputs": [],
   "source": [
    "df_relc[\"DesktopCount\"] = df_relc['DeviceCategories'].map(lambda x: device_count(x,\"desktop\"))\n",
    "df_relc[\"MobileCount\"] = df_relc['DeviceCategories'].map(lambda x: device_count(x,\"mobile\"))                                                         "
   ]
  },
  {
   "cell_type": "code",
   "execution_count": 185,
   "metadata": {},
   "outputs": [
    {
     "name": "stdout",
     "output_type": "stream",
     "text": [
      "[('desktop', 1)]\n"
     ]
    },
    {
     "data": {
      "text/plain": [
       "False"
      ]
     },
     "execution_count": 185,
     "metadata": {},
     "output_type": "execute_result"
    }
   ],
   "source": [
    "print(df_relc['DeviceCategories'].iloc[0])\n",
    "more_device(df_relc['DeviceCategories'].iloc[0],\"mobile\")"
   ]
  },
  {
   "cell_type": "markdown",
   "metadata": {},
   "source": [
    "### Compute \"more desktop-y\" user journeys"
   ]
  },
  {
   "cell_type": "code",
   "execution_count": 186,
   "metadata": {},
   "outputs": [],
   "source": [
    "df_relc[\"MoreDesktops\"] = df_relc['DeviceCategories'].map(lambda x: more_device(x,\"desktop\"))"
   ]
  },
  {
   "cell_type": "code",
   "execution_count": 188,
   "metadata": {},
   "outputs": [
    {
     "data": {
      "text/plain": [
       "(395777, 26)"
      ]
     },
     "execution_count": 188,
     "metadata": {},
     "output_type": "execute_result"
    }
   ],
   "source": [
    "df_relc.shape"
   ]
  },
  {
   "cell_type": "code",
   "execution_count": 193,
   "metadata": {},
   "outputs": [
    {
     "data": {
      "text/plain": [
       "count    213739.000000\n",
       "mean          1.335053\n",
       "std           0.794163\n",
       "min           1.000000\n",
       "25%           1.000000\n",
       "50%           1.000000\n",
       "75%           1.000000\n",
       "max          47.000000\n",
       "Name: num_rel_cont, dtype: float64"
      ]
     },
     "execution_count": 193,
     "metadata": {},
     "output_type": "execute_result"
    }
   ],
   "source": [
    "df_relc[df_relc[\"MoreDesktops\"]].num_rel_cont.describe()"
   ]
  },
  {
   "cell_type": "code",
   "execution_count": null,
   "metadata": {},
   "outputs": [],
   "source": []
  },
  {
   "cell_type": "code",
   "execution_count": 190,
   "metadata": {},
   "outputs": [
    {
     "data": {
      "text/plain": [
       "54.004906803578784"
      ]
     },
     "execution_count": 190,
     "metadata": {},
     "output_type": "execute_result"
    }
   ],
   "source": [
    "(213739*100)/395777"
   ]
  },
  {
   "cell_type": "markdown",
   "metadata": {},
   "source": [
    "### Describe `DesktopCount` metric"
   ]
  },
  {
   "cell_type": "code",
   "execution_count": 171,
   "metadata": {},
   "outputs": [
    {
     "data": {
      "text/plain": [
       "count    395777.000000\n",
       "mean          0.648827\n",
       "std           5.524488\n",
       "min           0.000000\n",
       "25%           0.000000\n",
       "50%           1.000000\n",
       "75%           1.000000\n",
       "max        2087.000000\n",
       "Name: DesktopCount, dtype: float64"
      ]
     },
     "execution_count": 171,
     "metadata": {},
     "output_type": "execute_result"
    }
   ],
   "source": [
    "df_relc[\"DesktopCount\"].describe()"
   ]
  },
  {
   "cell_type": "markdown",
   "metadata": {},
   "source": [
    "#### Distribution of desktop use % and average number of related links clicked"
   ]
  },
  {
   "cell_type": "code",
   "execution_count": 162,
   "metadata": {},
   "outputs": [],
   "source": [
    "pd_num_rel = {}\n",
    "for pd,num_rel in zip(df_relc['PercentDesktop'], df_relc['num_rel_cont']):\n",
    "    if pd in pd_num_rel.keys():\n",
    "        pd_num_rel[pd].append(num_rel)\n",
    "    else:\n",
    "        pd_num_rel[pd] = [num_rel]\n",
    "        \n",
    "for key,value in pd_num_rel.items():\n",
    "    pd_num_rel[key] = round(sum(value)/len(value),3)"
   ]
  },
  {
   "cell_type": "code",
   "execution_count": 163,
   "metadata": {},
   "outputs": [
    {
     "data": {
      "text/plain": [
       "438"
      ]
     },
     "execution_count": 163,
     "metadata": {},
     "output_type": "execute_result"
    }
   ],
   "source": [
    "len(pd_num_rel)"
   ]
  },
  {
   "cell_type": "code",
   "execution_count": 164,
   "metadata": {},
   "outputs": [
    {
     "name": "stdout",
     "output_type": "stream",
     "text": [
      "50.0 1.084\n",
      "49.438202247191015 1.0\n",
      "49.056603773584904 1.0\n",
      "48.38709677419355 1.0\n",
      "48.148148148148145 1.0\n",
      "47.916666666666664 1.0\n",
      "47.82608695652174 1.0\n",
      "47.61904761904762 1.0\n",
      "47.36842105263158 1.0\n",
      "46.666666666666664 1.143\n",
      "46.42857142857143 1.0\n",
      "46.34146341463415 1.0\n",
      "46.26865671641791 1.0\n",
      "46.15384615384615 1.0\n",
      "45.714285714285715 1.0\n",
      "45.669291338582674 1.0\n",
      "45.6140350877193 1.0\n",
      "45.45454545454545 1.083\n",
      "45.16129032258065 1.0\n",
      "45.0 1.0\n"
     ]
    }
   ],
   "source": [
    "for key in sorted([key for key in pd_num_rel.keys() if key <= 50],reverse=True)[0:20]:\n",
    "    print(key,pd_num_rel[key])"
   ]
  },
  {
   "cell_type": "code",
   "execution_count": 167,
   "metadata": {},
   "outputs": [
    {
     "name": "stdout",
     "output_type": "stream",
     "text": [
      "91.93548387096774 2.0\n",
      "63.829787234042556 2.0\n",
      "86.36363636363636 2.0\n",
      "93.58974358974359 2.0\n",
      "77.27272727272727 2.0\n",
      "39.285714285714285 2.0\n",
      "88.57142857142857 3.0\n",
      "26.470588235294116 2.0\n"
     ]
    }
   ],
   "source": [
    "for key,value in pd_num_rel.items():\n",
    "    if value >= 2:\n",
    "        print(key,value)\n",
    "        "
   ]
  },
  {
   "cell_type": "code",
   "execution_count": null,
   "metadata": {},
   "outputs": [],
   "source": [
    "## Where are the max related links?"
   ]
  },
  {
   "cell_type": "code",
   "execution_count": null,
   "metadata": {},
   "outputs": [],
   "source": []
  }
 ],
 "metadata": {
  "kernelspec": {
   "display_name": "Python 3",
   "language": "python",
   "name": "python3"
  },
  "language_info": {
   "codemirror_mode": {
    "name": "ipython",
    "version": 3
   },
   "file_extension": ".py",
   "mimetype": "text/x-python",
   "name": "python",
   "nbconvert_exporter": "python",
   "pygments_lexer": "ipython3",
   "version": "3.6.0"
  }
 },
 "nbformat": 4,
 "nbformat_minor": 2
}
