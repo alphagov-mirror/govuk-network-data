{
 "cells": [
  {
   "cell_type": "code",
   "execution_count": 1,
   "metadata": {
    "ExecuteTime": {
     "end_time": "2019-02-08T10:52:52.819525Z",
     "start_time": "2019-02-08T10:52:52.118134Z"
    }
   },
   "outputs": [],
   "source": [
    "import os \n",
    "import pandas as pd\n",
    "import numpy as np\n",
    "import ast\n",
    "import matplotlib.pyplot as plt\n",
    "import re\n",
    "\n",
    "from collections import Counter"
   ]
  },
  {
   "cell_type": "code",
   "execution_count": 2,
   "metadata": {
    "ExecuteTime": {
     "end_time": "2019-02-08T10:52:52.828114Z",
     "start_time": "2019-02-08T10:52:52.822190Z"
    }
   },
   "outputs": [],
   "source": [
    "%matplotlib inline"
   ]
  },
  {
   "cell_type": "code",
   "execution_count": 3,
   "metadata": {
    "ExecuteTime": {
     "end_time": "2019-02-08T10:52:52.833548Z",
     "start_time": "2019-02-08T10:52:52.829950Z"
    }
   },
   "outputs": [
    {
     "name": "stdout",
     "output_type": "stream",
     "text": [
      "50\n"
     ]
    }
   ],
   "source": [
    "# Some of the columns we will look at can be quite wide, but it's good to get an idea of what they contain\n",
    "print(pd.get_option('max_colwidth'))\n",
    "pd.set_option('max_colwidth',500)"
   ]
  },
  {
   "cell_type": "markdown",
   "metadata": {},
   "source": [
    "## File/dir locations\n"
   ]
  },
  {
   "cell_type": "code",
   "execution_count": 4,
   "metadata": {
    "ExecuteTime": {
     "end_time": "2019-02-08T10:52:53.460028Z",
     "start_time": "2019-02-08T10:52:53.456820Z"
    }
   },
   "outputs": [],
   "source": [
    "DATA_DIR = os.getenv(\"DATA_DIR\")\n",
    "filename = \"preprocessed_taxon_pageseq_20190114_20190116.csv.gz\"\n",
    "# df_file = os.path.join(DATA_DIR, \"processed_journey\", filename)\n",
    "# df_reduced_file = os.path.join(DATA_DIR, \"processed_journey\", \"reduced_\"+filename)\n",
    "# df_rel_file = os.path.join(DATA_DIR, \"processed_journey\", \"rel_\"+filename)\n",
    "df_doo_file = os.path.join(\n",
    "    DATA_DIR, \"processed_journey\",\n",
    "    \"doo_prelim_meta_standard_with_pageseq_from_29-10_to_04-11-2018.csv.gz\")"
   ]
  },
  {
   "cell_type": "markdown",
   "metadata": {},
   "source": [
    "Load up a data file that isn't too large - we just want to check that the putative metrics for analysis can be derived from the data. This data was produced by an early version of the pipeline and is missing some descriptive variables, such as taxons etc. However, it contains the sequences of pages and behaviours (or events) of users on those pages, including interaction with the sidebar and the related links contained therein."
   ]
  },
  {
   "cell_type": "code",
   "execution_count": 5,
   "metadata": {
    "ExecuteTime": {
     "end_time": "2019-02-08T10:53:44.310684Z",
     "start_time": "2019-02-08T10:52:54.088560Z"
    }
   },
   "outputs": [],
   "source": [
    "df = pd.read_csv(df_doo_file, compression=\"gzip\")"
   ]
  },
  {
   "cell_type": "code",
   "execution_count": 6,
   "metadata": {
    "ExecuteTime": {
     "end_time": "2019-02-08T10:53:44.338041Z",
     "start_time": "2019-02-08T10:53:44.313216Z"
    }
   },
   "outputs": [
    {
     "data": {
      "text/html": [
       "<div>\n",
       "<style scoped>\n",
       "    .dataframe tbody tr th:only-of-type {\n",
       "        vertical-align: middle;\n",
       "    }\n",
       "\n",
       "    .dataframe tbody tr th {\n",
       "        vertical-align: top;\n",
       "    }\n",
       "\n",
       "    .dataframe thead th {\n",
       "        text-align: right;\n",
       "    }\n",
       "</style>\n",
       "<table border=\"1\" class=\"dataframe\">\n",
       "  <thead>\n",
       "    <tr style=\"text-align: right;\">\n",
       "      <th></th>\n",
       "      <th>Sequence</th>\n",
       "      <th>PageSequence</th>\n",
       "      <th>Occurrences</th>\n",
       "      <th>Page_Seq_Occurrences</th>\n",
       "      <th>DeviceCategories</th>\n",
       "      <th>Dates</th>\n",
       "      <th>Page_Event_List</th>\n",
       "      <th>Page_List</th>\n",
       "      <th>PageSequence_internal</th>\n",
       "      <th>Event_List</th>\n",
       "      <th>num_event_cats</th>\n",
       "      <th>Event_cats_agg</th>\n",
       "      <th>Event_cat_act_agg</th>\n",
       "      <th>Page_List_NL</th>\n",
       "      <th>Page_Seq_NL</th>\n",
       "      <th>Occurrences_NL</th>\n",
       "    </tr>\n",
       "  </thead>\n",
       "  <tbody>\n",
       "    <tr>\n",
       "      <th>0</th>\n",
       "      <td>/guidance/rates-and-thresholds-for-employers-2016-to-2017&lt;&lt;PAGE&lt;:&lt;NULL&lt;:&lt;NULL</td>\n",
       "      <td>/guidance/rates-and-thresholds-for-employers-2016-to-2017</td>\n",
       "      <td>87</td>\n",
       "      <td>306.0</td>\n",
       "      <td>[('desktop', 64), ('mobile', 11), ('tablet', 12)]</td>\n",
       "      <td>[('20181031', 33), ('20181029', 27), ('20181102', 17), ('20181104', 10)]</td>\n",
       "      <td>[('/guidance/rates-and-thresholds-for-employers-2016-to-2017', 'PAGE&lt;:&lt;NULL&lt;:&lt;NULL')]</td>\n",
       "      <td>['/guidance/rates-and-thresholds-for-employers-2016-to-2017']</td>\n",
       "      <td>/guidance/rates-and-thresholds-for-employers-2016-to-2017</td>\n",
       "      <td>[('PAGE_NULL', 'PAGE_NULL')]</td>\n",
       "      <td>1</td>\n",
       "      <td>[('PAGE_NULL', 1)]</td>\n",
       "      <td>[(('PAGE_NULL', 'PAGE_NULL'), 1)]</td>\n",
       "      <td>['/guidance/rates-and-thresholds-for-employers-2016-to-2017']</td>\n",
       "      <td>/guidance/rates-and-thresholds-for-employers-2016-to-2017</td>\n",
       "      <td>6198.0</td>\n",
       "    </tr>\n",
       "    <tr>\n",
       "      <th>1</th>\n",
       "      <td>/sure-start-maternity-grant/how-to-claim&lt;&lt;PAGE&lt;:&lt;NULL&lt;:&lt;NULL&gt;&gt;/government/publications/sure-start-maternity-grant-claim-form&lt;&lt;PAGE&lt;:&lt;NULL&lt;:&lt;NULL&gt;&gt;/government/publications/sure-start-maternity-grant-claim-form&lt;&lt;EVENT&lt;:&lt;External Link Clicked&lt;:&lt;https://assets.publishing.service.gov.uk/government/uploads/system/uploads/attachment_data/file/749722/sure-start-maternity-grant-sf100.pdf&gt;&gt;/government/publications/sure-start-maternity-grant-claim-form&lt;&lt;EVENT&lt;:&lt;Download Link Clicked&lt;:&lt;https://assets.pu...</td>\n",
       "      <td>/sure-start-maternity-grant/how-to-claim&gt;&gt;/government/publications/sure-start-maternity-grant-claim-form</td>\n",
       "      <td>104</td>\n",
       "      <td>385.0</td>\n",
       "      <td>[('mobile', 50), ('desktop', 50), ('tablet', 4)]</td>\n",
       "      <td>[('20181031', 34), ('20181029', 31), ('20181102', 24), ('20181104', 15)]</td>\n",
       "      <td>[('/sure-start-maternity-grant/how-to-claim', 'PAGE&lt;:&lt;NULL&lt;:&lt;NULL'), ('/government/publications/sure-start-maternity-grant-claim-form', 'PAGE&lt;:&lt;NULL&lt;:&lt;NULL'), ('/government/publications/sure-start-maternity-grant-claim-form', 'EVENT&lt;:&lt;External Link Clicked&lt;:&lt;https://assets.publishing.service.gov.uk/government/uploads/system/uploads/attachment_data/file/749722/sure-start-maternity-grant-sf100.pdf'), ('/government/publications/sure-start-maternity-grant-claim-form', 'EVENT&lt;:&lt;Download Link Clic...</td>\n",
       "      <td>['/sure-start-maternity-grant/how-to-claim', '/government/publications/sure-start-maternity-grant-claim-form']</td>\n",
       "      <td>/sure-start-maternity-grant/how-to-claim&gt;&gt;/government/publications/sure-start-maternity-grant-claim-form</td>\n",
       "      <td>[('PAGE_NULL', 'PAGE_NULL'), ('PAGE_NULL', 'PAGE_NULL'), ('External Link Clicked', 'https://assets.publishing.service.gov.uk/government/uploads/system/uploads/attachment_data/file/749722/sure-start-maternity-grant-sf100.pdf'), ('Download Link Clicked', 'https://assets.publishing.service.gov.uk/government/uploads/system/uploads/attachment_data/file/749722/sure-start-maternity-grant-sf100.pdf')]</td>\n",
       "      <td>3</td>\n",
       "      <td>[('PAGE_NULL', 2), ('External Link Clicked', 1), ('Download Link Clicked', 1)]</td>\n",
       "      <td>[(('PAGE_NULL', 'PAGE_NULL'), 2), (('External Link Clicked', 'https://assets.publishing.service.gov.uk/government/uploads/system/uploads/attachment_data/file/749722/sure-start-maternity-grant-sf100.pdf'), 1), (('Download Link Clicked', 'https://assets.publishing.service.gov.uk/government/uploads/system/uploads/attachment_data/file/749722/sure-start-maternity-grant-sf100.pdf'), 1)]</td>\n",
       "      <td>['/sure-start-maternity-grant/how-to-claim', '/government/publications/sure-start-maternity-grant-claim-form']</td>\n",
       "      <td>/sure-start-maternity-grant/how-to-claim&gt;&gt;/government/publications/sure-start-maternity-grant-claim-form</td>\n",
       "      <td>7010.0</td>\n",
       "    </tr>\n",
       "  </tbody>\n",
       "</table>\n",
       "</div>"
      ],
      "text/plain": [
       "                                                                                                                                                                                                                                                                                                                                                                                                                                                                                                              Sequence  \\\n",
       "0                                                                                                                                                                                                                                                                                                                                                                                                                                        /guidance/rates-and-thresholds-for-employers-2016-to-2017<<PAGE<:<NULL<:<NULL   \n",
       "1  /sure-start-maternity-grant/how-to-claim<<PAGE<:<NULL<:<NULL>>/government/publications/sure-start-maternity-grant-claim-form<<PAGE<:<NULL<:<NULL>>/government/publications/sure-start-maternity-grant-claim-form<<EVENT<:<External Link Clicked<:<https://assets.publishing.service.gov.uk/government/uploads/system/uploads/attachment_data/file/749722/sure-start-maternity-grant-sf100.pdf>>/government/publications/sure-start-maternity-grant-claim-form<<EVENT<:<Download Link Clicked<:<https://assets.pu...   \n",
       "\n",
       "                                                                                               PageSequence  \\\n",
       "0                                                 /guidance/rates-and-thresholds-for-employers-2016-to-2017   \n",
       "1  /sure-start-maternity-grant/how-to-claim>>/government/publications/sure-start-maternity-grant-claim-form   \n",
       "\n",
       "   Occurrences  Page_Seq_Occurrences  \\\n",
       "0           87                 306.0   \n",
       "1          104                 385.0   \n",
       "\n",
       "                                    DeviceCategories  \\\n",
       "0  [('desktop', 64), ('mobile', 11), ('tablet', 12)]   \n",
       "1   [('mobile', 50), ('desktop', 50), ('tablet', 4)]   \n",
       "\n",
       "                                                                      Dates  \\\n",
       "0  [('20181031', 33), ('20181029', 27), ('20181102', 17), ('20181104', 10)]   \n",
       "1  [('20181031', 34), ('20181029', 31), ('20181102', 24), ('20181104', 15)]   \n",
       "\n",
       "                                                                                                                                                                                                                                                                                                                                                                                                                                                                                                       Page_Event_List  \\\n",
       "0                                                                                                                                                                                                                                                                                                                                                                                                                                [('/guidance/rates-and-thresholds-for-employers-2016-to-2017', 'PAGE<:<NULL<:<NULL')]   \n",
       "1  [('/sure-start-maternity-grant/how-to-claim', 'PAGE<:<NULL<:<NULL'), ('/government/publications/sure-start-maternity-grant-claim-form', 'PAGE<:<NULL<:<NULL'), ('/government/publications/sure-start-maternity-grant-claim-form', 'EVENT<:<External Link Clicked<:<https://assets.publishing.service.gov.uk/government/uploads/system/uploads/attachment_data/file/749722/sure-start-maternity-grant-sf100.pdf'), ('/government/publications/sure-start-maternity-grant-claim-form', 'EVENT<:<Download Link Clic...   \n",
       "\n",
       "                                                                                                        Page_List  \\\n",
       "0                                                   ['/guidance/rates-and-thresholds-for-employers-2016-to-2017']   \n",
       "1  ['/sure-start-maternity-grant/how-to-claim', '/government/publications/sure-start-maternity-grant-claim-form']   \n",
       "\n",
       "                                                                                      PageSequence_internal  \\\n",
       "0                                                 /guidance/rates-and-thresholds-for-employers-2016-to-2017   \n",
       "1  /sure-start-maternity-grant/how-to-claim>>/government/publications/sure-start-maternity-grant-claim-form   \n",
       "\n",
       "                                                                                                                                                                                                                                                                                                                                                                                                     Event_List  \\\n",
       "0                                                                                                                                                                                                                                                                                                                                                                                  [('PAGE_NULL', 'PAGE_NULL')]   \n",
       "1  [('PAGE_NULL', 'PAGE_NULL'), ('PAGE_NULL', 'PAGE_NULL'), ('External Link Clicked', 'https://assets.publishing.service.gov.uk/government/uploads/system/uploads/attachment_data/file/749722/sure-start-maternity-grant-sf100.pdf'), ('Download Link Clicked', 'https://assets.publishing.service.gov.uk/government/uploads/system/uploads/attachment_data/file/749722/sure-start-maternity-grant-sf100.pdf')]   \n",
       "\n",
       "   num_event_cats  \\\n",
       "0               1   \n",
       "1               3   \n",
       "\n",
       "                                                                   Event_cats_agg  \\\n",
       "0                                                              [('PAGE_NULL', 1)]   \n",
       "1  [('PAGE_NULL', 2), ('External Link Clicked', 1), ('Download Link Clicked', 1)]   \n",
       "\n",
       "                                                                                                                                                                                                                                                                                                                                                                                 Event_cat_act_agg  \\\n",
       "0                                                                                                                                                                                                                                                                                                                                                                [(('PAGE_NULL', 'PAGE_NULL'), 1)]   \n",
       "1  [(('PAGE_NULL', 'PAGE_NULL'), 2), (('External Link Clicked', 'https://assets.publishing.service.gov.uk/government/uploads/system/uploads/attachment_data/file/749722/sure-start-maternity-grant-sf100.pdf'), 1), (('Download Link Clicked', 'https://assets.publishing.service.gov.uk/government/uploads/system/uploads/attachment_data/file/749722/sure-start-maternity-grant-sf100.pdf'), 1)]   \n",
       "\n",
       "                                                                                                     Page_List_NL  \\\n",
       "0                                                   ['/guidance/rates-and-thresholds-for-employers-2016-to-2017']   \n",
       "1  ['/sure-start-maternity-grant/how-to-claim', '/government/publications/sure-start-maternity-grant-claim-form']   \n",
       "\n",
       "                                                                                                Page_Seq_NL  \\\n",
       "0                                                 /guidance/rates-and-thresholds-for-employers-2016-to-2017   \n",
       "1  /sure-start-maternity-grant/how-to-claim>>/government/publications/sure-start-maternity-grant-claim-form   \n",
       "\n",
       "   Occurrences_NL  \n",
       "0          6198.0  \n",
       "1          7010.0  "
      ]
     },
     "execution_count": 6,
     "metadata": {},
     "output_type": "execute_result"
    }
   ],
   "source": [
    "df.head(2)"
   ]
  },
  {
   "cell_type": "code",
   "execution_count": 7,
   "metadata": {
    "ExecuteTime": {
     "end_time": "2019-02-08T10:53:44.344538Z",
     "start_time": "2019-02-08T10:53:44.340120Z"
    }
   },
   "outputs": [
    {
     "data": {
      "text/plain": [
       "(2035522, 16)"
      ]
     },
     "execution_count": 7,
     "metadata": {},
     "output_type": "execute_result"
    }
   ],
   "source": [
    "df.shape"
   ]
  },
  {
   "cell_type": "markdown",
   "metadata": {},
   "source": [
    "## Remove tablet occurrences"
   ]
  },
  {
   "cell_type": "markdown",
   "metadata": {},
   "source": [
    "Tablet data won't be in our future datasets so let's remove it here. We won't be using it in future because depending on screen width/orientation it can display the page in a \"mobile\" or \"desktop\" format, where related links are in different places, this will make analysis of the data more complicated."
   ]
  },
  {
   "cell_type": "code",
   "execution_count": 8,
   "metadata": {
    "ExecuteTime": {
     "end_time": "2019-02-08T10:54:15.953215Z",
     "start_time": "2019-02-08T10:53:44.347671Z"
    }
   },
   "outputs": [
    {
     "data": {
      "text/plain": [
       "(1893413, 17)"
      ]
     },
     "execution_count": 8,
     "metadata": {},
     "output_type": "execute_result"
    }
   ],
   "source": [
    "def device_count(x, device):\n",
    "    return sum([value for item, value in x if item == device])\n",
    "\n",
    "df[\"TabletCount\"] = df['DeviceCategories'].apply(\n",
    "    ast.literal_eval).map(lambda x: device_count(x, \"tablet\"))\n",
    "df[\"Occurrences\"] = df[\"Occurrences\"] - df[\"TabletCount\"]\n",
    "df = df[df[\"Occurrences\"] != 0]\n",
    "df.shape"
   ]
  },
  {
   "cell_type": "markdown",
   "metadata": {},
   "source": [
    "## Planning\n",
    "\n",
    "Inspecting our putative metrics for detecting a change in user navigation experience gives us three ratios. Thus we need to check that we can get the numerator and denominator from the data for each of these metrics.\n"
   ]
  },
  {
   "cell_type": "code",
   "execution_count": 91,
   "metadata": {
    "ExecuteTime": {
     "end_time": "2019-02-08T14:34:16.606940Z",
     "start_time": "2019-02-08T14:33:03.851457Z"
    }
   },
   "outputs": [],
   "source": [
    "df['Event_cat_act_agg']= df['Event_cat_act_agg'].apply(ast.literal_eval)"
   ]
  },
  {
   "cell_type": "code",
   "execution_count": null,
   "metadata": {},
   "outputs": [],
   "source": [
    "events = []\n",
    "for items in df['Event_cat_act_agg']:\n",
    "    for event in items:\n",
    "        events.append(event[0])"
   ]
  },
  {
   "cell_type": "code",
   "execution_count": null,
   "metadata": {},
   "outputs": [],
   "source": [
    "events[:4]"
   ]
  },
  {
   "cell_type": "code",
   "execution_count": null,
   "metadata": {},
   "outputs": [],
   "source": [
    "# look at counter of events\n",
    "# Counter(events)"
   ]
  },
  {
   "cell_type": "markdown",
   "metadata": {},
   "source": [
    "Related link events eventCategory:\n",
    "- relatedLinkClicked (eventAction e.g. 1.3 Related content)\n",
    "\n",
    "There is more than one level to this Event, we are specifically interested in \"Related content\" (as this is the sidebar of the page, the related links we are interested in)."
   ]
  },
  {
   "cell_type": "markdown",
   "metadata": {},
   "source": [
    "### Navigation events\n",
    "Potential nav events eventCategory:\n",
    "- breadcrumbClicked\n",
    "- homeLinkClicked -  First full day of data 08 Nov 2018\n",
    "- searchResults - deprecated according to [GOV.UK wiki](https://gov-uk.atlassian.net/wiki/spaces/GOVUK/pages/23855552/Analytics+on+GOV.UK#AnalyticsonGOV.UK-Events), but still firing on the site - **doesn't fire if there are no search results, so let's use page = search instead**  i.e. '/search?q=' in page\n",
    "- relatedLinkClicked (eventAction e.g. 1.1 Explore the topic) - Explore the topic links at the bottom of a content page\n",
    "\n",
    "**What events correspond to the links in grey right at the bottom of the page?**\n",
    "\n",
    "more events to look into:\n",
    "- ~~firstLevelBrowseLinkClicked~~  relates to browse page\n",
    "- ~~secondLevelBrowseLinkClicked~~ relates to browse page\n",
    "\n",
    "- ~~navDocumentCollectionLinkClicked~~ click on a link that leads you to a collection of documents, e.g from https://www.gov.uk/government/collections/data-protection-act-2018 \n",
    "- ~~navFinderLinkClicked~~ click a link from a finder's results, eg. from https://www.gov.uk/raib-reports\n",
    "- ~~navAccordionLinkClicked~~ expand a section on a page e.g. https://www.gov.uk/world/germany#/world/emergency-help-for-british-nationals-germany\n",
    "- ~~navLeafLinkClicked~~ click on a section from a taxon page like https://www.gov.uk/world/brexit-ireland\n",
    "- ~~navServicesInformationLinkClicked~~ click a link from a services_and_information page like https://www.gov.uk/government/organisations/hm-revenue-customs/services-information\n",
    "- ~~navSubtopicContentItemLinkClicked~~\t- click on a content item from a topic page, e.g. 'Self-employed National Insurance rates' from https://www.gov.uk/topic/personal-tax/national-insurance\n",
    "- ~~navSubtopicLinkClicked~~ a link to a subtopic from a topic page is clicked, e.g from https://www.gov.uk/topic/working-sea\n",
    "- navTopicLinkClicked not in this sample\n",
    "- ~~searchBoxFilter~~ use the search box on a page like https://www.gov.uk/world\n",
    "- ~~navGridContentClicked~~ exploring a subtopic from a topic page, e.g. the grid at the bottom of https://www.gov.uk/environment/climate-change-energy\n",
    "\n",
    "\n",
    "**step by step - do not include?**\n",
    "- ~~stepNavHeaderClicked~~ - if a content page is part of a step by step, this is clicking the link to the step by step at the top of the page - does this indicate they are lost or they are where they want to be?\n",
    "- ~~stepNavLinkClicked~~ - a link to click through to another part of the step by step is clicked\n",
    "- ~~stepNavPartOfClicked~~ - sidebar part of step by step link clicked"
   ]
  },
  {
   "cell_type": "code",
   "execution_count": null,
   "metadata": {},
   "outputs": [],
   "source": [
    "# look at search pages\n",
    "def contains_search(x):\n",
    "    return '/search?q=' in x "
   ]
  },
  {
   "cell_type": "code",
   "execution_count": null,
   "metadata": {},
   "outputs": [],
   "source": [
    "# df[df['Sequence'].map(contains_search)]"
   ]
  },
  {
   "cell_type": "code",
   "execution_count": null,
   "metadata": {},
   "outputs": [],
   "source": [
    "# use this fn to look at rows in the DF that contain a specific event category, or \n",
    "# anything else you want to find in 'Sequence', then you can look at the pages to \n",
    "# work out how the event can occur\n",
    "def look_at_event(event_cat):\n",
    "    return df[df['Sequence'].map(lambda x: event_cat in x)].head(5)"
   ]
  },
  {
   "cell_type": "code",
   "execution_count": null,
   "metadata": {},
   "outputs": [],
   "source": [
    "# df[df['Sequence'].map(lambda x: '>>/<<' in x)]"
   ]
  },
  {
   "cell_type": "markdown",
   "metadata": {},
   "source": [
    "### Page types\n",
    "\n",
    "We want to know what page types different pages are because we care about navigation elements clicked **from a content page** and the total number of journeys that contain **only content pages and related links**.\n",
    "\n",
    "Initially we wanted to use [User journey supertype](https://docs.publishing.service.gov.uk/document-types/user_journey_document_supertype.html) from [custom dimensions](https://gov-uk.atlassian.net/wiki/spaces/GOVUK/pages/23855552/Analytics+on+GOV.UK#AnalyticsonGOV.UK-customDimensionsCustomdimensions), where each page is either classified as 'finding' or 'thing'. Unfortunately this dimension is poorly populated in BigQuery due to someone disabling it, and occasionally the same page path and page title can be reported as both a 'finding' and a 'thing' at different times (e.g. the GOV.UK homepage).\n",
    "\n",
    "The next option is using 'Format' (document type) from [custom dimensions](https://gov-uk.atlassian.net/wiki/spaces/GOVUK/pages/23855552/Analytics+on+GOV.UK#AnalyticsonGOV.UK-customDimensionsCustomdimensions), which is a lot better populated but a lot more granular, you can find a sample of a day's data with pageviews from GA [here](https://docs.google.com/spreadsheets/d/1-jen8DbRgvmvF9aYapmwsFAe0ncHeq5y-ks75iyCvVU/edit#gid=177174931).\n",
    "\n",
    "*NB - a data dump from the content API is probably the most reliable source for a mapping of page paths to document types and then to finding/thing, however there's a bit of outlay in understanding how that data can be accessed and how it is structured so a BigQuery query is most appropriate for a first stab at this.*"
   ]
  },
  {
   "cell_type": "markdown",
   "metadata": {},
   "source": [
    "**TODO** one query to get pagePath, format (or map this to finding/thing), content ID, where content_id != '00000000-0000-0000-0000-000000000000'"
   ]
  },
  {
   "cell_type": "code",
   "execution_count": null,
   "metadata": {},
   "outputs": [],
   "source": [
    "ProjectID = 'govuk-bigquery-analytics'\n",
    "KEY_DIR = os.getenv(\"BQ_KEY_DIR\")\n",
    "key_file_path = os.path.join(KEY_DIR, os.listdir(KEY_DIR)[0])"
   ]
  },
  {
   "cell_type": "code",
   "execution_count": null,
   "metadata": {
    "code_folding": [
     0
    ]
   },
   "outputs": [],
   "source": [
    "# OLD_QUERY = \"\"\"\n",
    "#     SELECT DISTINCT\n",
    "#     content_id,\n",
    "#     pagePath,\n",
    "#     IF(document_type IN ('document_collection',\n",
    "#       'finder',\n",
    "#       'homepage',\n",
    "#       'license_finder',\n",
    "#       'mainstream_browse_page',\n",
    "#       'organisation',\n",
    "#       'search',\n",
    "#       'service_manual_homepage',\n",
    "#       'service_manual_topic',\n",
    "#       'services_and_information',\n",
    "#       'taxon',\n",
    "#       'topic',\n",
    "#       'topical_event'),'finding','thing') as finding_or_thing\n",
    "#     FROM\n",
    "#       (SELECT \n",
    "#           (\n",
    "#         SELECT\n",
    "#           value\n",
    "#         FROM\n",
    "#           hits.customDimensions\n",
    "#         WHERE\n",
    "#           index=4) AS content_id,\n",
    "#           hits.page.pagePath, \n",
    "#         (\n",
    "#         SELECT\n",
    "#           value\n",
    "#         FROM\n",
    "#           hits.customDimensions\n",
    "#         WHERE\n",
    "#           index=2) AS document_type\n",
    "#       FROM\n",
    "#         `govuk-bigquery-analytics.87773428.ga_sessions_*` AS sessions\n",
    "#       CROSS JOIN\n",
    "#         UNNEST(sessions.hits) AS hits\n",
    "#          WHERE _TABLE_SUFFIX BETWEEN '20190121'\n",
    "#      AND '20190127'\n",
    "#       )\n",
    "#     WHERE\n",
    "#       content_id != '00000000-0000-0000-0000-000000000000'\n",
    "#       AND content_id != '[object Object]'\n",
    "#       AND content_id IS NOT NULL\n",
    "# \"\"\""
   ]
  },
  {
   "cell_type": "code",
   "execution_count": null,
   "metadata": {},
   "outputs": [],
   "source": [
    "# QUERY = \"\"\"\n",
    "#     SELECT \n",
    "#     pagePath,\n",
    "#     MAX(IF(document_type IN ('document_collection',\n",
    "#       'finder',\n",
    "#       'homepage',\n",
    "#       'license_finder',\n",
    "#       'mainstream_browse_page',\n",
    "#       'organisation',\n",
    "#       'search',\n",
    "#       'service_manual_homepage',\n",
    "#       'service_manual_topic',\n",
    "#       'services_and_information',\n",
    "#       'taxon',\n",
    "#       'topic',\n",
    "#       'topical_event'),1,0)) AS is_finding\n",
    "#     FROM\n",
    "#       (SELECT \n",
    "#           (\n",
    "#         SELECT\n",
    "#           value\n",
    "#         FROM\n",
    "#           hits.customDimensions\n",
    "#         WHERE\n",
    "#           index=4) AS content_id,\n",
    "#           hits.page.pagePath, \n",
    "#         (\n",
    "#         SELECT\n",
    "#           value\n",
    "#         FROM\n",
    "#           hits.customDimensions\n",
    "#         WHERE\n",
    "#           index=2) AS document_type\n",
    "#       FROM\n",
    "#         `govuk-bigquery-analytics.87773428.ga_sessions_*` AS sessions\n",
    "#       CROSS JOIN\n",
    "#         UNNEST(sessions.hits) AS hits\n",
    "#          WHERE _TABLE_SUFFIX BETWEEN '20190121'\n",
    "#      AND '20190127'\n",
    "#       )\n",
    "#     WHERE\n",
    "#       content_id != '00000000-0000-0000-0000-000000000000'\n",
    "#       AND content_id != '[object Object]'\n",
    "#       AND content_id IS NOT NULL\n",
    "#     GROUP BY 1\n",
    "# \"\"\""
   ]
  },
  {
   "cell_type": "code",
   "execution_count": null,
   "metadata": {},
   "outputs": [],
   "source": [
    "# df_finding_thing = pd.io.gbq.read_gbq(QUERY,\n",
    "#                            project_id=ProjectID,\n",
    "#                            reauth=False,\n",
    "#                            # verbose=True,\n",
    "#                            private_key=key_file_path,\n",
    "#                            dialect='standard')"
   ]
  },
  {
   "cell_type": "code",
   "execution_count": null,
   "metadata": {},
   "outputs": [],
   "source": [
    "# df_finding_thing.to_csv('../../data/raw_bq_extract/document_types.csv.gz',\n",
    "#              sep=\"\\t\", index=False, compression='gzip')"
   ]
  },
  {
   "cell_type": "code",
   "execution_count": 9,
   "metadata": {
    "ExecuteTime": {
     "end_time": "2019-02-08T10:54:19.472847Z",
     "start_time": "2019-02-08T10:54:15.955593Z"
    }
   },
   "outputs": [],
   "source": [
    "df_finding_thing = pd.read_csv(\n",
    "    '../../data/raw_bq_extract/document_types.csv.gz',\n",
    "             sep=\"\\t\", compression='gzip')"
   ]
  },
  {
   "cell_type": "markdown",
   "metadata": {},
   "source": [
    "## journey_click_rate\n",
    "There is no difference in the proportion of journeys using at least one related link (journey_click_rate) between page variant A and page variant B.\n",
    "\n"
   ]
  },
  {
   "cell_type": "markdown",
   "metadata": {},
   "source": [
    "\\begin{equation*}\n",
    "\\frac{\\text{total number of journeys including at least one click on a related link}}{\\text{total number of journeys}}\n",
    "\\end{equation*}"
   ]
  },
  {
   "cell_type": "markdown",
   "metadata": {},
   "source": [
    "### total number of journeys including at least one click on a related link\n",
    "The numerator.\n",
    "\n",
    "We need to check within the Sequence column, whether the corresponding user journey has an Event where a related link was clicked. There is more than one level to this Event, we are specifically interested in \"Related content\" (as this is the sidebar of the page, the related links we are interested in)."
   ]
  },
  {
   "cell_type": "code",
   "execution_count": null,
   "metadata": {
    "code_folding": []
   },
   "outputs": [],
   "source": [
    "#Compute whether a journey includes at least one related link click\n",
    "def is_related(x):\n",
    "    return all(cond in x for cond in [\"relatedLinkClicked\",\"Related content\"])"
   ]
  },
  {
   "cell_type": "markdown",
   "metadata": {},
   "source": [
    "Please note, `is_related` does not make sure that `relatedLinkClicked` and `Related content` exist in the same event in `Sequence`, example below"
   ]
  },
  {
   "cell_type": "code",
   "execution_count": null,
   "metadata": {},
   "outputs": [],
   "source": [
    "is_related(\n",
    "    '/garden-bonfires-rules<<PAGE<:<relatedLinkClicked<:<NULL>>/garden-bonfires-rules<<EVENT<:<NULL<:<1.4 Related content'\n",
    "    )"
   ]
  },
  {
   "cell_type": "code",
   "execution_count": null,
   "metadata": {},
   "outputs": [],
   "source": [
    "# map across the Sequence variable, which includes pages and Events\n",
    "# we want to pass all the list elements to a function one-by-one and then collect the output.\n",
    "df[\"Has_Related\"] = df[\"Sequence\"].map(is_related)"
   ]
  },
  {
   "cell_type": "code",
   "execution_count": null,
   "metadata": {},
   "outputs": [],
   "source": [
    "# this gives a logical column\n",
    "df[\"Has_Related\"].head()"
   ]
  },
  {
   "cell_type": "code",
   "execution_count": null,
   "metadata": {},
   "outputs": [],
   "source": [
    "# We can filter for True and sum\n",
    "df[df[\"Has_Related\"]].Occurrences.sum()"
   ]
  },
  {
   "cell_type": "code",
   "execution_count": null,
   "metadata": {},
   "outputs": [],
   "source": [
    "# sense check by inspecting filtered df\n",
    "df[df[\"Has_Related\"]].head(3)"
   ]
  },
  {
   "cell_type": "markdown",
   "metadata": {},
   "source": [
    "### total number of journeys\n",
    "The denominator."
   ]
  },
  {
   "cell_type": "code",
   "execution_count": null,
   "metadata": {},
   "outputs": [],
   "source": [
    "df.Occurrences.sum()"
   ]
  },
  {
   "cell_type": "markdown",
   "metadata": {},
   "source": [
    "### final metric"
   ]
  },
  {
   "cell_type": "markdown",
   "metadata": {},
   "source": [
    "Given this sample, we see:"
   ]
  },
  {
   "cell_type": "code",
   "execution_count": null,
   "metadata": {},
   "outputs": [],
   "source": [
    "df[df[\"Has_Related\"]].Occurrences.sum() / df.Occurrences.sum()"
   ]
  },
  {
   "cell_type": "markdown",
   "metadata": {},
   "source": [
    "The above metric considers at least one related link clicked, but on some journeys more than one related link might get clicked. We can use the following columns to help us."
   ]
  },
  {
   "cell_type": "code",
   "execution_count": null,
   "metadata": {},
   "outputs": [],
   "source": [
    "df['Event_cats_agg'].head(3)"
   ]
  },
  {
   "cell_type": "code",
   "execution_count": null,
   "metadata": {},
   "outputs": [],
   "source": [
    "df['Event_cat_act_agg'].head(3)"
   ]
  },
  {
   "cell_type": "markdown",
   "metadata": {},
   "source": [
    "## ratio of clicks on navigation elements vs. clicks on related links\n",
    "\n",
    "There is no statistically significant difference in the ratio of clicks on navigation elements vs. clicks on related links between page variant A and page variant B"
   ]
  },
  {
   "cell_type": "markdown",
   "metadata": {},
   "source": [
    "\\begin{equation*}\n",
    "\\frac{\\text{total number of navigation element click events from content pages}}{\\text{total number of related link click events}}\n",
    "\\end{equation*}"
   ]
  },
  {
   "cell_type": "markdown",
   "metadata": {},
   "source": [
    "### total number of related link click events"
   ]
  },
  {
   "cell_type": "markdown",
   "metadata": {},
   "source": [
    "we need to check `Related content` is in the event, because the `relatedLinkClicked` is also used for \"explore the topic\" links at the bottom of the page, with the event action containing `Explore the topic`, e.g. `(('relatedLinkClicked', '2.1 Explore the topic'), 1)`"
   ]
  },
  {
   "cell_type": "code",
   "execution_count": null,
   "metadata": {},
   "outputs": [],
   "source": [
    "# example of Event_cat_act_agg\n",
    "df['Event_cat_act_agg'][2608]"
   ]
  },
  {
   "cell_type": "code",
   "execution_count": null,
   "metadata": {},
   "outputs": [],
   "source": [
    "# If the event category is 'relatedLinkClicked' and the event action contains 'Related content', \n",
    "# return the count of that event\n",
    "def get_number_of_events_rl(event):\n",
    "    if event[0][0] == 'relatedLinkClicked' and 'Related content' in event[0][1]:\n",
    "        return event[1]\n",
    "    return 0"
   ]
  },
  {
   "cell_type": "code",
   "execution_count": null,
   "metadata": {},
   "outputs": [],
   "source": [
    "def sum_related_click_events(event_list):\n",
    "    return sum([get_number_of_events_rl(event) for event in event_list])"
   ]
  },
  {
   "cell_type": "code",
   "execution_count": null,
   "metadata": {},
   "outputs": [],
   "source": [
    "# get the number of related links clicks per Sequence\n",
    "df['Related Links Clicks per seq'] = df['Event_cat_act_agg'].map(sum_related_click_events)\n",
    "\n",
    "# get the total number of related links clicks for that row (clicks per sequence multiplied by occurrences)\n",
    "df['Related Links Clicks row total'] = df['Related Links Clicks per seq'] * df['Occurrences']"
   ]
  },
  {
   "cell_type": "code",
   "execution_count": null,
   "metadata": {},
   "outputs": [],
   "source": [
    "df[df[\"Has_Related\"]].head(3)"
   ]
  },
  {
   "cell_type": "code",
   "execution_count": null,
   "metadata": {},
   "outputs": [],
   "source": [
    "df['Related Links Clicks row total'].sum()"
   ]
  },
  {
   "cell_type": "markdown",
   "metadata": {},
   "source": [
    "### total number of navigation element click events from content pages\n",
    "\n",
    "Page_Event_List:\tfrom Sequence -> list of tuples of (page url, event). Where it's a page hit, event==PAGE_NULL\n",
    "\n",
    "\n",
    "eventCategory == 'breadcrumbClicked'\n",
    "\n",
    "eventCategory == 'homeLinkClicked'\n",
    "\n",
    "eventCategory == 'relatedLinkClicked',  'Explore the topic' in Event Action\n",
    "\n",
    "'/search?q=' in page"
   ]
  },
  {
   "cell_type": "code",
   "execution_count": 10,
   "metadata": {
    "ExecuteTime": {
     "end_time": "2019-02-08T10:54:19.593029Z",
     "start_time": "2019-02-08T10:54:19.475025Z"
    }
   },
   "outputs": [],
   "source": [
    "thing_page_paths = df_finding_thing[\n",
    "    df_finding_thing['is_finding']==0]['pagePath'].tolist()"
   ]
  },
  {
   "cell_type": "code",
   "execution_count": 60,
   "metadata": {
    "ExecuteTime": {
     "end_time": "2019-02-08T13:21:49.699289Z",
     "start_time": "2019-02-08T13:21:49.255749Z"
    }
   },
   "outputs": [],
   "source": [
    "finding_page_paths = df_finding_thing[\n",
    "    df_finding_thing['is_finding']==1]['pagePath'].tolist()"
   ]
  },
  {
   "cell_type": "markdown",
   "metadata": {},
   "source": [
    "#### Nav events"
   ]
  },
  {
   "cell_type": "code",
   "execution_count": null,
   "metadata": {},
   "outputs": [],
   "source": [
    "df['Page_Event_List'] = df['Page_Event_List'].apply(ast.literal_eval)"
   ]
  },
  {
   "cell_type": "code",
   "execution_count": null,
   "metadata": {},
   "outputs": [],
   "source": [
    "example_Page_Event_List = df['Page_Event_List'][9315]"
   ]
  },
  {
   "cell_type": "code",
   "execution_count": null,
   "metadata": {},
   "outputs": [],
   "source": [
    "def is_nav_event(event):\n",
    "    return any(\n",
    "        ['breadcrumbClicked' in event, 'homeLinkClicked' in event,\n",
    "         all(cond in event for cond in [\n",
    "             'relatedLinkClicked','Explore the topic'])])"
   ]
  },
  {
   "cell_type": "code",
   "execution_count": null,
   "metadata": {},
   "outputs": [],
   "source": [
    "print(is_nav_event('EVENT<:<breadcrumbClicked<:<2'))\n",
    "print(is_nav_event('PAGE<:<NULL<:<NULL'))\n",
    "print(is_nav_event('EVENT<:<relatedLinkClicked<:<2.3 Explore the topic'))\n",
    "print(is_nav_event('EVENT<:<relatedLinkClicked<:<2.3 Related content'))\n",
    "print(is_nav_event('EVENT<:<homeLinkClicked<:<homeHeader'))"
   ]
  },
  {
   "cell_type": "code",
   "execution_count": null,
   "metadata": {},
   "outputs": [],
   "source": [
    "content_page_nav_events = 0\n",
    "for pair in example_Page_Event_List:\n",
    "    if is_nav_event(pair[1]):\n",
    "        if pair[0] in thing_page_paths:\n",
    "            content_page_nav_events += 1"
   ]
  },
  {
   "cell_type": "code",
   "execution_count": null,
   "metadata": {},
   "outputs": [],
   "source": [
    "print(example_Page_Event_List)\n",
    "print(content_page_nav_events)"
   ]
  },
  {
   "cell_type": "code",
   "execution_count": null,
   "metadata": {},
   "outputs": [],
   "source": [
    "def count_nav_events(page_event_list):\n",
    "    content_page_nav_events = 0\n",
    "    for pair in page_event_list:\n",
    "        if is_nav_event(pair[1]):\n",
    "            if pair[0] in thing_page_paths:\n",
    "                content_page_nav_events += 1\n",
    "    return content_page_nav_events"
   ]
  },
  {
   "cell_type": "code",
   "execution_count": null,
   "metadata": {},
   "outputs": [],
   "source": [
    "df['Content_page_nav_events'] = df['Page_Event_List'].map(count_nav_events)"
   ]
  },
  {
   "cell_type": "code",
   "execution_count": null,
   "metadata": {},
   "outputs": [],
   "source": [
    "# df[df['Content_page_nav_events'] >2]"
   ]
  },
  {
   "cell_type": "markdown",
   "metadata": {},
   "source": [
    "**There are some weird looped sequences in the data**"
   ]
  },
  {
   "cell_type": "code",
   "execution_count": null,
   "metadata": {},
   "outputs": [],
   "source": [
    "df['Page_Event_List'][139307]"
   ]
  },
  {
   "cell_type": "markdown",
   "metadata": {},
   "source": [
    "#### Search pages"
   ]
  },
  {
   "cell_type": "markdown",
   "metadata": {},
   "source": [
    "thing_page_paths is a list of page paths of document type \"thing\"\n",
    "\n",
    "'Page_List' is a column with a list of page paths (in order) that were visited in each journey\n",
    "\n",
    "all search pages paths contain '/search?q=' at the beginning"
   ]
  },
  {
   "cell_type": "code",
   "execution_count": 11,
   "metadata": {
    "ExecuteTime": {
     "end_time": "2019-02-08T10:54:43.599617Z",
     "start_time": "2019-02-08T10:54:19.595026Z"
    }
   },
   "outputs": [],
   "source": [
    "df['Page_List'] = df['Page_List'].apply(ast.literal_eval)"
   ]
  },
  {
   "cell_type": "code",
   "execution_count": 28,
   "metadata": {
    "ExecuteTime": {
     "end_time": "2019-02-08T12:25:46.149441Z",
     "start_time": "2019-02-08T12:25:46.137451Z"
    }
   },
   "outputs": [],
   "source": [
    "def count_search_from_content(page_list):\n",
    "    search_from_content = 0\n",
    "    for i, page in enumerate(page_list):\n",
    "        if i > 0:\n",
    "            if '/search?q=' in page:\n",
    "                if page_list[i-1] in thing_page_paths:\n",
    "                    search_from_content += 1\n",
    "    return search_from_content\n",
    "\n",
    "def count_search_from_content_2(page_list):\n",
    "    search_from_content = 0\n",
    "    for i, page in enumerate(page_list[1:]):\n",
    "        if '/search?q=' in page:\n",
    "            if page_list[i] in thing_page_paths:\n",
    "                search_from_content += 1\n",
    "    return search_from_content\n",
    "\n",
    "def count_search_from_content_3(page_list):\n",
    "    search_from_content = 0\n",
    "    if '/search?q=' in ''.join(page_list):\n",
    "        for i, page in enumerate(page_list[1:]):\n",
    "            if '/search?q=' in page:\n",
    "                if page_list[i] in thing_page_paths:\n",
    "                    search_from_content += 1\n",
    "    return search_from_content\n",
    "\n",
    "def count_search_from_content_4(page_list):\n",
    "    search_from_content = 0\n",
    "    if len(page_list) > 1:\n",
    "        for i, page in enumerate(page_list[1:]):\n",
    "            if '/search?q=' in page:\n",
    "                if page_list[i] in thing_page_paths:\n",
    "                    search_from_content += 1\n",
    "    return search_from_content\n",
    "\n",
    "def count_search_from_content_5(page_list):\n",
    "    search_from_content = 0\n",
    "    if '/search?q=' in ''.join(page_list):\n",
    "        for i, page in enumerate(page_list[1:]):\n",
    "            if all(['/search?q=' in page, page_list[i] in thing_page_paths]):\n",
    "                    search_from_content += 1\n",
    "    return search_from_content"
   ]
  },
  {
   "cell_type": "code",
   "execution_count": 42,
   "metadata": {
    "ExecuteTime": {
     "end_time": "2019-02-08T12:36:37.563067Z",
     "start_time": "2019-02-08T12:36:37.067069Z"
    }
   },
   "outputs": [],
   "source": [
    "df['pageviews'] = df['Page_List'].map(len)"
   ]
  },
  {
   "cell_type": "code",
   "execution_count": 43,
   "metadata": {
    "ExecuteTime": {
     "end_time": "2019-02-08T12:36:39.006373Z",
     "start_time": "2019-02-08T12:36:38.066163Z"
    }
   },
   "outputs": [],
   "source": [
    "_10000_sample_df = df.sample(n=10000, weights=df.Occurrences)"
   ]
  },
  {
   "cell_type": "code",
   "execution_count": 21,
   "metadata": {
    "ExecuteTime": {
     "end_time": "2019-02-08T10:20:02.326933Z",
     "start_time": "2019-02-08T10:19:59.370381Z"
    }
   },
   "outputs": [],
   "source": [
    "# _10000_sample_df['Search_from_content_events_2'] = _10000_sample_df['Page_List'].map(count_search_from_content_2)"
   ]
  },
  {
   "cell_type": "code",
   "execution_count": null,
   "metadata": {},
   "outputs": [],
   "source": [
    "# _10000_sample_df[_10000_sample_df['Search_from_content_events_2']>0]"
   ]
  },
  {
   "cell_type": "code",
   "execution_count": 128,
   "metadata": {
    "ExecuteTime": {
     "end_time": "2019-02-08T14:56:02.228683Z",
     "start_time": "2019-02-08T14:56:02.226081Z"
    }
   },
   "outputs": [],
   "source": [
    "%timeit _10000_sample_df['Page_List'].map(count_search_from_content)\n",
    "# 2.53 s ± 144 ms per loop (mean ± std. dev. of 7 runs, 1 loop each)"
   ]
  },
  {
   "cell_type": "code",
   "execution_count": 53,
   "metadata": {
    "ExecuteTime": {
     "end_time": "2019-02-08T13:19:15.624167Z",
     "start_time": "2019-02-08T13:18:54.743971Z"
    }
   },
   "outputs": [
    {
     "name": "stdout",
     "output_type": "stream",
     "text": [
      "2.6 s ± 65.1 ms per loop (mean ± std. dev. of 7 runs, 1 loop each)\n"
     ]
    }
   ],
   "source": [
    "%timeit _10000_sample_df['Page_List'].map(count_search_from_content_2)\n",
    "# 2.6 s ± 65.1 ms per loop (mean ± std. dev. of 7 runs, 1 loop each)"
   ]
  },
  {
   "cell_type": "code",
   "execution_count": 54,
   "metadata": {
    "ExecuteTime": {
     "end_time": "2019-02-08T13:19:36.001704Z",
     "start_time": "2019-02-08T13:19:15.626191Z"
    }
   },
   "outputs": [
    {
     "name": "stdout",
     "output_type": "stream",
     "text": [
      "2.55 s ± 149 ms per loop (mean ± std. dev. of 7 runs, 1 loop each)\n"
     ]
    }
   ],
   "source": [
    "%timeit _10000_sample_df['Page_List'].map(count_search_from_content_3)\n",
    "# 2.55 s ± 149 ms per loop (mean ± std. dev. of 7 runs, 1 loop each)"
   ]
  },
  {
   "cell_type": "code",
   "execution_count": 55,
   "metadata": {
    "ExecuteTime": {
     "end_time": "2019-02-08T13:19:56.930622Z",
     "start_time": "2019-02-08T13:19:36.004458Z"
    }
   },
   "outputs": [
    {
     "name": "stdout",
     "output_type": "stream",
     "text": [
      "2.62 s ± 50.3 ms per loop (mean ± std. dev. of 7 runs, 1 loop each)\n"
     ]
    }
   ],
   "source": [
    "%timeit _10000_sample_df['Page_List'].map(count_search_from_content_4)\n",
    "# 2.62 s ± 50.3 ms per loop (mean ± std. dev. of 7 runs, 1 loop each)"
   ]
  },
  {
   "cell_type": "code",
   "execution_count": 56,
   "metadata": {
    "ExecuteTime": {
     "end_time": "2019-02-08T13:20:45.846371Z",
     "start_time": "2019-02-08T13:19:56.933285Z"
    }
   },
   "outputs": [
    {
     "name": "stdout",
     "output_type": "stream",
     "text": [
      "6.11 s ± 338 ms per loop (mean ± std. dev. of 7 runs, 1 loop each)\n"
     ]
    }
   ],
   "source": [
    "%timeit _10000_sample_df['Page_List'].map(count_search_from_content_5)\n",
    "# 6.11 s ± 338 ms per loop (mean ± std. dev. of 7 runs, 1 loop each)"
   ]
  },
  {
   "cell_type": "code",
   "execution_count": 57,
   "metadata": {
    "ExecuteTime": {
     "end_time": "2019-02-08T13:21:07.115392Z",
     "start_time": "2019-02-08T13:20:45.848465Z"
    }
   },
   "outputs": [
    {
     "name": "stdout",
     "output_type": "stream",
     "text": [
      "2.65 s ± 92.9 ms per loop (mean ± std. dev. of 7 runs, 1 loop each)\n"
     ]
    }
   ],
   "source": [
    "%timeit _10000_sample_df[_10000_sample_df['pageviews'] > 1]['Page_List'].map(count_search_from_content)\n",
    "# 2.65 s ± 92.9 ms per loop (mean ± std. dev. of 7 runs, 1 loop each)"
   ]
  },
  {
   "cell_type": "code",
   "execution_count": 58,
   "metadata": {
    "ExecuteTime": {
     "end_time": "2019-02-08T13:21:28.119807Z",
     "start_time": "2019-02-08T13:21:07.117331Z"
    }
   },
   "outputs": [
    {
     "name": "stdout",
     "output_type": "stream",
     "text": [
      "2.61 s ± 60.1 ms per loop (mean ± std. dev. of 7 runs, 1 loop each)\n"
     ]
    }
   ],
   "source": [
    "%timeit _10000_sample_df[_10000_sample_df['pageviews'] > 1]['Page_List'].map(count_search_from_content_2)\n",
    "# 2.61 s ± 60.1 ms per loop (mean ± std. dev. of 7 runs, 1 loop each)"
   ]
  },
  {
   "cell_type": "code",
   "execution_count": 59,
   "metadata": {
    "ExecuteTime": {
     "end_time": "2019-02-08T13:21:49.252955Z",
     "start_time": "2019-02-08T13:21:28.121936Z"
    }
   },
   "outputs": [
    {
     "name": "stdout",
     "output_type": "stream",
     "text": [
      "2.65 s ± 53.3 ms per loop (mean ± std. dev. of 7 runs, 1 loop each)\n"
     ]
    }
   ],
   "source": [
    "%%timeit \n",
    "_10000_sample_df[_10000_sample_df['pageviews'] > 1]['Page_List'].map(count_search_from_content_3)\n",
    "# 2.65 s ± 53.3 ms per loop (mean ± std. dev. of 7 runs, 1 loop each)"
   ]
  },
  {
   "cell_type": "markdown",
   "metadata": {},
   "source": [
    "##### Trying out regexes\n",
    "\n",
    "The above methods took a while, so I tried to make a super-regex of all combinations of content page followed by search page, but this ended up taking even longer"
   ]
  },
  {
   "cell_type": "code",
   "execution_count": 24,
   "metadata": {
    "ExecuteTime": {
     "end_time": "2019-02-08T12:11:21.276614Z",
     "start_time": "2019-02-08T12:11:21.273633Z"
    }
   },
   "outputs": [],
   "source": [
    "eg = '/content1>>/search?q=abc>>/dsfjk>>/content2>>/bleh?q=dfe'"
   ]
  },
  {
   "cell_type": "code",
   "execution_count": 25,
   "metadata": {
    "ExecuteTime": {
     "end_time": "2019-02-08T12:11:21.581996Z",
     "start_time": "2019-02-08T12:11:21.577378Z"
    }
   },
   "outputs": [
    {
     "data": {
      "text/plain": [
       "['/content1>>/search?q=']"
      ]
     },
     "execution_count": 25,
     "metadata": {},
     "output_type": "execute_result"
    }
   ],
   "source": [
    "re.findall('\\/content1>>\\/search\\?q=|\\/content2>>\\/search\\?q=', eg)"
   ]
  },
  {
   "cell_type": "code",
   "execution_count": 26,
   "metadata": {
    "ExecuteTime": {
     "end_time": "2019-02-08T12:11:40.056965Z",
     "start_time": "2019-02-08T12:11:29.313789Z"
    }
   },
   "outputs": [
    {
     "name": "stdout",
     "output_type": "stream",
     "text": [
      "1.33 µs ± 23.3 ns per loop (mean ± std. dev. of 7 runs, 1000000 loops each)\n"
     ]
    }
   ],
   "source": [
    "%timeit len(re.findall('\\/content1>>\\/search\\?q=|\\/content2>>\\/search\\?q=', eg))"
   ]
  },
  {
   "cell_type": "code",
   "execution_count": 29,
   "metadata": {
    "ExecuteTime": {
     "end_time": "2019-02-08T12:26:00.535102Z",
     "start_time": "2019-02-08T12:25:50.593982Z"
    }
   },
   "outputs": [
    {
     "name": "stdout",
     "output_type": "stream",
     "text": [
      "1.21 µs ± 12.7 ns per loop (mean ± std. dev. of 7 runs, 1000000 loops each)\n"
     ]
    }
   ],
   "source": [
    "%timeit count_search_from_content_3('\\/content1>>\\/search\\?q=|\\/content2>>\\/search\\?q=')"
   ]
  },
  {
   "cell_type": "code",
   "execution_count": 30,
   "metadata": {
    "ExecuteTime": {
     "end_time": "2019-02-08T12:26:35.116296Z",
     "start_time": "2019-02-08T12:26:24.561744Z"
    }
   },
   "outputs": [
    {
     "name": "stdout",
     "output_type": "stream",
     "text": [
      "1.31 µs ± 44.5 ns per loop (mean ± std. dev. of 7 runs, 1000000 loops each)\n"
     ]
    }
   ],
   "source": [
    "%timeit len(re.findall('(\\/content1>>|\\/content2>>)\\/search\\?q=', eg))"
   ]
  },
  {
   "cell_type": "code",
   "execution_count": 32,
   "metadata": {
    "ExecuteTime": {
     "end_time": "2019-02-08T12:31:48.490369Z",
     "start_time": "2019-02-08T12:31:37.843445Z"
    }
   },
   "outputs": [
    {
     "name": "stdout",
     "output_type": "stream",
     "text": [
      "1.31 µs ± 23.4 ns per loop (mean ± std. dev. of 7 runs, 1000000 loops each)\n"
     ]
    }
   ],
   "source": [
    "%timeit len(re.findall('(\\/content1|\\/content2)>>\\/search\\?q=', eg))"
   ]
  },
  {
   "cell_type": "code",
   "execution_count": 12,
   "metadata": {
    "ExecuteTime": {
     "end_time": "2019-02-08T10:54:54.381839Z",
     "start_time": "2019-02-08T10:54:43.601882Z"
    }
   },
   "outputs": [],
   "source": [
    "thing_page_paths_escaped = df_finding_thing[\n",
    "    df_finding_thing['is_finding']==0]['pagePath'].map(re.escape).tolist()"
   ]
  },
  {
   "cell_type": "code",
   "execution_count": 57,
   "metadata": {
    "ExecuteTime": {
     "end_time": "2019-02-08T10:38:13.481956Z",
     "start_time": "2019-02-08T10:38:13.477282Z"
    }
   },
   "outputs": [
    {
     "data": {
      "text/plain": [
       "['\\\\/jobsearch',\n",
       " '\\\\/pay\\\\-leave\\\\-for\\\\-parents\\\\/y',\n",
       " '\\\\/student\\\\-finance\\\\-calculator\\\\/y\\\\/2018\\\\-2019\\\\/uk\\\\-full\\\\-time',\n",
       " '\\\\/government\\\\/publications\\\\/application\\\\-for\\\\-confirmation\\\\-of\\\\-british\\\\-nationality\\\\-status\\\\-form\\\\-ns',\n",
       " '\\\\/pip\\\\/eligibility']"
      ]
     },
     "execution_count": 57,
     "metadata": {},
     "output_type": "execute_result"
    }
   ],
   "source": [
    "thing_page_paths_escaped[:5]"
   ]
  },
  {
   "cell_type": "code",
   "execution_count": 33,
   "metadata": {
    "ExecuteTime": {
     "end_time": "2019-02-08T12:32:15.362466Z",
     "start_time": "2019-02-08T12:32:15.357073Z"
    }
   },
   "outputs": [
    {
     "data": {
      "text/plain": [
       "[]"
      ]
     },
     "execution_count": 33,
     "metadata": {},
     "output_type": "execute_result"
    }
   ],
   "source": [
    "re.findall(\n",
    "    '(\\\\' +'>>|\\\\'.join(['\\\\/content1', '\\\\/content2'])+'>>)\\\\/search\\\\?q='\n",
    "    , eg)\n"
   ]
  },
  {
   "cell_type": "code",
   "execution_count": 14,
   "metadata": {
    "ExecuteTime": {
     "end_time": "2019-02-08T10:55:57.807934Z",
     "start_time": "2019-02-08T10:55:57.407626Z"
    }
   },
   "outputs": [],
   "source": [
    "regex_thing_then_search = '(\\\\' +'>>|'.join(thing_page_paths_escaped)+'>>)\\\\/search\\\\?q='"
   ]
  },
  {
   "cell_type": "code",
   "execution_count": 15,
   "metadata": {
    "ExecuteTime": {
     "end_time": "2019-02-08T11:00:44.268023Z",
     "start_time": "2019-02-08T10:55:59.207795Z"
    }
   },
   "outputs": [],
   "source": [
    "compiled_regex = re.compile(regex_thing_then_search)"
   ]
  },
  {
   "cell_type": "code",
   "execution_count": 20,
   "metadata": {
    "ExecuteTime": {
     "end_time": "2019-02-08T11:01:54.077481Z",
     "start_time": "2019-02-08T11:01:54.074453Z"
    }
   },
   "outputs": [],
   "source": [
    "def count_search_from_content_regex(page_sequence):\n",
    "    return len(compiled_regex.findall(page_sequence))"
   ]
  },
  {
   "cell_type": "code",
   "execution_count": 22,
   "metadata": {
    "ExecuteTime": {
     "end_time": "2019-02-08T11:58:38.771890Z",
     "start_time": "2019-02-08T11:58:38.769653Z"
    }
   },
   "outputs": [],
   "source": [
    "# this took 48 mins\n",
    "# _10000_sample_df['PageSequence'].map(count_search_from_content_regex)"
   ]
  },
  {
   "cell_type": "markdown",
   "metadata": {},
   "source": [
    "## count of related links clicked by journey\n",
    "\n",
    "Using work from \"total number of related link click events\" section above, below is some information about the distribution of total related link clicks in a journey. This is to help decide how we might model this metric."
   ]
  },
  {
   "cell_type": "code",
   "execution_count": null,
   "metadata": {},
   "outputs": [],
   "source": [
    "group_by_rl_clicks_df = df.groupby(by='Related Links Clicks per seq').sum().reset_index()"
   ]
  },
  {
   "cell_type": "code",
   "execution_count": null,
   "metadata": {},
   "outputs": [],
   "source": [
    "group_by_rl_clicks_df"
   ]
  },
  {
   "cell_type": "code",
   "execution_count": null,
   "metadata": {},
   "outputs": [],
   "source": [
    "group_by_rl_clicks_df_bar_zero = group_by_rl_clicks_df[\n",
    "    group_by_rl_clicks_df['Related Links Clicks per seq'] != 0]"
   ]
  },
  {
   "cell_type": "code",
   "execution_count": null,
   "metadata": {},
   "outputs": [],
   "source": [
    "plt.bar(\n",
    "    group_by_rl_clicks_df['Related Links Clicks per seq'],\n",
    "    group_by_rl_clicks_df['Occurrences'],\n",
    "    align='edge')\n",
    "plt.title('Related link clicks per journey')\n",
    "plt.ylabel('number of journeys')\n",
    "plt.xlabel('number of related link clicks in a journey')"
   ]
  },
  {
   "cell_type": "code",
   "execution_count": null,
   "metadata": {},
   "outputs": [],
   "source": [
    "plt.bar(\n",
    "    group_by_rl_clicks_df['Related Links Clicks per seq'],\n",
    "    group_by_rl_clicks_df['Occurrences'],\n",
    "    log=True\n",
    "    ,align='edge'\n",
    ")\n",
    "plt.title('Related link clicks per journey - logscale')\n",
    "plt.ylabel('log(number of journeys)')\n",
    "plt.xlabel('number of related link clicks in a journey')"
   ]
  },
  {
   "cell_type": "code",
   "execution_count": null,
   "metadata": {},
   "outputs": [],
   "source": [
    "plt.bar(\n",
    "    group_by_rl_clicks_df_bar_zero['Related Links Clicks per seq'],\n",
    "    group_by_rl_clicks_df_bar_zero['Occurrences'],\n",
    "    align='edge')\n",
    "plt.title('Related link clicks per journey - excluding zero clicks')\n",
    "plt.ylabel('number of journeys')\n",
    "plt.xlabel('number of related link clicks in a journey')"
   ]
  },
  {
   "cell_type": "code",
   "execution_count": null,
   "metadata": {},
   "outputs": [],
   "source": [
    "plt.bar(\n",
    "    group_by_rl_clicks_df_bar_zero['Related Links Clicks per seq'],\n",
    "    group_by_rl_clicks_df_bar_zero['Occurrences'],\n",
    "    log=True\n",
    "    ,align='edge'\n",
    ")\n",
    "plt.title('Related link clicks per journey - excluding zero clicks, logscale')\n",
    "plt.ylabel('log(number of journeys)')\n",
    "plt.xlabel('number of related link clicks in a journey')"
   ]
  },
  {
   "cell_type": "markdown",
   "metadata": {},
   "source": [
    "## proportion of journeys with a page sequence including content and related links only\n",
    "\n",
    "There is no statistically significant difference in the proportion of journeys with a page sequence including content and related links only (including loops) between page variant A and page variant B"
   ]
  },
  {
   "cell_type": "markdown",
   "metadata": {},
   "source": [
    "\\begin{equation*}\n",
    "\\frac{\\text{total number of journeys that only contain content pages and related links (i.e. no nav pages)}}{\\text{total number of journeys}}\n",
    "\\end{equation*}"
   ]
  },
  {
   "cell_type": "markdown",
   "metadata": {},
   "source": [
    "### total number of journeys that only contain content pages and related links (i.e. no nav pages)\n",
    "This will be easier to calculate as total number of journeys that do not contain clicks on navigation elements (home, breadcrumbs, search, explore this topic)\n",
    "\n",
    "Could we look at journeys without any 'finding' pages? (finding includes search pages)\n",
    "\n",
    "**In the future perhaps we could add document type to our BigQuery queries and pipeline - we could have a document_type_list - an ordered list of document types of each page, and perhaps one that is just finding/thing, or finding(excl search)/thing/search**"
   ]
  },
  {
   "cell_type": "code",
   "execution_count": 61,
   "metadata": {
    "ExecuteTime": {
     "end_time": "2019-02-08T13:22:22.190433Z",
     "start_time": "2019-02-08T13:22:22.187293Z"
    }
   },
   "outputs": [],
   "source": [
    "def any_finding_pages(page_list):\n",
    "    return any([page_path in finding_page_paths for page_path in page_list])"
   ]
  },
  {
   "cell_type": "code",
   "execution_count": 107,
   "metadata": {
    "ExecuteTime": {
     "end_time": "2019-02-08T14:36:33.894626Z",
     "start_time": "2019-02-08T14:36:33.892314Z"
    }
   },
   "outputs": [],
   "source": [
    "#this takes a super long time, as expected.\n",
    "# df['Any_finding_Page'] = df['Page_List'].map(any_finding_pages)"
   ]
  },
  {
   "cell_type": "code",
   "execution_count": 120,
   "metadata": {
    "ExecuteTime": {
     "end_time": "2019-02-08T14:45:07.072884Z",
     "start_time": "2019-02-08T14:45:06.913379Z"
    }
   },
   "outputs": [],
   "source": [
    "_1000_sample_df = df.sample(n=1000, weights=df.Occurrences)"
   ]
  },
  {
   "cell_type": "code",
   "execution_count": 126,
   "metadata": {
    "ExecuteTime": {
     "end_time": "2019-02-08T14:53:30.386095Z",
     "start_time": "2019-02-08T14:49:21.921608Z"
    }
   },
   "outputs": [
    {
     "name": "stdout",
     "output_type": "stream",
     "text": [
      "31.2 s ± 1.43 s per loop (mean ± std. dev. of 7 runs, 1 loop each)\n"
     ]
    }
   ],
   "source": [
    "%timeit _1000_sample_df['Page_List'].map(any_finding_pages)\n",
    "# 31.2 s ± 1.43 s per loop (mean ± std. dev. of 7 runs, 1 loop each)"
   ]
  },
  {
   "cell_type": "code",
   "execution_count": 110,
   "metadata": {
    "ExecuteTime": {
     "end_time": "2019-02-08T14:41:24.280266Z",
     "start_time": "2019-02-08T14:41:24.277230Z"
    }
   },
   "outputs": [],
   "source": [
    "def any_finding_pages_2(page_list):\n",
    "    for page in page_list:\n",
    "        if page in finding_page_paths:\n",
    "            return True\n",
    "    return False"
   ]
  },
  {
   "cell_type": "code",
   "execution_count": 125,
   "metadata": {
    "ExecuteTime": {
     "end_time": "2019-02-08T14:49:21.919357Z",
     "start_time": "2019-02-08T14:45:39.692449Z"
    }
   },
   "outputs": [
    {
     "name": "stdout",
     "output_type": "stream",
     "text": [
      "27.5 s ± 840 ms per loop (mean ± std. dev. of 7 runs, 1 loop each)\n"
     ]
    }
   ],
   "source": [
    "%timeit _1000_sample_df['Page_List'].map(any_finding_pages_2)\n",
    "# 27.5 s ± 840 ms per loop (mean ± std. dev. of 7 runs, 1 loop each)"
   ]
  },
  {
   "cell_type": "code",
   "execution_count": null,
   "metadata": {},
   "outputs": [],
   "source": [
    "# df['Event_cat_act_agg']= df['Event_cat_act_agg'].apply(ast.literal_eval)"
   ]
  },
  {
   "cell_type": "code",
   "execution_count": 103,
   "metadata": {
    "ExecuteTime": {
     "end_time": "2019-02-08T14:35:55.162458Z",
     "start_time": "2019-02-08T14:35:55.158839Z"
    }
   },
   "outputs": [],
   "source": [
    "def is_nav_event_cat_act_agg(event):\n",
    "    return any([event[0][0] in ['breadcrumbClicked', 'homeLinkClicked'],\n",
    "                event[0][0] == 'relatedLinkClicked' and 'Explore the topic' in event[0][1]\n",
    "               ]\n",
    "              )"
   ]
  },
  {
   "cell_type": "code",
   "execution_count": 104,
   "metadata": {
    "ExecuteTime": {
     "end_time": "2019-02-08T14:35:55.399184Z",
     "start_time": "2019-02-08T14:35:55.396114Z"
    }
   },
   "outputs": [],
   "source": [
    "def any_nav_events(event_cat_act_agg):\n",
    "    return any(\n",
    "        [is_nav_event_cat_act_agg(event) for event in event_cat_act_agg])"
   ]
  },
  {
   "cell_type": "code",
   "execution_count": 124,
   "metadata": {
    "ExecuteTime": {
     "end_time": "2019-02-08T14:45:39.689537Z",
     "start_time": "2019-02-08T14:45:25.790941Z"
    }
   },
   "outputs": [
    {
     "name": "stdout",
     "output_type": "stream",
     "text": [
      "1.71 ms ± 20.1 µs per loop (mean ± std. dev. of 7 runs, 1000 loops each)\n"
     ]
    }
   ],
   "source": [
    "%timeit _1000_sample_df['Event_cat_act_agg'].map(any_nav_events)\n",
    "# 1.71 ms ± 20.1 µs per loop (mean ± std. dev. of 7 runs, 1000 loops each)"
   ]
  },
  {
   "cell_type": "code",
   "execution_count": 127,
   "metadata": {
    "ExecuteTime": {
     "end_time": "2019-02-08T14:53:30.396067Z",
     "start_time": "2019-02-08T14:53:30.388626Z"
    }
   },
   "outputs": [
    {
     "data": {
      "text/plain": [
       "11"
      ]
     },
     "execution_count": 127,
     "metadata": {},
     "output_type": "execute_result"
    }
   ],
   "source": [
    "_1000_sample_df['Event_cat_act_agg'].map(any_nav_events).sum()"
   ]
  },
  {
   "cell_type": "code",
   "execution_count": 105,
   "metadata": {
    "ExecuteTime": {
     "end_time": "2019-02-08T14:35:59.454015Z",
     "start_time": "2019-02-08T14:35:56.030568Z"
    }
   },
   "outputs": [],
   "source": [
    "df['Any_nav_event'] =  df['Event_cat_act_agg'].map(any_nav_events)"
   ]
  },
  {
   "cell_type": "code",
   "execution_count": 106,
   "metadata": {
    "ExecuteTime": {
     "end_time": "2019-02-08T14:36:05.476274Z",
     "start_time": "2019-02-08T14:36:05.239826Z"
    }
   },
   "outputs": [
    {
     "data": {
      "text/html": [
       "<div>\n",
       "<style scoped>\n",
       "    .dataframe tbody tr th:only-of-type {\n",
       "        vertical-align: middle;\n",
       "    }\n",
       "\n",
       "    .dataframe tbody tr th {\n",
       "        vertical-align: top;\n",
       "    }\n",
       "\n",
       "    .dataframe thead th {\n",
       "        text-align: right;\n",
       "    }\n",
       "</style>\n",
       "<table border=\"1\" class=\"dataframe\">\n",
       "  <thead>\n",
       "    <tr style=\"text-align: right;\">\n",
       "      <th></th>\n",
       "      <th>Sequence</th>\n",
       "      <th>PageSequence</th>\n",
       "      <th>Occurrences</th>\n",
       "      <th>Page_Seq_Occurrences</th>\n",
       "      <th>DeviceCategories</th>\n",
       "      <th>Dates</th>\n",
       "      <th>Page_Event_List</th>\n",
       "      <th>Page_List</th>\n",
       "      <th>PageSequence_internal</th>\n",
       "      <th>Event_List</th>\n",
       "      <th>num_event_cats</th>\n",
       "      <th>Event_cats_agg</th>\n",
       "      <th>Event_cat_act_agg</th>\n",
       "      <th>Page_List_NL</th>\n",
       "      <th>Page_Seq_NL</th>\n",
       "      <th>Occurrences_NL</th>\n",
       "      <th>TabletCount</th>\n",
       "      <th>pageviews</th>\n",
       "      <th>Any_nav_event</th>\n",
       "    </tr>\n",
       "  </thead>\n",
       "  <tbody>\n",
       "    <tr>\n",
       "      <th>3304</th>\n",
       "      <td>/guidance/check-employment-status-for-tax&lt;&lt;EVENT&lt;:&lt;breadcrumbClicked&lt;:&lt;5&gt;&gt;/money/business-tax-ir35-employment-status&lt;&lt;PAGE&lt;:&lt;NULL&lt;:&lt;NULL</td>\n",
       "      <td>/money/business-tax-ir35-employment-status</td>\n",
       "      <td>1</td>\n",
       "      <td>2.0</td>\n",
       "      <td>[('mobile', 1)]</td>\n",
       "      <td>[('20181031', 1)]</td>\n",
       "      <td>[('/guidance/check-employment-status-for-tax', 'EVENT&lt;:&lt;breadcrumbClicked&lt;:&lt;5'), ('/money/business-tax-ir35-employment-status', 'PAGE&lt;:&lt;NULL&lt;:&lt;NULL')]</td>\n",
       "      <td>[/money/business-tax-ir35-employment-status]</td>\n",
       "      <td>/money/business-tax-ir35-employment-status</td>\n",
       "      <td>[('breadcrumbClicked', '5'), ('PAGE_NULL', 'PAGE_NULL')]</td>\n",
       "      <td>2</td>\n",
       "      <td>[('breadcrumbClicked', 1), ('PAGE_NULL', 1)]</td>\n",
       "      <td>[((breadcrumbClicked, 5), 1), ((PAGE_NULL, PAGE_NULL), 1)]</td>\n",
       "      <td>['/money/business-tax-ir35-employment-status']</td>\n",
       "      <td>/money/business-tax-ir35-employment-status</td>\n",
       "      <td>4.0</td>\n",
       "      <td>0</td>\n",
       "      <td>1</td>\n",
       "      <td>True</td>\n",
       "    </tr>\n",
       "    <tr>\n",
       "      <th>3749</th>\n",
       "      <td>/vehicle-exempt-from-vehicle-tax&lt;&lt;PAGE&lt;:&lt;NULL&lt;:&lt;NULL&gt;&gt;/vehicle-exempt-from-vehicle-tax&lt;&lt;EVENT&lt;:&lt;breadcrumbClicked&lt;:&lt;3</td>\n",
       "      <td>/vehicle-exempt-from-vehicle-tax</td>\n",
       "      <td>1</td>\n",
       "      <td>2076.0</td>\n",
       "      <td>[('mobile', 1)]</td>\n",
       "      <td>[('20181031', 1)]</td>\n",
       "      <td>[('/vehicle-exempt-from-vehicle-tax', 'PAGE&lt;:&lt;NULL&lt;:&lt;NULL'), ('/vehicle-exempt-from-vehicle-tax', 'EVENT&lt;:&lt;breadcrumbClicked&lt;:&lt;3')]</td>\n",
       "      <td>[/vehicle-exempt-from-vehicle-tax]</td>\n",
       "      <td>/vehicle-exempt-from-vehicle-tax</td>\n",
       "      <td>[('PAGE_NULL', 'PAGE_NULL'), ('breadcrumbClicked', '3')]</td>\n",
       "      <td>2</td>\n",
       "      <td>[('PAGE_NULL', 1), ('breadcrumbClicked', 1)]</td>\n",
       "      <td>[((PAGE_NULL, PAGE_NULL), 1), ((breadcrumbClicked, 3), 1)]</td>\n",
       "      <td>['/vehicle-exempt-from-vehicle-tax']</td>\n",
       "      <td>/vehicle-exempt-from-vehicle-tax</td>\n",
       "      <td>21036.0</td>\n",
       "      <td>0</td>\n",
       "      <td>1</td>\n",
       "      <td>True</td>\n",
       "    </tr>\n",
       "    <tr>\n",
       "      <th>5773</th>\n",
       "      <td>/contact-hmrc&lt;&lt;EVENT&lt;:&lt;breadcrumbClicked&lt;:&lt;1&gt;&gt;/&lt;&lt;PAGE&lt;:&lt;NULL&lt;:&lt;NULL</td>\n",
       "      <td>/</td>\n",
       "      <td>2</td>\n",
       "      <td>452185.0</td>\n",
       "      <td>[('mobile', 1), ('desktop', 1)]</td>\n",
       "      <td>[('20181031', 1), ('20181029', 1)]</td>\n",
       "      <td>[('/contact-hmrc', 'EVENT&lt;:&lt;breadcrumbClicked&lt;:&lt;1'), ('/', 'PAGE&lt;:&lt;NULL&lt;:&lt;NULL')]</td>\n",
       "      <td>[/]</td>\n",
       "      <td>/</td>\n",
       "      <td>[('breadcrumbClicked', '1'), ('PAGE_NULL', 'PAGE_NULL')]</td>\n",
       "      <td>2</td>\n",
       "      <td>[('breadcrumbClicked', 1), ('PAGE_NULL', 1)]</td>\n",
       "      <td>[((breadcrumbClicked, 1), 1), ((PAGE_NULL, PAGE_NULL), 1)]</td>\n",
       "      <td>['/']</td>\n",
       "      <td>/</td>\n",
       "      <td>327045097.0</td>\n",
       "      <td>0</td>\n",
       "      <td>1</td>\n",
       "      <td>True</td>\n",
       "    </tr>\n",
       "    <tr>\n",
       "      <th>8988</th>\n",
       "      <td>/cymraeg&lt;&lt;PAGE&lt;:&lt;NULL&lt;:&lt;NULL&gt;&gt;/cymraeg&lt;&lt;EVENT&lt;:&lt;breadcrumbClicked&lt;:&lt;1&gt;&gt;/&lt;&lt;PAGE&lt;:&lt;NULL&lt;:&lt;NULL</td>\n",
       "      <td>/cymraeg&gt;&gt;/</td>\n",
       "      <td>1</td>\n",
       "      <td>5.0</td>\n",
       "      <td>[('mobile', 1)]</td>\n",
       "      <td>[('20181031', 1)]</td>\n",
       "      <td>[('/cymraeg', 'PAGE&lt;:&lt;NULL&lt;:&lt;NULL'), ('/cymraeg', 'EVENT&lt;:&lt;breadcrumbClicked&lt;:&lt;1'), ('/', 'PAGE&lt;:&lt;NULL&lt;:&lt;NULL')]</td>\n",
       "      <td>[/cymraeg, /]</td>\n",
       "      <td>/cymraeg&gt;&gt;/</td>\n",
       "      <td>[('PAGE_NULL', 'PAGE_NULL'), ('breadcrumbClicked', '1'), ('PAGE_NULL', 'PAGE_NULL')]</td>\n",
       "      <td>2</td>\n",
       "      <td>[('PAGE_NULL', 2), ('breadcrumbClicked', 1)]</td>\n",
       "      <td>[((PAGE_NULL, PAGE_NULL), 2), ((breadcrumbClicked, 1), 1)]</td>\n",
       "      <td>['/cymraeg', '/']</td>\n",
       "      <td>/cymraeg&gt;&gt;/</td>\n",
       "      <td>10.0</td>\n",
       "      <td>0</td>\n",
       "      <td>2</td>\n",
       "      <td>True</td>\n",
       "    </tr>\n",
       "    <tr>\n",
       "      <th>9002</th>\n",
       "      <td>/national-insurance&lt;&lt;PAGE&lt;:&lt;NULL&lt;:&lt;NULL&gt;&gt;/national-insurance&lt;&lt;EVENT&lt;:&lt;relatedLinkClicked&lt;:&lt;2.1 Explore the topic&gt;&gt;/browse/tax/national-insurance&lt;&lt;PAGE&lt;:&lt;NULL&lt;:&lt;NULL</td>\n",
       "      <td>/national-insurance&gt;&gt;/browse/tax/national-insurance</td>\n",
       "      <td>5</td>\n",
       "      <td>15.0</td>\n",
       "      <td>[('mobile', 4), ('tablet', 2), ('desktop', 1)]</td>\n",
       "      <td>[('20181031', 1), ('20181029', 2), ('20181102', 4)]</td>\n",
       "      <td>[('/national-insurance', 'PAGE&lt;:&lt;NULL&lt;:&lt;NULL'), ('/national-insurance', 'EVENT&lt;:&lt;relatedLinkClicked&lt;:&lt;2.1 Explore the topic'), ('/browse/tax/national-insurance', 'PAGE&lt;:&lt;NULL&lt;:&lt;NULL')]</td>\n",
       "      <td>[/national-insurance, /browse/tax/national-insurance]</td>\n",
       "      <td>/national-insurance&gt;&gt;/browse/tax/national-insurance</td>\n",
       "      <td>[('PAGE_NULL', 'PAGE_NULL'), ('relatedLinkClicked', '2.1 Explore the topic'), ('PAGE_NULL', 'PAGE_NULL')]</td>\n",
       "      <td>2</td>\n",
       "      <td>[('PAGE_NULL', 2), ('relatedLinkClicked', 1)]</td>\n",
       "      <td>[((PAGE_NULL, PAGE_NULL), 2), ((relatedLinkClicked, 2.1 Explore the topic), 1)]</td>\n",
       "      <td>['/national-insurance', '/browse/tax/national-insurance']</td>\n",
       "      <td>/national-insurance&gt;&gt;/browse/tax/national-insurance</td>\n",
       "      <td>30.0</td>\n",
       "      <td>2</td>\n",
       "      <td>2</td>\n",
       "      <td>True</td>\n",
       "    </tr>\n",
       "    <tr>\n",
       "      <th>9079</th>\n",
       "      <td>/housing-benefit&lt;&lt;PAGE&lt;:&lt;NULL&lt;:&lt;NULL&gt;&gt;/housing-benefit&lt;&lt;EVENT&lt;:&lt;relatedLinkClicked&lt;:&lt;2.3 Explore the topic&gt;&gt;/browse/housing-local-services/council-housing-association&lt;&lt;PAGE&lt;:&lt;NULL&lt;:&lt;NULL</td>\n",
       "      <td>/housing-benefit&gt;&gt;/browse/housing-local-services/council-housing-association</td>\n",
       "      <td>2</td>\n",
       "      <td>3.0</td>\n",
       "      <td>[('mobile', 2)]</td>\n",
       "      <td>[('20181031', 1), ('20181029', 1)]</td>\n",
       "      <td>[('/housing-benefit', 'PAGE&lt;:&lt;NULL&lt;:&lt;NULL'), ('/housing-benefit', 'EVENT&lt;:&lt;relatedLinkClicked&lt;:&lt;2.3 Explore the topic'), ('/browse/housing-local-services/council-housing-association', 'PAGE&lt;:&lt;NULL&lt;:&lt;NULL')]</td>\n",
       "      <td>[/housing-benefit, /browse/housing-local-services/council-housing-association]</td>\n",
       "      <td>/housing-benefit&gt;&gt;/browse/housing-local-services/council-housing-association</td>\n",
       "      <td>[('PAGE_NULL', 'PAGE_NULL'), ('relatedLinkClicked', '2.3 Explore the topic'), ('PAGE_NULL', 'PAGE_NULL')]</td>\n",
       "      <td>2</td>\n",
       "      <td>[('PAGE_NULL', 2), ('relatedLinkClicked', 1)]</td>\n",
       "      <td>[((PAGE_NULL, PAGE_NULL), 2), ((relatedLinkClicked, 2.3 Explore the topic), 1)]</td>\n",
       "      <td>['/housing-benefit', '/browse/housing-local-services/council-housing-association']</td>\n",
       "      <td>/housing-benefit&gt;&gt;/browse/housing-local-services/council-housing-association</td>\n",
       "      <td>6.0</td>\n",
       "      <td>0</td>\n",
       "      <td>2</td>\n",
       "      <td>True</td>\n",
       "    </tr>\n",
       "    <tr>\n",
       "      <th>9116</th>\n",
       "      <td>/foster-carers/help-with-the-cost-of-fostering&lt;&lt;PAGE&lt;:&lt;NULL&lt;:&lt;NULL&gt;&gt;/foster-carers/help-with-the-cost-of-fostering&lt;&lt;EVENT&lt;:&lt;relatedLinkClicked&lt;:&lt;2.1 Explore the topic&gt;&gt;/browse/births-deaths-marriages/child-adoption&lt;&lt;PAGE&lt;:&lt;NULL&lt;:&lt;NULL</td>\n",
       "      <td>/foster-carers/help-with-the-cost-of-fostering&gt;&gt;/browse/births-deaths-marriages/child-adoption</td>\n",
       "      <td>1</td>\n",
       "      <td>2.0</td>\n",
       "      <td>[('mobile', 1)]</td>\n",
       "      <td>[('20181031', 1)]</td>\n",
       "      <td>[('/foster-carers/help-with-the-cost-of-fostering', 'PAGE&lt;:&lt;NULL&lt;:&lt;NULL'), ('/foster-carers/help-with-the-cost-of-fostering', 'EVENT&lt;:&lt;relatedLinkClicked&lt;:&lt;2.1 Explore the topic'), ('/browse/births-deaths-marriages/child-adoption', 'PAGE&lt;:&lt;NULL&lt;:&lt;NULL')]</td>\n",
       "      <td>[/foster-carers/help-with-the-cost-of-fostering, /browse/births-deaths-marriages/child-adoption]</td>\n",
       "      <td>/foster-carers/help-with-the-cost-of-fostering&gt;&gt;/browse/births-deaths-marriages/child-adoption</td>\n",
       "      <td>[('PAGE_NULL', 'PAGE_NULL'), ('relatedLinkClicked', '2.1 Explore the topic'), ('PAGE_NULL', 'PAGE_NULL')]</td>\n",
       "      <td>2</td>\n",
       "      <td>[('PAGE_NULL', 2), ('relatedLinkClicked', 1)]</td>\n",
       "      <td>[((PAGE_NULL, PAGE_NULL), 2), ((relatedLinkClicked, 2.1 Explore the topic), 1)]</td>\n",
       "      <td>['/foster-carers/help-with-the-cost-of-fostering', '/browse/births-deaths-marriages/child-adoption']</td>\n",
       "      <td>/foster-carers/help-with-the-cost-of-fostering&gt;&gt;/browse/births-deaths-marriages/child-adoption</td>\n",
       "      <td>4.0</td>\n",
       "      <td>0</td>\n",
       "      <td>2</td>\n",
       "      <td>True</td>\n",
       "    </tr>\n",
       "    <tr>\n",
       "      <th>9301</th>\n",
       "      <td>/set-up-business/start-with-an-idea&lt;&lt;EVENT&lt;:&lt;relatedLinkClicked&lt;:&lt;2.1 Explore the topic&gt;&gt;/browse/business/setting-up&lt;&lt;PAGE&lt;:&lt;NULL&lt;:&lt;NULL&gt;&gt;/browse/business/setting-up&lt;&lt;EVENT&lt;:&lt;JavaScript Error&lt;:&lt;TypeError: null is not an object (evaluating 'document.getElementById('rsstable').src')</td>\n",
       "      <td>/browse/business/setting-up</td>\n",
       "      <td>1</td>\n",
       "      <td>733.0</td>\n",
       "      <td>[('mobile', 1)]</td>\n",
       "      <td>[('20181031', 1)]</td>\n",
       "      <td>[('/set-up-business/start-with-an-idea', 'EVENT&lt;:&lt;relatedLinkClicked&lt;:&lt;2.1 Explore the topic'), ('/browse/business/setting-up', 'PAGE&lt;:&lt;NULL&lt;:&lt;NULL'), ('/browse/business/setting-up', 'EVENT&lt;:&lt;JavaScript Error&lt;:&lt;TypeError: null is not an object (evaluating document.getElementById(rsstable).src)')]</td>\n",
       "      <td>[/browse/business/setting-up]</td>\n",
       "      <td>/browse/business/setting-up</td>\n",
       "      <td>[('relatedLinkClicked', '2.1 Explore the topic'), ('PAGE_NULL', 'PAGE_NULL'), ('JavaScript Error', 'TypeError: null is not an object (evaluating document.getElementById(rsstable).src)')]</td>\n",
       "      <td>3</td>\n",
       "      <td>[('relatedLinkClicked', 1), ('PAGE_NULL', 1), ('JavaScript Error', 1)]</td>\n",
       "      <td>[((relatedLinkClicked, 2.1 Explore the topic), 1), ((PAGE_NULL, PAGE_NULL), 1), ((JavaScript Error, TypeError: null is not an object (evaluating document.getElementById(rsstable).src)), 1)]</td>\n",
       "      <td>['/browse/business/setting-up']</td>\n",
       "      <td>/browse/business/setting-up</td>\n",
       "      <td>8175.0</td>\n",
       "      <td>0</td>\n",
       "      <td>1</td>\n",
       "      <td>True</td>\n",
       "    </tr>\n",
       "    <tr>\n",
       "      <th>9315</th>\n",
       "      <td>/settle-in-the-uk&lt;&lt;PAGE&lt;:&lt;NULL&lt;:&lt;NULL&gt;&gt;/settle-in-the-uk&lt;&lt;EVENT&lt;:&lt;breadcrumbClicked&lt;:&lt;2&gt;&gt;/browse/visas-immigration&lt;&lt;PAGE&lt;:&lt;NULL&lt;:&lt;NULL</td>\n",
       "      <td>/settle-in-the-uk&gt;&gt;/browse/visas-immigration</td>\n",
       "      <td>1</td>\n",
       "      <td>8.0</td>\n",
       "      <td>[('mobile', 1), ('tablet', 1)]</td>\n",
       "      <td>[('20181031', 1), ('20181029', 1)]</td>\n",
       "      <td>[('/settle-in-the-uk', 'PAGE&lt;:&lt;NULL&lt;:&lt;NULL'), ('/settle-in-the-uk', 'EVENT&lt;:&lt;breadcrumbClicked&lt;:&lt;2'), ('/browse/visas-immigration', 'PAGE&lt;:&lt;NULL&lt;:&lt;NULL')]</td>\n",
       "      <td>[/settle-in-the-uk, /browse/visas-immigration]</td>\n",
       "      <td>/settle-in-the-uk&gt;&gt;/browse/visas-immigration</td>\n",
       "      <td>[('PAGE_NULL', 'PAGE_NULL'), ('breadcrumbClicked', '2'), ('PAGE_NULL', 'PAGE_NULL')]</td>\n",
       "      <td>2</td>\n",
       "      <td>[('PAGE_NULL', 2), ('breadcrumbClicked', 1)]</td>\n",
       "      <td>[((PAGE_NULL, PAGE_NULL), 2), ((breadcrumbClicked, 2), 1)]</td>\n",
       "      <td>['/settle-in-the-uk', '/browse/visas-immigration']</td>\n",
       "      <td>/settle-in-the-uk&gt;&gt;/browse/visas-immigration</td>\n",
       "      <td>16.0</td>\n",
       "      <td>1</td>\n",
       "      <td>2</td>\n",
       "      <td>True</td>\n",
       "    </tr>\n",
       "    <tr>\n",
       "      <th>9326</th>\n",
       "      <td>/write-business-plan&lt;&lt;PAGE&lt;:&lt;NULL&lt;:&lt;NULL&gt;&gt;/write-business-plan&lt;&lt;EVENT&lt;:&lt;breadcrumbClicked&lt;:&lt;1&gt;&gt;/&lt;&lt;PAGE&lt;:&lt;NULL&lt;:&lt;NULL</td>\n",
       "      <td>/write-business-plan&gt;&gt;/</td>\n",
       "      <td>1</td>\n",
       "      <td>8.0</td>\n",
       "      <td>[('mobile', 1)]</td>\n",
       "      <td>[('20181031', 1)]</td>\n",
       "      <td>[('/write-business-plan', 'PAGE&lt;:&lt;NULL&lt;:&lt;NULL'), ('/write-business-plan', 'EVENT&lt;:&lt;breadcrumbClicked&lt;:&lt;1'), ('/', 'PAGE&lt;:&lt;NULL&lt;:&lt;NULL')]</td>\n",
       "      <td>[/write-business-plan, /]</td>\n",
       "      <td>/write-business-plan&gt;&gt;/</td>\n",
       "      <td>[('PAGE_NULL', 'PAGE_NULL'), ('breadcrumbClicked', '1'), ('PAGE_NULL', 'PAGE_NULL')]</td>\n",
       "      <td>2</td>\n",
       "      <td>[('PAGE_NULL', 2), ('breadcrumbClicked', 1)]</td>\n",
       "      <td>[((PAGE_NULL, PAGE_NULL), 2), ((breadcrumbClicked, 1), 1)]</td>\n",
       "      <td>['/write-business-plan', '/']</td>\n",
       "      <td>/write-business-plan&gt;&gt;/</td>\n",
       "      <td>24.0</td>\n",
       "      <td>0</td>\n",
       "      <td>2</td>\n",
       "      <td>True</td>\n",
       "    </tr>\n",
       "    <tr>\n",
       "      <th>9345</th>\n",
       "      <td>/government/organisations/department-for-work-pensions&lt;&lt;PAGE&lt;:&lt;NULL&lt;:&lt;NULL&gt;&gt;/government/organisations/department-for-work-pensions&lt;&lt;EVENT&lt;:&lt;breadcrumbClicked&lt;:&lt;2&gt;&gt;/government/organisations&lt;&lt;PAGE&lt;:&lt;NULL&lt;:&lt;NULL</td>\n",
       "      <td>/government/organisations/department-for-work-pensions&gt;&gt;/government/organisations</td>\n",
       "      <td>5</td>\n",
       "      <td>59.0</td>\n",
       "      <td>[('mobile', 1), ('desktop', 4)]</td>\n",
       "      <td>[('20181031', 1), ('20181029', 2), ('20181102', 2)]</td>\n",
       "      <td>[('/government/organisations/department-for-work-pensions', 'PAGE&lt;:&lt;NULL&lt;:&lt;NULL'), ('/government/organisations/department-for-work-pensions', 'EVENT&lt;:&lt;breadcrumbClicked&lt;:&lt;2'), ('/government/organisations', 'PAGE&lt;:&lt;NULL&lt;:&lt;NULL')]</td>\n",
       "      <td>[/government/organisations/department-for-work-pensions, /government/organisations]</td>\n",
       "      <td>/government/organisations/department-for-work-pensions&gt;&gt;/government/organisations</td>\n",
       "      <td>[('PAGE_NULL', 'PAGE_NULL'), ('breadcrumbClicked', '2'), ('PAGE_NULL', 'PAGE_NULL')]</td>\n",
       "      <td>2</td>\n",
       "      <td>[('PAGE_NULL', 2), ('breadcrumbClicked', 1)]</td>\n",
       "      <td>[((PAGE_NULL, PAGE_NULL), 2), ((breadcrumbClicked, 2), 1)]</td>\n",
       "      <td>['/government/organisations/department-for-work-pensions', '/government/organisations']</td>\n",
       "      <td>/government/organisations/department-for-work-pensions&gt;&gt;/government/organisations</td>\n",
       "      <td>295.0</td>\n",
       "      <td>0</td>\n",
       "      <td>2</td>\n",
       "      <td>True</td>\n",
       "    </tr>\n",
       "    <tr>\n",
       "      <th>9379</th>\n",
       "      <td>/bereavement-payment&lt;&lt;PAGE&lt;:&lt;NULL&lt;:&lt;NULL&gt;&gt;/bereavement-payment&lt;&lt;EVENT&lt;:&lt;relatedLinkClicked&lt;:&lt;2.1 Explore the topic&gt;&gt;/browse/benefits/bereavement&lt;&lt;PAGE&lt;:&lt;NULL&lt;:&lt;NULL</td>\n",
       "      <td>/bereavement-payment&gt;&gt;/browse/benefits/bereavement</td>\n",
       "      <td>3</td>\n",
       "      <td>10.0</td>\n",
       "      <td>[('mobile', 2), ('desktop', 1)]</td>\n",
       "      <td>[('20181031', 1), ('20181102', 2)]</td>\n",
       "      <td>[('/bereavement-payment', 'PAGE&lt;:&lt;NULL&lt;:&lt;NULL'), ('/bereavement-payment', 'EVENT&lt;:&lt;relatedLinkClicked&lt;:&lt;2.1 Explore the topic'), ('/browse/benefits/bereavement', 'PAGE&lt;:&lt;NULL&lt;:&lt;NULL')]</td>\n",
       "      <td>[/bereavement-payment, /browse/benefits/bereavement]</td>\n",
       "      <td>/bereavement-payment&gt;&gt;/browse/benefits/bereavement</td>\n",
       "      <td>[('PAGE_NULL', 'PAGE_NULL'), ('relatedLinkClicked', '2.1 Explore the topic'), ('PAGE_NULL', 'PAGE_NULL')]</td>\n",
       "      <td>2</td>\n",
       "      <td>[('PAGE_NULL', 2), ('relatedLinkClicked', 1)]</td>\n",
       "      <td>[((PAGE_NULL, PAGE_NULL), 2), ((relatedLinkClicked, 2.1 Explore the topic), 1)]</td>\n",
       "      <td>['/bereavement-payment', '/browse/benefits/bereavement']</td>\n",
       "      <td>/bereavement-payment&gt;&gt;/browse/benefits/bereavement</td>\n",
       "      <td>20.0</td>\n",
       "      <td>0</td>\n",
       "      <td>2</td>\n",
       "      <td>True</td>\n",
       "    </tr>\n",
       "    <tr>\n",
       "      <th>9453</th>\n",
       "      <td>/child-benefit/how-to-claim&lt;&lt;PAGE&lt;:&lt;NULL&lt;:&lt;NULL&gt;&gt;/child-benefit/how-to-claim&lt;&lt;EVENT&lt;:&lt;relatedLinkClicked&lt;:&lt;2.2 Explore the topic&gt;&gt;/browse/births-deaths-marriages/child&lt;&lt;PAGE&lt;:&lt;NULL&lt;:&lt;NULL</td>\n",
       "      <td>/child-benefit/how-to-claim&gt;&gt;/browse/births-deaths-marriages/child</td>\n",
       "      <td>2</td>\n",
       "      <td>4.0</td>\n",
       "      <td>[('mobile', 2)]</td>\n",
       "      <td>[('20181031', 1), ('20181102', 1)]</td>\n",
       "      <td>[('/child-benefit/how-to-claim', 'PAGE&lt;:&lt;NULL&lt;:&lt;NULL'), ('/child-benefit/how-to-claim', 'EVENT&lt;:&lt;relatedLinkClicked&lt;:&lt;2.2 Explore the topic'), ('/browse/births-deaths-marriages/child', 'PAGE&lt;:&lt;NULL&lt;:&lt;NULL')]</td>\n",
       "      <td>[/child-benefit/how-to-claim, /browse/births-deaths-marriages/child]</td>\n",
       "      <td>/child-benefit/how-to-claim&gt;&gt;/browse/births-deaths-marriages/child</td>\n",
       "      <td>[('PAGE_NULL', 'PAGE_NULL'), ('relatedLinkClicked', '2.2 Explore the topic'), ('PAGE_NULL', 'PAGE_NULL')]</td>\n",
       "      <td>2</td>\n",
       "      <td>[('PAGE_NULL', 2), ('relatedLinkClicked', 1)]</td>\n",
       "      <td>[((PAGE_NULL, PAGE_NULL), 2), ((relatedLinkClicked, 2.2 Explore the topic), 1)]</td>\n",
       "      <td>['/child-benefit/how-to-claim', '/browse/births-deaths-marriages/child']</td>\n",
       "      <td>/child-benefit/how-to-claim&gt;&gt;/browse/births-deaths-marriages/child</td>\n",
       "      <td>4.0</td>\n",
       "      <td>0</td>\n",
       "      <td>2</td>\n",
       "      <td>True</td>\n",
       "    </tr>\n",
       "    <tr>\n",
       "      <th>9632</th>\n",
       "      <td>/government/statistics/secondary-school-performance-tables-in-england-2018-provisional&lt;&lt;PAGE&lt;:&lt;NULL&lt;:&lt;NULL&gt;&gt;/government/statistics/secondary-school-performance-tables-in-england-2018-provisional&lt;&lt;EVENT&lt;:&lt;breadcrumbClicked&lt;:&lt;5&gt;&gt;/education/pupil-performance-in-schools&lt;&lt;PAGE&lt;:&lt;NULL&lt;:&lt;NULL</td>\n",
       "      <td>/government/statistics/secondary-school-performance-tables-in-england-2018-provisional&gt;&gt;/education/pupil-performance-in-schools</td>\n",
       "      <td>2</td>\n",
       "      <td>10.0</td>\n",
       "      <td>[('mobile', 1), ('desktop', 1), ('tablet', 1)]</td>\n",
       "      <td>[('20181031', 1), ('20181029', 1), ('20181102', 1)]</td>\n",
       "      <td>[('/government/statistics/secondary-school-performance-tables-in-england-2018-provisional', 'PAGE&lt;:&lt;NULL&lt;:&lt;NULL'), ('/government/statistics/secondary-school-performance-tables-in-england-2018-provisional', 'EVENT&lt;:&lt;breadcrumbClicked&lt;:&lt;5'), ('/education/pupil-performance-in-schools', 'PAGE&lt;:&lt;NULL&lt;:&lt;NULL')]</td>\n",
       "      <td>[/government/statistics/secondary-school-performance-tables-in-england-2018-provisional, /education/pupil-performance-in-schools]</td>\n",
       "      <td>/government/statistics/secondary-school-performance-tables-in-england-2018-provisional&gt;&gt;/education/pupil-performance-in-schools</td>\n",
       "      <td>[('PAGE_NULL', 'PAGE_NULL'), ('breadcrumbClicked', '5'), ('PAGE_NULL', 'PAGE_NULL')]</td>\n",
       "      <td>2</td>\n",
       "      <td>[('PAGE_NULL', 2), ('breadcrumbClicked', 1)]</td>\n",
       "      <td>[((PAGE_NULL, PAGE_NULL), 2), ((breadcrumbClicked, 5), 1)]</td>\n",
       "      <td>['/government/statistics/secondary-school-performance-tables-in-england-2018-provisional', '/education/pupil-performance-in-schools']</td>\n",
       "      <td>/government/statistics/secondary-school-performance-tables-in-england-2018-provisional&gt;&gt;/education/pupil-performance-in-schools</td>\n",
       "      <td>50.0</td>\n",
       "      <td>1</td>\n",
       "      <td>2</td>\n",
       "      <td>True</td>\n",
       "    </tr>\n",
       "    <tr>\n",
       "      <th>9824</th>\n",
       "      <td>/caring-for-pets&lt;&lt;PAGE&lt;:&lt;NULL&lt;:&lt;NULL&gt;&gt;/caring-for-pets&lt;&lt;EVENT&lt;:&lt;breadcrumbClicked&lt;:&lt;3&gt;&gt;/browse/housing-local-services/noise-neighbours&lt;&lt;PAGE&lt;:&lt;NULL&lt;:&lt;NULL</td>\n",
       "      <td>/caring-for-pets&gt;&gt;/browse/housing-local-services/noise-neighbours</td>\n",
       "      <td>2</td>\n",
       "      <td>3.0</td>\n",
       "      <td>[('mobile', 2)]</td>\n",
       "      <td>[('20181031', 1), ('20181029', 1)]</td>\n",
       "      <td>[('/caring-for-pets', 'PAGE&lt;:&lt;NULL&lt;:&lt;NULL'), ('/caring-for-pets', 'EVENT&lt;:&lt;breadcrumbClicked&lt;:&lt;3'), ('/browse/housing-local-services/noise-neighbours', 'PAGE&lt;:&lt;NULL&lt;:&lt;NULL')]</td>\n",
       "      <td>[/caring-for-pets, /browse/housing-local-services/noise-neighbours]</td>\n",
       "      <td>/caring-for-pets&gt;&gt;/browse/housing-local-services/noise-neighbours</td>\n",
       "      <td>[('PAGE_NULL', 'PAGE_NULL'), ('breadcrumbClicked', '3'), ('PAGE_NULL', 'PAGE_NULL')]</td>\n",
       "      <td>2</td>\n",
       "      <td>[('PAGE_NULL', 2), ('breadcrumbClicked', 1)]</td>\n",
       "      <td>[((PAGE_NULL, PAGE_NULL), 2), ((breadcrumbClicked, 3), 1)]</td>\n",
       "      <td>['/caring-for-pets', '/browse/housing-local-services/noise-neighbours']</td>\n",
       "      <td>/caring-for-pets&gt;&gt;/browse/housing-local-services/noise-neighbours</td>\n",
       "      <td>6.0</td>\n",
       "      <td>0</td>\n",
       "      <td>2</td>\n",
       "      <td>True</td>\n",
       "    </tr>\n",
       "    <tr>\n",
       "      <th>9958</th>\n",
       "      <td>/check-national-insurance-record&lt;&lt;PAGE&lt;:&lt;NULL&lt;:&lt;NULL&gt;&gt;/check-national-insurance-record&lt;&lt;EVENT&lt;:&lt;relatedLinkClicked&lt;:&lt;2.1 Explore the topic&gt;&gt;/browse/tax/national-insurance&lt;&lt;PAGE&lt;:&lt;NULL&lt;:&lt;NULL</td>\n",
       "      <td>/check-national-insurance-record&gt;&gt;/browse/tax/national-insurance</td>\n",
       "      <td>1</td>\n",
       "      <td>4.0</td>\n",
       "      <td>[('mobile', 1)]</td>\n",
       "      <td>[('20181031', 1)]</td>\n",
       "      <td>[('/check-national-insurance-record', 'PAGE&lt;:&lt;NULL&lt;:&lt;NULL'), ('/check-national-insurance-record', 'EVENT&lt;:&lt;relatedLinkClicked&lt;:&lt;2.1 Explore the topic'), ('/browse/tax/national-insurance', 'PAGE&lt;:&lt;NULL&lt;:&lt;NULL')]</td>\n",
       "      <td>[/check-national-insurance-record, /browse/tax/national-insurance]</td>\n",
       "      <td>/check-national-insurance-record&gt;&gt;/browse/tax/national-insurance</td>\n",
       "      <td>[('PAGE_NULL', 'PAGE_NULL'), ('relatedLinkClicked', '2.1 Explore the topic'), ('PAGE_NULL', 'PAGE_NULL')]</td>\n",
       "      <td>2</td>\n",
       "      <td>[('PAGE_NULL', 2), ('relatedLinkClicked', 1)]</td>\n",
       "      <td>[((PAGE_NULL, PAGE_NULL), 2), ((relatedLinkClicked, 2.1 Explore the topic), 1)]</td>\n",
       "      <td>['/check-national-insurance-record', '/browse/tax/national-insurance']</td>\n",
       "      <td>/check-national-insurance-record&gt;&gt;/browse/tax/national-insurance</td>\n",
       "      <td>16.0</td>\n",
       "      <td>0</td>\n",
       "      <td>2</td>\n",
       "      <td>True</td>\n",
       "    </tr>\n",
       "    <tr>\n",
       "      <th>10003</th>\n",
       "      <td>/browse/citizenship/citizenship&lt;&lt;PAGE&lt;:&lt;NULL&lt;:&lt;NULL&gt;&gt;/browse/citizenship/citizenship&lt;&lt;EVENT&lt;:&lt;breadcrumbClicked&lt;:&lt;2&gt;&gt;/browse/citizenship&lt;&lt;PAGE&lt;:&lt;NULL&lt;:&lt;NULL</td>\n",
       "      <td>/browse/citizenship/citizenship&gt;&gt;/browse/citizenship</td>\n",
       "      <td>1</td>\n",
       "      <td>19.0</td>\n",
       "      <td>[('mobile', 1)]</td>\n",
       "      <td>[('20181031', 1)]</td>\n",
       "      <td>[('/browse/citizenship/citizenship', 'PAGE&lt;:&lt;NULL&lt;:&lt;NULL'), ('/browse/citizenship/citizenship', 'EVENT&lt;:&lt;breadcrumbClicked&lt;:&lt;2'), ('/browse/citizenship', 'PAGE&lt;:&lt;NULL&lt;:&lt;NULL')]</td>\n",
       "      <td>[/browse/citizenship/citizenship, /browse/citizenship]</td>\n",
       "      <td>/browse/citizenship/citizenship&gt;&gt;/browse/citizenship</td>\n",
       "      <td>[('PAGE_NULL', 'PAGE_NULL'), ('breadcrumbClicked', '2'), ('PAGE_NULL', 'PAGE_NULL')]</td>\n",
       "      <td>2</td>\n",
       "      <td>[('PAGE_NULL', 2), ('breadcrumbClicked', 1)]</td>\n",
       "      <td>[((PAGE_NULL, PAGE_NULL), 2), ((breadcrumbClicked, 2), 1)]</td>\n",
       "      <td>['/browse/citizenship/citizenship', '/browse/citizenship']</td>\n",
       "      <td>/browse/citizenship/citizenship&gt;&gt;/browse/citizenship</td>\n",
       "      <td>95.0</td>\n",
       "      <td>0</td>\n",
       "      <td>2</td>\n",
       "      <td>True</td>\n",
       "    </tr>\n",
       "    <tr>\n",
       "      <th>10022</th>\n",
       "      <td>/get-proof-employment-history&lt;&lt;PAGE&lt;:&lt;NULL&lt;:&lt;NULL&gt;&gt;/get-proof-employment-history&lt;&lt;EVENT&lt;:&lt;breadcrumbClicked&lt;:&lt;1&gt;&gt;/&lt;&lt;PAGE&lt;:&lt;NULL&lt;:&lt;NULL</td>\n",
       "      <td>/get-proof-employment-history&gt;&gt;/</td>\n",
       "      <td>2</td>\n",
       "      <td>4.0</td>\n",
       "      <td>[('mobile', 1), ('desktop', 1)]</td>\n",
       "      <td>[('20181031', 1), ('20181102', 1)]</td>\n",
       "      <td>[('/get-proof-employment-history', 'PAGE&lt;:&lt;NULL&lt;:&lt;NULL'), ('/get-proof-employment-history', 'EVENT&lt;:&lt;breadcrumbClicked&lt;:&lt;1'), ('/', 'PAGE&lt;:&lt;NULL&lt;:&lt;NULL')]</td>\n",
       "      <td>[/get-proof-employment-history, /]</td>\n",
       "      <td>/get-proof-employment-history&gt;&gt;/</td>\n",
       "      <td>[('PAGE_NULL', 'PAGE_NULL'), ('breadcrumbClicked', '1'), ('PAGE_NULL', 'PAGE_NULL')]</td>\n",
       "      <td>2</td>\n",
       "      <td>[('PAGE_NULL', 2), ('breadcrumbClicked', 1)]</td>\n",
       "      <td>[((PAGE_NULL, PAGE_NULL), 2), ((breadcrumbClicked, 1), 1)]</td>\n",
       "      <td>['/get-proof-employment-history', '/']</td>\n",
       "      <td>/get-proof-employment-history&gt;&gt;/</td>\n",
       "      <td>4.0</td>\n",
       "      <td>0</td>\n",
       "      <td>2</td>\n",
       "      <td>True</td>\n",
       "    </tr>\n",
       "    <tr>\n",
       "      <th>10296</th>\n",
       "      <td>/pay-dartford-crossing-charge/charges-fines&lt;&lt;PAGE&lt;:&lt;NULL&lt;:&lt;NULL&gt;&gt;/pay-dartford-crossing-charge/charges-fines&lt;&lt;EVENT&lt;:&lt;relatedLinkClicked&lt;:&lt;2.1 Explore the topic&gt;&gt;/browse/driving/driving-uk-and-abroad&lt;&lt;PAGE&lt;:&lt;NULL&lt;:&lt;NULL</td>\n",
       "      <td>/pay-dartford-crossing-charge/charges-fines&gt;&gt;/browse/driving/driving-uk-and-abroad</td>\n",
       "      <td>2</td>\n",
       "      <td>2.0</td>\n",
       "      <td>[('mobile', 2)]</td>\n",
       "      <td>[('20181031', 1), ('20181029', 1)]</td>\n",
       "      <td>[('/pay-dartford-crossing-charge/charges-fines', 'PAGE&lt;:&lt;NULL&lt;:&lt;NULL'), ('/pay-dartford-crossing-charge/charges-fines', 'EVENT&lt;:&lt;relatedLinkClicked&lt;:&lt;2.1 Explore the topic'), ('/browse/driving/driving-uk-and-abroad', 'PAGE&lt;:&lt;NULL&lt;:&lt;NULL')]</td>\n",
       "      <td>[/pay-dartford-crossing-charge/charges-fines, /browse/driving/driving-uk-and-abroad]</td>\n",
       "      <td>/pay-dartford-crossing-charge/charges-fines&gt;&gt;/browse/driving/driving-uk-and-abroad</td>\n",
       "      <td>[('PAGE_NULL', 'PAGE_NULL'), ('relatedLinkClicked', '2.1 Explore the topic'), ('PAGE_NULL', 'PAGE_NULL')]</td>\n",
       "      <td>2</td>\n",
       "      <td>[('PAGE_NULL', 2), ('relatedLinkClicked', 1)]</td>\n",
       "      <td>[((PAGE_NULL, PAGE_NULL), 2), ((relatedLinkClicked, 2.1 Explore the topic), 1)]</td>\n",
       "      <td>['/pay-dartford-crossing-charge/charges-fines', '/browse/driving/driving-uk-and-abroad']</td>\n",
       "      <td>/pay-dartford-crossing-charge/charges-fines&gt;&gt;/browse/driving/driving-uk-and-abroad</td>\n",
       "      <td>2.0</td>\n",
       "      <td>0</td>\n",
       "      <td>2</td>\n",
       "      <td>True</td>\n",
       "    </tr>\n",
       "    <tr>\n",
       "      <th>10354</th>\n",
       "      <td>/government/organisations/prime-ministers-office-10-downing-street&lt;&lt;PAGE&lt;:&lt;NULL&lt;:&lt;NULL&gt;&gt;/government/organisations/prime-ministers-office-10-downing-street&lt;&lt;EVENT&lt;:&lt;breadcrumbClicked&lt;:&lt;2&gt;&gt;/government/organisations&lt;&lt;PAGE&lt;:&lt;NULL&lt;:&lt;NULL</td>\n",
       "      <td>/government/organisations/prime-ministers-office-10-downing-street&gt;&gt;/government/organisations</td>\n",
       "      <td>3</td>\n",
       "      <td>16.0</td>\n",
       "      <td>[('mobile', 2), ('tablet', 1), ('desktop', 1)]</td>\n",
       "      <td>[('20181031', 1), ('20181029', 2), ('20181104', 1)]</td>\n",
       "      <td>[('/government/organisations/prime-ministers-office-10-downing-street', 'PAGE&lt;:&lt;NULL&lt;:&lt;NULL'), ('/government/organisations/prime-ministers-office-10-downing-street', 'EVENT&lt;:&lt;breadcrumbClicked&lt;:&lt;2'), ('/government/organisations', 'PAGE&lt;:&lt;NULL&lt;:&lt;NULL')]</td>\n",
       "      <td>[/government/organisations/prime-ministers-office-10-downing-street, /government/organisations]</td>\n",
       "      <td>/government/organisations/prime-ministers-office-10-downing-street&gt;&gt;/government/organisations</td>\n",
       "      <td>[('PAGE_NULL', 'PAGE_NULL'), ('breadcrumbClicked', '2'), ('PAGE_NULL', 'PAGE_NULL')]</td>\n",
       "      <td>2</td>\n",
       "      <td>[('PAGE_NULL', 2), ('breadcrumbClicked', 1)]</td>\n",
       "      <td>[((PAGE_NULL, PAGE_NULL), 2), ((breadcrumbClicked, 2), 1)]</td>\n",
       "      <td>['/government/organisations/prime-ministers-office-10-downing-street', '/government/organisations']</td>\n",
       "      <td>/government/organisations/prime-ministers-office-10-downing-street&gt;&gt;/government/organisations</td>\n",
       "      <td>96.0</td>\n",
       "      <td>1</td>\n",
       "      <td>2</td>\n",
       "      <td>True</td>\n",
       "    </tr>\n",
       "    <tr>\n",
       "      <th>10702</th>\n",
       "      <td>/jobseekers-allowance&lt;&lt;PAGE&lt;:&lt;NULL&lt;:&lt;NULL&gt;&gt;/jobseekers-allowance&lt;&lt;EVENT&lt;:&lt;breadcrumbClicked&lt;:&lt;1&gt;&gt;/&lt;&lt;PAGE&lt;:&lt;NULL&lt;:&lt;NULL</td>\n",
       "      <td>/jobseekers-allowance&gt;&gt;/</td>\n",
       "      <td>3</td>\n",
       "      <td>18.0</td>\n",
       "      <td>[('mobile', 2), ('desktop', 1)]</td>\n",
       "      <td>[('20181031', 1), ('20181029', 1), ('20181104', 1)]</td>\n",
       "      <td>[('/jobseekers-allowance', 'PAGE&lt;:&lt;NULL&lt;:&lt;NULL'), ('/jobseekers-allowance', 'EVENT&lt;:&lt;breadcrumbClicked&lt;:&lt;1'), ('/', 'PAGE&lt;:&lt;NULL&lt;:&lt;NULL')]</td>\n",
       "      <td>[/jobseekers-allowance, /]</td>\n",
       "      <td>/jobseekers-allowance&gt;&gt;/</td>\n",
       "      <td>[('PAGE_NULL', 'PAGE_NULL'), ('breadcrumbClicked', '1'), ('PAGE_NULL', 'PAGE_NULL')]</td>\n",
       "      <td>2</td>\n",
       "      <td>[('PAGE_NULL', 2), ('breadcrumbClicked', 1)]</td>\n",
       "      <td>[((PAGE_NULL, PAGE_NULL), 2), ((breadcrumbClicked, 1), 1)]</td>\n",
       "      <td>['/jobseekers-allowance', '/']</td>\n",
       "      <td>/jobseekers-allowance&gt;&gt;/</td>\n",
       "      <td>39.0</td>\n",
       "      <td>0</td>\n",
       "      <td>2</td>\n",
       "      <td>True</td>\n",
       "    </tr>\n",
       "    <tr>\n",
       "      <th>10732</th>\n",
       "      <td>/settled-status-eu-citizens-families&lt;&lt;PAGE&lt;:&lt;NULL&lt;:&lt;NULL&gt;&gt;/settled-status-eu-citizens-families#fees&lt;&lt;EVENT&lt;:&lt;relatedLinkClicked&lt;:&lt;2.2 Explore the topic&gt;&gt;/browse/visas-immigration/settle-in-the-uk&lt;&lt;PAGE&lt;:&lt;NULL&lt;:&lt;NULL</td>\n",
       "      <td>/settled-status-eu-citizens-families&gt;&gt;/browse/visas-immigration/settle-in-the-uk</td>\n",
       "      <td>1</td>\n",
       "      <td>11.0</td>\n",
       "      <td>[('mobile', 1)]</td>\n",
       "      <td>[('20181031', 1)]</td>\n",
       "      <td>[('/settled-status-eu-citizens-families', 'PAGE&lt;:&lt;NULL&lt;:&lt;NULL'), ('/settled-status-eu-citizens-families#fees', 'EVENT&lt;:&lt;relatedLinkClicked&lt;:&lt;2.2 Explore the topic'), ('/browse/visas-immigration/settle-in-the-uk', 'PAGE&lt;:&lt;NULL&lt;:&lt;NULL')]</td>\n",
       "      <td>[/settled-status-eu-citizens-families, /browse/visas-immigration/settle-in-the-uk]</td>\n",
       "      <td>/settled-status-eu-citizens-families&gt;&gt;/browse/visas-immigration/settle-in-the-uk</td>\n",
       "      <td>[('PAGE_NULL', 'PAGE_NULL'), ('relatedLinkClicked', '2.2 Explore the topic'), ('PAGE_NULL', 'PAGE_NULL')]</td>\n",
       "      <td>2</td>\n",
       "      <td>[('PAGE_NULL', 2), ('relatedLinkClicked', 1)]</td>\n",
       "      <td>[((PAGE_NULL, PAGE_NULL), 2), ((relatedLinkClicked, 2.2 Explore the topic), 1)]</td>\n",
       "      <td>['/settled-status-eu-citizens-families', '/browse/visas-immigration/settle-in-the-uk']</td>\n",
       "      <td>/settled-status-eu-citizens-families&gt;&gt;/browse/visas-immigration/settle-in-the-uk</td>\n",
       "      <td>33.0</td>\n",
       "      <td>0</td>\n",
       "      <td>2</td>\n",
       "      <td>True</td>\n",
       "    </tr>\n",
       "    <tr>\n",
       "      <th>11002</th>\n",
       "      <td>/request-information-from-dvla&lt;&lt;PAGE&lt;:&lt;NULL&lt;:&lt;NULL&gt;&gt;/request-information-from-dvla&lt;&lt;EVENT&lt;:&lt;relatedLinkClicked&lt;:&lt;2.2 Explore the topic&gt;&gt;/browse/driving/vehicle-and-driver-information&lt;&lt;PAGE&lt;:&lt;NULL&lt;:&lt;NULL</td>\n",
       "      <td>/request-information-from-dvla&gt;&gt;/browse/driving/vehicle-and-driver-information</td>\n",
       "      <td>2</td>\n",
       "      <td>53.0</td>\n",
       "      <td>[('mobile', 1), ('desktop', 1)]</td>\n",
       "      <td>[('20181031', 1), ('20181102', 1)]</td>\n",
       "      <td>[('/request-information-from-dvla', 'PAGE&lt;:&lt;NULL&lt;:&lt;NULL'), ('/request-information-from-dvla', 'EVENT&lt;:&lt;relatedLinkClicked&lt;:&lt;2.2 Explore the topic'), ('/browse/driving/vehicle-and-driver-information', 'PAGE&lt;:&lt;NULL&lt;:&lt;NULL')]</td>\n",
       "      <td>[/request-information-from-dvla, /browse/driving/vehicle-and-driver-information]</td>\n",
       "      <td>/request-information-from-dvla&gt;&gt;/browse/driving/vehicle-and-driver-information</td>\n",
       "      <td>[('PAGE_NULL', 'PAGE_NULL'), ('relatedLinkClicked', '2.2 Explore the topic'), ('PAGE_NULL', 'PAGE_NULL')]</td>\n",
       "      <td>2</td>\n",
       "      <td>[('PAGE_NULL', 2), ('relatedLinkClicked', 1)]</td>\n",
       "      <td>[((PAGE_NULL, PAGE_NULL), 2), ((relatedLinkClicked, 2.2 Explore the topic), 1)]</td>\n",
       "      <td>['/request-information-from-dvla', '/browse/driving/vehicle-and-driver-information']</td>\n",
       "      <td>/request-information-from-dvla&gt;&gt;/browse/driving/vehicle-and-driver-information</td>\n",
       "      <td>163.0</td>\n",
       "      <td>0</td>\n",
       "      <td>2</td>\n",
       "      <td>True</td>\n",
       "    </tr>\n",
       "    <tr>\n",
       "      <th>11141</th>\n",
       "      <td>/free-school-transport&lt;&lt;PAGE&lt;:&lt;NULL&lt;:&lt;NULL&gt;&gt;/free-school-transport&lt;&lt;EVENT&lt;:&lt;relatedLinkClicked&lt;:&lt;2.1 Explore the topic&gt;&gt;/browse/childcare-parenting/financial-help-children&lt;&lt;PAGE&lt;:&lt;NULL&lt;:&lt;NULL</td>\n",
       "      <td>/free-school-transport&gt;&gt;/browse/childcare-parenting/financial-help-children</td>\n",
       "      <td>2</td>\n",
       "      <td>4.0</td>\n",
       "      <td>[('mobile', 2)]</td>\n",
       "      <td>[('20181031', 1), ('20181104', 1)]</td>\n",
       "      <td>[('/free-school-transport', 'PAGE&lt;:&lt;NULL&lt;:&lt;NULL'), ('/free-school-transport', 'EVENT&lt;:&lt;relatedLinkClicked&lt;:&lt;2.1 Explore the topic'), ('/browse/childcare-parenting/financial-help-children', 'PAGE&lt;:&lt;NULL&lt;:&lt;NULL')]</td>\n",
       "      <td>[/free-school-transport, /browse/childcare-parenting/financial-help-children]</td>\n",
       "      <td>/free-school-transport&gt;&gt;/browse/childcare-parenting/financial-help-children</td>\n",
       "      <td>[('PAGE_NULL', 'PAGE_NULL'), ('relatedLinkClicked', '2.1 Explore the topic'), ('PAGE_NULL', 'PAGE_NULL')]</td>\n",
       "      <td>2</td>\n",
       "      <td>[('PAGE_NULL', 2), ('relatedLinkClicked', 1)]</td>\n",
       "      <td>[((PAGE_NULL, PAGE_NULL), 2), ((relatedLinkClicked, 2.1 Explore the topic), 1)]</td>\n",
       "      <td>['/free-school-transport', '/browse/childcare-parenting/financial-help-children']</td>\n",
       "      <td>/free-school-transport&gt;&gt;/browse/childcare-parenting/financial-help-children</td>\n",
       "      <td>4.0</td>\n",
       "      <td>0</td>\n",
       "      <td>2</td>\n",
       "      <td>True</td>\n",
       "    </tr>\n",
       "    <tr>\n",
       "      <th>11265</th>\n",
       "      <td>/vat-rates&lt;&lt;PAGE&lt;:&lt;NULL&lt;:&lt;NULL&gt;&gt;/vat-rates&lt;&lt;EVENT&lt;:&lt;relatedLinkClicked&lt;:&lt;2.1 Explore the topic&gt;&gt;/browse/tax/vat&lt;&lt;PAGE&lt;:&lt;NULL&lt;:&lt;NULL</td>\n",
       "      <td>/vat-rates&gt;&gt;/browse/tax/vat</td>\n",
       "      <td>3</td>\n",
       "      <td>20.0</td>\n",
       "      <td>[('mobile', 2), ('desktop', 1), ('tablet', 1)]</td>\n",
       "      <td>[('20181031', 1), ('20181029', 2), ('20181104', 1)]</td>\n",
       "      <td>[('/vat-rates', 'PAGE&lt;:&lt;NULL&lt;:&lt;NULL'), ('/vat-rates', 'EVENT&lt;:&lt;relatedLinkClicked&lt;:&lt;2.1 Explore the topic'), ('/browse/tax/vat', 'PAGE&lt;:&lt;NULL&lt;:&lt;NULL')]</td>\n",
       "      <td>[/vat-rates, /browse/tax/vat]</td>\n",
       "      <td>/vat-rates&gt;&gt;/browse/tax/vat</td>\n",
       "      <td>[('PAGE_NULL', 'PAGE_NULL'), ('relatedLinkClicked', '2.1 Explore the topic'), ('PAGE_NULL', 'PAGE_NULL')]</td>\n",
       "      <td>2</td>\n",
       "      <td>[('PAGE_NULL', 2), ('relatedLinkClicked', 1)]</td>\n",
       "      <td>[((PAGE_NULL, PAGE_NULL), 2), ((relatedLinkClicked, 2.1 Explore the topic), 1)]</td>\n",
       "      <td>['/vat-rates', '/browse/tax/vat']</td>\n",
       "      <td>/vat-rates&gt;&gt;/browse/tax/vat</td>\n",
       "      <td>80.0</td>\n",
       "      <td>1</td>\n",
       "      <td>2</td>\n",
       "      <td>True</td>\n",
       "    </tr>\n",
       "    <tr>\n",
       "      <th>11282</th>\n",
       "      <td>/government/publications/travelling-to-the-eu-with-a-uk-passport-if-theres-no-brexit-deal/travelling-to-the-eu-with-a-uk-passport-if-theres-no-brexit-deal&lt;&lt;PAGE&lt;:&lt;NULL&lt;:&lt;NULL&gt;&gt;/government/publications/travelling-to-the-eu-with-a-uk-passport-if-theres-no-brexit-deal/travelling-to-the-eu-with-a-uk-passport-if-theres-no-brexit-deal&lt;&lt;EVENT&lt;:&lt;breadcrumbClicked&lt;:&lt;1&gt;&gt;/&lt;&lt;PAGE&lt;:&lt;NULL&lt;:&lt;NULL</td>\n",
       "      <td>/government/publications/travelling-to-the-eu-with-a-uk-passport-if-theres-no-brexit-deal/travelling-to-the-eu-with-a-uk-passport-if-theres-no-brexit-deal&gt;&gt;/</td>\n",
       "      <td>1</td>\n",
       "      <td>5.0</td>\n",
       "      <td>[('mobile', 1), ('tablet', 1)]</td>\n",
       "      <td>[('20181031', 1), ('20181104', 1)]</td>\n",
       "      <td>[('/government/publications/travelling-to-the-eu-with-a-uk-passport-if-theres-no-brexit-deal/travelling-to-the-eu-with-a-uk-passport-if-theres-no-brexit-deal', 'PAGE&lt;:&lt;NULL&lt;:&lt;NULL'), ('/government/publications/travelling-to-the-eu-with-a-uk-passport-if-theres-no-brexit-deal/travelling-to-the-eu-with-a-uk-passport-if-theres-no-brexit-deal', 'EVENT&lt;:&lt;breadcrumbClicked&lt;:&lt;1'), ('/', 'PAGE&lt;:&lt;NULL&lt;:&lt;NULL')]</td>\n",
       "      <td>[/government/publications/travelling-to-the-eu-with-a-uk-passport-if-theres-no-brexit-deal/travelling-to-the-eu-with-a-uk-passport-if-theres-no-brexit-deal, /]</td>\n",
       "      <td>/government/publications/travelling-to-the-eu-with-a-uk-passport-if-theres-no-brexit-deal/travelling-to-the-eu-with-a-uk-passport-if-theres-no-brexit-deal&gt;&gt;/</td>\n",
       "      <td>[('PAGE_NULL', 'PAGE_NULL'), ('breadcrumbClicked', '1'), ('PAGE_NULL', 'PAGE_NULL')]</td>\n",
       "      <td>2</td>\n",
       "      <td>[('PAGE_NULL', 2), ('breadcrumbClicked', 1)]</td>\n",
       "      <td>[((PAGE_NULL, PAGE_NULL), 2), ((breadcrumbClicked, 1), 1)]</td>\n",
       "      <td>['/government/publications/travelling-to-the-eu-with-a-uk-passport-if-theres-no-brexit-deal/travelling-to-the-eu-with-a-uk-passport-if-theres-no-brexit-deal', '/']</td>\n",
       "      <td>/government/publications/travelling-to-the-eu-with-a-uk-passport-if-theres-no-brexit-deal/travelling-to-the-eu-with-a-uk-passport-if-theres-no-brexit-deal&gt;&gt;/</td>\n",
       "      <td>10.0</td>\n",
       "      <td>1</td>\n",
       "      <td>2</td>\n",
       "      <td>True</td>\n",
       "    </tr>\n",
       "    <tr>\n",
       "      <th>11361</th>\n",
       "      <td>/browse/working/finding-job&lt;&lt;PAGE&lt;:&lt;NULL&lt;:&lt;NULL&gt;&gt;/jobsearch&lt;&lt;EVENT&lt;:&lt;breadcrumbClicked&lt;:&lt;1&gt;&gt;/&lt;&lt;PAGE&lt;:&lt;NULL&lt;:&lt;NULL</td>\n",
       "      <td>/browse/working/finding-job&gt;&gt;/</td>\n",
       "      <td>1</td>\n",
       "      <td>16.0</td>\n",
       "      <td>[('mobile', 1)]</td>\n",
       "      <td>[('20181031', 1)]</td>\n",
       "      <td>[('/browse/working/finding-job', 'PAGE&lt;:&lt;NULL&lt;:&lt;NULL'), ('/jobsearch', 'EVENT&lt;:&lt;breadcrumbClicked&lt;:&lt;1'), ('/', 'PAGE&lt;:&lt;NULL&lt;:&lt;NULL')]</td>\n",
       "      <td>[/browse/working/finding-job, /]</td>\n",
       "      <td>/browse/working/finding-job&gt;&gt;/</td>\n",
       "      <td>[('PAGE_NULL', 'PAGE_NULL'), ('breadcrumbClicked', '1'), ('PAGE_NULL', 'PAGE_NULL')]</td>\n",
       "      <td>2</td>\n",
       "      <td>[('PAGE_NULL', 2), ('breadcrumbClicked', 1)]</td>\n",
       "      <td>[((PAGE_NULL, PAGE_NULL), 2), ((breadcrumbClicked, 1), 1)]</td>\n",
       "      <td>['/browse/working/finding-job', '/']</td>\n",
       "      <td>/browse/working/finding-job&gt;&gt;/</td>\n",
       "      <td>80.0</td>\n",
       "      <td>0</td>\n",
       "      <td>2</td>\n",
       "      <td>True</td>\n",
       "    </tr>\n",
       "    <tr>\n",
       "      <th>11399</th>\n",
       "      <td>/government/publications/data-protection-act-dpa-information-hm-revenue-and-customs-hold-about-you&lt;&lt;PAGE&lt;:&lt;NULL&lt;:&lt;NULL&gt;&gt;/government/publications/data-protection-act-dpa-information-hm-revenue-and-customs-hold-about-you&lt;&lt;EVENT&lt;:&lt;breadcrumbClicked&lt;:&lt;4&gt;&gt;/money/income-tax&lt;&lt;PAGE&lt;:&lt;NULL&lt;:&lt;NULL</td>\n",
       "      <td>/government/publications/data-protection-act-dpa-information-hm-revenue-and-customs-hold-about-you&gt;&gt;/money/income-tax</td>\n",
       "      <td>2</td>\n",
       "      <td>5.0</td>\n",
       "      <td>[('mobile', 2)]</td>\n",
       "      <td>[('20181031', 1), ('20181102', 1)]</td>\n",
       "      <td>[('/government/publications/data-protection-act-dpa-information-hm-revenue-and-customs-hold-about-you', 'PAGE&lt;:&lt;NULL&lt;:&lt;NULL'), ('/government/publications/data-protection-act-dpa-information-hm-revenue-and-customs-hold-about-you', 'EVENT&lt;:&lt;breadcrumbClicked&lt;:&lt;4'), ('/money/income-tax', 'PAGE&lt;:&lt;NULL&lt;:&lt;NULL')]</td>\n",
       "      <td>[/government/publications/data-protection-act-dpa-information-hm-revenue-and-customs-hold-about-you, /money/income-tax]</td>\n",
       "      <td>/government/publications/data-protection-act-dpa-information-hm-revenue-and-customs-hold-about-you&gt;&gt;/money/income-tax</td>\n",
       "      <td>[('PAGE_NULL', 'PAGE_NULL'), ('breadcrumbClicked', '4'), ('PAGE_NULL', 'PAGE_NULL')]</td>\n",
       "      <td>2</td>\n",
       "      <td>[('PAGE_NULL', 2), ('breadcrumbClicked', 1)]</td>\n",
       "      <td>[((PAGE_NULL, PAGE_NULL), 2), ((breadcrumbClicked, 4), 1)]</td>\n",
       "      <td>['/government/publications/data-protection-act-dpa-information-hm-revenue-and-customs-hold-about-you', '/money/income-tax']</td>\n",
       "      <td>/government/publications/data-protection-act-dpa-information-hm-revenue-and-customs-hold-about-you&gt;&gt;/money/income-tax</td>\n",
       "      <td>10.0</td>\n",
       "      <td>0</td>\n",
       "      <td>2</td>\n",
       "      <td>True</td>\n",
       "    </tr>\n",
       "    <tr>\n",
       "      <th>11425</th>\n",
       "      <td>/government/organisations/uk-border-agency&lt;&lt;PAGE&lt;:&lt;NULL&lt;:&lt;NULL&gt;&gt;/government/organisations/uk-border-agency&lt;&lt;EVENT&lt;:&lt;breadcrumbClicked&lt;:&lt;2&gt;&gt;/government/organisations&lt;&lt;PAGE&lt;:&lt;NULL&lt;:&lt;NULL</td>\n",
       "      <td>/government/organisations/uk-border-agency&gt;&gt;/government/organisations</td>\n",
       "      <td>1</td>\n",
       "      <td>2.0</td>\n",
       "      <td>[('mobile', 1)]</td>\n",
       "      <td>[('20181031', 1)]</td>\n",
       "      <td>[('/government/organisations/uk-border-agency', 'PAGE&lt;:&lt;NULL&lt;:&lt;NULL'), ('/government/organisations/uk-border-agency', 'EVENT&lt;:&lt;breadcrumbClicked&lt;:&lt;2'), ('/government/organisations', 'PAGE&lt;:&lt;NULL&lt;:&lt;NULL')]</td>\n",
       "      <td>[/government/organisations/uk-border-agency, /government/organisations]</td>\n",
       "      <td>/government/organisations/uk-border-agency&gt;&gt;/government/organisations</td>\n",
       "      <td>[('PAGE_NULL', 'PAGE_NULL'), ('breadcrumbClicked', '2'), ('PAGE_NULL', 'PAGE_NULL')]</td>\n",
       "      <td>2</td>\n",
       "      <td>[('PAGE_NULL', 2), ('breadcrumbClicked', 1)]</td>\n",
       "      <td>[((PAGE_NULL, PAGE_NULL), 2), ((breadcrumbClicked, 2), 1)]</td>\n",
       "      <td>['/government/organisations/uk-border-agency', '/government/organisations']</td>\n",
       "      <td>/government/organisations/uk-border-agency&gt;&gt;/government/organisations</td>\n",
       "      <td>4.0</td>\n",
       "      <td>0</td>\n",
       "      <td>2</td>\n",
       "      <td>True</td>\n",
       "    </tr>\n",
       "    <tr>\n",
       "      <th>11463</th>\n",
       "      <td>/contact-hmrc&lt;&lt;PAGE&lt;:&lt;NULL&lt;:&lt;NULL&gt;&gt;/contact-hmrc&lt;&lt;EVENT&lt;:&lt;relatedLinkClicked&lt;:&lt;2.2 Explore the topic&gt;&gt;/topic/dealing-with-hmrc/complaints-appeals&lt;&lt;PAGE&lt;:&lt;NULL&lt;:&lt;NULL&gt;&gt;/contact-hmrc&lt;&lt;PAGE&lt;:&lt;NULL&lt;:&lt;NULL</td>\n",
       "      <td>/contact-hmrc&gt;&gt;/topic/dealing-with-hmrc/complaints-appeals&gt;&gt;/contact-hmrc</td>\n",
       "      <td>4</td>\n",
       "      <td>14.0</td>\n",
       "      <td>[('mobile', 2), ('desktop', 2)]</td>\n",
       "      <td>[('20181031', 1), ('20181102', 2), ('20181104', 1)]</td>\n",
       "      <td>[('/contact-hmrc', 'PAGE&lt;:&lt;NULL&lt;:&lt;NULL'), ('/contact-hmrc', 'EVENT&lt;:&lt;relatedLinkClicked&lt;:&lt;2.2 Explore the topic'), ('/topic/dealing-with-hmrc/complaints-appeals', 'PAGE&lt;:&lt;NULL&lt;:&lt;NULL'), ('/contact-hmrc', 'PAGE&lt;:&lt;NULL&lt;:&lt;NULL')]</td>\n",
       "      <td>[/contact-hmrc, /topic/dealing-with-hmrc/complaints-appeals, /contact-hmrc]</td>\n",
       "      <td>/contact-hmrc&gt;&gt;/topic/dealing-with-hmrc/complaints-appeals&gt;&gt;/contact-hmrc</td>\n",
       "      <td>[('PAGE_NULL', 'PAGE_NULL'), ('relatedLinkClicked', '2.2 Explore the topic'), ('PAGE_NULL', 'PAGE_NULL'), ('PAGE_NULL', 'PAGE_NULL')]</td>\n",
       "      <td>2</td>\n",
       "      <td>[('PAGE_NULL', 3), ('relatedLinkClicked', 1)]</td>\n",
       "      <td>[((PAGE_NULL, PAGE_NULL), 3), ((relatedLinkClicked, 2.2 Explore the topic), 1)]</td>\n",
       "      <td>['/contact-hmrc', '/topic/dealing-with-hmrc/complaints-appeals', '/contact-hmrc']</td>\n",
       "      <td>/contact-hmrc&gt;&gt;/topic/dealing-with-hmrc/complaints-appeals&gt;&gt;/contact-hmrc</td>\n",
       "      <td>42.0</td>\n",
       "      <td>0</td>\n",
       "      <td>3</td>\n",
       "      <td>True</td>\n",
       "    </tr>\n",
       "    <tr>\n",
       "      <th>...</th>\n",
       "      <td>...</td>\n",
       "      <td>...</td>\n",
       "      <td>...</td>\n",
       "      <td>...</td>\n",
       "      <td>...</td>\n",
       "      <td>...</td>\n",
       "      <td>...</td>\n",
       "      <td>...</td>\n",
       "      <td>...</td>\n",
       "      <td>...</td>\n",
       "      <td>...</td>\n",
       "      <td>...</td>\n",
       "      <td>...</td>\n",
       "      <td>...</td>\n",
       "      <td>...</td>\n",
       "      <td>...</td>\n",
       "      <td>...</td>\n",
       "      <td>...</td>\n",
       "      <td>...</td>\n",
       "    </tr>\n",
       "    <tr>\n",
       "      <th>2032789</th>\n",
       "      <td>/maximum-weekly-working-hours&lt;&lt;PAGE&lt;:&lt;NULL&lt;:&lt;NULL&gt;&gt;/maximum-weekly-working-hours&lt;&lt;EVENT&lt;:&lt;relatedLinkClicked&lt;:&lt;2.1 Explore the topic&gt;&gt;/browse/employing-people/contracts&lt;&lt;EVENT&lt;:&lt;user_satisfaction_survey&lt;:&lt;banner_shown&gt;&gt;/browse/employing-people/contracts&lt;&lt;PAGE&lt;:&lt;NULL&lt;:&lt;NULL&gt;&gt;/maximum-weekly-working-hours&lt;&lt;PAGE&lt;:&lt;NULL&lt;:&lt;NULL</td>\n",
       "      <td>/maximum-weekly-working-hours&gt;&gt;/browse/employing-people/contracts&gt;&gt;/maximum-weekly-working-hours</td>\n",
       "      <td>1</td>\n",
       "      <td>14.0</td>\n",
       "      <td>[('desktop', 1)]</td>\n",
       "      <td>[('20181104', 1)]</td>\n",
       "      <td>[('/maximum-weekly-working-hours', 'PAGE&lt;:&lt;NULL&lt;:&lt;NULL'), ('/maximum-weekly-working-hours', 'EVENT&lt;:&lt;relatedLinkClicked&lt;:&lt;2.1 Explore the topic'), ('/browse/employing-people/contracts', 'EVENT&lt;:&lt;user_satisfaction_survey&lt;:&lt;banner_shown'), ('/browse/employing-people/contracts', 'PAGE&lt;:&lt;NULL&lt;:&lt;NULL'), ('/maximum-weekly-working-hours', 'PAGE&lt;:&lt;NULL&lt;:&lt;NULL')]</td>\n",
       "      <td>[/maximum-weekly-working-hours, /browse/employing-people/contracts, /maximum-weekly-working-hours]</td>\n",
       "      <td>/maximum-weekly-working-hours&gt;&gt;/browse/employing-people/contracts&gt;&gt;/maximum-weekly-working-hours</td>\n",
       "      <td>[('PAGE_NULL', 'PAGE_NULL'), ('relatedLinkClicked', '2.1 Explore the topic'), ('user_satisfaction_survey', 'banner_shown'), ('PAGE_NULL', 'PAGE_NULL'), ('PAGE_NULL', 'PAGE_NULL')]</td>\n",
       "      <td>3</td>\n",
       "      <td>[('PAGE_NULL', 3), ('relatedLinkClicked', 1), ('user_satisfaction_survey', 1)]</td>\n",
       "      <td>[((PAGE_NULL, PAGE_NULL), 3), ((relatedLinkClicked, 2.1 Explore the topic), 1), ((user_satisfaction_survey, banner_shown), 1)]</td>\n",
       "      <td>['/maximum-weekly-working-hours', '/browse/employing-people/contracts', '/maximum-weekly-working-hours']</td>\n",
       "      <td>/maximum-weekly-working-hours&gt;&gt;/browse/employing-people/contracts&gt;&gt;/maximum-weekly-working-hours</td>\n",
       "      <td>42.0</td>\n",
       "      <td>0</td>\n",
       "      <td>3</td>\n",
       "      <td>True</td>\n",
       "    </tr>\n",
       "    <tr>\n",
       "      <th>2032867</th>\n",
       "      <td>/tax-overpayments-and-underpayments&lt;&lt;PAGE&lt;:&lt;NULL&lt;:&lt;NULL&gt;&gt;/tax-overpayments-and-underpayments&lt;&lt;EVENT&lt;:&lt;breadcrumbClicked&lt;:&lt;1&gt;&gt;/&lt;&lt;PAGE&lt;:&lt;NULL&lt;:&lt;NULL&gt;&gt;/personal-tax-account&lt;&lt;PAGE&lt;:&lt;NULL&lt;:&lt;NULL&gt;&gt;/personal-tax-account/sign-in/prove-identity&lt;&lt;PAGE&lt;:&lt;NULL&lt;:&lt;NULL&gt;&gt;/personal-tax-account/sign-in/prove-identity&lt;&lt;EVENT&lt;:&lt;Radio button chosen&lt;:&lt;sign-in-with-government-gateway</td>\n",
       "      <td>/tax-overpayments-and-underpayments&gt;&gt;/&gt;&gt;/personal-tax-account&gt;&gt;/personal-tax-account/sign-in/prove-identity</td>\n",
       "      <td>1</td>\n",
       "      <td>5.0</td>\n",
       "      <td>[('mobile', 1)]</td>\n",
       "      <td>[('20181104', 1)]</td>\n",
       "      <td>[('/tax-overpayments-and-underpayments', 'PAGE&lt;:&lt;NULL&lt;:&lt;NULL'), ('/tax-overpayments-and-underpayments', 'EVENT&lt;:&lt;breadcrumbClicked&lt;:&lt;1'), ('/', 'PAGE&lt;:&lt;NULL&lt;:&lt;NULL'), ('/personal-tax-account', 'PAGE&lt;:&lt;NULL&lt;:&lt;NULL'), ('/personal-tax-account/sign-in/prove-identity', 'PAGE&lt;:&lt;NULL&lt;:&lt;NULL'), ('/personal-tax-account/sign-in/prove-identity', 'EVENT&lt;:&lt;Radio button chosen&lt;:&lt;sign-in-with-government-gateway')]</td>\n",
       "      <td>[/tax-overpayments-and-underpayments, /, /personal-tax-account, /personal-tax-account/sign-in/prove-identity]</td>\n",
       "      <td>/tax-overpayments-and-underpayments&gt;&gt;/&gt;&gt;/personal-tax-account&gt;&gt;/personal-tax-account/sign-in/prove-identity</td>\n",
       "      <td>[('PAGE_NULL', 'PAGE_NULL'), ('breadcrumbClicked', '1'), ('PAGE_NULL', 'PAGE_NULL'), ('PAGE_NULL', 'PAGE_NULL'), ('PAGE_NULL', 'PAGE_NULL'), ('Radio button chosen', 'sign-in-with-government-gateway')]</td>\n",
       "      <td>3</td>\n",
       "      <td>[('PAGE_NULL', 4), ('breadcrumbClicked', 1), ('Radio button chosen', 1)]</td>\n",
       "      <td>[((PAGE_NULL, PAGE_NULL), 4), ((breadcrumbClicked, 1), 1), ((Radio button chosen, sign-in-with-government-gateway), 1)]</td>\n",
       "      <td>['/tax-overpayments-and-underpayments', '/', '/personal-tax-account', '/personal-tax-account/sign-in/prove-identity']</td>\n",
       "      <td>/tax-overpayments-and-underpayments&gt;&gt;/&gt;&gt;/personal-tax-account&gt;&gt;/personal-tax-account/sign-in/prove-identity</td>\n",
       "      <td>20.0</td>\n",
       "      <td>0</td>\n",
       "      <td>4</td>\n",
       "      <td>True</td>\n",
       "    </tr>\n",
       "    <tr>\n",
       "      <th>2032891</th>\n",
       "      <td>/government/organisations/hm-revenue-customs&lt;&lt;EVENT&lt;:&lt;user_satisfaction_survey&lt;:&lt;banner_shown&gt;&gt;/government/organisations/hm-revenue-customs&lt;&lt;PAGE&lt;:&lt;NULL&lt;:&lt;NULL&gt;&gt;/topic/dealing-with-hmrc/tax-agent-guidance&lt;&lt;PAGE&lt;:&lt;NULL&lt;:&lt;NULL&gt;&gt;/topic/dealing-with-hmrc/tax-agent-guidance&lt;&lt;EVENT&lt;:&lt;breadcrumbClicked&lt;:&lt;1&gt;&gt;/&lt;&lt;EVENT&lt;:&lt;user_satisfaction_survey&lt;:&lt;banner_shown&gt;&gt;/&lt;&lt;PAGE&lt;:&lt;NULL&lt;:&lt;NULL</td>\n",
       "      <td>/government/organisations/hm-revenue-customs&gt;&gt;/topic/dealing-with-hmrc/tax-agent-guidance&gt;&gt;/</td>\n",
       "      <td>1</td>\n",
       "      <td>3.0</td>\n",
       "      <td>[('desktop', 1)]</td>\n",
       "      <td>[('20181104', 1)]</td>\n",
       "      <td>[('/government/organisations/hm-revenue-customs', 'EVENT&lt;:&lt;user_satisfaction_survey&lt;:&lt;banner_shown'), ('/government/organisations/hm-revenue-customs', 'PAGE&lt;:&lt;NULL&lt;:&lt;NULL'), ('/topic/dealing-with-hmrc/tax-agent-guidance', 'PAGE&lt;:&lt;NULL&lt;:&lt;NULL'), ('/topic/dealing-with-hmrc/tax-agent-guidance', 'EVENT&lt;:&lt;breadcrumbClicked&lt;:&lt;1'), ('/', 'EVENT&lt;:&lt;user_satisfaction_survey&lt;:&lt;banner_shown'), ('/', 'PAGE&lt;:&lt;NULL&lt;:&lt;NULL')]</td>\n",
       "      <td>[/government/organisations/hm-revenue-customs, /topic/dealing-with-hmrc/tax-agent-guidance, /]</td>\n",
       "      <td>/government/organisations/hm-revenue-customs&gt;&gt;/topic/dealing-with-hmrc/tax-agent-guidance&gt;&gt;/</td>\n",
       "      <td>[('user_satisfaction_survey', 'banner_shown'), ('PAGE_NULL', 'PAGE_NULL'), ('PAGE_NULL', 'PAGE_NULL'), ('breadcrumbClicked', '1'), ('user_satisfaction_survey', 'banner_shown'), ('PAGE_NULL', 'PAGE_NULL')]</td>\n",
       "      <td>3</td>\n",
       "      <td>[('user_satisfaction_survey', 2), ('PAGE_NULL', 3), ('breadcrumbClicked', 1)]</td>\n",
       "      <td>[((user_satisfaction_survey, banner_shown), 2), ((PAGE_NULL, PAGE_NULL), 3), ((breadcrumbClicked, 1), 1)]</td>\n",
       "      <td>['/government/organisations/hm-revenue-customs', '/topic/dealing-with-hmrc/tax-agent-guidance', '/']</td>\n",
       "      <td>/government/organisations/hm-revenue-customs&gt;&gt;/topic/dealing-with-hmrc/tax-agent-guidance&gt;&gt;/</td>\n",
       "      <td>9.0</td>\n",
       "      <td>0</td>\n",
       "      <td>3</td>\n",
       "      <td>True</td>\n",
       "    </tr>\n",
       "    <tr>\n",
       "      <th>2032960</th>\n",
       "      <td>/renew-adult-passport&lt;&lt;PAGE&lt;:&lt;NULL&lt;:&lt;NULL&gt;&gt;/renew-adult-passport&lt;&lt;EVENT&lt;:&lt;breadcrumbClicked&lt;:&lt;2&gt;&gt;/browse/abroad&lt;&lt;PAGE&lt;:&lt;NULL&lt;:&lt;NULL&gt;&gt;/browse/abroad&lt;&lt;EVENT&lt;:&lt;secondLevelBrowseLinkClicked&lt;:&lt;2&gt;&gt;/browse/abroad/passports&lt;&lt;PAGE&lt;:&lt;NULL&lt;:&lt;NULL&gt;&gt;/browse/abroad&lt;&lt;EVENT&lt;:&lt;thirdLevelBrowseLinkClicked&lt;:&lt;1.5&gt;&gt;/get-a-child-passport&lt;&lt;PAGE&lt;:&lt;NULL&lt;:&lt;NULL&gt;&gt;/get-a-child-passport&lt;&lt;EVENT&lt;:&lt;user_satisfaction_survey&lt;:&lt;banner_shown&gt;&gt;/get-a-child-passport&lt;&lt;EVENT&lt;:&lt;contentsClicked&lt;:&lt;content_item 3&gt;&gt;/get-a-child-passpor...</td>\n",
       "      <td>/renew-adult-passport&gt;&gt;/browse/abroad&gt;&gt;/browse/abroad/passports&gt;&gt;/get-a-child-passport&gt;&gt;/get-a-child-passport/renew-a-child-passport&gt;&gt;/apply-renew-passport&gt;&gt;/passport-fees</td>\n",
       "      <td>1</td>\n",
       "      <td>2.0</td>\n",
       "      <td>[('desktop', 1)]</td>\n",
       "      <td>[('20181104', 1)]</td>\n",
       "      <td>[('/renew-adult-passport', 'PAGE&lt;:&lt;NULL&lt;:&lt;NULL'), ('/renew-adult-passport', 'EVENT&lt;:&lt;breadcrumbClicked&lt;:&lt;2'), ('/browse/abroad', 'PAGE&lt;:&lt;NULL&lt;:&lt;NULL'), ('/browse/abroad', 'EVENT&lt;:&lt;secondLevelBrowseLinkClicked&lt;:&lt;2'), ('/browse/abroad/passports', 'PAGE&lt;:&lt;NULL&lt;:&lt;NULL'), ('/browse/abroad', 'EVENT&lt;:&lt;thirdLevelBrowseLinkClicked&lt;:&lt;1.5'), ('/get-a-child-passport', 'PAGE&lt;:&lt;NULL&lt;:&lt;NULL'), ('/get-a-child-passport', 'EVENT&lt;:&lt;user_satisfaction_survey&lt;:&lt;banner_shown'), ('/get-a-child-passport', 'EVENT&lt;:&lt;c...</td>\n",
       "      <td>[/renew-adult-passport, /browse/abroad, /browse/abroad/passports, /get-a-child-passport, /get-a-child-passport/renew-a-child-passport, /apply-renew-passport, /passport-fees]</td>\n",
       "      <td>/renew-adult-passport&gt;&gt;/browse/abroad&gt;&gt;/browse/abroad/passports&gt;&gt;/get-a-child-passport&gt;&gt;/get-a-child-passport/renew-a-child-passport&gt;&gt;/apply-renew-passport&gt;&gt;/passport-fees</td>\n",
       "      <td>[('PAGE_NULL', 'PAGE_NULL'), ('breadcrumbClicked', '2'), ('PAGE_NULL', 'PAGE_NULL'), ('secondLevelBrowseLinkClicked', '2'), ('PAGE_NULL', 'PAGE_NULL'), ('thirdLevelBrowseLinkClicked', '1.5'), ('PAGE_NULL', 'PAGE_NULL'), ('user_satisfaction_survey', 'banner_shown'), ('contentsClicked', 'content_item 3'), ('PAGE_NULL', 'PAGE_NULL'), ('PAGE_NULL', 'PAGE_NULL'), ('relatedLinkClicked', '1.1 Related content'), ('PAGE_NULL', 'PAGE_NULL')]</td>\n",
       "      <td>7</td>\n",
       "      <td>[('PAGE_NULL', 7), ('breadcrumbClicked', 1), ('secondLevelBrowseLinkClicked', 1), ('thirdLevelBrowseLinkClicked', 1), ('user_satisfaction_survey', 1), ('contentsClicked', 1), ('relatedLinkClicked', 1)]</td>\n",
       "      <td>[((PAGE_NULL, PAGE_NULL), 7), ((breadcrumbClicked, 2), 1), ((secondLevelBrowseLinkClicked, 2), 1), ((thirdLevelBrowseLinkClicked, 1.5), 1), ((user_satisfaction_survey, banner_shown), 1), ((contentsClicked, content_item 3), 1), ((relatedLinkClicked, 1.1 Related content), 1)]</td>\n",
       "      <td>['/renew-adult-passport', '/browse/abroad', '/browse/abroad/passports', '/get-a-child-passport', '/get-a-child-passport/renew-a-child-passport', '/apply-renew-passport', '/passport-fees']</td>\n",
       "      <td>/renew-adult-passport&gt;&gt;/browse/abroad&gt;&gt;/browse/abroad/passports&gt;&gt;/get-a-child-passport&gt;&gt;/get-a-child-passport/renew-a-child-passport&gt;&gt;/apply-renew-passport&gt;&gt;/passport-fees</td>\n",
       "      <td>4.0</td>\n",
       "      <td>0</td>\n",
       "      <td>7</td>\n",
       "      <td>True</td>\n",
       "    </tr>\n",
       "    <tr>\n",
       "      <th>2033017</th>\n",
       "      <td>/take-on-an-apprentice&lt;&lt;PAGE&lt;:&lt;NULL&lt;:&lt;NULL&gt;&gt;/take-on-an-apprentice&lt;&lt;EVENT&lt;:&lt;relatedLinkClicked&lt;:&lt;1.1 Explore the topic&gt;&gt;/browse/education/find-course&lt;&lt;PAGE&lt;:&lt;NULL&lt;:&lt;NULL&gt;&gt;/browse/education/find-course&lt;&lt;EVENT&lt;:&lt;thirdLevelBrowseLinkClicked&lt;:&lt;1.15&gt;&gt;/apply-apprenticeship&lt;&lt;PAGE&lt;:&lt;NULL&lt;:&lt;NULL&gt;&gt;/apply-apprenticeship&lt;&lt;EVENT&lt;:&lt;External Link Clicked&lt;:&lt;https://www.findapprenticeship.service.gov.uk/apprenticeshipsearch</td>\n",
       "      <td>/take-on-an-apprentice&gt;&gt;/browse/education/find-course&gt;&gt;/apply-apprenticeship</td>\n",
       "      <td>1</td>\n",
       "      <td>2.0</td>\n",
       "      <td>[('mobile', 1)]</td>\n",
       "      <td>[('20181104', 1)]</td>\n",
       "      <td>[('/take-on-an-apprentice', 'PAGE&lt;:&lt;NULL&lt;:&lt;NULL'), ('/take-on-an-apprentice', 'EVENT&lt;:&lt;relatedLinkClicked&lt;:&lt;1.1 Explore the topic'), ('/browse/education/find-course', 'PAGE&lt;:&lt;NULL&lt;:&lt;NULL'), ('/browse/education/find-course', 'EVENT&lt;:&lt;thirdLevelBrowseLinkClicked&lt;:&lt;1.15'), ('/apply-apprenticeship', 'PAGE&lt;:&lt;NULL&lt;:&lt;NULL'), ('/apply-apprenticeship', 'EVENT&lt;:&lt;External Link Clicked&lt;:&lt;https://www.findapprenticeship.service.gov.uk/apprenticeshipsearch')]</td>\n",
       "      <td>[/take-on-an-apprentice, /browse/education/find-course, /apply-apprenticeship]</td>\n",
       "      <td>/take-on-an-apprentice&gt;&gt;/browse/education/find-course&gt;&gt;/apply-apprenticeship</td>\n",
       "      <td>[('PAGE_NULL', 'PAGE_NULL'), ('relatedLinkClicked', '1.1 Explore the topic'), ('PAGE_NULL', 'PAGE_NULL'), ('thirdLevelBrowseLinkClicked', '1.15'), ('PAGE_NULL', 'PAGE_NULL'), ('External Link Clicked', 'https://www.findapprenticeship.service.gov.uk/apprenticeshipsearch')]</td>\n",
       "      <td>4</td>\n",
       "      <td>[('PAGE_NULL', 3), ('relatedLinkClicked', 1), ('thirdLevelBrowseLinkClicked', 1), ('External Link Clicked', 1)]</td>\n",
       "      <td>[((PAGE_NULL, PAGE_NULL), 3), ((relatedLinkClicked, 1.1 Explore the topic), 1), ((thirdLevelBrowseLinkClicked, 1.15), 1), ((External Link Clicked, https://www.findapprenticeship.service.gov.uk/apprenticeshipsearch), 1)]</td>\n",
       "      <td>['/take-on-an-apprentice', '/browse/education/find-course', '/apply-apprenticeship']</td>\n",
       "      <td>/take-on-an-apprentice&gt;&gt;/browse/education/find-course&gt;&gt;/apply-apprenticeship</td>\n",
       "      <td>4.0</td>\n",
       "      <td>0</td>\n",
       "      <td>3</td>\n",
       "      <td>True</td>\n",
       "    </tr>\n",
       "    <tr>\n",
       "      <th>2033026</th>\n",
       "      <td>/overseas-passports&lt;&lt;PAGE&lt;:&lt;NULL&lt;:&lt;NULL&gt;&gt;/overseas-passports&lt;&lt;EVENT&lt;:&lt;breadcrumbClicked&lt;:&lt;2&gt;&gt;/browse/abroad&lt;&lt;PAGE&lt;:&lt;NULL&lt;:&lt;NULL&gt;&gt;/browse/abroad&lt;&lt;EVENT&lt;:&lt;secondLevelBrowseLinkClicked&lt;:&lt;2&gt;&gt;/browse/abroad/passports&lt;&lt;PAGE&lt;:&lt;NULL&lt;:&lt;NULL&gt;&gt;/browse/abroad&lt;&lt;EVENT&lt;:&lt;thirdLevelBrowseLinkClicked&lt;:&lt;1.1&gt;&gt;/apply-renew-passport&lt;&lt;PAGE&lt;:&lt;NULL&lt;:&lt;NULL&gt;&gt;/apply-renew-passport&lt;&lt;EVENT&lt;:&lt;External Link Clicked&lt;:&lt;https://www.passport.service.gov.uk/filter?_ga=2.200078382.1218615734.1541345378-141703274.1535206152</td>\n",
       "      <td>/overseas-passports&gt;&gt;/browse/abroad&gt;&gt;/browse/abroad/passports&gt;&gt;/apply-renew-passport</td>\n",
       "      <td>1</td>\n",
       "      <td>6.0</td>\n",
       "      <td>[('desktop', 1)]</td>\n",
       "      <td>[('20181104', 1)]</td>\n",
       "      <td>[('/overseas-passports', 'PAGE&lt;:&lt;NULL&lt;:&lt;NULL'), ('/overseas-passports', 'EVENT&lt;:&lt;breadcrumbClicked&lt;:&lt;2'), ('/browse/abroad', 'PAGE&lt;:&lt;NULL&lt;:&lt;NULL'), ('/browse/abroad', 'EVENT&lt;:&lt;secondLevelBrowseLinkClicked&lt;:&lt;2'), ('/browse/abroad/passports', 'PAGE&lt;:&lt;NULL&lt;:&lt;NULL'), ('/browse/abroad', 'EVENT&lt;:&lt;thirdLevelBrowseLinkClicked&lt;:&lt;1.1'), ('/apply-renew-passport', 'PAGE&lt;:&lt;NULL&lt;:&lt;NULL'), ('/apply-renew-passport', 'EVENT&lt;:&lt;External Link Clicked&lt;:&lt;https://www.passport.service.gov.uk/filter?_ga=2.200078382....</td>\n",
       "      <td>[/overseas-passports, /browse/abroad, /browse/abroad/passports, /apply-renew-passport]</td>\n",
       "      <td>/overseas-passports&gt;&gt;/browse/abroad&gt;&gt;/browse/abroad/passports&gt;&gt;/apply-renew-passport</td>\n",
       "      <td>[('PAGE_NULL', 'PAGE_NULL'), ('breadcrumbClicked', '2'), ('PAGE_NULL', 'PAGE_NULL'), ('secondLevelBrowseLinkClicked', '2'), ('PAGE_NULL', 'PAGE_NULL'), ('thirdLevelBrowseLinkClicked', '1.1'), ('PAGE_NULL', 'PAGE_NULL'), ('External Link Clicked', 'https://www.passport.service.gov.uk/filter?_ga=2.200078382.1218615734.1541345378-141703274.1535206152')]</td>\n",
       "      <td>5</td>\n",
       "      <td>[('PAGE_NULL', 4), ('breadcrumbClicked', 1), ('secondLevelBrowseLinkClicked', 1), ('thirdLevelBrowseLinkClicked', 1), ('External Link Clicked', 1)]</td>\n",
       "      <td>[((PAGE_NULL, PAGE_NULL), 4), ((breadcrumbClicked, 2), 1), ((secondLevelBrowseLinkClicked, 2), 1), ((thirdLevelBrowseLinkClicked, 1.1), 1), ((External Link Clicked, https://www.passport.service.gov.uk/filter?_ga=2.200078382.1218615734.1541345378-141703274.1535206152), 1)]</td>\n",
       "      <td>['/overseas-passports', '/browse/abroad', '/browse/abroad/passports', '/apply-renew-passport']</td>\n",
       "      <td>/overseas-passports&gt;&gt;/browse/abroad&gt;&gt;/browse/abroad/passports&gt;&gt;/apply-renew-passport</td>\n",
       "      <td>36.0</td>\n",
       "      <td>0</td>\n",
       "      <td>4</td>\n",
       "      <td>True</td>\n",
       "    </tr>\n",
       "    <tr>\n",
       "      <th>2033087</th>\n",
       "      <td>/pay-self-assessment-tax-bill&lt;&lt;PAGE&lt;:&lt;NULL&lt;:&lt;NULL&gt;&gt;/pay-self-assessment-tax-bill&lt;&lt;EVENT&lt;:&lt;user_satisfaction_survey&lt;:&lt;banner_shown&gt;&gt;/pay-self-assessment-tax-bill&lt;&lt;PAGE&lt;:&lt;NULL&lt;:&lt;NULL&gt;&gt;/pay-self-assessment-tax-bill&lt;&lt;EVENT&lt;:&lt;breadcrumbClicked&lt;:&lt;1&gt;&gt;/&lt;&lt;PAGE&lt;:&lt;NULL&lt;:&lt;NULL</td>\n",
       "      <td>/pay-self-assessment-tax-bill&gt;&gt;/pay-self-assessment-tax-bill&gt;&gt;/</td>\n",
       "      <td>1</td>\n",
       "      <td>2.0</td>\n",
       "      <td>[('desktop', 1)]</td>\n",
       "      <td>[('20181104', 1)]</td>\n",
       "      <td>[('/pay-self-assessment-tax-bill', 'PAGE&lt;:&lt;NULL&lt;:&lt;NULL'), ('/pay-self-assessment-tax-bill', 'EVENT&lt;:&lt;user_satisfaction_survey&lt;:&lt;banner_shown'), ('/pay-self-assessment-tax-bill', 'PAGE&lt;:&lt;NULL&lt;:&lt;NULL'), ('/pay-self-assessment-tax-bill', 'EVENT&lt;:&lt;breadcrumbClicked&lt;:&lt;1'), ('/', 'PAGE&lt;:&lt;NULL&lt;:&lt;NULL')]</td>\n",
       "      <td>[/pay-self-assessment-tax-bill, /pay-self-assessment-tax-bill, /]</td>\n",
       "      <td>/pay-self-assessment-tax-bill&gt;&gt;/pay-self-assessment-tax-bill&gt;&gt;/</td>\n",
       "      <td>[('PAGE_NULL', 'PAGE_NULL'), ('user_satisfaction_survey', 'banner_shown'), ('PAGE_NULL', 'PAGE_NULL'), ('breadcrumbClicked', '1'), ('PAGE_NULL', 'PAGE_NULL')]</td>\n",
       "      <td>3</td>\n",
       "      <td>[('PAGE_NULL', 3), ('user_satisfaction_survey', 1), ('breadcrumbClicked', 1)]</td>\n",
       "      <td>[((PAGE_NULL, PAGE_NULL), 3), ((user_satisfaction_survey, banner_shown), 1), ((breadcrumbClicked, 1), 1)]</td>\n",
       "      <td>['/pay-self-assessment-tax-bill', '/']</td>\n",
       "      <td>/pay-self-assessment-tax-bill&gt;&gt;/</td>\n",
       "      <td>824.0</td>\n",
       "      <td>0</td>\n",
       "      <td>3</td>\n",
       "      <td>True</td>\n",
       "    </tr>\n",
       "    <tr>\n",
       "      <th>2033213</th>\n",
       "      <td>/jobsearch&lt;&lt;PAGE&lt;:&lt;NULL&lt;:&lt;NULL&gt;&gt;/jobsearch&lt;&lt;EVENT&lt;:&lt;relatedLinkClicked&lt;:&lt;2.1 Explore the topic&gt;&gt;/browse/benefits/universal-credit&lt;&lt;PAGE&lt;:&lt;NULL&lt;:&lt;NULL&gt;&gt;/browse/benefits/universal-credit&lt;&lt;EVENT&lt;:&lt;thirdLevelBrowseLinkClicked&lt;:&lt;1.1&gt;&gt;/universal-credit&lt;&lt;PAGE&lt;:&lt;NULL&lt;:&lt;NULL&gt;&gt;/sign-in-universal-credit&lt;&lt;PAGE&lt;:&lt;NULL&lt;:&lt;NULL&gt;&gt;/sign-in-universal-credit&lt;&lt;EVENT&lt;:&lt;External Link Clicked&lt;:&lt;https://www.universal-credit.service.gov.uk/sign-in&gt;&gt;/jobsearch&lt;&lt;PAGE&lt;:&lt;NULL&lt;:&lt;NULL&gt;&gt;/jobsearch&lt;&lt;EVENT&lt;:&lt;user_satisfaction...</td>\n",
       "      <td>/jobsearch&gt;&gt;/browse/benefits/universal-credit&gt;&gt;/universal-credit&gt;&gt;/sign-in-universal-credit&gt;&gt;/jobsearch&gt;&gt;/browse/benefits/universal-credit&gt;&gt;/universal-credit&gt;&gt;/sign-in-universal-credit</td>\n",
       "      <td>1</td>\n",
       "      <td>2.0</td>\n",
       "      <td>[('desktop', 1)]</td>\n",
       "      <td>[('20181104', 1)]</td>\n",
       "      <td>[('/jobsearch', 'PAGE&lt;:&lt;NULL&lt;:&lt;NULL'), ('/jobsearch', 'EVENT&lt;:&lt;relatedLinkClicked&lt;:&lt;2.1 Explore the topic'), ('/browse/benefits/universal-credit', 'PAGE&lt;:&lt;NULL&lt;:&lt;NULL'), ('/browse/benefits/universal-credit', 'EVENT&lt;:&lt;thirdLevelBrowseLinkClicked&lt;:&lt;1.1'), ('/universal-credit', 'PAGE&lt;:&lt;NULL&lt;:&lt;NULL'), ('/sign-in-universal-credit', 'PAGE&lt;:&lt;NULL&lt;:&lt;NULL'), ('/sign-in-universal-credit', 'EVENT&lt;:&lt;External Link Clicked&lt;:&lt;https://www.universal-credit.service.gov.uk/sign-in'), ('/jobsearch', 'PAGE&lt;:&lt;NUL...</td>\n",
       "      <td>[/jobsearch, /browse/benefits/universal-credit, /universal-credit, /sign-in-universal-credit, /jobsearch, /browse/benefits/universal-credit, /universal-credit, /sign-in-universal-credit]</td>\n",
       "      <td>/jobsearch&gt;&gt;/browse/benefits/universal-credit&gt;&gt;/universal-credit&gt;&gt;/sign-in-universal-credit&gt;&gt;/jobsearch&gt;&gt;/browse/benefits/universal-credit&gt;&gt;/universal-credit&gt;&gt;/sign-in-universal-credit</td>\n",
       "      <td>[('PAGE_NULL', 'PAGE_NULL'), ('relatedLinkClicked', '2.1 Explore the topic'), ('PAGE_NULL', 'PAGE_NULL'), ('thirdLevelBrowseLinkClicked', '1.1'), ('PAGE_NULL', 'PAGE_NULL'), ('PAGE_NULL', 'PAGE_NULL'), ('External Link Clicked', 'https://www.universal-credit.service.gov.uk/sign-in'), ('PAGE_NULL', 'PAGE_NULL'), ('user_satisfaction_survey', 'banner_shown'), ('relatedLinkClicked', '2.1 Explore the topic'), ('PAGE_NULL', 'PAGE_NULL'), ('thirdLevelBrowseLinkClicked', '1.1'), ('PAGE_NULL', 'PAGE_N...</td>\n",
       "      <td>5</td>\n",
       "      <td>[('PAGE_NULL', 8), ('relatedLinkClicked', 2), ('thirdLevelBrowseLinkClicked', 2), ('External Link Clicked', 2), ('user_satisfaction_survey', 2)]</td>\n",
       "      <td>[((PAGE_NULL, PAGE_NULL), 8), ((relatedLinkClicked, 2.1 Explore the topic), 2), ((thirdLevelBrowseLinkClicked, 1.1), 2), ((External Link Clicked, https://www.universal-credit.service.gov.uk/sign-in), 2), ((user_satisfaction_survey, banner_shown), 2)]</td>\n",
       "      <td>['/jobsearch', '/browse/benefits/universal-credit', '/universal-credit', '/sign-in-universal-credit', '/jobsearch', '/browse/benefits/universal-credit', '/universal-credit', '/sign-in-universal-credit']</td>\n",
       "      <td>/jobsearch&gt;&gt;/browse/benefits/universal-credit&gt;&gt;/universal-credit&gt;&gt;/sign-in-universal-credit&gt;&gt;/jobsearch&gt;&gt;/browse/benefits/universal-credit&gt;&gt;/universal-credit&gt;&gt;/sign-in-universal-credit</td>\n",
       "      <td>4.0</td>\n",
       "      <td>0</td>\n",
       "      <td>8</td>\n",
       "      <td>True</td>\n",
       "    </tr>\n",
       "    <tr>\n",
       "      <th>2033869</th>\n",
       "      <td>/government/organisations/land-registry&lt;&lt;PAGE&lt;:&lt;NULL&lt;:&lt;NULL&gt;&gt;/government/organisations/land-registry#freedom-of-information&lt;&lt;EVENT&lt;:&lt;breadcrumbClicked&lt;:&lt;1&gt;&gt;/&lt;&lt;PAGE&lt;:&lt;NULL&lt;:&lt;NULL</td>\n",
       "      <td>/government/organisations/land-registry&gt;&gt;/</td>\n",
       "      <td>1</td>\n",
       "      <td>144.0</td>\n",
       "      <td>[('mobile', 1)]</td>\n",
       "      <td>[('20181104', 1)]</td>\n",
       "      <td>[('/government/organisations/land-registry', 'PAGE&lt;:&lt;NULL&lt;:&lt;NULL'), ('/government/organisations/land-registry#freedom-of-information', 'EVENT&lt;:&lt;breadcrumbClicked&lt;:&lt;1'), ('/', 'PAGE&lt;:&lt;NULL&lt;:&lt;NULL')]</td>\n",
       "      <td>[/government/organisations/land-registry, /]</td>\n",
       "      <td>/government/organisations/land-registry&gt;&gt;/</td>\n",
       "      <td>[('PAGE_NULL', 'PAGE_NULL'), ('breadcrumbClicked', '1'), ('PAGE_NULL', 'PAGE_NULL')]</td>\n",
       "      <td>2</td>\n",
       "      <td>[('PAGE_NULL', 2), ('breadcrumbClicked', 1)]</td>\n",
       "      <td>[((PAGE_NULL, PAGE_NULL), 2), ((breadcrumbClicked, 1), 1)]</td>\n",
       "      <td>['/government/organisations/land-registry', '/']</td>\n",
       "      <td>/government/organisations/land-registry&gt;&gt;/</td>\n",
       "      <td>2339.0</td>\n",
       "      <td>0</td>\n",
       "      <td>2</td>\n",
       "      <td>True</td>\n",
       "    </tr>\n",
       "    <tr>\n",
       "      <th>2033876</th>\n",
       "      <td>/driving-nongb-licence&lt;&lt;PAGE&lt;:&lt;NULL&lt;:&lt;NULL&gt;&gt;/driving-nongb-licence&lt;&lt;EVENT&lt;:&lt;relatedLinkClicked&lt;:&lt;2.1 Explore the topic&gt;&gt;/browse/driving/driving-licences&lt;&lt;PAGE&lt;:&lt;NULL&lt;:&lt;NULL</td>\n",
       "      <td>/driving-nongb-licence&gt;&gt;/browse/driving/driving-licences</td>\n",
       "      <td>1</td>\n",
       "      <td>2.0</td>\n",
       "      <td>[('mobile', 1)]</td>\n",
       "      <td>[('20181104', 1)]</td>\n",
       "      <td>[('/driving-nongb-licence', 'PAGE&lt;:&lt;NULL&lt;:&lt;NULL'), ('/driving-nongb-licence', 'EVENT&lt;:&lt;relatedLinkClicked&lt;:&lt;2.1 Explore the topic'), ('/browse/driving/driving-licences', 'PAGE&lt;:&lt;NULL&lt;:&lt;NULL')]</td>\n",
       "      <td>[/driving-nongb-licence, /browse/driving/driving-licences]</td>\n",
       "      <td>/driving-nongb-licence&gt;&gt;/browse/driving/driving-licences</td>\n",
       "      <td>[('PAGE_NULL', 'PAGE_NULL'), ('relatedLinkClicked', '2.1 Explore the topic'), ('PAGE_NULL', 'PAGE_NULL')]</td>\n",
       "      <td>2</td>\n",
       "      <td>[('PAGE_NULL', 2), ('relatedLinkClicked', 1)]</td>\n",
       "      <td>[((PAGE_NULL, PAGE_NULL), 2), ((relatedLinkClicked, 2.1 Explore the topic), 1)]</td>\n",
       "      <td>['/driving-nongb-licence', '/browse/driving/driving-licences']</td>\n",
       "      <td>/driving-nongb-licence&gt;&gt;/browse/driving/driving-licences</td>\n",
       "      <td>4.0</td>\n",
       "      <td>0</td>\n",
       "      <td>2</td>\n",
       "      <td>True</td>\n",
       "    </tr>\n",
       "    <tr>\n",
       "      <th>2034004</th>\n",
       "      <td>/government/organisations/hm-revenue-customs&lt;&lt;PAGE&lt;:&lt;NULL&lt;:&lt;NULL&gt;&gt;/government/organisations/hm-revenue-customs&lt;&lt;EVENT&lt;:&lt;breadcrumbClicked&lt;:&lt;3&gt;&gt;/&lt;&lt;PAGE&lt;:&lt;NULL&lt;:&lt;NULL&gt;&gt;/government/organisations/hm-revenue-customs&lt;&lt;PAGE&lt;:&lt;NULL&lt;:&lt;NULL&gt;&gt;/log-in-register-hmrc-online-services&lt;&lt;PAGE&lt;:&lt;NULL&lt;:&lt;NULL&gt;&gt;/log-in-register-hmrc-online-services&lt;&lt;EVENT&lt;:&lt;contentsClicked&lt;:&lt;content_item 2&gt;&gt;/log-in-register-hmrc-online-services/problems-signing-in&lt;&lt;PAGE&lt;:&lt;NULL&lt;:&lt;NULL&gt;&gt;/log-in-register-hmrc-online-services/problem...</td>\n",
       "      <td>/government/organisations/hm-revenue-customs&gt;&gt;/&gt;&gt;/government/organisations/hm-revenue-customs&gt;&gt;/log-in-register-hmrc-online-services&gt;&gt;/log-in-register-hmrc-online-services/problems-signing-in&gt;&gt;/log-in-register-hmrc-online-services</td>\n",
       "      <td>1</td>\n",
       "      <td>3.0</td>\n",
       "      <td>[('desktop', 1)]</td>\n",
       "      <td>[('20181104', 1)]</td>\n",
       "      <td>[('/government/organisations/hm-revenue-customs', 'PAGE&lt;:&lt;NULL&lt;:&lt;NULL'), ('/government/organisations/hm-revenue-customs', 'EVENT&lt;:&lt;breadcrumbClicked&lt;:&lt;3'), ('/', 'PAGE&lt;:&lt;NULL&lt;:&lt;NULL'), ('/government/organisations/hm-revenue-customs', 'PAGE&lt;:&lt;NULL&lt;:&lt;NULL'), ('/log-in-register-hmrc-online-services', 'PAGE&lt;:&lt;NULL&lt;:&lt;NULL'), ('/log-in-register-hmrc-online-services', 'EVENT&lt;:&lt;contentsClicked&lt;:&lt;content_item 2'), ('/log-in-register-hmrc-online-services/problems-signing-in', 'PAGE&lt;:&lt;NULL&lt;:&lt;NULL'), ('...</td>\n",
       "      <td>[/government/organisations/hm-revenue-customs, /, /government/organisations/hm-revenue-customs, /log-in-register-hmrc-online-services, /log-in-register-hmrc-online-services/problems-signing-in, /log-in-register-hmrc-online-services]</td>\n",
       "      <td>/government/organisations/hm-revenue-customs&gt;&gt;/&gt;&gt;/government/organisations/hm-revenue-customs&gt;&gt;/log-in-register-hmrc-online-services&gt;&gt;/log-in-register-hmrc-online-services/problems-signing-in&gt;&gt;/log-in-register-hmrc-online-services</td>\n",
       "      <td>[('PAGE_NULL', 'PAGE_NULL'), ('breadcrumbClicked', '3'), ('PAGE_NULL', 'PAGE_NULL'), ('PAGE_NULL', 'PAGE_NULL'), ('PAGE_NULL', 'PAGE_NULL'), ('contentsClicked', 'content_item 2'), ('PAGE_NULL', 'PAGE_NULL'), ('contentsClicked', 'previous'), ('PAGE_NULL', 'PAGE_NULL'), ('External Link Clicked', 'https://www.tax.service.gov.uk/account')]</td>\n",
       "      <td>4</td>\n",
       "      <td>[('PAGE_NULL', 6), ('breadcrumbClicked', 1), ('contentsClicked', 2), ('External Link Clicked', 1)]</td>\n",
       "      <td>[((PAGE_NULL, PAGE_NULL), 6), ((breadcrumbClicked, 3), 1), ((contentsClicked, content_item 2), 1), ((contentsClicked, previous), 1), ((External Link Clicked, https://www.tax.service.gov.uk/account), 1)]</td>\n",
       "      <td>['/government/organisations/hm-revenue-customs', '/', '/government/organisations/hm-revenue-customs', '/log-in-register-hmrc-online-services', '/log-in-register-hmrc-online-services/problems-signing-in', '/log-in-register-hmrc-online-services']</td>\n",
       "      <td>/government/organisations/hm-revenue-customs&gt;&gt;/&gt;&gt;/government/organisations/hm-revenue-customs&gt;&gt;/log-in-register-hmrc-online-services&gt;&gt;/log-in-register-hmrc-online-services/problems-signing-in&gt;&gt;/log-in-register-hmrc-online-services</td>\n",
       "      <td>9.0</td>\n",
       "      <td>0</td>\n",
       "      <td>6</td>\n",
       "      <td>True</td>\n",
       "    </tr>\n",
       "    <tr>\n",
       "      <th>2034006</th>\n",
       "      <td>/done/check-vehicle-tax&lt;&lt;PAGE&lt;:&lt;NULL&lt;:&lt;NULL&gt;&gt;/done/check-vehicle-tax&lt;&lt;EVENT&lt;:&lt;External Link Clicked&lt;:&lt;https://www.nationalarchives.gov.uk/information-management/re-using-public-sector-information/uk-government-licensing-framework/crown-copyright/&gt;&gt;/done/check-vehicle-tax&lt;&lt;EVENT&lt;:&lt;breadcrumbClicked&lt;:&lt;1&gt;&gt;/&lt;&lt;PAGE&lt;:&lt;NULL&lt;:&lt;NULL&gt;&gt;/browse/driving&lt;&lt;PAGE&lt;:&lt;NULL&lt;:&lt;NULL&gt;&gt;/browse/driving&lt;&lt;EVENT&lt;:&lt;secondLevelBrowseLinkClicked&lt;:&lt;2&gt;&gt;/browse/driving/vehicle-tax-mot-insurance&lt;&lt;PAGE&lt;:&lt;NULL&lt;:&lt;NULL&gt;&gt;/browse/dr...</td>\n",
       "      <td>/done/check-vehicle-tax&gt;&gt;/&gt;&gt;/browse/driving&gt;&gt;/browse/driving/vehicle-tax-mot-insurance&gt;&gt;/check-vehicle-tax</td>\n",
       "      <td>1</td>\n",
       "      <td>107.0</td>\n",
       "      <td>[('mobile', 1)]</td>\n",
       "      <td>[('20181104', 1)]</td>\n",
       "      <td>[('/done/check-vehicle-tax', 'PAGE&lt;:&lt;NULL&lt;:&lt;NULL'), ('/done/check-vehicle-tax', 'EVENT&lt;:&lt;External Link Clicked&lt;:&lt;https://www.nationalarchives.gov.uk/information-management/re-using-public-sector-information/uk-government-licensing-framework/crown-copyright/'), ('/done/check-vehicle-tax', 'EVENT&lt;:&lt;breadcrumbClicked&lt;:&lt;1'), ('/', 'PAGE&lt;:&lt;NULL&lt;:&lt;NULL'), ('/browse/driving', 'PAGE&lt;:&lt;NULL&lt;:&lt;NULL'), ('/browse/driving', 'EVENT&lt;:&lt;secondLevelBrowseLinkClicked&lt;:&lt;2'), ('/browse/driving/vehicle-tax-mot-in...</td>\n",
       "      <td>[/done/check-vehicle-tax, /, /browse/driving, /browse/driving/vehicle-tax-mot-insurance, /check-vehicle-tax]</td>\n",
       "      <td>/done/check-vehicle-tax&gt;&gt;/&gt;&gt;/browse/driving&gt;&gt;/browse/driving/vehicle-tax-mot-insurance&gt;&gt;/check-vehicle-tax</td>\n",
       "      <td>[('PAGE_NULL', 'PAGE_NULL'), ('External Link Clicked', 'https://www.nationalarchives.gov.uk/information-management/re-using-public-sector-information/uk-government-licensing-framework/crown-copyright/'), ('breadcrumbClicked', '1'), ('PAGE_NULL', 'PAGE_NULL'), ('PAGE_NULL', 'PAGE_NULL'), ('secondLevelBrowseLinkClicked', '2'), ('PAGE_NULL', 'PAGE_NULL'), ('thirdLevelBrowseLinkClicked', '1.3'), ('PAGE_NULL', 'PAGE_NULL'), ('External Link Clicked', 'https://www.vehicleenquiry.service.gov.uk')]</td>\n",
       "      <td>5</td>\n",
       "      <td>[('PAGE_NULL', 5), ('External Link Clicked', 2), ('breadcrumbClicked', 1), ('secondLevelBrowseLinkClicked', 1), ('thirdLevelBrowseLinkClicked', 1)]</td>\n",
       "      <td>[((PAGE_NULL, PAGE_NULL), 5), ((External Link Clicked, https://www.nationalarchives.gov.uk/information-management/re-using-public-sector-information/uk-government-licensing-framework/crown-copyright/), 1), ((breadcrumbClicked, 1), 1), ((secondLevelBrowseLinkClicked, 2), 1), ((thirdLevelBrowseLinkClicked, 1.3), 1), ((External Link Clicked, https://www.vehicleenquiry.service.gov.uk), 1)]</td>\n",
       "      <td>['/done/check-vehicle-tax', '/', '/browse/driving', '/browse/driving/vehicle-tax-mot-insurance', '/check-vehicle-tax']</td>\n",
       "      <td>/done/check-vehicle-tax&gt;&gt;/&gt;&gt;/browse/driving&gt;&gt;/browse/driving/vehicle-tax-mot-insurance&gt;&gt;/check-vehicle-tax</td>\n",
       "      <td>2144.0</td>\n",
       "      <td>0</td>\n",
       "      <td>5</td>\n",
       "      <td>True</td>\n",
       "    </tr>\n",
       "    <tr>\n",
       "      <th>2034014</th>\n",
       "      <td>/pay-dartford-crossing-charge&lt;&lt;PAGE&lt;:&lt;NULL&lt;:&lt;NULL&gt;&gt;/pay-dartford-crossing-charge&lt;&lt;PAGE&lt;:&lt;NULL&lt;:&lt;NULL&gt;&gt;/pay-dartford-crossing-charge&lt;&lt;EVENT&lt;:&lt;breadcrumbClicked&lt;:&lt;1&gt;&gt;/&lt;&lt;PAGE&lt;:&lt;NULL&lt;:&lt;NULL&gt;&gt;/pay-dartford-crossing-charge&lt;&lt;EVENT&lt;:&lt;External Link Clicked&lt;:&lt;https://www.dartford-crossing-charge.service.gov.uk/Home/Choose</td>\n",
       "      <td>/pay-dartford-crossing-charge&gt;&gt;/pay-dartford-crossing-charge&gt;&gt;/</td>\n",
       "      <td>1</td>\n",
       "      <td>92.0</td>\n",
       "      <td>[('mobile', 1)]</td>\n",
       "      <td>[('20181104', 1)]</td>\n",
       "      <td>[('/pay-dartford-crossing-charge', 'PAGE&lt;:&lt;NULL&lt;:&lt;NULL'), ('/pay-dartford-crossing-charge', 'PAGE&lt;:&lt;NULL&lt;:&lt;NULL'), ('/pay-dartford-crossing-charge', 'EVENT&lt;:&lt;breadcrumbClicked&lt;:&lt;1'), ('/', 'PAGE&lt;:&lt;NULL&lt;:&lt;NULL'), ('/pay-dartford-crossing-charge', 'EVENT&lt;:&lt;External Link Clicked&lt;:&lt;https://www.dartford-crossing-charge.service.gov.uk/Home/Choose')]</td>\n",
       "      <td>[/pay-dartford-crossing-charge, /pay-dartford-crossing-charge, /]</td>\n",
       "      <td>/pay-dartford-crossing-charge&gt;&gt;/pay-dartford-crossing-charge&gt;&gt;/</td>\n",
       "      <td>[('PAGE_NULL', 'PAGE_NULL'), ('PAGE_NULL', 'PAGE_NULL'), ('breadcrumbClicked', '1'), ('PAGE_NULL', 'PAGE_NULL'), ('External Link Clicked', 'https://www.dartford-crossing-charge.service.gov.uk/Home/Choose')]</td>\n",
       "      <td>3</td>\n",
       "      <td>[('PAGE_NULL', 3), ('breadcrumbClicked', 1), ('External Link Clicked', 1)]</td>\n",
       "      <td>[((PAGE_NULL, PAGE_NULL), 3), ((breadcrumbClicked, 1), 1), ((External Link Clicked, https://www.dartford-crossing-charge.service.gov.uk/Home/Choose), 1)]</td>\n",
       "      <td>['/pay-dartford-crossing-charge', '/']</td>\n",
       "      <td>/pay-dartford-crossing-charge&gt;&gt;/</td>\n",
       "      <td>13006.0</td>\n",
       "      <td>0</td>\n",
       "      <td>3</td>\n",
       "      <td>True</td>\n",
       "    </tr>\n",
       "    <tr>\n",
       "      <th>2034047</th>\n",
       "      <td>/child-car-seats-the-rules/when-a-child-can-travel-without-a-car-seat&lt;&lt;PAGE&lt;:&lt;NULL&lt;:&lt;NULL&gt;&gt;/child-car-seats-the-rules/when-a-child-can-travel-without-a-car-seat&lt;&lt;EVENT&lt;:&lt;relatedLinkClicked&lt;:&lt;2.1 Explore the topic&gt;&gt;/browse/driving/highway-code-road-safety&lt;&lt;PAGE&lt;:&lt;NULL&lt;:&lt;NULL&gt;&gt;/browse/driving/highway-code-road-safety&lt;&lt;EVENT&lt;:&lt;thirdLevelBrowseLinkClicked&lt;:&lt;2.9&gt;&gt;/child-car-seats-the-rules&lt;&lt;PAGE&lt;:&lt;NULL&lt;:&lt;NULL&gt;&gt;/child-car-seats-the-rules&lt;&lt;EVENT&lt;:&lt;contentsClicked&lt;:&lt;next&gt;&gt;/child-car-seats-the-rules/...</td>\n",
       "      <td>/child-car-seats-the-rules/when-a-child-can-travel-without-a-car-seat&gt;&gt;/browse/driving/highway-code-road-safety&gt;&gt;/child-car-seats-the-rules&gt;&gt;/child-car-seats-the-rules/when-a-child-can-travel-without-a-car-seat</td>\n",
       "      <td>1</td>\n",
       "      <td>2.0</td>\n",
       "      <td>[('mobile', 1)]</td>\n",
       "      <td>[('20181104', 1)]</td>\n",
       "      <td>[('/child-car-seats-the-rules/when-a-child-can-travel-without-a-car-seat', 'PAGE&lt;:&lt;NULL&lt;:&lt;NULL'), ('/child-car-seats-the-rules/when-a-child-can-travel-without-a-car-seat', 'EVENT&lt;:&lt;relatedLinkClicked&lt;:&lt;2.1 Explore the topic'), ('/browse/driving/highway-code-road-safety', 'PAGE&lt;:&lt;NULL&lt;:&lt;NULL'), ('/browse/driving/highway-code-road-safety', 'EVENT&lt;:&lt;thirdLevelBrowseLinkClicked&lt;:&lt;2.9'), ('/child-car-seats-the-rules', 'PAGE&lt;:&lt;NULL&lt;:&lt;NULL'), ('/child-car-seats-the-rules', 'EVENT&lt;:&lt;contentsClicked&lt;...</td>\n",
       "      <td>[/child-car-seats-the-rules/when-a-child-can-travel-without-a-car-seat, /browse/driving/highway-code-road-safety, /child-car-seats-the-rules, /child-car-seats-the-rules/when-a-child-can-travel-without-a-car-seat]</td>\n",
       "      <td>/child-car-seats-the-rules/when-a-child-can-travel-without-a-car-seat&gt;&gt;/browse/driving/highway-code-road-safety&gt;&gt;/child-car-seats-the-rules&gt;&gt;/child-car-seats-the-rules/when-a-child-can-travel-without-a-car-seat</td>\n",
       "      <td>[('PAGE_NULL', 'PAGE_NULL'), ('relatedLinkClicked', '2.1 Explore the topic'), ('PAGE_NULL', 'PAGE_NULL'), ('thirdLevelBrowseLinkClicked', '2.9'), ('PAGE_NULL', 'PAGE_NULL'), ('contentsClicked', 'next'), ('PAGE_NULL', 'PAGE_NULL')]</td>\n",
       "      <td>4</td>\n",
       "      <td>[('PAGE_NULL', 4), ('relatedLinkClicked', 1), ('thirdLevelBrowseLinkClicked', 1), ('contentsClicked', 1)]</td>\n",
       "      <td>[((PAGE_NULL, PAGE_NULL), 4), ((relatedLinkClicked, 2.1 Explore the topic), 1), ((thirdLevelBrowseLinkClicked, 2.9), 1), ((contentsClicked, next), 1)]</td>\n",
       "      <td>['/child-car-seats-the-rules/when-a-child-can-travel-without-a-car-seat', '/browse/driving/highway-code-road-safety', '/child-car-seats-the-rules', '/child-car-seats-the-rules/when-a-child-can-travel-without-a-car-seat']</td>\n",
       "      <td>/child-car-seats-the-rules/when-a-child-can-travel-without-a-car-seat&gt;&gt;/browse/driving/highway-code-road-safety&gt;&gt;/child-car-seats-the-rules&gt;&gt;/child-car-seats-the-rules/when-a-child-can-travel-without-a-car-seat</td>\n",
       "      <td>4.0</td>\n",
       "      <td>0</td>\n",
       "      <td>4</td>\n",
       "      <td>True</td>\n",
       "    </tr>\n",
       "    <tr>\n",
       "      <th>2034096</th>\n",
       "      <td>/foreign-travel-advice&lt;&lt;PAGE&lt;:&lt;NULL&lt;:&lt;NULL&gt;&gt;/foreign-travel-advice&lt;&lt;EVENT&lt;:&lt;breadcrumbClicked&lt;:&lt;2&gt;&gt;/browse/abroad&lt;&lt;PAGE&lt;:&lt;NULL&lt;:&lt;NULL&gt;&gt;/browse/abroad&lt;&lt;EVENT&lt;:&lt;user_satisfaction_survey&lt;:&lt;banner_shown&gt;&gt;/browse/abroad&lt;&lt;EVENT&lt;:&lt;secondLevelBrowseLinkClicked&lt;:&lt;2&gt;&gt;/browse/abroad/passports&lt;&lt;PAGE&lt;:&lt;NULL&lt;:&lt;NULL</td>\n",
       "      <td>/foreign-travel-advice&gt;&gt;/browse/abroad&gt;&gt;/browse/abroad/passports</td>\n",
       "      <td>1</td>\n",
       "      <td>5.0</td>\n",
       "      <td>[('desktop', 1)]</td>\n",
       "      <td>[('20181104', 1)]</td>\n",
       "      <td>[('/foreign-travel-advice', 'PAGE&lt;:&lt;NULL&lt;:&lt;NULL'), ('/foreign-travel-advice', 'EVENT&lt;:&lt;breadcrumbClicked&lt;:&lt;2'), ('/browse/abroad', 'PAGE&lt;:&lt;NULL&lt;:&lt;NULL'), ('/browse/abroad', 'EVENT&lt;:&lt;user_satisfaction_survey&lt;:&lt;banner_shown'), ('/browse/abroad', 'EVENT&lt;:&lt;secondLevelBrowseLinkClicked&lt;:&lt;2'), ('/browse/abroad/passports', 'PAGE&lt;:&lt;NULL&lt;:&lt;NULL')]</td>\n",
       "      <td>[/foreign-travel-advice, /browse/abroad, /browse/abroad/passports]</td>\n",
       "      <td>/foreign-travel-advice&gt;&gt;/browse/abroad&gt;&gt;/browse/abroad/passports</td>\n",
       "      <td>[('PAGE_NULL', 'PAGE_NULL'), ('breadcrumbClicked', '2'), ('PAGE_NULL', 'PAGE_NULL'), ('user_satisfaction_survey', 'banner_shown'), ('secondLevelBrowseLinkClicked', '2'), ('PAGE_NULL', 'PAGE_NULL')]</td>\n",
       "      <td>4</td>\n",
       "      <td>[('PAGE_NULL', 3), ('breadcrumbClicked', 1), ('user_satisfaction_survey', 1), ('secondLevelBrowseLinkClicked', 1)]</td>\n",
       "      <td>[((PAGE_NULL, PAGE_NULL), 3), ((breadcrumbClicked, 2), 1), ((user_satisfaction_survey, banner_shown), 1), ((secondLevelBrowseLinkClicked, 2), 1)]</td>\n",
       "      <td>['/foreign-travel-advice', '/browse/abroad', '/browse/abroad/passports']</td>\n",
       "      <td>/foreign-travel-advice&gt;&gt;/browse/abroad&gt;&gt;/browse/abroad/passports</td>\n",
       "      <td>10.0</td>\n",
       "      <td>0</td>\n",
       "      <td>3</td>\n",
       "      <td>True</td>\n",
       "    </tr>\n",
       "    <tr>\n",
       "      <th>2034164</th>\n",
       "      <td>/government/organisations/department-for-work-pensions&lt;&lt;PAGE&lt;:&lt;NULL&lt;:&lt;NULL&gt;&gt;/browse/benefits&lt;&lt;PAGE&lt;:&lt;NULL&lt;:&lt;NULL&gt;&gt;/browse/benefits&lt;&lt;EVENT&lt;:&lt;yesNoFeedbackForm&lt;:&lt;ffNoClick&gt;&gt;/&lt;&lt;PAGE&lt;:&lt;NULL&lt;:&lt;NULL&gt;&gt;/browse/benefits&lt;&lt;EVENT&lt;:&lt;breadcrumbClicked&lt;:&lt;1</td>\n",
       "      <td>/government/organisations/department-for-work-pensions&gt;&gt;/browse/benefits&gt;&gt;/</td>\n",
       "      <td>1</td>\n",
       "      <td>7.0</td>\n",
       "      <td>[('desktop', 1)]</td>\n",
       "      <td>[('20181104', 1)]</td>\n",
       "      <td>[('/government/organisations/department-for-work-pensions', 'PAGE&lt;:&lt;NULL&lt;:&lt;NULL'), ('/browse/benefits', 'PAGE&lt;:&lt;NULL&lt;:&lt;NULL'), ('/browse/benefits', 'EVENT&lt;:&lt;yesNoFeedbackForm&lt;:&lt;ffNoClick'), ('/', 'PAGE&lt;:&lt;NULL&lt;:&lt;NULL'), ('/browse/benefits', 'EVENT&lt;:&lt;breadcrumbClicked&lt;:&lt;1')]</td>\n",
       "      <td>[/government/organisations/department-for-work-pensions, /browse/benefits, /]</td>\n",
       "      <td>/government/organisations/department-for-work-pensions&gt;&gt;/browse/benefits&gt;&gt;/</td>\n",
       "      <td>[('PAGE_NULL', 'PAGE_NULL'), ('PAGE_NULL', 'PAGE_NULL'), ('yesNoFeedbackForm', 'ffNoClick'), ('PAGE_NULL', 'PAGE_NULL'), ('breadcrumbClicked', '1')]</td>\n",
       "      <td>3</td>\n",
       "      <td>[('PAGE_NULL', 3), ('yesNoFeedbackForm', 1), ('breadcrumbClicked', 1)]</td>\n",
       "      <td>[((PAGE_NULL, PAGE_NULL), 3), ((yesNoFeedbackForm, ffNoClick), 1), ((breadcrumbClicked, 1), 1)]</td>\n",
       "      <td>['/government/organisations/department-for-work-pensions', '/browse/benefits', '/']</td>\n",
       "      <td>/government/organisations/department-for-work-pensions&gt;&gt;/browse/benefits&gt;&gt;/</td>\n",
       "      <td>28.0</td>\n",
       "      <td>0</td>\n",
       "      <td>3</td>\n",
       "      <td>True</td>\n",
       "    </tr>\n",
       "    <tr>\n",
       "      <th>2034175</th>\n",
       "      <td>/vehicle-tax&lt;&lt;PAGE&lt;:&lt;NULL&lt;:&lt;NULL&gt;&gt;/vehicle-tax&lt;&lt;EVENT&lt;:&lt;breadcrumbClicked&lt;:&lt;1&gt;&gt;/&lt;&lt;PAGE&lt;:&lt;NULL&lt;:&lt;NULL&gt;&gt;/browse/benefits&lt;&lt;PAGE&lt;:&lt;NULL&lt;:&lt;NULL&gt;&gt;/browse/benefits&lt;&lt;EVENT&lt;:&lt;secondLevelBrowseLinkClicked&lt;:&lt;4&gt;&gt;/browse/benefits/jobseekers-allowance&lt;&lt;PAGE&lt;:&lt;NULL&lt;:&lt;NULL&gt;&gt;/browse/benefits&lt;&lt;EVENT&lt;:&lt;thirdLevelBrowseLinkClicked&lt;:&lt;1.16&gt;&gt;/jobseekers-allowance&lt;&lt;PAGE&lt;:&lt;NULL&lt;:&lt;NULL&gt;&gt;/jobseekers-allowance&lt;&lt;EVENT&lt;:&lt;contentsClicked&lt;:&lt;content_item 4&gt;&gt;/jobseekers-allowance/how-to-claim&lt;&lt;PAGE&lt;:&lt;NULL&lt;:&lt;NULL&gt;&gt;/jobseekers...</td>\n",
       "      <td>/vehicle-tax&gt;&gt;/&gt;&gt;/browse/benefits&gt;&gt;/browse/benefits/jobseekers-allowance&gt;&gt;/jobseekers-allowance&gt;&gt;/jobseekers-allowance/how-to-claim</td>\n",
       "      <td>1</td>\n",
       "      <td>7.0</td>\n",
       "      <td>[('desktop', 1)]</td>\n",
       "      <td>[('20181104', 1)]</td>\n",
       "      <td>[('/vehicle-tax', 'PAGE&lt;:&lt;NULL&lt;:&lt;NULL'), ('/vehicle-tax', 'EVENT&lt;:&lt;breadcrumbClicked&lt;:&lt;1'), ('/', 'PAGE&lt;:&lt;NULL&lt;:&lt;NULL'), ('/browse/benefits', 'PAGE&lt;:&lt;NULL&lt;:&lt;NULL'), ('/browse/benefits', 'EVENT&lt;:&lt;secondLevelBrowseLinkClicked&lt;:&lt;4'), ('/browse/benefits/jobseekers-allowance', 'PAGE&lt;:&lt;NULL&lt;:&lt;NULL'), ('/browse/benefits', 'EVENT&lt;:&lt;thirdLevelBrowseLinkClicked&lt;:&lt;1.16'), ('/jobseekers-allowance', 'PAGE&lt;:&lt;NULL&lt;:&lt;NULL'), ('/jobseekers-allowance', 'EVENT&lt;:&lt;contentsClicked&lt;:&lt;content_item 4'), ('/jobseeker...</td>\n",
       "      <td>[/vehicle-tax, /, /browse/benefits, /browse/benefits/jobseekers-allowance, /jobseekers-allowance, /jobseekers-allowance/how-to-claim]</td>\n",
       "      <td>/vehicle-tax&gt;&gt;/&gt;&gt;/browse/benefits&gt;&gt;/browse/benefits/jobseekers-allowance&gt;&gt;/jobseekers-allowance&gt;&gt;/jobseekers-allowance/how-to-claim</td>\n",
       "      <td>[('PAGE_NULL', 'PAGE_NULL'), ('breadcrumbClicked', '1'), ('PAGE_NULL', 'PAGE_NULL'), ('PAGE_NULL', 'PAGE_NULL'), ('secondLevelBrowseLinkClicked', '4'), ('PAGE_NULL', 'PAGE_NULL'), ('thirdLevelBrowseLinkClicked', '1.16'), ('PAGE_NULL', 'PAGE_NULL'), ('contentsClicked', 'content_item 4'), ('PAGE_NULL', 'PAGE_NULL'), ('External Link Clicked', 'https://www.dwpe-services.direct.gov.uk/en/jobseekersallowanceclaim')]</td>\n",
       "      <td>6</td>\n",
       "      <td>[('PAGE_NULL', 6), ('breadcrumbClicked', 1), ('secondLevelBrowseLinkClicked', 1), ('thirdLevelBrowseLinkClicked', 1), ('contentsClicked', 1), ('External Link Clicked', 1)]</td>\n",
       "      <td>[((PAGE_NULL, PAGE_NULL), 6), ((breadcrumbClicked, 1), 1), ((secondLevelBrowseLinkClicked, 4), 1), ((thirdLevelBrowseLinkClicked, 1.16), 1), ((contentsClicked, content_item 4), 1), ((External Link Clicked, https://www.dwpe-services.direct.gov.uk/en/jobseekersallowanceclaim), 1)]</td>\n",
       "      <td>['/vehicle-tax', '/', '/browse/benefits', '/browse/benefits/jobseekers-allowance', '/jobseekers-allowance', '/jobseekers-allowance/how-to-claim']</td>\n",
       "      <td>/vehicle-tax&gt;&gt;/&gt;&gt;/browse/benefits&gt;&gt;/browse/benefits/jobseekers-allowance&gt;&gt;/jobseekers-allowance&gt;&gt;/jobseekers-allowance/how-to-claim</td>\n",
       "      <td>49.0</td>\n",
       "      <td>0</td>\n",
       "      <td>6</td>\n",
       "      <td>True</td>\n",
       "    </tr>\n",
       "    <tr>\n",
       "      <th>2034229</th>\n",
       "      <td>/contact-the-dvla&lt;&lt;PAGE&lt;:&lt;NULL&lt;:&lt;NULL&gt;&gt;/contact-the-dvla&lt;&lt;EVENT&lt;:&lt;relatedLinkClicked&lt;:&lt;2.3 Explore the topic&gt;&gt;/browse/driving/number-plate&lt;&lt;PAGE&lt;:&lt;NULL&lt;:&lt;NULL&gt;&gt;/browse/driving/number-plate&lt;&lt;EVENT&lt;:&lt;secondLevelBrowseLinkClicked&lt;:&lt;4&gt;&gt;/browse/driving/number-plate&lt;&lt;EVENT&lt;:&lt;secondLevelBrowseLinkClicked&lt;:&lt;4&gt;&gt;/browse/driving/number-plate&lt;&lt;EVENT&lt;:&lt;thirdLevelBrowseLinkClicked&lt;:&lt;4.2&gt;&gt;/personalised-vehicle-registration-numbers&lt;&lt;PAGE&lt;:&lt;NULL&lt;:&lt;NULL&gt;&gt;/personalised-vehicle-registration-numbers&lt;&lt;EVENT&lt;:&lt;con...</td>\n",
       "      <td>/contact-the-dvla&gt;&gt;/browse/driving/number-plate&gt;&gt;/personalised-vehicle-registration-numbers&gt;&gt;/personalised-vehicle-registration-numbers/keep-or-assign</td>\n",
       "      <td>1</td>\n",
       "      <td>23.0</td>\n",
       "      <td>[('desktop', 1)]</td>\n",
       "      <td>[('20181104', 1)]</td>\n",
       "      <td>[('/contact-the-dvla', 'PAGE&lt;:&lt;NULL&lt;:&lt;NULL'), ('/contact-the-dvla', 'EVENT&lt;:&lt;relatedLinkClicked&lt;:&lt;2.3 Explore the topic'), ('/browse/driving/number-plate', 'PAGE&lt;:&lt;NULL&lt;:&lt;NULL'), ('/browse/driving/number-plate', 'EVENT&lt;:&lt;secondLevelBrowseLinkClicked&lt;:&lt;4'), ('/browse/driving/number-plate', 'EVENT&lt;:&lt;secondLevelBrowseLinkClicked&lt;:&lt;4'), ('/browse/driving/number-plate', 'EVENT&lt;:&lt;thirdLevelBrowseLinkClicked&lt;:&lt;4.2'), ('/personalised-vehicle-registration-numbers', 'PAGE&lt;:&lt;NULL&lt;:&lt;NULL'), ('/personali...</td>\n",
       "      <td>[/contact-the-dvla, /browse/driving/number-plate, /personalised-vehicle-registration-numbers, /personalised-vehicle-registration-numbers/keep-or-assign]</td>\n",
       "      <td>/contact-the-dvla&gt;&gt;/browse/driving/number-plate&gt;&gt;/personalised-vehicle-registration-numbers&gt;&gt;/personalised-vehicle-registration-numbers/keep-or-assign</td>\n",
       "      <td>[('PAGE_NULL', 'PAGE_NULL'), ('relatedLinkClicked', '2.3 Explore the topic'), ('PAGE_NULL', 'PAGE_NULL'), ('secondLevelBrowseLinkClicked', '4'), ('secondLevelBrowseLinkClicked', '4'), ('thirdLevelBrowseLinkClicked', '4.2'), ('PAGE_NULL', 'PAGE_NULL'), ('contentsClicked', 'content_item 3'), ('PAGE_NULL', 'PAGE_NULL'), ('External Link Clicked', 'https://www.personalisedvehicleregistration.service.gov.uk/assign/vehicle-lookup')]</td>\n",
       "      <td>6</td>\n",
       "      <td>[('PAGE_NULL', 4), ('relatedLinkClicked', 1), ('secondLevelBrowseLinkClicked', 2), ('thirdLevelBrowseLinkClicked', 1), ('contentsClicked', 1), ('External Link Clicked', 1)]</td>\n",
       "      <td>[((PAGE_NULL, PAGE_NULL), 4), ((relatedLinkClicked, 2.3 Explore the topic), 1), ((secondLevelBrowseLinkClicked, 4), 2), ((thirdLevelBrowseLinkClicked, 4.2), 1), ((contentsClicked, content_item 3), 1), ((External Link Clicked, https://www.personalisedvehicleregistration.service.gov.uk/assign/vehicle-lookup), 1)]</td>\n",
       "      <td>['/contact-the-dvla', '/browse/driving/number-plate', '/personalised-vehicle-registration-numbers', '/personalised-vehicle-registration-numbers/keep-or-assign']</td>\n",
       "      <td>/contact-the-dvla&gt;&gt;/browse/driving/number-plate&gt;&gt;/personalised-vehicle-registration-numbers&gt;&gt;/personalised-vehicle-registration-numbers/keep-or-assign</td>\n",
       "      <td>161.0</td>\n",
       "      <td>0</td>\n",
       "      <td>4</td>\n",
       "      <td>True</td>\n",
       "    </tr>\n",
       "    <tr>\n",
       "      <th>2034370</th>\n",
       "      <td>/government/organisations/department-of-energy-climate-change&lt;&lt;PAGE&lt;:&lt;NULL&lt;:&lt;NULL&gt;&gt;/government/organisations/department-of-energy-climate-change&lt;&lt;EVENT&lt;:&lt;breadcrumbClicked&lt;:&lt;3&gt;&gt;/government/organisations/department-for-business-energy-and-industrial-strategy&lt;&lt;PAGE&lt;:&lt;NULL&lt;:&lt;NULL&gt;&gt;/government/organisations/department-of-energy-climate-change&lt;&lt;PAGE&lt;:&lt;NULL&lt;:&lt;NULL&gt;&gt;/government/organisations/department-for-business-energy-and-industrial-strategy&lt;&lt;PAGE&lt;:&lt;NULL&lt;:&lt;NULL</td>\n",
       "      <td>/government/organisations/department-of-energy-climate-change&gt;&gt;/government/organisations/department-for-business-energy-and-industrial-strategy&gt;&gt;/government/organisations/department-of-energy-climate-change&gt;&gt;/government/organisations/department-for-business-energy-and-industrial-strategy</td>\n",
       "      <td>1</td>\n",
       "      <td>2.0</td>\n",
       "      <td>[('mobile', 1)]</td>\n",
       "      <td>[('20181104', 1)]</td>\n",
       "      <td>[('/government/organisations/department-of-energy-climate-change', 'PAGE&lt;:&lt;NULL&lt;:&lt;NULL'), ('/government/organisations/department-of-energy-climate-change', 'EVENT&lt;:&lt;breadcrumbClicked&lt;:&lt;3'), ('/government/organisations/department-for-business-energy-and-industrial-strategy', 'PAGE&lt;:&lt;NULL&lt;:&lt;NULL'), ('/government/organisations/department-of-energy-climate-change', 'PAGE&lt;:&lt;NULL&lt;:&lt;NULL'), ('/government/organisations/department-for-business-energy-and-industrial-strategy', 'PAGE&lt;:&lt;NULL&lt;:&lt;NULL')]</td>\n",
       "      <td>[/government/organisations/department-of-energy-climate-change, /government/organisations/department-for-business-energy-and-industrial-strategy, /government/organisations/department-of-energy-climate-change, /government/organisations/department-for-business-energy-and-industrial-strategy]</td>\n",
       "      <td>/government/organisations/department-of-energy-climate-change&gt;&gt;/government/organisations/department-for-business-energy-and-industrial-strategy&gt;&gt;/government/organisations/department-of-energy-climate-change&gt;&gt;/government/organisations/department-for-business-energy-and-industrial-strategy</td>\n",
       "      <td>[('PAGE_NULL', 'PAGE_NULL'), ('breadcrumbClicked', '3'), ('PAGE_NULL', 'PAGE_NULL'), ('PAGE_NULL', 'PAGE_NULL'), ('PAGE_NULL', 'PAGE_NULL')]</td>\n",
       "      <td>2</td>\n",
       "      <td>[('PAGE_NULL', 4), ('breadcrumbClicked', 1)]</td>\n",
       "      <td>[((PAGE_NULL, PAGE_NULL), 4), ((breadcrumbClicked, 3), 1)]</td>\n",
       "      <td>['/government/organisations/department-of-energy-climate-change', '/government/organisations/department-for-business-energy-and-industrial-strategy', '/government/organisations/department-of-energy-climate-change', '/government/organisations/department-for-business-energy-and-industrial-strategy']</td>\n",
       "      <td>/government/organisations/department-of-energy-climate-change&gt;&gt;/government/organisations/department-for-business-energy-and-industrial-strategy&gt;&gt;/government/organisations/department-of-energy-climate-change&gt;&gt;/government/organisations/department-for-business-energy-and-industrial-strategy</td>\n",
       "      <td>4.0</td>\n",
       "      <td>0</td>\n",
       "      <td>4</td>\n",
       "      <td>True</td>\n",
       "    </tr>\n",
       "    <tr>\n",
       "      <th>2034571</th>\n",
       "      <td>/vehicle-tax&lt;&lt;PAGE&lt;:&lt;NULL&lt;:&lt;NULL&gt;&gt;/vehicle-tax&lt;&lt;EVENT&lt;:&lt;relatedLinkClicked&lt;:&lt;1.5 Related content&gt;&gt;/calculate-vehicle-tax-rates&lt;&lt;PAGE&lt;:&lt;NULL&lt;:&lt;NULL&gt;&gt;/vehicle-tax-rate-tables&lt;&lt;PAGE&lt;:&lt;NULL&lt;:&lt;NULL&gt;&gt;/vehicle-tax-rate-tables&lt;&lt;EVENT&lt;:&lt;breadcrumbClicked&lt;:&lt;3&gt;&gt;/browse/driving/vehicle-tax-mot-insurance&lt;&lt;PAGE&lt;:&lt;NULL&lt;:&lt;NULL&gt;&gt;/browse/driving/vehicle-tax-mot-insurance&lt;&lt;EVENT&lt;:&lt;thirdLevelBrowseLinkClicked&lt;:&lt;1.1&gt;&gt;/vehicle-tax&lt;&lt;PAGE&lt;:&lt;NULL&lt;:&lt;NULL&gt;&gt;/vehicle-tax&lt;&lt;EVENT&lt;:&lt;External Link Clicked&lt;:&lt;https://www.vehi...</td>\n",
       "      <td>/vehicle-tax&gt;&gt;/calculate-vehicle-tax-rates&gt;&gt;/vehicle-tax-rate-tables&gt;&gt;/browse/driving/vehicle-tax-mot-insurance&gt;&gt;/vehicle-tax</td>\n",
       "      <td>1</td>\n",
       "      <td>2.0</td>\n",
       "      <td>[('desktop', 1)]</td>\n",
       "      <td>[('20181104', 1)]</td>\n",
       "      <td>[('/vehicle-tax', 'PAGE&lt;:&lt;NULL&lt;:&lt;NULL'), ('/vehicle-tax', 'EVENT&lt;:&lt;relatedLinkClicked&lt;:&lt;1.5 Related content'), ('/calculate-vehicle-tax-rates', 'PAGE&lt;:&lt;NULL&lt;:&lt;NULL'), ('/vehicle-tax-rate-tables', 'PAGE&lt;:&lt;NULL&lt;:&lt;NULL'), ('/vehicle-tax-rate-tables', 'EVENT&lt;:&lt;breadcrumbClicked&lt;:&lt;3'), ('/browse/driving/vehicle-tax-mot-insurance', 'PAGE&lt;:&lt;NULL&lt;:&lt;NULL'), ('/browse/driving/vehicle-tax-mot-insurance', 'EVENT&lt;:&lt;thirdLevelBrowseLinkClicked&lt;:&lt;1.1'), ('/vehicle-tax', 'PAGE&lt;:&lt;NULL&lt;:&lt;NULL'), ('/vehicle-ta...</td>\n",
       "      <td>[/vehicle-tax, /calculate-vehicle-tax-rates, /vehicle-tax-rate-tables, /browse/driving/vehicle-tax-mot-insurance, /vehicle-tax]</td>\n",
       "      <td>/vehicle-tax&gt;&gt;/calculate-vehicle-tax-rates&gt;&gt;/vehicle-tax-rate-tables&gt;&gt;/browse/driving/vehicle-tax-mot-insurance&gt;&gt;/vehicle-tax</td>\n",
       "      <td>[('PAGE_NULL', 'PAGE_NULL'), ('relatedLinkClicked', '1.5 Related content'), ('PAGE_NULL', 'PAGE_NULL'), ('PAGE_NULL', 'PAGE_NULL'), ('breadcrumbClicked', '3'), ('PAGE_NULL', 'PAGE_NULL'), ('thirdLevelBrowseLinkClicked', '1.1'), ('PAGE_NULL', 'PAGE_NULL'), ('External Link Clicked', 'https://www.vehicletax.service.gov.uk')]</td>\n",
       "      <td>5</td>\n",
       "      <td>[('PAGE_NULL', 5), ('relatedLinkClicked', 1), ('breadcrumbClicked', 1), ('thirdLevelBrowseLinkClicked', 1), ('External Link Clicked', 1)]</td>\n",
       "      <td>[((PAGE_NULL, PAGE_NULL), 5), ((relatedLinkClicked, 1.5 Related content), 1), ((breadcrumbClicked, 3), 1), ((thirdLevelBrowseLinkClicked, 1.1), 1), ((External Link Clicked, https://www.vehicletax.service.gov.uk), 1)]</td>\n",
       "      <td>['/vehicle-tax', '/calculate-vehicle-tax-rates', '/vehicle-tax-rate-tables', '/browse/driving/vehicle-tax-mot-insurance', '/vehicle-tax']</td>\n",
       "      <td>/vehicle-tax&gt;&gt;/calculate-vehicle-tax-rates&gt;&gt;/vehicle-tax-rate-tables&gt;&gt;/browse/driving/vehicle-tax-mot-insurance&gt;&gt;/vehicle-tax</td>\n",
       "      <td>4.0</td>\n",
       "      <td>0</td>\n",
       "      <td>5</td>\n",
       "      <td>True</td>\n",
       "    </tr>\n",
       "    <tr>\n",
       "      <th>2034623</th>\n",
       "      <td>/check-mot-history&lt;&lt;PAGE&lt;:&lt;NULL&lt;:&lt;NULL&gt;&gt;/check-mot-history&lt;&lt;EVENT&lt;:&lt;External Link Clicked&lt;:&lt;https://www.check-mot.service.gov.uk/?_ga=2.126499853.1457453991.1541338335-103525021.1498999994&gt;&gt;/check-mot-history&lt;&lt;EVENT&lt;:&lt;breadcrumbClicked&lt;:&lt;3&gt;&gt;/browse/driving/vehicle-tax-mot-insurance&lt;&lt;PAGE&lt;:&lt;NULL&lt;:&lt;NULL&gt;&gt;/browse/driving/vehicle-tax-mot-insurance&lt;&lt;EVENT&lt;:&lt;thirdLevelBrowseLinkClicked&lt;:&lt;1.3&gt;&gt;/check-vehicle-tax&lt;&lt;PAGE&lt;:&lt;NULL&lt;:&lt;NULL&gt;&gt;/check-vehicle-tax&lt;&lt;EVENT&lt;:&lt;External Link Clicked&lt;:&lt;https://www.ve...</td>\n",
       "      <td>/check-mot-history&gt;&gt;/browse/driving/vehicle-tax-mot-insurance&gt;&gt;/check-vehicle-tax</td>\n",
       "      <td>1</td>\n",
       "      <td>821.0</td>\n",
       "      <td>[('mobile', 1)]</td>\n",
       "      <td>[('20181104', 1)]</td>\n",
       "      <td>[('/check-mot-history', 'PAGE&lt;:&lt;NULL&lt;:&lt;NULL'), ('/check-mot-history', 'EVENT&lt;:&lt;External Link Clicked&lt;:&lt;https://www.check-mot.service.gov.uk/?_ga=2.126499853.1457453991.1541338335-103525021.1498999994'), ('/check-mot-history', 'EVENT&lt;:&lt;breadcrumbClicked&lt;:&lt;3'), ('/browse/driving/vehicle-tax-mot-insurance', 'PAGE&lt;:&lt;NULL&lt;:&lt;NULL'), ('/browse/driving/vehicle-tax-mot-insurance', 'EVENT&lt;:&lt;thirdLevelBrowseLinkClicked&lt;:&lt;1.3'), ('/check-vehicle-tax', 'PAGE&lt;:&lt;NULL&lt;:&lt;NULL'), ('/check-vehicle-tax', 'EVENT...</td>\n",
       "      <td>[/check-mot-history, /browse/driving/vehicle-tax-mot-insurance, /check-vehicle-tax]</td>\n",
       "      <td>/check-mot-history&gt;&gt;/browse/driving/vehicle-tax-mot-insurance&gt;&gt;/check-vehicle-tax</td>\n",
       "      <td>[('PAGE_NULL', 'PAGE_NULL'), ('External Link Clicked', 'https://www.check-mot.service.gov.uk/?_ga=2.126499853.1457453991.1541338335-103525021.1498999994'), ('breadcrumbClicked', '3'), ('PAGE_NULL', 'PAGE_NULL'), ('thirdLevelBrowseLinkClicked', '1.3'), ('PAGE_NULL', 'PAGE_NULL'), ('External Link Clicked', 'https://www.vehicleenquiry.service.gov.uk')]</td>\n",
       "      <td>4</td>\n",
       "      <td>[('PAGE_NULL', 3), ('External Link Clicked', 2), ('breadcrumbClicked', 1), ('thirdLevelBrowseLinkClicked', 1)]</td>\n",
       "      <td>[((PAGE_NULL, PAGE_NULL), 3), ((External Link Clicked, https://www.check-mot.service.gov.uk/?_ga=2.126499853.1457453991.1541338335-103525021.1498999994), 1), ((breadcrumbClicked, 3), 1), ((thirdLevelBrowseLinkClicked, 1.3), 1), ((External Link Clicked, https://www.vehicleenquiry.service.gov.uk), 1)]</td>\n",
       "      <td>['/check-mot-history', '/browse/driving/vehicle-tax-mot-insurance', '/check-vehicle-tax']</td>\n",
       "      <td>/check-mot-history&gt;&gt;/browse/driving/vehicle-tax-mot-insurance&gt;&gt;/check-vehicle-tax</td>\n",
       "      <td>186661.0</td>\n",
       "      <td>0</td>\n",
       "      <td>3</td>\n",
       "      <td>True</td>\n",
       "    </tr>\n",
       "    <tr>\n",
       "      <th>2034759</th>\n",
       "      <td>/topic/further-education-skills/apprenticeships&lt;&lt;PAGE&lt;:&lt;NULL&lt;:&lt;NULL&gt;&gt;/topic/further-education-skills/apprenticeships&lt;&lt;EVENT&lt;:&lt;yesNoFeedbackForm&lt;:&lt;ffYesClick&gt;&gt;/topic/further-education-skills/apprenticeships&lt;&lt;EVENT&lt;:&lt;breadcrumbClicked&lt;:&lt;1&gt;&gt;/&lt;&lt;PAGE&lt;:&lt;NULL&lt;:&lt;NULL</td>\n",
       "      <td>/topic/further-education-skills/apprenticeships&gt;&gt;/</td>\n",
       "      <td>1</td>\n",
       "      <td>32.0</td>\n",
       "      <td>[('mobile', 1)]</td>\n",
       "      <td>[('20181104', 1)]</td>\n",
       "      <td>[('/topic/further-education-skills/apprenticeships', 'PAGE&lt;:&lt;NULL&lt;:&lt;NULL'), ('/topic/further-education-skills/apprenticeships', 'EVENT&lt;:&lt;yesNoFeedbackForm&lt;:&lt;ffYesClick'), ('/topic/further-education-skills/apprenticeships', 'EVENT&lt;:&lt;breadcrumbClicked&lt;:&lt;1'), ('/', 'PAGE&lt;:&lt;NULL&lt;:&lt;NULL')]</td>\n",
       "      <td>[/topic/further-education-skills/apprenticeships, /]</td>\n",
       "      <td>/topic/further-education-skills/apprenticeships&gt;&gt;/</td>\n",
       "      <td>[('PAGE_NULL', 'PAGE_NULL'), ('yesNoFeedbackForm', 'ffYesClick'), ('breadcrumbClicked', '1'), ('PAGE_NULL', 'PAGE_NULL')]</td>\n",
       "      <td>3</td>\n",
       "      <td>[('PAGE_NULL', 2), ('yesNoFeedbackForm', 1), ('breadcrumbClicked', 1)]</td>\n",
       "      <td>[((PAGE_NULL, PAGE_NULL), 2), ((yesNoFeedbackForm, ffYesClick), 1), ((breadcrumbClicked, 1), 1)]</td>\n",
       "      <td>['/topic/further-education-skills/apprenticeships', '/']</td>\n",
       "      <td>/topic/further-education-skills/apprenticeships&gt;&gt;/</td>\n",
       "      <td>201.0</td>\n",
       "      <td>0</td>\n",
       "      <td>2</td>\n",
       "      <td>True</td>\n",
       "    </tr>\n",
       "    <tr>\n",
       "      <th>2034838</th>\n",
       "      <td>/topic/personal-tax/self-assessment&lt;&lt;PAGE&lt;:&lt;NULL&lt;:&lt;NULL&gt;&gt;/topic/personal-tax/self-assessment&lt;&lt;EVENT&lt;:&lt;navSubtopicContentItemLinkClicked&lt;:&lt;2.1&gt;&gt;/self-assessment-tax-returns&lt;&lt;PAGE&lt;:&lt;NULL&lt;:&lt;NULL&gt;&gt;/self-assessment-tax-returns&lt;&lt;EVENT&lt;:&lt;relatedLinkClicked&lt;:&lt;2.2 Explore the topic&gt;&gt;/browse/tax/self-assessment&lt;&lt;PAGE&lt;:&lt;NULL&lt;:&lt;NULL&gt;&gt;/self-assessment-tax-returns&lt;&lt;PAGE&lt;:&lt;NULL&lt;:&lt;NULL&gt;&gt;/topic/personal-tax/self-assessment&lt;&lt;PAGE&lt;:&lt;NULL&lt;:&lt;NULL</td>\n",
       "      <td>/topic/personal-tax/self-assessment&gt;&gt;/self-assessment-tax-returns&gt;&gt;/browse/tax/self-assessment&gt;&gt;/self-assessment-tax-returns&gt;&gt;/topic/personal-tax/self-assessment</td>\n",
       "      <td>1</td>\n",
       "      <td>2.0</td>\n",
       "      <td>[('desktop', 1)]</td>\n",
       "      <td>[('20181104', 1)]</td>\n",
       "      <td>[('/topic/personal-tax/self-assessment', 'PAGE&lt;:&lt;NULL&lt;:&lt;NULL'), ('/topic/personal-tax/self-assessment', 'EVENT&lt;:&lt;navSubtopicContentItemLinkClicked&lt;:&lt;2.1'), ('/self-assessment-tax-returns', 'PAGE&lt;:&lt;NULL&lt;:&lt;NULL'), ('/self-assessment-tax-returns', 'EVENT&lt;:&lt;relatedLinkClicked&lt;:&lt;2.2 Explore the topic'), ('/browse/tax/self-assessment', 'PAGE&lt;:&lt;NULL&lt;:&lt;NULL'), ('/self-assessment-tax-returns', 'PAGE&lt;:&lt;NULL&lt;:&lt;NULL'), ('/topic/personal-tax/self-assessment', 'PAGE&lt;:&lt;NULL&lt;:&lt;NULL')]</td>\n",
       "      <td>[/topic/personal-tax/self-assessment, /self-assessment-tax-returns, /browse/tax/self-assessment, /self-assessment-tax-returns, /topic/personal-tax/self-assessment]</td>\n",
       "      <td>/topic/personal-tax/self-assessment&gt;&gt;/self-assessment-tax-returns&gt;&gt;/browse/tax/self-assessment&gt;&gt;/self-assessment-tax-returns&gt;&gt;/topic/personal-tax/self-assessment</td>\n",
       "      <td>[('PAGE_NULL', 'PAGE_NULL'), ('navSubtopicContentItemLinkClicked', '2.1'), ('PAGE_NULL', 'PAGE_NULL'), ('relatedLinkClicked', '2.2 Explore the topic'), ('PAGE_NULL', 'PAGE_NULL'), ('PAGE_NULL', 'PAGE_NULL'), ('PAGE_NULL', 'PAGE_NULL')]</td>\n",
       "      <td>3</td>\n",
       "      <td>[('PAGE_NULL', 5), ('navSubtopicContentItemLinkClicked', 1), ('relatedLinkClicked', 1)]</td>\n",
       "      <td>[((PAGE_NULL, PAGE_NULL), 5), ((navSubtopicContentItemLinkClicked, 2.1), 1), ((relatedLinkClicked, 2.2 Explore the topic), 1)]</td>\n",
       "      <td>['/topic/personal-tax/self-assessment', '/self-assessment-tax-returns', '/browse/tax/self-assessment', '/self-assessment-tax-returns', '/topic/personal-tax/self-assessment']</td>\n",
       "      <td>/topic/personal-tax/self-assessment&gt;&gt;/self-assessment-tax-returns&gt;&gt;/browse/tax/self-assessment&gt;&gt;/self-assessment-tax-returns&gt;&gt;/topic/personal-tax/self-assessment</td>\n",
       "      <td>4.0</td>\n",
       "      <td>0</td>\n",
       "      <td>5</td>\n",
       "      <td>True</td>\n",
       "    </tr>\n",
       "    <tr>\n",
       "      <th>2034924</th>\n",
       "      <td>/government/statistics/police-workforce-england-and-wales-31-march-2016&lt;&lt;EVENT&lt;:&lt;breadcrumbClicked&lt;:&lt;3&gt;&gt;/crime-justice-and-law/policing&lt;&lt;PAGE&lt;:&lt;NULL&lt;:&lt;NULL&gt;&gt;/government/publications/police-innovation-fund-bidding-form&lt;&lt;EVENT&lt;:&lt;user_satisfaction_survey&lt;:&lt;banner_shown&gt;&gt;/government/publications/police-innovation-fund-bidding-form&lt;&lt;PAGE&lt;:&lt;NULL&lt;:&lt;NULL&gt;&gt;/government/publications/police-innovation-fund-bidding-form&lt;&lt;EVENT&lt;:&lt;Download Link Clicked&lt;:&lt;/government/uploads/system/uploads/attachment_data/f...</td>\n",
       "      <td>/crime-justice-and-law/policing&gt;&gt;/government/publications/police-innovation-fund-bidding-form</td>\n",
       "      <td>1</td>\n",
       "      <td>2.0</td>\n",
       "      <td>[('desktop', 1)]</td>\n",
       "      <td>[('20181104', 1)]</td>\n",
       "      <td>[('/government/statistics/police-workforce-england-and-wales-31-march-2016', 'EVENT&lt;:&lt;breadcrumbClicked&lt;:&lt;3'), ('/crime-justice-and-law/policing', 'PAGE&lt;:&lt;NULL&lt;:&lt;NULL'), ('/government/publications/police-innovation-fund-bidding-form', 'EVENT&lt;:&lt;user_satisfaction_survey&lt;:&lt;banner_shown'), ('/government/publications/police-innovation-fund-bidding-form', 'PAGE&lt;:&lt;NULL&lt;:&lt;NULL'), ('/government/publications/police-innovation-fund-bidding-form', 'EVENT&lt;:&lt;Download Link Clicked&lt;:&lt;/government/uploads/sys...</td>\n",
       "      <td>[/crime-justice-and-law/policing, /government/publications/police-innovation-fund-bidding-form]</td>\n",
       "      <td>/crime-justice-and-law/policing&gt;&gt;/government/publications/police-innovation-fund-bidding-form</td>\n",
       "      <td>[('breadcrumbClicked', '3'), ('PAGE_NULL', 'PAGE_NULL'), ('user_satisfaction_survey', 'banner_shown'), ('PAGE_NULL', 'PAGE_NULL'), ('Download Link Clicked', '/government/uploads/system/uploads/attachment_data/file/470527/HARD_LAUNCH_20151023_-_PIF_2016-17_-_Template_Bid_Form.pdf')]</td>\n",
       "      <td>4</td>\n",
       "      <td>[('breadcrumbClicked', 1), ('PAGE_NULL', 2), ('user_satisfaction_survey', 1), ('Download Link Clicked', 1)]</td>\n",
       "      <td>[((breadcrumbClicked, 3), 1), ((PAGE_NULL, PAGE_NULL), 2), ((user_satisfaction_survey, banner_shown), 1), ((Download Link Clicked, /government/uploads/system/uploads/attachment_data/file/470527/HARD_LAUNCH_20151023_-_PIF_2016-17_-_Template_Bid_Form.pdf), 1)]</td>\n",
       "      <td>['/crime-justice-and-law/policing', '/government/publications/police-innovation-fund-bidding-form']</td>\n",
       "      <td>/crime-justice-and-law/policing&gt;&gt;/government/publications/police-innovation-fund-bidding-form</td>\n",
       "      <td>4.0</td>\n",
       "      <td>0</td>\n",
       "      <td>2</td>\n",
       "      <td>True</td>\n",
       "    </tr>\n",
       "    <tr>\n",
       "      <th>2035057</th>\n",
       "      <td>/child-benefit&lt;&lt;PAGE&lt;:&lt;NULL&lt;:&lt;NULL&gt;&gt;/child-benefit&lt;&lt;EVENT&lt;:&lt;relatedLinkClicked&lt;:&lt;2.3 Explore the topic&gt;&gt;/browse/benefits/child&lt;&lt;PAGE&lt;:&lt;NULL&lt;:&lt;NULL&gt;&gt;/browse/benefits/child&lt;&lt;EVENT&lt;:&lt;thirdLevelBrowseLinkClicked&lt;:&lt;1.7&gt;&gt;/child-benefit-number&lt;&lt;PAGE&lt;:&lt;NULL&lt;:&lt;NULL&gt;&gt;/child-benefit-number&lt;&lt;EVENT&lt;:&lt;External Link Clicked&lt;:&lt;https://online.hmrc.gov.uk/shortforms/form/CBO_General</td>\n",
       "      <td>/child-benefit&gt;&gt;/browse/benefits/child&gt;&gt;/child-benefit-number</td>\n",
       "      <td>1</td>\n",
       "      <td>5.0</td>\n",
       "      <td>[('mobile', 1)]</td>\n",
       "      <td>[('20181104', 1)]</td>\n",
       "      <td>[('/child-benefit', 'PAGE&lt;:&lt;NULL&lt;:&lt;NULL'), ('/child-benefit', 'EVENT&lt;:&lt;relatedLinkClicked&lt;:&lt;2.3 Explore the topic'), ('/browse/benefits/child', 'PAGE&lt;:&lt;NULL&lt;:&lt;NULL'), ('/browse/benefits/child', 'EVENT&lt;:&lt;thirdLevelBrowseLinkClicked&lt;:&lt;1.7'), ('/child-benefit-number', 'PAGE&lt;:&lt;NULL&lt;:&lt;NULL'), ('/child-benefit-number', 'EVENT&lt;:&lt;External Link Clicked&lt;:&lt;https://online.hmrc.gov.uk/shortforms/form/CBO_General')]</td>\n",
       "      <td>[/child-benefit, /browse/benefits/child, /child-benefit-number]</td>\n",
       "      <td>/child-benefit&gt;&gt;/browse/benefits/child&gt;&gt;/child-benefit-number</td>\n",
       "      <td>[('PAGE_NULL', 'PAGE_NULL'), ('relatedLinkClicked', '2.3 Explore the topic'), ('PAGE_NULL', 'PAGE_NULL'), ('thirdLevelBrowseLinkClicked', '1.7'), ('PAGE_NULL', 'PAGE_NULL'), ('External Link Clicked', 'https://online.hmrc.gov.uk/shortforms/form/CBO_General')]</td>\n",
       "      <td>4</td>\n",
       "      <td>[('PAGE_NULL', 3), ('relatedLinkClicked', 1), ('thirdLevelBrowseLinkClicked', 1), ('External Link Clicked', 1)]</td>\n",
       "      <td>[((PAGE_NULL, PAGE_NULL), 3), ((relatedLinkClicked, 2.3 Explore the topic), 1), ((thirdLevelBrowseLinkClicked, 1.7), 1), ((External Link Clicked, https://online.hmrc.gov.uk/shortforms/form/CBO_General), 1)]</td>\n",
       "      <td>['/child-benefit', '/browse/benefits/child', '/child-benefit-number']</td>\n",
       "      <td>/child-benefit&gt;&gt;/browse/benefits/child&gt;&gt;/child-benefit-number</td>\n",
       "      <td>10.0</td>\n",
       "      <td>0</td>\n",
       "      <td>3</td>\n",
       "      <td>True</td>\n",
       "    </tr>\n",
       "    <tr>\n",
       "      <th>2035087</th>\n",
       "      <td>/guidance/immigration-rules/immigration-rules-appendix-v-visitor-rules&lt;&lt;EVENT&lt;:&lt;breadcrumbClicked&lt;:&lt;1&gt;&gt;/&lt;&lt;PAGE&lt;:&lt;NULL&lt;:&lt;NULL&gt;&gt;/browse/visas-immigration&lt;&lt;PAGE&lt;:&lt;NULL&lt;:&lt;NULL&gt;&gt;/browse/visas-immigration&lt;&lt;EVENT&lt;:&lt;secondLevelBrowseLinkClicked&lt;:&lt;3&gt;&gt;/browse/visas-immigration/tourist-short-stay-visas&lt;&lt;PAGE&lt;:&lt;NULL&lt;:&lt;NULL&gt;&gt;/browse/visas-immigration&lt;&lt;EVENT&lt;:&lt;thirdLevelBrowseLinkClicked&lt;:&lt;2.1&gt;&gt;/standard-visitor-visa&lt;&lt;PAGE&lt;:&lt;NULL&lt;:&lt;NULL</td>\n",
       "      <td>/&gt;&gt;/browse/visas-immigration&gt;&gt;/browse/visas-immigration/tourist-short-stay-visas&gt;&gt;/standard-visitor-visa</td>\n",
       "      <td>1</td>\n",
       "      <td>466.0</td>\n",
       "      <td>[('desktop', 1)]</td>\n",
       "      <td>[('20181104', 1)]</td>\n",
       "      <td>[('/guidance/immigration-rules/immigration-rules-appendix-v-visitor-rules', 'EVENT&lt;:&lt;breadcrumbClicked&lt;:&lt;1'), ('/', 'PAGE&lt;:&lt;NULL&lt;:&lt;NULL'), ('/browse/visas-immigration', 'PAGE&lt;:&lt;NULL&lt;:&lt;NULL'), ('/browse/visas-immigration', 'EVENT&lt;:&lt;secondLevelBrowseLinkClicked&lt;:&lt;3'), ('/browse/visas-immigration/tourist-short-stay-visas', 'PAGE&lt;:&lt;NULL&lt;:&lt;NULL'), ('/browse/visas-immigration', 'EVENT&lt;:&lt;thirdLevelBrowseLinkClicked&lt;:&lt;2.1'), ('/standard-visitor-visa', 'PAGE&lt;:&lt;NULL&lt;:&lt;NULL')]</td>\n",
       "      <td>[/, /browse/visas-immigration, /browse/visas-immigration/tourist-short-stay-visas, /standard-visitor-visa]</td>\n",
       "      <td>/&gt;&gt;/browse/visas-immigration&gt;&gt;/browse/visas-immigration/tourist-short-stay-visas&gt;&gt;/standard-visitor-visa</td>\n",
       "      <td>[('breadcrumbClicked', '1'), ('PAGE_NULL', 'PAGE_NULL'), ('PAGE_NULL', 'PAGE_NULL'), ('secondLevelBrowseLinkClicked', '3'), ('PAGE_NULL', 'PAGE_NULL'), ('thirdLevelBrowseLinkClicked', '2.1'), ('PAGE_NULL', 'PAGE_NULL')]</td>\n",
       "      <td>4</td>\n",
       "      <td>[('breadcrumbClicked', 1), ('PAGE_NULL', 4), ('secondLevelBrowseLinkClicked', 1), ('thirdLevelBrowseLinkClicked', 1)]</td>\n",
       "      <td>[((breadcrumbClicked, 1), 1), ((PAGE_NULL, PAGE_NULL), 4), ((secondLevelBrowseLinkClicked, 3), 1), ((thirdLevelBrowseLinkClicked, 2.1), 1)]</td>\n",
       "      <td>['/', '/browse/visas-immigration', '/browse/visas-immigration/tourist-short-stay-visas', '/standard-visitor-visa']</td>\n",
       "      <td>/&gt;&gt;/browse/visas-immigration&gt;&gt;/browse/visas-immigration/tourist-short-stay-visas&gt;&gt;/standard-visitor-visa</td>\n",
       "      <td>16895.0</td>\n",
       "      <td>0</td>\n",
       "      <td>4</td>\n",
       "      <td>True</td>\n",
       "    </tr>\n",
       "    <tr>\n",
       "      <th>2035088</th>\n",
       "      <td>/government/publications/apply-for-a-uk-visa-in-china.zh&lt;&lt;PAGE&lt;:&lt;NULL&lt;:&lt;NULL&gt;&gt;/government/publications/apply-for-a-uk-visa-in-china.zh&lt;&lt;EVENT&lt;:&lt;breadcrumbClicked&lt;:&lt;1&gt;&gt;/&lt;&lt;PAGE&lt;:&lt;NULL&lt;:&lt;NULL&gt;&gt;/browse/visas-immigration&lt;&lt;PAGE&lt;:&lt;NULL&lt;:&lt;NULL&gt;&gt;/browse/visas-immigration&lt;&lt;EVENT&lt;:&lt;secondLevelBrowseLinkClicked&lt;:&lt;3&gt;&gt;/browse/visas-immigration/tourist-short-stay-visas&lt;&lt;PAGE&lt;:&lt;NULL&lt;:&lt;NULL&gt;&gt;/browse/visas-immigration&lt;&lt;EVENT&lt;:&lt;thirdLevelBrowseLinkClicked&lt;:&lt;2.1&gt;&gt;/standard-visitor-visa&lt;&lt;EVENT&lt;:&lt;user_satisfactio...</td>\n",
       "      <td>/government/publications/apply-for-a-uk-visa-in-china.zh&gt;&gt;/&gt;&gt;/browse/visas-immigration&gt;&gt;/browse/visas-immigration/tourist-short-stay-visas&gt;&gt;/standard-visitor-visa&gt;&gt;/standard-visitor-visa/apply</td>\n",
       "      <td>1</td>\n",
       "      <td>2.0</td>\n",
       "      <td>[('desktop', 1)]</td>\n",
       "      <td>[('20181104', 1)]</td>\n",
       "      <td>[('/government/publications/apply-for-a-uk-visa-in-china.zh', 'PAGE&lt;:&lt;NULL&lt;:&lt;NULL'), ('/government/publications/apply-for-a-uk-visa-in-china.zh', 'EVENT&lt;:&lt;breadcrumbClicked&lt;:&lt;1'), ('/', 'PAGE&lt;:&lt;NULL&lt;:&lt;NULL'), ('/browse/visas-immigration', 'PAGE&lt;:&lt;NULL&lt;:&lt;NULL'), ('/browse/visas-immigration', 'EVENT&lt;:&lt;secondLevelBrowseLinkClicked&lt;:&lt;3'), ('/browse/visas-immigration/tourist-short-stay-visas', 'PAGE&lt;:&lt;NULL&lt;:&lt;NULL'), ('/browse/visas-immigration', 'EVENT&lt;:&lt;thirdLevelBrowseLinkClicked&lt;:&lt;2.1'), ('/st...</td>\n",
       "      <td>[/government/publications/apply-for-a-uk-visa-in-china.zh, /, /browse/visas-immigration, /browse/visas-immigration/tourist-short-stay-visas, /standard-visitor-visa, /standard-visitor-visa/apply]</td>\n",
       "      <td>/government/publications/apply-for-a-uk-visa-in-china.zh&gt;&gt;/&gt;&gt;/browse/visas-immigration&gt;&gt;/browse/visas-immigration/tourist-short-stay-visas&gt;&gt;/standard-visitor-visa&gt;&gt;/standard-visitor-visa/apply</td>\n",
       "      <td>[('PAGE_NULL', 'PAGE_NULL'), ('breadcrumbClicked', '1'), ('PAGE_NULL', 'PAGE_NULL'), ('PAGE_NULL', 'PAGE_NULL'), ('secondLevelBrowseLinkClicked', '3'), ('PAGE_NULL', 'PAGE_NULL'), ('thirdLevelBrowseLinkClicked', '2.1'), ('user_satisfaction_survey', 'banner_shown'), ('PAGE_NULL', 'PAGE_NULL'), ('contentsClicked', 'content_item 5'), ('PAGE_NULL', 'PAGE_NULL'), ('External Link Clicked', 'https://visas-immigration.service.gov.uk/apply-visa-type/visit')]</td>\n",
       "      <td>7</td>\n",
       "      <td>[('PAGE_NULL', 6), ('breadcrumbClicked', 1), ('secondLevelBrowseLinkClicked', 1), ('thirdLevelBrowseLinkClicked', 1), ('user_satisfaction_survey', 1), ('contentsClicked', 1), ('External Link Clicked', 1)]</td>\n",
       "      <td>[((PAGE_NULL, PAGE_NULL), 6), ((breadcrumbClicked, 1), 1), ((secondLevelBrowseLinkClicked, 3), 1), ((thirdLevelBrowseLinkClicked, 2.1), 1), ((user_satisfaction_survey, banner_shown), 1), ((contentsClicked, content_item 5), 1), ((External Link Clicked, https://visas-immigration.service.gov.uk/apply-visa-type/visit), 1)]</td>\n",
       "      <td>['/government/publications/apply-for-a-uk-visa-in-china.zh', '/', '/browse/visas-immigration', '/browse/visas-immigration/tourist-short-stay-visas', '/standard-visitor-visa', '/standard-visitor-visa/apply']</td>\n",
       "      <td>/government/publications/apply-for-a-uk-visa-in-china.zh&gt;&gt;/&gt;&gt;/browse/visas-immigration&gt;&gt;/browse/visas-immigration/tourist-short-stay-visas&gt;&gt;/standard-visitor-visa&gt;&gt;/standard-visitor-visa/apply</td>\n",
       "      <td>4.0</td>\n",
       "      <td>0</td>\n",
       "      <td>6</td>\n",
       "      <td>True</td>\n",
       "    </tr>\n",
       "    <tr>\n",
       "      <th>2035288</th>\n",
       "      <td>/child-tax-credit&lt;&lt;PAGE&lt;:&lt;NULL&lt;:&lt;NULL&gt;&gt;/child-tax-credit&lt;&lt;EVENT&lt;:&lt;contentsClicked&lt;:&lt;content_item 3&gt;&gt;/child-tax-credit/already-claiming&lt;&lt;EVENT&lt;:&lt;user_satisfaction_survey&lt;:&lt;banner_shown&gt;&gt;/child-tax-credit/already-claiming&lt;&lt;PAGE&lt;:&lt;NULL&lt;:&lt;NULL&gt;&gt;/child-tax-credit/already-claiming&lt;&lt;EVENT&lt;:&lt;relatedLinkClicked&lt;:&lt;2.1 Explore the topic&gt;&gt;/browse/benefits/tax-credits&lt;&lt;PAGE&lt;:&lt;NULL&lt;:&lt;NULL&gt;&gt;/browse/benefits/tax-credits&lt;&lt;EVENT&lt;:&lt;thirdLevelBrowseLinkClicked&lt;:&lt;3.2&gt;&gt;/manage-your-tax-credits&lt;&lt;PAGE&lt;:&lt;NULL&lt;:&lt;NULL...</td>\n",
       "      <td>/child-tax-credit&gt;&gt;/child-tax-credit/already-claiming&gt;&gt;/browse/benefits/tax-credits&gt;&gt;/manage-your-tax-credits</td>\n",
       "      <td>1</td>\n",
       "      <td>11.0</td>\n",
       "      <td>[('desktop', 1)]</td>\n",
       "      <td>[('20181104', 1)]</td>\n",
       "      <td>[('/child-tax-credit', 'PAGE&lt;:&lt;NULL&lt;:&lt;NULL'), ('/child-tax-credit', 'EVENT&lt;:&lt;contentsClicked&lt;:&lt;content_item 3'), ('/child-tax-credit/already-claiming', 'EVENT&lt;:&lt;user_satisfaction_survey&lt;:&lt;banner_shown'), ('/child-tax-credit/already-claiming', 'PAGE&lt;:&lt;NULL&lt;:&lt;NULL'), ('/child-tax-credit/already-claiming', 'EVENT&lt;:&lt;relatedLinkClicked&lt;:&lt;2.1 Explore the topic'), ('/browse/benefits/tax-credits', 'PAGE&lt;:&lt;NULL&lt;:&lt;NULL'), ('/browse/benefits/tax-credits', 'EVENT&lt;:&lt;thirdLevelBrowseLinkClicked&lt;:&lt;3.2'), (...</td>\n",
       "      <td>[/child-tax-credit, /child-tax-credit/already-claiming, /browse/benefits/tax-credits, /manage-your-tax-credits]</td>\n",
       "      <td>/child-tax-credit&gt;&gt;/child-tax-credit/already-claiming&gt;&gt;/browse/benefits/tax-credits&gt;&gt;/manage-your-tax-credits</td>\n",
       "      <td>[('PAGE_NULL', 'PAGE_NULL'), ('contentsClicked', 'content_item 3'), ('user_satisfaction_survey', 'banner_shown'), ('PAGE_NULL', 'PAGE_NULL'), ('relatedLinkClicked', '2.1 Explore the topic'), ('PAGE_NULL', 'PAGE_NULL'), ('thirdLevelBrowseLinkClicked', '3.2'), ('PAGE_NULL', 'PAGE_NULL'), ('External Link Clicked', 'https://www.tax.service.gov.uk/gg/sign-in?continue=/tax-credits-service/renewals/service-router&amp;accountType=individual&amp;origin=PTA-taxcredits&amp;_ga=2.42748773.1522337296.1541312210-1454...</td>\n",
       "      <td>6</td>\n",
       "      <td>[('PAGE_NULL', 4), ('contentsClicked', 1), ('user_satisfaction_survey', 1), ('relatedLinkClicked', 1), ('thirdLevelBrowseLinkClicked', 1), ('External Link Clicked', 1)]</td>\n",
       "      <td>[((PAGE_NULL, PAGE_NULL), 4), ((contentsClicked, content_item 3), 1), ((user_satisfaction_survey, banner_shown), 1), ((relatedLinkClicked, 2.1 Explore the topic), 1), ((thirdLevelBrowseLinkClicked, 3.2), 1), ((External Link Clicked, https://www.tax.service.gov.uk/gg/sign-in?continue=/tax-credits-service/renewals/service-router&amp;accountType=individual&amp;origin=PTA-taxcredits&amp;_ga=2.42748773.1522337296.1541312210-1454244976.1541312210), 1)]</td>\n",
       "      <td>['/child-tax-credit', '/child-tax-credit/already-claiming', '/browse/benefits/tax-credits', '/manage-your-tax-credits']</td>\n",
       "      <td>/child-tax-credit&gt;&gt;/child-tax-credit/already-claiming&gt;&gt;/browse/benefits/tax-credits&gt;&gt;/manage-your-tax-credits</td>\n",
       "      <td>121.0</td>\n",
       "      <td>0</td>\n",
       "      <td>4</td>\n",
       "      <td>True</td>\n",
       "    </tr>\n",
       "    <tr>\n",
       "      <th>2035421</th>\n",
       "      <td>/vehicle-tax&lt;&lt;PAGE&lt;:&lt;NULL&lt;:&lt;NULL&gt;&gt;/vehicle-tax&lt;&lt;EVENT&lt;:&lt;breadcrumbClicked&lt;:&lt;3&gt;&gt;/browse/driving/vehicle-tax-mot-insurance&lt;&lt;PAGE&lt;:&lt;NULL&lt;:&lt;NULL&gt;&gt;/browse/driving/vehicle-tax-mot-insurance&lt;&lt;EVENT&lt;:&lt;thirdLevelBrowseLinkClicked&lt;:&lt;1.4&gt;&gt;/check-mot-status&lt;&lt;PAGE&lt;:&lt;NULL&lt;:&lt;NULL&gt;&gt;/check-mot-status&lt;&lt;EVENT&lt;:&lt;External Link Clicked&lt;:&lt;https://www.vehicleenquiry.service.gov.uk/&gt;&gt;/vehicle-tax&lt;&lt;PAGE&lt;:&lt;NULL&lt;:&lt;NULL&gt;&gt;/vehicle-tax&lt;&lt;EVENT&lt;:&lt;External Link Clicked&lt;:&lt;https://www.vehicletax.service.gov.uk</td>\n",
       "      <td>/vehicle-tax&gt;&gt;/browse/driving/vehicle-tax-mot-insurance&gt;&gt;/check-mot-status&gt;&gt;/vehicle-tax</td>\n",
       "      <td>1</td>\n",
       "      <td>7.0</td>\n",
       "      <td>[('mobile', 1)]</td>\n",
       "      <td>[('20181104', 1)]</td>\n",
       "      <td>[('/vehicle-tax', 'PAGE&lt;:&lt;NULL&lt;:&lt;NULL'), ('/vehicle-tax', 'EVENT&lt;:&lt;breadcrumbClicked&lt;:&lt;3'), ('/browse/driving/vehicle-tax-mot-insurance', 'PAGE&lt;:&lt;NULL&lt;:&lt;NULL'), ('/browse/driving/vehicle-tax-mot-insurance', 'EVENT&lt;:&lt;thirdLevelBrowseLinkClicked&lt;:&lt;1.4'), ('/check-mot-status', 'PAGE&lt;:&lt;NULL&lt;:&lt;NULL'), ('/check-mot-status', 'EVENT&lt;:&lt;External Link Clicked&lt;:&lt;https://www.vehicleenquiry.service.gov.uk/'), ('/vehicle-tax', 'PAGE&lt;:&lt;NULL&lt;:&lt;NULL'), ('/vehicle-tax', 'EVENT&lt;:&lt;External Link Clicked&lt;:&lt;https:/...</td>\n",
       "      <td>[/vehicle-tax, /browse/driving/vehicle-tax-mot-insurance, /check-mot-status, /vehicle-tax]</td>\n",
       "      <td>/vehicle-tax&gt;&gt;/browse/driving/vehicle-tax-mot-insurance&gt;&gt;/check-mot-status&gt;&gt;/vehicle-tax</td>\n",
       "      <td>[('PAGE_NULL', 'PAGE_NULL'), ('breadcrumbClicked', '3'), ('PAGE_NULL', 'PAGE_NULL'), ('thirdLevelBrowseLinkClicked', '1.4'), ('PAGE_NULL', 'PAGE_NULL'), ('External Link Clicked', 'https://www.vehicleenquiry.service.gov.uk/'), ('PAGE_NULL', 'PAGE_NULL'), ('External Link Clicked', 'https://www.vehicletax.service.gov.uk')]</td>\n",
       "      <td>4</td>\n",
       "      <td>[('PAGE_NULL', 4), ('breadcrumbClicked', 1), ('thirdLevelBrowseLinkClicked', 1), ('External Link Clicked', 2)]</td>\n",
       "      <td>[((PAGE_NULL, PAGE_NULL), 4), ((breadcrumbClicked, 3), 1), ((thirdLevelBrowseLinkClicked, 1.4), 1), ((External Link Clicked, https://www.vehicleenquiry.service.gov.uk/), 1), ((External Link Clicked, https://www.vehicletax.service.gov.uk), 1)]</td>\n",
       "      <td>['/vehicle-tax', '/browse/driving/vehicle-tax-mot-insurance', '/check-mot-status', '/vehicle-tax']</td>\n",
       "      <td>/vehicle-tax&gt;&gt;/browse/driving/vehicle-tax-mot-insurance&gt;&gt;/check-mot-status&gt;&gt;/vehicle-tax</td>\n",
       "      <td>46.0</td>\n",
       "      <td>0</td>\n",
       "      <td>4</td>\n",
       "      <td>True</td>\n",
       "    </tr>\n",
       "    <tr>\n",
       "      <th>2035438</th>\n",
       "      <td>/government/publications/rates-of-vehicle-tax-v149&lt;&lt;PAGE&lt;:&lt;NULL&lt;:&lt;NULL&gt;&gt;/government/publications/rates-of-vehicle-tax-v149&lt;&lt;EVENT&lt;:&lt;breadcrumbClicked&lt;:&lt;5&gt;&gt;/transport/vehicle-tax&lt;&lt;PAGE&lt;:&lt;NULL&lt;:&lt;NULL&gt;&gt;/government/publications/rates-of-vehicle-tax-v149&lt;&lt;PAGE&lt;:&lt;NULL&lt;:&lt;NULL&gt;&gt;/government/publications/rates-of-vehicle-tax-v149&lt;&lt;EVENT&lt;:&lt;breadcrumbClicked&lt;:&lt;5&gt;&gt;/transport/vehicle-tax&lt;&lt;PAGE&lt;:&lt;NULL&lt;:&lt;NULL&gt;&gt;/government/publications/rates-of-vehicle-tax-v149&lt;&lt;EVENT&lt;:&lt;yesNoFeedbackForm&lt;:&lt;ffNoClick</td>\n",
       "      <td>/government/publications/rates-of-vehicle-tax-v149&gt;&gt;/transport/vehicle-tax&gt;&gt;/government/publications/rates-of-vehicle-tax-v149&gt;&gt;/transport/vehicle-tax</td>\n",
       "      <td>1</td>\n",
       "      <td>3.0</td>\n",
       "      <td>[('mobile', 1)]</td>\n",
       "      <td>[('20181104', 1)]</td>\n",
       "      <td>[('/government/publications/rates-of-vehicle-tax-v149', 'PAGE&lt;:&lt;NULL&lt;:&lt;NULL'), ('/government/publications/rates-of-vehicle-tax-v149', 'EVENT&lt;:&lt;breadcrumbClicked&lt;:&lt;5'), ('/transport/vehicle-tax', 'PAGE&lt;:&lt;NULL&lt;:&lt;NULL'), ('/government/publications/rates-of-vehicle-tax-v149', 'PAGE&lt;:&lt;NULL&lt;:&lt;NULL'), ('/government/publications/rates-of-vehicle-tax-v149', 'EVENT&lt;:&lt;breadcrumbClicked&lt;:&lt;5'), ('/transport/vehicle-tax', 'PAGE&lt;:&lt;NULL&lt;:&lt;NULL'), ('/government/publications/rates-of-vehicle-tax-v149', 'EVENT...</td>\n",
       "      <td>[/government/publications/rates-of-vehicle-tax-v149, /transport/vehicle-tax, /government/publications/rates-of-vehicle-tax-v149, /transport/vehicle-tax]</td>\n",
       "      <td>/government/publications/rates-of-vehicle-tax-v149&gt;&gt;/transport/vehicle-tax&gt;&gt;/government/publications/rates-of-vehicle-tax-v149&gt;&gt;/transport/vehicle-tax</td>\n",
       "      <td>[('PAGE_NULL', 'PAGE_NULL'), ('breadcrumbClicked', '5'), ('PAGE_NULL', 'PAGE_NULL'), ('PAGE_NULL', 'PAGE_NULL'), ('breadcrumbClicked', '5'), ('PAGE_NULL', 'PAGE_NULL'), ('yesNoFeedbackForm', 'ffNoClick')]</td>\n",
       "      <td>3</td>\n",
       "      <td>[('PAGE_NULL', 4), ('breadcrumbClicked', 2), ('yesNoFeedbackForm', 1)]</td>\n",
       "      <td>[((PAGE_NULL, PAGE_NULL), 4), ((breadcrumbClicked, 5), 2), ((yesNoFeedbackForm, ffNoClick), 1)]</td>\n",
       "      <td>['/government/publications/rates-of-vehicle-tax-v149', '/transport/vehicle-tax', '/government/publications/rates-of-vehicle-tax-v149', '/transport/vehicle-tax']</td>\n",
       "      <td>/government/publications/rates-of-vehicle-tax-v149&gt;&gt;/transport/vehicle-tax&gt;&gt;/government/publications/rates-of-vehicle-tax-v149&gt;&gt;/transport/vehicle-tax</td>\n",
       "      <td>9.0</td>\n",
       "      <td>0</td>\n",
       "      <td>4</td>\n",
       "      <td>True</td>\n",
       "    </tr>\n",
       "  </tbody>\n",
       "</table>\n",
       "<p>34455 rows × 19 columns</p>\n",
       "</div>"
      ],
      "text/plain": [
       "                                                                                                                                                                                                                                                                                                                                                                                                                                                                                                                    Sequence  \\\n",
       "3304                                                                                                                                                                                                                                                                                                                                                                                /guidance/check-employment-status-for-tax<<EVENT<:<breadcrumbClicked<:<5>>/money/business-tax-ir35-employment-status<<PAGE<:<NULL<:<NULL   \n",
       "3749                                                                                                                                                                                                                                                                                                                                                                                                   /vehicle-exempt-from-vehicle-tax<<PAGE<:<NULL<:<NULL>>/vehicle-exempt-from-vehicle-tax<<EVENT<:<breadcrumbClicked<:<3   \n",
       "5773                                                                                                                                                                                                                                                                                                                                                                                                                                                     /contact-hmrc<<EVENT<:<breadcrumbClicked<:<1>>/<<PAGE<:<NULL<:<NULL   \n",
       "8988                                                                                                                                                                                                                                                                                                                                                                                                                            /cymraeg<<PAGE<:<NULL<:<NULL>>/cymraeg<<EVENT<:<breadcrumbClicked<:<1>>/<<PAGE<:<NULL<:<NULL   \n",
       "9002                                                                                                                                                                                                                                                                                                                                                    /national-insurance<<PAGE<:<NULL<:<NULL>>/national-insurance<<EVENT<:<relatedLinkClicked<:<2.1 Explore the topic>>/browse/tax/national-insurance<<PAGE<:<NULL<:<NULL   \n",
       "9079                                                                                                                                                                                                                                                                                                                              /housing-benefit<<PAGE<:<NULL<:<NULL>>/housing-benefit<<EVENT<:<relatedLinkClicked<:<2.3 Explore the topic>>/browse/housing-local-services/council-housing-association<<PAGE<:<NULL<:<NULL   \n",
       "9116                                                                                                                                                                                                                                                                              /foster-carers/help-with-the-cost-of-fostering<<PAGE<:<NULL<:<NULL>>/foster-carers/help-with-the-cost-of-fostering<<EVENT<:<relatedLinkClicked<:<2.1 Explore the topic>>/browse/births-deaths-marriages/child-adoption<<PAGE<:<NULL<:<NULL   \n",
       "9301                                                                                                                                                                                                                               /set-up-business/start-with-an-idea<<EVENT<:<relatedLinkClicked<:<2.1 Explore the topic>>/browse/business/setting-up<<PAGE<:<NULL<:<NULL>>/browse/business/setting-up<<EVENT<:<JavaScript Error<:<TypeError: null is not an object (evaluating 'document.getElementById('rsstable').src')   \n",
       "9315                                                                                                                                                                                                                                                                                                                                                                                  /settle-in-the-uk<<PAGE<:<NULL<:<NULL>>/settle-in-the-uk<<EVENT<:<breadcrumbClicked<:<2>>/browse/visas-immigration<<PAGE<:<NULL<:<NULL   \n",
       "9326                                                                                                                                                                                                                                                                                                                                                                                                    /write-business-plan<<PAGE<:<NULL<:<NULL>>/write-business-plan<<EVENT<:<breadcrumbClicked<:<1>>/<<PAGE<:<NULL<:<NULL   \n",
       "9345                                                                                                                                                                                                                                                                                                        /government/organisations/department-for-work-pensions<<PAGE<:<NULL<:<NULL>>/government/organisations/department-for-work-pensions<<EVENT<:<breadcrumbClicked<:<2>>/government/organisations<<PAGE<:<NULL<:<NULL   \n",
       "9379                                                                                                                                                                                                                                                                                                                                                    /bereavement-payment<<PAGE<:<NULL<:<NULL>>/bereavement-payment<<EVENT<:<relatedLinkClicked<:<2.1 Explore the topic>>/browse/benefits/bereavement<<PAGE<:<NULL<:<NULL   \n",
       "9453                                                                                                                                                                                                                                                                                                                             /child-benefit/how-to-claim<<PAGE<:<NULL<:<NULL>>/child-benefit/how-to-claim<<EVENT<:<relatedLinkClicked<:<2.2 Explore the topic>>/browse/births-deaths-marriages/child<<PAGE<:<NULL<:<NULL   \n",
       "9632                                                                                                                                                                                                                          /government/statistics/secondary-school-performance-tables-in-england-2018-provisional<<PAGE<:<NULL<:<NULL>>/government/statistics/secondary-school-performance-tables-in-england-2018-provisional<<EVENT<:<breadcrumbClicked<:<5>>/education/pupil-performance-in-schools<<PAGE<:<NULL<:<NULL   \n",
       "9824                                                                                                                                                                                                                                                                                                                                                              /caring-for-pets<<PAGE<:<NULL<:<NULL>>/caring-for-pets<<EVENT<:<breadcrumbClicked<:<3>>/browse/housing-local-services/noise-neighbours<<PAGE<:<NULL<:<NULL   \n",
       "9958                                                                                                                                                                                                                                                                                                                          /check-national-insurance-record<<PAGE<:<NULL<:<NULL>>/check-national-insurance-record<<EVENT<:<relatedLinkClicked<:<2.1 Explore the topic>>/browse/tax/national-insurance<<PAGE<:<NULL<:<NULL   \n",
       "10003                                                                                                                                                                                                                                                                                                                                                           /browse/citizenship/citizenship<<PAGE<:<NULL<:<NULL>>/browse/citizenship/citizenship<<EVENT<:<breadcrumbClicked<:<2>>/browse/citizenship<<PAGE<:<NULL<:<NULL   \n",
       "10022                                                                                                                                                                                                                                                                                                                                                                                 /get-proof-employment-history<<PAGE<:<NULL<:<NULL>>/get-proof-employment-history<<EVENT<:<breadcrumbClicked<:<1>>/<<PAGE<:<NULL<:<NULL   \n",
       "10296                                                                                                                                                                                                                                                                                            /pay-dartford-crossing-charge/charges-fines<<PAGE<:<NULL<:<NULL>>/pay-dartford-crossing-charge/charges-fines<<EVENT<:<relatedLinkClicked<:<2.1 Explore the topic>>/browse/driving/driving-uk-and-abroad<<PAGE<:<NULL<:<NULL   \n",
       "10354                                                                                                                                                                                                                                                                               /government/organisations/prime-ministers-office-10-downing-street<<PAGE<:<NULL<:<NULL>>/government/organisations/prime-ministers-office-10-downing-street<<EVENT<:<breadcrumbClicked<:<2>>/government/organisations<<PAGE<:<NULL<:<NULL   \n",
       "10702                                                                                                                                                                                                                                                                                                                                                                                                 /jobseekers-allowance<<PAGE<:<NULL<:<NULL>>/jobseekers-allowance<<EVENT<:<breadcrumbClicked<:<1>>/<<PAGE<:<NULL<:<NULL   \n",
       "10732                                                                                                                                                                                                                                                                                                /settled-status-eu-citizens-families<<PAGE<:<NULL<:<NULL>>/settled-status-eu-citizens-families#fees<<EVENT<:<relatedLinkClicked<:<2.2 Explore the topic>>/browse/visas-immigration/settle-in-the-uk<<PAGE<:<NULL<:<NULL   \n",
       "11002                                                                                                                                                                                                                                                                                                             /request-information-from-dvla<<PAGE<:<NULL<:<NULL>>/request-information-from-dvla<<EVENT<:<relatedLinkClicked<:<2.2 Explore the topic>>/browse/driving/vehicle-and-driver-information<<PAGE<:<NULL<:<NULL   \n",
       "11141                                                                                                                                                                                                                                                                                                                        /free-school-transport<<PAGE<:<NULL<:<NULL>>/free-school-transport<<EVENT<:<relatedLinkClicked<:<2.1 Explore the topic>>/browse/childcare-parenting/financial-help-children<<PAGE<:<NULL<:<NULL   \n",
       "11265                                                                                                                                                                                                                                                                                                                                                                                    /vat-rates<<PAGE<:<NULL<:<NULL>>/vat-rates<<EVENT<:<relatedLinkClicked<:<2.1 Explore the topic>>/browse/tax/vat<<PAGE<:<NULL<:<NULL   \n",
       "11282                                                                                                                       /government/publications/travelling-to-the-eu-with-a-uk-passport-if-theres-no-brexit-deal/travelling-to-the-eu-with-a-uk-passport-if-theres-no-brexit-deal<<PAGE<:<NULL<:<NULL>>/government/publications/travelling-to-the-eu-with-a-uk-passport-if-theres-no-brexit-deal/travelling-to-the-eu-with-a-uk-passport-if-theres-no-brexit-deal<<EVENT<:<breadcrumbClicked<:<1>>/<<PAGE<:<NULL<:<NULL   \n",
       "11361                                                                                                                                                                                                                                                                                                                                                                                                      /browse/working/finding-job<<PAGE<:<NULL<:<NULL>>/jobsearch<<EVENT<:<breadcrumbClicked<:<1>>/<<PAGE<:<NULL<:<NULL   \n",
       "11399                                                                                                                                                                                                                       /government/publications/data-protection-act-dpa-information-hm-revenue-and-customs-hold-about-you<<PAGE<:<NULL<:<NULL>>/government/publications/data-protection-act-dpa-information-hm-revenue-and-customs-hold-about-you<<EVENT<:<breadcrumbClicked<:<4>>/money/income-tax<<PAGE<:<NULL<:<NULL   \n",
       "11425                                                                                                                                                                                                                                                                                                                               /government/organisations/uk-border-agency<<PAGE<:<NULL<:<NULL>>/government/organisations/uk-border-agency<<EVENT<:<breadcrumbClicked<:<2>>/government/organisations<<PAGE<:<NULL<:<NULL   \n",
       "11463                                                                                                                                                                                                                                                                                                               /contact-hmrc<<PAGE<:<NULL<:<NULL>>/contact-hmrc<<EVENT<:<relatedLinkClicked<:<2.2 Explore the topic>>/topic/dealing-with-hmrc/complaints-appeals<<PAGE<:<NULL<:<NULL>>/contact-hmrc<<PAGE<:<NULL<:<NULL   \n",
       "...                                                                                                                                                                                                                                                                                                                                                                                                                                                                                                                      ...   \n",
       "2032789                                                                                                                                                                                 /maximum-weekly-working-hours<<PAGE<:<NULL<:<NULL>>/maximum-weekly-working-hours<<EVENT<:<relatedLinkClicked<:<2.1 Explore the topic>>/browse/employing-people/contracts<<EVENT<:<user_satisfaction_survey<:<banner_shown>>/browse/employing-people/contracts<<PAGE<:<NULL<:<NULL>>/maximum-weekly-working-hours<<PAGE<:<NULL<:<NULL   \n",
       "2032867                                                                                                                                         /tax-overpayments-and-underpayments<<PAGE<:<NULL<:<NULL>>/tax-overpayments-and-underpayments<<EVENT<:<breadcrumbClicked<:<1>>/<<PAGE<:<NULL<:<NULL>>/personal-tax-account<<PAGE<:<NULL<:<NULL>>/personal-tax-account/sign-in/prove-identity<<PAGE<:<NULL<:<NULL>>/personal-tax-account/sign-in/prove-identity<<EVENT<:<Radio button chosen<:<sign-in-with-government-gateway   \n",
       "2032891                                                                                                                              /government/organisations/hm-revenue-customs<<EVENT<:<user_satisfaction_survey<:<banner_shown>>/government/organisations/hm-revenue-customs<<PAGE<:<NULL<:<NULL>>/topic/dealing-with-hmrc/tax-agent-guidance<<PAGE<:<NULL<:<NULL>>/topic/dealing-with-hmrc/tax-agent-guidance<<EVENT<:<breadcrumbClicked<:<1>>/<<EVENT<:<user_satisfaction_survey<:<banner_shown>>/<<PAGE<:<NULL<:<NULL   \n",
       "2032960  /renew-adult-passport<<PAGE<:<NULL<:<NULL>>/renew-adult-passport<<EVENT<:<breadcrumbClicked<:<2>>/browse/abroad<<PAGE<:<NULL<:<NULL>>/browse/abroad<<EVENT<:<secondLevelBrowseLinkClicked<:<2>>/browse/abroad/passports<<PAGE<:<NULL<:<NULL>>/browse/abroad<<EVENT<:<thirdLevelBrowseLinkClicked<:<1.5>>/get-a-child-passport<<PAGE<:<NULL<:<NULL>>/get-a-child-passport<<EVENT<:<user_satisfaction_survey<:<banner_shown>>/get-a-child-passport<<EVENT<:<contentsClicked<:<content_item 3>>/get-a-child-passpor...   \n",
       "2033017                                                                                           /take-on-an-apprentice<<PAGE<:<NULL<:<NULL>>/take-on-an-apprentice<<EVENT<:<relatedLinkClicked<:<1.1 Explore the topic>>/browse/education/find-course<<PAGE<:<NULL<:<NULL>>/browse/education/find-course<<EVENT<:<thirdLevelBrowseLinkClicked<:<1.15>>/apply-apprenticeship<<PAGE<:<NULL<:<NULL>>/apply-apprenticeship<<EVENT<:<External Link Clicked<:<https://www.findapprenticeship.service.gov.uk/apprenticeshipsearch   \n",
       "2033026          /overseas-passports<<PAGE<:<NULL<:<NULL>>/overseas-passports<<EVENT<:<breadcrumbClicked<:<2>>/browse/abroad<<PAGE<:<NULL<:<NULL>>/browse/abroad<<EVENT<:<secondLevelBrowseLinkClicked<:<2>>/browse/abroad/passports<<PAGE<:<NULL<:<NULL>>/browse/abroad<<EVENT<:<thirdLevelBrowseLinkClicked<:<1.1>>/apply-renew-passport<<PAGE<:<NULL<:<NULL>>/apply-renew-passport<<EVENT<:<External Link Clicked<:<https://www.passport.service.gov.uk/filter?_ga=2.200078382.1218615734.1541345378-141703274.1535206152   \n",
       "2033087                                                                                                                                                                                                                                            /pay-self-assessment-tax-bill<<PAGE<:<NULL<:<NULL>>/pay-self-assessment-tax-bill<<EVENT<:<user_satisfaction_survey<:<banner_shown>>/pay-self-assessment-tax-bill<<PAGE<:<NULL<:<NULL>>/pay-self-assessment-tax-bill<<EVENT<:<breadcrumbClicked<:<1>>/<<PAGE<:<NULL<:<NULL   \n",
       "2033213  /jobsearch<<PAGE<:<NULL<:<NULL>>/jobsearch<<EVENT<:<relatedLinkClicked<:<2.1 Explore the topic>>/browse/benefits/universal-credit<<PAGE<:<NULL<:<NULL>>/browse/benefits/universal-credit<<EVENT<:<thirdLevelBrowseLinkClicked<:<1.1>>/universal-credit<<PAGE<:<NULL<:<NULL>>/sign-in-universal-credit<<PAGE<:<NULL<:<NULL>>/sign-in-universal-credit<<EVENT<:<External Link Clicked<:<https://www.universal-credit.service.gov.uk/sign-in>>/jobsearch<<PAGE<:<NULL<:<NULL>>/jobsearch<<EVENT<:<user_satisfaction...   \n",
       "2033869                                                                                                                                                                                                                                                                                                                                    /government/organisations/land-registry<<PAGE<:<NULL<:<NULL>>/government/organisations/land-registry#freedom-of-information<<EVENT<:<breadcrumbClicked<:<1>>/<<PAGE<:<NULL<:<NULL   \n",
       "2033876                                                                                                                                                                                                                                                                                                                                         /driving-nongb-licence<<PAGE<:<NULL<:<NULL>>/driving-nongb-licence<<EVENT<:<relatedLinkClicked<:<2.1 Explore the topic>>/browse/driving/driving-licences<<PAGE<:<NULL<:<NULL   \n",
       "2034004  /government/organisations/hm-revenue-customs<<PAGE<:<NULL<:<NULL>>/government/organisations/hm-revenue-customs<<EVENT<:<breadcrumbClicked<:<3>>/<<PAGE<:<NULL<:<NULL>>/government/organisations/hm-revenue-customs<<PAGE<:<NULL<:<NULL>>/log-in-register-hmrc-online-services<<PAGE<:<NULL<:<NULL>>/log-in-register-hmrc-online-services<<EVENT<:<contentsClicked<:<content_item 2>>/log-in-register-hmrc-online-services/problems-signing-in<<PAGE<:<NULL<:<NULL>>/log-in-register-hmrc-online-services/problem...   \n",
       "2034006  /done/check-vehicle-tax<<PAGE<:<NULL<:<NULL>>/done/check-vehicle-tax<<EVENT<:<External Link Clicked<:<https://www.nationalarchives.gov.uk/information-management/re-using-public-sector-information/uk-government-licensing-framework/crown-copyright/>>/done/check-vehicle-tax<<EVENT<:<breadcrumbClicked<:<1>>/<<PAGE<:<NULL<:<NULL>>/browse/driving<<PAGE<:<NULL<:<NULL>>/browse/driving<<EVENT<:<secondLevelBrowseLinkClicked<:<2>>/browse/driving/vehicle-tax-mot-insurance<<PAGE<:<NULL<:<NULL>>/browse/dr...   \n",
       "2034014                                                                                                                                                                                            /pay-dartford-crossing-charge<<PAGE<:<NULL<:<NULL>>/pay-dartford-crossing-charge<<PAGE<:<NULL<:<NULL>>/pay-dartford-crossing-charge<<EVENT<:<breadcrumbClicked<:<1>>/<<PAGE<:<NULL<:<NULL>>/pay-dartford-crossing-charge<<EVENT<:<External Link Clicked<:<https://www.dartford-crossing-charge.service.gov.uk/Home/Choose   \n",
       "2034047  /child-car-seats-the-rules/when-a-child-can-travel-without-a-car-seat<<PAGE<:<NULL<:<NULL>>/child-car-seats-the-rules/when-a-child-can-travel-without-a-car-seat<<EVENT<:<relatedLinkClicked<:<2.1 Explore the topic>>/browse/driving/highway-code-road-safety<<PAGE<:<NULL<:<NULL>>/browse/driving/highway-code-road-safety<<EVENT<:<thirdLevelBrowseLinkClicked<:<2.9>>/child-car-seats-the-rules<<PAGE<:<NULL<:<NULL>>/child-car-seats-the-rules<<EVENT<:<contentsClicked<:<next>>/child-car-seats-the-rules/...   \n",
       "2034096                                                                                                                                                                                                       /foreign-travel-advice<<PAGE<:<NULL<:<NULL>>/foreign-travel-advice<<EVENT<:<breadcrumbClicked<:<2>>/browse/abroad<<PAGE<:<NULL<:<NULL>>/browse/abroad<<EVENT<:<user_satisfaction_survey<:<banner_shown>>/browse/abroad<<EVENT<:<secondLevelBrowseLinkClicked<:<2>>/browse/abroad/passports<<PAGE<:<NULL<:<NULL   \n",
       "2034164                                                                                                                                                                                                                                                                    /government/organisations/department-for-work-pensions<<PAGE<:<NULL<:<NULL>>/browse/benefits<<PAGE<:<NULL<:<NULL>>/browse/benefits<<EVENT<:<yesNoFeedbackForm<:<ffNoClick>>/<<PAGE<:<NULL<:<NULL>>/browse/benefits<<EVENT<:<breadcrumbClicked<:<1   \n",
       "2034175  /vehicle-tax<<PAGE<:<NULL<:<NULL>>/vehicle-tax<<EVENT<:<breadcrumbClicked<:<1>>/<<PAGE<:<NULL<:<NULL>>/browse/benefits<<PAGE<:<NULL<:<NULL>>/browse/benefits<<EVENT<:<secondLevelBrowseLinkClicked<:<4>>/browse/benefits/jobseekers-allowance<<PAGE<:<NULL<:<NULL>>/browse/benefits<<EVENT<:<thirdLevelBrowseLinkClicked<:<1.16>>/jobseekers-allowance<<PAGE<:<NULL<:<NULL>>/jobseekers-allowance<<EVENT<:<contentsClicked<:<content_item 4>>/jobseekers-allowance/how-to-claim<<PAGE<:<NULL<:<NULL>>/jobseekers...   \n",
       "2034229  /contact-the-dvla<<PAGE<:<NULL<:<NULL>>/contact-the-dvla<<EVENT<:<relatedLinkClicked<:<2.3 Explore the topic>>/browse/driving/number-plate<<PAGE<:<NULL<:<NULL>>/browse/driving/number-plate<<EVENT<:<secondLevelBrowseLinkClicked<:<4>>/browse/driving/number-plate<<EVENT<:<secondLevelBrowseLinkClicked<:<4>>/browse/driving/number-plate<<EVENT<:<thirdLevelBrowseLinkClicked<:<4.2>>/personalised-vehicle-registration-numbers<<PAGE<:<NULL<:<NULL>>/personalised-vehicle-registration-numbers<<EVENT<:<con...   \n",
       "2034370                                       /government/organisations/department-of-energy-climate-change<<PAGE<:<NULL<:<NULL>>/government/organisations/department-of-energy-climate-change<<EVENT<:<breadcrumbClicked<:<3>>/government/organisations/department-for-business-energy-and-industrial-strategy<<PAGE<:<NULL<:<NULL>>/government/organisations/department-of-energy-climate-change<<PAGE<:<NULL<:<NULL>>/government/organisations/department-for-business-energy-and-industrial-strategy<<PAGE<:<NULL<:<NULL   \n",
       "2034571  /vehicle-tax<<PAGE<:<NULL<:<NULL>>/vehicle-tax<<EVENT<:<relatedLinkClicked<:<1.5 Related content>>/calculate-vehicle-tax-rates<<PAGE<:<NULL<:<NULL>>/vehicle-tax-rate-tables<<PAGE<:<NULL<:<NULL>>/vehicle-tax-rate-tables<<EVENT<:<breadcrumbClicked<:<3>>/browse/driving/vehicle-tax-mot-insurance<<PAGE<:<NULL<:<NULL>>/browse/driving/vehicle-tax-mot-insurance<<EVENT<:<thirdLevelBrowseLinkClicked<:<1.1>>/vehicle-tax<<PAGE<:<NULL<:<NULL>>/vehicle-tax<<EVENT<:<External Link Clicked<:<https://www.vehi...   \n",
       "2034623  /check-mot-history<<PAGE<:<NULL<:<NULL>>/check-mot-history<<EVENT<:<External Link Clicked<:<https://www.check-mot.service.gov.uk/?_ga=2.126499853.1457453991.1541338335-103525021.1498999994>>/check-mot-history<<EVENT<:<breadcrumbClicked<:<3>>/browse/driving/vehicle-tax-mot-insurance<<PAGE<:<NULL<:<NULL>>/browse/driving/vehicle-tax-mot-insurance<<EVENT<:<thirdLevelBrowseLinkClicked<:<1.3>>/check-vehicle-tax<<PAGE<:<NULL<:<NULL>>/check-vehicle-tax<<EVENT<:<External Link Clicked<:<https://www.ve...   \n",
       "2034759                                                                                                                                                                                                                                                  /topic/further-education-skills/apprenticeships<<PAGE<:<NULL<:<NULL>>/topic/further-education-skills/apprenticeships<<EVENT<:<yesNoFeedbackForm<:<ffYesClick>>/topic/further-education-skills/apprenticeships<<EVENT<:<breadcrumbClicked<:<1>>/<<PAGE<:<NULL<:<NULL   \n",
       "2034838                                                                        /topic/personal-tax/self-assessment<<PAGE<:<NULL<:<NULL>>/topic/personal-tax/self-assessment<<EVENT<:<navSubtopicContentItemLinkClicked<:<2.1>>/self-assessment-tax-returns<<PAGE<:<NULL<:<NULL>>/self-assessment-tax-returns<<EVENT<:<relatedLinkClicked<:<2.2 Explore the topic>>/browse/tax/self-assessment<<PAGE<:<NULL<:<NULL>>/self-assessment-tax-returns<<PAGE<:<NULL<:<NULL>>/topic/personal-tax/self-assessment<<PAGE<:<NULL<:<NULL   \n",
       "2034924  /government/statistics/police-workforce-england-and-wales-31-march-2016<<EVENT<:<breadcrumbClicked<:<3>>/crime-justice-and-law/policing<<PAGE<:<NULL<:<NULL>>/government/publications/police-innovation-fund-bidding-form<<EVENT<:<user_satisfaction_survey<:<banner_shown>>/government/publications/police-innovation-fund-bidding-form<<PAGE<:<NULL<:<NULL>>/government/publications/police-innovation-fund-bidding-form<<EVENT<:<Download Link Clicked<:</government/uploads/system/uploads/attachment_data/f...   \n",
       "2035057                                                                                                                                      /child-benefit<<PAGE<:<NULL<:<NULL>>/child-benefit<<EVENT<:<relatedLinkClicked<:<2.3 Explore the topic>>/browse/benefits/child<<PAGE<:<NULL<:<NULL>>/browse/benefits/child<<EVENT<:<thirdLevelBrowseLinkClicked<:<1.7>>/child-benefit-number<<PAGE<:<NULL<:<NULL>>/child-benefit-number<<EVENT<:<External Link Clicked<:<https://online.hmrc.gov.uk/shortforms/form/CBO_General   \n",
       "2035087                                                                           /guidance/immigration-rules/immigration-rules-appendix-v-visitor-rules<<EVENT<:<breadcrumbClicked<:<1>>/<<PAGE<:<NULL<:<NULL>>/browse/visas-immigration<<PAGE<:<NULL<:<NULL>>/browse/visas-immigration<<EVENT<:<secondLevelBrowseLinkClicked<:<3>>/browse/visas-immigration/tourist-short-stay-visas<<PAGE<:<NULL<:<NULL>>/browse/visas-immigration<<EVENT<:<thirdLevelBrowseLinkClicked<:<2.1>>/standard-visitor-visa<<PAGE<:<NULL<:<NULL   \n",
       "2035088  /government/publications/apply-for-a-uk-visa-in-china.zh<<PAGE<:<NULL<:<NULL>>/government/publications/apply-for-a-uk-visa-in-china.zh<<EVENT<:<breadcrumbClicked<:<1>>/<<PAGE<:<NULL<:<NULL>>/browse/visas-immigration<<PAGE<:<NULL<:<NULL>>/browse/visas-immigration<<EVENT<:<secondLevelBrowseLinkClicked<:<3>>/browse/visas-immigration/tourist-short-stay-visas<<PAGE<:<NULL<:<NULL>>/browse/visas-immigration<<EVENT<:<thirdLevelBrowseLinkClicked<:<2.1>>/standard-visitor-visa<<EVENT<:<user_satisfactio...   \n",
       "2035288  /child-tax-credit<<PAGE<:<NULL<:<NULL>>/child-tax-credit<<EVENT<:<contentsClicked<:<content_item 3>>/child-tax-credit/already-claiming<<EVENT<:<user_satisfaction_survey<:<banner_shown>>/child-tax-credit/already-claiming<<PAGE<:<NULL<:<NULL>>/child-tax-credit/already-claiming<<EVENT<:<relatedLinkClicked<:<2.1 Explore the topic>>/browse/benefits/tax-credits<<PAGE<:<NULL<:<NULL>>/browse/benefits/tax-credits<<EVENT<:<thirdLevelBrowseLinkClicked<:<3.2>>/manage-your-tax-credits<<PAGE<:<NULL<:<NULL...   \n",
       "2035421                      /vehicle-tax<<PAGE<:<NULL<:<NULL>>/vehicle-tax<<EVENT<:<breadcrumbClicked<:<3>>/browse/driving/vehicle-tax-mot-insurance<<PAGE<:<NULL<:<NULL>>/browse/driving/vehicle-tax-mot-insurance<<EVENT<:<thirdLevelBrowseLinkClicked<:<1.4>>/check-mot-status<<PAGE<:<NULL<:<NULL>>/check-mot-status<<EVENT<:<External Link Clicked<:<https://www.vehicleenquiry.service.gov.uk/>>/vehicle-tax<<PAGE<:<NULL<:<NULL>>/vehicle-tax<<EVENT<:<External Link Clicked<:<https://www.vehicletax.service.gov.uk   \n",
       "2035438              /government/publications/rates-of-vehicle-tax-v149<<PAGE<:<NULL<:<NULL>>/government/publications/rates-of-vehicle-tax-v149<<EVENT<:<breadcrumbClicked<:<5>>/transport/vehicle-tax<<PAGE<:<NULL<:<NULL>>/government/publications/rates-of-vehicle-tax-v149<<PAGE<:<NULL<:<NULL>>/government/publications/rates-of-vehicle-tax-v149<<EVENT<:<breadcrumbClicked<:<5>>/transport/vehicle-tax<<PAGE<:<NULL<:<NULL>>/government/publications/rates-of-vehicle-tax-v149<<EVENT<:<yesNoFeedbackForm<:<ffNoClick   \n",
       "\n",
       "                                                                                                                                                                                                                                                                                             PageSequence  \\\n",
       "3304                                                                                                                                                                                                                                                           /money/business-tax-ir35-employment-status   \n",
       "3749                                                                                                                                                                                                                                                                     /vehicle-exempt-from-vehicle-tax   \n",
       "5773                                                                                                                                                                                                                                                                                                    /   \n",
       "8988                                                                                                                                                                                                                                                                                          /cymraeg>>/   \n",
       "9002                                                                                                                                                                                                                                                  /national-insurance>>/browse/tax/national-insurance   \n",
       "9079                                                                                                                                                                                                                         /housing-benefit>>/browse/housing-local-services/council-housing-association   \n",
       "9116                                                                                                                                                                                                       /foster-carers/help-with-the-cost-of-fostering>>/browse/births-deaths-marriages/child-adoption   \n",
       "9301                                                                                                                                                                                                                                                                          /browse/business/setting-up   \n",
       "9315                                                                                                                                                                                                                                                         /settle-in-the-uk>>/browse/visas-immigration   \n",
       "9326                                                                                                                                                                                                                                                                              /write-business-plan>>/   \n",
       "9345                                                                                                                                                                                                                    /government/organisations/department-for-work-pensions>>/government/organisations   \n",
       "9379                                                                                                                                                                                                                                                   /bereavement-payment>>/browse/benefits/bereavement   \n",
       "9453                                                                                                                                                                                                                                   /child-benefit/how-to-claim>>/browse/births-deaths-marriages/child   \n",
       "9632                                                                                                                                                                      /government/statistics/secondary-school-performance-tables-in-england-2018-provisional>>/education/pupil-performance-in-schools   \n",
       "9824                                                                                                                                                                                                                                    /caring-for-pets>>/browse/housing-local-services/noise-neighbours   \n",
       "9958                                                                                                                                                                                                                                     /check-national-insurance-record>>/browse/tax/national-insurance   \n",
       "10003                                                                                                                                                                                                                                                /browse/citizenship/citizenship>>/browse/citizenship   \n",
       "10022                                                                                                                                                                                                                                                                    /get-proof-employment-history>>/   \n",
       "10296                                                                                                                                                                                                                  /pay-dartford-crossing-charge/charges-fines>>/browse/driving/driving-uk-and-abroad   \n",
       "10354                                                                                                                                                                                                       /government/organisations/prime-ministers-office-10-downing-street>>/government/organisations   \n",
       "10702                                                                                                                                                                                                                                                                            /jobseekers-allowance>>/   \n",
       "10732                                                                                                                                                                                                                    /settled-status-eu-citizens-families>>/browse/visas-immigration/settle-in-the-uk   \n",
       "11002                                                                                                                                                                                                                      /request-information-from-dvla>>/browse/driving/vehicle-and-driver-information   \n",
       "11141                                                                                                                                                                                                                         /free-school-transport>>/browse/childcare-parenting/financial-help-children   \n",
       "11265                                                                                                                                                                                                                                                                         /vat-rates>>/browse/tax/vat   \n",
       "11282                                                                                                                                       /government/publications/travelling-to-the-eu-with-a-uk-passport-if-theres-no-brexit-deal/travelling-to-the-eu-with-a-uk-passport-if-theres-no-brexit-deal>>/   \n",
       "11361                                                                                                                                                                                                                                                                      /browse/working/finding-job>>/   \n",
       "11399                                                                                                                                                                               /government/publications/data-protection-act-dpa-information-hm-revenue-and-customs-hold-about-you>>/money/income-tax   \n",
       "11425                                                                                                                                                                                                                               /government/organisations/uk-border-agency>>/government/organisations   \n",
       "11463                                                                                                                                                                                                                           /contact-hmrc>>/topic/dealing-with-hmrc/complaints-appeals>>/contact-hmrc   \n",
       "...                                                                                                                                                                                                                                                                                                   ...   \n",
       "2032789                                                                                                                                                                                                  /maximum-weekly-working-hours>>/browse/employing-people/contracts>>/maximum-weekly-working-hours   \n",
       "2032867                                                                                                                                                                                       /tax-overpayments-and-underpayments>>/>>/personal-tax-account>>/personal-tax-account/sign-in/prove-identity   \n",
       "2032891                                                                                                                                                                                                      /government/organisations/hm-revenue-customs>>/topic/dealing-with-hmrc/tax-agent-guidance>>/   \n",
       "2032960                                                                                                                       /renew-adult-passport>>/browse/abroad>>/browse/abroad/passports>>/get-a-child-passport>>/get-a-child-passport/renew-a-child-passport>>/apply-renew-passport>>/passport-fees   \n",
       "2033017                                                                                                                                                                                                                      /take-on-an-apprentice>>/browse/education/find-course>>/apply-apprenticeship   \n",
       "2033026                                                                                                                                                                                                              /overseas-passports>>/browse/abroad>>/browse/abroad/passports>>/apply-renew-passport   \n",
       "2033087                                                                                                                                                                                                                                   /pay-self-assessment-tax-bill>>/pay-self-assessment-tax-bill>>/   \n",
       "2033213                                                                                                          /jobsearch>>/browse/benefits/universal-credit>>/universal-credit>>/sign-in-universal-credit>>/jobsearch>>/browse/benefits/universal-credit>>/universal-credit>>/sign-in-universal-credit   \n",
       "2033869                                                                                                                                                                                                                                                        /government/organisations/land-registry>>/   \n",
       "2033876                                                                                                                                                                                                                                          /driving-nongb-licence>>/browse/driving/driving-licences   \n",
       "2034004                                                            /government/organisations/hm-revenue-customs>>/>>/government/organisations/hm-revenue-customs>>/log-in-register-hmrc-online-services>>/log-in-register-hmrc-online-services/problems-signing-in>>/log-in-register-hmrc-online-services   \n",
       "2034006                                                                                                                                                                                        /done/check-vehicle-tax>>/>>/browse/driving>>/browse/driving/vehicle-tax-mot-insurance>>/check-vehicle-tax   \n",
       "2034014                                                                                                                                                                                                                                   /pay-dartford-crossing-charge>>/pay-dartford-crossing-charge>>/   \n",
       "2034047                                                                                /child-car-seats-the-rules/when-a-child-can-travel-without-a-car-seat>>/browse/driving/highway-code-road-safety>>/child-car-seats-the-rules>>/child-car-seats-the-rules/when-a-child-can-travel-without-a-car-seat   \n",
       "2034096                                                                                                                                                                                                                                  /foreign-travel-advice>>/browse/abroad>>/browse/abroad/passports   \n",
       "2034164                                                                                                                                                                                                                       /government/organisations/department-for-work-pensions>>/browse/benefits>>/   \n",
       "2034175                                                                                                                                                               /vehicle-tax>>/>>/browse/benefits>>/browse/benefits/jobseekers-allowance>>/jobseekers-allowance>>/jobseekers-allowance/how-to-claim   \n",
       "2034229                                                                                                                                            /contact-the-dvla>>/browse/driving/number-plate>>/personalised-vehicle-registration-numbers>>/personalised-vehicle-registration-numbers/keep-or-assign   \n",
       "2034370  /government/organisations/department-of-energy-climate-change>>/government/organisations/department-for-business-energy-and-industrial-strategy>>/government/organisations/department-of-energy-climate-change>>/government/organisations/department-for-business-energy-and-industrial-strategy   \n",
       "2034571                                                                                                                                                                     /vehicle-tax>>/calculate-vehicle-tax-rates>>/vehicle-tax-rate-tables>>/browse/driving/vehicle-tax-mot-insurance>>/vehicle-tax   \n",
       "2034623                                                                                                                                                                                                                 /check-mot-history>>/browse/driving/vehicle-tax-mot-insurance>>/check-vehicle-tax   \n",
       "2034759                                                                                                                                                                                                                                                /topic/further-education-skills/apprenticeships>>/   \n",
       "2034838                                                                                                                                 /topic/personal-tax/self-assessment>>/self-assessment-tax-returns>>/browse/tax/self-assessment>>/self-assessment-tax-returns>>/topic/personal-tax/self-assessment   \n",
       "2034924                                                                                                                                                                                                     /crime-justice-and-law/policing>>/government/publications/police-innovation-fund-bidding-form   \n",
       "2035057                                                                                                                                                                                                                                     /child-benefit>>/browse/benefits/child>>/child-benefit-number   \n",
       "2035087                                                                                                                                                                                          />>/browse/visas-immigration>>/browse/visas-immigration/tourist-short-stay-visas>>/standard-visitor-visa   \n",
       "2035088                                                                                                  /government/publications/apply-for-a-uk-visa-in-china.zh>>/>>/browse/visas-immigration>>/browse/visas-immigration/tourist-short-stay-visas>>/standard-visitor-visa>>/standard-visitor-visa/apply   \n",
       "2035288                                                                                                                                                                                     /child-tax-credit>>/child-tax-credit/already-claiming>>/browse/benefits/tax-credits>>/manage-your-tax-credits   \n",
       "2035421                                                                                                                                                                                                          /vehicle-tax>>/browse/driving/vehicle-tax-mot-insurance>>/check-mot-status>>/vehicle-tax   \n",
       "2035438                                                                                                                                            /government/publications/rates-of-vehicle-tax-v149>>/transport/vehicle-tax>>/government/publications/rates-of-vehicle-tax-v149>>/transport/vehicle-tax   \n",
       "\n",
       "         Occurrences  Page_Seq_Occurrences  \\\n",
       "3304               1                   2.0   \n",
       "3749               1                2076.0   \n",
       "5773               2              452185.0   \n",
       "8988               1                   5.0   \n",
       "9002               5                  15.0   \n",
       "9079               2                   3.0   \n",
       "9116               1                   2.0   \n",
       "9301               1                 733.0   \n",
       "9315               1                   8.0   \n",
       "9326               1                   8.0   \n",
       "9345               5                  59.0   \n",
       "9379               3                  10.0   \n",
       "9453               2                   4.0   \n",
       "9632               2                  10.0   \n",
       "9824               2                   3.0   \n",
       "9958               1                   4.0   \n",
       "10003              1                  19.0   \n",
       "10022              2                   4.0   \n",
       "10296              2                   2.0   \n",
       "10354              3                  16.0   \n",
       "10702              3                  18.0   \n",
       "10732              1                  11.0   \n",
       "11002              2                  53.0   \n",
       "11141              2                   4.0   \n",
       "11265              3                  20.0   \n",
       "11282              1                   5.0   \n",
       "11361              1                  16.0   \n",
       "11399              2                   5.0   \n",
       "11425              1                   2.0   \n",
       "11463              4                  14.0   \n",
       "...              ...                   ...   \n",
       "2032789            1                  14.0   \n",
       "2032867            1                   5.0   \n",
       "2032891            1                   3.0   \n",
       "2032960            1                   2.0   \n",
       "2033017            1                   2.0   \n",
       "2033026            1                   6.0   \n",
       "2033087            1                   2.0   \n",
       "2033213            1                   2.0   \n",
       "2033869            1                 144.0   \n",
       "2033876            1                   2.0   \n",
       "2034004            1                   3.0   \n",
       "2034006            1                 107.0   \n",
       "2034014            1                  92.0   \n",
       "2034047            1                   2.0   \n",
       "2034096            1                   5.0   \n",
       "2034164            1                   7.0   \n",
       "2034175            1                   7.0   \n",
       "2034229            1                  23.0   \n",
       "2034370            1                   2.0   \n",
       "2034571            1                   2.0   \n",
       "2034623            1                 821.0   \n",
       "2034759            1                  32.0   \n",
       "2034838            1                   2.0   \n",
       "2034924            1                   2.0   \n",
       "2035057            1                   5.0   \n",
       "2035087            1                 466.0   \n",
       "2035088            1                   2.0   \n",
       "2035288            1                  11.0   \n",
       "2035421            1                   7.0   \n",
       "2035438            1                   3.0   \n",
       "\n",
       "                                       DeviceCategories  \\\n",
       "3304                                    [('mobile', 1)]   \n",
       "3749                                    [('mobile', 1)]   \n",
       "5773                    [('mobile', 1), ('desktop', 1)]   \n",
       "8988                                    [('mobile', 1)]   \n",
       "9002     [('mobile', 4), ('tablet', 2), ('desktop', 1)]   \n",
       "9079                                    [('mobile', 2)]   \n",
       "9116                                    [('mobile', 1)]   \n",
       "9301                                    [('mobile', 1)]   \n",
       "9315                     [('mobile', 1), ('tablet', 1)]   \n",
       "9326                                    [('mobile', 1)]   \n",
       "9345                    [('mobile', 1), ('desktop', 4)]   \n",
       "9379                    [('mobile', 2), ('desktop', 1)]   \n",
       "9453                                    [('mobile', 2)]   \n",
       "9632     [('mobile', 1), ('desktop', 1), ('tablet', 1)]   \n",
       "9824                                    [('mobile', 2)]   \n",
       "9958                                    [('mobile', 1)]   \n",
       "10003                                   [('mobile', 1)]   \n",
       "10022                   [('mobile', 1), ('desktop', 1)]   \n",
       "10296                                   [('mobile', 2)]   \n",
       "10354    [('mobile', 2), ('tablet', 1), ('desktop', 1)]   \n",
       "10702                   [('mobile', 2), ('desktop', 1)]   \n",
       "10732                                   [('mobile', 1)]   \n",
       "11002                   [('mobile', 1), ('desktop', 1)]   \n",
       "11141                                   [('mobile', 2)]   \n",
       "11265    [('mobile', 2), ('desktop', 1), ('tablet', 1)]   \n",
       "11282                    [('mobile', 1), ('tablet', 1)]   \n",
       "11361                                   [('mobile', 1)]   \n",
       "11399                                   [('mobile', 2)]   \n",
       "11425                                   [('mobile', 1)]   \n",
       "11463                   [('mobile', 2), ('desktop', 2)]   \n",
       "...                                                 ...   \n",
       "2032789                                [('desktop', 1)]   \n",
       "2032867                                 [('mobile', 1)]   \n",
       "2032891                                [('desktop', 1)]   \n",
       "2032960                                [('desktop', 1)]   \n",
       "2033017                                 [('mobile', 1)]   \n",
       "2033026                                [('desktop', 1)]   \n",
       "2033087                                [('desktop', 1)]   \n",
       "2033213                                [('desktop', 1)]   \n",
       "2033869                                 [('mobile', 1)]   \n",
       "2033876                                 [('mobile', 1)]   \n",
       "2034004                                [('desktop', 1)]   \n",
       "2034006                                 [('mobile', 1)]   \n",
       "2034014                                 [('mobile', 1)]   \n",
       "2034047                                 [('mobile', 1)]   \n",
       "2034096                                [('desktop', 1)]   \n",
       "2034164                                [('desktop', 1)]   \n",
       "2034175                                [('desktop', 1)]   \n",
       "2034229                                [('desktop', 1)]   \n",
       "2034370                                 [('mobile', 1)]   \n",
       "2034571                                [('desktop', 1)]   \n",
       "2034623                                 [('mobile', 1)]   \n",
       "2034759                                 [('mobile', 1)]   \n",
       "2034838                                [('desktop', 1)]   \n",
       "2034924                                [('desktop', 1)]   \n",
       "2035057                                 [('mobile', 1)]   \n",
       "2035087                                [('desktop', 1)]   \n",
       "2035088                                [('desktop', 1)]   \n",
       "2035288                                [('desktop', 1)]   \n",
       "2035421                                 [('mobile', 1)]   \n",
       "2035438                                 [('mobile', 1)]   \n",
       "\n",
       "                                                       Dates  \\\n",
       "3304                                       [('20181031', 1)]   \n",
       "3749                                       [('20181031', 1)]   \n",
       "5773                      [('20181031', 1), ('20181029', 1)]   \n",
       "8988                                       [('20181031', 1)]   \n",
       "9002     [('20181031', 1), ('20181029', 2), ('20181102', 4)]   \n",
       "9079                      [('20181031', 1), ('20181029', 1)]   \n",
       "9116                                       [('20181031', 1)]   \n",
       "9301                                       [('20181031', 1)]   \n",
       "9315                      [('20181031', 1), ('20181029', 1)]   \n",
       "9326                                       [('20181031', 1)]   \n",
       "9345     [('20181031', 1), ('20181029', 2), ('20181102', 2)]   \n",
       "9379                      [('20181031', 1), ('20181102', 2)]   \n",
       "9453                      [('20181031', 1), ('20181102', 1)]   \n",
       "9632     [('20181031', 1), ('20181029', 1), ('20181102', 1)]   \n",
       "9824                      [('20181031', 1), ('20181029', 1)]   \n",
       "9958                                       [('20181031', 1)]   \n",
       "10003                                      [('20181031', 1)]   \n",
       "10022                     [('20181031', 1), ('20181102', 1)]   \n",
       "10296                     [('20181031', 1), ('20181029', 1)]   \n",
       "10354    [('20181031', 1), ('20181029', 2), ('20181104', 1)]   \n",
       "10702    [('20181031', 1), ('20181029', 1), ('20181104', 1)]   \n",
       "10732                                      [('20181031', 1)]   \n",
       "11002                     [('20181031', 1), ('20181102', 1)]   \n",
       "11141                     [('20181031', 1), ('20181104', 1)]   \n",
       "11265    [('20181031', 1), ('20181029', 2), ('20181104', 1)]   \n",
       "11282                     [('20181031', 1), ('20181104', 1)]   \n",
       "11361                                      [('20181031', 1)]   \n",
       "11399                     [('20181031', 1), ('20181102', 1)]   \n",
       "11425                                      [('20181031', 1)]   \n",
       "11463    [('20181031', 1), ('20181102', 2), ('20181104', 1)]   \n",
       "...                                                      ...   \n",
       "2032789                                    [('20181104', 1)]   \n",
       "2032867                                    [('20181104', 1)]   \n",
       "2032891                                    [('20181104', 1)]   \n",
       "2032960                                    [('20181104', 1)]   \n",
       "2033017                                    [('20181104', 1)]   \n",
       "2033026                                    [('20181104', 1)]   \n",
       "2033087                                    [('20181104', 1)]   \n",
       "2033213                                    [('20181104', 1)]   \n",
       "2033869                                    [('20181104', 1)]   \n",
       "2033876                                    [('20181104', 1)]   \n",
       "2034004                                    [('20181104', 1)]   \n",
       "2034006                                    [('20181104', 1)]   \n",
       "2034014                                    [('20181104', 1)]   \n",
       "2034047                                    [('20181104', 1)]   \n",
       "2034096                                    [('20181104', 1)]   \n",
       "2034164                                    [('20181104', 1)]   \n",
       "2034175                                    [('20181104', 1)]   \n",
       "2034229                                    [('20181104', 1)]   \n",
       "2034370                                    [('20181104', 1)]   \n",
       "2034571                                    [('20181104', 1)]   \n",
       "2034623                                    [('20181104', 1)]   \n",
       "2034759                                    [('20181104', 1)]   \n",
       "2034838                                    [('20181104', 1)]   \n",
       "2034924                                    [('20181104', 1)]   \n",
       "2035057                                    [('20181104', 1)]   \n",
       "2035087                                    [('20181104', 1)]   \n",
       "2035088                                    [('20181104', 1)]   \n",
       "2035288                                    [('20181104', 1)]   \n",
       "2035421                                    [('20181104', 1)]   \n",
       "2035438                                    [('20181104', 1)]   \n",
       "\n",
       "                                                                                                                                                                                                                                                                                                                                                                                                                                                                                                             Page_Event_List  \\\n",
       "3304                                                                                                                                                                                                                                                                                                                                                                  [('/guidance/check-employment-status-for-tax', 'EVENT<:<breadcrumbClicked<:<5'), ('/money/business-tax-ir35-employment-status', 'PAGE<:<NULL<:<NULL')]   \n",
       "3749                                                                                                                                                                                                                                                                                                                                                                                     [('/vehicle-exempt-from-vehicle-tax', 'PAGE<:<NULL<:<NULL'), ('/vehicle-exempt-from-vehicle-tax', 'EVENT<:<breadcrumbClicked<:<3')]   \n",
       "5773                                                                                                                                                                                                                                                                                                                                                                                                                                       [('/contact-hmrc', 'EVENT<:<breadcrumbClicked<:<1'), ('/', 'PAGE<:<NULL<:<NULL')]   \n",
       "8988                                                                                                                                                                                                                                                                                                                                                                                                        [('/cymraeg', 'PAGE<:<NULL<:<NULL'), ('/cymraeg', 'EVENT<:<breadcrumbClicked<:<1'), ('/', 'PAGE<:<NULL<:<NULL')]   \n",
       "9002                                                                                                                                                                                                                                                                                                                                [('/national-insurance', 'PAGE<:<NULL<:<NULL'), ('/national-insurance', 'EVENT<:<relatedLinkClicked<:<2.1 Explore the topic'), ('/browse/tax/national-insurance', 'PAGE<:<NULL<:<NULL')]   \n",
       "9079                                                                                                                                                                                                                                                                                                          [('/housing-benefit', 'PAGE<:<NULL<:<NULL'), ('/housing-benefit', 'EVENT<:<relatedLinkClicked<:<2.3 Explore the topic'), ('/browse/housing-local-services/council-housing-association', 'PAGE<:<NULL<:<NULL')]   \n",
       "9116                                                                                                                                                                                                                                                          [('/foster-carers/help-with-the-cost-of-fostering', 'PAGE<:<NULL<:<NULL'), ('/foster-carers/help-with-the-cost-of-fostering', 'EVENT<:<relatedLinkClicked<:<2.1 Explore the topic'), ('/browse/births-deaths-marriages/child-adoption', 'PAGE<:<NULL<:<NULL')]   \n",
       "9301                                                                                                                                                                                                               [('/set-up-business/start-with-an-idea', 'EVENT<:<relatedLinkClicked<:<2.1 Explore the topic'), ('/browse/business/setting-up', 'PAGE<:<NULL<:<NULL'), ('/browse/business/setting-up', 'EVENT<:<JavaScript Error<:<TypeError: null is not an object (evaluating document.getElementById(rsstable).src)')]   \n",
       "9315                                                                                                                                                                                                                                                                                                                                                              [('/settle-in-the-uk', 'PAGE<:<NULL<:<NULL'), ('/settle-in-the-uk', 'EVENT<:<breadcrumbClicked<:<2'), ('/browse/visas-immigration', 'PAGE<:<NULL<:<NULL')]   \n",
       "9326                                                                                                                                                                                                                                                                                                                                                                                [('/write-business-plan', 'PAGE<:<NULL<:<NULL'), ('/write-business-plan', 'EVENT<:<breadcrumbClicked<:<1'), ('/', 'PAGE<:<NULL<:<NULL')]   \n",
       "9345                                                                                                                                                                                                                                                                                    [('/government/organisations/department-for-work-pensions', 'PAGE<:<NULL<:<NULL'), ('/government/organisations/department-for-work-pensions', 'EVENT<:<breadcrumbClicked<:<2'), ('/government/organisations', 'PAGE<:<NULL<:<NULL')]   \n",
       "9379                                                                                                                                                                                                                                                                                                                                [('/bereavement-payment', 'PAGE<:<NULL<:<NULL'), ('/bereavement-payment', 'EVENT<:<relatedLinkClicked<:<2.1 Explore the topic'), ('/browse/benefits/bereavement', 'PAGE<:<NULL<:<NULL')]   \n",
       "9453                                                                                                                                                                                                                                                                                                         [('/child-benefit/how-to-claim', 'PAGE<:<NULL<:<NULL'), ('/child-benefit/how-to-claim', 'EVENT<:<relatedLinkClicked<:<2.2 Explore the topic'), ('/browse/births-deaths-marriages/child', 'PAGE<:<NULL<:<NULL')]   \n",
       "9632                                                                                                                                                                                                      [('/government/statistics/secondary-school-performance-tables-in-england-2018-provisional', 'PAGE<:<NULL<:<NULL'), ('/government/statistics/secondary-school-performance-tables-in-england-2018-provisional', 'EVENT<:<breadcrumbClicked<:<5'), ('/education/pupil-performance-in-schools', 'PAGE<:<NULL<:<NULL')]   \n",
       "9824                                                                                                                                                                                                                                                                                                                                          [('/caring-for-pets', 'PAGE<:<NULL<:<NULL'), ('/caring-for-pets', 'EVENT<:<breadcrumbClicked<:<3'), ('/browse/housing-local-services/noise-neighbours', 'PAGE<:<NULL<:<NULL')]   \n",
       "9958                                                                                                                                                                                                                                                                                                      [('/check-national-insurance-record', 'PAGE<:<NULL<:<NULL'), ('/check-national-insurance-record', 'EVENT<:<relatedLinkClicked<:<2.1 Explore the topic'), ('/browse/tax/national-insurance', 'PAGE<:<NULL<:<NULL')]   \n",
       "10003                                                                                                                                                                                                                                                                                                                                       [('/browse/citizenship/citizenship', 'PAGE<:<NULL<:<NULL'), ('/browse/citizenship/citizenship', 'EVENT<:<breadcrumbClicked<:<2'), ('/browse/citizenship', 'PAGE<:<NULL<:<NULL')]   \n",
       "10022                                                                                                                                                                                                                                                                                                                                                             [('/get-proof-employment-history', 'PAGE<:<NULL<:<NULL'), ('/get-proof-employment-history', 'EVENT<:<breadcrumbClicked<:<1'), ('/', 'PAGE<:<NULL<:<NULL')]   \n",
       "10296                                                                                                                                                                                                                                                                        [('/pay-dartford-crossing-charge/charges-fines', 'PAGE<:<NULL<:<NULL'), ('/pay-dartford-crossing-charge/charges-fines', 'EVENT<:<relatedLinkClicked<:<2.1 Explore the topic'), ('/browse/driving/driving-uk-and-abroad', 'PAGE<:<NULL<:<NULL')]   \n",
       "10354                                                                                                                                                                                                                                                           [('/government/organisations/prime-ministers-office-10-downing-street', 'PAGE<:<NULL<:<NULL'), ('/government/organisations/prime-ministers-office-10-downing-street', 'EVENT<:<breadcrumbClicked<:<2'), ('/government/organisations', 'PAGE<:<NULL<:<NULL')]   \n",
       "10702                                                                                                                                                                                                                                                                                                                                                                             [('/jobseekers-allowance', 'PAGE<:<NULL<:<NULL'), ('/jobseekers-allowance', 'EVENT<:<breadcrumbClicked<:<1'), ('/', 'PAGE<:<NULL<:<NULL')]   \n",
       "10732                                                                                                                                                                                                                                                                            [('/settled-status-eu-citizens-families', 'PAGE<:<NULL<:<NULL'), ('/settled-status-eu-citizens-families#fees', 'EVENT<:<relatedLinkClicked<:<2.2 Explore the topic'), ('/browse/visas-immigration/settle-in-the-uk', 'PAGE<:<NULL<:<NULL')]   \n",
       "11002                                                                                                                                                                                                                                                                                         [('/request-information-from-dvla', 'PAGE<:<NULL<:<NULL'), ('/request-information-from-dvla', 'EVENT<:<relatedLinkClicked<:<2.2 Explore the topic'), ('/browse/driving/vehicle-and-driver-information', 'PAGE<:<NULL<:<NULL')]   \n",
       "11141                                                                                                                                                                                                                                                                                                    [('/free-school-transport', 'PAGE<:<NULL<:<NULL'), ('/free-school-transport', 'EVENT<:<relatedLinkClicked<:<2.1 Explore the topic'), ('/browse/childcare-parenting/financial-help-children', 'PAGE<:<NULL<:<NULL')]   \n",
       "11265                                                                                                                                                                                                                                                                                                                                                                [('/vat-rates', 'PAGE<:<NULL<:<NULL'), ('/vat-rates', 'EVENT<:<relatedLinkClicked<:<2.1 Explore the topic'), ('/browse/tax/vat', 'PAGE<:<NULL<:<NULL')]   \n",
       "11282                                                                                                   [('/government/publications/travelling-to-the-eu-with-a-uk-passport-if-theres-no-brexit-deal/travelling-to-the-eu-with-a-uk-passport-if-theres-no-brexit-deal', 'PAGE<:<NULL<:<NULL'), ('/government/publications/travelling-to-the-eu-with-a-uk-passport-if-theres-no-brexit-deal/travelling-to-the-eu-with-a-uk-passport-if-theres-no-brexit-deal', 'EVENT<:<breadcrumbClicked<:<1'), ('/', 'PAGE<:<NULL<:<NULL')]   \n",
       "11361                                                                                                                                                                                                                                                                                                                                                                                  [('/browse/working/finding-job', 'PAGE<:<NULL<:<NULL'), ('/jobsearch', 'EVENT<:<breadcrumbClicked<:<1'), ('/', 'PAGE<:<NULL<:<NULL')]   \n",
       "11399                                                                                                                                                                                                   [('/government/publications/data-protection-act-dpa-information-hm-revenue-and-customs-hold-about-you', 'PAGE<:<NULL<:<NULL'), ('/government/publications/data-protection-act-dpa-information-hm-revenue-and-customs-hold-about-you', 'EVENT<:<breadcrumbClicked<:<4'), ('/money/income-tax', 'PAGE<:<NULL<:<NULL')]   \n",
       "11425                                                                                                                                                                                                                                                                                                           [('/government/organisations/uk-border-agency', 'PAGE<:<NULL<:<NULL'), ('/government/organisations/uk-border-agency', 'EVENT<:<breadcrumbClicked<:<2'), ('/government/organisations', 'PAGE<:<NULL<:<NULL')]   \n",
       "11463                                                                                                                                                                                                                                                                                     [('/contact-hmrc', 'PAGE<:<NULL<:<NULL'), ('/contact-hmrc', 'EVENT<:<relatedLinkClicked<:<2.2 Explore the topic'), ('/topic/dealing-with-hmrc/complaints-appeals', 'PAGE<:<NULL<:<NULL'), ('/contact-hmrc', 'PAGE<:<NULL<:<NULL')]   \n",
       "...                                                                                                                                                                                                                                                                                                                                                                                                                                                                                                                      ...   \n",
       "2032789                                                                                                                                                 [('/maximum-weekly-working-hours', 'PAGE<:<NULL<:<NULL'), ('/maximum-weekly-working-hours', 'EVENT<:<relatedLinkClicked<:<2.1 Explore the topic'), ('/browse/employing-people/contracts', 'EVENT<:<user_satisfaction_survey<:<banner_shown'), ('/browse/employing-people/contracts', 'PAGE<:<NULL<:<NULL'), ('/maximum-weekly-working-hours', 'PAGE<:<NULL<:<NULL')]   \n",
       "2032867                                                                                                   [('/tax-overpayments-and-underpayments', 'PAGE<:<NULL<:<NULL'), ('/tax-overpayments-and-underpayments', 'EVENT<:<breadcrumbClicked<:<1'), ('/', 'PAGE<:<NULL<:<NULL'), ('/personal-tax-account', 'PAGE<:<NULL<:<NULL'), ('/personal-tax-account/sign-in/prove-identity', 'PAGE<:<NULL<:<NULL'), ('/personal-tax-account/sign-in/prove-identity', 'EVENT<:<Radio button chosen<:<sign-in-with-government-gateway')]   \n",
       "2032891                                                                                        [('/government/organisations/hm-revenue-customs', 'EVENT<:<user_satisfaction_survey<:<banner_shown'), ('/government/organisations/hm-revenue-customs', 'PAGE<:<NULL<:<NULL'), ('/topic/dealing-with-hmrc/tax-agent-guidance', 'PAGE<:<NULL<:<NULL'), ('/topic/dealing-with-hmrc/tax-agent-guidance', 'EVENT<:<breadcrumbClicked<:<1'), ('/', 'EVENT<:<user_satisfaction_survey<:<banner_shown'), ('/', 'PAGE<:<NULL<:<NULL')]   \n",
       "2032960  [('/renew-adult-passport', 'PAGE<:<NULL<:<NULL'), ('/renew-adult-passport', 'EVENT<:<breadcrumbClicked<:<2'), ('/browse/abroad', 'PAGE<:<NULL<:<NULL'), ('/browse/abroad', 'EVENT<:<secondLevelBrowseLinkClicked<:<2'), ('/browse/abroad/passports', 'PAGE<:<NULL<:<NULL'), ('/browse/abroad', 'EVENT<:<thirdLevelBrowseLinkClicked<:<1.5'), ('/get-a-child-passport', 'PAGE<:<NULL<:<NULL'), ('/get-a-child-passport', 'EVENT<:<user_satisfaction_survey<:<banner_shown'), ('/get-a-child-passport', 'EVENT<:<c...   \n",
       "2033017                                                     [('/take-on-an-apprentice', 'PAGE<:<NULL<:<NULL'), ('/take-on-an-apprentice', 'EVENT<:<relatedLinkClicked<:<1.1 Explore the topic'), ('/browse/education/find-course', 'PAGE<:<NULL<:<NULL'), ('/browse/education/find-course', 'EVENT<:<thirdLevelBrowseLinkClicked<:<1.15'), ('/apply-apprenticeship', 'PAGE<:<NULL<:<NULL'), ('/apply-apprenticeship', 'EVENT<:<External Link Clicked<:<https://www.findapprenticeship.service.gov.uk/apprenticeshipsearch')]   \n",
       "2033026  [('/overseas-passports', 'PAGE<:<NULL<:<NULL'), ('/overseas-passports', 'EVENT<:<breadcrumbClicked<:<2'), ('/browse/abroad', 'PAGE<:<NULL<:<NULL'), ('/browse/abroad', 'EVENT<:<secondLevelBrowseLinkClicked<:<2'), ('/browse/abroad/passports', 'PAGE<:<NULL<:<NULL'), ('/browse/abroad', 'EVENT<:<thirdLevelBrowseLinkClicked<:<1.1'), ('/apply-renew-passport', 'PAGE<:<NULL<:<NULL'), ('/apply-renew-passport', 'EVENT<:<External Link Clicked<:<https://www.passport.service.gov.uk/filter?_ga=2.200078382....   \n",
       "2033087                                                                                                                                                                                                            [('/pay-self-assessment-tax-bill', 'PAGE<:<NULL<:<NULL'), ('/pay-self-assessment-tax-bill', 'EVENT<:<user_satisfaction_survey<:<banner_shown'), ('/pay-self-assessment-tax-bill', 'PAGE<:<NULL<:<NULL'), ('/pay-self-assessment-tax-bill', 'EVENT<:<breadcrumbClicked<:<1'), ('/', 'PAGE<:<NULL<:<NULL')]   \n",
       "2033213  [('/jobsearch', 'PAGE<:<NULL<:<NULL'), ('/jobsearch', 'EVENT<:<relatedLinkClicked<:<2.1 Explore the topic'), ('/browse/benefits/universal-credit', 'PAGE<:<NULL<:<NULL'), ('/browse/benefits/universal-credit', 'EVENT<:<thirdLevelBrowseLinkClicked<:<1.1'), ('/universal-credit', 'PAGE<:<NULL<:<NULL'), ('/sign-in-universal-credit', 'PAGE<:<NULL<:<NULL'), ('/sign-in-universal-credit', 'EVENT<:<External Link Clicked<:<https://www.universal-credit.service.gov.uk/sign-in'), ('/jobsearch', 'PAGE<:<NUL...   \n",
       "2033869                                                                                                                                                                                                                                                                                                                [('/government/organisations/land-registry', 'PAGE<:<NULL<:<NULL'), ('/government/organisations/land-registry#freedom-of-information', 'EVENT<:<breadcrumbClicked<:<1'), ('/', 'PAGE<:<NULL<:<NULL')]   \n",
       "2033876                                                                                                                                                                                                                                                                                                                     [('/driving-nongb-licence', 'PAGE<:<NULL<:<NULL'), ('/driving-nongb-licence', 'EVENT<:<relatedLinkClicked<:<2.1 Explore the topic'), ('/browse/driving/driving-licences', 'PAGE<:<NULL<:<NULL')]   \n",
       "2034004  [('/government/organisations/hm-revenue-customs', 'PAGE<:<NULL<:<NULL'), ('/government/organisations/hm-revenue-customs', 'EVENT<:<breadcrumbClicked<:<3'), ('/', 'PAGE<:<NULL<:<NULL'), ('/government/organisations/hm-revenue-customs', 'PAGE<:<NULL<:<NULL'), ('/log-in-register-hmrc-online-services', 'PAGE<:<NULL<:<NULL'), ('/log-in-register-hmrc-online-services', 'EVENT<:<contentsClicked<:<content_item 2'), ('/log-in-register-hmrc-online-services/problems-signing-in', 'PAGE<:<NULL<:<NULL'), ('...   \n",
       "2034006  [('/done/check-vehicle-tax', 'PAGE<:<NULL<:<NULL'), ('/done/check-vehicle-tax', 'EVENT<:<External Link Clicked<:<https://www.nationalarchives.gov.uk/information-management/re-using-public-sector-information/uk-government-licensing-framework/crown-copyright/'), ('/done/check-vehicle-tax', 'EVENT<:<breadcrumbClicked<:<1'), ('/', 'PAGE<:<NULL<:<NULL'), ('/browse/driving', 'PAGE<:<NULL<:<NULL'), ('/browse/driving', 'EVENT<:<secondLevelBrowseLinkClicked<:<2'), ('/browse/driving/vehicle-tax-mot-in...   \n",
       "2034014                                                                                                                                                            [('/pay-dartford-crossing-charge', 'PAGE<:<NULL<:<NULL'), ('/pay-dartford-crossing-charge', 'PAGE<:<NULL<:<NULL'), ('/pay-dartford-crossing-charge', 'EVENT<:<breadcrumbClicked<:<1'), ('/', 'PAGE<:<NULL<:<NULL'), ('/pay-dartford-crossing-charge', 'EVENT<:<External Link Clicked<:<https://www.dartford-crossing-charge.service.gov.uk/Home/Choose')]   \n",
       "2034047  [('/child-car-seats-the-rules/when-a-child-can-travel-without-a-car-seat', 'PAGE<:<NULL<:<NULL'), ('/child-car-seats-the-rules/when-a-child-can-travel-without-a-car-seat', 'EVENT<:<relatedLinkClicked<:<2.1 Explore the topic'), ('/browse/driving/highway-code-road-safety', 'PAGE<:<NULL<:<NULL'), ('/browse/driving/highway-code-road-safety', 'EVENT<:<thirdLevelBrowseLinkClicked<:<2.9'), ('/child-car-seats-the-rules', 'PAGE<:<NULL<:<NULL'), ('/child-car-seats-the-rules', 'EVENT<:<contentsClicked<...   \n",
       "2034096                                                                                                                                                                 [('/foreign-travel-advice', 'PAGE<:<NULL<:<NULL'), ('/foreign-travel-advice', 'EVENT<:<breadcrumbClicked<:<2'), ('/browse/abroad', 'PAGE<:<NULL<:<NULL'), ('/browse/abroad', 'EVENT<:<user_satisfaction_survey<:<banner_shown'), ('/browse/abroad', 'EVENT<:<secondLevelBrowseLinkClicked<:<2'), ('/browse/abroad/passports', 'PAGE<:<NULL<:<NULL')]   \n",
       "2034164                                                                                                                                                                                                                                    [('/government/organisations/department-for-work-pensions', 'PAGE<:<NULL<:<NULL'), ('/browse/benefits', 'PAGE<:<NULL<:<NULL'), ('/browse/benefits', 'EVENT<:<yesNoFeedbackForm<:<ffNoClick'), ('/', 'PAGE<:<NULL<:<NULL'), ('/browse/benefits', 'EVENT<:<breadcrumbClicked<:<1')]   \n",
       "2034175  [('/vehicle-tax', 'PAGE<:<NULL<:<NULL'), ('/vehicle-tax', 'EVENT<:<breadcrumbClicked<:<1'), ('/', 'PAGE<:<NULL<:<NULL'), ('/browse/benefits', 'PAGE<:<NULL<:<NULL'), ('/browse/benefits', 'EVENT<:<secondLevelBrowseLinkClicked<:<4'), ('/browse/benefits/jobseekers-allowance', 'PAGE<:<NULL<:<NULL'), ('/browse/benefits', 'EVENT<:<thirdLevelBrowseLinkClicked<:<1.16'), ('/jobseekers-allowance', 'PAGE<:<NULL<:<NULL'), ('/jobseekers-allowance', 'EVENT<:<contentsClicked<:<content_item 4'), ('/jobseeker...   \n",
       "2034229  [('/contact-the-dvla', 'PAGE<:<NULL<:<NULL'), ('/contact-the-dvla', 'EVENT<:<relatedLinkClicked<:<2.3 Explore the topic'), ('/browse/driving/number-plate', 'PAGE<:<NULL<:<NULL'), ('/browse/driving/number-plate', 'EVENT<:<secondLevelBrowseLinkClicked<:<4'), ('/browse/driving/number-plate', 'EVENT<:<secondLevelBrowseLinkClicked<:<4'), ('/browse/driving/number-plate', 'EVENT<:<thirdLevelBrowseLinkClicked<:<4.2'), ('/personalised-vehicle-registration-numbers', 'PAGE<:<NULL<:<NULL'), ('/personali...   \n",
       "2034370       [('/government/organisations/department-of-energy-climate-change', 'PAGE<:<NULL<:<NULL'), ('/government/organisations/department-of-energy-climate-change', 'EVENT<:<breadcrumbClicked<:<3'), ('/government/organisations/department-for-business-energy-and-industrial-strategy', 'PAGE<:<NULL<:<NULL'), ('/government/organisations/department-of-energy-climate-change', 'PAGE<:<NULL<:<NULL'), ('/government/organisations/department-for-business-energy-and-industrial-strategy', 'PAGE<:<NULL<:<NULL')]   \n",
       "2034571  [('/vehicle-tax', 'PAGE<:<NULL<:<NULL'), ('/vehicle-tax', 'EVENT<:<relatedLinkClicked<:<1.5 Related content'), ('/calculate-vehicle-tax-rates', 'PAGE<:<NULL<:<NULL'), ('/vehicle-tax-rate-tables', 'PAGE<:<NULL<:<NULL'), ('/vehicle-tax-rate-tables', 'EVENT<:<breadcrumbClicked<:<3'), ('/browse/driving/vehicle-tax-mot-insurance', 'PAGE<:<NULL<:<NULL'), ('/browse/driving/vehicle-tax-mot-insurance', 'EVENT<:<thirdLevelBrowseLinkClicked<:<1.1'), ('/vehicle-tax', 'PAGE<:<NULL<:<NULL'), ('/vehicle-ta...   \n",
       "2034623  [('/check-mot-history', 'PAGE<:<NULL<:<NULL'), ('/check-mot-history', 'EVENT<:<External Link Clicked<:<https://www.check-mot.service.gov.uk/?_ga=2.126499853.1457453991.1541338335-103525021.1498999994'), ('/check-mot-history', 'EVENT<:<breadcrumbClicked<:<3'), ('/browse/driving/vehicle-tax-mot-insurance', 'PAGE<:<NULL<:<NULL'), ('/browse/driving/vehicle-tax-mot-insurance', 'EVENT<:<thirdLevelBrowseLinkClicked<:<1.3'), ('/check-vehicle-tax', 'PAGE<:<NULL<:<NULL'), ('/check-vehicle-tax', 'EVENT...   \n",
       "2034759                                                                                                                                                                                                                        [('/topic/further-education-skills/apprenticeships', 'PAGE<:<NULL<:<NULL'), ('/topic/further-education-skills/apprenticeships', 'EVENT<:<yesNoFeedbackForm<:<ffYesClick'), ('/topic/further-education-skills/apprenticeships', 'EVENT<:<breadcrumbClicked<:<1'), ('/', 'PAGE<:<NULL<:<NULL')]   \n",
       "2034838                            [('/topic/personal-tax/self-assessment', 'PAGE<:<NULL<:<NULL'), ('/topic/personal-tax/self-assessment', 'EVENT<:<navSubtopicContentItemLinkClicked<:<2.1'), ('/self-assessment-tax-returns', 'PAGE<:<NULL<:<NULL'), ('/self-assessment-tax-returns', 'EVENT<:<relatedLinkClicked<:<2.2 Explore the topic'), ('/browse/tax/self-assessment', 'PAGE<:<NULL<:<NULL'), ('/self-assessment-tax-returns', 'PAGE<:<NULL<:<NULL'), ('/topic/personal-tax/self-assessment', 'PAGE<:<NULL<:<NULL')]   \n",
       "2034924  [('/government/statistics/police-workforce-england-and-wales-31-march-2016', 'EVENT<:<breadcrumbClicked<:<3'), ('/crime-justice-and-law/policing', 'PAGE<:<NULL<:<NULL'), ('/government/publications/police-innovation-fund-bidding-form', 'EVENT<:<user_satisfaction_survey<:<banner_shown'), ('/government/publications/police-innovation-fund-bidding-form', 'PAGE<:<NULL<:<NULL'), ('/government/publications/police-innovation-fund-bidding-form', 'EVENT<:<Download Link Clicked<:</government/uploads/sys...   \n",
       "2035057                                                                                                [('/child-benefit', 'PAGE<:<NULL<:<NULL'), ('/child-benefit', 'EVENT<:<relatedLinkClicked<:<2.3 Explore the topic'), ('/browse/benefits/child', 'PAGE<:<NULL<:<NULL'), ('/browse/benefits/child', 'EVENT<:<thirdLevelBrowseLinkClicked<:<1.7'), ('/child-benefit-number', 'PAGE<:<NULL<:<NULL'), ('/child-benefit-number', 'EVENT<:<External Link Clicked<:<https://online.hmrc.gov.uk/shortforms/form/CBO_General')]   \n",
       "2035087                               [('/guidance/immigration-rules/immigration-rules-appendix-v-visitor-rules', 'EVENT<:<breadcrumbClicked<:<1'), ('/', 'PAGE<:<NULL<:<NULL'), ('/browse/visas-immigration', 'PAGE<:<NULL<:<NULL'), ('/browse/visas-immigration', 'EVENT<:<secondLevelBrowseLinkClicked<:<3'), ('/browse/visas-immigration/tourist-short-stay-visas', 'PAGE<:<NULL<:<NULL'), ('/browse/visas-immigration', 'EVENT<:<thirdLevelBrowseLinkClicked<:<2.1'), ('/standard-visitor-visa', 'PAGE<:<NULL<:<NULL')]   \n",
       "2035088  [('/government/publications/apply-for-a-uk-visa-in-china.zh', 'PAGE<:<NULL<:<NULL'), ('/government/publications/apply-for-a-uk-visa-in-china.zh', 'EVENT<:<breadcrumbClicked<:<1'), ('/', 'PAGE<:<NULL<:<NULL'), ('/browse/visas-immigration', 'PAGE<:<NULL<:<NULL'), ('/browse/visas-immigration', 'EVENT<:<secondLevelBrowseLinkClicked<:<3'), ('/browse/visas-immigration/tourist-short-stay-visas', 'PAGE<:<NULL<:<NULL'), ('/browse/visas-immigration', 'EVENT<:<thirdLevelBrowseLinkClicked<:<2.1'), ('/st...   \n",
       "2035288  [('/child-tax-credit', 'PAGE<:<NULL<:<NULL'), ('/child-tax-credit', 'EVENT<:<contentsClicked<:<content_item 3'), ('/child-tax-credit/already-claiming', 'EVENT<:<user_satisfaction_survey<:<banner_shown'), ('/child-tax-credit/already-claiming', 'PAGE<:<NULL<:<NULL'), ('/child-tax-credit/already-claiming', 'EVENT<:<relatedLinkClicked<:<2.1 Explore the topic'), ('/browse/benefits/tax-credits', 'PAGE<:<NULL<:<NULL'), ('/browse/benefits/tax-credits', 'EVENT<:<thirdLevelBrowseLinkClicked<:<3.2'), (...   \n",
       "2035421  [('/vehicle-tax', 'PAGE<:<NULL<:<NULL'), ('/vehicle-tax', 'EVENT<:<breadcrumbClicked<:<3'), ('/browse/driving/vehicle-tax-mot-insurance', 'PAGE<:<NULL<:<NULL'), ('/browse/driving/vehicle-tax-mot-insurance', 'EVENT<:<thirdLevelBrowseLinkClicked<:<1.4'), ('/check-mot-status', 'PAGE<:<NULL<:<NULL'), ('/check-mot-status', 'EVENT<:<External Link Clicked<:<https://www.vehicleenquiry.service.gov.uk/'), ('/vehicle-tax', 'PAGE<:<NULL<:<NULL'), ('/vehicle-tax', 'EVENT<:<External Link Clicked<:<https:/...   \n",
       "2035438  [('/government/publications/rates-of-vehicle-tax-v149', 'PAGE<:<NULL<:<NULL'), ('/government/publications/rates-of-vehicle-tax-v149', 'EVENT<:<breadcrumbClicked<:<5'), ('/transport/vehicle-tax', 'PAGE<:<NULL<:<NULL'), ('/government/publications/rates-of-vehicle-tax-v149', 'PAGE<:<NULL<:<NULL'), ('/government/publications/rates-of-vehicle-tax-v149', 'EVENT<:<breadcrumbClicked<:<5'), ('/transport/vehicle-tax', 'PAGE<:<NULL<:<NULL'), ('/government/publications/rates-of-vehicle-tax-v149', 'EVENT...   \n",
       "\n",
       "                                                                                                                                                                                                                                                                                                  Page_List  \\\n",
       "3304                                                                                                                                                                                                                                                           [/money/business-tax-ir35-employment-status]   \n",
       "3749                                                                                                                                                                                                                                                                     [/vehicle-exempt-from-vehicle-tax]   \n",
       "5773                                                                                                                                                                                                                                                                                                    [/]   \n",
       "8988                                                                                                                                                                                                                                                                                          [/cymraeg, /]   \n",
       "9002                                                                                                                                                                                                                                                  [/national-insurance, /browse/tax/national-insurance]   \n",
       "9079                                                                                                                                                                                                                         [/housing-benefit, /browse/housing-local-services/council-housing-association]   \n",
       "9116                                                                                                                                                                                                       [/foster-carers/help-with-the-cost-of-fostering, /browse/births-deaths-marriages/child-adoption]   \n",
       "9301                                                                                                                                                                                                                                                                          [/browse/business/setting-up]   \n",
       "9315                                                                                                                                                                                                                                                         [/settle-in-the-uk, /browse/visas-immigration]   \n",
       "9326                                                                                                                                                                                                                                                                              [/write-business-plan, /]   \n",
       "9345                                                                                                                                                                                                                    [/government/organisations/department-for-work-pensions, /government/organisations]   \n",
       "9379                                                                                                                                                                                                                                                   [/bereavement-payment, /browse/benefits/bereavement]   \n",
       "9453                                                                                                                                                                                                                                   [/child-benefit/how-to-claim, /browse/births-deaths-marriages/child]   \n",
       "9632                                                                                                                                                                      [/government/statistics/secondary-school-performance-tables-in-england-2018-provisional, /education/pupil-performance-in-schools]   \n",
       "9824                                                                                                                                                                                                                                    [/caring-for-pets, /browse/housing-local-services/noise-neighbours]   \n",
       "9958                                                                                                                                                                                                                                     [/check-national-insurance-record, /browse/tax/national-insurance]   \n",
       "10003                                                                                                                                                                                                                                                [/browse/citizenship/citizenship, /browse/citizenship]   \n",
       "10022                                                                                                                                                                                                                                                                    [/get-proof-employment-history, /]   \n",
       "10296                                                                                                                                                                                                                  [/pay-dartford-crossing-charge/charges-fines, /browse/driving/driving-uk-and-abroad]   \n",
       "10354                                                                                                                                                                                                       [/government/organisations/prime-ministers-office-10-downing-street, /government/organisations]   \n",
       "10702                                                                                                                                                                                                                                                                            [/jobseekers-allowance, /]   \n",
       "10732                                                                                                                                                                                                                    [/settled-status-eu-citizens-families, /browse/visas-immigration/settle-in-the-uk]   \n",
       "11002                                                                                                                                                                                                                      [/request-information-from-dvla, /browse/driving/vehicle-and-driver-information]   \n",
       "11141                                                                                                                                                                                                                         [/free-school-transport, /browse/childcare-parenting/financial-help-children]   \n",
       "11265                                                                                                                                                                                                                                                                         [/vat-rates, /browse/tax/vat]   \n",
       "11282                                                                                                                                       [/government/publications/travelling-to-the-eu-with-a-uk-passport-if-theres-no-brexit-deal/travelling-to-the-eu-with-a-uk-passport-if-theres-no-brexit-deal, /]   \n",
       "11361                                                                                                                                                                                                                                                                      [/browse/working/finding-job, /]   \n",
       "11399                                                                                                                                                                               [/government/publications/data-protection-act-dpa-information-hm-revenue-and-customs-hold-about-you, /money/income-tax]   \n",
       "11425                                                                                                                                                                                                                               [/government/organisations/uk-border-agency, /government/organisations]   \n",
       "11463                                                                                                                                                                                                                           [/contact-hmrc, /topic/dealing-with-hmrc/complaints-appeals, /contact-hmrc]   \n",
       "...                                                                                                                                                                                                                                                                                                     ...   \n",
       "2032789                                                                                                                                                                                                  [/maximum-weekly-working-hours, /browse/employing-people/contracts, /maximum-weekly-working-hours]   \n",
       "2032867                                                                                                                                                                                       [/tax-overpayments-and-underpayments, /, /personal-tax-account, /personal-tax-account/sign-in/prove-identity]   \n",
       "2032891                                                                                                                                                                                                      [/government/organisations/hm-revenue-customs, /topic/dealing-with-hmrc/tax-agent-guidance, /]   \n",
       "2032960                                                                                                                       [/renew-adult-passport, /browse/abroad, /browse/abroad/passports, /get-a-child-passport, /get-a-child-passport/renew-a-child-passport, /apply-renew-passport, /passport-fees]   \n",
       "2033017                                                                                                                                                                                                                      [/take-on-an-apprentice, /browse/education/find-course, /apply-apprenticeship]   \n",
       "2033026                                                                                                                                                                                                              [/overseas-passports, /browse/abroad, /browse/abroad/passports, /apply-renew-passport]   \n",
       "2033087                                                                                                                                                                                                                                   [/pay-self-assessment-tax-bill, /pay-self-assessment-tax-bill, /]   \n",
       "2033213                                                                                                          [/jobsearch, /browse/benefits/universal-credit, /universal-credit, /sign-in-universal-credit, /jobsearch, /browse/benefits/universal-credit, /universal-credit, /sign-in-universal-credit]   \n",
       "2033869                                                                                                                                                                                                                                                        [/government/organisations/land-registry, /]   \n",
       "2033876                                                                                                                                                                                                                                          [/driving-nongb-licence, /browse/driving/driving-licences]   \n",
       "2034004                                                            [/government/organisations/hm-revenue-customs, /, /government/organisations/hm-revenue-customs, /log-in-register-hmrc-online-services, /log-in-register-hmrc-online-services/problems-signing-in, /log-in-register-hmrc-online-services]   \n",
       "2034006                                                                                                                                                                                        [/done/check-vehicle-tax, /, /browse/driving, /browse/driving/vehicle-tax-mot-insurance, /check-vehicle-tax]   \n",
       "2034014                                                                                                                                                                                                                                   [/pay-dartford-crossing-charge, /pay-dartford-crossing-charge, /]   \n",
       "2034047                                                                                [/child-car-seats-the-rules/when-a-child-can-travel-without-a-car-seat, /browse/driving/highway-code-road-safety, /child-car-seats-the-rules, /child-car-seats-the-rules/when-a-child-can-travel-without-a-car-seat]   \n",
       "2034096                                                                                                                                                                                                                                  [/foreign-travel-advice, /browse/abroad, /browse/abroad/passports]   \n",
       "2034164                                                                                                                                                                                                                       [/government/organisations/department-for-work-pensions, /browse/benefits, /]   \n",
       "2034175                                                                                                                                                               [/vehicle-tax, /, /browse/benefits, /browse/benefits/jobseekers-allowance, /jobseekers-allowance, /jobseekers-allowance/how-to-claim]   \n",
       "2034229                                                                                                                                            [/contact-the-dvla, /browse/driving/number-plate, /personalised-vehicle-registration-numbers, /personalised-vehicle-registration-numbers/keep-or-assign]   \n",
       "2034370  [/government/organisations/department-of-energy-climate-change, /government/organisations/department-for-business-energy-and-industrial-strategy, /government/organisations/department-of-energy-climate-change, /government/organisations/department-for-business-energy-and-industrial-strategy]   \n",
       "2034571                                                                                                                                                                     [/vehicle-tax, /calculate-vehicle-tax-rates, /vehicle-tax-rate-tables, /browse/driving/vehicle-tax-mot-insurance, /vehicle-tax]   \n",
       "2034623                                                                                                                                                                                                                 [/check-mot-history, /browse/driving/vehicle-tax-mot-insurance, /check-vehicle-tax]   \n",
       "2034759                                                                                                                                                                                                                                                [/topic/further-education-skills/apprenticeships, /]   \n",
       "2034838                                                                                                                                 [/topic/personal-tax/self-assessment, /self-assessment-tax-returns, /browse/tax/self-assessment, /self-assessment-tax-returns, /topic/personal-tax/self-assessment]   \n",
       "2034924                                                                                                                                                                                                     [/crime-justice-and-law/policing, /government/publications/police-innovation-fund-bidding-form]   \n",
       "2035057                                                                                                                                                                                                                                     [/child-benefit, /browse/benefits/child, /child-benefit-number]   \n",
       "2035087                                                                                                                                                                                          [/, /browse/visas-immigration, /browse/visas-immigration/tourist-short-stay-visas, /standard-visitor-visa]   \n",
       "2035088                                                                                                  [/government/publications/apply-for-a-uk-visa-in-china.zh, /, /browse/visas-immigration, /browse/visas-immigration/tourist-short-stay-visas, /standard-visitor-visa, /standard-visitor-visa/apply]   \n",
       "2035288                                                                                                                                                                                     [/child-tax-credit, /child-tax-credit/already-claiming, /browse/benefits/tax-credits, /manage-your-tax-credits]   \n",
       "2035421                                                                                                                                                                                                          [/vehicle-tax, /browse/driving/vehicle-tax-mot-insurance, /check-mot-status, /vehicle-tax]   \n",
       "2035438                                                                                                                                            [/government/publications/rates-of-vehicle-tax-v149, /transport/vehicle-tax, /government/publications/rates-of-vehicle-tax-v149, /transport/vehicle-tax]   \n",
       "\n",
       "                                                                                                                                                                                                                                                                                    PageSequence_internal  \\\n",
       "3304                                                                                                                                                                                                                                                           /money/business-tax-ir35-employment-status   \n",
       "3749                                                                                                                                                                                                                                                                     /vehicle-exempt-from-vehicle-tax   \n",
       "5773                                                                                                                                                                                                                                                                                                    /   \n",
       "8988                                                                                                                                                                                                                                                                                          /cymraeg>>/   \n",
       "9002                                                                                                                                                                                                                                                  /national-insurance>>/browse/tax/national-insurance   \n",
       "9079                                                                                                                                                                                                                         /housing-benefit>>/browse/housing-local-services/council-housing-association   \n",
       "9116                                                                                                                                                                                                       /foster-carers/help-with-the-cost-of-fostering>>/browse/births-deaths-marriages/child-adoption   \n",
       "9301                                                                                                                                                                                                                                                                          /browse/business/setting-up   \n",
       "9315                                                                                                                                                                                                                                                         /settle-in-the-uk>>/browse/visas-immigration   \n",
       "9326                                                                                                                                                                                                                                                                              /write-business-plan>>/   \n",
       "9345                                                                                                                                                                                                                    /government/organisations/department-for-work-pensions>>/government/organisations   \n",
       "9379                                                                                                                                                                                                                                                   /bereavement-payment>>/browse/benefits/bereavement   \n",
       "9453                                                                                                                                                                                                                                   /child-benefit/how-to-claim>>/browse/births-deaths-marriages/child   \n",
       "9632                                                                                                                                                                      /government/statistics/secondary-school-performance-tables-in-england-2018-provisional>>/education/pupil-performance-in-schools   \n",
       "9824                                                                                                                                                                                                                                    /caring-for-pets>>/browse/housing-local-services/noise-neighbours   \n",
       "9958                                                                                                                                                                                                                                     /check-national-insurance-record>>/browse/tax/national-insurance   \n",
       "10003                                                                                                                                                                                                                                                /browse/citizenship/citizenship>>/browse/citizenship   \n",
       "10022                                                                                                                                                                                                                                                                    /get-proof-employment-history>>/   \n",
       "10296                                                                                                                                                                                                                  /pay-dartford-crossing-charge/charges-fines>>/browse/driving/driving-uk-and-abroad   \n",
       "10354                                                                                                                                                                                                       /government/organisations/prime-ministers-office-10-downing-street>>/government/organisations   \n",
       "10702                                                                                                                                                                                                                                                                            /jobseekers-allowance>>/   \n",
       "10732                                                                                                                                                                                                                    /settled-status-eu-citizens-families>>/browse/visas-immigration/settle-in-the-uk   \n",
       "11002                                                                                                                                                                                                                      /request-information-from-dvla>>/browse/driving/vehicle-and-driver-information   \n",
       "11141                                                                                                                                                                                                                         /free-school-transport>>/browse/childcare-parenting/financial-help-children   \n",
       "11265                                                                                                                                                                                                                                                                         /vat-rates>>/browse/tax/vat   \n",
       "11282                                                                                                                                       /government/publications/travelling-to-the-eu-with-a-uk-passport-if-theres-no-brexit-deal/travelling-to-the-eu-with-a-uk-passport-if-theres-no-brexit-deal>>/   \n",
       "11361                                                                                                                                                                                                                                                                      /browse/working/finding-job>>/   \n",
       "11399                                                                                                                                                                               /government/publications/data-protection-act-dpa-information-hm-revenue-and-customs-hold-about-you>>/money/income-tax   \n",
       "11425                                                                                                                                                                                                                               /government/organisations/uk-border-agency>>/government/organisations   \n",
       "11463                                                                                                                                                                                                                           /contact-hmrc>>/topic/dealing-with-hmrc/complaints-appeals>>/contact-hmrc   \n",
       "...                                                                                                                                                                                                                                                                                                   ...   \n",
       "2032789                                                                                                                                                                                                  /maximum-weekly-working-hours>>/browse/employing-people/contracts>>/maximum-weekly-working-hours   \n",
       "2032867                                                                                                                                                                                       /tax-overpayments-and-underpayments>>/>>/personal-tax-account>>/personal-tax-account/sign-in/prove-identity   \n",
       "2032891                                                                                                                                                                                                      /government/organisations/hm-revenue-customs>>/topic/dealing-with-hmrc/tax-agent-guidance>>/   \n",
       "2032960                                                                                                                       /renew-adult-passport>>/browse/abroad>>/browse/abroad/passports>>/get-a-child-passport>>/get-a-child-passport/renew-a-child-passport>>/apply-renew-passport>>/passport-fees   \n",
       "2033017                                                                                                                                                                                                                      /take-on-an-apprentice>>/browse/education/find-course>>/apply-apprenticeship   \n",
       "2033026                                                                                                                                                                                                              /overseas-passports>>/browse/abroad>>/browse/abroad/passports>>/apply-renew-passport   \n",
       "2033087                                                                                                                                                                                                                                   /pay-self-assessment-tax-bill>>/pay-self-assessment-tax-bill>>/   \n",
       "2033213                                                                                                          /jobsearch>>/browse/benefits/universal-credit>>/universal-credit>>/sign-in-universal-credit>>/jobsearch>>/browse/benefits/universal-credit>>/universal-credit>>/sign-in-universal-credit   \n",
       "2033869                                                                                                                                                                                                                                                        /government/organisations/land-registry>>/   \n",
       "2033876                                                                                                                                                                                                                                          /driving-nongb-licence>>/browse/driving/driving-licences   \n",
       "2034004                                                            /government/organisations/hm-revenue-customs>>/>>/government/organisations/hm-revenue-customs>>/log-in-register-hmrc-online-services>>/log-in-register-hmrc-online-services/problems-signing-in>>/log-in-register-hmrc-online-services   \n",
       "2034006                                                                                                                                                                                        /done/check-vehicle-tax>>/>>/browse/driving>>/browse/driving/vehicle-tax-mot-insurance>>/check-vehicle-tax   \n",
       "2034014                                                                                                                                                                                                                                   /pay-dartford-crossing-charge>>/pay-dartford-crossing-charge>>/   \n",
       "2034047                                                                                /child-car-seats-the-rules/when-a-child-can-travel-without-a-car-seat>>/browse/driving/highway-code-road-safety>>/child-car-seats-the-rules>>/child-car-seats-the-rules/when-a-child-can-travel-without-a-car-seat   \n",
       "2034096                                                                                                                                                                                                                                  /foreign-travel-advice>>/browse/abroad>>/browse/abroad/passports   \n",
       "2034164                                                                                                                                                                                                                       /government/organisations/department-for-work-pensions>>/browse/benefits>>/   \n",
       "2034175                                                                                                                                                               /vehicle-tax>>/>>/browse/benefits>>/browse/benefits/jobseekers-allowance>>/jobseekers-allowance>>/jobseekers-allowance/how-to-claim   \n",
       "2034229                                                                                                                                            /contact-the-dvla>>/browse/driving/number-plate>>/personalised-vehicle-registration-numbers>>/personalised-vehicle-registration-numbers/keep-or-assign   \n",
       "2034370  /government/organisations/department-of-energy-climate-change>>/government/organisations/department-for-business-energy-and-industrial-strategy>>/government/organisations/department-of-energy-climate-change>>/government/organisations/department-for-business-energy-and-industrial-strategy   \n",
       "2034571                                                                                                                                                                     /vehicle-tax>>/calculate-vehicle-tax-rates>>/vehicle-tax-rate-tables>>/browse/driving/vehicle-tax-mot-insurance>>/vehicle-tax   \n",
       "2034623                                                                                                                                                                                                                 /check-mot-history>>/browse/driving/vehicle-tax-mot-insurance>>/check-vehicle-tax   \n",
       "2034759                                                                                                                                                                                                                                                /topic/further-education-skills/apprenticeships>>/   \n",
       "2034838                                                                                                                                 /topic/personal-tax/self-assessment>>/self-assessment-tax-returns>>/browse/tax/self-assessment>>/self-assessment-tax-returns>>/topic/personal-tax/self-assessment   \n",
       "2034924                                                                                                                                                                                                     /crime-justice-and-law/policing>>/government/publications/police-innovation-fund-bidding-form   \n",
       "2035057                                                                                                                                                                                                                                     /child-benefit>>/browse/benefits/child>>/child-benefit-number   \n",
       "2035087                                                                                                                                                                                          />>/browse/visas-immigration>>/browse/visas-immigration/tourist-short-stay-visas>>/standard-visitor-visa   \n",
       "2035088                                                                                                  /government/publications/apply-for-a-uk-visa-in-china.zh>>/>>/browse/visas-immigration>>/browse/visas-immigration/tourist-short-stay-visas>>/standard-visitor-visa>>/standard-visitor-visa/apply   \n",
       "2035288                                                                                                                                                                                     /child-tax-credit>>/child-tax-credit/already-claiming>>/browse/benefits/tax-credits>>/manage-your-tax-credits   \n",
       "2035421                                                                                                                                                                                                          /vehicle-tax>>/browse/driving/vehicle-tax-mot-insurance>>/check-mot-status>>/vehicle-tax   \n",
       "2035438                                                                                                                                            /government/publications/rates-of-vehicle-tax-v149>>/transport/vehicle-tax>>/government/publications/rates-of-vehicle-tax-v149>>/transport/vehicle-tax   \n",
       "\n",
       "                                                                                                                                                                                                                                                                                                                                                                                                                                                                                                                  Event_List  \\\n",
       "3304                                                                                                                                                                                                                                                                                                                                                                                                                                                                [('breadcrumbClicked', '5'), ('PAGE_NULL', 'PAGE_NULL')]   \n",
       "3749                                                                                                                                                                                                                                                                                                                                                                                                                                                                [('PAGE_NULL', 'PAGE_NULL'), ('breadcrumbClicked', '3')]   \n",
       "5773                                                                                                                                                                                                                                                                                                                                                                                                                                                                [('breadcrumbClicked', '1'), ('PAGE_NULL', 'PAGE_NULL')]   \n",
       "8988                                                                                                                                                                                                                                                                                                                                                                                                                                    [('PAGE_NULL', 'PAGE_NULL'), ('breadcrumbClicked', '1'), ('PAGE_NULL', 'PAGE_NULL')]   \n",
       "9002                                                                                                                                                                                                                                                                                                                                                                                                               [('PAGE_NULL', 'PAGE_NULL'), ('relatedLinkClicked', '2.1 Explore the topic'), ('PAGE_NULL', 'PAGE_NULL')]   \n",
       "9079                                                                                                                                                                                                                                                                                                                                                                                                               [('PAGE_NULL', 'PAGE_NULL'), ('relatedLinkClicked', '2.3 Explore the topic'), ('PAGE_NULL', 'PAGE_NULL')]   \n",
       "9116                                                                                                                                                                                                                                                                                                                                                                                                               [('PAGE_NULL', 'PAGE_NULL'), ('relatedLinkClicked', '2.1 Explore the topic'), ('PAGE_NULL', 'PAGE_NULL')]   \n",
       "9301                                                                                                                                                                                                                                                                                                                              [('relatedLinkClicked', '2.1 Explore the topic'), ('PAGE_NULL', 'PAGE_NULL'), ('JavaScript Error', 'TypeError: null is not an object (evaluating document.getElementById(rsstable).src)')]   \n",
       "9315                                                                                                                                                                                                                                                                                                                                                                                                                                    [('PAGE_NULL', 'PAGE_NULL'), ('breadcrumbClicked', '2'), ('PAGE_NULL', 'PAGE_NULL')]   \n",
       "9326                                                                                                                                                                                                                                                                                                                                                                                                                                    [('PAGE_NULL', 'PAGE_NULL'), ('breadcrumbClicked', '1'), ('PAGE_NULL', 'PAGE_NULL')]   \n",
       "9345                                                                                                                                                                                                                                                                                                                                                                                                                                    [('PAGE_NULL', 'PAGE_NULL'), ('breadcrumbClicked', '2'), ('PAGE_NULL', 'PAGE_NULL')]   \n",
       "9379                                                                                                                                                                                                                                                                                                                                                                                                               [('PAGE_NULL', 'PAGE_NULL'), ('relatedLinkClicked', '2.1 Explore the topic'), ('PAGE_NULL', 'PAGE_NULL')]   \n",
       "9453                                                                                                                                                                                                                                                                                                                                                                                                               [('PAGE_NULL', 'PAGE_NULL'), ('relatedLinkClicked', '2.2 Explore the topic'), ('PAGE_NULL', 'PAGE_NULL')]   \n",
       "9632                                                                                                                                                                                                                                                                                                                                                                                                                                    [('PAGE_NULL', 'PAGE_NULL'), ('breadcrumbClicked', '5'), ('PAGE_NULL', 'PAGE_NULL')]   \n",
       "9824                                                                                                                                                                                                                                                                                                                                                                                                                                    [('PAGE_NULL', 'PAGE_NULL'), ('breadcrumbClicked', '3'), ('PAGE_NULL', 'PAGE_NULL')]   \n",
       "9958                                                                                                                                                                                                                                                                                                                                                                                                               [('PAGE_NULL', 'PAGE_NULL'), ('relatedLinkClicked', '2.1 Explore the topic'), ('PAGE_NULL', 'PAGE_NULL')]   \n",
       "10003                                                                                                                                                                                                                                                                                                                                                                                                                                   [('PAGE_NULL', 'PAGE_NULL'), ('breadcrumbClicked', '2'), ('PAGE_NULL', 'PAGE_NULL')]   \n",
       "10022                                                                                                                                                                                                                                                                                                                                                                                                                                   [('PAGE_NULL', 'PAGE_NULL'), ('breadcrumbClicked', '1'), ('PAGE_NULL', 'PAGE_NULL')]   \n",
       "10296                                                                                                                                                                                                                                                                                                                                                                                                              [('PAGE_NULL', 'PAGE_NULL'), ('relatedLinkClicked', '2.1 Explore the topic'), ('PAGE_NULL', 'PAGE_NULL')]   \n",
       "10354                                                                                                                                                                                                                                                                                                                                                                                                                                   [('PAGE_NULL', 'PAGE_NULL'), ('breadcrumbClicked', '2'), ('PAGE_NULL', 'PAGE_NULL')]   \n",
       "10702                                                                                                                                                                                                                                                                                                                                                                                                                                   [('PAGE_NULL', 'PAGE_NULL'), ('breadcrumbClicked', '1'), ('PAGE_NULL', 'PAGE_NULL')]   \n",
       "10732                                                                                                                                                                                                                                                                                                                                                                                                              [('PAGE_NULL', 'PAGE_NULL'), ('relatedLinkClicked', '2.2 Explore the topic'), ('PAGE_NULL', 'PAGE_NULL')]   \n",
       "11002                                                                                                                                                                                                                                                                                                                                                                                                              [('PAGE_NULL', 'PAGE_NULL'), ('relatedLinkClicked', '2.2 Explore the topic'), ('PAGE_NULL', 'PAGE_NULL')]   \n",
       "11141                                                                                                                                                                                                                                                                                                                                                                                                              [('PAGE_NULL', 'PAGE_NULL'), ('relatedLinkClicked', '2.1 Explore the topic'), ('PAGE_NULL', 'PAGE_NULL')]   \n",
       "11265                                                                                                                                                                                                                                                                                                                                                                                                              [('PAGE_NULL', 'PAGE_NULL'), ('relatedLinkClicked', '2.1 Explore the topic'), ('PAGE_NULL', 'PAGE_NULL')]   \n",
       "11282                                                                                                                                                                                                                                                                                                                                                                                                                                   [('PAGE_NULL', 'PAGE_NULL'), ('breadcrumbClicked', '1'), ('PAGE_NULL', 'PAGE_NULL')]   \n",
       "11361                                                                                                                                                                                                                                                                                                                                                                                                                                   [('PAGE_NULL', 'PAGE_NULL'), ('breadcrumbClicked', '1'), ('PAGE_NULL', 'PAGE_NULL')]   \n",
       "11399                                                                                                                                                                                                                                                                                                                                                                                                                                   [('PAGE_NULL', 'PAGE_NULL'), ('breadcrumbClicked', '4'), ('PAGE_NULL', 'PAGE_NULL')]   \n",
       "11425                                                                                                                                                                                                                                                                                                                                                                                                                                   [('PAGE_NULL', 'PAGE_NULL'), ('breadcrumbClicked', '2'), ('PAGE_NULL', 'PAGE_NULL')]   \n",
       "11463                                                                                                                                                                                                                                                                                                                                                                                  [('PAGE_NULL', 'PAGE_NULL'), ('relatedLinkClicked', '2.2 Explore the topic'), ('PAGE_NULL', 'PAGE_NULL'), ('PAGE_NULL', 'PAGE_NULL')]   \n",
       "...                                                                                                                                                                                                                                                                                                                                                                                                                                                                                                                      ...   \n",
       "2032789                                                                                                                                                                                                                                                                                                                                  [('PAGE_NULL', 'PAGE_NULL'), ('relatedLinkClicked', '2.1 Explore the topic'), ('user_satisfaction_survey', 'banner_shown'), ('PAGE_NULL', 'PAGE_NULL'), ('PAGE_NULL', 'PAGE_NULL')]   \n",
       "2032867                                                                                                                                                                                                                                                                                                             [('PAGE_NULL', 'PAGE_NULL'), ('breadcrumbClicked', '1'), ('PAGE_NULL', 'PAGE_NULL'), ('PAGE_NULL', 'PAGE_NULL'), ('PAGE_NULL', 'PAGE_NULL'), ('Radio button chosen', 'sign-in-with-government-gateway')]   \n",
       "2032891                                                                                                                                                                                                                                                                                                         [('user_satisfaction_survey', 'banner_shown'), ('PAGE_NULL', 'PAGE_NULL'), ('PAGE_NULL', 'PAGE_NULL'), ('breadcrumbClicked', '1'), ('user_satisfaction_survey', 'banner_shown'), ('PAGE_NULL', 'PAGE_NULL')]   \n",
       "2032960                                                                  [('PAGE_NULL', 'PAGE_NULL'), ('breadcrumbClicked', '2'), ('PAGE_NULL', 'PAGE_NULL'), ('secondLevelBrowseLinkClicked', '2'), ('PAGE_NULL', 'PAGE_NULL'), ('thirdLevelBrowseLinkClicked', '1.5'), ('PAGE_NULL', 'PAGE_NULL'), ('user_satisfaction_survey', 'banner_shown'), ('contentsClicked', 'content_item 3'), ('PAGE_NULL', 'PAGE_NULL'), ('PAGE_NULL', 'PAGE_NULL'), ('relatedLinkClicked', '1.1 Related content'), ('PAGE_NULL', 'PAGE_NULL')]   \n",
       "2033017                                                                                                                                                                                                                                      [('PAGE_NULL', 'PAGE_NULL'), ('relatedLinkClicked', '1.1 Explore the topic'), ('PAGE_NULL', 'PAGE_NULL'), ('thirdLevelBrowseLinkClicked', '1.15'), ('PAGE_NULL', 'PAGE_NULL'), ('External Link Clicked', 'https://www.findapprenticeship.service.gov.uk/apprenticeshipsearch')]   \n",
       "2033026                                                                                                                                                      [('PAGE_NULL', 'PAGE_NULL'), ('breadcrumbClicked', '2'), ('PAGE_NULL', 'PAGE_NULL'), ('secondLevelBrowseLinkClicked', '2'), ('PAGE_NULL', 'PAGE_NULL'), ('thirdLevelBrowseLinkClicked', '1.1'), ('PAGE_NULL', 'PAGE_NULL'), ('External Link Clicked', 'https://www.passport.service.gov.uk/filter?_ga=2.200078382.1218615734.1541345378-141703274.1535206152')]   \n",
       "2033087                                                                                                                                                                                                                                                                                                                                                       [('PAGE_NULL', 'PAGE_NULL'), ('user_satisfaction_survey', 'banner_shown'), ('PAGE_NULL', 'PAGE_NULL'), ('breadcrumbClicked', '1'), ('PAGE_NULL', 'PAGE_NULL')]   \n",
       "2033213  [('PAGE_NULL', 'PAGE_NULL'), ('relatedLinkClicked', '2.1 Explore the topic'), ('PAGE_NULL', 'PAGE_NULL'), ('thirdLevelBrowseLinkClicked', '1.1'), ('PAGE_NULL', 'PAGE_NULL'), ('PAGE_NULL', 'PAGE_NULL'), ('External Link Clicked', 'https://www.universal-credit.service.gov.uk/sign-in'), ('PAGE_NULL', 'PAGE_NULL'), ('user_satisfaction_survey', 'banner_shown'), ('relatedLinkClicked', '2.1 Explore the topic'), ('PAGE_NULL', 'PAGE_NULL'), ('thirdLevelBrowseLinkClicked', '1.1'), ('PAGE_NULL', 'PAGE_N...   \n",
       "2033869                                                                                                                                                                                                                                                                                                                                                                                                                                 [('PAGE_NULL', 'PAGE_NULL'), ('breadcrumbClicked', '1'), ('PAGE_NULL', 'PAGE_NULL')]   \n",
       "2033876                                                                                                                                                                                                                                                                                                                                                                                                            [('PAGE_NULL', 'PAGE_NULL'), ('relatedLinkClicked', '2.1 Explore the topic'), ('PAGE_NULL', 'PAGE_NULL')]   \n",
       "2034004                                                                                                                                                                    [('PAGE_NULL', 'PAGE_NULL'), ('breadcrumbClicked', '3'), ('PAGE_NULL', 'PAGE_NULL'), ('PAGE_NULL', 'PAGE_NULL'), ('PAGE_NULL', 'PAGE_NULL'), ('contentsClicked', 'content_item 2'), ('PAGE_NULL', 'PAGE_NULL'), ('contentsClicked', 'previous'), ('PAGE_NULL', 'PAGE_NULL'), ('External Link Clicked', 'https://www.tax.service.gov.uk/account')]   \n",
       "2034006       [('PAGE_NULL', 'PAGE_NULL'), ('External Link Clicked', 'https://www.nationalarchives.gov.uk/information-management/re-using-public-sector-information/uk-government-licensing-framework/crown-copyright/'), ('breadcrumbClicked', '1'), ('PAGE_NULL', 'PAGE_NULL'), ('PAGE_NULL', 'PAGE_NULL'), ('secondLevelBrowseLinkClicked', '2'), ('PAGE_NULL', 'PAGE_NULL'), ('thirdLevelBrowseLinkClicked', '1.3'), ('PAGE_NULL', 'PAGE_NULL'), ('External Link Clicked', 'https://www.vehicleenquiry.service.gov.uk')]   \n",
       "2034014                                                                                                                                                                                                                                                                                                       [('PAGE_NULL', 'PAGE_NULL'), ('PAGE_NULL', 'PAGE_NULL'), ('breadcrumbClicked', '1'), ('PAGE_NULL', 'PAGE_NULL'), ('External Link Clicked', 'https://www.dartford-crossing-charge.service.gov.uk/Home/Choose')]   \n",
       "2034047                                                                                                                                                                                                                                                                               [('PAGE_NULL', 'PAGE_NULL'), ('relatedLinkClicked', '2.1 Explore the topic'), ('PAGE_NULL', 'PAGE_NULL'), ('thirdLevelBrowseLinkClicked', '2.9'), ('PAGE_NULL', 'PAGE_NULL'), ('contentsClicked', 'next'), ('PAGE_NULL', 'PAGE_NULL')]   \n",
       "2034096                                                                                                                                                                                                                                                                                                                [('PAGE_NULL', 'PAGE_NULL'), ('breadcrumbClicked', '2'), ('PAGE_NULL', 'PAGE_NULL'), ('user_satisfaction_survey', 'banner_shown'), ('secondLevelBrowseLinkClicked', '2'), ('PAGE_NULL', 'PAGE_NULL')]   \n",
       "2034164                                                                                                                                                                                                                                                                                                                                                                 [('PAGE_NULL', 'PAGE_NULL'), ('PAGE_NULL', 'PAGE_NULL'), ('yesNoFeedbackForm', 'ffNoClick'), ('PAGE_NULL', 'PAGE_NULL'), ('breadcrumbClicked', '1')]   \n",
       "2034175                                                                                        [('PAGE_NULL', 'PAGE_NULL'), ('breadcrumbClicked', '1'), ('PAGE_NULL', 'PAGE_NULL'), ('PAGE_NULL', 'PAGE_NULL'), ('secondLevelBrowseLinkClicked', '4'), ('PAGE_NULL', 'PAGE_NULL'), ('thirdLevelBrowseLinkClicked', '1.16'), ('PAGE_NULL', 'PAGE_NULL'), ('contentsClicked', 'content_item 4'), ('PAGE_NULL', 'PAGE_NULL'), ('External Link Clicked', 'https://www.dwpe-services.direct.gov.uk/en/jobseekersallowanceclaim')]   \n",
       "2034229                                                                        [('PAGE_NULL', 'PAGE_NULL'), ('relatedLinkClicked', '2.3 Explore the topic'), ('PAGE_NULL', 'PAGE_NULL'), ('secondLevelBrowseLinkClicked', '4'), ('secondLevelBrowseLinkClicked', '4'), ('thirdLevelBrowseLinkClicked', '4.2'), ('PAGE_NULL', 'PAGE_NULL'), ('contentsClicked', 'content_item 3'), ('PAGE_NULL', 'PAGE_NULL'), ('External Link Clicked', 'https://www.personalisedvehicleregistration.service.gov.uk/assign/vehicle-lookup')]   \n",
       "2034370                                                                                                                                                                                                                                                                                                                                                                         [('PAGE_NULL', 'PAGE_NULL'), ('breadcrumbClicked', '3'), ('PAGE_NULL', 'PAGE_NULL'), ('PAGE_NULL', 'PAGE_NULL'), ('PAGE_NULL', 'PAGE_NULL')]   \n",
       "2034571                                                                                                                                                                                  [('PAGE_NULL', 'PAGE_NULL'), ('relatedLinkClicked', '1.5 Related content'), ('PAGE_NULL', 'PAGE_NULL'), ('PAGE_NULL', 'PAGE_NULL'), ('breadcrumbClicked', '3'), ('PAGE_NULL', 'PAGE_NULL'), ('thirdLevelBrowseLinkClicked', '1.1'), ('PAGE_NULL', 'PAGE_NULL'), ('External Link Clicked', 'https://www.vehicletax.service.gov.uk')]   \n",
       "2034623                                                                                                                                                      [('PAGE_NULL', 'PAGE_NULL'), ('External Link Clicked', 'https://www.check-mot.service.gov.uk/?_ga=2.126499853.1457453991.1541338335-103525021.1498999994'), ('breadcrumbClicked', '3'), ('PAGE_NULL', 'PAGE_NULL'), ('thirdLevelBrowseLinkClicked', '1.3'), ('PAGE_NULL', 'PAGE_NULL'), ('External Link Clicked', 'https://www.vehicleenquiry.service.gov.uk')]   \n",
       "2034759                                                                                                                                                                                                                                                                                                                                                                                            [('PAGE_NULL', 'PAGE_NULL'), ('yesNoFeedbackForm', 'ffYesClick'), ('breadcrumbClicked', '1'), ('PAGE_NULL', 'PAGE_NULL')]   \n",
       "2034838                                                                                                                                                                                                                                                                          [('PAGE_NULL', 'PAGE_NULL'), ('navSubtopicContentItemLinkClicked', '2.1'), ('PAGE_NULL', 'PAGE_NULL'), ('relatedLinkClicked', '2.2 Explore the topic'), ('PAGE_NULL', 'PAGE_NULL'), ('PAGE_NULL', 'PAGE_NULL'), ('PAGE_NULL', 'PAGE_NULL')]   \n",
       "2034924                                                                                                                                                                                                                           [('breadcrumbClicked', '3'), ('PAGE_NULL', 'PAGE_NULL'), ('user_satisfaction_survey', 'banner_shown'), ('PAGE_NULL', 'PAGE_NULL'), ('Download Link Clicked', '/government/uploads/system/uploads/attachment_data/file/470527/HARD_LAUNCH_20151023_-_PIF_2016-17_-_Template_Bid_Form.pdf')]   \n",
       "2035057                                                                                                                                                                                                                                                   [('PAGE_NULL', 'PAGE_NULL'), ('relatedLinkClicked', '2.3 Explore the topic'), ('PAGE_NULL', 'PAGE_NULL'), ('thirdLevelBrowseLinkClicked', '1.7'), ('PAGE_NULL', 'PAGE_NULL'), ('External Link Clicked', 'https://online.hmrc.gov.uk/shortforms/form/CBO_General')]   \n",
       "2035087                                                                                                                                                                                                                                                                                          [('breadcrumbClicked', '1'), ('PAGE_NULL', 'PAGE_NULL'), ('PAGE_NULL', 'PAGE_NULL'), ('secondLevelBrowseLinkClicked', '3'), ('PAGE_NULL', 'PAGE_NULL'), ('thirdLevelBrowseLinkClicked', '2.1'), ('PAGE_NULL', 'PAGE_NULL')]   \n",
       "2035088                                                [('PAGE_NULL', 'PAGE_NULL'), ('breadcrumbClicked', '1'), ('PAGE_NULL', 'PAGE_NULL'), ('PAGE_NULL', 'PAGE_NULL'), ('secondLevelBrowseLinkClicked', '3'), ('PAGE_NULL', 'PAGE_NULL'), ('thirdLevelBrowseLinkClicked', '2.1'), ('user_satisfaction_survey', 'banner_shown'), ('PAGE_NULL', 'PAGE_NULL'), ('contentsClicked', 'content_item 5'), ('PAGE_NULL', 'PAGE_NULL'), ('External Link Clicked', 'https://visas-immigration.service.gov.uk/apply-visa-type/visit')]   \n",
       "2035288  [('PAGE_NULL', 'PAGE_NULL'), ('contentsClicked', 'content_item 3'), ('user_satisfaction_survey', 'banner_shown'), ('PAGE_NULL', 'PAGE_NULL'), ('relatedLinkClicked', '2.1 Explore the topic'), ('PAGE_NULL', 'PAGE_NULL'), ('thirdLevelBrowseLinkClicked', '3.2'), ('PAGE_NULL', 'PAGE_NULL'), ('External Link Clicked', 'https://www.tax.service.gov.uk/gg/sign-in?continue=/tax-credits-service/renewals/service-router&accountType=individual&origin=PTA-taxcredits&_ga=2.42748773.1522337296.1541312210-1454...   \n",
       "2035421                                                                                                                                                                                    [('PAGE_NULL', 'PAGE_NULL'), ('breadcrumbClicked', '3'), ('PAGE_NULL', 'PAGE_NULL'), ('thirdLevelBrowseLinkClicked', '1.4'), ('PAGE_NULL', 'PAGE_NULL'), ('External Link Clicked', 'https://www.vehicleenquiry.service.gov.uk/'), ('PAGE_NULL', 'PAGE_NULL'), ('External Link Clicked', 'https://www.vehicletax.service.gov.uk')]   \n",
       "2035438                                                                                                                                                                                                                                                                                                         [('PAGE_NULL', 'PAGE_NULL'), ('breadcrumbClicked', '5'), ('PAGE_NULL', 'PAGE_NULL'), ('PAGE_NULL', 'PAGE_NULL'), ('breadcrumbClicked', '5'), ('PAGE_NULL', 'PAGE_NULL'), ('yesNoFeedbackForm', 'ffNoClick')]   \n",
       "\n",
       "         num_event_cats  \\\n",
       "3304                  2   \n",
       "3749                  2   \n",
       "5773                  2   \n",
       "8988                  2   \n",
       "9002                  2   \n",
       "9079                  2   \n",
       "9116                  2   \n",
       "9301                  3   \n",
       "9315                  2   \n",
       "9326                  2   \n",
       "9345                  2   \n",
       "9379                  2   \n",
       "9453                  2   \n",
       "9632                  2   \n",
       "9824                  2   \n",
       "9958                  2   \n",
       "10003                 2   \n",
       "10022                 2   \n",
       "10296                 2   \n",
       "10354                 2   \n",
       "10702                 2   \n",
       "10732                 2   \n",
       "11002                 2   \n",
       "11141                 2   \n",
       "11265                 2   \n",
       "11282                 2   \n",
       "11361                 2   \n",
       "11399                 2   \n",
       "11425                 2   \n",
       "11463                 2   \n",
       "...                 ...   \n",
       "2032789               3   \n",
       "2032867               3   \n",
       "2032891               3   \n",
       "2032960               7   \n",
       "2033017               4   \n",
       "2033026               5   \n",
       "2033087               3   \n",
       "2033213               5   \n",
       "2033869               2   \n",
       "2033876               2   \n",
       "2034004               4   \n",
       "2034006               5   \n",
       "2034014               3   \n",
       "2034047               4   \n",
       "2034096               4   \n",
       "2034164               3   \n",
       "2034175               6   \n",
       "2034229               6   \n",
       "2034370               2   \n",
       "2034571               5   \n",
       "2034623               4   \n",
       "2034759               3   \n",
       "2034838               3   \n",
       "2034924               4   \n",
       "2035057               4   \n",
       "2035087               4   \n",
       "2035088               7   \n",
       "2035288               6   \n",
       "2035421               4   \n",
       "2035438               3   \n",
       "\n",
       "                                                                                                                                                                                                       Event_cats_agg  \\\n",
       "3304                                                                                                                                                                     [('breadcrumbClicked', 1), ('PAGE_NULL', 1)]   \n",
       "3749                                                                                                                                                                     [('PAGE_NULL', 1), ('breadcrumbClicked', 1)]   \n",
       "5773                                                                                                                                                                     [('breadcrumbClicked', 1), ('PAGE_NULL', 1)]   \n",
       "8988                                                                                                                                                                     [('PAGE_NULL', 2), ('breadcrumbClicked', 1)]   \n",
       "9002                                                                                                                                                                    [('PAGE_NULL', 2), ('relatedLinkClicked', 1)]   \n",
       "9079                                                                                                                                                                    [('PAGE_NULL', 2), ('relatedLinkClicked', 1)]   \n",
       "9116                                                                                                                                                                    [('PAGE_NULL', 2), ('relatedLinkClicked', 1)]   \n",
       "9301                                                                                                                                           [('relatedLinkClicked', 1), ('PAGE_NULL', 1), ('JavaScript Error', 1)]   \n",
       "9315                                                                                                                                                                     [('PAGE_NULL', 2), ('breadcrumbClicked', 1)]   \n",
       "9326                                                                                                                                                                     [('PAGE_NULL', 2), ('breadcrumbClicked', 1)]   \n",
       "9345                                                                                                                                                                     [('PAGE_NULL', 2), ('breadcrumbClicked', 1)]   \n",
       "9379                                                                                                                                                                    [('PAGE_NULL', 2), ('relatedLinkClicked', 1)]   \n",
       "9453                                                                                                                                                                    [('PAGE_NULL', 2), ('relatedLinkClicked', 1)]   \n",
       "9632                                                                                                                                                                     [('PAGE_NULL', 2), ('breadcrumbClicked', 1)]   \n",
       "9824                                                                                                                                                                     [('PAGE_NULL', 2), ('breadcrumbClicked', 1)]   \n",
       "9958                                                                                                                                                                    [('PAGE_NULL', 2), ('relatedLinkClicked', 1)]   \n",
       "10003                                                                                                                                                                    [('PAGE_NULL', 2), ('breadcrumbClicked', 1)]   \n",
       "10022                                                                                                                                                                    [('PAGE_NULL', 2), ('breadcrumbClicked', 1)]   \n",
       "10296                                                                                                                                                                   [('PAGE_NULL', 2), ('relatedLinkClicked', 1)]   \n",
       "10354                                                                                                                                                                    [('PAGE_NULL', 2), ('breadcrumbClicked', 1)]   \n",
       "10702                                                                                                                                                                    [('PAGE_NULL', 2), ('breadcrumbClicked', 1)]   \n",
       "10732                                                                                                                                                                   [('PAGE_NULL', 2), ('relatedLinkClicked', 1)]   \n",
       "11002                                                                                                                                                                   [('PAGE_NULL', 2), ('relatedLinkClicked', 1)]   \n",
       "11141                                                                                                                                                                   [('PAGE_NULL', 2), ('relatedLinkClicked', 1)]   \n",
       "11265                                                                                                                                                                   [('PAGE_NULL', 2), ('relatedLinkClicked', 1)]   \n",
       "11282                                                                                                                                                                    [('PAGE_NULL', 2), ('breadcrumbClicked', 1)]   \n",
       "11361                                                                                                                                                                    [('PAGE_NULL', 2), ('breadcrumbClicked', 1)]   \n",
       "11399                                                                                                                                                                    [('PAGE_NULL', 2), ('breadcrumbClicked', 1)]   \n",
       "11425                                                                                                                                                                    [('PAGE_NULL', 2), ('breadcrumbClicked', 1)]   \n",
       "11463                                                                                                                                                                   [('PAGE_NULL', 3), ('relatedLinkClicked', 1)]   \n",
       "...                                                                                                                                                                                                               ...   \n",
       "2032789                                                                                                                                [('PAGE_NULL', 3), ('relatedLinkClicked', 1), ('user_satisfaction_survey', 1)]   \n",
       "2032867                                                                                                                                      [('PAGE_NULL', 4), ('breadcrumbClicked', 1), ('Radio button chosen', 1)]   \n",
       "2032891                                                                                                                                 [('user_satisfaction_survey', 2), ('PAGE_NULL', 3), ('breadcrumbClicked', 1)]   \n",
       "2032960     [('PAGE_NULL', 7), ('breadcrumbClicked', 1), ('secondLevelBrowseLinkClicked', 1), ('thirdLevelBrowseLinkClicked', 1), ('user_satisfaction_survey', 1), ('contentsClicked', 1), ('relatedLinkClicked', 1)]   \n",
       "2033017                                                                                               [('PAGE_NULL', 3), ('relatedLinkClicked', 1), ('thirdLevelBrowseLinkClicked', 1), ('External Link Clicked', 1)]   \n",
       "2033026                                                           [('PAGE_NULL', 4), ('breadcrumbClicked', 1), ('secondLevelBrowseLinkClicked', 1), ('thirdLevelBrowseLinkClicked', 1), ('External Link Clicked', 1)]   \n",
       "2033087                                                                                                                                 [('PAGE_NULL', 3), ('user_satisfaction_survey', 1), ('breadcrumbClicked', 1)]   \n",
       "2033213                                                              [('PAGE_NULL', 8), ('relatedLinkClicked', 2), ('thirdLevelBrowseLinkClicked', 2), ('External Link Clicked', 2), ('user_satisfaction_survey', 2)]   \n",
       "2033869                                                                                                                                                                  [('PAGE_NULL', 2), ('breadcrumbClicked', 1)]   \n",
       "2033876                                                                                                                                                                 [('PAGE_NULL', 2), ('relatedLinkClicked', 1)]   \n",
       "2034004                                                                                                            [('PAGE_NULL', 6), ('breadcrumbClicked', 1), ('contentsClicked', 2), ('External Link Clicked', 1)]   \n",
       "2034006                                                           [('PAGE_NULL', 5), ('External Link Clicked', 2), ('breadcrumbClicked', 1), ('secondLevelBrowseLinkClicked', 1), ('thirdLevelBrowseLinkClicked', 1)]   \n",
       "2034014                                                                                                                                    [('PAGE_NULL', 3), ('breadcrumbClicked', 1), ('External Link Clicked', 1)]   \n",
       "2034047                                                                                                     [('PAGE_NULL', 4), ('relatedLinkClicked', 1), ('thirdLevelBrowseLinkClicked', 1), ('contentsClicked', 1)]   \n",
       "2034096                                                                                            [('PAGE_NULL', 3), ('breadcrumbClicked', 1), ('user_satisfaction_survey', 1), ('secondLevelBrowseLinkClicked', 1)]   \n",
       "2034164                                                                                                                                        [('PAGE_NULL', 3), ('yesNoFeedbackForm', 1), ('breadcrumbClicked', 1)]   \n",
       "2034175                                   [('PAGE_NULL', 6), ('breadcrumbClicked', 1), ('secondLevelBrowseLinkClicked', 1), ('thirdLevelBrowseLinkClicked', 1), ('contentsClicked', 1), ('External Link Clicked', 1)]   \n",
       "2034229                                  [('PAGE_NULL', 4), ('relatedLinkClicked', 1), ('secondLevelBrowseLinkClicked', 2), ('thirdLevelBrowseLinkClicked', 1), ('contentsClicked', 1), ('External Link Clicked', 1)]   \n",
       "2034370                                                                                                                                                                  [('PAGE_NULL', 4), ('breadcrumbClicked', 1)]   \n",
       "2034571                                                                     [('PAGE_NULL', 5), ('relatedLinkClicked', 1), ('breadcrumbClicked', 1), ('thirdLevelBrowseLinkClicked', 1), ('External Link Clicked', 1)]   \n",
       "2034623                                                                                                [('PAGE_NULL', 3), ('External Link Clicked', 2), ('breadcrumbClicked', 1), ('thirdLevelBrowseLinkClicked', 1)]   \n",
       "2034759                                                                                                                                        [('PAGE_NULL', 2), ('yesNoFeedbackForm', 1), ('breadcrumbClicked', 1)]   \n",
       "2034838                                                                                                                       [('PAGE_NULL', 5), ('navSubtopicContentItemLinkClicked', 1), ('relatedLinkClicked', 1)]   \n",
       "2034924                                                                                                   [('breadcrumbClicked', 1), ('PAGE_NULL', 2), ('user_satisfaction_survey', 1), ('Download Link Clicked', 1)]   \n",
       "2035057                                                                                               [('PAGE_NULL', 3), ('relatedLinkClicked', 1), ('thirdLevelBrowseLinkClicked', 1), ('External Link Clicked', 1)]   \n",
       "2035087                                                                                         [('breadcrumbClicked', 1), ('PAGE_NULL', 4), ('secondLevelBrowseLinkClicked', 1), ('thirdLevelBrowseLinkClicked', 1)]   \n",
       "2035088  [('PAGE_NULL', 6), ('breadcrumbClicked', 1), ('secondLevelBrowseLinkClicked', 1), ('thirdLevelBrowseLinkClicked', 1), ('user_satisfaction_survey', 1), ('contentsClicked', 1), ('External Link Clicked', 1)]   \n",
       "2035288                                      [('PAGE_NULL', 4), ('contentsClicked', 1), ('user_satisfaction_survey', 1), ('relatedLinkClicked', 1), ('thirdLevelBrowseLinkClicked', 1), ('External Link Clicked', 1)]   \n",
       "2035421                                                                                                [('PAGE_NULL', 4), ('breadcrumbClicked', 1), ('thirdLevelBrowseLinkClicked', 1), ('External Link Clicked', 2)]   \n",
       "2035438                                                                                                                                        [('PAGE_NULL', 4), ('breadcrumbClicked', 2), ('yesNoFeedbackForm', 1)]   \n",
       "\n",
       "                                                                                                                                                                                                                                                                                                                                                                                                                                              Event_cat_act_agg  \\\n",
       "3304                                                                                                                                                                                                                                                                                                                                                                                                 [((breadcrumbClicked, 5), 1), ((PAGE_NULL, PAGE_NULL), 1)]   \n",
       "3749                                                                                                                                                                                                                                                                                                                                                                                                 [((PAGE_NULL, PAGE_NULL), 1), ((breadcrumbClicked, 3), 1)]   \n",
       "5773                                                                                                                                                                                                                                                                                                                                                                                                 [((breadcrumbClicked, 1), 1), ((PAGE_NULL, PAGE_NULL), 1)]   \n",
       "8988                                                                                                                                                                                                                                                                                                                                                                                                 [((PAGE_NULL, PAGE_NULL), 2), ((breadcrumbClicked, 1), 1)]   \n",
       "9002                                                                                                                                                                                                                                                                                                                                                                            [((PAGE_NULL, PAGE_NULL), 2), ((relatedLinkClicked, 2.1 Explore the topic), 1)]   \n",
       "9079                                                                                                                                                                                                                                                                                                                                                                            [((PAGE_NULL, PAGE_NULL), 2), ((relatedLinkClicked, 2.3 Explore the topic), 1)]   \n",
       "9116                                                                                                                                                                                                                                                                                                                                                                            [((PAGE_NULL, PAGE_NULL), 2), ((relatedLinkClicked, 2.1 Explore the topic), 1)]   \n",
       "9301                                                                                                                                                                                                                                                              [((relatedLinkClicked, 2.1 Explore the topic), 1), ((PAGE_NULL, PAGE_NULL), 1), ((JavaScript Error, TypeError: null is not an object (evaluating document.getElementById(rsstable).src)), 1)]   \n",
       "9315                                                                                                                                                                                                                                                                                                                                                                                                 [((PAGE_NULL, PAGE_NULL), 2), ((breadcrumbClicked, 2), 1)]   \n",
       "9326                                                                                                                                                                                                                                                                                                                                                                                                 [((PAGE_NULL, PAGE_NULL), 2), ((breadcrumbClicked, 1), 1)]   \n",
       "9345                                                                                                                                                                                                                                                                                                                                                                                                 [((PAGE_NULL, PAGE_NULL), 2), ((breadcrumbClicked, 2), 1)]   \n",
       "9379                                                                                                                                                                                                                                                                                                                                                                            [((PAGE_NULL, PAGE_NULL), 2), ((relatedLinkClicked, 2.1 Explore the topic), 1)]   \n",
       "9453                                                                                                                                                                                                                                                                                                                                                                            [((PAGE_NULL, PAGE_NULL), 2), ((relatedLinkClicked, 2.2 Explore the topic), 1)]   \n",
       "9632                                                                                                                                                                                                                                                                                                                                                                                                 [((PAGE_NULL, PAGE_NULL), 2), ((breadcrumbClicked, 5), 1)]   \n",
       "9824                                                                                                                                                                                                                                                                                                                                                                                                 [((PAGE_NULL, PAGE_NULL), 2), ((breadcrumbClicked, 3), 1)]   \n",
       "9958                                                                                                                                                                                                                                                                                                                                                                            [((PAGE_NULL, PAGE_NULL), 2), ((relatedLinkClicked, 2.1 Explore the topic), 1)]   \n",
       "10003                                                                                                                                                                                                                                                                                                                                                                                                [((PAGE_NULL, PAGE_NULL), 2), ((breadcrumbClicked, 2), 1)]   \n",
       "10022                                                                                                                                                                                                                                                                                                                                                                                                [((PAGE_NULL, PAGE_NULL), 2), ((breadcrumbClicked, 1), 1)]   \n",
       "10296                                                                                                                                                                                                                                                                                                                                                                           [((PAGE_NULL, PAGE_NULL), 2), ((relatedLinkClicked, 2.1 Explore the topic), 1)]   \n",
       "10354                                                                                                                                                                                                                                                                                                                                                                                                [((PAGE_NULL, PAGE_NULL), 2), ((breadcrumbClicked, 2), 1)]   \n",
       "10702                                                                                                                                                                                                                                                                                                                                                                                                [((PAGE_NULL, PAGE_NULL), 2), ((breadcrumbClicked, 1), 1)]   \n",
       "10732                                                                                                                                                                                                                                                                                                                                                                           [((PAGE_NULL, PAGE_NULL), 2), ((relatedLinkClicked, 2.2 Explore the topic), 1)]   \n",
       "11002                                                                                                                                                                                                                                                                                                                                                                           [((PAGE_NULL, PAGE_NULL), 2), ((relatedLinkClicked, 2.2 Explore the topic), 1)]   \n",
       "11141                                                                                                                                                                                                                                                                                                                                                                           [((PAGE_NULL, PAGE_NULL), 2), ((relatedLinkClicked, 2.1 Explore the topic), 1)]   \n",
       "11265                                                                                                                                                                                                                                                                                                                                                                           [((PAGE_NULL, PAGE_NULL), 2), ((relatedLinkClicked, 2.1 Explore the topic), 1)]   \n",
       "11282                                                                                                                                                                                                                                                                                                                                                                                                [((PAGE_NULL, PAGE_NULL), 2), ((breadcrumbClicked, 1), 1)]   \n",
       "11361                                                                                                                                                                                                                                                                                                                                                                                                [((PAGE_NULL, PAGE_NULL), 2), ((breadcrumbClicked, 1), 1)]   \n",
       "11399                                                                                                                                                                                                                                                                                                                                                                                                [((PAGE_NULL, PAGE_NULL), 2), ((breadcrumbClicked, 4), 1)]   \n",
       "11425                                                                                                                                                                                                                                                                                                                                                                                                [((PAGE_NULL, PAGE_NULL), 2), ((breadcrumbClicked, 2), 1)]   \n",
       "11463                                                                                                                                                                                                                                                                                                                                                                           [((PAGE_NULL, PAGE_NULL), 3), ((relatedLinkClicked, 2.2 Explore the topic), 1)]   \n",
       "...                                                                                                                                                                                                                                                                                                                                                                                                                                                         ...   \n",
       "2032789                                                                                                                                                                                                                                                                                                                          [((PAGE_NULL, PAGE_NULL), 3), ((relatedLinkClicked, 2.1 Explore the topic), 1), ((user_satisfaction_survey, banner_shown), 1)]   \n",
       "2032867                                                                                                                                                                                                                                                                                                                                 [((PAGE_NULL, PAGE_NULL), 4), ((breadcrumbClicked, 1), 1), ((Radio button chosen, sign-in-with-government-gateway), 1)]   \n",
       "2032891                                                                                                                                                                                                                                                                                                                                               [((user_satisfaction_survey, banner_shown), 2), ((PAGE_NULL, PAGE_NULL), 3), ((breadcrumbClicked, 1), 1)]   \n",
       "2032960                                                                                                                                                                      [((PAGE_NULL, PAGE_NULL), 7), ((breadcrumbClicked, 2), 1), ((secondLevelBrowseLinkClicked, 2), 1), ((thirdLevelBrowseLinkClicked, 1.5), 1), ((user_satisfaction_survey, banner_shown), 1), ((contentsClicked, content_item 3), 1), ((relatedLinkClicked, 1.1 Related content), 1)]   \n",
       "2033017                                                                                                                                                                                                                             [((PAGE_NULL, PAGE_NULL), 3), ((relatedLinkClicked, 1.1 Explore the topic), 1), ((thirdLevelBrowseLinkClicked, 1.15), 1), ((External Link Clicked, https://www.findapprenticeship.service.gov.uk/apprenticeshipsearch), 1)]   \n",
       "2033026                                                                                                                                                                        [((PAGE_NULL, PAGE_NULL), 4), ((breadcrumbClicked, 2), 1), ((secondLevelBrowseLinkClicked, 2), 1), ((thirdLevelBrowseLinkClicked, 1.1), 1), ((External Link Clicked, https://www.passport.service.gov.uk/filter?_ga=2.200078382.1218615734.1541345378-141703274.1535206152), 1)]   \n",
       "2033087                                                                                                                                                                                                                                                                                                                                               [((PAGE_NULL, PAGE_NULL), 3), ((user_satisfaction_survey, banner_shown), 1), ((breadcrumbClicked, 1), 1)]   \n",
       "2033213                                                                                                                                                                                              [((PAGE_NULL, PAGE_NULL), 8), ((relatedLinkClicked, 2.1 Explore the topic), 2), ((thirdLevelBrowseLinkClicked, 1.1), 2), ((External Link Clicked, https://www.universal-credit.service.gov.uk/sign-in), 2), ((user_satisfaction_survey, banner_shown), 2)]   \n",
       "2033869                                                                                                                                                                                                                                                                                                                                                                                              [((PAGE_NULL, PAGE_NULL), 2), ((breadcrumbClicked, 1), 1)]   \n",
       "2033876                                                                                                                                                                                                                                                                                                                                                                         [((PAGE_NULL, PAGE_NULL), 2), ((relatedLinkClicked, 2.1 Explore the topic), 1)]   \n",
       "2034004                                                                                                                                                                                                                                              [((PAGE_NULL, PAGE_NULL), 6), ((breadcrumbClicked, 3), 1), ((contentsClicked, content_item 2), 1), ((contentsClicked, previous), 1), ((External Link Clicked, https://www.tax.service.gov.uk/account), 1)]   \n",
       "2034006                                                    [((PAGE_NULL, PAGE_NULL), 5), ((External Link Clicked, https://www.nationalarchives.gov.uk/information-management/re-using-public-sector-information/uk-government-licensing-framework/crown-copyright/), 1), ((breadcrumbClicked, 1), 1), ((secondLevelBrowseLinkClicked, 2), 1), ((thirdLevelBrowseLinkClicked, 1.3), 1), ((External Link Clicked, https://www.vehicleenquiry.service.gov.uk), 1)]   \n",
       "2034014                                                                                                                                                                                                                                                                                               [((PAGE_NULL, PAGE_NULL), 3), ((breadcrumbClicked, 1), 1), ((External Link Clicked, https://www.dartford-crossing-charge.service.gov.uk/Home/Choose), 1)]   \n",
       "2034047                                                                                                                                                                                                                                                                                                  [((PAGE_NULL, PAGE_NULL), 4), ((relatedLinkClicked, 2.1 Explore the topic), 1), ((thirdLevelBrowseLinkClicked, 2.9), 1), ((contentsClicked, next), 1)]   \n",
       "2034096                                                                                                                                                                                                                                                                                                       [((PAGE_NULL, PAGE_NULL), 3), ((breadcrumbClicked, 2), 1), ((user_satisfaction_survey, banner_shown), 1), ((secondLevelBrowseLinkClicked, 2), 1)]   \n",
       "2034164                                                                                                                                                                                                                                                                                                                                                         [((PAGE_NULL, PAGE_NULL), 3), ((yesNoFeedbackForm, ffNoClick), 1), ((breadcrumbClicked, 1), 1)]   \n",
       "2034175                                                                                                                                                                 [((PAGE_NULL, PAGE_NULL), 6), ((breadcrumbClicked, 1), 1), ((secondLevelBrowseLinkClicked, 4), 1), ((thirdLevelBrowseLinkClicked, 1.16), 1), ((contentsClicked, content_item 4), 1), ((External Link Clicked, https://www.dwpe-services.direct.gov.uk/en/jobseekersallowanceclaim), 1)]   \n",
       "2034229                                                                                                                                [((PAGE_NULL, PAGE_NULL), 4), ((relatedLinkClicked, 2.3 Explore the topic), 1), ((secondLevelBrowseLinkClicked, 4), 2), ((thirdLevelBrowseLinkClicked, 4.2), 1), ((contentsClicked, content_item 3), 1), ((External Link Clicked, https://www.personalisedvehicleregistration.service.gov.uk/assign/vehicle-lookup), 1)]   \n",
       "2034370                                                                                                                                                                                                                                                                                                                                                                                              [((PAGE_NULL, PAGE_NULL), 4), ((breadcrumbClicked, 3), 1)]   \n",
       "2034571                                                                                                                                                                                                                                [((PAGE_NULL, PAGE_NULL), 5), ((relatedLinkClicked, 1.5 Related content), 1), ((breadcrumbClicked, 3), 1), ((thirdLevelBrowseLinkClicked, 1.1), 1), ((External Link Clicked, https://www.vehicletax.service.gov.uk), 1)]   \n",
       "2034623                                                                                                                                            [((PAGE_NULL, PAGE_NULL), 3), ((External Link Clicked, https://www.check-mot.service.gov.uk/?_ga=2.126499853.1457453991.1541338335-103525021.1498999994), 1), ((breadcrumbClicked, 3), 1), ((thirdLevelBrowseLinkClicked, 1.3), 1), ((External Link Clicked, https://www.vehicleenquiry.service.gov.uk), 1)]   \n",
       "2034759                                                                                                                                                                                                                                                                                                                                                        [((PAGE_NULL, PAGE_NULL), 2), ((yesNoFeedbackForm, ffYesClick), 1), ((breadcrumbClicked, 1), 1)]   \n",
       "2034838                                                                                                                                                                                                                                                                                                                          [((PAGE_NULL, PAGE_NULL), 5), ((navSubtopicContentItemLinkClicked, 2.1), 1), ((relatedLinkClicked, 2.2 Explore the topic), 1)]   \n",
       "2034924                                                                                                                                                                                      [((breadcrumbClicked, 3), 1), ((PAGE_NULL, PAGE_NULL), 2), ((user_satisfaction_survey, banner_shown), 1), ((Download Link Clicked, /government/uploads/system/uploads/attachment_data/file/470527/HARD_LAUNCH_20151023_-_PIF_2016-17_-_Template_Bid_Form.pdf), 1)]   \n",
       "2035057                                                                                                                                                                                                                                          [((PAGE_NULL, PAGE_NULL), 3), ((relatedLinkClicked, 2.3 Explore the topic), 1), ((thirdLevelBrowseLinkClicked, 1.7), 1), ((External Link Clicked, https://online.hmrc.gov.uk/shortforms/form/CBO_General), 1)]   \n",
       "2035087                                                                                                                                                                                                                                                                                                             [((breadcrumbClicked, 1), 1), ((PAGE_NULL, PAGE_NULL), 4), ((secondLevelBrowseLinkClicked, 3), 1), ((thirdLevelBrowseLinkClicked, 2.1), 1)]   \n",
       "2035088                                                                                                                        [((PAGE_NULL, PAGE_NULL), 6), ((breadcrumbClicked, 1), 1), ((secondLevelBrowseLinkClicked, 3), 1), ((thirdLevelBrowseLinkClicked, 2.1), 1), ((user_satisfaction_survey, banner_shown), 1), ((contentsClicked, content_item 5), 1), ((External Link Clicked, https://visas-immigration.service.gov.uk/apply-visa-type/visit), 1)]   \n",
       "2035288  [((PAGE_NULL, PAGE_NULL), 4), ((contentsClicked, content_item 3), 1), ((user_satisfaction_survey, banner_shown), 1), ((relatedLinkClicked, 2.1 Explore the topic), 1), ((thirdLevelBrowseLinkClicked, 3.2), 1), ((External Link Clicked, https://www.tax.service.gov.uk/gg/sign-in?continue=/tax-credits-service/renewals/service-router&accountType=individual&origin=PTA-taxcredits&_ga=2.42748773.1522337296.1541312210-1454244976.1541312210), 1)]   \n",
       "2035421                                                                                                                                                                                                      [((PAGE_NULL, PAGE_NULL), 4), ((breadcrumbClicked, 3), 1), ((thirdLevelBrowseLinkClicked, 1.4), 1), ((External Link Clicked, https://www.vehicleenquiry.service.gov.uk/), 1), ((External Link Clicked, https://www.vehicletax.service.gov.uk), 1)]   \n",
       "2035438                                                                                                                                                                                                                                                                                                                                                         [((PAGE_NULL, PAGE_NULL), 4), ((breadcrumbClicked, 5), 2), ((yesNoFeedbackForm, ffNoClick), 1)]   \n",
       "\n",
       "                                                                                                                                                                                                                                                                                                       Page_List_NL  \\\n",
       "3304                                                                                                                                                                                                                                                                 ['/money/business-tax-ir35-employment-status']   \n",
       "3749                                                                                                                                                                                                                                                                           ['/vehicle-exempt-from-vehicle-tax']   \n",
       "5773                                                                                                                                                                                                                                                                                                          ['/']   \n",
       "8988                                                                                                                                                                                                                                                                                              ['/cymraeg', '/']   \n",
       "9002                                                                                                                                                                                                                                                      ['/national-insurance', '/browse/tax/national-insurance']   \n",
       "9079                                                                                                                                                                                                                             ['/housing-benefit', '/browse/housing-local-services/council-housing-association']   \n",
       "9116                                                                                                                                                                                                           ['/foster-carers/help-with-the-cost-of-fostering', '/browse/births-deaths-marriages/child-adoption']   \n",
       "9301                                                                                                                                                                                                                                                                                ['/browse/business/setting-up']   \n",
       "9315                                                                                                                                                                                                                                                             ['/settle-in-the-uk', '/browse/visas-immigration']   \n",
       "9326                                                                                                                                                                                                                                                                                  ['/write-business-plan', '/']   \n",
       "9345                                                                                                                                                                                                                        ['/government/organisations/department-for-work-pensions', '/government/organisations']   \n",
       "9379                                                                                                                                                                                                                                                       ['/bereavement-payment', '/browse/benefits/bereavement']   \n",
       "9453                                                                                                                                                                                                                                       ['/child-benefit/how-to-claim', '/browse/births-deaths-marriages/child']   \n",
       "9632                                                                                                                                                                          ['/government/statistics/secondary-school-performance-tables-in-england-2018-provisional', '/education/pupil-performance-in-schools']   \n",
       "9824                                                                                                                                                                                                                                        ['/caring-for-pets', '/browse/housing-local-services/noise-neighbours']   \n",
       "9958                                                                                                                                                                                                                                         ['/check-national-insurance-record', '/browse/tax/national-insurance']   \n",
       "10003                                                                                                                                                                                                                                                    ['/browse/citizenship/citizenship', '/browse/citizenship']   \n",
       "10022                                                                                                                                                                                                                                                                        ['/get-proof-employment-history', '/']   \n",
       "10296                                                                                                                                                                                                                      ['/pay-dartford-crossing-charge/charges-fines', '/browse/driving/driving-uk-and-abroad']   \n",
       "10354                                                                                                                                                                                                           ['/government/organisations/prime-ministers-office-10-downing-street', '/government/organisations']   \n",
       "10702                                                                                                                                                                                                                                                                                ['/jobseekers-allowance', '/']   \n",
       "10732                                                                                                                                                                                                                        ['/settled-status-eu-citizens-families', '/browse/visas-immigration/settle-in-the-uk']   \n",
       "11002                                                                                                                                                                                                                          ['/request-information-from-dvla', '/browse/driving/vehicle-and-driver-information']   \n",
       "11141                                                                                                                                                                                                                             ['/free-school-transport', '/browse/childcare-parenting/financial-help-children']   \n",
       "11265                                                                                                                                                                                                                                                                             ['/vat-rates', '/browse/tax/vat']   \n",
       "11282                                                                                                                                           ['/government/publications/travelling-to-the-eu-with-a-uk-passport-if-theres-no-brexit-deal/travelling-to-the-eu-with-a-uk-passport-if-theres-no-brexit-deal', '/']   \n",
       "11361                                                                                                                                                                                                                                                                          ['/browse/working/finding-job', '/']   \n",
       "11399                                                                                                                                                                                   ['/government/publications/data-protection-act-dpa-information-hm-revenue-and-customs-hold-about-you', '/money/income-tax']   \n",
       "11425                                                                                                                                                                                                                                   ['/government/organisations/uk-border-agency', '/government/organisations']   \n",
       "11463                                                                                                                                                                                                                             ['/contact-hmrc', '/topic/dealing-with-hmrc/complaints-appeals', '/contact-hmrc']   \n",
       "...                                                                                                                                                                                                                                                                                                             ...   \n",
       "2032789                                                                                                                                                                                                    ['/maximum-weekly-working-hours', '/browse/employing-people/contracts', '/maximum-weekly-working-hours']   \n",
       "2032867                                                                                                                                                                                       ['/tax-overpayments-and-underpayments', '/', '/personal-tax-account', '/personal-tax-account/sign-in/prove-identity']   \n",
       "2032891                                                                                                                                                                                                        ['/government/organisations/hm-revenue-customs', '/topic/dealing-with-hmrc/tax-agent-guidance', '/']   \n",
       "2032960                                                                                                                 ['/renew-adult-passport', '/browse/abroad', '/browse/abroad/passports', '/get-a-child-passport', '/get-a-child-passport/renew-a-child-passport', '/apply-renew-passport', '/passport-fees']   \n",
       "2033017                                                                                                                                                                                                                        ['/take-on-an-apprentice', '/browse/education/find-course', '/apply-apprenticeship']   \n",
       "2033026                                                                                                                                                                                                              ['/overseas-passports', '/browse/abroad', '/browse/abroad/passports', '/apply-renew-passport']   \n",
       "2033087                                                                                                                                                                                                                                                                      ['/pay-self-assessment-tax-bill', '/']   \n",
       "2033213                                                                                                  ['/jobsearch', '/browse/benefits/universal-credit', '/universal-credit', '/sign-in-universal-credit', '/jobsearch', '/browse/benefits/universal-credit', '/universal-credit', '/sign-in-universal-credit']   \n",
       "2033869                                                                                                                                                                                                                                                            ['/government/organisations/land-registry', '/']   \n",
       "2033876                                                                                                                                                                                                                                              ['/driving-nongb-licence', '/browse/driving/driving-licences']   \n",
       "2034004                                                        ['/government/organisations/hm-revenue-customs', '/', '/government/organisations/hm-revenue-customs', '/log-in-register-hmrc-online-services', '/log-in-register-hmrc-online-services/problems-signing-in', '/log-in-register-hmrc-online-services']   \n",
       "2034006                                                                                                                                                                                      ['/done/check-vehicle-tax', '/', '/browse/driving', '/browse/driving/vehicle-tax-mot-insurance', '/check-vehicle-tax']   \n",
       "2034014                                                                                                                                                                                                                                                                      ['/pay-dartford-crossing-charge', '/']   \n",
       "2034047                                                                                ['/child-car-seats-the-rules/when-a-child-can-travel-without-a-car-seat', '/browse/driving/highway-code-road-safety', '/child-car-seats-the-rules', '/child-car-seats-the-rules/when-a-child-can-travel-without-a-car-seat']   \n",
       "2034096                                                                                                                                                                                                                                    ['/foreign-travel-advice', '/browse/abroad', '/browse/abroad/passports']   \n",
       "2034164                                                                                                                                                                                                                         ['/government/organisations/department-for-work-pensions', '/browse/benefits', '/']   \n",
       "2034175                                                                                                                                                           ['/vehicle-tax', '/', '/browse/benefits', '/browse/benefits/jobseekers-allowance', '/jobseekers-allowance', '/jobseekers-allowance/how-to-claim']   \n",
       "2034229                                                                                                                                            ['/contact-the-dvla', '/browse/driving/number-plate', '/personalised-vehicle-registration-numbers', '/personalised-vehicle-registration-numbers/keep-or-assign']   \n",
       "2034370  ['/government/organisations/department-of-energy-climate-change', '/government/organisations/department-for-business-energy-and-industrial-strategy', '/government/organisations/department-of-energy-climate-change', '/government/organisations/department-for-business-energy-and-industrial-strategy']   \n",
       "2034571                                                                                                                                                                   ['/vehicle-tax', '/calculate-vehicle-tax-rates', '/vehicle-tax-rate-tables', '/browse/driving/vehicle-tax-mot-insurance', '/vehicle-tax']   \n",
       "2034623                                                                                                                                                                                                                   ['/check-mot-history', '/browse/driving/vehicle-tax-mot-insurance', '/check-vehicle-tax']   \n",
       "2034759                                                                                                                                                                                                                                                    ['/topic/further-education-skills/apprenticeships', '/']   \n",
       "2034838                                                                                                                               ['/topic/personal-tax/self-assessment', '/self-assessment-tax-returns', '/browse/tax/self-assessment', '/self-assessment-tax-returns', '/topic/personal-tax/self-assessment']   \n",
       "2034924                                                                                                                                                                                                         ['/crime-justice-and-law/policing', '/government/publications/police-innovation-fund-bidding-form']   \n",
       "2035057                                                                                                                                                                                                                                       ['/child-benefit', '/browse/benefits/child', '/child-benefit-number']   \n",
       "2035087                                                                                                                                                                                          ['/', '/browse/visas-immigration', '/browse/visas-immigration/tourist-short-stay-visas', '/standard-visitor-visa']   \n",
       "2035088                                                                                              ['/government/publications/apply-for-a-uk-visa-in-china.zh', '/', '/browse/visas-immigration', '/browse/visas-immigration/tourist-short-stay-visas', '/standard-visitor-visa', '/standard-visitor-visa/apply']   \n",
       "2035288                                                                                                                                                                                     ['/child-tax-credit', '/child-tax-credit/already-claiming', '/browse/benefits/tax-credits', '/manage-your-tax-credits']   \n",
       "2035421                                                                                                                                                                                                          ['/vehicle-tax', '/browse/driving/vehicle-tax-mot-insurance', '/check-mot-status', '/vehicle-tax']   \n",
       "2035438                                                                                                                                            ['/government/publications/rates-of-vehicle-tax-v149', '/transport/vehicle-tax', '/government/publications/rates-of-vehicle-tax-v149', '/transport/vehicle-tax']   \n",
       "\n",
       "                                                                                                                                                                                                                                                                                              Page_Seq_NL  \\\n",
       "3304                                                                                                                                                                                                                                                           /money/business-tax-ir35-employment-status   \n",
       "3749                                                                                                                                                                                                                                                                     /vehicle-exempt-from-vehicle-tax   \n",
       "5773                                                                                                                                                                                                                                                                                                    /   \n",
       "8988                                                                                                                                                                                                                                                                                          /cymraeg>>/   \n",
       "9002                                                                                                                                                                                                                                                  /national-insurance>>/browse/tax/national-insurance   \n",
       "9079                                                                                                                                                                                                                         /housing-benefit>>/browse/housing-local-services/council-housing-association   \n",
       "9116                                                                                                                                                                                                       /foster-carers/help-with-the-cost-of-fostering>>/browse/births-deaths-marriages/child-adoption   \n",
       "9301                                                                                                                                                                                                                                                                          /browse/business/setting-up   \n",
       "9315                                                                                                                                                                                                                                                         /settle-in-the-uk>>/browse/visas-immigration   \n",
       "9326                                                                                                                                                                                                                                                                              /write-business-plan>>/   \n",
       "9345                                                                                                                                                                                                                    /government/organisations/department-for-work-pensions>>/government/organisations   \n",
       "9379                                                                                                                                                                                                                                                   /bereavement-payment>>/browse/benefits/bereavement   \n",
       "9453                                                                                                                                                                                                                                   /child-benefit/how-to-claim>>/browse/births-deaths-marriages/child   \n",
       "9632                                                                                                                                                                      /government/statistics/secondary-school-performance-tables-in-england-2018-provisional>>/education/pupil-performance-in-schools   \n",
       "9824                                                                                                                                                                                                                                    /caring-for-pets>>/browse/housing-local-services/noise-neighbours   \n",
       "9958                                                                                                                                                                                                                                     /check-national-insurance-record>>/browse/tax/national-insurance   \n",
       "10003                                                                                                                                                                                                                                                /browse/citizenship/citizenship>>/browse/citizenship   \n",
       "10022                                                                                                                                                                                                                                                                    /get-proof-employment-history>>/   \n",
       "10296                                                                                                                                                                                                                  /pay-dartford-crossing-charge/charges-fines>>/browse/driving/driving-uk-and-abroad   \n",
       "10354                                                                                                                                                                                                       /government/organisations/prime-ministers-office-10-downing-street>>/government/organisations   \n",
       "10702                                                                                                                                                                                                                                                                            /jobseekers-allowance>>/   \n",
       "10732                                                                                                                                                                                                                    /settled-status-eu-citizens-families>>/browse/visas-immigration/settle-in-the-uk   \n",
       "11002                                                                                                                                                                                                                      /request-information-from-dvla>>/browse/driving/vehicle-and-driver-information   \n",
       "11141                                                                                                                                                                                                                         /free-school-transport>>/browse/childcare-parenting/financial-help-children   \n",
       "11265                                                                                                                                                                                                                                                                         /vat-rates>>/browse/tax/vat   \n",
       "11282                                                                                                                                       /government/publications/travelling-to-the-eu-with-a-uk-passport-if-theres-no-brexit-deal/travelling-to-the-eu-with-a-uk-passport-if-theres-no-brexit-deal>>/   \n",
       "11361                                                                                                                                                                                                                                                                      /browse/working/finding-job>>/   \n",
       "11399                                                                                                                                                                               /government/publications/data-protection-act-dpa-information-hm-revenue-and-customs-hold-about-you>>/money/income-tax   \n",
       "11425                                                                                                                                                                                                                               /government/organisations/uk-border-agency>>/government/organisations   \n",
       "11463                                                                                                                                                                                                                           /contact-hmrc>>/topic/dealing-with-hmrc/complaints-appeals>>/contact-hmrc   \n",
       "...                                                                                                                                                                                                                                                                                                   ...   \n",
       "2032789                                                                                                                                                                                                  /maximum-weekly-working-hours>>/browse/employing-people/contracts>>/maximum-weekly-working-hours   \n",
       "2032867                                                                                                                                                                                       /tax-overpayments-and-underpayments>>/>>/personal-tax-account>>/personal-tax-account/sign-in/prove-identity   \n",
       "2032891                                                                                                                                                                                                      /government/organisations/hm-revenue-customs>>/topic/dealing-with-hmrc/tax-agent-guidance>>/   \n",
       "2032960                                                                                                                       /renew-adult-passport>>/browse/abroad>>/browse/abroad/passports>>/get-a-child-passport>>/get-a-child-passport/renew-a-child-passport>>/apply-renew-passport>>/passport-fees   \n",
       "2033017                                                                                                                                                                                                                      /take-on-an-apprentice>>/browse/education/find-course>>/apply-apprenticeship   \n",
       "2033026                                                                                                                                                                                                              /overseas-passports>>/browse/abroad>>/browse/abroad/passports>>/apply-renew-passport   \n",
       "2033087                                                                                                                                                                                                                                                                  /pay-self-assessment-tax-bill>>/   \n",
       "2033213                                                                                                          /jobsearch>>/browse/benefits/universal-credit>>/universal-credit>>/sign-in-universal-credit>>/jobsearch>>/browse/benefits/universal-credit>>/universal-credit>>/sign-in-universal-credit   \n",
       "2033869                                                                                                                                                                                                                                                        /government/organisations/land-registry>>/   \n",
       "2033876                                                                                                                                                                                                                                          /driving-nongb-licence>>/browse/driving/driving-licences   \n",
       "2034004                                                            /government/organisations/hm-revenue-customs>>/>>/government/organisations/hm-revenue-customs>>/log-in-register-hmrc-online-services>>/log-in-register-hmrc-online-services/problems-signing-in>>/log-in-register-hmrc-online-services   \n",
       "2034006                                                                                                                                                                                        /done/check-vehicle-tax>>/>>/browse/driving>>/browse/driving/vehicle-tax-mot-insurance>>/check-vehicle-tax   \n",
       "2034014                                                                                                                                                                                                                                                                  /pay-dartford-crossing-charge>>/   \n",
       "2034047                                                                                /child-car-seats-the-rules/when-a-child-can-travel-without-a-car-seat>>/browse/driving/highway-code-road-safety>>/child-car-seats-the-rules>>/child-car-seats-the-rules/when-a-child-can-travel-without-a-car-seat   \n",
       "2034096                                                                                                                                                                                                                                  /foreign-travel-advice>>/browse/abroad>>/browse/abroad/passports   \n",
       "2034164                                                                                                                                                                                                                       /government/organisations/department-for-work-pensions>>/browse/benefits>>/   \n",
       "2034175                                                                                                                                                               /vehicle-tax>>/>>/browse/benefits>>/browse/benefits/jobseekers-allowance>>/jobseekers-allowance>>/jobseekers-allowance/how-to-claim   \n",
       "2034229                                                                                                                                            /contact-the-dvla>>/browse/driving/number-plate>>/personalised-vehicle-registration-numbers>>/personalised-vehicle-registration-numbers/keep-or-assign   \n",
       "2034370  /government/organisations/department-of-energy-climate-change>>/government/organisations/department-for-business-energy-and-industrial-strategy>>/government/organisations/department-of-energy-climate-change>>/government/organisations/department-for-business-energy-and-industrial-strategy   \n",
       "2034571                                                                                                                                                                     /vehicle-tax>>/calculate-vehicle-tax-rates>>/vehicle-tax-rate-tables>>/browse/driving/vehicle-tax-mot-insurance>>/vehicle-tax   \n",
       "2034623                                                                                                                                                                                                                 /check-mot-history>>/browse/driving/vehicle-tax-mot-insurance>>/check-vehicle-tax   \n",
       "2034759                                                                                                                                                                                                                                                /topic/further-education-skills/apprenticeships>>/   \n",
       "2034838                                                                                                                                 /topic/personal-tax/self-assessment>>/self-assessment-tax-returns>>/browse/tax/self-assessment>>/self-assessment-tax-returns>>/topic/personal-tax/self-assessment   \n",
       "2034924                                                                                                                                                                                                     /crime-justice-and-law/policing>>/government/publications/police-innovation-fund-bidding-form   \n",
       "2035057                                                                                                                                                                                                                                     /child-benefit>>/browse/benefits/child>>/child-benefit-number   \n",
       "2035087                                                                                                                                                                                          />>/browse/visas-immigration>>/browse/visas-immigration/tourist-short-stay-visas>>/standard-visitor-visa   \n",
       "2035088                                                                                                  /government/publications/apply-for-a-uk-visa-in-china.zh>>/>>/browse/visas-immigration>>/browse/visas-immigration/tourist-short-stay-visas>>/standard-visitor-visa>>/standard-visitor-visa/apply   \n",
       "2035288                                                                                                                                                                                     /child-tax-credit>>/child-tax-credit/already-claiming>>/browse/benefits/tax-credits>>/manage-your-tax-credits   \n",
       "2035421                                                                                                                                                                                                          /vehicle-tax>>/browse/driving/vehicle-tax-mot-insurance>>/check-mot-status>>/vehicle-tax   \n",
       "2035438                                                                                                                                            /government/publications/rates-of-vehicle-tax-v149>>/transport/vehicle-tax>>/government/publications/rates-of-vehicle-tax-v149>>/transport/vehicle-tax   \n",
       "\n",
       "         Occurrences_NL  TabletCount  pageviews  Any_nav_event  \n",
       "3304                4.0            0          1           True  \n",
       "3749            21036.0            0          1           True  \n",
       "5773        327045097.0            0          1           True  \n",
       "8988               10.0            0          2           True  \n",
       "9002               30.0            2          2           True  \n",
       "9079                6.0            0          2           True  \n",
       "9116                4.0            0          2           True  \n",
       "9301             8175.0            0          1           True  \n",
       "9315               16.0            1          2           True  \n",
       "9326               24.0            0          2           True  \n",
       "9345              295.0            0          2           True  \n",
       "9379               20.0            0          2           True  \n",
       "9453                4.0            0          2           True  \n",
       "9632               50.0            1          2           True  \n",
       "9824                6.0            0          2           True  \n",
       "9958               16.0            0          2           True  \n",
       "10003              95.0            0          2           True  \n",
       "10022               4.0            0          2           True  \n",
       "10296               2.0            0          2           True  \n",
       "10354              96.0            1          2           True  \n",
       "10702              39.0            0          2           True  \n",
       "10732              33.0            0          2           True  \n",
       "11002             163.0            0          2           True  \n",
       "11141               4.0            0          2           True  \n",
       "11265              80.0            1          2           True  \n",
       "11282              10.0            1          2           True  \n",
       "11361              80.0            0          2           True  \n",
       "11399              10.0            0          2           True  \n",
       "11425               4.0            0          2           True  \n",
       "11463              42.0            0          3           True  \n",
       "...                 ...          ...        ...            ...  \n",
       "2032789            42.0            0          3           True  \n",
       "2032867            20.0            0          4           True  \n",
       "2032891             9.0            0          3           True  \n",
       "2032960             4.0            0          7           True  \n",
       "2033017             4.0            0          3           True  \n",
       "2033026            36.0            0          4           True  \n",
       "2033087           824.0            0          3           True  \n",
       "2033213             4.0            0          8           True  \n",
       "2033869          2339.0            0          2           True  \n",
       "2033876             4.0            0          2           True  \n",
       "2034004             9.0            0          6           True  \n",
       "2034006          2144.0            0          5           True  \n",
       "2034014         13006.0            0          3           True  \n",
       "2034047             4.0            0          4           True  \n",
       "2034096            10.0            0          3           True  \n",
       "2034164            28.0            0          3           True  \n",
       "2034175            49.0            0          6           True  \n",
       "2034229           161.0            0          4           True  \n",
       "2034370             4.0            0          4           True  \n",
       "2034571             4.0            0          5           True  \n",
       "2034623        186661.0            0          3           True  \n",
       "2034759           201.0            0          2           True  \n",
       "2034838             4.0            0          5           True  \n",
       "2034924             4.0            0          2           True  \n",
       "2035057            10.0            0          3           True  \n",
       "2035087         16895.0            0          4           True  \n",
       "2035088             4.0            0          6           True  \n",
       "2035288           121.0            0          4           True  \n",
       "2035421            46.0            0          4           True  \n",
       "2035438             9.0            0          4           True  \n",
       "\n",
       "[34455 rows x 19 columns]"
      ]
     },
     "execution_count": 106,
     "metadata": {},
     "output_type": "execute_result"
    }
   ],
   "source": [
    "df[df['Any_nav_event'] == True]"
   ]
  },
  {
   "cell_type": "markdown",
   "metadata": {},
   "source": [
    "## Other stuff"
   ]
  },
  {
   "cell_type": "markdown",
   "metadata": {},
   "source": [
    "### total number of pageviews\n",
    "Not sure we're using this in our metrics\n",
    "\n",
    "Should these only include ones that HAD related links on them??\n",
    "\n",
    "If we had col PageSeq_Length we could use that instead"
   ]
  },
  {
   "cell_type": "code",
   "execution_count": null,
   "metadata": {},
   "outputs": [],
   "source": [
    "len(df['Page_List'][26010])"
   ]
  },
  {
   "cell_type": "code",
   "execution_count": 40,
   "metadata": {
    "ExecuteTime": {
     "end_time": "2019-02-08T12:36:02.128252Z",
     "start_time": "2019-02-08T12:36:01.451219Z"
    }
   },
   "outputs": [],
   "source": [
    "df['pageviews'] = df['Page_List'].map(len)"
   ]
  },
  {
   "cell_type": "code",
   "execution_count": null,
   "metadata": {},
   "outputs": [],
   "source": [
    "df['absolute pageviews count'] = df['pageviews'] * df['Occurrences']"
   ]
  },
  {
   "cell_type": "code",
   "execution_count": null,
   "metadata": {},
   "outputs": [],
   "source": [
    "df.head(2)"
   ]
  },
  {
   "cell_type": "code",
   "execution_count": null,
   "metadata": {},
   "outputs": [],
   "source": [
    "# total pageviews\n",
    "df['absolute pageviews count'].sum()"
   ]
  },
  {
   "cell_type": "code",
   "execution_count": null,
   "metadata": {},
   "outputs": [],
   "source": []
  }
 ],
 "metadata": {
  "kernelspec": {
   "display_name": "Python 3",
   "language": "python",
   "name": "python3"
  },
  "language_info": {
   "codemirror_mode": {
    "name": "ipython",
    "version": 3
   },
   "file_extension": ".py",
   "mimetype": "text/x-python",
   "name": "python",
   "nbconvert_exporter": "python",
   "pygments_lexer": "ipython3",
   "version": "3.6.0"
  },
  "toc": {
   "base_numbering": 1,
   "nav_menu": {},
   "number_sections": true,
   "sideBar": true,
   "skip_h1_title": false,
   "title_cell": "Table of Contents",
   "title_sidebar": "Contents",
   "toc_cell": false,
   "toc_position": {
    "height": "507px",
    "left": "159px",
    "top": "110px",
    "width": "165px"
   },
   "toc_section_display": true,
   "toc_window_display": true
  }
 },
 "nbformat": 4,
 "nbformat_minor": 2
}
