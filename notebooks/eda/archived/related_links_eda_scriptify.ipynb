{
 "cells": [
  {
   "cell_type": "code",
   "execution_count": 2,
   "metadata": {},
   "outputs": [],
   "source": [
    "import os \n",
    "import pandas as pd\n",
    "import numpy as np\n",
    "from ast import literal_eval\n",
    "from collections import Counter\n",
    "from operator import itemgetter"
   ]
  },
  {
   "cell_type": "markdown",
   "metadata": {},
   "source": [
    "## 1. Read in data/drop columns to reduce size"
   ]
  },
  {
   "cell_type": "code",
   "execution_count": 56,
   "metadata": {},
   "outputs": [],
   "source": [
    "DATA_DIR = os.getenv(\"DATA_DIR\")\n",
    "REPORTS_DIR = os.getenv(\"REPORTS_DIR\")\n",
    "filename = \"dlo_prelim_meta_standard_with_pageseq_from_29-10_to_04-11-2018.csv.gz\"\n",
    "# filename = \"brexit_taxon_29_04.csv.gz\"\n",
    "# filename = \"reduced_preprocessed_taxon_pageseq_20190114_20190116.csv.gz\"\n",
    "df_file = os.path.join(DATA_DIR, \"processed_journey\", filename)\n",
    "df_reduced_file = os.path.join(DATA_DIR, \"processed_journey\", filename)\n",
    "# df_rel_file = os.path.join(DATA_DIR, \"processed_journey\", \"rel_\"+filename)"
   ]
  },
  {
   "cell_type": "markdown",
   "metadata": {},
   "source": [
    "### Load up unfiltered data: 14-16/01/19, one off run"
   ]
  },
  {
   "cell_type": "markdown",
   "metadata": {},
   "source": [
    "Original dataset shape (5048130, 17)"
   ]
  },
  {
   "cell_type": "code",
   "execution_count": 57,
   "metadata": {},
   "outputs": [],
   "source": [
    "# df = pd.read_csv(df_file, sep=\"\\t\", compression = \"gzip\")\n",
    "# print(df.shape)\n",
    "# df.drop(['Dates', 'Page_List', 'Event_List', 'Taxon_List', 'Taxon_Page_List', 'Page_List_NL'],axis=1,inplace=True)\n",
    "# df.to_csv(df_reduced_file, sep=\"\\t\", compression=\"gzip\", index=False)"
   ]
  },
  {
   "cell_type": "markdown",
   "metadata": {},
   "source": [
    "## 2. User journey analysis"
   ]
  },
  {
   "cell_type": "code",
   "execution_count": 58,
   "metadata": {},
   "outputs": [],
   "source": [
    "# sep=\"\\t\",\n",
    "df = pd.read_csv(df_reduced_file, compression=\"gzip\")"
   ]
  },
  {
   "cell_type": "code",
   "execution_count": 59,
   "metadata": {},
   "outputs": [
    {
     "data": {
      "text/plain": [
       "6537680"
      ]
     },
     "execution_count": 59,
     "metadata": {},
     "output_type": "execute_result"
    }
   ],
   "source": [
    "## Total volume of traffic\n",
    "df.Occurrences.sum()"
   ]
  },
  {
   "cell_type": "code",
   "execution_count": 60,
   "metadata": {},
   "outputs": [],
   "source": [
    "def column_eval(cols):\n",
    "    for column in cols:\n",
    "        if not isinstance(df[column].iloc[0],list):\n",
    "            print(column)\n",
    "            df[column] = df[column].map(literal_eval)"
   ]
  },
  {
   "cell_type": "code",
   "execution_count": 61,
   "metadata": {},
   "outputs": [
    {
     "name": "stdout",
     "output_type": "stream",
     "text": [
      "DeviceCategories\n",
      "Event_cats_agg\n",
      "Event_cat_act_agg\n"
     ]
    }
   ],
   "source": [
    "# 'Page_Event_List', \n",
    "columns = ['DeviceCategories', 'Event_cats_agg', 'Event_cat_act_agg']\n",
    "column_eval(columns)"
   ]
  },
  {
   "cell_type": "markdown",
   "metadata": {},
   "source": [
    "#### For older data cuts that do not include `PageSeq_Length`"
   ]
  },
  {
   "cell_type": "code",
   "execution_count": 105,
   "metadata": {},
   "outputs": [],
   "source": [
    "if \"PageSeq_Length\" not in df.columns:\n",
    "    df['Page_List'] = df['Page_List'].map(literal_eval)\n",
    "    df['PageSeq_Length'] = df['Page_List'].map(len)"
   ]
  },
  {
   "cell_type": "markdown",
   "metadata": {},
   "source": [
    "### 2.1 Out of all journeys, what is the % (volume, sum of Occurrences) of journeys including \"related content\" link clicks?"
   ]
  },
  {
   "cell_type": "code",
   "execution_count": 62,
   "metadata": {},
   "outputs": [],
   "source": [
    "n_rel = df[(df.Sequence.str.contains(\"Related content\")) & (df.Sequence.str.contains(\"relatedLinkClicked\"))].shape[0]"
   ]
  },
  {
   "cell_type": "code",
   "execution_count": 63,
   "metadata": {},
   "outputs": [
    {
     "data": {
      "text/plain": [
       "'5.67% of journeys that contain a \"related link\" click'"
      ]
     },
     "execution_count": 63,
     "metadata": {},
     "output_type": "execute_result"
    }
   ],
   "source": [
    "# 473975\n",
    "\"{}% of journeys that contain a \\\"related link\\\" click\".format(round((n_rel*100)/df.Occurrences.sum(),2))"
   ]
  },
  {
   "cell_type": "markdown",
   "metadata": {},
   "source": [
    "Run this at some point to compare against \"related content\" link-specific dataset. \n",
    "There seems to be an indication that there are no major differences"
   ]
  },
  {
   "cell_type": "markdown",
   "metadata": {},
   "source": [
    "### 2.2 Out of all journeys coming from mobiles vs desktops, what is the % (volume, sum of Occurrences) of journeys including \"related content\" link clicks?"
   ]
  },
  {
   "cell_type": "code",
   "execution_count": 64,
   "metadata": {},
   "outputs": [],
   "source": [
    "def more_device(x,device):\n",
    "    return max(x,key=itemgetter(1))[0]==device \n",
    "def device_count(x,device):\n",
    "    return sum([value for item, value in x if item==device])      "
   ]
  },
  {
   "cell_type": "code",
   "execution_count": 65,
   "metadata": {},
   "outputs": [],
   "source": [
    "df[\"DesktopCount\"] = df['DeviceCategories'].map(lambda x: device_count(x,\"desktop\"))\n",
    "df[\"MobileCount\"] = df['DeviceCategories'].map(lambda x: device_count(x,\"mobile\"))        "
   ]
  },
  {
   "cell_type": "code",
   "execution_count": 66,
   "metadata": {},
   "outputs": [],
   "source": [
    "df[\"TabletCount\"] = df['DeviceCategories'].map(lambda x: device_count(x,\"tablet\"))        "
   ]
  },
  {
   "cell_type": "code",
   "execution_count": 67,
   "metadata": {},
   "outputs": [
    {
     "data": {
      "text/plain": [
       "count    3.788851e+06\n",
       "mean     9.399570e-01\n",
       "std      7.376457e+01\n",
       "min      0.000000e+00\n",
       "25%      0.000000e+00\n",
       "50%      1.000000e+00\n",
       "75%      1.000000e+00\n",
       "max      1.307680e+05\n",
       "Name: DesktopCount, dtype: float64"
      ]
     },
     "execution_count": 67,
     "metadata": {},
     "output_type": "execute_result"
    }
   ],
   "source": [
    "df[\"DesktopCount\"].describe()"
   ]
  },
  {
   "cell_type": "markdown",
   "metadata": {},
   "source": [
    "### 2.3 Traffic volume\n",
    "#### Test implementation"
   ]
  },
  {
   "cell_type": "code",
   "execution_count": 68,
   "metadata": {},
   "outputs": [],
   "source": [
    "related = df[(df.Sequence.str.contains(\"Related content\")) & (df.Sequence.str.contains(\"relatedLinkClicked\"))].iloc[0]"
   ]
  },
  {
   "cell_type": "code",
   "execution_count": 69,
   "metadata": {},
   "outputs": [
    {
     "data": {
      "text/plain": [
       "Sequence                /british-citizenship/after-your-citizenship-ce...\n",
       "Occurrences                                                             1\n",
       "DeviceCategories                                            [(mobile, 1)]\n",
       "Dates                                                   [('20181031', 1)]\n",
       "Page_Event_List         [('/british-citizenship/after-your-citizenship...\n",
       "Page_List               ['/british-citizenship/after-your-citizenship-...\n",
       "PageSequence            /british-citizenship/after-your-citizenship-ce...\n",
       "Event_List              [('PAGE_NULL', 'PAGE_NULL'), ('relatedLinkClic...\n",
       "num_event_cats                                                          2\n",
       "Event_cats_agg                  [(PAGE_NULL, 2), (relatedLinkClicked, 1)]\n",
       "Event_cat_act_agg       [((PAGE_NULL, PAGE_NULL), 2), ((relatedLinkCli...\n",
       "Page_List_NL            ['/british-citizenship/after-your-citizenship-...\n",
       "Page_Seq_NL             /british-citizenship/after-your-citizenship-ce...\n",
       "Page_Seq_Occurrences                                                    3\n",
       "Occurrences_NL                                                          9\n",
       "DesktopCount                                                            0\n",
       "MobileCount                                                             1\n",
       "TabletCount                                                             0\n",
       "Name: 1387, dtype: object"
      ]
     },
     "execution_count": 69,
     "metadata": {},
     "output_type": "execute_result"
    }
   ],
   "source": [
    "related"
   ]
  },
  {
   "cell_type": "code",
   "execution_count": 70,
   "metadata": {},
   "outputs": [],
   "source": [
    "explore = df[~(df.Sequence.str.contains(\"Related content\")) & (df.Sequence.str.contains(\"relatedLinkClicked\"))].iloc[0]"
   ]
  },
  {
   "cell_type": "code",
   "execution_count": 71,
   "metadata": {},
   "outputs": [
    {
     "data": {
      "text/plain": [
       "Sequence                /employment-tribunal-decisions/miss-s-ward-v-d...\n",
       "Occurrences                                                             1\n",
       "DeviceCategories                                            [(mobile, 1)]\n",
       "Dates                                                   [('20181031', 1)]\n",
       "Page_Event_List         [('/employment-tribunal-decisions/miss-s-ward-...\n",
       "Page_List               ['/employment-tribunal-decisions/miss-s-ward-v...\n",
       "PageSequence            /employment-tribunal-decisions/miss-s-ward-v-d...\n",
       "Event_List              [('PAGE_NULL', 'PAGE_NULL'), ('relatedLinkClic...\n",
       "num_event_cats                                                          2\n",
       "Event_cats_agg                  [(PAGE_NULL, 2), (relatedLinkClicked, 1)]\n",
       "Event_cat_act_agg       [((PAGE_NULL, PAGE_NULL), 2), ((relatedLinkCli...\n",
       "Page_List_NL            ['/employment-tribunal-decisions/miss-s-ward-v...\n",
       "Page_Seq_NL             /employment-tribunal-decisions/miss-s-ward-v-d...\n",
       "Page_Seq_Occurrences                                                    1\n",
       "Occurrences_NL                                                          1\n",
       "DesktopCount                                                            0\n",
       "MobileCount                                                             1\n",
       "TabletCount                                                             0\n",
       "Name: 1425, dtype: object"
      ]
     },
     "execution_count": 71,
     "metadata": {},
     "output_type": "execute_result"
    }
   ],
   "source": [
    "explore"
   ]
  },
  {
   "cell_type": "code",
   "execution_count": 72,
   "metadata": {},
   "outputs": [
    {
     "data": {
      "text/plain": [
       "[(('PAGE_NULL', 'PAGE_NULL'), 2), (('relatedLinkClicked', '1'), 1)]"
      ]
     },
     "execution_count": 72,
     "metadata": {},
     "output_type": "execute_result"
    }
   ],
   "source": [
    "explore.Event_cat_act_agg"
   ]
  },
  {
   "cell_type": "code",
   "execution_count": 73,
   "metadata": {},
   "outputs": [],
   "source": [
    "#Compute whether a journey includes a related link click\n",
    "def is_related(x):\n",
    "    return all(cond in x for cond in [\"relatedLinkClicked\",\"Related content\"])"
   ]
  },
  {
   "cell_type": "code",
   "execution_count": 74,
   "metadata": {},
   "outputs": [
    {
     "name": "stdout",
     "output_type": "stream",
     "text": [
      "True\n",
      "False\n",
      "False\n"
     ]
    }
   ],
   "source": [
    "print(is_related(related.Sequence))\n",
    "print(is_related(df.Sequence.iloc[0]))\n",
    "print(is_related(explore))"
   ]
  },
  {
   "cell_type": "code",
   "execution_count": 75,
   "metadata": {},
   "outputs": [],
   "source": [
    "df[\"Has_Related\"] = df[\"Sequence\"].map(is_related)"
   ]
  },
  {
   "cell_type": "code",
   "execution_count": 76,
   "metadata": {},
   "outputs": [
    {
     "data": {
      "text/plain": [
       "452404"
      ]
     },
     "execution_count": 76,
     "metadata": {},
     "output_type": "execute_result"
    }
   ],
   "source": [
    "df[df[\"Has_Related\"]].Occurrences.sum()"
   ]
  },
  {
   "cell_type": "markdown",
   "metadata": {},
   "source": [
    "### 2.4 Journeys per device\n",
    "Counter({'desktop': 256791, 'tablet': 55546, 'mobile': 161638})"
   ]
  },
  {
   "cell_type": "code",
   "execution_count": 135,
   "metadata": {},
   "outputs": [
    {
     "data": {
      "text/html": [
       "<div>\n",
       "<style scoped>\n",
       "    .dataframe tbody tr th:only-of-type {\n",
       "        vertical-align: middle;\n",
       "    }\n",
       "\n",
       "    .dataframe tbody tr th {\n",
       "        vertical-align: top;\n",
       "    }\n",
       "\n",
       "    .dataframe thead th {\n",
       "        text-align: right;\n",
       "    }\n",
       "</style>\n",
       "<table border=\"1\" class=\"dataframe\">\n",
       "  <thead>\n",
       "    <tr style=\"text-align: right;\">\n",
       "      <th></th>\n",
       "      <th>Volume</th>\n",
       "      <th>Percentage</th>\n",
       "      <th>Shape</th>\n",
       "    </tr>\n",
       "  </thead>\n",
       "  <tbody>\n",
       "    <tr>\n",
       "      <th>All</th>\n",
       "      <td>NaN</td>\n",
       "      <td>NaN</td>\n",
       "      <td>NaN</td>\n",
       "    </tr>\n",
       "    <tr>\n",
       "      <th>All_related</th>\n",
       "      <td>NaN</td>\n",
       "      <td>NaN</td>\n",
       "      <td>NaN</td>\n",
       "    </tr>\n",
       "    <tr>\n",
       "      <th>Desktop</th>\n",
       "      <td>NaN</td>\n",
       "      <td>NaN</td>\n",
       "      <td>NaN</td>\n",
       "    </tr>\n",
       "    <tr>\n",
       "      <th>Desktop_rel</th>\n",
       "      <td>NaN</td>\n",
       "      <td>NaN</td>\n",
       "      <td>NaN</td>\n",
       "    </tr>\n",
       "    <tr>\n",
       "      <th>Mobile</th>\n",
       "      <td>NaN</td>\n",
       "      <td>NaN</td>\n",
       "      <td>NaN</td>\n",
       "    </tr>\n",
       "    <tr>\n",
       "      <th>Mobile_rel</th>\n",
       "      <td>NaN</td>\n",
       "      <td>NaN</td>\n",
       "      <td>NaN</td>\n",
       "    </tr>\n",
       "  </tbody>\n",
       "</table>\n",
       "</div>"
      ],
      "text/plain": [
       "            Volume Percentage Shape\n",
       "All            NaN        NaN   NaN\n",
       "All_related    NaN        NaN   NaN\n",
       "Desktop        NaN        NaN   NaN\n",
       "Desktop_rel    NaN        NaN   NaN\n",
       "Mobile         NaN        NaN   NaN\n",
       "Mobile_rel     NaN        NaN   NaN"
      ]
     },
     "execution_count": 135,
     "metadata": {},
     "output_type": "execute_result"
    }
   ],
   "source": [
    "index = [\"All\",\"All_related\",\"Desktop\",\"Desktop_rel\",\"Mobile\",\"Mobile_rel\"]\n",
    "columns = [\"Volume\", \"Percentage\", \"Shape\"]\n",
    "df_stats = pd.DataFrame(index=index,columns=columns)"
   ]
  },
  {
   "cell_type": "markdown",
   "metadata": {},
   "source": [
    "### Compute all volumes "
   ]
  },
  {
   "cell_type": "code",
   "execution_count": 159,
   "metadata": {},
   "outputs": [],
   "source": [
    "def compute_all_stats(df, desktop_journeys, filtering, df_stats):\n",
    "    vol_all = df.Occurrences.sum()\n",
    "    vol_all_related = df[df.Has_Related].Occurrences.sum()\n",
    "    ## Number of journeys coming from desktops\n",
    "    vol_desk = df[\"DesktopCount\"].sum()\n",
    "    ## Number of journeys coming from mobiles\n",
    "    vol_mobile = df[\"MobileCount\"].sum()\n",
    "    ## Number of journeys coming from tablets\n",
    "    vol_tablet = df[\"TabletCount\"].sum()\n",
    "\n",
    "    ## Seperate out desktop and mobile journeys\n",
    "    desktop_journeys = df[df.DesktopCount>0]\n",
    "    mobile_journeys = df[df.MobileCount>0]\n",
    "\n",
    "    desk_rel_journeys = desktop_journeys[desktop_journeys.Has_Related]\n",
    "    mobile_rel_journeys = mobile_journeys[mobile_journeys.Has_Related]\n",
    "\n",
    "    ## Compute number of journeys from specific device that include related links\n",
    "    ## Don't base counting on occurrences, will include excluded device\n",
    "    vol_desk_rel = desktop_journeys[desktop_journeys.Has_Related].DesktopCount.sum()\n",
    "    vol_mobile_rel = mobile_journeys[mobile_journeys.Has_Related].MobileCount.sum()\n",
    "    \n",
    "    vols = [vol_all, vol_all_related,\n",
    "        vol_desk, vol_desk_rel,\n",
    "        vol_mobile, vol_mobile_rel]\n",
    "    \n",
    "    percent_related = round((vol_all_related*100)/vol_all,2)\n",
    "    percent_from_desk = round((vol_desk*100)/df.Occurrences.sum(),2)\n",
    "    percent_from_mobile = round((vol_mobile*100)/df.Occurrences.sum(),2)\n",
    "    percent_from_tablet = round((vol_tablet*100)/df.Occurrences.sum(),2)\n",
    "    percent_from_desk_rel = round((vol_desk_rel*100)/vol_desk,2)\n",
    "    percent_from_mobile_rel = round((vol_mobile_rel*100)/vol_mobile,2)\n",
    "    \n",
    "    percents = [100, percent_related,\n",
    "            percent_from_desk, percent_from_desk_rel,\n",
    "            percent_from_mobile, percent_from_mobile_rel]\n",
    "    \n",
    "    shape_all = df.shape[0]\n",
    "    shape_all_rel = df[df.Has_Related].shape[0]\n",
    "    shape_desk = desktop_journeys.shape[0]\n",
    "    shape_desk_rel = desktop_journeys[desktop_journeys.Has_Related].shape[0]\n",
    "    shape_mobile = mobile_journeys.shape[0]\n",
    "    shape_mobile_rel = mobile_journeys[mobile_journeys.Has_Related].shape[0]\n",
    "   \n",
    "    shapes = [shape_all, shape_all_rel,\n",
    "         shape_desk, shape_desk_rel,\n",
    "         shape_mobile, shape_mobile_rel]\n",
    "    \n",
    "    df_stats[\"Volume\"] = vols\n",
    "    df_stats[\"Percentage\"] = percents\n",
    "    df_stats[\"Shape\"] = shapes\n",
    "    \n",
    "    df_stats.to_csv(os.path.join(REPORTS_DIR,filename.replace(\".csv.gz\",filtering)+\"_stats.csv\"))\n",
    "    \n",
    "    print(\"{}% of journeys come from a desktop\".format(percent_from_desk))\n",
    "    print(\"{}% of journeys come from a mobile\".format(percent_from_mobile))\n",
    "    print(\"{}% of journeys come from a tablet\".format(percent_from_tablet))\n",
    "    print(\"{}% of desktop journeys include a \\\"Related content\\\" click\".format(percent_from_desk_rel))\n",
    "    print(\"{}% of mobile journeys include a \\\"Related content\\\" click\".format(percent_from_mobile_rel))"
   ]
  },
  {
   "cell_type": "code",
   "execution_count": 160,
   "metadata": {},
   "outputs": [
    {
     "name": "stdout",
     "output_type": "stream",
     "text": [
      "54.47% of journeys come from a desktop\n",
      "36.65% of journeys come from a mobile\n",
      "8.88% of journeys come from a tablet\n",
      "6.51% of desktop journeys include a \"Related content\" click\n"
     ]
    },
    {
     "ename": "NameError",
     "evalue": "name 'percent_from_desk_tab' is not defined",
     "output_type": "error",
     "traceback": [
      "\u001b[0;31m---------------------------------------------------------------------------\u001b[0m",
      "\u001b[0;31mNameError\u001b[0m                                 Traceback (most recent call last)",
      "\u001b[0;32m<ipython-input-160-a6852bb13e91>\u001b[0m in \u001b[0;36m<module>\u001b[0;34m\u001b[0m\n\u001b[0;32m----> 1\u001b[0;31m \u001b[0mcompute_all_stats\u001b[0m\u001b[0;34m(\u001b[0m\u001b[0mdf\u001b[0m\u001b[0;34m,\u001b[0m\u001b[0;34m\"\"\u001b[0m\u001b[0;34m,\u001b[0m\u001b[0mdf_stats\u001b[0m\u001b[0;34m)\u001b[0m\u001b[0;34m\u001b[0m\u001b[0m\n\u001b[0m\u001b[1;32m      2\u001b[0m \u001b[0mdf_stats\u001b[0m\u001b[0;34m\u001b[0m\u001b[0m\n",
      "\u001b[0;32m<ipython-input-159-f67c1bcde38b>\u001b[0m in \u001b[0;36mcompute_all_stats\u001b[0;34m(df, filtering, df_stats)\u001b[0m\n\u001b[1;32m     54\u001b[0m     \u001b[0mprint\u001b[0m\u001b[0;34m(\u001b[0m\u001b[0;34m\"{}% of journeys come from a tablet\"\u001b[0m\u001b[0;34m.\u001b[0m\u001b[0mformat\u001b[0m\u001b[0;34m(\u001b[0m\u001b[0mpercent_from_tablet\u001b[0m\u001b[0;34m)\u001b[0m\u001b[0;34m)\u001b[0m\u001b[0;34m\u001b[0m\u001b[0m\n\u001b[1;32m     55\u001b[0m     \u001b[0mprint\u001b[0m\u001b[0;34m(\u001b[0m\u001b[0;34m\"{}% of desktop journeys include a \\\"Related content\\\" click\"\u001b[0m\u001b[0;34m.\u001b[0m\u001b[0mformat\u001b[0m\u001b[0;34m(\u001b[0m\u001b[0mpercent_from_desk_rel\u001b[0m\u001b[0;34m)\u001b[0m\u001b[0;34m)\u001b[0m\u001b[0;34m\u001b[0m\u001b[0m\n\u001b[0;32m---> 56\u001b[0;31m     \u001b[0mprint\u001b[0m\u001b[0;34m(\u001b[0m\u001b[0;34m\"{}% of mobile journeys include a \\\"Related content\\\" click\"\u001b[0m\u001b[0;34m.\u001b[0m\u001b[0mformat\u001b[0m\u001b[0;34m(\u001b[0m\u001b[0mpercent_from_desk_tab\u001b[0m\u001b[0;34m)\u001b[0m\u001b[0;34m)\u001b[0m\u001b[0;34m\u001b[0m\u001b[0m\n\u001b[0m",
      "\u001b[0;31mNameError\u001b[0m: name 'percent_from_desk_tab' is not defined"
     ]
    }
   ],
   "source": [
    "compute_all_stats(df,\"\",df_stats)\n",
    "df_stats"
   ]
  },
  {
   "cell_type": "code",
   "execution_count": 161,
   "metadata": {},
   "outputs": [
    {
     "data": {
      "text/html": [
       "<div>\n",
       "<style scoped>\n",
       "    .dataframe tbody tr th:only-of-type {\n",
       "        vertical-align: middle;\n",
       "    }\n",
       "\n",
       "    .dataframe tbody tr th {\n",
       "        vertical-align: top;\n",
       "    }\n",
       "\n",
       "    .dataframe thead th {\n",
       "        text-align: right;\n",
       "    }\n",
       "</style>\n",
       "<table border=\"1\" class=\"dataframe\">\n",
       "  <thead>\n",
       "    <tr style=\"text-align: right;\">\n",
       "      <th></th>\n",
       "      <th>Volume</th>\n",
       "      <th>Percentage</th>\n",
       "      <th>Shape</th>\n",
       "    </tr>\n",
       "  </thead>\n",
       "  <tbody>\n",
       "    <tr>\n",
       "      <th>All</th>\n",
       "      <td>6537680</td>\n",
       "      <td>100.00</td>\n",
       "      <td>3788851</td>\n",
       "    </tr>\n",
       "    <tr>\n",
       "      <th>All_related</th>\n",
       "      <td>452404</td>\n",
       "      <td>6.92</td>\n",
       "      <td>370366</td>\n",
       "    </tr>\n",
       "    <tr>\n",
       "      <th>Desktop</th>\n",
       "      <td>3561357</td>\n",
       "      <td>54.47</td>\n",
       "      <td>2245236</td>\n",
       "    </tr>\n",
       "    <tr>\n",
       "      <th>Desktop_rel</th>\n",
       "      <td>231793</td>\n",
       "      <td>6.51</td>\n",
       "      <td>191942</td>\n",
       "    </tr>\n",
       "    <tr>\n",
       "      <th>Mobile</th>\n",
       "      <td>2395941</td>\n",
       "      <td>36.65</td>\n",
       "      <td>1318885</td>\n",
       "    </tr>\n",
       "    <tr>\n",
       "      <th>Mobile_rel</th>\n",
       "      <td>162580</td>\n",
       "      <td>6.79</td>\n",
       "      <td>136958</td>\n",
       "    </tr>\n",
       "  </tbody>\n",
       "</table>\n",
       "</div>"
      ],
      "text/plain": [
       "              Volume  Percentage    Shape\n",
       "All          6537680      100.00  3788851\n",
       "All_related   452404        6.92   370366\n",
       "Desktop      3561357       54.47  2245236\n",
       "Desktop_rel   231793        6.51   191942\n",
       "Mobile       2395941       36.65  1318885\n",
       "Mobile_rel    162580        6.79   136958"
      ]
     },
     "execution_count": 161,
     "metadata": {},
     "output_type": "execute_result"
    }
   ],
   "source": [
    "df_stats"
   ]
  },
  {
   "cell_type": "code",
   "execution_count": null,
   "metadata": {},
   "outputs": [],
   "source": [
    "compute_all_stats(df[df.PageSeq_Length>1], \"_dlo\",df_stats)\n",
    "df_stats"
   ]
  },
  {
   "cell_type": "markdown",
   "metadata": {},
   "source": [
    "### 2.5 Chi-squared test\n",
    "Compute observations for a contingency table"
   ]
  },
  {
   "cell_type": "code",
   "execution_count": 84,
   "metadata": {},
   "outputs": [],
   "source": [
    "from scipy import stats"
   ]
  },
  {
   "cell_type": "code",
   "execution_count": 187,
   "metadata": {},
   "outputs": [],
   "source": [
    "vol_desk = df_stats.loc['Desktop','Volume']\n",
    "vol_mobile = df_stats.loc['Mobile','Volume']\n",
    "\n",
    "vol_mobile_rel = df_stats.loc['Mobile_rel','Volume']\n",
    "vol_mobile_no_rel = vol_mobile - vol_mobile_rel\n",
    "\n",
    "vol_desk_rel = df_stats.loc['Desktop_rel','Volume']\n",
    "vol_desk_no_rel = vol_desk - vol_desk_rel"
   ]
  },
  {
   "cell_type": "code",
   "execution_count": 245,
   "metadata": {},
   "outputs": [],
   "source": [
    "def chi2_test(obs):\n",
    "    chi2, p, dof, ex = stats.chi2_contingency(obs)\n",
    "    print(chi2, p, dof, ex)\n",
    "    \n",
    "#     g, p, dof, expctd = stats.chi2_contingency(obs, lambda_=\"log-likelihood\")\n",
    "\n",
    "    with open(os.path.join(REPORTS_DIR, filename.replace(\".csv.gz\",\"\")+\"_chi2.csv\"),\"w\") as f:\n",
    "        f.write(\"chi2,p,dof\\n\")\n",
    "        f.write(\"{},{},{}\".format(chi2, p, dof))"
   ]
  },
  {
   "cell_type": "code",
   "execution_count": 246,
   "metadata": {},
   "outputs": [
    {
     "data": {
      "text/plain": [
       "[[162580, 2233361], [231793, 3329564]]"
      ]
     },
     "execution_count": 246,
     "metadata": {},
     "output_type": "execute_result"
    }
   ],
   "source": [
    "obs = [[vol_mobile_rel, vol_mobile_no_rel], [vol_desk_rel, vol_desk_no_rel]]\n",
    "obs"
   ]
  },
  {
   "cell_type": "code",
   "execution_count": 247,
   "metadata": {},
   "outputs": [
    {
     "name": "stdout",
     "output_type": "stream",
     "text": [
      "177.8466031986581 1.4309008012162503e-40 1 [[ 158611.24288108 2237329.75711892]\n",
      " [ 235761.75711892 3325595.24288108]]\n"
     ]
    }
   ],
   "source": [
    "chi2_test(obs)"
   ]
  },
  {
   "cell_type": "code",
   "execution_count": 248,
   "metadata": {},
   "outputs": [
    {
     "data": {
      "text/html": [
       "<div>\n",
       "<style scoped>\n",
       "    .dataframe tbody tr th:only-of-type {\n",
       "        vertical-align: middle;\n",
       "    }\n",
       "\n",
       "    .dataframe tbody tr th {\n",
       "        vertical-align: top;\n",
       "    }\n",
       "\n",
       "    .dataframe thead th {\n",
       "        text-align: right;\n",
       "    }\n",
       "</style>\n",
       "<table border=\"1\" class=\"dataframe\">\n",
       "  <thead>\n",
       "    <tr style=\"text-align: right;\">\n",
       "      <th></th>\n",
       "      <th>chi2</th>\n",
       "      <th>p</th>\n",
       "      <th>dof</th>\n",
       "    </tr>\n",
       "  </thead>\n",
       "  <tbody>\n",
       "    <tr>\n",
       "      <th>0</th>\n",
       "      <td>177.846603</td>\n",
       "      <td>1.430901e-40</td>\n",
       "      <td>1</td>\n",
       "    </tr>\n",
       "  </tbody>\n",
       "</table>\n",
       "</div>"
      ],
      "text/plain": [
       "         chi2             p  dof\n",
       "0  177.846603  1.430901e-40    1"
      ]
     },
     "execution_count": 248,
     "metadata": {},
     "output_type": "execute_result"
    }
   ],
   "source": [
    "ch = pd.read_csv(os.path.join(REPORTS_DIR, filename.replace(\".csv.gz\",\"\")+\"_chi2.csv\"))\n",
    "ch"
   ]
  },
  {
   "cell_type": "markdown",
   "metadata": {},
   "source": [
    "### 2.6 User journey length"
   ]
  },
  {
   "cell_type": "code",
   "execution_count": 96,
   "metadata": {},
   "outputs": [],
   "source": [
    "def weight_seq_length(page_lengths, occurrences, name):\n",
    "    length_occ = Counter()\n",
    "    for length,occ in zip(page_lengths, occurrences):\n",
    "           length_occ[length]+=occ\n",
    "    data = []\n",
    "    for key,value in length_occ.items():\n",
    "        for i in range(value):\n",
    "            data.append(key)\n",
    "    return pd.Series(data,name=name)"
   ]
  },
  {
   "cell_type": "markdown",
   "metadata": {},
   "source": [
    "#### Everything together"
   ]
  },
  {
   "cell_type": "code",
   "execution_count": 101,
   "metadata": {},
   "outputs": [],
   "source": [
    "def describe_dfs(to_eval):\n",
    "    descriptive = pd.DataFrame()\n",
    "    for length,occ,name in to_eval:\n",
    "        sr = weight_seq_length(length,occ,name).describe().apply(lambda x: format(x, '.3f'))\n",
    "        descriptive[sr.name] = sr\n",
    "    return descriptive"
   ]
  },
  {
   "cell_type": "code",
   "execution_count": 114,
   "metadata": {},
   "outputs": [],
   "source": [
    "list_of_cols = [[df.PageSeq_Length, df.Occurrences, \"All_Journeys\"],\n",
    "                [df[df.Has_Related].PageSeq_Length, df[df.Has_Related].Occurrences, \"All_Journeys_Related\"],\n",
    "                [desktop_journeys.PageSeq_Length, desktop_journeys.DesktopCount,\"All_Desktop\"],\n",
    "                [mobile_journeys.PageSeq_Length, mobile_journeys.MobileCount, \"All_Mobile\"],\n",
    "                [desk_rel_journeys.PageSeq_Length, desk_rel_journeys.DesktopCount, \"Desktop_Related\"],\n",
    "                [mobile_rel_journeys.PageSeq_Length, mobile_rel_journeys.MobileCount, \"Mobile_Related\"]]"
   ]
  },
  {
   "cell_type": "code",
   "execution_count": 122,
   "metadata": {},
   "outputs": [],
   "source": [
    "describe = describe_dfs(list_of_cols)\n",
    "describe.to_csv(os.path.join(REPORTS_DIR,filename.replace(\".csv.gz\",\"\")+\"_pageseq_length_all.csv\"),index=False)"
   ]
  },
  {
   "cell_type": "code",
   "execution_count": 121,
   "metadata": {},
   "outputs": [
    {
     "data": {
      "text/html": [
       "<div>\n",
       "<style scoped>\n",
       "    .dataframe tbody tr th:only-of-type {\n",
       "        vertical-align: middle;\n",
       "    }\n",
       "\n",
       "    .dataframe tbody tr th {\n",
       "        vertical-align: top;\n",
       "    }\n",
       "\n",
       "    .dataframe thead th {\n",
       "        text-align: right;\n",
       "    }\n",
       "</style>\n",
       "<table border=\"1\" class=\"dataframe\">\n",
       "  <thead>\n",
       "    <tr style=\"text-align: right;\">\n",
       "      <th></th>\n",
       "      <th>All_Journeys</th>\n",
       "      <th>All_Journeys_Related</th>\n",
       "      <th>All_Desktop</th>\n",
       "      <th>All_Mobile</th>\n",
       "      <th>Desktop_Related</th>\n",
       "      <th>Mobile_Related</th>\n",
       "    </tr>\n",
       "  </thead>\n",
       "  <tbody>\n",
       "    <tr>\n",
       "      <th>count</th>\n",
       "      <td>6537680.000</td>\n",
       "      <td>452404.000</td>\n",
       "      <td>3561357.000</td>\n",
       "      <td>2395941.000</td>\n",
       "      <td>231793.000</td>\n",
       "      <td>162580.000</td>\n",
       "    </tr>\n",
       "    <tr>\n",
       "      <th>mean</th>\n",
       "      <td>4.823</td>\n",
       "      <td>8.953</td>\n",
       "      <td>4.978</td>\n",
       "      <td>4.548</td>\n",
       "      <td>9.176</td>\n",
       "      <td>8.642</td>\n",
       "    </tr>\n",
       "    <tr>\n",
       "      <th>std</th>\n",
       "      <td>5.950</td>\n",
       "      <td>9.862</td>\n",
       "      <td>6.581</td>\n",
       "      <td>4.908</td>\n",
       "      <td>10.590</td>\n",
       "      <td>8.888</td>\n",
       "    </tr>\n",
       "    <tr>\n",
       "      <th>min</th>\n",
       "      <td>0.000</td>\n",
       "      <td>2.000</td>\n",
       "      <td>0.000</td>\n",
       "      <td>1.000</td>\n",
       "      <td>2.000</td>\n",
       "      <td>2.000</td>\n",
       "    </tr>\n",
       "    <tr>\n",
       "      <th>25%</th>\n",
       "      <td>2.000</td>\n",
       "      <td>3.000</td>\n",
       "      <td>2.000</td>\n",
       "      <td>2.000</td>\n",
       "      <td>3.000</td>\n",
       "      <td>3.000</td>\n",
       "    </tr>\n",
       "    <tr>\n",
       "      <th>50%</th>\n",
       "      <td>3.000</td>\n",
       "      <td>6.000</td>\n",
       "      <td>3.000</td>\n",
       "      <td>3.000</td>\n",
       "      <td>6.000</td>\n",
       "      <td>6.000</td>\n",
       "    </tr>\n",
       "    <tr>\n",
       "      <th>75%</th>\n",
       "      <td>5.000</td>\n",
       "      <td>11.000</td>\n",
       "      <td>5.000</td>\n",
       "      <td>5.000</td>\n",
       "      <td>11.000</td>\n",
       "      <td>11.000</td>\n",
       "    </tr>\n",
       "    <tr>\n",
       "      <th>max</th>\n",
       "      <td>500.000</td>\n",
       "      <td>444.000</td>\n",
       "      <td>500.000</td>\n",
       "      <td>358.000</td>\n",
       "      <td>444.000</td>\n",
       "      <td>318.000</td>\n",
       "    </tr>\n",
       "  </tbody>\n",
       "</table>\n",
       "</div>"
      ],
      "text/plain": [
       "      All_Journeys All_Journeys_Related  All_Desktop   All_Mobile  \\\n",
       "count  6537680.000           452404.000  3561357.000  2395941.000   \n",
       "mean         4.823                8.953        4.978        4.548   \n",
       "std          5.950                9.862        6.581        4.908   \n",
       "min          0.000                2.000        0.000        1.000   \n",
       "25%          2.000                3.000        2.000        2.000   \n",
       "50%          3.000                6.000        3.000        3.000   \n",
       "75%          5.000               11.000        5.000        5.000   \n",
       "max        500.000              444.000      500.000      358.000   \n",
       "\n",
       "      Desktop_Related Mobile_Related  \n",
       "count      231793.000     162580.000  \n",
       "mean            9.176          8.642  \n",
       "std            10.590          8.888  \n",
       "min             2.000          2.000  \n",
       "25%             3.000          3.000  \n",
       "50%             6.000          6.000  \n",
       "75%            11.000         11.000  \n",
       "max           444.000        318.000  "
      ]
     },
     "execution_count": 121,
     "metadata": {},
     "output_type": "execute_result"
    }
   ],
   "source": [
    "describe"
   ]
  },
  {
   "cell_type": "markdown",
   "metadata": {},
   "source": [
    "#### Exclude user journeys of length 1"
   ]
  },
  {
   "cell_type": "code",
   "execution_count": null,
   "metadata": {},
   "outputs": [],
   "source": [
    "df_dlo = df[df.PageSeq_Length > 1]\n",
    "## Seperate out desktop and mobile journeys\n",
    "desktop_journeys_dlo = df_dlo[df_dlo.DesktopCount>0].copy(deep=True)\n",
    "mobile_journeys_dlo =  df_dlo[df_dlo.MobileCount>0].copy(deep=True)\n",
    "desk_rel_journeys_dlo = desktop_journeys_dlo[desktop_journeys_dlo.Has_Related]\n",
    "mobile_rel_journeys_dlo = mobile_journeys_dlo[mobile_journeys_dlo.Has_Related]"
   ]
  },
  {
   "cell_type": "code",
   "execution_count": null,
   "metadata": {},
   "outputs": [],
   "source": [
    "list_of_columns = [[df_dlo.PageSeq_Length, df_dlo.Occurrences, \"All_Journeys\"],\n",
    "                   [df_dlo.PageSeq_Length, df_dlo.Occurrences, \"All_Journeys_Related\"],\n",
    "                   [desktop_journeys_dlo.PageSeq_Length, desktop_journeys_dlo.DesktopCount,\"All_Desktop\"],\n",
    "                   [mobile_journeys_dlo.PageSeq_Length, mobile_journeys_dlo.MobileCount, \"All_Mobile\"],\n",
    "                   [desk_rel_journeys_dlo.PageSeq_Length, desk_rel_journeys_dlo.DesktopCount, \"Desktop_Related\"],\n",
    "                   [mobile_rel_journeys_dlo.PageSeq_Length, mobile_rel_journeys_dlo.MobileCount, \"Mobile_Related\"]]"
   ]
  },
  {
   "cell_type": "code",
   "execution_count": null,
   "metadata": {},
   "outputs": [],
   "source": [
    "describe_dlo = describe_dfs(list_of_cols)\n",
    "describe_dlo.to_csv(os.path.join(REPORTS_DIR,filename.replace(\".csv.gz\",\"\")+\"_pageseq_length_dlo.csv\"),index=False)"
   ]
  },
  {
   "cell_type": "markdown",
   "metadata": {},
   "source": [
    "### 2.7 Event frequencies overall"
   ]
  },
  {
   "cell_type": "code",
   "execution_count": null,
   "metadata": {},
   "outputs": [],
   "source": [
    "df.columns"
   ]
  },
  {
   "cell_type": "code",
   "execution_count": null,
   "metadata": {},
   "outputs": [],
   "source": [
    "event_cats = Counter()\n",
    "for event_agg in df.Event_cats_agg:\n",
    "    for event,value in event_agg:\n",
    "        event_cats[event] += value\n",
    "len(event_cats.keys())"
   ]
  },
  {
   "cell_type": "code",
   "execution_count": null,
   "metadata": {},
   "outputs": [],
   "source": [
    "for key,value in event_cats.items():\n",
    "    print(key,\":\",value)"
   ]
  },
  {
   "cell_type": "code",
   "execution_count": null,
   "metadata": {},
   "outputs": [],
   "source": [
    "# def mem_usage(pandas_obj):\n",
    "#     if isinstance(pandas_obj,pd.DataFrame):\n",
    "#         usage_b = pandas_obj.memory_usage(deep=True).sum()\n",
    "#     else: # we assume if not a df it's a series\n",
    "#         usage_b = pandas_obj.memory_usage(deep=True)\n",
    "#     usage_mb = usage_b / 1024 ** 2 # convert bytes to megabytes\n",
    "#     return \"{:03.2f} MB\".format(usage_mb)\n",
    "\n",
    "# gl_int = df.select_dtypes(include=['int'])\n",
    "# converted_int = gl_int.apply(pd.to_numeric,downcast='unsigned')\n",
    "\n",
    "# print(mem_usage(gl_int))\n",
    "# print(mem_usage(converted_int))\n",
    "\n",
    "# compare_ints = pd.concat([gl_int.dtypes,converted_int.dtypes],axis=1)\n",
    "# compare_ints.columns = ['before','after']\n",
    "# compare_ints.apply(pd.Series.value_counts)"
   ]
  }
 ],
 "metadata": {
  "kernelspec": {
   "display_name": "Python 3",
   "language": "python",
   "name": "python3"
  },
  "language_info": {
   "codemirror_mode": {
    "name": "ipython",
    "version": 3
   },
   "file_extension": ".py",
   "mimetype": "text/x-python",
   "name": "python",
   "nbconvert_exporter": "python",
   "pygments_lexer": "ipython3",
   "version": "3.6.0"
  }
 },
 "nbformat": 4,
 "nbformat_minor": 2
}
