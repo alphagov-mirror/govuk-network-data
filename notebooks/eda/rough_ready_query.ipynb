{
 "cells": [
  {
   "cell_type": "code",
   "execution_count": 7,
   "metadata": {
    "ExecuteTime": {
     "end_time": "2019-02-01T14:09:21.515081Z",
     "start_time": "2019-02-01T14:09:21.512534Z"
    }
   },
   "outputs": [],
   "source": [
    "import pandas as pd\n",
    "import os"
   ]
  },
  {
   "cell_type": "code",
   "execution_count": 8,
   "metadata": {
    "ExecuteTime": {
     "end_time": "2019-02-01T14:09:21.812098Z",
     "start_time": "2019-02-01T14:09:21.808516Z"
    }
   },
   "outputs": [],
   "source": [
    "ProjectID = 'govuk-bigquery-analytics'\n",
    "KEY_DIR = os.getenv(\"BQ_KEY_DIR\")\n",
    "key_file_path = os.path.join(KEY_DIR, os.listdir(KEY_DIR)[0])"
   ]
  },
  {
   "cell_type": "code",
   "execution_count": 9,
   "metadata": {
    "ExecuteTime": {
     "end_time": "2019-02-01T14:09:23.771823Z",
     "start_time": "2019-02-01T14:09:23.768975Z"
    }
   },
   "outputs": [],
   "source": [
    "QUERY = \"\"\"SELECT\n",
    "  DISTINCT \n",
    "    (\n",
    "  SELECT\n",
    "    value\n",
    "  FROM\n",
    "    hits.customDimensions\n",
    "  WHERE\n",
    "    index=4) AS content_id,\n",
    "    hits.page.pagePath, \n",
    "  (\n",
    "  SELECT\n",
    "    value\n",
    "  FROM\n",
    "    hits.customDimensions\n",
    "  WHERE\n",
    "    index=2) AS document_type\n",
    "FROM\n",
    "  `govuk-bigquery-analytics.87773428.ga_sessions_*` AS sessions\n",
    "CROSS JOIN\n",
    "  UNNEST(sessions.hits) AS hits\n",
    " WHERE _TABLE_SUFFIX BETWEEN '20190124'\n",
    " AND '20190127'\n",
    "ORDER BY\n",
    "  2\"\"\""
   ]
  },
  {
   "cell_type": "code",
   "execution_count": 10,
   "metadata": {
    "ExecuteTime": {
     "end_time": "2019-02-01T14:11:07.831937Z",
     "start_time": "2019-02-01T14:09:24.040649Z"
    }
   },
   "outputs": [],
   "source": [
    "df_in = pd.io.gbq.read_gbq(QUERY,\n",
    "                           project_id=ProjectID,\n",
    "                           reauth=False,\n",
    "                           # verbose=True,\n",
    "                           private_key=key_file_path,\n",
    "                           dialect='standard')"
   ]
  },
  {
   "cell_type": "code",
   "execution_count": 13,
   "metadata": {
    "ExecuteTime": {
     "end_time": "2019-02-01T14:13:24.451366Z",
     "start_time": "2019-02-01T14:13:15.027452Z"
    }
   },
   "outputs": [],
   "source": [
    "df_in.to_csv('../../data/raw_bq_extract/document_types.csv.gz', index=False, compression='gzip')"
   ]
  },
  {
   "cell_type": "code",
   "execution_count": null,
   "metadata": {},
   "outputs": [],
   "source": []
  }
 ],
 "metadata": {
  "kernelspec": {
   "display_name": "Python 3",
   "language": "python",
   "name": "python3"
  },
  "language_info": {
   "codemirror_mode": {
    "name": "ipython",
    "version": 3
   },
   "file_extension": ".py",
   "mimetype": "text/x-python",
   "name": "python",
   "nbconvert_exporter": "python",
   "pygments_lexer": "ipython3",
   "version": "3.6.0"
  },
  "toc": {
   "base_numbering": 1,
   "nav_menu": {},
   "number_sections": true,
   "sideBar": true,
   "skip_h1_title": false,
   "title_cell": "Table of Contents",
   "title_sidebar": "Contents",
   "toc_cell": false,
   "toc_position": {},
   "toc_section_display": true,
   "toc_window_display": false
  }
 },
 "nbformat": 4,
 "nbformat_minor": 2
}
